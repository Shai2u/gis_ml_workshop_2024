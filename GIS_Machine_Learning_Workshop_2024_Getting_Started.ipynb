{
  "nbformat": 4,
  "nbformat_minor": 0,
  "metadata": {
    "colab": {
      "provenance": [],
      "toc_visible": true,
      "authorship_tag": "ABX9TyMrXKgfuShw+++bn+iqv7NY",
      "include_colab_link": true
    },
    "kernelspec": {
      "name": "python3",
      "display_name": "Python 3"
    },
    "language_info": {
      "name": "python"
    }
  },
  "cells": [
    {
      "cell_type": "markdown",
      "metadata": {
        "id": "view-in-github",
        "colab_type": "text"
      },
      "source": [
        "<a href=\"https://colab.research.google.com/github/Shai2u/gis_ml_workshop_2024/blob/main/GIS_Machine_Learning_Workshop_2024_1_Getting_Started.ipynb\" target=\"_parent\"><img src=\"https://colab.research.google.com/assets/colab-badge.svg\" alt=\"Open In Colab\"/></a>"
      ]
    },
    {
      "cell_type": "markdown",
      "source": [
        "# GIS Machine Learning Workshop 2024\n",
        "\n",
        "## 1. Getting Started\n",
        "\n",
        "\n",
        "*   Setting up Kaggle\n",
        "*   Setting up github\n",
        "*   Setting up colab (you can use any environment you wnat)\n"
      ],
      "metadata": {
        "id": "BuUDe20VMDYd"
      }
    },
    {
      "cell_type": "markdown",
      "source": [
        "## Setting up Kaggle\n",
        "based on [DigitalSreeni lessons](https://www.youtube.com/watch?v=yEXkEUqK52Q)"
      ],
      "metadata": {
        "id": "A2FvIInpMWko"
      }
    },
    {
      "cell_type": "markdown",
      "source": [
        "1. Open a Kaggle account and download the json credintials.\n",
        "\n",
        "![Step 1](https://raw.githubusercontent.com/Shai2u/gis_ml_workshop_2024/main/images/step_1.png?token=GHSAT0AAAAAACLBVJ4KVJFID56AMTPPJCEQZLO5FRA)\n",
        "\n",
        "Go to your settings\n",
        "\n",
        "![Step 2](https://raw.githubusercontent.com/Shai2u/gis_ml_workshop_2024/main/images/step_2.png?token=GHSAT0AAAAAACLBVJ4LNZKVWHHVXLKUYYWAZLO5GVA)\n",
        "\n",
        "![Step 3](https://raw.githubusercontent.com/Shai2u/gis_ml_workshop_2024/main/images/step_3.png?token=GHSAT0AAAAAACLBVJ4LCPL7WV6WG3YYYSZ6ZLO5HMA)\n",
        "\n",
        "Create new token and download kaggle.json file\n"
      ],
      "metadata": {
        "id": "YEMuXqNdOE0M"
      }
    },
    {
      "cell_type": "markdown",
      "source": [
        "2. Add  kaggle.json to colab"
      ],
      "metadata": {
        "id": "RpPDT1_zPjdS"
      }
    },
    {
      "cell_type": "code",
      "source": [
        "from google.colab import drive\n",
        "drive.mount('/content/drive')"
      ],
      "metadata": {
        "colab": {
          "base_uri": "https://localhost:8080/"
        },
        "id": "HrUP_4QdMhI1",
        "outputId": "3141d641-c310-4d96-912b-11cb030a02bd"
      },
      "execution_count": 1,
      "outputs": [
        {
          "output_type": "stream",
          "name": "stdout",
          "text": [
            "Drive already mounted at /content/drive; to attempt to forcibly remount, call drive.mount(\"/content/drive\", force_remount=True).\n"
          ]
        }
      ]
    },
    {
      "cell_type": "markdown",
      "source": [
        "Make a directory for kaggle at the temporary instance location on Colab drive.\n",
        "Download your kaggle API key (.json file). You can do this by going to your kaggle account page and clicking 'Create new API token' under the API section."
      ],
      "metadata": {
        "id": "CxzlEe5vNuWC"
      }
    },
    {
      "cell_type": "code",
      "source": [
        "! mkdir ~/.kaggle"
      ],
      "metadata": {
        "id": "AD5UnkSiNT6C"
      },
      "execution_count": 17,
      "outputs": []
    },
    {
      "cell_type": "code",
      "source": [
        "!cp /content/drive/MyDrive/Credenitals/kaggle_API_credentials/kaggle.json ~/.kaggle/kaggle.json"
      ],
      "metadata": {
        "id": "93zrefQ9N6XQ"
      },
      "execution_count": 18,
      "outputs": []
    },
    {
      "cell_type": "markdown",
      "source": [
        "Change the file permissions to read/write to the owner only"
      ],
      "metadata": {
        "id": "4PmcBY-nTcDQ"
      }
    },
    {
      "cell_type": "code",
      "source": [
        "! chmod 600 ~/.kaggle/kaggle.json"
      ],
      "metadata": {
        "id": "z967hLo4TGVy"
      },
      "execution_count": 19,
      "outputs": []
    },
    {
      "cell_type": "markdown",
      "source": [
        "Test downloaidng data"
      ],
      "metadata": {
        "id": "YpdLdnJTUkLs"
      }
    },
    {
      "cell_type": "code",
      "source": [
        "import os\n",
        "from pathlib import Path\n",
        "path = Path('titanic')\n",
        "import zipfile,kaggle\n",
        "\n",
        "kaggle.api.competition_download_cli(str(path))\n",
        "zipfile.ZipFile(f'{path}.zip').extractall(path)"
      ],
      "metadata": {
        "colab": {
          "base_uri": "https://localhost:8080/"
        },
        "id": "y6lOATWMT-wY",
        "outputId": "9ee8fda9-f2de-435b-b801-075e3005c676"
      },
      "execution_count": 20,
      "outputs": [
        {
          "output_type": "stream",
          "name": "stdout",
          "text": [
            "Downloading titanic.zip to /content\n"
          ]
        },
        {
          "output_type": "stream",
          "name": "stderr",
          "text": [
            "100%|██████████| 34.1k/34.1k [00:00<00:00, 32.1MB/s]"
          ]
        },
        {
          "output_type": "stream",
          "name": "stdout",
          "text": [
            "\n"
          ]
        },
        {
          "output_type": "stream",
          "name": "stderr",
          "text": [
            "\n"
          ]
        }
      ]
    },
    {
      "cell_type": "markdown",
      "source": [
        "## Setting up Github account"
      ],
      "metadata": {
        "id": "j51NjF0XYIjd"
      }
    },
    {
      "cell_type": "code",
      "source": [],
      "metadata": {
        "id": "zwlS5GGjYKx7"
      },
      "execution_count": null,
      "outputs": []
    }
  ]
}