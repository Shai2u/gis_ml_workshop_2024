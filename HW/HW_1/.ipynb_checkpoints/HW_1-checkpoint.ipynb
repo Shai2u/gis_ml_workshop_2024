{
 "cells": [
  {
   "cell_type": "markdown",
   "metadata": {},
   "source": [
    "<img src='../../images/course_logo_2024.jpg'/>"
   ]
  },
  {
   "cell_type": "markdown",
   "metadata": {},
   "source": [
    "<div dir=\"rtl\">\n",
    "    <h1 style=\"text-align: center;\"><u> תרגיל בית 1 - סדנה פיתוח בממ״ג </u></h1>\n",
    "    <h1 style=\"text-align: center;\"><u>ניקיון חקירת ניתונים, בניית מודל ברגריסה לינארית</u></h1>\n",
    "    <h1 style=\"text-align: center;\"><u>HW 1 - Data cleaning, exploration, Linear regression model</u></h1>\n",
    "</div>"
   ]
  },
  {
   "cell_type": "markdown",
   "metadata": {},
   "source": [
    "# Homework outline\n",
    "1. Data cleaning (25 points)\n",
    "2. Data exploration (25 points + 5 points bonus)\n",
    "3. Linear regression (30 points)\n",
    "4. Examining the model (20 points)\n",
    "5. Plotting the results on the map (5 points vonus)\n"
   ]
  },
  {
   "cell_type": "markdown",
   "metadata": {
    "jp-MarkdownHeadingCollapsed": true
   },
   "source": [
    "# Homework objective\n",
    "The objective of this exercise is to apply what we have learned in the last three weeks. That is to familiarize yourself with fundamental data science techniques, including data cleaning and exploration. Afterwards, you will apply Linear Regression, build a model for prediction, and tune the model using cost function and gradient descent. Finally, as a bonus, you will have the opportunity to explore and learn by yourself geographic libraries that were not covered in the exercise."
   ]
  },
  {
   "cell_type": "markdown",
   "metadata": {},
   "source": [
    "# 1 Data Cleaning (25 Points)\n",
    "\n",
    "You are given housing purchase deals in northen Tel Aviv area, the data was brought to you not cleaned, your job is to use Pandas library to cleanup the data:\n",
    "Some points to consider:\n",
    "- Column names should be in english not hebrew\n",
    "- pay attension to the type of the columns\n",
    "- one of the coluns ״סוכ נכס מספר חדרים קומה״ contains multiple pieces of informations (the data was merged to one column accidently), your job is to seperate the column to 3 seperate columns.\n",
    "- After you converted the single column to 3 columns try to see if any further cleaning is needed in those columns, (hint you can use value_counts())\n",
    "- should block parcel subparcel stay one column or seperated?\n",
    "- should date field be string or some other type?\n",
    "- What other cleaning considerations can you think of?\n",
    "- document every step of the process and explain why you perfrom each step.\n",
    "- The name of the file is 'nadlan_data_northen_tlv_govmap.csv' and it is located in the github [HW](https://github.com/Shai2u/gis_ml_workshop_2024/tree/main/HW) folder\n"
   ]
  },
  {
   "cell_type": "markdown",
   "metadata": {},
   "source": [
    "\n",
    "<img src='../../images/nadlan_data_preview.png'/>"
   ]
  },
  {
   "cell_type": "markdown",
   "metadata": {},
   "source": [
    "# 2 Data Exploration (EDA) and enhancements(25 Points + 5 points bonus)\n",
    "After you cleaned the data, it's time to explore the data, exploring, seeing if the variables are correlated to each other. Examining weather the variables can explain (correlate) to the price.\n",
    "\n",
    "Here what is expecrted of you:\n",
    "1. Perform some simple statistical analysis on the different fields\n",
    "2. Plot some of the data, examine if you have outliers or missing information\n",
    "3. If you have outliers what should you do? write down your considerations and perform any actions to modify the data.\n",
    "4. If you have any missing information in your data, what should you do? (fill the data, if so with what? or remove the row?)\n",
    "5. Examine the content of the fields and if needed try to reclass the data and thus maybe making more sense of it? how would you reclass the data? (example of reclass: floors 1-3, floors 4-6, floors 7 +)\n",
    "6. What correlations can you find within the data?\n",
    "7. Can you find correlations (or lack of correlations) between the fields and the price?\n",
    "8. Is it possible to enahnce your data any further by crating new fields based on the existing fields?\n",
    "\n",
    "* Feel free to ask ChatGPT\n",
    "* Use graphing libraries such as Matplotlib, seaborn, plotly (or other libraries)\n",
    "* it is recommened to use interactive widgets to make your exploration intuitive."
   ]
  },
  {
   "cell_type": "markdown",
   "metadata": {},
   "source": [
    "## 2.1 Bonus Using geographic libraries (geopandas and geocoding 5 poitns)\n",
    "\n",
    "This section is a bonus section and includes material that was not taught in class:\n",
    "\n",
    "Your data contains two fields that can be linkged geographicly:\n",
    "1. Block-parcel field\n",
    "2. The address field\n",
    "\n",
    "* You can use geocoding obtain Lat Long to the addresses and thus enhance your data.\n",
    "* you can join block-parcel geographical information to your data and thus extracting X,Y (Israel coordinate system) to your data or obtaining other information that can be linked to the block parcel\n",
    "* you can attach other information such as statistical areas\n",
    "* you can download amentities (Restaurant shops, schools clincs) using Open Streetmap data, you can use Python to extract this information nearby.\n",
    "\n",
    "* Feel free to ask ChatGPT for help\n",
    "\n",
    "* you can downalod block parcels from [data gov](https://data.gov.il/dataset/shape)"
   ]
  },
  {
   "cell_type": "markdown",
   "metadata": {},
   "source": [
    "# 3. Linear regression (30 points)\n",
    "After we have clenaed, explroed and enhanced our data, it's time to choose and build a prediciton model:\n",
    "1. What model would you choose and why? remember with lienar regression you can use simple linear line (one varible), multiple variables, or polynomial functions. write down what model you have chosen and why do you think it is the right model.\n",
    "2. Using what we learned in the class construct a cost-function and a gradient decent function.\n",
    "3. Choose inital parameters and perform number of iterations and try to minizmie the cost funciton, with the help of the gradient decent.<br/>\n",
    "  3.1. How many iterations would you run? <br/>\n",
    "  3.2. what would be the alpha rate?"
   ]
  },
  {
   "cell_type": "markdown",
   "metadata": {},
   "source": [
    "# 4. Examining the model (20 points)\n",
    "\n",
    "Explain the quality and performance of the model, explain what messures did you use."
   ]
  },
  {
   "cell_type": "markdown",
   "metadata": {},
   "source": [
    "# 5. Plotting the results on the map (5 poitns bonus)\n",
    "\n",
    "After you were able to predict the price of the model, it is time to plot the data points on the map:\n",
    "Explore geopandas interactive mapping tool https://geopandas.org/en/stable/docs/user_guide/interactive_mapping.html\n",
    "* Try to come up with a visualisation that links the one of the parametes of the data to it's price"
   ]
  },
  {
   "cell_type": "markdown",
   "metadata": {},
   "source": [
    "## Comments\n",
    "- Delivery Date 1/3/2024\n",
    "- Task submition can be in pairs however we recommended trying to submit induvidually\n",
    "- The work needs to be submitted in Jupyter Notebook (can be sent by e-amil, colab, github)\n",
    "- If extra files need to be submitted send them by e-mail with a zip file attached\n",
    "- Each of the tasks should be followed by some documenation expressing your thought process and conclusions.\n",
    "- If you had any issues or difficulties expalin how you overcome thos challanges, did you use ChatGPT? did you look up other sources?\n",
    "- Extra 5 points will be given if the code is written with a consisted coding style or coding standard (see next section).\n",
    "- Among data scientist writing in english is preffered.\n",
    "\n",
    "## Coding standard points to follow for obtaining the bonus\n",
    "1. **General formatting**: In general try to apply a unified coding style, you can adopt **PEP 8** Recommendations. Pep 8 is a well known python style, or you can come up with your own style just stay consistent with the following bulletins\n",
    "2. **Variable names**: PEP 8 Style (or your own style): function names: **'snake_case'**, constant: **'ALL_UPPERCASE'**, variables: **'descriptive_snake_case'**\n",
    "3. **Comments**:  Add comments above your code that add meaning. Think what would you write if you would come back to the code in one month and you don't have time to review all the code.\n",
    "4. **DocString**: Add description to the methods you write, this is different than writing a code, because docString can appear as code hints in your IDE program. I recommend to adapt the [numpy](https://sphinxcontrib-napoleon.readthedocs.io/en/latest/example_numpy.html) codestring standard\n",
    "5. **Spacing and blank lines**: These tips are more general to make your code look preattier. Try to seperate logical parts of the code withe blank lines, try to add spaces within the line so the code won't loook to densed.\n",
    "\n",
    "In general for each of thses points you can ask ChatGPT to help you with your coding style or to just rewrite the code"
   ]
  },
  {
   "cell_type": "code",
   "execution_count": null,
   "metadata": {},
   "outputs": [],
   "source": []
  }
 ],
 "metadata": {
  "kernelspec": {
   "display_name": "Python fastai",
   "language": "python",
   "name": "fastai"
  },
  "language_info": {
   "codemirror_mode": {
    "name": "ipython",
    "version": 3
   },
   "file_extension": ".py",
   "mimetype": "text/x-python",
   "name": "python",
   "nbconvert_exporter": "python",
   "pygments_lexer": "ipython3",
   "version": "3.11.5"
  }
 },
 "nbformat": 4,
 "nbformat_minor": 4
}
