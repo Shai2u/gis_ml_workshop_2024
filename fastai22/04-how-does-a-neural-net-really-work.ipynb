{
  "metadata": {
    "kernelspec": {
      "language": "python",
      "display_name": "Python 3",
      "name": "python3"
    },
    "language_info": {
      "pygments_lexer": "ipython3",
      "nbconvert_exporter": "python",
      "version": "3.6.4",
      "file_extension": ".py",
      "codemirror_mode": {
        "name": "ipython",
        "version": 3
      },
      "name": "python",
      "mimetype": "text/x-python"
    },
    "colab": {
      "provenance": []
    },
    "widgets": {
      "application/vnd.jupyter.widget-state+json": {
        "1ee00b225e75411dab46d540607f2322": {
          "model_module": "@jupyter-widgets/controls",
          "model_name": "VBoxModel",
          "model_module_version": "1.5.0",
          "state": {
            "_dom_classes": [
              "widget-interact"
            ],
            "_model_module": "@jupyter-widgets/controls",
            "_model_module_version": "1.5.0",
            "_model_name": "VBoxModel",
            "_view_count": null,
            "_view_module": "@jupyter-widgets/controls",
            "_view_module_version": "1.5.0",
            "_view_name": "VBoxView",
            "box_style": "",
            "children": [
              "IPY_MODEL_02ddc0463ebf4124a1e4ff5004819473",
              "IPY_MODEL_8f88121fbed7482e96467146b02516a1",
              "IPY_MODEL_b529485d571046849c755be71dc57fcb",
              "IPY_MODEL_64632e0d2bb046d88d6a2d5d4fc57782"
            ],
            "layout": "IPY_MODEL_5f8163037b18487dbfbcb5d85fa59ef3"
          }
        },
        "02ddc0463ebf4124a1e4ff5004819473": {
          "model_module": "@jupyter-widgets/controls",
          "model_name": "FloatSliderModel",
          "model_module_version": "1.5.0",
          "state": {
            "_dom_classes": [],
            "_model_module": "@jupyter-widgets/controls",
            "_model_module_version": "1.5.0",
            "_model_name": "FloatSliderModel",
            "_view_count": null,
            "_view_module": "@jupyter-widgets/controls",
            "_view_module_version": "1.5.0",
            "_view_name": "FloatSliderView",
            "continuous_update": true,
            "description": "a",
            "description_tooltip": null,
            "disabled": false,
            "layout": "IPY_MODEL_714760fb643a406fb554193d4b3563f5",
            "max": 3.3000000000000003,
            "min": -1.1,
            "orientation": "horizontal",
            "readout": true,
            "readout_format": ".2f",
            "step": 0.1,
            "style": "IPY_MODEL_52e4b1e10210435a848b0118b371f87e",
            "value": 3
          }
        },
        "8f88121fbed7482e96467146b02516a1": {
          "model_module": "@jupyter-widgets/controls",
          "model_name": "FloatSliderModel",
          "model_module_version": "1.5.0",
          "state": {
            "_dom_classes": [],
            "_model_module": "@jupyter-widgets/controls",
            "_model_module_version": "1.5.0",
            "_model_name": "FloatSliderModel",
            "_view_count": null,
            "_view_module": "@jupyter-widgets/controls",
            "_view_module_version": "1.5.0",
            "_view_name": "FloatSliderView",
            "continuous_update": true,
            "description": "b",
            "description_tooltip": null,
            "disabled": false,
            "layout": "IPY_MODEL_d886dbe9bc9f4d8bb49ea3ae838fcdc6",
            "max": 3.3000000000000003,
            "min": -1.1,
            "orientation": "horizontal",
            "readout": true,
            "readout_format": ".2f",
            "step": 0.1,
            "style": "IPY_MODEL_5bcdfc471b204e0aace3dddd048e4bc2",
            "value": 2
          }
        },
        "b529485d571046849c755be71dc57fcb": {
          "model_module": "@jupyter-widgets/controls",
          "model_name": "FloatSliderModel",
          "model_module_version": "1.5.0",
          "state": {
            "_dom_classes": [],
            "_model_module": "@jupyter-widgets/controls",
            "_model_module_version": "1.5.0",
            "_model_name": "FloatSliderModel",
            "_view_count": null,
            "_view_module": "@jupyter-widgets/controls",
            "_view_module_version": "1.5.0",
            "_view_name": "FloatSliderView",
            "continuous_update": true,
            "description": "c",
            "description_tooltip": null,
            "disabled": false,
            "layout": "IPY_MODEL_8293a23ab0a94ebbad0abca80c44eb76",
            "max": 3.3000000000000003,
            "min": -1.1,
            "orientation": "horizontal",
            "readout": true,
            "readout_format": ".2f",
            "step": 0.1,
            "style": "IPY_MODEL_1e168292aa6b41d0a2708488117e04c7",
            "value": 1
          }
        },
        "64632e0d2bb046d88d6a2d5d4fc57782": {
          "model_module": "@jupyter-widgets/output",
          "model_name": "OutputModel",
          "model_module_version": "1.0.0",
          "state": {
            "_dom_classes": [],
            "_model_module": "@jupyter-widgets/output",
            "_model_module_version": "1.0.0",
            "_model_name": "OutputModel",
            "_view_count": null,
            "_view_module": "@jupyter-widgets/output",
            "_view_module_version": "1.0.0",
            "_view_name": "OutputView",
            "layout": "IPY_MODEL_1e89c3d8d65d4959abcc49f99492cb1d",
            "msg_id": "",
            "outputs": [
              {
                "output_type": "display_data",
                "data": {
                  "text/plain": "<Figure size 576x432 with 1 Axes>",
                  "image/png": "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\n"
                },
                "metadata": {}
              }
            ]
          }
        },
        "5f8163037b18487dbfbcb5d85fa59ef3": {
          "model_module": "@jupyter-widgets/base",
          "model_name": "LayoutModel",
          "model_module_version": "1.2.0",
          "state": {
            "_model_module": "@jupyter-widgets/base",
            "_model_module_version": "1.2.0",
            "_model_name": "LayoutModel",
            "_view_count": null,
            "_view_module": "@jupyter-widgets/base",
            "_view_module_version": "1.2.0",
            "_view_name": "LayoutView",
            "align_content": null,
            "align_items": null,
            "align_self": null,
            "border": null,
            "bottom": null,
            "display": null,
            "flex": null,
            "flex_flow": null,
            "grid_area": null,
            "grid_auto_columns": null,
            "grid_auto_flow": null,
            "grid_auto_rows": null,
            "grid_column": null,
            "grid_gap": null,
            "grid_row": null,
            "grid_template_areas": null,
            "grid_template_columns": null,
            "grid_template_rows": null,
            "height": null,
            "justify_content": null,
            "justify_items": null,
            "left": null,
            "margin": null,
            "max_height": null,
            "max_width": null,
            "min_height": null,
            "min_width": null,
            "object_fit": null,
            "object_position": null,
            "order": null,
            "overflow": null,
            "overflow_x": null,
            "overflow_y": null,
            "padding": null,
            "right": null,
            "top": null,
            "visibility": null,
            "width": null
          }
        },
        "714760fb643a406fb554193d4b3563f5": {
          "model_module": "@jupyter-widgets/base",
          "model_name": "LayoutModel",
          "model_module_version": "1.2.0",
          "state": {
            "_model_module": "@jupyter-widgets/base",
            "_model_module_version": "1.2.0",
            "_model_name": "LayoutModel",
            "_view_count": null,
            "_view_module": "@jupyter-widgets/base",
            "_view_module_version": "1.2.0",
            "_view_name": "LayoutView",
            "align_content": null,
            "align_items": null,
            "align_self": null,
            "border": null,
            "bottom": null,
            "display": null,
            "flex": null,
            "flex_flow": null,
            "grid_area": null,
            "grid_auto_columns": null,
            "grid_auto_flow": null,
            "grid_auto_rows": null,
            "grid_column": null,
            "grid_gap": null,
            "grid_row": null,
            "grid_template_areas": null,
            "grid_template_columns": null,
            "grid_template_rows": null,
            "height": null,
            "justify_content": null,
            "justify_items": null,
            "left": null,
            "margin": null,
            "max_height": null,
            "max_width": null,
            "min_height": null,
            "min_width": null,
            "object_fit": null,
            "object_position": null,
            "order": null,
            "overflow": null,
            "overflow_x": null,
            "overflow_y": null,
            "padding": null,
            "right": null,
            "top": null,
            "visibility": null,
            "width": null
          }
        },
        "52e4b1e10210435a848b0118b371f87e": {
          "model_module": "@jupyter-widgets/controls",
          "model_name": "SliderStyleModel",
          "model_module_version": "1.5.0",
          "state": {
            "_model_module": "@jupyter-widgets/controls",
            "_model_module_version": "1.5.0",
            "_model_name": "SliderStyleModel",
            "_view_count": null,
            "_view_module": "@jupyter-widgets/base",
            "_view_module_version": "1.2.0",
            "_view_name": "StyleView",
            "description_width": "",
            "handle_color": null
          }
        },
        "d886dbe9bc9f4d8bb49ea3ae838fcdc6": {
          "model_module": "@jupyter-widgets/base",
          "model_name": "LayoutModel",
          "model_module_version": "1.2.0",
          "state": {
            "_model_module": "@jupyter-widgets/base",
            "_model_module_version": "1.2.0",
            "_model_name": "LayoutModel",
            "_view_count": null,
            "_view_module": "@jupyter-widgets/base",
            "_view_module_version": "1.2.0",
            "_view_name": "LayoutView",
            "align_content": null,
            "align_items": null,
            "align_self": null,
            "border": null,
            "bottom": null,
            "display": null,
            "flex": null,
            "flex_flow": null,
            "grid_area": null,
            "grid_auto_columns": null,
            "grid_auto_flow": null,
            "grid_auto_rows": null,
            "grid_column": null,
            "grid_gap": null,
            "grid_row": null,
            "grid_template_areas": null,
            "grid_template_columns": null,
            "grid_template_rows": null,
            "height": null,
            "justify_content": null,
            "justify_items": null,
            "left": null,
            "margin": null,
            "max_height": null,
            "max_width": null,
            "min_height": null,
            "min_width": null,
            "object_fit": null,
            "object_position": null,
            "order": null,
            "overflow": null,
            "overflow_x": null,
            "overflow_y": null,
            "padding": null,
            "right": null,
            "top": null,
            "visibility": null,
            "width": null
          }
        },
        "5bcdfc471b204e0aace3dddd048e4bc2": {
          "model_module": "@jupyter-widgets/controls",
          "model_name": "SliderStyleModel",
          "model_module_version": "1.5.0",
          "state": {
            "_model_module": "@jupyter-widgets/controls",
            "_model_module_version": "1.5.0",
            "_model_name": "SliderStyleModel",
            "_view_count": null,
            "_view_module": "@jupyter-widgets/base",
            "_view_module_version": "1.2.0",
            "_view_name": "StyleView",
            "description_width": "",
            "handle_color": null
          }
        },
        "8293a23ab0a94ebbad0abca80c44eb76": {
          "model_module": "@jupyter-widgets/base",
          "model_name": "LayoutModel",
          "model_module_version": "1.2.0",
          "state": {
            "_model_module": "@jupyter-widgets/base",
            "_model_module_version": "1.2.0",
            "_model_name": "LayoutModel",
            "_view_count": null,
            "_view_module": "@jupyter-widgets/base",
            "_view_module_version": "1.2.0",
            "_view_name": "LayoutView",
            "align_content": null,
            "align_items": null,
            "align_self": null,
            "border": null,
            "bottom": null,
            "display": null,
            "flex": null,
            "flex_flow": null,
            "grid_area": null,
            "grid_auto_columns": null,
            "grid_auto_flow": null,
            "grid_auto_rows": null,
            "grid_column": null,
            "grid_gap": null,
            "grid_row": null,
            "grid_template_areas": null,
            "grid_template_columns": null,
            "grid_template_rows": null,
            "height": null,
            "justify_content": null,
            "justify_items": null,
            "left": null,
            "margin": null,
            "max_height": null,
            "max_width": null,
            "min_height": null,
            "min_width": null,
            "object_fit": null,
            "object_position": null,
            "order": null,
            "overflow": null,
            "overflow_x": null,
            "overflow_y": null,
            "padding": null,
            "right": null,
            "top": null,
            "visibility": null,
            "width": null
          }
        },
        "1e168292aa6b41d0a2708488117e04c7": {
          "model_module": "@jupyter-widgets/controls",
          "model_name": "SliderStyleModel",
          "model_module_version": "1.5.0",
          "state": {
            "_model_module": "@jupyter-widgets/controls",
            "_model_module_version": "1.5.0",
            "_model_name": "SliderStyleModel",
            "_view_count": null,
            "_view_module": "@jupyter-widgets/base",
            "_view_module_version": "1.2.0",
            "_view_name": "StyleView",
            "description_width": "",
            "handle_color": null
          }
        },
        "1e89c3d8d65d4959abcc49f99492cb1d": {
          "model_module": "@jupyter-widgets/base",
          "model_name": "LayoutModel",
          "model_module_version": "1.2.0",
          "state": {
            "_model_module": "@jupyter-widgets/base",
            "_model_module_version": "1.2.0",
            "_model_name": "LayoutModel",
            "_view_count": null,
            "_view_module": "@jupyter-widgets/base",
            "_view_module_version": "1.2.0",
            "_view_name": "LayoutView",
            "align_content": null,
            "align_items": null,
            "align_self": null,
            "border": null,
            "bottom": null,
            "display": null,
            "flex": null,
            "flex_flow": null,
            "grid_area": null,
            "grid_auto_columns": null,
            "grid_auto_flow": null,
            "grid_auto_rows": null,
            "grid_column": null,
            "grid_gap": null,
            "grid_row": null,
            "grid_template_areas": null,
            "grid_template_columns": null,
            "grid_template_rows": null,
            "height": null,
            "justify_content": null,
            "justify_items": null,
            "left": null,
            "margin": null,
            "max_height": null,
            "max_width": null,
            "min_height": null,
            "min_width": null,
            "object_fit": null,
            "object_position": null,
            "order": null,
            "overflow": null,
            "overflow_x": null,
            "overflow_y": null,
            "padding": null,
            "right": null,
            "top": null,
            "visibility": null,
            "width": null
          }
        },
        "6e0b2aedf49a4f56a09b33a15a9488d8": {
          "model_module": "@jupyter-widgets/controls",
          "model_name": "VBoxModel",
          "model_module_version": "1.5.0",
          "state": {
            "_dom_classes": [
              "widget-interact"
            ],
            "_model_module": "@jupyter-widgets/controls",
            "_model_module_version": "1.5.0",
            "_model_name": "VBoxModel",
            "_view_count": null,
            "_view_module": "@jupyter-widgets/controls",
            "_view_module_version": "1.5.0",
            "_view_name": "VBoxView",
            "box_style": "",
            "children": [
              "IPY_MODEL_63391b373c0a4f7eb24215921d5a3cf1",
              "IPY_MODEL_481379036c804a7a9423048ff84f086f",
              "IPY_MODEL_2a692cf6265c4ba39de189dc2b21e5e8",
              "IPY_MODEL_b9320fa7489a46b7819d4d50d4acc31b"
            ],
            "layout": "IPY_MODEL_df3529ba46914090a2a251520e204bc2"
          }
        },
        "63391b373c0a4f7eb24215921d5a3cf1": {
          "model_module": "@jupyter-widgets/controls",
          "model_name": "FloatSliderModel",
          "model_module_version": "1.5.0",
          "state": {
            "_dom_classes": [],
            "_model_module": "@jupyter-widgets/controls",
            "_model_module_version": "1.5.0",
            "_model_name": "FloatSliderModel",
            "_view_count": null,
            "_view_module": "@jupyter-widgets/controls",
            "_view_module_version": "1.5.0",
            "_view_name": "FloatSliderView",
            "continuous_update": true,
            "description": "a",
            "description_tooltip": null,
            "disabled": false,
            "layout": "IPY_MODEL_9c9694dfb65c440585152061bc72f72a",
            "max": 3.3000000000000003,
            "min": -1.1,
            "orientation": "horizontal",
            "readout": true,
            "readout_format": ".2f",
            "step": 0.1,
            "style": "IPY_MODEL_0d75d127015f404d9aa8e3641742815d",
            "value": 1.6
          }
        },
        "481379036c804a7a9423048ff84f086f": {
          "model_module": "@jupyter-widgets/controls",
          "model_name": "FloatSliderModel",
          "model_module_version": "1.5.0",
          "state": {
            "_dom_classes": [],
            "_model_module": "@jupyter-widgets/controls",
            "_model_module_version": "1.5.0",
            "_model_name": "FloatSliderModel",
            "_view_count": null,
            "_view_module": "@jupyter-widgets/controls",
            "_view_module_version": "1.5.0",
            "_view_name": "FloatSliderView",
            "continuous_update": true,
            "description": "b",
            "description_tooltip": null,
            "disabled": false,
            "layout": "IPY_MODEL_f94142a409cc46e5ab28f7b609da2cee",
            "max": 3.3000000000000003,
            "min": -1.1,
            "orientation": "horizontal",
            "readout": true,
            "readout_format": ".2f",
            "step": 0.1,
            "style": "IPY_MODEL_48b264941adc40bab44aa4fabf7ce6bf",
            "value": 0.9
          }
        },
        "2a692cf6265c4ba39de189dc2b21e5e8": {
          "model_module": "@jupyter-widgets/controls",
          "model_name": "FloatSliderModel",
          "model_module_version": "1.5.0",
          "state": {
            "_dom_classes": [],
            "_model_module": "@jupyter-widgets/controls",
            "_model_module_version": "1.5.0",
            "_model_name": "FloatSliderModel",
            "_view_count": null,
            "_view_module": "@jupyter-widgets/controls",
            "_view_module_version": "1.5.0",
            "_view_name": "FloatSliderView",
            "continuous_update": true,
            "description": "c",
            "description_tooltip": null,
            "disabled": false,
            "layout": "IPY_MODEL_ea0c530731544399a66414dbe45b9c5b",
            "max": 3.3000000000000003,
            "min": -1.1,
            "orientation": "horizontal",
            "readout": true,
            "readout_format": ".2f",
            "step": 0.1,
            "style": "IPY_MODEL_fe1a6cce129449a2983ee48f6ece66db",
            "value": 0.7
          }
        },
        "b9320fa7489a46b7819d4d50d4acc31b": {
          "model_module": "@jupyter-widgets/output",
          "model_name": "OutputModel",
          "model_module_version": "1.0.0",
          "state": {
            "_dom_classes": [],
            "_model_module": "@jupyter-widgets/output",
            "_model_module_version": "1.0.0",
            "_model_name": "OutputModel",
            "_view_count": null,
            "_view_module": "@jupyter-widgets/output",
            "_view_module_version": "1.0.0",
            "_view_name": "OutputView",
            "layout": "IPY_MODEL_d66e73e866dc4686af4aea9af1e7296c",
            "msg_id": "",
            "outputs": [
              {
                "output_type": "display_data",
                "data": {
                  "text/plain": "<Figure size 576x432 with 1 Axes>",
                  "image/png": "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\n"
                },
                "metadata": {}
              }
            ]
          }
        },
        "df3529ba46914090a2a251520e204bc2": {
          "model_module": "@jupyter-widgets/base",
          "model_name": "LayoutModel",
          "model_module_version": "1.2.0",
          "state": {
            "_model_module": "@jupyter-widgets/base",
            "_model_module_version": "1.2.0",
            "_model_name": "LayoutModel",
            "_view_count": null,
            "_view_module": "@jupyter-widgets/base",
            "_view_module_version": "1.2.0",
            "_view_name": "LayoutView",
            "align_content": null,
            "align_items": null,
            "align_self": null,
            "border": null,
            "bottom": null,
            "display": null,
            "flex": null,
            "flex_flow": null,
            "grid_area": null,
            "grid_auto_columns": null,
            "grid_auto_flow": null,
            "grid_auto_rows": null,
            "grid_column": null,
            "grid_gap": null,
            "grid_row": null,
            "grid_template_areas": null,
            "grid_template_columns": null,
            "grid_template_rows": null,
            "height": null,
            "justify_content": null,
            "justify_items": null,
            "left": null,
            "margin": null,
            "max_height": null,
            "max_width": null,
            "min_height": null,
            "min_width": null,
            "object_fit": null,
            "object_position": null,
            "order": null,
            "overflow": null,
            "overflow_x": null,
            "overflow_y": null,
            "padding": null,
            "right": null,
            "top": null,
            "visibility": null,
            "width": null
          }
        },
        "9c9694dfb65c440585152061bc72f72a": {
          "model_module": "@jupyter-widgets/base",
          "model_name": "LayoutModel",
          "model_module_version": "1.2.0",
          "state": {
            "_model_module": "@jupyter-widgets/base",
            "_model_module_version": "1.2.0",
            "_model_name": "LayoutModel",
            "_view_count": null,
            "_view_module": "@jupyter-widgets/base",
            "_view_module_version": "1.2.0",
            "_view_name": "LayoutView",
            "align_content": null,
            "align_items": null,
            "align_self": null,
            "border": null,
            "bottom": null,
            "display": null,
            "flex": null,
            "flex_flow": null,
            "grid_area": null,
            "grid_auto_columns": null,
            "grid_auto_flow": null,
            "grid_auto_rows": null,
            "grid_column": null,
            "grid_gap": null,
            "grid_row": null,
            "grid_template_areas": null,
            "grid_template_columns": null,
            "grid_template_rows": null,
            "height": null,
            "justify_content": null,
            "justify_items": null,
            "left": null,
            "margin": null,
            "max_height": null,
            "max_width": null,
            "min_height": null,
            "min_width": null,
            "object_fit": null,
            "object_position": null,
            "order": null,
            "overflow": null,
            "overflow_x": null,
            "overflow_y": null,
            "padding": null,
            "right": null,
            "top": null,
            "visibility": null,
            "width": null
          }
        },
        "0d75d127015f404d9aa8e3641742815d": {
          "model_module": "@jupyter-widgets/controls",
          "model_name": "SliderStyleModel",
          "model_module_version": "1.5.0",
          "state": {
            "_model_module": "@jupyter-widgets/controls",
            "_model_module_version": "1.5.0",
            "_model_name": "SliderStyleModel",
            "_view_count": null,
            "_view_module": "@jupyter-widgets/base",
            "_view_module_version": "1.2.0",
            "_view_name": "StyleView",
            "description_width": "",
            "handle_color": null
          }
        },
        "f94142a409cc46e5ab28f7b609da2cee": {
          "model_module": "@jupyter-widgets/base",
          "model_name": "LayoutModel",
          "model_module_version": "1.2.0",
          "state": {
            "_model_module": "@jupyter-widgets/base",
            "_model_module_version": "1.2.0",
            "_model_name": "LayoutModel",
            "_view_count": null,
            "_view_module": "@jupyter-widgets/base",
            "_view_module_version": "1.2.0",
            "_view_name": "LayoutView",
            "align_content": null,
            "align_items": null,
            "align_self": null,
            "border": null,
            "bottom": null,
            "display": null,
            "flex": null,
            "flex_flow": null,
            "grid_area": null,
            "grid_auto_columns": null,
            "grid_auto_flow": null,
            "grid_auto_rows": null,
            "grid_column": null,
            "grid_gap": null,
            "grid_row": null,
            "grid_template_areas": null,
            "grid_template_columns": null,
            "grid_template_rows": null,
            "height": null,
            "justify_content": null,
            "justify_items": null,
            "left": null,
            "margin": null,
            "max_height": null,
            "max_width": null,
            "min_height": null,
            "min_width": null,
            "object_fit": null,
            "object_position": null,
            "order": null,
            "overflow": null,
            "overflow_x": null,
            "overflow_y": null,
            "padding": null,
            "right": null,
            "top": null,
            "visibility": null,
            "width": null
          }
        },
        "48b264941adc40bab44aa4fabf7ce6bf": {
          "model_module": "@jupyter-widgets/controls",
          "model_name": "SliderStyleModel",
          "model_module_version": "1.5.0",
          "state": {
            "_model_module": "@jupyter-widgets/controls",
            "_model_module_version": "1.5.0",
            "_model_name": "SliderStyleModel",
            "_view_count": null,
            "_view_module": "@jupyter-widgets/base",
            "_view_module_version": "1.2.0",
            "_view_name": "StyleView",
            "description_width": "",
            "handle_color": null
          }
        },
        "ea0c530731544399a66414dbe45b9c5b": {
          "model_module": "@jupyter-widgets/base",
          "model_name": "LayoutModel",
          "model_module_version": "1.2.0",
          "state": {
            "_model_module": "@jupyter-widgets/base",
            "_model_module_version": "1.2.0",
            "_model_name": "LayoutModel",
            "_view_count": null,
            "_view_module": "@jupyter-widgets/base",
            "_view_module_version": "1.2.0",
            "_view_name": "LayoutView",
            "align_content": null,
            "align_items": null,
            "align_self": null,
            "border": null,
            "bottom": null,
            "display": null,
            "flex": null,
            "flex_flow": null,
            "grid_area": null,
            "grid_auto_columns": null,
            "grid_auto_flow": null,
            "grid_auto_rows": null,
            "grid_column": null,
            "grid_gap": null,
            "grid_row": null,
            "grid_template_areas": null,
            "grid_template_columns": null,
            "grid_template_rows": null,
            "height": null,
            "justify_content": null,
            "justify_items": null,
            "left": null,
            "margin": null,
            "max_height": null,
            "max_width": null,
            "min_height": null,
            "min_width": null,
            "object_fit": null,
            "object_position": null,
            "order": null,
            "overflow": null,
            "overflow_x": null,
            "overflow_y": null,
            "padding": null,
            "right": null,
            "top": null,
            "visibility": null,
            "width": null
          }
        },
        "fe1a6cce129449a2983ee48f6ece66db": {
          "model_module": "@jupyter-widgets/controls",
          "model_name": "SliderStyleModel",
          "model_module_version": "1.5.0",
          "state": {
            "_model_module": "@jupyter-widgets/controls",
            "_model_module_version": "1.5.0",
            "_model_name": "SliderStyleModel",
            "_view_count": null,
            "_view_module": "@jupyter-widgets/base",
            "_view_module_version": "1.2.0",
            "_view_name": "StyleView",
            "description_width": "",
            "handle_color": null
          }
        },
        "d66e73e866dc4686af4aea9af1e7296c": {
          "model_module": "@jupyter-widgets/base",
          "model_name": "LayoutModel",
          "model_module_version": "1.2.0",
          "state": {
            "_model_module": "@jupyter-widgets/base",
            "_model_module_version": "1.2.0",
            "_model_name": "LayoutModel",
            "_view_count": null,
            "_view_module": "@jupyter-widgets/base",
            "_view_module_version": "1.2.0",
            "_view_name": "LayoutView",
            "align_content": null,
            "align_items": null,
            "align_self": null,
            "border": null,
            "bottom": null,
            "display": null,
            "flex": null,
            "flex_flow": null,
            "grid_area": null,
            "grid_auto_columns": null,
            "grid_auto_flow": null,
            "grid_auto_rows": null,
            "grid_column": null,
            "grid_gap": null,
            "grid_row": null,
            "grid_template_areas": null,
            "grid_template_columns": null,
            "grid_template_rows": null,
            "height": null,
            "justify_content": null,
            "justify_items": null,
            "left": null,
            "margin": null,
            "max_height": null,
            "max_width": null,
            "min_height": null,
            "min_width": null,
            "object_fit": null,
            "object_position": null,
            "order": null,
            "overflow": null,
            "overflow_x": null,
            "overflow_y": null,
            "padding": null,
            "right": null,
            "top": null,
            "visibility": null,
            "width": null
          }
        },
        "3dbdf3b0170a4bdeb6bd7fbbd6de9ec1": {
          "model_module": "@jupyter-widgets/controls",
          "model_name": "VBoxModel",
          "model_module_version": "1.5.0",
          "state": {
            "_dom_classes": [
              "widget-interact"
            ],
            "_model_module": "@jupyter-widgets/controls",
            "_model_module_version": "1.5.0",
            "_model_name": "VBoxModel",
            "_view_count": null,
            "_view_module": "@jupyter-widgets/controls",
            "_view_module_version": "1.5.0",
            "_view_name": "VBoxView",
            "box_style": "",
            "children": [
              "IPY_MODEL_821aa290fc4f417d95b9ca8fe9c8ddc3",
              "IPY_MODEL_b9023fb0dc574ece8dee5e5014a6fd97",
              "IPY_MODEL_3aabc9a62ba44afa8b761db9d54125f3"
            ],
            "layout": "IPY_MODEL_1dd204b4480140868ff164da9646462a"
          }
        },
        "821aa290fc4f417d95b9ca8fe9c8ddc3": {
          "model_module": "@jupyter-widgets/controls",
          "model_name": "FloatSliderModel",
          "model_module_version": "1.5.0",
          "state": {
            "_dom_classes": [],
            "_model_module": "@jupyter-widgets/controls",
            "_model_module_version": "1.5.0",
            "_model_name": "FloatSliderModel",
            "_view_count": null,
            "_view_module": "@jupyter-widgets/controls",
            "_view_module_version": "1.5.0",
            "_view_name": "FloatSliderView",
            "continuous_update": true,
            "description": "m",
            "description_tooltip": null,
            "disabled": false,
            "layout": "IPY_MODEL_5965c3ed43c84da8b4b140fa24296dec",
            "max": 4.5,
            "min": -1.5,
            "orientation": "horizontal",
            "readout": true,
            "readout_format": ".2f",
            "step": 0.1,
            "style": "IPY_MODEL_17460aabe9874bcaa79eae173b99e55a",
            "value": 1.2
          }
        },
        "b9023fb0dc574ece8dee5e5014a6fd97": {
          "model_module": "@jupyter-widgets/controls",
          "model_name": "FloatSliderModel",
          "model_module_version": "1.5.0",
          "state": {
            "_dom_classes": [],
            "_model_module": "@jupyter-widgets/controls",
            "_model_module_version": "1.5.0",
            "_model_name": "FloatSliderModel",
            "_view_count": null,
            "_view_module": "@jupyter-widgets/controls",
            "_view_module_version": "1.5.0",
            "_view_name": "FloatSliderView",
            "continuous_update": true,
            "description": "b",
            "description_tooltip": null,
            "disabled": false,
            "layout": "IPY_MODEL_d8044716d95b4c66bcba8901caef037b",
            "max": 4.5,
            "min": -1.5,
            "orientation": "horizontal",
            "readout": true,
            "readout_format": ".2f",
            "step": 0.1,
            "style": "IPY_MODEL_b6929b61847c4adabe7deb8bdc91ffb7",
            "value": 0.3
          }
        },
        "3aabc9a62ba44afa8b761db9d54125f3": {
          "model_module": "@jupyter-widgets/output",
          "model_name": "OutputModel",
          "model_module_version": "1.0.0",
          "state": {
            "_dom_classes": [],
            "_model_module": "@jupyter-widgets/output",
            "_model_module_version": "1.0.0",
            "_model_name": "OutputModel",
            "_view_count": null,
            "_view_module": "@jupyter-widgets/output",
            "_view_module_version": "1.0.0",
            "_view_name": "OutputView",
            "layout": "IPY_MODEL_d41211ce788646ab981cb8571801aeee",
            "msg_id": "",
            "outputs": [
              {
                "output_type": "display_data",
                "data": {
                  "text/plain": "<Figure size 576x432 with 1 Axes>",
                  "image/png": "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\n"
                },
                "metadata": {}
              }
            ]
          }
        },
        "1dd204b4480140868ff164da9646462a": {
          "model_module": "@jupyter-widgets/base",
          "model_name": "LayoutModel",
          "model_module_version": "1.2.0",
          "state": {
            "_model_module": "@jupyter-widgets/base",
            "_model_module_version": "1.2.0",
            "_model_name": "LayoutModel",
            "_view_count": null,
            "_view_module": "@jupyter-widgets/base",
            "_view_module_version": "1.2.0",
            "_view_name": "LayoutView",
            "align_content": null,
            "align_items": null,
            "align_self": null,
            "border": null,
            "bottom": null,
            "display": null,
            "flex": null,
            "flex_flow": null,
            "grid_area": null,
            "grid_auto_columns": null,
            "grid_auto_flow": null,
            "grid_auto_rows": null,
            "grid_column": null,
            "grid_gap": null,
            "grid_row": null,
            "grid_template_areas": null,
            "grid_template_columns": null,
            "grid_template_rows": null,
            "height": null,
            "justify_content": null,
            "justify_items": null,
            "left": null,
            "margin": null,
            "max_height": null,
            "max_width": null,
            "min_height": null,
            "min_width": null,
            "object_fit": null,
            "object_position": null,
            "order": null,
            "overflow": null,
            "overflow_x": null,
            "overflow_y": null,
            "padding": null,
            "right": null,
            "top": null,
            "visibility": null,
            "width": null
          }
        },
        "5965c3ed43c84da8b4b140fa24296dec": {
          "model_module": "@jupyter-widgets/base",
          "model_name": "LayoutModel",
          "model_module_version": "1.2.0",
          "state": {
            "_model_module": "@jupyter-widgets/base",
            "_model_module_version": "1.2.0",
            "_model_name": "LayoutModel",
            "_view_count": null,
            "_view_module": "@jupyter-widgets/base",
            "_view_module_version": "1.2.0",
            "_view_name": "LayoutView",
            "align_content": null,
            "align_items": null,
            "align_self": null,
            "border": null,
            "bottom": null,
            "display": null,
            "flex": null,
            "flex_flow": null,
            "grid_area": null,
            "grid_auto_columns": null,
            "grid_auto_flow": null,
            "grid_auto_rows": null,
            "grid_column": null,
            "grid_gap": null,
            "grid_row": null,
            "grid_template_areas": null,
            "grid_template_columns": null,
            "grid_template_rows": null,
            "height": null,
            "justify_content": null,
            "justify_items": null,
            "left": null,
            "margin": null,
            "max_height": null,
            "max_width": null,
            "min_height": null,
            "min_width": null,
            "object_fit": null,
            "object_position": null,
            "order": null,
            "overflow": null,
            "overflow_x": null,
            "overflow_y": null,
            "padding": null,
            "right": null,
            "top": null,
            "visibility": null,
            "width": null
          }
        },
        "17460aabe9874bcaa79eae173b99e55a": {
          "model_module": "@jupyter-widgets/controls",
          "model_name": "SliderStyleModel",
          "model_module_version": "1.5.0",
          "state": {
            "_model_module": "@jupyter-widgets/controls",
            "_model_module_version": "1.5.0",
            "_model_name": "SliderStyleModel",
            "_view_count": null,
            "_view_module": "@jupyter-widgets/base",
            "_view_module_version": "1.2.0",
            "_view_name": "StyleView",
            "description_width": "",
            "handle_color": null
          }
        },
        "d8044716d95b4c66bcba8901caef037b": {
          "model_module": "@jupyter-widgets/base",
          "model_name": "LayoutModel",
          "model_module_version": "1.2.0",
          "state": {
            "_model_module": "@jupyter-widgets/base",
            "_model_module_version": "1.2.0",
            "_model_name": "LayoutModel",
            "_view_count": null,
            "_view_module": "@jupyter-widgets/base",
            "_view_module_version": "1.2.0",
            "_view_name": "LayoutView",
            "align_content": null,
            "align_items": null,
            "align_self": null,
            "border": null,
            "bottom": null,
            "display": null,
            "flex": null,
            "flex_flow": null,
            "grid_area": null,
            "grid_auto_columns": null,
            "grid_auto_flow": null,
            "grid_auto_rows": null,
            "grid_column": null,
            "grid_gap": null,
            "grid_row": null,
            "grid_template_areas": null,
            "grid_template_columns": null,
            "grid_template_rows": null,
            "height": null,
            "justify_content": null,
            "justify_items": null,
            "left": null,
            "margin": null,
            "max_height": null,
            "max_width": null,
            "min_height": null,
            "min_width": null,
            "object_fit": null,
            "object_position": null,
            "order": null,
            "overflow": null,
            "overflow_x": null,
            "overflow_y": null,
            "padding": null,
            "right": null,
            "top": null,
            "visibility": null,
            "width": null
          }
        },
        "b6929b61847c4adabe7deb8bdc91ffb7": {
          "model_module": "@jupyter-widgets/controls",
          "model_name": "SliderStyleModel",
          "model_module_version": "1.5.0",
          "state": {
            "_model_module": "@jupyter-widgets/controls",
            "_model_module_version": "1.5.0",
            "_model_name": "SliderStyleModel",
            "_view_count": null,
            "_view_module": "@jupyter-widgets/base",
            "_view_module_version": "1.2.0",
            "_view_name": "StyleView",
            "description_width": "",
            "handle_color": null
          }
        },
        "d41211ce788646ab981cb8571801aeee": {
          "model_module": "@jupyter-widgets/base",
          "model_name": "LayoutModel",
          "model_module_version": "1.2.0",
          "state": {
            "_model_module": "@jupyter-widgets/base",
            "_model_module_version": "1.2.0",
            "_model_name": "LayoutModel",
            "_view_count": null,
            "_view_module": "@jupyter-widgets/base",
            "_view_module_version": "1.2.0",
            "_view_name": "LayoutView",
            "align_content": null,
            "align_items": null,
            "align_self": null,
            "border": null,
            "bottom": null,
            "display": null,
            "flex": null,
            "flex_flow": null,
            "grid_area": null,
            "grid_auto_columns": null,
            "grid_auto_flow": null,
            "grid_auto_rows": null,
            "grid_column": null,
            "grid_gap": null,
            "grid_row": null,
            "grid_template_areas": null,
            "grid_template_columns": null,
            "grid_template_rows": null,
            "height": null,
            "justify_content": null,
            "justify_items": null,
            "left": null,
            "margin": null,
            "max_height": null,
            "max_width": null,
            "min_height": null,
            "min_width": null,
            "object_fit": null,
            "object_position": null,
            "order": null,
            "overflow": null,
            "overflow_x": null,
            "overflow_y": null,
            "padding": null,
            "right": null,
            "top": null,
            "visibility": null,
            "width": null
          }
        },
        "03ac3097130d4366b7d0636295b98eed": {
          "model_module": "@jupyter-widgets/controls",
          "model_name": "VBoxModel",
          "model_module_version": "1.5.0",
          "state": {
            "_dom_classes": [
              "widget-interact"
            ],
            "_model_module": "@jupyter-widgets/controls",
            "_model_module_version": "1.5.0",
            "_model_name": "VBoxModel",
            "_view_count": null,
            "_view_module": "@jupyter-widgets/controls",
            "_view_module_version": "1.5.0",
            "_view_name": "VBoxView",
            "box_style": "",
            "children": [
              "IPY_MODEL_fa4552cdacc9410b8ba32f2b471b640e",
              "IPY_MODEL_c3ddb90209c54f20a63f53272bc2026f",
              "IPY_MODEL_626c8090f57e4faeb48094743038ba1c",
              "IPY_MODEL_6bfde82ab08e41ff9f3b1a3f151c855e",
              "IPY_MODEL_bdb3046bb0c24defb527827fa6c55f8d"
            ],
            "layout": "IPY_MODEL_952305c62c09453aaa87a919af1f520d"
          }
        },
        "fa4552cdacc9410b8ba32f2b471b640e": {
          "model_module": "@jupyter-widgets/controls",
          "model_name": "FloatSliderModel",
          "model_module_version": "1.5.0",
          "state": {
            "_dom_classes": [],
            "_model_module": "@jupyter-widgets/controls",
            "_model_module_version": "1.5.0",
            "_model_name": "FloatSliderModel",
            "_view_count": null,
            "_view_module": "@jupyter-widgets/controls",
            "_view_module_version": "1.5.0",
            "_view_name": "FloatSliderView",
            "continuous_update": true,
            "description": "m1",
            "description_tooltip": null,
            "disabled": false,
            "layout": "IPY_MODEL_a979b9700d12454986f6f66d5aa4166e",
            "max": 1.5,
            "min": -4.5,
            "orientation": "horizontal",
            "readout": true,
            "readout_format": ".2f",
            "step": 0.1,
            "style": "IPY_MODEL_d8cbc3a36db94c2bb031d54527cf55fe",
            "value": -1.3
          }
        },
        "c3ddb90209c54f20a63f53272bc2026f": {
          "model_module": "@jupyter-widgets/controls",
          "model_name": "FloatSliderModel",
          "model_module_version": "1.5.0",
          "state": {
            "_dom_classes": [],
            "_model_module": "@jupyter-widgets/controls",
            "_model_module_version": "1.5.0",
            "_model_name": "FloatSliderModel",
            "_view_count": null,
            "_view_module": "@jupyter-widgets/controls",
            "_view_module_version": "1.5.0",
            "_view_name": "FloatSliderView",
            "continuous_update": true,
            "description": "b1",
            "description_tooltip": null,
            "disabled": false,
            "layout": "IPY_MODEL_3d4d180ba66843029beb878104fc2667",
            "max": 1.5,
            "min": -4.5,
            "orientation": "horizontal",
            "readout": true,
            "readout_format": ".2f",
            "step": 0.1,
            "style": "IPY_MODEL_aed5503f3d2d4b44a7406410ae958333",
            "value": -0.1
          }
        },
        "626c8090f57e4faeb48094743038ba1c": {
          "model_module": "@jupyter-widgets/controls",
          "model_name": "FloatSliderModel",
          "model_module_version": "1.5.0",
          "state": {
            "_dom_classes": [],
            "_model_module": "@jupyter-widgets/controls",
            "_model_module_version": "1.5.0",
            "_model_name": "FloatSliderModel",
            "_view_count": null,
            "_view_module": "@jupyter-widgets/controls",
            "_view_module_version": "1.5.0",
            "_view_name": "FloatSliderView",
            "continuous_update": true,
            "description": "m2",
            "description_tooltip": null,
            "disabled": false,
            "layout": "IPY_MODEL_9f69e0137a9f4baeb2de8788f6408af5",
            "max": 4.5,
            "min": -1.5,
            "orientation": "horizontal",
            "readout": true,
            "readout_format": ".2f",
            "step": 0.1,
            "style": "IPY_MODEL_7be92a5c91ca4b83a017f7c189336d86",
            "value": -0.5
          }
        },
        "6bfde82ab08e41ff9f3b1a3f151c855e": {
          "model_module": "@jupyter-widgets/controls",
          "model_name": "FloatSliderModel",
          "model_module_version": "1.5.0",
          "state": {
            "_dom_classes": [],
            "_model_module": "@jupyter-widgets/controls",
            "_model_module_version": "1.5.0",
            "_model_name": "FloatSliderModel",
            "_view_count": null,
            "_view_module": "@jupyter-widgets/controls",
            "_view_module_version": "1.5.0",
            "_view_name": "FloatSliderView",
            "continuous_update": true,
            "description": "b2",
            "description_tooltip": null,
            "disabled": false,
            "layout": "IPY_MODEL_431f48f04c6e4721a59b550049b19e26",
            "max": 4.5,
            "min": -1.5,
            "orientation": "horizontal",
            "readout": true,
            "readout_format": ".2f",
            "step": 0.1,
            "style": "IPY_MODEL_9588f1cfabc440ab96c5cac381ca0db4",
            "value": 2.5
          }
        },
        "bdb3046bb0c24defb527827fa6c55f8d": {
          "model_module": "@jupyter-widgets/output",
          "model_name": "OutputModel",
          "model_module_version": "1.0.0",
          "state": {
            "_dom_classes": [],
            "_model_module": "@jupyter-widgets/output",
            "_model_module_version": "1.0.0",
            "_model_name": "OutputModel",
            "_view_count": null,
            "_view_module": "@jupyter-widgets/output",
            "_view_module_version": "1.0.0",
            "_view_name": "OutputView",
            "layout": "IPY_MODEL_6bdaa2ff38c04b4aaf5d04f1cd152e16",
            "msg_id": "",
            "outputs": [
              {
                "output_type": "display_data",
                "data": {
                  "text/plain": "<Figure size 576x432 with 1 Axes>",
                  "image/png": "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\n"
                },
                "metadata": {}
              }
            ]
          }
        },
        "952305c62c09453aaa87a919af1f520d": {
          "model_module": "@jupyter-widgets/base",
          "model_name": "LayoutModel",
          "model_module_version": "1.2.0",
          "state": {
            "_model_module": "@jupyter-widgets/base",
            "_model_module_version": "1.2.0",
            "_model_name": "LayoutModel",
            "_view_count": null,
            "_view_module": "@jupyter-widgets/base",
            "_view_module_version": "1.2.0",
            "_view_name": "LayoutView",
            "align_content": null,
            "align_items": null,
            "align_self": null,
            "border": null,
            "bottom": null,
            "display": null,
            "flex": null,
            "flex_flow": null,
            "grid_area": null,
            "grid_auto_columns": null,
            "grid_auto_flow": null,
            "grid_auto_rows": null,
            "grid_column": null,
            "grid_gap": null,
            "grid_row": null,
            "grid_template_areas": null,
            "grid_template_columns": null,
            "grid_template_rows": null,
            "height": null,
            "justify_content": null,
            "justify_items": null,
            "left": null,
            "margin": null,
            "max_height": null,
            "max_width": null,
            "min_height": null,
            "min_width": null,
            "object_fit": null,
            "object_position": null,
            "order": null,
            "overflow": null,
            "overflow_x": null,
            "overflow_y": null,
            "padding": null,
            "right": null,
            "top": null,
            "visibility": null,
            "width": null
          }
        },
        "a979b9700d12454986f6f66d5aa4166e": {
          "model_module": "@jupyter-widgets/base",
          "model_name": "LayoutModel",
          "model_module_version": "1.2.0",
          "state": {
            "_model_module": "@jupyter-widgets/base",
            "_model_module_version": "1.2.0",
            "_model_name": "LayoutModel",
            "_view_count": null,
            "_view_module": "@jupyter-widgets/base",
            "_view_module_version": "1.2.0",
            "_view_name": "LayoutView",
            "align_content": null,
            "align_items": null,
            "align_self": null,
            "border": null,
            "bottom": null,
            "display": null,
            "flex": null,
            "flex_flow": null,
            "grid_area": null,
            "grid_auto_columns": null,
            "grid_auto_flow": null,
            "grid_auto_rows": null,
            "grid_column": null,
            "grid_gap": null,
            "grid_row": null,
            "grid_template_areas": null,
            "grid_template_columns": null,
            "grid_template_rows": null,
            "height": null,
            "justify_content": null,
            "justify_items": null,
            "left": null,
            "margin": null,
            "max_height": null,
            "max_width": null,
            "min_height": null,
            "min_width": null,
            "object_fit": null,
            "object_position": null,
            "order": null,
            "overflow": null,
            "overflow_x": null,
            "overflow_y": null,
            "padding": null,
            "right": null,
            "top": null,
            "visibility": null,
            "width": null
          }
        },
        "d8cbc3a36db94c2bb031d54527cf55fe": {
          "model_module": "@jupyter-widgets/controls",
          "model_name": "SliderStyleModel",
          "model_module_version": "1.5.0",
          "state": {
            "_model_module": "@jupyter-widgets/controls",
            "_model_module_version": "1.5.0",
            "_model_name": "SliderStyleModel",
            "_view_count": null,
            "_view_module": "@jupyter-widgets/base",
            "_view_module_version": "1.2.0",
            "_view_name": "StyleView",
            "description_width": "",
            "handle_color": null
          }
        },
        "3d4d180ba66843029beb878104fc2667": {
          "model_module": "@jupyter-widgets/base",
          "model_name": "LayoutModel",
          "model_module_version": "1.2.0",
          "state": {
            "_model_module": "@jupyter-widgets/base",
            "_model_module_version": "1.2.0",
            "_model_name": "LayoutModel",
            "_view_count": null,
            "_view_module": "@jupyter-widgets/base",
            "_view_module_version": "1.2.0",
            "_view_name": "LayoutView",
            "align_content": null,
            "align_items": null,
            "align_self": null,
            "border": null,
            "bottom": null,
            "display": null,
            "flex": null,
            "flex_flow": null,
            "grid_area": null,
            "grid_auto_columns": null,
            "grid_auto_flow": null,
            "grid_auto_rows": null,
            "grid_column": null,
            "grid_gap": null,
            "grid_row": null,
            "grid_template_areas": null,
            "grid_template_columns": null,
            "grid_template_rows": null,
            "height": null,
            "justify_content": null,
            "justify_items": null,
            "left": null,
            "margin": null,
            "max_height": null,
            "max_width": null,
            "min_height": null,
            "min_width": null,
            "object_fit": null,
            "object_position": null,
            "order": null,
            "overflow": null,
            "overflow_x": null,
            "overflow_y": null,
            "padding": null,
            "right": null,
            "top": null,
            "visibility": null,
            "width": null
          }
        },
        "aed5503f3d2d4b44a7406410ae958333": {
          "model_module": "@jupyter-widgets/controls",
          "model_name": "SliderStyleModel",
          "model_module_version": "1.5.0",
          "state": {
            "_model_module": "@jupyter-widgets/controls",
            "_model_module_version": "1.5.0",
            "_model_name": "SliderStyleModel",
            "_view_count": null,
            "_view_module": "@jupyter-widgets/base",
            "_view_module_version": "1.2.0",
            "_view_name": "StyleView",
            "description_width": "",
            "handle_color": null
          }
        },
        "9f69e0137a9f4baeb2de8788f6408af5": {
          "model_module": "@jupyter-widgets/base",
          "model_name": "LayoutModel",
          "model_module_version": "1.2.0",
          "state": {
            "_model_module": "@jupyter-widgets/base",
            "_model_module_version": "1.2.0",
            "_model_name": "LayoutModel",
            "_view_count": null,
            "_view_module": "@jupyter-widgets/base",
            "_view_module_version": "1.2.0",
            "_view_name": "LayoutView",
            "align_content": null,
            "align_items": null,
            "align_self": null,
            "border": null,
            "bottom": null,
            "display": null,
            "flex": null,
            "flex_flow": null,
            "grid_area": null,
            "grid_auto_columns": null,
            "grid_auto_flow": null,
            "grid_auto_rows": null,
            "grid_column": null,
            "grid_gap": null,
            "grid_row": null,
            "grid_template_areas": null,
            "grid_template_columns": null,
            "grid_template_rows": null,
            "height": null,
            "justify_content": null,
            "justify_items": null,
            "left": null,
            "margin": null,
            "max_height": null,
            "max_width": null,
            "min_height": null,
            "min_width": null,
            "object_fit": null,
            "object_position": null,
            "order": null,
            "overflow": null,
            "overflow_x": null,
            "overflow_y": null,
            "padding": null,
            "right": null,
            "top": null,
            "visibility": null,
            "width": null
          }
        },
        "7be92a5c91ca4b83a017f7c189336d86": {
          "model_module": "@jupyter-widgets/controls",
          "model_name": "SliderStyleModel",
          "model_module_version": "1.5.0",
          "state": {
            "_model_module": "@jupyter-widgets/controls",
            "_model_module_version": "1.5.0",
            "_model_name": "SliderStyleModel",
            "_view_count": null,
            "_view_module": "@jupyter-widgets/base",
            "_view_module_version": "1.2.0",
            "_view_name": "StyleView",
            "description_width": "",
            "handle_color": null
          }
        },
        "431f48f04c6e4721a59b550049b19e26": {
          "model_module": "@jupyter-widgets/base",
          "model_name": "LayoutModel",
          "model_module_version": "1.2.0",
          "state": {
            "_model_module": "@jupyter-widgets/base",
            "_model_module_version": "1.2.0",
            "_model_name": "LayoutModel",
            "_view_count": null,
            "_view_module": "@jupyter-widgets/base",
            "_view_module_version": "1.2.0",
            "_view_name": "LayoutView",
            "align_content": null,
            "align_items": null,
            "align_self": null,
            "border": null,
            "bottom": null,
            "display": null,
            "flex": null,
            "flex_flow": null,
            "grid_area": null,
            "grid_auto_columns": null,
            "grid_auto_flow": null,
            "grid_auto_rows": null,
            "grid_column": null,
            "grid_gap": null,
            "grid_row": null,
            "grid_template_areas": null,
            "grid_template_columns": null,
            "grid_template_rows": null,
            "height": null,
            "justify_content": null,
            "justify_items": null,
            "left": null,
            "margin": null,
            "max_height": null,
            "max_width": null,
            "min_height": null,
            "min_width": null,
            "object_fit": null,
            "object_position": null,
            "order": null,
            "overflow": null,
            "overflow_x": null,
            "overflow_y": null,
            "padding": null,
            "right": null,
            "top": null,
            "visibility": null,
            "width": null
          }
        },
        "9588f1cfabc440ab96c5cac381ca0db4": {
          "model_module": "@jupyter-widgets/controls",
          "model_name": "SliderStyleModel",
          "model_module_version": "1.5.0",
          "state": {
            "_model_module": "@jupyter-widgets/controls",
            "_model_module_version": "1.5.0",
            "_model_name": "SliderStyleModel",
            "_view_count": null,
            "_view_module": "@jupyter-widgets/base",
            "_view_module_version": "1.2.0",
            "_view_name": "StyleView",
            "description_width": "",
            "handle_color": null
          }
        },
        "6bdaa2ff38c04b4aaf5d04f1cd152e16": {
          "model_module": "@jupyter-widgets/base",
          "model_name": "LayoutModel",
          "model_module_version": "1.2.0",
          "state": {
            "_model_module": "@jupyter-widgets/base",
            "_model_module_version": "1.2.0",
            "_model_name": "LayoutModel",
            "_view_count": null,
            "_view_module": "@jupyter-widgets/base",
            "_view_module_version": "1.2.0",
            "_view_name": "LayoutView",
            "align_content": null,
            "align_items": null,
            "align_self": null,
            "border": null,
            "bottom": null,
            "display": null,
            "flex": null,
            "flex_flow": null,
            "grid_area": null,
            "grid_auto_columns": null,
            "grid_auto_flow": null,
            "grid_auto_rows": null,
            "grid_column": null,
            "grid_gap": null,
            "grid_row": null,
            "grid_template_areas": null,
            "grid_template_columns": null,
            "grid_template_rows": null,
            "height": null,
            "justify_content": null,
            "justify_items": null,
            "left": null,
            "margin": null,
            "max_height": null,
            "max_width": null,
            "min_height": null,
            "min_width": null,
            "object_fit": null,
            "object_position": null,
            "order": null,
            "overflow": null,
            "overflow_x": null,
            "overflow_y": null,
            "padding": null,
            "right": null,
            "top": null,
            "visibility": null,
            "width": null
          }
        }
      }
    }
  },
  "nbformat_minor": 0,
  "nbformat": 4,
  "cells": [
    {
      "cell_type": "markdown",
      "source": [
        "## Fitting a function with *gradient descent*\n",
        "\n",
        "Based on [Jeremy Howard course Lesson 04](https://github.com/fastai/course22)\n"
      ],
      "metadata": {
        "id": "_86FLs8nkhMi"
      }
    },
    {
      "cell_type": "markdown",
      "source": [
        "A neural network is just a mathematical function. In the most standard kind of neural network, the function:\n",
        "\n",
        "1. Multiplies each input by a number of values. These values are known as *parameters*\n",
        "1. Adds them up for each group of values\n",
        "1. Replaces the negative numbers with zeros\n",
        "\n",
        "This represents one \"layer\". Then these three steps are repeated, using the outputs of the previous layer as the inputs to the next layer. Initially, the parameters in this function are selected randomly. Therefore a newly created neural network doesn't do anything useful at all -- it's just random!\n",
        "\n",
        "To get the function to \"learn\" to do something useful, we have to change the parameters to make them \"better\" in some way. We do this using *gradient descent*. Let's see how this works..."
      ],
      "metadata": {
        "id": "dszasKBBkhMi"
      }
    },
    {
      "cell_type": "code",
      "source": [
        "from ipywidgets import interact\n",
        "from fastai.basics import plt # based on maptloblib\n",
        "from fastai.basics import torch # pytorch\n",
        "from fastai.basics import partial\n",
        "import numpy as np\n",
        "\n",
        "plt.rc('figure', dpi=90)\n",
        "\n",
        "def plot_function(f, title=None, min=-2.1, max=2.1, color='r', ylim=None):\n",
        "    x = torch.linspace(min,max, 100)[:,None]\n",
        "    if ylim: plt.ylim(ylim)\n",
        "    plt.plot(x, f(x), color)\n",
        "    if title is not None: plt.title(title)\n",
        "    plt.show()"
      ],
      "metadata": {
        "_kg_hide-input": true,
        "execution": {
          "iopub.status.busy": "2022-04-23T08:54:34.585263Z",
          "iopub.execute_input": "2022-04-23T08:54:34.587766Z",
          "iopub.status.idle": "2022-04-23T08:54:36.961606Z",
          "shell.execute_reply.started": "2022-04-23T08:54:34.587646Z",
          "shell.execute_reply": "2022-04-23T08:54:36.960846Z"
        },
        "trusted": true,
        "id": "vxsJiZVLkhMi"
      },
      "execution_count": 25,
      "outputs": []
    },
    {
      "cell_type": "markdown",
      "source": [
        "To learn how gradient descent works, we're going to start by fitting a quadratic, since that's a function most of us are probably more familiar with than a neural network. Here's the quadratic we're going to try to fit:"
      ],
      "metadata": {
        "id": "2gIVU3zNkhMj"
      }
    },
    {
      "cell_type": "code",
      "source": [
        "def f(x): return 3*x**2 + 2*x + 1\n",
        "\n",
        "plot_function(f, \"$3x^2 + 2x + 1$\")"
      ],
      "metadata": {
        "execution": {
          "iopub.status.busy": "2022-04-23T08:54:36.963135Z",
          "iopub.execute_input": "2022-04-23T08:54:36.96361Z",
          "iopub.status.idle": "2022-04-23T08:54:37.603953Z",
          "shell.execute_reply.started": "2022-04-23T08:54:36.963574Z",
          "shell.execute_reply": "2022-04-23T08:54:37.60309Z"
        },
        "trusted": true,
        "colab": {
          "base_uri": "https://localhost:8080/",
          "height": 412
        },
        "id": "hZBLXfi9khMj",
        "outputId": "54cbb976-4184-430b-83f7-8a4492fee734"
      },
      "execution_count": 26,
      "outputs": [
        {
          "output_type": "display_data",
          "data": {
            "text/plain": [
              "<Figure size 576x432 with 1 Axes>"
            ],
            "image/png": "[encoded data removed]"
          },
          "metadata": {}
        }
      ]
    },
    {
      "cell_type": "markdown",
      "source": [
        "This quadratic is of the form $ax^2+bx+c$, with parameters $a=3$, $b=2$, $c=1$. To make it easier to try out different quadratics for fitting a model to the data we'll create, let's create a function that calculates the value of a point on any quadratic:"
      ],
      "metadata": {
        "id": "qlwpS7s6khMj"
      }
    },
    {
      "cell_type": "code",
      "source": [
        "def quad(a, b, c, x): return a*x**2 + b*x + c"
      ],
      "metadata": {
        "execution": {
          "iopub.status.busy": "2022-04-23T08:54:37.605073Z",
          "iopub.execute_input": "2022-04-23T08:54:37.605295Z",
          "iopub.status.idle": "2022-04-23T08:54:37.610024Z",
          "shell.execute_reply.started": "2022-04-23T08:54:37.605268Z",
          "shell.execute_reply": "2022-04-23T08:54:37.609103Z"
        },
        "trusted": true,
        "id": "mkrIjsMykhMj"
      },
      "execution_count": 27,
      "outputs": []
    },
    {
      "cell_type": "markdown",
      "source": [
        "If we fix some particular values of a, b, and c, then we'll have made a quadratic. To fix values passed to a function in python, we use the `partial` function, like so:"
      ],
      "metadata": {
        "id": "W71R6DXqkhMj"
      }
    },
    {
      "cell_type": "code",
      "source": [
        "def mk_quad(a,b,c): return partial(quad, a,b,c)"
      ],
      "metadata": {
        "execution": {
          "iopub.status.busy": "2022-04-23T08:54:37.611932Z",
          "iopub.execute_input": "2022-04-23T08:54:37.612415Z",
          "iopub.status.idle": "2022-04-23T08:54:37.622926Z",
          "shell.execute_reply.started": "2022-04-23T08:54:37.612377Z",
          "shell.execute_reply": "2022-04-23T08:54:37.622077Z"
        },
        "trusted": true,
        "id": "EU0BwEwBkhMj"
      },
      "execution_count": 28,
      "outputs": []
    },
    {
      "cell_type": "markdown",
      "source": [
        "So for instance, we can recreate our previous quadratic:"
      ],
      "metadata": {
        "id": "q9-PaVv4khMj"
      }
    },
    {
      "cell_type": "code",
      "source": [
        "f2 = mk_quad(3,2,1)\n",
        "plot_function(f2)"
      ],
      "metadata": {
        "execution": {
          "iopub.status.busy": "2022-04-23T08:54:37.624649Z",
          "iopub.execute_input": "2022-04-23T08:54:37.625357Z",
          "iopub.status.idle": "2022-04-23T08:54:37.829696Z",
          "shell.execute_reply.started": "2022-04-23T08:54:37.62531Z",
          "shell.execute_reply": "2022-04-23T08:54:37.828997Z"
        },
        "trusted": true,
        "colab": {
          "base_uri": "https://localhost:8080/",
          "height": 389
        },
        "id": "Vyftt_8OkhMj",
        "outputId": "79eae911-3776-4986-81e0-f9b8948da88d"
      },
      "execution_count": 29,
      "outputs": [
        {
          "output_type": "display_data",
          "data": {
            "text/plain": [
              "<Figure size 576x432 with 1 Axes>"
            ],
            "image/png": "[encoded data removed]"
          },
          "metadata": {}
        }
      ]
    },
    {
      "cell_type": "markdown",
      "source": [
        "Now let's simulate making some noisy measurements of our quadratic `f`. We'll then use gradient descent to see if we can recreate the original function from the data.\n",
        "\n",
        "Here's a couple of functions to add some random noise to data:"
      ],
      "metadata": {
        "id": "YAG_7HfwkhMk"
      }
    },
    {
      "cell_type": "code",
      "source": [
        "def noise(x, scale): return np.random.normal(scale=scale, size=x.shape)\n",
        "def add_noise(x, mult, add): return x * (1+noise(x,mult)) + noise(x,add)"
      ],
      "metadata": {
        "execution": {
          "iopub.status.busy": "2022-04-23T08:54:37.831069Z",
          "iopub.execute_input": "2022-04-23T08:54:37.831627Z",
          "iopub.status.idle": "2022-04-23T08:54:37.838391Z",
          "shell.execute_reply.started": "2022-04-23T08:54:37.831581Z",
          "shell.execute_reply": "2022-04-23T08:54:37.837454Z"
        },
        "trusted": true,
        "id": "_BNSqmBOkhMk"
      },
      "execution_count": 30,
      "outputs": []
    },
    {
      "cell_type": "markdown",
      "source": [
        "Let's use the now to create our noisy measurements based on the quadratic above:"
      ],
      "metadata": {
        "id": "TjezLOe_khMk"
      }
    },
    {
      "cell_type": "code",
      "source": [
        "np.random.seed(42)\n",
        "\n",
        "x = torch.linspace(-2, 2, steps=20)[:,None]\n",
        "y = add_noise(f(x), 0.15, 1.5)"
      ],
      "metadata": {
        "execution": {
          "iopub.status.busy": "2022-04-23T08:54:37.839727Z",
          "iopub.execute_input": "2022-04-23T08:54:37.83997Z",
          "iopub.status.idle": "2022-04-23T08:54:37.86166Z",
          "shell.execute_reply.started": "2022-04-23T08:54:37.839939Z",
          "shell.execute_reply": "2022-04-23T08:54:37.861067Z"
        },
        "trusted": true,
        "id": "qPfou3A7khMk"
      },
      "execution_count": 31,
      "outputs": []
    },
    {
      "cell_type": "markdown",
      "source": [
        "Here's the first few values of each of `x` and `y`:"
      ],
      "metadata": {
        "id": "yXtPwxkAkhMk"
      }
    },
    {
      "cell_type": "code",
      "source": [
        "x[:5],y[:5]"
      ],
      "metadata": {
        "execution": {
          "iopub.status.busy": "2022-04-23T08:54:37.862576Z",
          "iopub.execute_input": "2022-04-23T08:54:37.863311Z",
          "iopub.status.idle": "2022-04-23T08:54:37.901746Z",
          "shell.execute_reply.started": "2022-04-23T08:54:37.863275Z",
          "shell.execute_reply": "2022-04-23T08:54:37.9009Z"
        },
        "trusted": true,
        "colab": {
          "base_uri": "https://localhost:8080/"
        },
        "id": "hYR5OtaDkhMk",
        "outputId": "85ec4dc0-3a6b-42b5-b6e1-790307f1caa1"
      },
      "execution_count": 32,
      "outputs": [
        {
          "output_type": "execute_result",
          "data": {
            "text/plain": [
              "(tensor([[-2.0000],\n",
              "         [-1.7895],\n",
              "         [-1.5789],\n",
              "         [-1.3684],\n",
              "         [-1.1579]]),\n",
              " tensor([[11.8690],\n",
              "         [ 6.5433],\n",
              "         [ 5.9396],\n",
              "         [ 2.6304],\n",
              "         [ 1.7947]], dtype=torch.float64))"
            ]
          },
          "metadata": {},
          "execution_count": 32
        }
      ]
    },
    {
      "cell_type": "markdown",
      "source": [
        "As you can see, they're *tensors*. A tensor is just like an `array` in numpy (if you're not familiar with numpy, I strongly recommend reading [this great book](https://wesmckinney.com/book/), because it's a critical foundation for nearly all numeric programming in Python. Furthermore, PyTorch, which most researchers use for deep learning, is modeled closely on numpy.) A tensor can be a single number (a *scalar* or *rank-0 tensor*), a list of numbers (a *vector* or *rank-1 tensor*), a table of numbers (a *matrix* or *rank-0 tensor*), a table of tables of numbers (a *rank-3 tensor*), and so forth.\n",
        "\n",
        "We're not going to learn much about our data by just looking at the raw numbers, so let's draw a picture:"
      ],
      "metadata": {
        "id": "lwBSfZtDkhMk"
      }
    },
    {
      "cell_type": "code",
      "source": [
        "plt.scatter(x,y);"
      ],
      "metadata": {
        "execution": {
          "iopub.status.busy": "2022-04-23T08:54:37.903248Z",
          "iopub.execute_input": "2022-04-23T08:54:37.903736Z",
          "iopub.status.idle": "2022-04-23T08:54:38.141765Z",
          "shell.execute_reply.started": "2022-04-23T08:54:37.903689Z",
          "shell.execute_reply": "2022-04-23T08:54:38.140818Z"
        },
        "trusted": true,
        "colab": {
          "base_uri": "https://localhost:8080/",
          "height": 389
        },
        "id": "ZvQujlzEkhMk",
        "outputId": "bce09ee2-babf-40e8-e984-85e77b6c7d61"
      },
      "execution_count": 33,
      "outputs": [
        {
          "output_type": "display_data",
          "data": {
            "text/plain": [
              "<Figure size 576x432 with 1 Axes>"
            ],
            "image/png": "[encoded data removed]"
          },
          "metadata": {}
        }
      ]
    },
    {
      "cell_type": "markdown",
      "source": [
        "How do we find values of a, b, and c which fit this data? One approach is to try a few values and see what fits. Here's a function which overlays a quadratic on top of our data, along with some sliders to change a, b, and c, and see how it looks:"
      ],
      "metadata": {
        "id": "duIkJzH0khMk"
      }
    },
    {
      "cell_type": "code",
      "source": [
        "@interact(a=1.1, b=1.1, c=1.1)\n",
        "def plot_quad(a, b, c):\n",
        "    plt.scatter(x,y)\n",
        "    plot_function(mk_quad(a,b,c), ylim=(-3,13))"
      ],
      "metadata": {
        "execution": {
          "iopub.status.busy": "2022-04-23T08:54:38.143544Z",
          "iopub.execute_input": "2022-04-23T08:54:38.143753Z",
          "iopub.status.idle": "2022-04-23T08:54:38.372553Z",
          "shell.execute_reply.started": "2022-04-23T08:54:38.143725Z",
          "shell.execute_reply": "2022-04-23T08:54:38.37172Z"
        },
        "trusted": true,
        "colab": {
          "base_uri": "https://localhost:8080/",
          "height": 485,
          "referenced_widgets": [
            "1ee00b225e75411dab46d540607f2322",
            "02ddc0463ebf4124a1e4ff5004819473",
            "8f88121fbed7482e96467146b02516a1",
            "b529485d571046849c755be71dc57fcb",
            "64632e0d2bb046d88d6a2d5d4fc57782",
            "5f8163037b18487dbfbcb5d85fa59ef3",
            "714760fb643a406fb554193d4b3563f5",
            "52e4b1e10210435a848b0118b371f87e",
            "d886dbe9bc9f4d8bb49ea3ae838fcdc6",
            "5bcdfc471b204e0aace3dddd048e4bc2",
            "8293a23ab0a94ebbad0abca80c44eb76",
            "1e168292aa6b41d0a2708488117e04c7",
            "1e89c3d8d65d4959abcc49f99492cb1d"
          ]
        },
        "id": "AF2pZsqhkhMk",
        "outputId": "8d18cc43-47ae-4461-e9e9-dfdf5b7c191f"
      },
      "execution_count": 34,
      "outputs": [
        {
          "output_type": "display_data",
          "data": {
            "text/plain": [
              "interactive(children=(FloatSlider(value=1.1, description='a', max=3.3000000000000003, min=-1.1), FloatSlider(v…"
            ],
            "application/vnd.jupyter.widget-view+json": {
              "version_major": 2,
              "version_minor": 0,
              "model_id": "1ee00b225e75411dab46d540607f2322"
            }
          },
          "metadata": {}
        }
      ]
    },
    {
      "cell_type": "markdown",
      "source": [
        "Try moving slider `a` a bit to the left. Does that look better or worse? How about if you move it a bit to the right? Find out which direction seems to improve the fit of the quadratic to the data, and move the slider a bit in that direction. Next, do the same for slider `b`: first figure out which direction improves the fit, then move it a bit in that direction. Then do the same for `c`.\n",
        "\n",
        "OK, now go back to slider `a` and repeat the process. Do it again for `b` and `c` as well.\n",
        "\n",
        "Did you notice that by going back and doing the sliders a second time that you were able to improve things a bit further? That's an important insight -- it's only after changing `b` and `c`, for instance, that you realise that `a` actually needs some adjustment based on those new values.\n",
        "\n",
        "One thing that's making this tricky is that we don't really have a great sense of whether our fit is really better or worse. It would be easier if we had a numeric measure of that. On easy metric we could use is *mean absolute error* -- which is the distance from each data point to the curve:"
      ],
      "metadata": {
        "id": "8g3Tq2ZPkhMk"
      }
    },
    {
      "cell_type": "code",
      "source": [
        "def mae(preds, acts): return (torch.abs(preds-acts)).mean()"
      ],
      "metadata": {
        "execution": {
          "iopub.status.busy": "2022-04-23T08:55:06.428918Z",
          "iopub.execute_input": "2022-04-23T08:55:06.429237Z",
          "iopub.status.idle": "2022-04-23T08:55:06.433738Z",
          "shell.execute_reply.started": "2022-04-23T08:55:06.429205Z",
          "shell.execute_reply": "2022-04-23T08:55:06.432713Z"
        },
        "trusted": true,
        "id": "UysVkUDLkhMl"
      },
      "execution_count": 35,
      "outputs": []
    },
    {
      "cell_type": "markdown",
      "source": [
        "We'll update our interactive function to print this at the top for us.\n",
        "\n",
        "Use this to repeat the approach we took before to try to find the best fit, but this time just use the value of the metric to decide which direction to move each slider, and how far to move it.\n",
        "\n",
        "This time around, try doing it in the opposite order: `c`, then `b`, then `a`.\n",
        "\n",
        "You'll probably find that you have to go through the set of sliders a couple of times to get the best fit."
      ],
      "metadata": {
        "id": "hZneJWydkhMl"
      }
    },
    {
      "cell_type": "code",
      "source": [
        "@interact(a=1.1, b=1.1, c=1.1)\n",
        "def plot_quad(a, b, c):\n",
        "    f = mk_quad(a,b,c)\n",
        "    plt.scatter(x,y)\n",
        "    loss = mae(f(x), y)\n",
        "    plot_function(f, ylim=(-3,12), title=f\"MAE: {loss:.2f}\")"
      ],
      "metadata": {
        "execution": {
          "iopub.status.busy": "2022-04-23T08:55:07.451295Z",
          "iopub.execute_input": "2022-04-23T08:55:07.452152Z",
          "iopub.status.idle": "2022-04-23T08:55:07.701428Z",
          "shell.execute_reply.started": "2022-04-23T08:55:07.452102Z",
          "shell.execute_reply": "2022-04-23T08:55:07.700643Z"
        },
        "trusted": true,
        "colab": {
          "base_uri": "https://localhost:8080/",
          "height": 504,
          "referenced_widgets": [
            "6e0b2aedf49a4f56a09b33a15a9488d8",
            "63391b373c0a4f7eb24215921d5a3cf1",
            "481379036c804a7a9423048ff84f086f",
            "2a692cf6265c4ba39de189dc2b21e5e8",
            "b9320fa7489a46b7819d4d50d4acc31b",
            "df3529ba46914090a2a251520e204bc2",
            "9c9694dfb65c440585152061bc72f72a",
            "0d75d127015f404d9aa8e3641742815d",
            "f94142a409cc46e5ab28f7b609da2cee",
            "48b264941adc40bab44aa4fabf7ce6bf",
            "ea0c530731544399a66414dbe45b9c5b",
            "fe1a6cce129449a2983ee48f6ece66db",
            "d66e73e866dc4686af4aea9af1e7296c"
          ]
        },
        "id": "7uxuDXbQkhMl",
        "outputId": "73bdcc4c-9475-4536-d87d-1c600469b4c8"
      },
      "execution_count": 36,
      "outputs": [
        {
          "output_type": "display_data",
          "data": {
            "text/plain": [
              "interactive(children=(FloatSlider(value=1.1, description='a', max=3.3000000000000003, min=-1.1), FloatSlider(v…"
            ],
            "application/vnd.jupyter.widget-view+json": {
              "version_major": 2,
              "version_minor": 0,
              "model_id": "6e0b2aedf49a4f56a09b33a15a9488d8"
            }
          },
          "metadata": {}
        }
      ]
    },
    {
      "cell_type": "markdown",
      "source": [
        "In a modern neural network we'll often have tens of millions of parameters to fit, or more, and thousands or millions of data points to fit them to. We're not going to be able to do that by moving sliders around! We'll need to automate this process.\n",
        "\n",
        "Thankfully, that turns out to be pretty straightforward. We can use calculus to figure out, for each parameter, whether we should increase or decrease it."
      ],
      "metadata": {
        "id": "ImSajip2khMl"
      }
    },
    {
      "cell_type": "markdown",
      "source": [
        "## Automating gradient descent"
      ],
      "metadata": {
        "id": "lcVTqe3LkhMl"
      }
    },
    {
      "cell_type": "markdown",
      "source": [
        "The basic idea is this: if we know the *gradient* of our `mae()` function *with respect to* our parameters, `a`, `b`, and `c`, then that means we know how adjusting (for instance) `a` will change the value of `mae()`. If, say, `a` has a *negative* gradient, then we know that increasing `a` will decrease `mae()`. Then we know that's what we need to do, since we trying to make `mae()` as low as possible.\n",
        "\n",
        "So, we find the gradient of `mae()` for each of our parameters, and then adjust our parameters a bit in the *opposite* direction to the sign of the gradient.\n",
        "\n",
        "To do this, first we need a function that takes all the parameters `a`, `b`, and `c` as a single vector input, and returns the value `mae()` based on those parameters:"
      ],
      "metadata": {
        "id": "TRifWjW5khMl"
      }
    },
    {
      "cell_type": "code",
      "source": [
        "def quad_mae(params):\n",
        "    f = mk_quad(*params)\n",
        "    return mae(f(x), y)"
      ],
      "metadata": {
        "execution": {
          "iopub.status.busy": "2022-04-22T22:28:41.831976Z",
          "iopub.execute_input": "2022-04-22T22:28:41.832211Z",
          "iopub.status.idle": "2022-04-22T22:28:41.837761Z",
          "shell.execute_reply.started": "2022-04-22T22:28:41.832181Z",
          "shell.execute_reply": "2022-04-22T22:28:41.836892Z"
        },
        "trusted": true,
        "id": "JErUGANGkhMl"
      },
      "execution_count": 45,
      "outputs": []
    },
    {
      "cell_type": "markdown",
      "source": [
        "Let's try it:"
      ],
      "metadata": {
        "id": "e4ZFBB5-khMl"
      }
    },
    {
      "cell_type": "code",
      "source": [
        "quad_mae([1.1, 1.1, 1.1])"
      ],
      "metadata": {
        "execution": {
          "iopub.status.busy": "2022-04-22T22:28:41.839427Z",
          "iopub.execute_input": "2022-04-22T22:28:41.839663Z",
          "iopub.status.idle": "2022-04-22T22:28:41.853343Z",
          "shell.execute_reply.started": "2022-04-22T22:28:41.839635Z",
          "shell.execute_reply": "2022-04-22T22:28:41.852644Z"
        },
        "trusted": true,
        "colab": {
          "base_uri": "https://localhost:8080/"
        },
        "id": "9prnOAw0khMl",
        "outputId": "5ea1727f-2430-4a53-fbcc-8233f9b592b2"
      },
      "execution_count": 38,
      "outputs": [
        {
          "output_type": "execute_result",
          "data": {
            "text/plain": [
              "tensor(2.4219, dtype=torch.float64)"
            ]
          },
          "metadata": {},
          "execution_count": 38
        }
      ]
    },
    {
      "cell_type": "markdown",
      "source": [
        "Yup, that's the same as the starting `mae()` we had in our plot before.\n",
        "\n",
        "We're first going to do exactly the same thing as we did manually -- pick some arbritrary starting point for our parameters. We'll put them all into a single tensor:"
      ],
      "metadata": {
        "id": "gC3wxf_4khMl"
      }
    },
    {
      "cell_type": "code",
      "source": [
        "abc = torch.tensor([1.1,1.1,1.1])"
      ],
      "metadata": {
        "execution": {
          "iopub.status.busy": "2022-04-22T22:28:41.854708Z",
          "iopub.execute_input": "2022-04-22T22:28:41.855001Z",
          "iopub.status.idle": "2022-04-22T22:28:41.863677Z",
          "shell.execute_reply.started": "2022-04-22T22:28:41.854965Z",
          "shell.execute_reply": "2022-04-22T22:28:41.862424Z"
        },
        "trusted": true,
        "id": "QxU1IyVQkhMl"
      },
      "execution_count": 39,
      "outputs": []
    },
    {
      "cell_type": "markdown",
      "source": [
        "To tell PyTorch that we want it to calculate gradients for these parameters, we need to call `requires_grad_()`:"
      ],
      "metadata": {
        "id": "OVsCJxpJkhMl"
      }
    },
    {
      "cell_type": "code",
      "source": [
        "abc.requires_grad_()"
      ],
      "metadata": {
        "execution": {
          "iopub.status.busy": "2022-04-22T22:28:41.865105Z",
          "iopub.execute_input": "2022-04-22T22:28:41.86557Z",
          "iopub.status.idle": "2022-04-22T22:28:41.881016Z",
          "shell.execute_reply.started": "2022-04-22T22:28:41.865497Z",
          "shell.execute_reply": "2022-04-22T22:28:41.879681Z"
        },
        "trusted": true,
        "colab": {
          "base_uri": "https://localhost:8080/"
        },
        "id": "UnmXmxEtkhMl",
        "outputId": "a98511db-f040-49ae-c7c6-0de9dcc1f04b"
      },
      "execution_count": 40,
      "outputs": [
        {
          "output_type": "execute_result",
          "data": {
            "text/plain": [
              "tensor([1.1000, 1.1000, 1.1000], requires_grad=True)"
            ]
          },
          "metadata": {},
          "execution_count": 40
        }
      ]
    },
    {
      "cell_type": "markdown",
      "source": [
        "We can now calculate `mae()`. Generally, when doing gradient descent, the thing we're trying to minimise is called the *loss*:"
      ],
      "metadata": {
        "id": "3CjCEh0OkhMl"
      }
    },
    {
      "cell_type": "code",
      "source": [
        "loss = quad_mae(abc)\n",
        "loss"
      ],
      "metadata": {
        "execution": {
          "iopub.status.busy": "2022-04-22T22:28:41.882498Z",
          "iopub.execute_input": "2022-04-22T22:28:41.882908Z",
          "iopub.status.idle": "2022-04-22T22:28:41.894811Z",
          "shell.execute_reply.started": "2022-04-22T22:28:41.882865Z",
          "shell.execute_reply": "2022-04-22T22:28:41.893828Z"
        },
        "trusted": true,
        "colab": {
          "base_uri": "https://localhost:8080/"
        },
        "id": "xW8vfNYPkhMm",
        "outputId": "1374151c-b593-4023-edff-00b16990b0b6"
      },
      "execution_count": 41,
      "outputs": [
        {
          "output_type": "execute_result",
          "data": {
            "text/plain": [
              "tensor(2.4219, dtype=torch.float64, grad_fn=<MeanBackward0>)"
            ]
          },
          "metadata": {},
          "execution_count": 41
        }
      ]
    },
    {
      "cell_type": "markdown",
      "source": [
        "To get PyTorch to now calculate the gradients, we need to call `backward()`"
      ],
      "metadata": {
        "id": "brz-HCIukhMp"
      }
    },
    {
      "cell_type": "code",
      "source": [
        "loss.backward()"
      ],
      "metadata": {
        "execution": {
          "iopub.status.busy": "2022-04-22T22:28:41.896144Z",
          "iopub.execute_input": "2022-04-22T22:28:41.896493Z",
          "iopub.status.idle": "2022-04-22T22:28:41.914719Z",
          "shell.execute_reply.started": "2022-04-22T22:28:41.896462Z",
          "shell.execute_reply": "2022-04-22T22:28:41.913717Z"
        },
        "trusted": true,
        "id": "i9bzxVg0khMp"
      },
      "execution_count": 42,
      "outputs": []
    },
    {
      "cell_type": "markdown",
      "source": [
        "The gradients will be stored for us in an attribute called `grad`:"
      ],
      "metadata": {
        "id": "oS0ylnAskhMp"
      }
    },
    {
      "cell_type": "code",
      "source": [
        "abc.grad"
      ],
      "metadata": {
        "execution": {
          "iopub.status.busy": "2022-04-22T22:28:41.916372Z",
          "iopub.execute_input": "2022-04-22T22:28:41.91704Z",
          "iopub.status.idle": "2022-04-22T22:28:41.925299Z",
          "shell.execute_reply.started": "2022-04-22T22:28:41.916988Z",
          "shell.execute_reply": "2022-04-22T22:28:41.924407Z"
        },
        "trusted": true,
        "colab": {
          "base_uri": "https://localhost:8080/"
        },
        "id": "dYEnxXZIkhMp",
        "outputId": "c78d3344-f9e1-45c6-dc53-e6438fe2a9c6"
      },
      "execution_count": 43,
      "outputs": [
        {
          "output_type": "execute_result",
          "data": {
            "text/plain": [
              "tensor([-1.3529, -0.0316, -0.5000])"
            ]
          },
          "metadata": {},
          "execution_count": 43
        }
      ]
    },
    {
      "cell_type": "markdown",
      "source": [
        "According to these gradients, all our parameters are a little low. So let's increase them a bit. If we subtract the gradient, multiplied by a small number, that should improve them a bit:"
      ],
      "metadata": {
        "id": "u3VCJUS5khMq"
      }
    },
    {
      "cell_type": "code",
      "source": [
        "with torch.no_grad():\n",
        "    abc -= abc.grad*0.01\n",
        "    loss = quad_mae(abc)\n",
        "\n",
        "print(f'loss={loss:.2f}')"
      ],
      "metadata": {
        "execution": {
          "iopub.status.busy": "2022-04-22T22:28:41.927221Z",
          "iopub.execute_input": "2022-04-22T22:28:41.927714Z",
          "iopub.status.idle": "2022-04-22T22:28:41.941471Z",
          "shell.execute_reply.started": "2022-04-22T22:28:41.927665Z",
          "shell.execute_reply": "2022-04-22T22:28:41.940784Z"
        },
        "trusted": true,
        "colab": {
          "base_uri": "https://localhost:8080/"
        },
        "id": "Bq15-pd8khMq",
        "outputId": "84077fcd-5039-46c8-ce32-bf0944cdb082"
      },
      "execution_count": 47,
      "outputs": [
        {
          "output_type": "stream",
          "name": "stdout",
          "text": [
            "loss=2.38\n"
          ]
        }
      ]
    },
    {
      "cell_type": "markdown",
      "source": [
        "Yes, our loss has gone down!\n",
        "\n",
        "The \"small number\" we multiply is called the *learning rate*, and is the most important *hyper-parameter* to set when training a neural network.\n",
        "\n",
        "BTW, you'll see we had to wrap our calculation of the new parameters in `with torch.no_grad()`. That disables the calculation of gradients for any operations inside that context manager. We have to do that, because `abc -= abc.grad*0.01` isn't actually part of our quadratic model, so we don't want derivitives to include that calculation.\n",
        "\n",
        "We can use a loop to do a few more iterations of this:"
      ],
      "metadata": {
        "id": "QS2qrzYnkhMq"
      }
    },
    {
      "cell_type": "code",
      "source": [
        "for i in range(10):\n",
        "    loss = quad_mae(abc)\n",
        "    loss.backward()\n",
        "    with torch.no_grad(): abc -= abc.grad*0.01\n",
        "    print(f'step={i}; loss={loss:.2f}')"
      ],
      "metadata": {
        "execution": {
          "iopub.status.busy": "2022-04-22T22:28:41.942822Z",
          "iopub.execute_input": "2022-04-22T22:28:41.943242Z",
          "iopub.status.idle": "2022-04-22T22:28:41.968186Z",
          "shell.execute_reply.started": "2022-04-22T22:28:41.943202Z",
          "shell.execute_reply": "2022-04-22T22:28:41.967081Z"
        },
        "trusted": true,
        "colab": {
          "base_uri": "https://localhost:8080/"
        },
        "id": "A7Qa4_BokhMq",
        "outputId": "65aafb05-59df-4e0b-ede0-6fcc53799c43"
      },
      "execution_count": 48,
      "outputs": [
        {
          "output_type": "stream",
          "name": "stdout",
          "text": [
            "step=0; loss=2.38\n",
            "step=1; loss=2.34\n",
            "step=2; loss=2.28\n",
            "step=3; loss=2.19\n",
            "step=4; loss=2.09\n",
            "step=5; loss=1.96\n",
            "step=6; loss=1.84\n",
            "step=7; loss=1.70\n",
            "step=8; loss=1.57\n",
            "step=9; loss=1.45\n"
          ]
        }
      ]
    },
    {
      "cell_type": "markdown",
      "source": [
        "As you can see, our loss keeps going down!\n",
        "\n",
        "If you keep running this loop for long enough however, you'll see that the loss eventually starts increasing for a while. That's because once the parameters get close to the correct answer, our parameter updates will jump right over the correct answer! To avoid this, we need to decrease our learning rate as we train. This is done using a *learning rate schedule*, and can be automated in most deep learning frameworks, such as fastai and PyTorch."
      ],
      "metadata": {
        "id": "GpyQBO-KkhMq"
      }
    },
    {
      "cell_type": "markdown",
      "source": [
        "## How a neural network approximates any given function"
      ],
      "metadata": {
        "id": "mrtA-yrEkhMq"
      }
    },
    {
      "cell_type": "markdown",
      "source": [
        "But neural nets are much more convenient and powerful than this example showed, because we can learn much more than just a quadratic with them. How does *that* work?\n",
        "\n",
        "The trick is that a neural network is a very expressive function. In fact -- it's [infinitely expressive](https://en.wikipedia.org/wiki/Universal_approximation_theorem). A neural network can approximate any computable function, given enough parameters. A \"computable function\" can cover just about anything you can imagine: understand and translate human speech; paint a picture; diagnose a disease from medical imaging; write an essay; etc...\n",
        "\n",
        "The way a neural network approximates a function actually turns out to be very simple. The key trick is to combine two extremely basic steps:\n",
        "\n",
        "1. Matrix multiplication, which is just multiplying things together and then adding them up\n",
        "1. The function $max(x,0)$, which simply replaces all negative numbers with zero.\n",
        "\n",
        "In PyTorch, the function $max(x,0)$ is written as `np.clip(x,0)`. The combination of a linear function and this *max()* is called a *rectified linear function*, and it can be implemented like this:"
      ],
      "metadata": {
        "id": "j_0ljv27khMq"
      }
    },
    {
      "cell_type": "code",
      "source": [
        "def rectified_linear(m,b,x):\n",
        "    y = m*x+b\n",
        "    return torch.clip(y, 0.)"
      ],
      "metadata": {
        "execution": {
          "iopub.status.busy": "2022-04-22T22:28:41.970051Z",
          "iopub.execute_input": "2022-04-22T22:28:41.970814Z",
          "iopub.status.idle": "2022-04-22T22:28:41.976113Z",
          "shell.execute_reply.started": "2022-04-22T22:28:41.970763Z",
          "shell.execute_reply": "2022-04-22T22:28:41.975338Z"
        },
        "trusted": true,
        "id": "_y9Nda5UkhMq"
      },
      "execution_count": 49,
      "outputs": []
    },
    {
      "cell_type": "markdown",
      "source": [
        "Here's what it looks like:"
      ],
      "metadata": {
        "id": "iDxjea-skhMq"
      }
    },
    {
      "cell_type": "code",
      "source": [
        "plot_function(partial(rectified_linear, 1,1))"
      ],
      "metadata": {
        "execution": {
          "iopub.status.busy": "2022-04-22T22:28:41.977336Z",
          "iopub.execute_input": "2022-04-22T22:28:41.978052Z",
          "iopub.status.idle": "2022-04-22T22:28:42.197682Z",
          "shell.execute_reply.started": "2022-04-22T22:28:41.978012Z",
          "shell.execute_reply": "2022-04-22T22:28:42.196709Z"
        },
        "trusted": true,
        "colab": {
          "base_uri": "https://localhost:8080/",
          "height": 389
        },
        "id": "QnY7A1JFkhMq",
        "outputId": "cc3c9dcf-e0e2-4bd4-da8d-1712397c124e"
      },
      "execution_count": 50,
      "outputs": [
        {
          "output_type": "display_data",
          "data": {
            "text/plain": [
              "<Figure size 576x432 with 1 Axes>"
            ],
            "image/png": "[encoded data removed]"
          },
          "metadata": {}
        }
      ]
    },
    {
      "cell_type": "markdown",
      "source": [
        "BTW, instead of `torch.clip(y, 0.)`, we can instead use `F.relu(x)`, which does exactly the same thing. In PyTorch, `F` refers to the `torch.nn.functional` module."
      ],
      "metadata": {
        "id": "lHMUfl5nkhMq"
      }
    },
    {
      "cell_type": "code",
      "source": [
        "import torch.nn.functional as F\n",
        "def rectified_linear2(m,b,x): return F.relu(m*x+b)\n",
        "plot_function(partial(rectified_linear2, 1,1))"
      ],
      "metadata": {
        "execution": {
          "iopub.status.busy": "2022-04-22T22:28:42.199561Z",
          "iopub.execute_input": "2022-04-22T22:28:42.200133Z",
          "iopub.status.idle": "2022-04-22T22:28:42.40433Z",
          "shell.execute_reply.started": "2022-04-22T22:28:42.200083Z",
          "shell.execute_reply": "2022-04-22T22:28:42.403323Z"
        },
        "trusted": true,
        "colab": {
          "base_uri": "https://localhost:8080/",
          "height": 389
        },
        "id": "dwPrcf9tkhMq",
        "outputId": "1e0835c7-e0a0-4a49-fd15-004beded2e0b"
      },
      "execution_count": 51,
      "outputs": [
        {
          "output_type": "display_data",
          "data": {
            "text/plain": [
              "<Figure size 576x432 with 1 Axes>"
            ],
            "image/png": "[encoded data removed]"
          },
          "metadata": {}
        }
      ]
    },
    {
      "cell_type": "markdown",
      "source": [
        "To understand how this function works, try using this interactive version to play around with the parameters `m` and `b`:"
      ],
      "metadata": {
        "id": "YL48ncUYkhMq"
      }
    },
    {
      "cell_type": "code",
      "source": [
        "@interact(m=1.5, b=1.5)\n",
        "def plot_relu(m, b):\n",
        "    plot_function(partial(rectified_linear, m,b), ylim=(-1,4))"
      ],
      "metadata": {
        "execution": {
          "iopub.status.busy": "2022-04-22T22:28:42.405808Z",
          "iopub.execute_input": "2022-04-22T22:28:42.406108Z",
          "iopub.status.idle": "2022-04-22T22:28:42.61219Z",
          "shell.execute_reply.started": "2022-04-22T22:28:42.406071Z",
          "shell.execute_reply": "2022-04-22T22:28:42.61144Z"
        },
        "trusted": true,
        "colab": {
          "base_uri": "https://localhost:8080/",
          "height": 458,
          "referenced_widgets": [
            "3dbdf3b0170a4bdeb6bd7fbbd6de9ec1",
            "821aa290fc4f417d95b9ca8fe9c8ddc3",
            "b9023fb0dc574ece8dee5e5014a6fd97",
            "3aabc9a62ba44afa8b761db9d54125f3",
            "1dd204b4480140868ff164da9646462a",
            "5965c3ed43c84da8b4b140fa24296dec",
            "17460aabe9874bcaa79eae173b99e55a",
            "d8044716d95b4c66bcba8901caef037b",
            "b6929b61847c4adabe7deb8bdc91ffb7",
            "d41211ce788646ab981cb8571801aeee"
          ]
        },
        "id": "IYys7n_dkhMq",
        "outputId": "42d9c298-ef53-4733-aa64-e26601be2aaf"
      },
      "execution_count": 52,
      "outputs": [
        {
          "output_type": "display_data",
          "data": {
            "text/plain": [
              "interactive(children=(FloatSlider(value=1.5, description='m', max=4.5, min=-1.5), FloatSlider(value=1.5, descr…"
            ],
            "application/vnd.jupyter.widget-view+json": {
              "version_major": 2,
              "version_minor": 0,
              "model_id": "3dbdf3b0170a4bdeb6bd7fbbd6de9ec1"
            }
          },
          "metadata": {}
        }
      ]
    },
    {
      "cell_type": "markdown",
      "source": [
        "As you see, `m` changes the slope, and `b` changes where the \"hook\" appears. This function doesn't do much on its own, but look what happens when we add two of them together:"
      ],
      "metadata": {
        "id": "raaMsH16khMq"
      }
    },
    {
      "cell_type": "code",
      "source": [
        "def double_relu(m1,b1,m2,b2,x):\n",
        "    return rectified_linear(m1,b1,x) + rectified_linear(m2,b2,x)\n",
        "\n",
        "@interact(m1=-1.5, b1=-1.5, m2=1.5, b2=1.5)\n",
        "def plot_double_relu(m1, b1, m2, b2):\n",
        "    plot_function(partial(double_relu, m1,b1,m2,b2), ylim=(-1,6))"
      ],
      "metadata": {
        "execution": {
          "iopub.status.busy": "2022-04-22T22:28:42.613745Z",
          "iopub.execute_input": "2022-04-22T22:28:42.614042Z",
          "iopub.status.idle": "2022-04-22T22:28:42.851224Z",
          "shell.execute_reply.started": "2022-04-22T22:28:42.614007Z",
          "shell.execute_reply": "2022-04-22T22:28:42.85035Z"
        },
        "trusted": true,
        "colab": {
          "base_uri": "https://localhost:8080/",
          "height": 522,
          "referenced_widgets": [
            "03ac3097130d4366b7d0636295b98eed",
            "fa4552cdacc9410b8ba32f2b471b640e",
            "c3ddb90209c54f20a63f53272bc2026f",
            "626c8090f57e4faeb48094743038ba1c",
            "6bfde82ab08e41ff9f3b1a3f151c855e",
            "bdb3046bb0c24defb527827fa6c55f8d",
            "952305c62c09453aaa87a919af1f520d",
            "a979b9700d12454986f6f66d5aa4166e",
            "d8cbc3a36db94c2bb031d54527cf55fe",
            "3d4d180ba66843029beb878104fc2667",
            "aed5503f3d2d4b44a7406410ae958333",
            "9f69e0137a9f4baeb2de8788f6408af5",
            "7be92a5c91ca4b83a017f7c189336d86",
            "431f48f04c6e4721a59b550049b19e26",
            "9588f1cfabc440ab96c5cac381ca0db4",
            "6bdaa2ff38c04b4aaf5d04f1cd152e16"
          ]
        },
        "id": "vhh5FIhlkhMq",
        "outputId": "350e6567-b788-443e-f2ef-fad7bf8bb1ac"
      },
      "execution_count": 53,
      "outputs": [
        {
          "output_type": "display_data",
          "data": {
            "text/plain": [
              "interactive(children=(FloatSlider(value=-1.5, description='m1', max=1.5, min=-4.5), FloatSlider(value=-1.5, de…"
            ],
            "application/vnd.jupyter.widget-view+json": {
              "version_major": 2,
              "version_minor": 0,
              "model_id": "03ac3097130d4366b7d0636295b98eed"
            }
          },
          "metadata": {}
        }
      ]
    },
    {
      "cell_type": "markdown",
      "source": [
        "If you play around with that for a while, you notice something quite profound: with enough of these rectified linear functions added together, you could approximate any function with a single input, to whatever accuracy you like! Any time the function doesn't quite match, you can just add a few more additions to the mix to make it a bit closer. As an experiment, perhaps you'd like to try creating your own `plot_triple_relu` interactive function, and maybe even include the scatter plot of our data from before, to see how close you can get?\n",
        "\n",
        "This exact same approach can be expanded to functions of 2, 3, or more parameters."
      ],
      "metadata": {
        "id": "YJduAUZikhMq"
      }
    },
    {
      "cell_type": "code",
      "source": [],
      "metadata": {
        "id": "WHrEGVSNkhMr"
      },
      "execution_count": null,
      "outputs": []
    }
  ]
}