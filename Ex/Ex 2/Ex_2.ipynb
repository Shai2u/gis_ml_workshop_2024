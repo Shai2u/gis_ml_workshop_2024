{
 "cells": [
  {
   "cell_type": "markdown",
   "metadata": {},
   "source": [
    "<img src='../../images/course_logo_2024.jpg'/>"
   ]
  },
  {
   "cell_type": "markdown",
   "metadata": {},
   "source": [
    "<div dir=\"rtl\">\n",
    "    <h1 style=\"text-align: center;\"> תירגול 2 ניקיון, הכנה וחקירת ניתונים</h1>\n",
    "    <h1 style=\"text-align: center;\"> Ex 2 Data preperation and exploration</h1>\n",
    "</div>"
   ]
  },
  {
   "cell_type": "markdown",
   "metadata": {},
   "source": [
    "# Exercise outline\n",
    "1. Data Science Process\n",
    "2. Using Chat GPT with QGIS\n",
    "3. Data Preparation and Cleaning\n",
    "4. Data Exploration Analysis (EDA)\n"
   ]
  },
  {
   "cell_type": "markdown",
   "metadata": {},
   "source": [
    "# 1.The Data Science Process"
   ]
  },
  {
   "cell_type": "markdown",
   "metadata": {},
   "source": [
    "<p>Diagram based on <a herf=\"https://www.youtube.com/watch?app=desktop&v=3vNvwIxTHIM\">https://www.youtube.com/watch?app=desktop&v=3vNvwIxTHIM</a></p>\n",
    "<div align='center'><img width =800 src='../../images/data_science_process.jpg'/></div>"
   ]
  },
  {
   "cell_type": "markdown",
   "metadata": {},
   "source": [
    "# 2. Using ChatGPT with QGIS\n",
    "\n",
    "We have 2 main options:\n",
    "\n",
    "1. Run along with ChatGPT, Bard, Copilot\n",
    "2. Use the plugin (I less recommend this option)\n",
    "\n",
    "Example queries:\n",
    "\n",
    "1. Select and zoom for the selected feature, concerning the selected layer in QGIS\n",
    "2. Get values from the selected features, for a specific field concerning a selected layer\n",
    "3. Filter on the selected layer where a given field is equal to the value on the selected layer and given field\n",
    "\n",
    "\n"
   ]
  },
  {
   "cell_type": "markdown",
   "metadata": {},
   "source": [
    "# 3. Data Preparation and Cleaning"
   ]
  },
  {
   "cell_type": "code",
   "execution_count": null,
   "metadata": {
    "tags": []
   },
   "outputs": [],
   "source": [
    "import pandas as pd\n",
    "import numpy as np\n",
    "import matplotlib.pyplot as plt\n",
    "import plotly.express as px\n",
    "import plotly.graph_objects as go\n",
    "import seaborn as sns\n"
   ]
  },
  {
   "cell_type": "code",
   "execution_count": null,
   "metadata": {
    "tags": []
   },
   "outputs": [],
   "source": [
    "df = pd.read_csv('real_estate_tlv.csv')"
   ]
  },
  {
   "cell_type": "code",
   "execution_count": null,
   "metadata": {
    "scrolled": true,
    "tags": []
   },
   "outputs": [],
   "source": [
    "df.head()"
   ]
  },
  {
   "cell_type": "code",
   "execution_count": null,
   "metadata": {
    "tags": []
   },
   "outputs": [],
   "source": [
    "df.info()"
   ]
  },
  {
   "cell_type": "code",
   "execution_count": null,
   "metadata": {
    "tags": []
   },
   "outputs": [],
   "source": [
    "df.columns"
   ]
  },
  {
   "cell_type": "code",
   "execution_count": null,
   "metadata": {
    "tags": []
   },
   "outputs": [],
   "source": [
    "# overwrite the columsn\n",
    "df.columns = ['date', 'block_parcel', 'description', 'rooms' ,'floor', 'area_sqm', 'price']"
   ]
  },
  {
   "cell_type": "code",
   "execution_count": null,
   "metadata": {
    "tags": []
   },
   "outputs": [],
   "source": [
    "df"
   ]
  },
  {
   "cell_type": "code",
   "execution_count": null,
   "metadata": {
    "scrolled": true,
    "tags": []
   },
   "outputs": [],
   "source": [
    "# Deal with Date\n",
    "df['date']"
   ]
  },
  {
   "cell_type": "code",
   "execution_count": null,
   "metadata": {
    "scrolled": true,
    "tags": []
   },
   "outputs": [],
   "source": [
    "pd.to_datetime(df['date'], format=\"%d.%m.%Y\")"
   ]
  },
  {
   "cell_type": "code",
   "execution_count": null,
   "metadata": {
    "tags": []
   },
   "outputs": [],
   "source": [
    "df['date'] = pd.to_datetime(df['date'], format=\"%d.%m.%Y\")"
   ]
  },
  {
   "cell_type": "code",
   "execution_count": null,
   "metadata": {
    "tags": []
   },
   "outputs": [],
   "source": [
    "# Dealing with block parcel"
   ]
  },
  {
   "cell_type": "code",
   "execution_count": null,
   "metadata": {
    "scrolled": true,
    "tags": []
   },
   "outputs": [],
   "source": [
    "df['block_parcel'].head(25)"
   ]
  },
  {
   "cell_type": "code",
   "execution_count": null,
   "metadata": {
    "tags": []
   },
   "outputs": [],
   "source": [
    "# we can deal with '-' and '/' separately\n",
    "df['block_parcel'].apply(lambda p: '-' in p)"
   ]
  },
  {
   "cell_type": "code",
   "execution_count": null,
   "metadata": {
    "tags": []
   },
   "outputs": [],
   "source": [
    "q1 = df['block_parcel'].apply(lambda p: '-' in p)\n",
    "q2 = df['block_parcel'].apply(lambda p: '/' in p)"
   ]
  },
  {
   "cell_type": "code",
   "execution_count": null,
   "metadata": {
    "tags": []
   },
   "outputs": [],
   "source": [
    "q1.sum()"
   ]
  },
  {
   "cell_type": "code",
   "execution_count": null,
   "metadata": {
    "tags": []
   },
   "outputs": [],
   "source": [
    "q2.sum()"
   ]
  },
  {
   "cell_type": "code",
   "execution_count": null,
   "metadata": {
    "tags": []
   },
   "outputs": [],
   "source": [
    "df.loc[q1, 'block_parcel'].head()"
   ]
  },
  {
   "cell_type": "code",
   "execution_count": null,
   "metadata": {
    "tags": []
   },
   "outputs": [],
   "source": [
    "df.loc[q2, 'block_parcel'].head()"
   ]
  },
  {
   "cell_type": "code",
   "execution_count": null,
   "metadata": {
    "tags": []
   },
   "outputs": [],
   "source": [
    "df.loc[q1, 'block_parcel'].apply(lambda p: pd.Series(index=['block', 'parcel', 'sub_parcel'], data = p.split('-')))"
   ]
  },
  {
   "cell_type": "code",
   "execution_count": null,
   "metadata": {
    "tags": []
   },
   "outputs": [],
   "source": [
    "df.loc[q1, ['block', 'parcel', 'sub_parcel']] = df.loc[q1, 'block_parcel'].apply(\\\n",
    "        lambda p: pd.Series(index=['block', 'parcel', 'sub_parcel'], \\\n",
    "                    data = [int(item) for item in p.split('-')]))"
   ]
  },
  {
   "cell_type": "code",
   "execution_count": null,
   "metadata": {
    "tags": []
   },
   "outputs": [],
   "source": [
    "df.head()"
   ]
  },
  {
   "cell_type": "code",
   "execution_count": null,
   "metadata": {
    "tags": []
   },
   "outputs": [],
   "source": [
    "df.loc[q2, ['block', 'parcel', 'sub_parcel']] = df.loc[q2, 'block_parcel'].apply(\\\n",
    "            lambda p: pd.Series(index=['block', 'parcel', 'sub_parcel'], \\\n",
    "                        data = [int(item) for item in p.split('/')][::-1]))"
   ]
  },
  {
   "cell_type": "code",
   "execution_count": null,
   "metadata": {
    "tags": []
   },
   "outputs": [],
   "source": [
    "df"
   ]
  },
  {
   "cell_type": "code",
   "execution_count": null,
   "metadata": {
    "tags": []
   },
   "outputs": [],
   "source": [
    "# Description"
   ]
  },
  {
   "cell_type": "code",
   "execution_count": null,
   "metadata": {
    "tags": []
   },
   "outputs": [],
   "source": [
    "df['description'].value_counts()"
   ]
  },
  {
   "cell_type": "code",
   "execution_count": null,
   "metadata": {
    "tags": []
   },
   "outputs": [],
   "source": [
    "df['description'].apply(lambda p: str(p).strip())"
   ]
  },
  {
   "cell_type": "code",
   "execution_count": null,
   "metadata": {
    "tags": []
   },
   "outputs": [],
   "source": [
    "df['description'].apply(lambda p: str(p).strip()).value_counts()"
   ]
  },
  {
   "cell_type": "code",
   "execution_count": null,
   "metadata": {
    "tags": []
   },
   "outputs": [],
   "source": [
    "df['description_'] = df['description'].apply(lambda p: str(p).strip())"
   ]
  },
  {
   "cell_type": "code",
   "execution_count": null,
   "metadata": {
    "tags": []
   },
   "outputs": [],
   "source": [
    "df['description_'].unique()"
   ]
  },
  {
   "cell_type": "code",
   "execution_count": null,
   "metadata": {
    "tags": []
   },
   "outputs": [],
   "source": [
    "df[df['description_'] == 'nan']"
   ]
  },
  {
   "cell_type": "code",
   "execution_count": null,
   "metadata": {
    "tags": []
   },
   "outputs": [],
   "source": [
    "df.loc[df['description_'] == 'nan', 'description_'] = 'Unknown'"
   ]
  },
  {
   "cell_type": "code",
   "execution_count": null,
   "metadata": {
    "tags": []
   },
   "outputs": [],
   "source": [
    "df[df['description_'] == 'Unknown']"
   ]
  },
  {
   "cell_type": "code",
   "execution_count": null,
   "metadata": {
    "tags": []
   },
   "outputs": [],
   "source": [
    "df['floor'].value_counts()"
   ]
  },
  {
   "cell_type": "code",
   "execution_count": null,
   "metadata": {
    "tags": []
   },
   "outputs": [],
   "source": [
    "df['floor'].value_counts().to_frame().reset_index()"
   ]
  },
  {
   "cell_type": "code",
   "execution_count": null,
   "metadata": {
    "tags": []
   },
   "outputs": [],
   "source": [
    "translate_floor = df['floor'].value_counts().to_frame().reset_index()"
   ]
  },
  {
   "cell_type": "code",
   "execution_count": null,
   "metadata": {
    "tags": []
   },
   "outputs": [],
   "source": [
    "translate_floor['floor_cat'] = translate_floor['floor'].apply(lambda p: 'Unknown' if '-' in p else np.nan)"
   ]
  },
  {
   "cell_type": "code",
   "execution_count": null,
   "metadata": {
    "scrolled": true,
    "tags": []
   },
   "outputs": [],
   "source": [
    "translate_floor"
   ]
  },
  {
   "cell_type": "code",
   "execution_count": null,
   "metadata": {
    "tags": []
   },
   "outputs": [],
   "source": [
    "translate_floor_dict = {'ראשונה' : 'floor_1',\n",
    " 'שלישית' : 'floor_3',\n",
    " 'שניה'   : 'floor_2',\n",
    " 'רביעית' : 'floor_4',\n",
    " 'קרקע'   : 'ground',\n",
    " 'חמישית' : 'floor_5',\n",
    " 'קומה 5' : 'floor_5',\n",
    " 'קומה 1' : 'floor_1',\n",
    " 'קומה 4' : 'floor_4',\n",
    " 'קומה 3' : 'floor_3',\n",
    " 'מרתף'   : 'basement',\n",
    " 'קומה 0' : 'ground',\n",
    " 'קרקע ובניים': 'ground_floor_1',\n",
    " 'רביעית וגג' :'floor_4_roof',\n",
    " 'עשרים ושמונה': 'floor_28',\n",
    " 'מרתף,קרקע': 'ground_basement',\n",
    " 'שמינית': 'floor_8',\n",
    " 'קומה 6': 'floor_6',\n",
    " 'שישית': 'floor_6',\n",
    " 'חמש עשרה': 'floor_15',\n",
    " 'עשרים ושלוש': 'floor_23',\n",
    " 'עשרים': 'floor_20',\n",
    " 'אחת עשרה': 'floor_11', \n",
    " 'אח עשרה': 'floor_11',\n",
    " 'ארבעים': 'floor_40',\n",
    " 'שלישית, רביעית': 'floor_3_floor_4',\n",
    " 'עמודים': 'floor_1',\n",
    " 'ביניים': 'floor_1',\n",
    "'שלישית+רביעית': 'floor_3_floor_4',\n",
    " 'שתים עשרה,שלש עשרה': 'floor_12_floor_13',\n",
    " 'חמישית, שישית': 'floor_5_floor_6',\n",
    " 'שמונה עשרה': 'floor_18',\n",
    " 'מרתף חמישי, קרקע': 'basement_floor_5_ground',\n",
    " 'רביעית וחמישית': 'floor_4_floor_5'}"
   ]
  },
  {
   "cell_type": "code",
   "execution_count": null,
   "metadata": {
    "tags": []
   },
   "outputs": [],
   "source": [
    "translate_floor.loc[translate_floor['floor_cat'].isna(),'floor_eng'] = translate_floor.loc[translate_floor['floor_cat'].isna(),'floor'].apply(lambda p: translate_floor_dict.get(p))"
   ]
  },
  {
   "cell_type": "code",
   "execution_count": null,
   "metadata": {
    "tags": []
   },
   "outputs": [],
   "source": [
    "translate_floor"
   ]
  },
  {
   "cell_type": "code",
   "execution_count": null,
   "metadata": {
    "scrolled": true,
    "tags": []
   },
   "outputs": [],
   "source": [
    "{f'floor_{i}': i for i in range(0, 41)}"
   ]
  },
  {
   "cell_type": "code",
   "execution_count": null,
   "metadata": {
    "tags": []
   },
   "outputs": [],
   "source": [
    "floor_to_number_dict = {f'floor_{i}': i for i in range(0, 41)}"
   ]
  },
  {
   "cell_type": "code",
   "execution_count": null,
   "metadata": {
    "tags": []
   },
   "outputs": [],
   "source": [
    "translate_floor['floor_number'] = translate_floor['floor_eng'].apply(lambda p: floor_to_number_dict.get(p, np.nan))"
   ]
  },
  {
   "cell_type": "code",
   "execution_count": null,
   "metadata": {
    "scrolled": true,
    "tags": []
   },
   "outputs": [],
   "source": [
    "translate_floor"
   ]
  },
  {
   "cell_type": "code",
   "execution_count": null,
   "metadata": {
    "tags": []
   },
   "outputs": [],
   "source": [
    "floor_str_to_number = {'ground': 0, 'basement': -1, }"
   ]
  },
  {
   "cell_type": "code",
   "execution_count": null,
   "metadata": {
    "tags": []
   },
   "outputs": [],
   "source": [
    "translate_floor.loc[translate_floor['floor_number'].isna(), 'floor_number'] = translate_floor.loc[translate_floor['floor_number'].isna(), 'floor_eng'].apply(lambda p: floor_str_to_number.get(p, np.nan))"
   ]
  },
  {
   "cell_type": "code",
   "execution_count": null,
   "metadata": {
    "tags": []
   },
   "outputs": [],
   "source": [
    "translate_floor[translate_floor['floor_number'].notna()][['floor','floor_number']].set_index('floor').to_dict()['floor_number']"
   ]
  },
  {
   "cell_type": "code",
   "execution_count": null,
   "metadata": {
    "tags": []
   },
   "outputs": [],
   "source": [
    "floor_heb_to_number_dict = translate_floor[translate_floor['floor_number'].notna()][['floor','floor_number']].set_index('floor').to_dict()['floor_number']"
   ]
  },
  {
   "cell_type": "code",
   "execution_count": null,
   "metadata": {
    "tags": []
   },
   "outputs": [],
   "source": [
    "floor_heb_to_number_dict['שמונה עשרה']"
   ]
  },
  {
   "cell_type": "code",
   "execution_count": null,
   "metadata": {
    "tags": []
   },
   "outputs": [],
   "source": [
    "df.loc[df['floor'].notna(), 'floor_number'] = df.loc[df['floor'].notna(), 'floor'].apply(lambda p: floor_heb_to_number_dict.get(p.strip()))"
   ]
  },
  {
   "cell_type": "code",
   "execution_count": null,
   "metadata": {
    "scrolled": true,
    "tags": []
   },
   "outputs": [],
   "source": [
    "df"
   ]
  },
  {
   "cell_type": "code",
   "execution_count": null,
   "metadata": {
    "tags": []
   },
   "outputs": [],
   "source": [
    "df['price'] = df['price'].apply(lambda p: p.replace('₪','').replace(',','')).astype(float)"
   ]
  },
  {
   "cell_type": "code",
   "execution_count": null,
   "metadata": {
    "scrolled": true,
    "tags": []
   },
   "outputs": [],
   "source": [
    "df"
   ]
  },
  {
   "cell_type": "code",
   "execution_count": null,
   "metadata": {
    "scrolled": true,
    "tags": []
   },
   "outputs": [],
   "source": [
    "df = df.drop(columns = ['block_parcel', 'description', 'floor'])"
   ]
  },
  {
   "cell_type": "code",
   "execution_count": null,
   "metadata": {
    "tags": []
   },
   "outputs": [],
   "source": [
    "df.info()"
   ]
  },
  {
   "cell_type": "code",
   "execution_count": null,
   "metadata": {
    "tags": []
   },
   "outputs": [],
   "source": [
    "df[df['floor_number'].notna()].info()"
   ]
  },
  {
   "cell_type": "code",
   "execution_count": null,
   "metadata": {
    "tags": []
   },
   "outputs": [],
   "source": [
    "df = df[df['floor_number'].notna() & df['area_sqm'].notna()].reset_index(drop = True)"
   ]
  },
  {
   "cell_type": "code",
   "execution_count": null,
   "metadata": {
    "tags": []
   },
   "outputs": [],
   "source": [
    "df"
   ]
  },
  {
   "cell_type": "code",
   "execution_count": null,
   "metadata": {
    "tags": []
   },
   "outputs": [],
   "source": [
    "df.info()"
   ]
  },
  {
   "cell_type": "code",
   "execution_count": null,
   "metadata": {
    "tags": []
   },
   "outputs": [],
   "source": [
    "df.head()"
   ]
  },
  {
   "cell_type": "markdown",
   "metadata": {},
   "source": [
    "# 4. Data Exploration and Analysis (EDA)\n",
    "\n",
    "1. Is the data distributed normally?\n",
    "2. Do I have outliers?\n",
    "3. Is the area_sqm correleated to the price?\n",
    "4. Is there a geographic correlation?\n",
    "5. Do I have other correlations?\n",
    "\n"
   ]
  },
  {
   "cell_type": "code",
   "execution_count": null,
   "metadata": {
    "tags": []
   },
   "outputs": [],
   "source": [
    "df.describe(include = np.number)"
   ]
  },
  {
   "cell_type": "code",
   "execution_count": null,
   "metadata": {
    "tags": []
   },
   "outputs": [],
   "source": [
    "df.describe(include = ['O'])"
   ]
  },
  {
   "cell_type": "code",
   "execution_count": null,
   "metadata": {
    "tags": []
   },
   "outputs": [],
   "source": [
    "df.price.hist()"
   ]
  },
  {
   "cell_type": "code",
   "execution_count": null,
   "metadata": {
    "tags": []
   },
   "outputs": [],
   "source": [
    "df.price.apply(lambda p: np.log(p)+1).hist(bins=20)"
   ]
  },
  {
   "cell_type": "code",
   "execution_count": null,
   "metadata": {
    "tags": []
   },
   "outputs": [],
   "source": [
    "import scipy.stats as stats\n",
    "\n",
    "# Fit a normal distribution to the SalePrice data\n",
    "mu, sigma = stats.norm.fit(df['price'].apply(lambda p: np.log(p)+1))\n",
    "\n",
    "# Create a histogram of the SalePrice column\n",
    "hist_data = go.Histogram(x=df['price'].apply(lambda p: np.log(p)+1), nbinsx=50, name=\"Histogram\", opacity=0.75, histnorm='probability density')\n",
    "\n",
    "# Calculate the normal distribution based on the fitted parameters\n",
    "x_norm = np.linspace(df['price'].apply(lambda p: np.log(p)+1).min(), df['price'].apply(lambda p: np.log(p)+1).max(), 100)\n",
    "y_norm = stats.norm.pdf(x_norm, mu, sigma)\n",
    "\n",
    "# Create the normal distribution overlay\n",
    "norm_data = go.Scatter(x=x_norm, y=y_norm, mode=\"lines\", name=f\"Normal dist. (μ={mu:.2f}, σ={sigma:.2f})\", line=dict(color=\"green\"))\n",
    "\n",
    "# Combine the histogram and the overlay\n",
    "fig = go.Figure(data=[hist_data, norm_data])\n",
    "\n",
    "# Set the layout for the plot\n",
    "fig.update_layout(\n",
    "    title=\"Price Distribution\",\n",
    "    xaxis_title=\"SalePrice\",\n",
    "    yaxis_title=\"Density\",\n",
    "    legend_title_text=\"Fitted Normal Distribution\",\n",
    "    height=400,\n",
    "    width=1200\n",
    ")\n"
   ]
  },
  {
   "cell_type": "markdown",
   "metadata": {},
   "source": [
    "## Outliers"
   ]
  },
  {
   "cell_type": "code",
   "execution_count": null,
   "metadata": {
    "tags": []
   },
   "outputs": [],
   "source": [
    "plt.scatter(x=df['area_sqm'], y=df['price'])"
   ]
  },
  {
   "cell_type": "code",
   "execution_count": null,
   "metadata": {
    "tags": []
   },
   "outputs": [],
   "source": [
    "plt.scatter(x=df['floor_number'], y=df['price'])"
   ]
  },
  {
   "cell_type": "code",
   "execution_count": null,
   "metadata": {
    "tags": []
   },
   "outputs": [],
   "source": [
    "plt.scatter(x=df['rooms'], y=df['price'])"
   ]
  },
  {
   "cell_type": "code",
   "execution_count": null,
   "metadata": {
    "tags": []
   },
   "outputs": [],
   "source": [
    "df = df[df['price'] < df['price'].max()].reset_index(drop = True)"
   ]
  },
  {
   "cell_type": "markdown",
   "metadata": {},
   "source": [
    "## correlations"
   ]
  },
  {
   "cell_type": "code",
   "execution_count": null,
   "metadata": {
    "tags": []
   },
   "outputs": [],
   "source": [
    "plt.scatter(x=df['area_sqm'], y=df['price'])"
   ]
  },
  {
   "cell_type": "code",
   "execution_count": null,
   "metadata": {
    "tags": []
   },
   "outputs": [],
   "source": [
    "plt.scatter(x=df['floor_number'], y=df['price'])"
   ]
  },
  {
   "cell_type": "code",
   "execution_count": null,
   "metadata": {
    "tags": []
   },
   "outputs": [],
   "source": [
    "plt.scatter(x=df['rooms'], y=df['price'])"
   ]
  },
  {
   "cell_type": "code",
   "execution_count": null,
   "metadata": {
    "tags": []
   },
   "outputs": [],
   "source": [
    "df.price.hist()"
   ]
  },
  {
   "cell_type": "code",
   "execution_count": null,
   "metadata": {
    "tags": []
   },
   "outputs": [],
   "source": [
    "df.price.apply(lambda p: np.log(p)+1).hist(bins=20)"
   ]
  },
  {
   "cell_type": "code",
   "execution_count": null,
   "metadata": {
    "tags": []
   },
   "outputs": [],
   "source": [
    "import scipy.stats as stats\n",
    "\n",
    "# Fit a normal distribution to the SalePrice data\n",
    "mu, sigma = stats.norm.fit(df['price'].apply(lambda p: np.log(p)+1))\n",
    "\n",
    "# Create a histogram of the SalePrice column\n",
    "hist_data = go.Histogram(x=df['price'].apply(lambda p: np.log(p)+1), nbinsx=50, name=\"Histogram\", opacity=0.75, histnorm='probability density')\n",
    "\n",
    "# Calculate the normal distribution based on the fitted parameters\n",
    "x_norm = np.linspace(df['price'].apply(lambda p: np.log(p)+1).min(), df['price'].apply(lambda p: np.log(p)+1).max(), 100)\n",
    "y_norm = stats.norm.pdf(x_norm, mu, sigma)\n",
    "\n",
    "# Create the normal distribution overlay\n",
    "norm_data = go.Scatter(x=x_norm, y=y_norm, mode=\"lines\", name=f\"Normal dist. (μ={mu:.2f}, σ={sigma:.2f})\", line=dict(color=\"green\"))\n",
    "\n",
    "# Combine the histogram and the overlay\n",
    "fig = go.Figure(data=[hist_data, norm_data])\n",
    "\n",
    "# Set the layout for the plot\n",
    "fig.update_layout(\n",
    "    title=\"Price Distribution\",\n",
    "    xaxis_title=\"SalePrice\",\n",
    "    yaxis_title=\"Density\",\n",
    "    legend_title_text=\"Fitted Normal Distribution\",\n",
    "    height=400,\n",
    "    width=1200\n",
    ")\n"
   ]
  },
  {
   "cell_type": "code",
   "execution_count": null,
   "metadata": {
    "tags": []
   },
   "outputs": [],
   "source": [
    "df['ppm'] = (df['price']/ df['area_sqm'])"
   ]
  },
  {
   "cell_type": "code",
   "execution_count": null,
   "metadata": {
    "tags": []
   },
   "outputs": [],
   "source": [
    "plt.scatter(x=df['date'], y=df['ppm'])"
   ]
  },
  {
   "cell_type": "code",
   "execution_count": null,
   "metadata": {
    "tags": []
   },
   "outputs": [],
   "source": [
    "df.corr(numeric_only = True)"
   ]
  },
  {
   "cell_type": "code",
   "execution_count": null,
   "metadata": {
    "tags": []
   },
   "outputs": [],
   "source": [
    "corr = df.corr(numeric_only = True)\n",
    "sns.heatmap(corr, cmap='coolwarm')\n",
    "plt.show()"
   ]
  },
  {
   "cell_type": "markdown",
   "metadata": {},
   "source": [
    "## Geographic correlcation?"
   ]
  },
  {
   "cell_type": "code",
   "execution_count": null,
   "metadata": {
    "tags": []
   },
   "outputs": [],
   "source": [
    "df['block_parcel'] = df.apply(lambda p: f\"{p['block']:.0f}_{p['parcel']:.0f}\", axis=1)"
   ]
  },
  {
   "cell_type": "code",
   "execution_count": null,
   "metadata": {
    "tags": []
   },
   "outputs": [],
   "source": [
    "df.head()"
   ]
  },
  {
   "cell_type": "code",
   "execution_count": null,
   "metadata": {
    "tags": []
   },
   "outputs": [],
   "source": [
    "df['block_parcel'].nunique()"
   ]
  },
  {
   "cell_type": "code",
   "execution_count": null,
   "metadata": {
    "tags": []
   },
   "outputs": [],
   "source": [
    "df['block_parcel'].value_counts()"
   ]
  },
  {
   "cell_type": "code",
   "execution_count": null,
   "metadata": {
    "tags": []
   },
   "outputs": [],
   "source": [
    "df['block'].nunique()"
   ]
  },
  {
   "cell_type": "code",
   "execution_count": null,
   "metadata": {
    "tags": []
   },
   "outputs": [],
   "source": [
    "df['block'].value_counts()"
   ]
  },
  {
   "cell_type": "code",
   "execution_count": null,
   "metadata": {
    "tags": []
   },
   "outputs": [],
   "source": [
    "df['block'].value_counts().head(15)"
   ]
  },
  {
   "cell_type": "code",
   "execution_count": null,
   "metadata": {
    "tags": []
   },
   "outputs": [],
   "source": [
    "df['block'].value_counts().head(15).index"
   ]
  },
  {
   "cell_type": "code",
   "execution_count": null,
   "metadata": {
    "tags": []
   },
   "outputs": [],
   "source": [
    "selected_blocks = df[df['block'].isin([7226.0, 6933.0, 6911.0, 6907.0, 6909.0, 6936.0, 7451.0, 6904.0, 7460.0,\n",
    "       7429.0, 6941.0, 7430.0, 6910.0, 7085.0, 6937.0])].copy()"
   ]
  },
  {
   "cell_type": "code",
   "execution_count": null,
   "metadata": {
    "tags": []
   },
   "outputs": [],
   "source": [
    "selected_blocks"
   ]
  },
  {
   "cell_type": "markdown",
   "metadata": {},
   "source": [
    "## Exploring the Categorical Fields"
   ]
  },
  {
   "cell_type": "code",
   "execution_count": null,
   "metadata": {
    "tags": []
   },
   "outputs": [],
   "source": [
    "selected_blocks['block'] = selected_blocks['block'].astype(int).astype(str).astype('category')"
   ]
  },
  {
   "cell_type": "code",
   "execution_count": null,
   "metadata": {
    "tags": []
   },
   "outputs": [],
   "source": [
    "plt.figure(figsize=(12,6))\n",
    "fig = plt.scatter(x=selected_blocks['block'], y=selected_blocks['ppm'])"
   ]
  },
  {
   "cell_type": "code",
   "execution_count": null,
   "metadata": {
    "tags": []
   },
   "outputs": [],
   "source": [
    "fig = px.box(selected_blocks, x='block', y='ppm', template='plotly_white', height=600)\n",
    "fig.show()"
   ]
  },
  {
   "cell_type": "code",
   "execution_count": null,
   "metadata": {
    "tags": []
   },
   "outputs": [],
   "source": [
    "df"
   ]
  },
  {
   "cell_type": "code",
   "execution_count": null,
   "metadata": {
    "tags": []
   },
   "outputs": [],
   "source": [
    "df['description_'].value_counts().to_frame()"
   ]
  },
  {
   "cell_type": "code",
   "execution_count": null,
   "metadata": {},
   "outputs": [],
   "source": []
  },
  {
   "cell_type": "code",
   "execution_count": null,
   "metadata": {
    "tags": []
   },
   "outputs": [],
   "source": [
    "df.groupby(['description_','rooms']).agg({'date':'count', 'price':'mean', 'ppm':'mean'})"
   ]
  },
  {
   "cell_type": "code",
   "execution_count": null,
   "metadata": {
    "tags": []
   },
   "outputs": [],
   "source": [
    "pd.set_option('display.float_format', '{:.0f}'.format)"
   ]
  },
  {
   "cell_type": "code",
   "execution_count": null,
   "metadata": {
    "tags": []
   },
   "outputs": [],
   "source": [
    "group_by_description = df.groupby(['description_','rooms']).agg({'date':'count', 'price':'mean', 'ppm':'mean'})"
   ]
  },
  {
   "cell_type": "code",
   "execution_count": null,
   "metadata": {
    "tags": []
   },
   "outputs": [],
   "source": [
    "group_by_description.reset_index(inplace=True)"
   ]
  },
  {
   "cell_type": "code",
   "execution_count": null,
   "metadata": {
    "tags": []
   },
   "outputs": [],
   "source": [
    "group_by_description"
   ]
  },
  {
   "cell_type": "code",
   "execution_count": null,
   "metadata": {
    "tags": []
   },
   "outputs": [],
   "source": [
    "group_by_description.rename(columns={'date':'count'}, inplace=True)"
   ]
  },
  {
   "cell_type": "code",
   "execution_count": null,
   "metadata": {
    "tags": []
   },
   "outputs": [],
   "source": [
    "fig = px.bar(group_by_description, x='rooms', y='price', color='description_', barmode='group', template='plotly_white', width=1200)\n",
    "fig.update_layout(bargap = 0.1 )"
   ]
  },
  {
   "cell_type": "code",
   "execution_count": null,
   "metadata": {
    "tags": []
   },
   "outputs": [],
   "source": [
    "fig = px.bar(group_by_description, x='rooms', y='ppm', color='description_', barmode='group', template='plotly_white', width=1000)\n",
    "fig.update_layout(bargap = 0.1 )\n"
   ]
  },
  {
   "cell_type": "markdown",
   "metadata": {},
   "source": [
    "# 5. Widgets simple exploration tool"
   ]
  },
  {
   "cell_type": "code",
   "execution_count": null,
   "metadata": {
    "tags": []
   },
   "outputs": [],
   "source": [
    "import ipywidgets as widgets\n",
    "from ipywidgets import Button, HBox, VBox\n",
    "\n",
    "layout = widgets.Layout(width='auto') #set width and height\n"
   ]
  },
  {
   "cell_type": "code",
   "execution_count": null,
   "metadata": {
    "tags": []
   },
   "outputs": [],
   "source": [
    "list_of_columns = df.columns\n",
    "x_col_widget = widgets.Dropdown(\n",
    "    options=list_of_columns,\n",
    "    description='X column:',\n",
    "    value = list_of_columns[1],\n",
    "    disabled=False,\n",
    "    style = {'description_width': 'initial'}\n",
    ")\n",
    "y_col_widget = widgets.Dropdown(\n",
    "    options=list_of_columns,\n",
    "    description='Y column:',\n",
    "    value = list_of_columns[2],\n",
    "    disabled=False,\n",
    "    style = {'description_width': 'initial'}\n",
    ")\n",
    "color_group_widget = widgets.Dropdown(\n",
    "    options=list_of_columns,\n",
    "    description='Color Column Group:',\n",
    "    value = list_of_columns[3],\n",
    "    disabled=False,\n",
    "    style = {'description_width': 'initial'}\n",
    ")\n",
    "top_values_widget = widgets.Dropdown(\n",
    "    options=[str(i) for i in range(15)],\n",
    "    description='Choose Number of top values by count:',\n",
    "    value = '2',\n",
    "    disabled=False,\n",
    "    style = {'description_width': 'initial'}\n",
    ")\n",
    "type_of_graph_widget = widgets.Dropdown(\n",
    "    options=['scatter','bar'],\n",
    "    description='Choose Graph:',\n",
    "    value = 'bar',\n",
    "    disabled=False,\n",
    "    style = {'description_width': 'initial'}\n",
    ")\n",
    "color_scale_widget = widgets.Dropdown(\n",
    "    options=px.colors.named_colorscales(),\n",
    "    description='Color sclae name:',\n",
    "    value = 'bupu',\n",
    "    disabled=False,\n",
    "    style = {'description_width': 'initial'}\n",
    ")\n"
   ]
  },
  {
   "cell_type": "code",
   "execution_count": null,
   "metadata": {
    "tags": []
   },
   "outputs": [],
   "source": [
    "HBox1 = HBox([x_col_widget,y_col_widget,color_group_widget])\n",
    "HBox2 = HBox([top_values_widget,type_of_graph_widget,color_scale_widget])\n",
    "VBox([HBox1,HBox2])\n",
    "\n"
   ]
  },
  {
   "cell_type": "code",
   "execution_count": null,
   "metadata": {
    "tags": []
   },
   "outputs": [],
   "source": [
    "x_data = x_col_widget.value\n",
    "y_data = y_col_widget.value\n",
    "\n",
    "color_data = color_group_widget.value\n",
    "color_scale = color_scale_widget.value\n",
    "top_cat = int(top_values_widget.value)\n",
    "\n",
    "\n",
    "filter_values = df[color_data].value_counts().index[0:top_cat]\n",
    "subset = df[df[color_data].isin(filter_values)].copy()\n",
    "\n",
    "if (type_of_graph_widget.value=='scatter'):\n",
    "    fig = px.scatter(subset, x=x_data, y=y_data, color=color_data, color_continuous_scale = color_scale)\n",
    "    fig.update_layout(width = 1200)\n",
    "    fig.show()\n",
    "\n",
    "else:\n",
    "    fig = px.bar(subset, x=x_data, y=y_data, color=color_data,color_continuous_scale=color_scale)\n",
    "    fig.show()"
   ]
  },
  {
   "cell_type": "markdown",
   "metadata": {},
   "source": [
    "## Graphing examples\n",
    "\n",
    "https://plotly.com/python/\n",
    "\n",
    "https://seaborn.pydata.org/examples/index.html"
   ]
  },
  {
   "cell_type": "markdown",
   "metadata": {},
   "source": [
    "## Further Reading:\n",
    "\n",
    "https://www.kaggle.com/competitions/house-prices-advanced-regression-techniques/overview"
   ]
  }
 ],
 "metadata": {
  "kernelspec": {
   "display_name": "Coursera",
   "language": "python",
   "name": "coursera"
  },
  "language_info": {
   "codemirror_mode": {
    "name": "ipython",
    "version": 3
   },
   "file_extension": ".py",
   "mimetype": "text/x-python",
   "name": "python",
   "nbconvert_exporter": "python",
   "pygments_lexer": "ipython3",
   "version": "3.10.11"
  }
 },
 "nbformat": 4,
 "nbformat_minor": 4
}
