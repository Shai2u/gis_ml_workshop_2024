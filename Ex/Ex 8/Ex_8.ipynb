{
 "cells": [
  {
   "cell_type": "markdown",
   "metadata": {},
   "source": [
    "<img src='../../images/course_logo_2024.jpg'/>"
   ]
  },
  {
   "cell_type": "markdown",
   "metadata": {},
   "source": [
    "<div dir=\"rtl\">\n",
    "    <h1 style=\"text-align: center;\"> תירגול 8 רשתות נורונים וכלי עזר</h1>\n",
    "    <h1 style=\"text-align: center;\"> Ex 8 Neural network & helpful utilities</h1>\n",
    "</div>"
   ]
  },
  {
   "cell_type": "markdown",
   "metadata": {},
   "source": [
    "# Exercise outline\n",
    "1. Neural network and graphviz\n",
    "2. Working with classes and external functions\n",
    "3. Working with pickle\n",
    "4. Appending results to CSV"
   ]
  },
  {
   "cell_type": "markdown",
   "metadata": {},
   "source": [
    "# 1. Nerual network and graphviz\n",
    "<img src=\"graphviz.svg\"/>\n",
    "\n",
    "[graphviz](https://graphviz.org)\n",
    "\n",
    "[Youtube on nerual network](https://www.youtube.com/watch?v=_rXzeWq4C6w)\n",
    "\n",
    "[An Explaination on nerual networks and back propagation](https://mattmazur.com/2015/03/17/a-step-by-step-backpropagation-example/)\n",
    "\n",
    "\n",
    "$$\n",
    "\\left[ \\begin{array}{c} 10 & 20 & 30\\end{array} \\right]\n",
    "\\left[ \\begin{array}{cccccc}\n",
    "0.11 & 0.14 & 0.18\\\\\n",
    "0.12 & 0.15 & 0.19 \\\\\n",
    "0.13 & 0.17 & 0.20 \\\\\n",
    "0.15 & 0.16 & 0.27 \\\\\n",
    "0.11 & 0.14 & 0.18\\\\\n",
    "\\end{array} \\right]\n",
    "+\n",
    "\\left[ \\begin{array}{cccccc}\n",
    "1\\\\\n",
    "1\\\\\n",
    "1\\\\\n",
    "1\\\\\n",
    "1\\\\\n",
    "\\end{array} \\right]\n",
    "$$\n"
   ]
  },
  {
   "cell_type": "markdown",
   "metadata": {},
   "source": [
    "# 2. Working with classes and external function"
   ]
  },
  {
   "cell_type": "code",
   "execution_count": 5,
   "metadata": {},
   "outputs": [],
   "source": [
    "class Person:\n",
    "    def __init__(self, name, age):\n",
    "        \"\"\"\n",
    "        This is the constructor method. \n",
    "        It initializes new objects of the class. \n",
    "        The self parameter refers to the current instance of the class, \n",
    "        and name and age are parameters used to initialize the object's attributes.\n",
    "        \"\"\"\n",
    "\n",
    "        # self.name = name and self.age = age: These \n",
    "        #lines set the name and age attributes of the object to the values passed to the constructor.\n",
    "        self.name = name\n",
    "        self.age = age\n",
    "    \n",
    "    def greet(self):\n",
    "        return f\"Hello, my name is {self.name} and I am {self.age} years old.\""
   ]
  },
  {
   "cell_type": "code",
   "execution_count": 6,
   "metadata": {},
   "outputs": [],
   "source": [
    "Shai = Person('Shai', 18)\n",
    "Daphna = Person('Daphna', 22)\n",
    "Ehud = Person('Ehud', 24)\n",
    "Nirit = Person('Nirit', 24)"
   ]
  },
  {
   "cell_type": "code",
   "execution_count": 7,
   "metadata": {},
   "outputs": [
    {
     "name": "stdout",
     "output_type": "stream",
     "text": [
      "Hello, my name is Shai and I am 18 years old.\n",
      "Hello, my name is Daphna and I am 22 years old.\n",
      "Hello, my name is Ehud and I am 24 years old.\n",
      "Hello, my name is Nirit and I am 24 years old.\n"
     ]
    }
   ],
   "source": [
    "print(Shai.greet())\n",
    "print(Daphna.greet())\n",
    "print(Ehud.greet())\n",
    "print(Nirit.greet())"
   ]
  },
  {
   "cell_type": "markdown",
   "metadata": {},
   "source": [
    "# 3. Working with pickle\n",
    "\n",
    "Pickle is a Python module used for serializing and deserializing Python objects. Serialization is the process of converting objects into a byte stream, which can be stored in a file or transmitted over a network. Deserialization is the process of converting the byte stream back into Python objects."
   ]
  },
  {
   "cell_type": "code",
   "execution_count": 31,
   "metadata": {},
   "outputs": [],
   "source": [
    "import pickle\n",
    "import os\n",
    "\n",
    "def save_to_pickle(class_, path_to):\n",
    "    # Serialize the object to a byte stream\n",
    "    with open(path_to, 'wb') as f:\n",
    "        pickle.dump(class_, f)\n",
    "\n",
    "def load_from_pickle(path_from):\n",
    "    # Deserialize the byte stream back into a Python object\n",
    "    with open(path_from, 'rb') as f:\n",
    "        loaded_data = pickle.load(f)\n",
    "        return loaded_data"
   ]
  },
  {
   "cell_type": "code",
   "execution_count": 32,
   "metadata": {},
   "outputs": [],
   "source": [
    "save_to_pickle(Shai, 'shai.pickle')"
   ]
  },
  {
   "cell_type": "code",
   "execution_count": 33,
   "metadata": {},
   "outputs": [],
   "source": [
    "new_shai = load_from_pickle('shai.pickle')"
   ]
  },
  {
   "cell_type": "code",
   "execution_count": 34,
   "metadata": {},
   "outputs": [
    {
     "data": {
      "text/plain": [
       "'Hello, my name is Shai and I am 18 years old.'"
      ]
     },
     "execution_count": 34,
     "metadata": {},
     "output_type": "execute_result"
    }
   ],
   "source": [
    "new_shai.greet()"
   ]
  },
  {
   "cell_type": "markdown",
   "metadata": {},
   "source": [
    "# 4. Appending results to CSV"
   ]
  },
  {
   "cell_type": "code",
   "execution_count": 74,
   "metadata": {},
   "outputs": [],
   "source": [
    "def append_csv(csv_file, new_data):\n",
    "    # Define the filename for the CSV file\n",
    "    \n",
    "    \n",
    "    # Check if the CSV file exists\n",
    "    if os.path.exists(csv_file):\n",
    "        # Load the existing CSV file\n",
    "        existing_data = pd.read_csv(csv_file)\n",
    "        # Append the new data to the existing data\n",
    "        updated_data = pd.concat([existing_data, new_data]).reset_index(drop = True)\n",
    "        # Write the updated data back to the CSV file\n",
    "        updated_data.to_csv(csv_file, index=False)\n",
    "    else:\n",
    "        # If the CSV file does not exist, create it with the new data\n",
    "        new_data.to_csv(csv_file, index=False)"
   ]
  },
  {
   "cell_type": "code",
   "execution_count": 75,
   "metadata": {},
   "outputs": [],
   "source": [
    "csv_file = 'data.csv'\n",
    "from datetime import datetime\n",
    "import pandas as pd\n",
    "\n",
    "# Get the current date and time\n",
    "current_datetime = datetime.now()\n",
    "\n",
    "# Format the current date and time as a short date-time string (e.g., 'YYYY-MM-DD HH:MM:SS')\n",
    "short_datetime_string = current_datetime.strftime('%Y-%m-%d %H:%M:%S')\n",
    "\n",
    "# Print the short date-time string\n",
    "\n",
    "new_data = pd.DataFrame({'date time' : [short_datetime_string], 'layers' : ['700, 100, 100'], 'runtime' : ['30 seconds'], 'score' :[20], 'pickle name' : ['model_1'],'comment' : ['test again']})"
   ]
  },
  {
   "cell_type": "code",
   "execution_count": 76,
   "metadata": {},
   "outputs": [
    {
     "data": {
      "text/html": [
       "<div>\n",
       "<style scoped>\n",
       "    .dataframe tbody tr th:only-of-type {\n",
       "        vertical-align: middle;\n",
       "    }\n",
       "\n",
       "    .dataframe tbody tr th {\n",
       "        vertical-align: top;\n",
       "    }\n",
       "\n",
       "    .dataframe thead th {\n",
       "        text-align: right;\n",
       "    }\n",
       "</style>\n",
       "<table border=\"1\" class=\"dataframe\">\n",
       "  <thead>\n",
       "    <tr style=\"text-align: right;\">\n",
       "      <th></th>\n",
       "      <th>date time</th>\n",
       "      <th>layers</th>\n",
       "      <th>runtime</th>\n",
       "      <th>score</th>\n",
       "      <th>pickle name</th>\n",
       "      <th>comment</th>\n",
       "    </tr>\n",
       "  </thead>\n",
       "  <tbody>\n",
       "    <tr>\n",
       "      <th>0</th>\n",
       "      <td>2024-03-05 00:08:17</td>\n",
       "      <td>700, 100, 100</td>\n",
       "      <td>30 seconds</td>\n",
       "      <td>20</td>\n",
       "      <td>model_1</td>\n",
       "      <td>test again</td>\n",
       "    </tr>\n",
       "  </tbody>\n",
       "</table>\n",
       "</div>"
      ],
      "text/plain": [
       "             date time         layers     runtime  score pickle name  \\\n",
       "0  2024-03-05 00:08:17  700, 100, 100  30 seconds     20     model_1   \n",
       "\n",
       "      comment  \n",
       "0  test again  "
      ]
     },
     "execution_count": 76,
     "metadata": {},
     "output_type": "execute_result"
    }
   ],
   "source": [
    "new_data"
   ]
  },
  {
   "cell_type": "code",
   "execution_count": 79,
   "metadata": {},
   "outputs": [],
   "source": [
    "append_csv(csv_file, new_data)"
   ]
  },
  {
   "cell_type": "code",
   "execution_count": 80,
   "metadata": {},
   "outputs": [
    {
     "data": {
      "text/html": [
       "<div>\n",
       "<style scoped>\n",
       "    .dataframe tbody tr th:only-of-type {\n",
       "        vertical-align: middle;\n",
       "    }\n",
       "\n",
       "    .dataframe tbody tr th {\n",
       "        vertical-align: top;\n",
       "    }\n",
       "\n",
       "    .dataframe thead th {\n",
       "        text-align: right;\n",
       "    }\n",
       "</style>\n",
       "<table border=\"1\" class=\"dataframe\">\n",
       "  <thead>\n",
       "    <tr style=\"text-align: right;\">\n",
       "      <th></th>\n",
       "      <th>date time</th>\n",
       "      <th>layers</th>\n",
       "      <th>runtime</th>\n",
       "      <th>score</th>\n",
       "      <th>pickle name</th>\n",
       "      <th>comment</th>\n",
       "    </tr>\n",
       "  </thead>\n",
       "  <tbody>\n",
       "    <tr>\n",
       "      <th>0</th>\n",
       "      <td>2024-03-05 00:08:17</td>\n",
       "      <td>700, 100, 100</td>\n",
       "      <td>30 seconds</td>\n",
       "      <td>20</td>\n",
       "      <td>model_1</td>\n",
       "      <td>test again</td>\n",
       "    </tr>\n",
       "    <tr>\n",
       "      <th>1</th>\n",
       "      <td>2024-03-05 00:08:17</td>\n",
       "      <td>700, 100, 100</td>\n",
       "      <td>30 seconds</td>\n",
       "      <td>20</td>\n",
       "      <td>model_1</td>\n",
       "      <td>test again</td>\n",
       "    </tr>\n",
       "  </tbody>\n",
       "</table>\n",
       "</div>"
      ],
      "text/plain": [
       "             date time         layers     runtime  score pickle name  \\\n",
       "0  2024-03-05 00:08:17  700, 100, 100  30 seconds     20     model_1   \n",
       "1  2024-03-05 00:08:17  700, 100, 100  30 seconds     20     model_1   \n",
       "\n",
       "      comment  \n",
       "0  test again  \n",
       "1  test again  "
      ]
     },
     "execution_count": 80,
     "metadata": {},
     "output_type": "execute_result"
    }
   ],
   "source": [
    "pd.read_csv('data.csv')"
   ]
  }
 ],
 "metadata": {
  "kernelspec": {
   "display_name": "Python fastai",
   "language": "python",
   "name": "fastai"
  },
  "language_info": {
   "codemirror_mode": {
    "name": "ipython",
    "version": 3
   },
   "file_extension": ".py",
   "mimetype": "text/x-python",
   "name": "python",
   "nbconvert_exporter": "python",
   "pygments_lexer": "ipython3",
   "version": "3.11.5"
  }
 },
 "nbformat": 4,
 "nbformat_minor": 4
}
