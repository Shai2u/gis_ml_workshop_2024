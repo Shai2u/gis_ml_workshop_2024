{
 "cells": [
  {
   "cell_type": "markdown",
   "metadata": {},
   "source": [
    "<img src='../../images/course_logo_2024.jpg'/>"
   ]
  },
  {
   "cell_type": "markdown",
   "metadata": {},
   "source": [
    "<div dir=\"rtl\">\n",
    "    <h1 style=\"text-align: center;\"> תירגול 2 חלק 2: ניקיון, הכנה וחקירת ניתונים</h1>\n",
    "    <h1 style=\"text-align: center;\"> Ex 2 part 2: Data preperation and exploration</h1>\n",
    "</div>"
   ]
  },
  {
   "cell_type": "markdown",
   "metadata": {},
   "source": [
    "# Exercise outline\n",
    "1. Data Science Process\n",
    "2. Data Preparation and Cleaning\n",
    "3. Data Exploration Analysis (EDA)\n"
   ]
  },
  {
   "cell_type": "markdown",
   "metadata": {},
   "source": [
    "# 1.The Data Science Process"
   ]
  },
  {
   "cell_type": "markdown",
   "metadata": {},
   "source": [
    "<p>Diagram based on <a herf=\"https://www.youtube.com/watch?app=desktop&v=3vNvwIxTHIM\">https://www.youtube.com/watch?app=desktop&v=3vNvwIxTHIM</a></p>\n",
    "<div align='center'><img width =800 src='../../images/data_science_process.jpg'/></div>"
   ]
  },
  {
   "cell_type": "markdown",
   "metadata": {},
   "source": [
    "# 2. Data Preparation and Cleaning"
   ]
  },
  {
   "cell_type": "code",
   "execution_count": 1,
   "metadata": {
    "tags": []
   },
   "outputs": [],
   "source": [
    "import pandas as pd\n",
    "import numpy as np\n",
    "import matplotlib.pyplot as plt\n",
    "import plotly.express as px\n",
    "import plotly.graph_objects as go\n",
    "import seaborn as sns\n",
    "import statsmodels\n",
    "import plotly.io as pio\n",
    "pio.renderers.default = 'iframe'\n"
   ]
  },
  {
   "cell_type": "markdown",
   "metadata": {},
   "source": [
    "### Exploring the data for the first time"
   ]
  },
  {
   "cell_type": "code",
   "execution_count": 2,
   "metadata": {
    "tags": []
   },
   "outputs": [],
   "source": [
    "df = pd.read_csv('real_estate_tlv.csv')"
   ]
  },
  {
   "cell_type": "code",
   "execution_count": 3,
   "metadata": {
    "scrolled": true,
    "tags": []
   },
   "outputs": [
    {
     "data": {
      "text/html": [
       "<div>\n",
       "<style scoped>\n",
       "    .dataframe tbody tr th:only-of-type {\n",
       "        vertical-align: middle;\n",
       "    }\n",
       "\n",
       "    .dataframe tbody tr th {\n",
       "        vertical-align: top;\n",
       "    }\n",
       "\n",
       "    .dataframe thead th {\n",
       "        text-align: right;\n",
       "    }\n",
       "</style>\n",
       "<table border=\"1\" class=\"dataframe\">\n",
       "  <thead>\n",
       "    <tr style=\"text-align: right;\">\n",
       "      <th></th>\n",
       "      <th>תאריך</th>\n",
       "      <th>גוש חלקה תת חלקה</th>\n",
       "      <th>תיאור</th>\n",
       "      <th>חדרים</th>\n",
       "      <th>קומה</th>\n",
       "      <th>שטח</th>\n",
       "      <th>מחיר</th>\n",
       "    </tr>\n",
       "  </thead>\n",
       "  <tbody>\n",
       "    <tr>\n",
       "      <th>0</th>\n",
       "      <td>30.11.2023</td>\n",
       "      <td>04/10/7437</td>\n",
       "      <td>דירה בבית קומות</td>\n",
       "      <td>4.0</td>\n",
       "      <td>שלישית</td>\n",
       "      <td>88.10</td>\n",
       "      <td>₪4,270,000.00</td>\n",
       "    </tr>\n",
       "    <tr>\n",
       "      <th>1</th>\n",
       "      <td>23.11.2023</td>\n",
       "      <td>7226-45-6</td>\n",
       "      <td>דירה בבית קומות</td>\n",
       "      <td>3.0</td>\n",
       "      <td>שלישית</td>\n",
       "      <td>69.00</td>\n",
       "      <td>₪4,600,000.00</td>\n",
       "    </tr>\n",
       "    <tr>\n",
       "      <th>2</th>\n",
       "      <td>05.11.2023</td>\n",
       "      <td>6918-53-38</td>\n",
       "      <td>דירה בבית קומות</td>\n",
       "      <td>2.0</td>\n",
       "      <td>שלישית</td>\n",
       "      <td>51.00</td>\n",
       "      <td>₪3,650,000.00</td>\n",
       "    </tr>\n",
       "    <tr>\n",
       "      <th>3</th>\n",
       "      <td>03.11.2023</td>\n",
       "      <td>7441-16-3</td>\n",
       "      <td>מגורים</td>\n",
       "      <td>0.0</td>\n",
       "      <td>NaN</td>\n",
       "      <td>NaN</td>\n",
       "      <td>₪700,000.00</td>\n",
       "    </tr>\n",
       "    <tr>\n",
       "      <th>4</th>\n",
       "      <td>02.11.2023</td>\n",
       "      <td>7438-13-2</td>\n",
       "      <td>דירה בבית קומות</td>\n",
       "      <td>1.0</td>\n",
       "      <td>קרקע</td>\n",
       "      <td>30.57</td>\n",
       "      <td>₪2,050,000.00</td>\n",
       "    </tr>\n",
       "  </tbody>\n",
       "</table>\n",
       "</div>"
      ],
      "text/plain": [
       "        תאריך גוש חלקה תת חלקה             תיאור  חדרים    קומה    שטח  \\\n",
       "0  30.11.2023       04/10/7437  דירה בבית קומות     4.0  שלישית  88.10   \n",
       "1  23.11.2023        7226-45-6  דירה בבית קומות     3.0  שלישית  69.00   \n",
       "2  05.11.2023       6918-53-38   דירה בבית קומות    2.0  שלישית  51.00   \n",
       "3  03.11.2023        7441-16-3            מגורים    0.0     NaN    NaN   \n",
       "4  02.11.2023        7438-13-2  דירה בבית קומות     1.0    קרקע  30.57   \n",
       "\n",
       "             מחיר  \n",
       "0  ₪4,270,000.00   \n",
       "1  ₪4,600,000.00   \n",
       "2  ₪3,650,000.00   \n",
       "3    ₪700,000.00   \n",
       "4  ₪2,050,000.00   "
      ]
     },
     "execution_count": 3,
     "metadata": {},
     "output_type": "execute_result"
    }
   ],
   "source": [
    "# see the first five rows\n",
    "df.head()"
   ]
  },
  {
   "cell_type": "code",
   "execution_count": 4,
   "metadata": {},
   "outputs": [
    {
     "data": {
      "text/html": [
       "<div>\n",
       "<style scoped>\n",
       "    .dataframe tbody tr th:only-of-type {\n",
       "        vertical-align: middle;\n",
       "    }\n",
       "\n",
       "    .dataframe tbody tr th {\n",
       "        vertical-align: top;\n",
       "    }\n",
       "\n",
       "    .dataframe thead th {\n",
       "        text-align: right;\n",
       "    }\n",
       "</style>\n",
       "<table border=\"1\" class=\"dataframe\">\n",
       "  <thead>\n",
       "    <tr style=\"text-align: right;\">\n",
       "      <th></th>\n",
       "      <th>תאריך</th>\n",
       "      <th>גוש חלקה תת חלקה</th>\n",
       "      <th>תיאור</th>\n",
       "      <th>חדרים</th>\n",
       "      <th>קומה</th>\n",
       "      <th>שטח</th>\n",
       "      <th>מחיר</th>\n",
       "    </tr>\n",
       "  </thead>\n",
       "  <tbody>\n",
       "    <tr>\n",
       "      <th>238</th>\n",
       "      <td>29.11.2022</td>\n",
       "      <td>6941-77-10</td>\n",
       "      <td>דירה בבית קומות</td>\n",
       "      <td>4.0</td>\n",
       "      <td>שלישית</td>\n",
       "      <td>64.00</td>\n",
       "      <td>₪4,600,000.00</td>\n",
       "    </tr>\n",
       "    <tr>\n",
       "      <th>239</th>\n",
       "      <td>27.11.2022</td>\n",
       "      <td>6941-131-7</td>\n",
       "      <td>דירה בבית קומות</td>\n",
       "      <td>2.0</td>\n",
       "      <td>שניה</td>\n",
       "      <td>70.00</td>\n",
       "      <td>₪3,300,000.00</td>\n",
       "    </tr>\n",
       "    <tr>\n",
       "      <th>240</th>\n",
       "      <td>27.11.2022</td>\n",
       "      <td>6936-63-1</td>\n",
       "      <td>דירה בבית קומות</td>\n",
       "      <td>4.0</td>\n",
       "      <td>ראשונה</td>\n",
       "      <td>91.00</td>\n",
       "      <td>₪6,900,000.00</td>\n",
       "    </tr>\n",
       "    <tr>\n",
       "      <th>241</th>\n",
       "      <td>24.11.2022</td>\n",
       "      <td>6911-71-7</td>\n",
       "      <td>דירה בבית קומות</td>\n",
       "      <td>2.0</td>\n",
       "      <td>ראשונה</td>\n",
       "      <td>41.64</td>\n",
       "      <td>₪2,870,000.00</td>\n",
       "    </tr>\n",
       "    <tr>\n",
       "      <th>242</th>\n",
       "      <td>24.11.2022</td>\n",
       "      <td>6941-95-16</td>\n",
       "      <td>משרד</td>\n",
       "      <td>0.0</td>\n",
       "      <td>ראשונה</td>\n",
       "      <td>NaN</td>\n",
       "      <td>₪95,000,000.00</td>\n",
       "    </tr>\n",
       "    <tr>\n",
       "      <th>243</th>\n",
       "      <td>21.11.2022</td>\n",
       "      <td>09/01/7438</td>\n",
       "      <td>דירה בבית קומות</td>\n",
       "      <td>4.0</td>\n",
       "      <td>שלישית</td>\n",
       "      <td>119.00</td>\n",
       "      <td>₪10,250,000.00</td>\n",
       "    </tr>\n",
       "    <tr>\n",
       "      <th>244</th>\n",
       "      <td>20.11.2022</td>\n",
       "      <td>10/09/7462</td>\n",
       "      <td>דירה בבית קומות</td>\n",
       "      <td>3.0</td>\n",
       "      <td>ראשונה</td>\n",
       "      <td>64.00</td>\n",
       "      <td>₪4,388,000.00</td>\n",
       "    </tr>\n",
       "    <tr>\n",
       "      <th>245</th>\n",
       "      <td>17.11.2022</td>\n",
       "      <td>6910-29-8</td>\n",
       "      <td>דירה בבית קומות</td>\n",
       "      <td>3.0</td>\n",
       "      <td>ראשונה</td>\n",
       "      <td>63.00</td>\n",
       "      <td>₪3,610,000.00</td>\n",
       "    </tr>\n",
       "    <tr>\n",
       "      <th>246</th>\n",
       "      <td>17.11.2022</td>\n",
       "      <td>6933-21-22</td>\n",
       "      <td>דירה בבית קומות</td>\n",
       "      <td>3.0</td>\n",
       "      <td>קומה 4</td>\n",
       "      <td>56.90</td>\n",
       "      <td>₪2,600,000.00</td>\n",
       "    </tr>\n",
       "    <tr>\n",
       "      <th>247</th>\n",
       "      <td>17.11.2022</td>\n",
       "      <td>6911-154-5</td>\n",
       "      <td>דירה בבית קומות</td>\n",
       "      <td>3.5</td>\n",
       "      <td>שניה</td>\n",
       "      <td>71.00</td>\n",
       "      <td>₪5,350,000.00</td>\n",
       "    </tr>\n",
       "  </tbody>\n",
       "</table>\n",
       "</div>"
      ],
      "text/plain": [
       "          תאריך גוש חלקה תת חלקה            תיאור  חדרים    קומה     שטח  \\\n",
       "238  29.11.2022       6941-77-10  דירה בבית קומות    4.0  שלישית   64.00   \n",
       "239  27.11.2022       6941-131-7  דירה בבית קומות    2.0    שניה   70.00   \n",
       "240  27.11.2022        6936-63-1  דירה בבית קומות    4.0  ראשונה   91.00   \n",
       "241  24.11.2022        6911-71-7  דירה בבית קומות    2.0  ראשונה   41.64   \n",
       "242  24.11.2022       6941-95-16             משרד    0.0  ראשונה     NaN   \n",
       "243  21.11.2022       09/01/7438  דירה בבית קומות    4.0  שלישית  119.00   \n",
       "244  20.11.2022       10/09/7462  דירה בבית קומות    3.0  ראשונה   64.00   \n",
       "245  17.11.2022        6910-29-8  דירה בבית קומות    3.0  ראשונה   63.00   \n",
       "246  17.11.2022       6933-21-22  דירה בבית קומות    3.0  קומה 4   56.90   \n",
       "247  17.11.2022       6911-154-5  דירה בבית קומות    3.5    שניה   71.00   \n",
       "\n",
       "                מחיר  \n",
       "238   ₪4,600,000.00   \n",
       "239   ₪3,300,000.00   \n",
       "240   ₪6,900,000.00   \n",
       "241   ₪2,870,000.00   \n",
       "242  ₪95,000,000.00   \n",
       "243  ₪10,250,000.00   \n",
       "244   ₪4,388,000.00   \n",
       "245   ₪3,610,000.00   \n",
       "246   ₪2,600,000.00   \n",
       "247   ₪5,350,000.00   "
      ]
     },
     "execution_count": 4,
     "metadata": {},
     "output_type": "execute_result"
    }
   ],
   "source": [
    "# see the last ten rows\n",
    "df.tail(10)"
   ]
  },
  {
   "cell_type": "code",
   "execution_count": 5,
   "metadata": {
    "tags": []
   },
   "outputs": [
    {
     "name": "stdout",
     "output_type": "stream",
     "text": [
      "<class 'pandas.core.frame.DataFrame'>\n",
      "RangeIndex: 248 entries, 0 to 247\n",
      "Data columns (total 7 columns):\n",
      " #   Column            Non-Null Count  Dtype  \n",
      "---  ------            --------------  -----  \n",
      " 0   תאריך             248 non-null    object \n",
      " 1   גוש חלקה תת חלקה  248 non-null    object \n",
      " 2   תיאור             237 non-null    object \n",
      " 3   חדרים             248 non-null    float64\n",
      " 4   קומה              234 non-null    object \n",
      " 5   שטח               224 non-null    float64\n",
      " 6   מחיר              248 non-null    object \n",
      "dtypes: float64(2), object(5)\n",
      "memory usage: 13.7+ KB\n"
     ]
    }
   ],
   "source": [
    "# Info about the columns\n",
    "df.info()"
   ]
  },
  {
   "cell_type": "code",
   "execution_count": 6,
   "metadata": {},
   "outputs": [],
   "source": [
    "# Translating columns to english"
   ]
  },
  {
   "cell_type": "code",
   "execution_count": 7,
   "metadata": {
    "tags": []
   },
   "outputs": [
    {
     "data": {
      "text/plain": [
       "Index(['תאריך', 'גוש חלקה תת חלקה', 'תיאור', 'חדרים', 'קומה', 'שטח', 'מחיר'], dtype='object')"
      ]
     },
     "execution_count": 7,
     "metadata": {},
     "output_type": "execute_result"
    }
   ],
   "source": [
    "df.columns"
   ]
  },
  {
   "cell_type": "code",
   "execution_count": 8,
   "metadata": {},
   "outputs": [],
   "source": [
    "col_translate_eng = dict(zip(df.columns, ['date', 'block_parcel', 'description', 'rooms' ,'floor', 'area_sqm', 'price']))"
   ]
  },
  {
   "cell_type": "code",
   "execution_count": 9,
   "metadata": {
    "tags": []
   },
   "outputs": [],
   "source": [
    "# overwrite the columns translate to english\n",
    "df.rename(columns=col_translate_eng, inplace=True)"
   ]
  },
  {
   "cell_type": "code",
   "execution_count": 10,
   "metadata": {
    "tags": []
   },
   "outputs": [
    {
     "data": {
      "text/html": [
       "<div>\n",
       "<style scoped>\n",
       "    .dataframe tbody tr th:only-of-type {\n",
       "        vertical-align: middle;\n",
       "    }\n",
       "\n",
       "    .dataframe tbody tr th {\n",
       "        vertical-align: top;\n",
       "    }\n",
       "\n",
       "    .dataframe thead th {\n",
       "        text-align: right;\n",
       "    }\n",
       "</style>\n",
       "<table border=\"1\" class=\"dataframe\">\n",
       "  <thead>\n",
       "    <tr style=\"text-align: right;\">\n",
       "      <th></th>\n",
       "      <th>date</th>\n",
       "      <th>block_parcel</th>\n",
       "      <th>description</th>\n",
       "      <th>rooms</th>\n",
       "      <th>floor</th>\n",
       "      <th>area_sqm</th>\n",
       "      <th>price</th>\n",
       "    </tr>\n",
       "  </thead>\n",
       "  <tbody>\n",
       "    <tr>\n",
       "      <th>0</th>\n",
       "      <td>30.11.2023</td>\n",
       "      <td>04/10/7437</td>\n",
       "      <td>דירה בבית קומות</td>\n",
       "      <td>4.0</td>\n",
       "      <td>שלישית</td>\n",
       "      <td>88.10</td>\n",
       "      <td>₪4,270,000.00</td>\n",
       "    </tr>\n",
       "    <tr>\n",
       "      <th>1</th>\n",
       "      <td>23.11.2023</td>\n",
       "      <td>7226-45-6</td>\n",
       "      <td>דירה בבית קומות</td>\n",
       "      <td>3.0</td>\n",
       "      <td>שלישית</td>\n",
       "      <td>69.00</td>\n",
       "      <td>₪4,600,000.00</td>\n",
       "    </tr>\n",
       "    <tr>\n",
       "      <th>2</th>\n",
       "      <td>05.11.2023</td>\n",
       "      <td>6918-53-38</td>\n",
       "      <td>דירה בבית קומות</td>\n",
       "      <td>2.0</td>\n",
       "      <td>שלישית</td>\n",
       "      <td>51.00</td>\n",
       "      <td>₪3,650,000.00</td>\n",
       "    </tr>\n",
       "    <tr>\n",
       "      <th>3</th>\n",
       "      <td>03.11.2023</td>\n",
       "      <td>7441-16-3</td>\n",
       "      <td>מגורים</td>\n",
       "      <td>0.0</td>\n",
       "      <td>NaN</td>\n",
       "      <td>NaN</td>\n",
       "      <td>₪700,000.00</td>\n",
       "    </tr>\n",
       "    <tr>\n",
       "      <th>4</th>\n",
       "      <td>02.11.2023</td>\n",
       "      <td>7438-13-2</td>\n",
       "      <td>דירה בבית קומות</td>\n",
       "      <td>1.0</td>\n",
       "      <td>קרקע</td>\n",
       "      <td>30.57</td>\n",
       "      <td>₪2,050,000.00</td>\n",
       "    </tr>\n",
       "  </tbody>\n",
       "</table>\n",
       "</div>"
      ],
      "text/plain": [
       "         date block_parcel       description  rooms   floor  area_sqm  \\\n",
       "0  30.11.2023   04/10/7437  דירה בבית קומות     4.0  שלישית     88.10   \n",
       "1  23.11.2023    7226-45-6  דירה בבית קומות     3.0  שלישית     69.00   \n",
       "2  05.11.2023   6918-53-38   דירה בבית קומות    2.0  שלישית     51.00   \n",
       "3  03.11.2023    7441-16-3            מגורים    0.0     NaN       NaN   \n",
       "4  02.11.2023    7438-13-2  דירה בבית קומות     1.0    קרקע     30.57   \n",
       "\n",
       "            price  \n",
       "0  ₪4,270,000.00   \n",
       "1  ₪4,600,000.00   \n",
       "2  ₪3,650,000.00   \n",
       "3    ₪700,000.00   \n",
       "4  ₪2,050,000.00   "
      ]
     },
     "execution_count": 10,
     "metadata": {},
     "output_type": "execute_result"
    }
   ],
   "source": [
    "df.head()"
   ]
  },
  {
   "cell_type": "markdown",
   "metadata": {},
   "source": [
    "## Dealing with dates"
   ]
  },
  {
   "cell_type": "code",
   "execution_count": 11,
   "metadata": {
    "scrolled": true,
    "tags": []
   },
   "outputs": [
    {
     "data": {
      "text/plain": [
       "0    30.11.2023\n",
       "1    23.11.2023\n",
       "2    05.11.2023\n",
       "3    03.11.2023\n",
       "4    02.11.2023\n",
       "Name: date, dtype: object"
      ]
     },
     "execution_count": 11,
     "metadata": {},
     "output_type": "execute_result"
    }
   ],
   "source": [
    "df['date'].head()"
   ]
  },
  {
   "cell_type": "code",
   "execution_count": 12,
   "metadata": {
    "scrolled": true,
    "tags": []
   },
   "outputs": [
    {
     "data": {
      "text/plain": [
       "0   2023-11-30\n",
       "1   2023-11-23\n",
       "2   2023-11-05\n",
       "3   2023-11-03\n",
       "4   2023-11-02\n",
       "Name: date, dtype: datetime64[ns]"
      ]
     },
     "execution_count": 12,
     "metadata": {},
     "output_type": "execute_result"
    }
   ],
   "source": [
    "pd.to_datetime(df['date'], format=\"%d.%m.%Y\").head()"
   ]
  },
  {
   "cell_type": "code",
   "execution_count": 13,
   "metadata": {
    "tags": []
   },
   "outputs": [],
   "source": [
    "df['date'] = pd.to_datetime(df['date'], format=\"%d.%m.%Y\")"
   ]
  },
  {
   "cell_type": "markdown",
   "metadata": {},
   "source": [
    "### Dealing with dates¶"
   ]
  },
  {
   "cell_type": "code",
   "execution_count": 14,
   "metadata": {
    "scrolled": true,
    "tags": []
   },
   "outputs": [
    {
     "data": {
      "text/plain": [
       "0      04/10/7437\n",
       "1       7226-45-6\n",
       "2      6918-53-38\n",
       "3       7441-16-3\n",
       "4       7438-13-2\n",
       "5       7451-22-6\n",
       "6      6907-32-23\n",
       "7       6907-82-5\n",
       "8      6941-123-6\n",
       "9       6919-58-8\n",
       "10      7429-51-7\n",
       "11      6937-29-6\n",
       "12     6918-61-24\n",
       "13      7429-53-5\n",
       "14     10/13/6912\n",
       "15      6936-65-3\n",
       "16     6933-91-10\n",
       "17     09/09/7228\n",
       "18      7462-24-5\n",
       "19    6933-136-77\n",
       "20      7226-23-3\n",
       "21      6918-82-4\n",
       "22      6911-53-3\n",
       "23     03/06/7446\n",
       "24      6936-50-4\n",
       "Name: block_parcel, dtype: object"
      ]
     },
     "execution_count": 14,
     "metadata": {},
     "output_type": "execute_result"
    }
   ],
   "source": [
    "df['block_parcel'].head(25)"
   ]
  },
  {
   "cell_type": "code",
   "execution_count": 15,
   "metadata": {
    "tags": []
   },
   "outputs": [
    {
     "data": {
      "text/plain": [
       "0      False\n",
       "1       True\n",
       "2       True\n",
       "3       True\n",
       "4       True\n",
       "       ...  \n",
       "243    False\n",
       "244    False\n",
       "245     True\n",
       "246     True\n",
       "247     True\n",
       "Name: block_parcel, Length: 248, dtype: bool"
      ]
     },
     "execution_count": 15,
     "metadata": {},
     "output_type": "execute_result"
    }
   ],
   "source": [
    "# we can deal with '-' and '/' separately\n",
    "df['block_parcel'].apply(lambda p: '-' in p)"
   ]
  },
  {
   "cell_type": "code",
   "execution_count": 16,
   "metadata": {
    "tags": []
   },
   "outputs": [],
   "source": [
    "q1 = df['block_parcel'].apply(lambda p: '-' in p)\n",
    "q2 = df['block_parcel'].apply(lambda p: '/' in p)"
   ]
  },
  {
   "cell_type": "code",
   "execution_count": 17,
   "metadata": {
    "tags": []
   },
   "outputs": [
    {
     "data": {
      "text/plain": [
       "215"
      ]
     },
     "execution_count": 17,
     "metadata": {},
     "output_type": "execute_result"
    }
   ],
   "source": [
    "q1.sum()"
   ]
  },
  {
   "cell_type": "code",
   "execution_count": 18,
   "metadata": {
    "tags": []
   },
   "outputs": [
    {
     "data": {
      "text/plain": [
       "33"
      ]
     },
     "execution_count": 18,
     "metadata": {},
     "output_type": "execute_result"
    }
   ],
   "source": [
    "q2.sum()"
   ]
  },
  {
   "cell_type": "code",
   "execution_count": 19,
   "metadata": {
    "tags": []
   },
   "outputs": [
    {
     "data": {
      "text/plain": [
       "1     7226-45-6\n",
       "2    6918-53-38\n",
       "3     7441-16-3\n",
       "4     7438-13-2\n",
       "5     7451-22-6\n",
       "Name: block_parcel, dtype: object"
      ]
     },
     "execution_count": 19,
     "metadata": {},
     "output_type": "execute_result"
    }
   ],
   "source": [
    "df.loc[q1, 'block_parcel'].head()"
   ]
  },
  {
   "cell_type": "code",
   "execution_count": 20,
   "metadata": {
    "tags": []
   },
   "outputs": [
    {
     "data": {
      "text/plain": [
       "0     04/10/7437\n",
       "14    10/13/6912\n",
       "17    09/09/7228\n",
       "23    03/06/7446\n",
       "40    10/05/6936\n",
       "Name: block_parcel, dtype: object"
      ]
     },
     "execution_count": 20,
     "metadata": {},
     "output_type": "execute_result"
    }
   ],
   "source": [
    "df.loc[q2, 'block_parcel'].head()"
   ]
  },
  {
   "cell_type": "code",
   "execution_count": 21,
   "metadata": {
    "tags": []
   },
   "outputs": [
    {
     "data": {
      "text/html": [
       "<div>\n",
       "<style scoped>\n",
       "    .dataframe tbody tr th:only-of-type {\n",
       "        vertical-align: middle;\n",
       "    }\n",
       "\n",
       "    .dataframe tbody tr th {\n",
       "        vertical-align: top;\n",
       "    }\n",
       "\n",
       "    .dataframe thead th {\n",
       "        text-align: right;\n",
       "    }\n",
       "</style>\n",
       "<table border=\"1\" class=\"dataframe\">\n",
       "  <thead>\n",
       "    <tr style=\"text-align: right;\">\n",
       "      <th></th>\n",
       "      <th>block</th>\n",
       "      <th>parcel</th>\n",
       "      <th>sub_parcel</th>\n",
       "    </tr>\n",
       "  </thead>\n",
       "  <tbody>\n",
       "    <tr>\n",
       "      <th>1</th>\n",
       "      <td>7226</td>\n",
       "      <td>45</td>\n",
       "      <td>6</td>\n",
       "    </tr>\n",
       "    <tr>\n",
       "      <th>2</th>\n",
       "      <td>6918</td>\n",
       "      <td>53</td>\n",
       "      <td>38</td>\n",
       "    </tr>\n",
       "    <tr>\n",
       "      <th>3</th>\n",
       "      <td>7441</td>\n",
       "      <td>16</td>\n",
       "      <td>3</td>\n",
       "    </tr>\n",
       "    <tr>\n",
       "      <th>4</th>\n",
       "      <td>7438</td>\n",
       "      <td>13</td>\n",
       "      <td>2</td>\n",
       "    </tr>\n",
       "    <tr>\n",
       "      <th>5</th>\n",
       "      <td>7451</td>\n",
       "      <td>22</td>\n",
       "      <td>6</td>\n",
       "    </tr>\n",
       "    <tr>\n",
       "      <th>...</th>\n",
       "      <td>...</td>\n",
       "      <td>...</td>\n",
       "      <td>...</td>\n",
       "    </tr>\n",
       "    <tr>\n",
       "      <th>241</th>\n",
       "      <td>6911</td>\n",
       "      <td>71</td>\n",
       "      <td>7</td>\n",
       "    </tr>\n",
       "    <tr>\n",
       "      <th>242</th>\n",
       "      <td>6941</td>\n",
       "      <td>95</td>\n",
       "      <td>16</td>\n",
       "    </tr>\n",
       "    <tr>\n",
       "      <th>245</th>\n",
       "      <td>6910</td>\n",
       "      <td>29</td>\n",
       "      <td>8</td>\n",
       "    </tr>\n",
       "    <tr>\n",
       "      <th>246</th>\n",
       "      <td>6933</td>\n",
       "      <td>21</td>\n",
       "      <td>22</td>\n",
       "    </tr>\n",
       "    <tr>\n",
       "      <th>247</th>\n",
       "      <td>6911</td>\n",
       "      <td>154</td>\n",
       "      <td>5</td>\n",
       "    </tr>\n",
       "  </tbody>\n",
       "</table>\n",
       "<p>215 rows × 3 columns</p>\n",
       "</div>"
      ],
      "text/plain": [
       "    block parcel sub_parcel\n",
       "1    7226     45          6\n",
       "2    6918     53         38\n",
       "3    7441     16          3\n",
       "4    7438     13          2\n",
       "5    7451     22          6\n",
       "..    ...    ...        ...\n",
       "241  6911     71          7\n",
       "242  6941     95         16\n",
       "245  6910     29          8\n",
       "246  6933     21         22\n",
       "247  6911    154          5\n",
       "\n",
       "[215 rows x 3 columns]"
      ]
     },
     "execution_count": 21,
     "metadata": {},
     "output_type": "execute_result"
    }
   ],
   "source": [
    "df.loc[q1, 'block_parcel'].apply(lambda p: pd.Series(index=['block', 'parcel', 'sub_parcel'], data = p.split('-')))"
   ]
  },
  {
   "cell_type": "code",
   "execution_count": 22,
   "metadata": {
    "tags": []
   },
   "outputs": [],
   "source": [
    "df.loc[q1, ['block', 'parcel', 'sub_parcel']] = df.loc[q1, 'block_parcel'].apply(\\\n",
    "        lambda p: pd.Series(index=['block', 'parcel', 'sub_parcel'], \\\n",
    "                    data = [int(item) for item in p.split('-')]))"
   ]
  },
  {
   "cell_type": "code",
   "execution_count": 23,
   "metadata": {
    "tags": []
   },
   "outputs": [
    {
     "data": {
      "text/html": [
       "<div>\n",
       "<style scoped>\n",
       "    .dataframe tbody tr th:only-of-type {\n",
       "        vertical-align: middle;\n",
       "    }\n",
       "\n",
       "    .dataframe tbody tr th {\n",
       "        vertical-align: top;\n",
       "    }\n",
       "\n",
       "    .dataframe thead th {\n",
       "        text-align: right;\n",
       "    }\n",
       "</style>\n",
       "<table border=\"1\" class=\"dataframe\">\n",
       "  <thead>\n",
       "    <tr style=\"text-align: right;\">\n",
       "      <th></th>\n",
       "      <th>date</th>\n",
       "      <th>block_parcel</th>\n",
       "      <th>description</th>\n",
       "      <th>rooms</th>\n",
       "      <th>floor</th>\n",
       "      <th>area_sqm</th>\n",
       "      <th>price</th>\n",
       "      <th>block</th>\n",
       "      <th>parcel</th>\n",
       "      <th>sub_parcel</th>\n",
       "    </tr>\n",
       "  </thead>\n",
       "  <tbody>\n",
       "    <tr>\n",
       "      <th>0</th>\n",
       "      <td>2023-11-30</td>\n",
       "      <td>04/10/7437</td>\n",
       "      <td>דירה בבית קומות</td>\n",
       "      <td>4.0</td>\n",
       "      <td>שלישית</td>\n",
       "      <td>88.10</td>\n",
       "      <td>₪4,270,000.00</td>\n",
       "      <td>NaN</td>\n",
       "      <td>NaN</td>\n",
       "      <td>NaN</td>\n",
       "    </tr>\n",
       "    <tr>\n",
       "      <th>1</th>\n",
       "      <td>2023-11-23</td>\n",
       "      <td>7226-45-6</td>\n",
       "      <td>דירה בבית קומות</td>\n",
       "      <td>3.0</td>\n",
       "      <td>שלישית</td>\n",
       "      <td>69.00</td>\n",
       "      <td>₪4,600,000.00</td>\n",
       "      <td>7226.0</td>\n",
       "      <td>45.0</td>\n",
       "      <td>6.0</td>\n",
       "    </tr>\n",
       "    <tr>\n",
       "      <th>2</th>\n",
       "      <td>2023-11-05</td>\n",
       "      <td>6918-53-38</td>\n",
       "      <td>דירה בבית קומות</td>\n",
       "      <td>2.0</td>\n",
       "      <td>שלישית</td>\n",
       "      <td>51.00</td>\n",
       "      <td>₪3,650,000.00</td>\n",
       "      <td>6918.0</td>\n",
       "      <td>53.0</td>\n",
       "      <td>38.0</td>\n",
       "    </tr>\n",
       "    <tr>\n",
       "      <th>3</th>\n",
       "      <td>2023-11-03</td>\n",
       "      <td>7441-16-3</td>\n",
       "      <td>מגורים</td>\n",
       "      <td>0.0</td>\n",
       "      <td>NaN</td>\n",
       "      <td>NaN</td>\n",
       "      <td>₪700,000.00</td>\n",
       "      <td>7441.0</td>\n",
       "      <td>16.0</td>\n",
       "      <td>3.0</td>\n",
       "    </tr>\n",
       "    <tr>\n",
       "      <th>4</th>\n",
       "      <td>2023-11-02</td>\n",
       "      <td>7438-13-2</td>\n",
       "      <td>דירה בבית קומות</td>\n",
       "      <td>1.0</td>\n",
       "      <td>קרקע</td>\n",
       "      <td>30.57</td>\n",
       "      <td>₪2,050,000.00</td>\n",
       "      <td>7438.0</td>\n",
       "      <td>13.0</td>\n",
       "      <td>2.0</td>\n",
       "    </tr>\n",
       "  </tbody>\n",
       "</table>\n",
       "</div>"
      ],
      "text/plain": [
       "        date block_parcel       description  rooms   floor  area_sqm  \\\n",
       "0 2023-11-30   04/10/7437  דירה בבית קומות     4.0  שלישית     88.10   \n",
       "1 2023-11-23    7226-45-6  דירה בבית קומות     3.0  שלישית     69.00   \n",
       "2 2023-11-05   6918-53-38   דירה בבית קומות    2.0  שלישית     51.00   \n",
       "3 2023-11-03    7441-16-3            מגורים    0.0     NaN       NaN   \n",
       "4 2023-11-02    7438-13-2  דירה בבית קומות     1.0    קרקע     30.57   \n",
       "\n",
       "            price   block  parcel  sub_parcel  \n",
       "0  ₪4,270,000.00      NaN     NaN         NaN  \n",
       "1  ₪4,600,000.00   7226.0    45.0         6.0  \n",
       "2  ₪3,650,000.00   6918.0    53.0        38.0  \n",
       "3    ₪700,000.00   7441.0    16.0         3.0  \n",
       "4  ₪2,050,000.00   7438.0    13.0         2.0  "
      ]
     },
     "execution_count": 23,
     "metadata": {},
     "output_type": "execute_result"
    }
   ],
   "source": [
    "df.head()"
   ]
  },
  {
   "cell_type": "code",
   "execution_count": 24,
   "metadata": {
    "tags": []
   },
   "outputs": [],
   "source": [
    "df.loc[q2, ['block', 'parcel', 'sub_parcel']] = df.loc[q2, 'block_parcel'].apply(\\\n",
    "            lambda p: pd.Series(index=['block', 'parcel', 'sub_parcel'], \\\n",
    "                        data = [int(item) for item in p.split('/')][::-1]))"
   ]
  },
  {
   "cell_type": "code",
   "execution_count": 25,
   "metadata": {
    "tags": []
   },
   "outputs": [
    {
     "data": {
      "text/html": [
       "<div>\n",
       "<style scoped>\n",
       "    .dataframe tbody tr th:only-of-type {\n",
       "        vertical-align: middle;\n",
       "    }\n",
       "\n",
       "    .dataframe tbody tr th {\n",
       "        vertical-align: top;\n",
       "    }\n",
       "\n",
       "    .dataframe thead th {\n",
       "        text-align: right;\n",
       "    }\n",
       "</style>\n",
       "<table border=\"1\" class=\"dataframe\">\n",
       "  <thead>\n",
       "    <tr style=\"text-align: right;\">\n",
       "      <th></th>\n",
       "      <th>date</th>\n",
       "      <th>block_parcel</th>\n",
       "      <th>description</th>\n",
       "      <th>rooms</th>\n",
       "      <th>floor</th>\n",
       "      <th>area_sqm</th>\n",
       "      <th>price</th>\n",
       "      <th>block</th>\n",
       "      <th>parcel</th>\n",
       "      <th>sub_parcel</th>\n",
       "    </tr>\n",
       "  </thead>\n",
       "  <tbody>\n",
       "    <tr>\n",
       "      <th>0</th>\n",
       "      <td>2023-11-30</td>\n",
       "      <td>04/10/7437</td>\n",
       "      <td>דירה בבית קומות</td>\n",
       "      <td>4.0</td>\n",
       "      <td>שלישית</td>\n",
       "      <td>88.10</td>\n",
       "      <td>₪4,270,000.00</td>\n",
       "      <td>7437.0</td>\n",
       "      <td>10.0</td>\n",
       "      <td>4.0</td>\n",
       "    </tr>\n",
       "    <tr>\n",
       "      <th>1</th>\n",
       "      <td>2023-11-23</td>\n",
       "      <td>7226-45-6</td>\n",
       "      <td>דירה בבית קומות</td>\n",
       "      <td>3.0</td>\n",
       "      <td>שלישית</td>\n",
       "      <td>69.00</td>\n",
       "      <td>₪4,600,000.00</td>\n",
       "      <td>7226.0</td>\n",
       "      <td>45.0</td>\n",
       "      <td>6.0</td>\n",
       "    </tr>\n",
       "    <tr>\n",
       "      <th>2</th>\n",
       "      <td>2023-11-05</td>\n",
       "      <td>6918-53-38</td>\n",
       "      <td>דירה בבית קומות</td>\n",
       "      <td>2.0</td>\n",
       "      <td>שלישית</td>\n",
       "      <td>51.00</td>\n",
       "      <td>₪3,650,000.00</td>\n",
       "      <td>6918.0</td>\n",
       "      <td>53.0</td>\n",
       "      <td>38.0</td>\n",
       "    </tr>\n",
       "    <tr>\n",
       "      <th>3</th>\n",
       "      <td>2023-11-03</td>\n",
       "      <td>7441-16-3</td>\n",
       "      <td>מגורים</td>\n",
       "      <td>0.0</td>\n",
       "      <td>NaN</td>\n",
       "      <td>NaN</td>\n",
       "      <td>₪700,000.00</td>\n",
       "      <td>7441.0</td>\n",
       "      <td>16.0</td>\n",
       "      <td>3.0</td>\n",
       "    </tr>\n",
       "    <tr>\n",
       "      <th>4</th>\n",
       "      <td>2023-11-02</td>\n",
       "      <td>7438-13-2</td>\n",
       "      <td>דירה בבית קומות</td>\n",
       "      <td>1.0</td>\n",
       "      <td>קרקע</td>\n",
       "      <td>30.57</td>\n",
       "      <td>₪2,050,000.00</td>\n",
       "      <td>7438.0</td>\n",
       "      <td>13.0</td>\n",
       "      <td>2.0</td>\n",
       "    </tr>\n",
       "  </tbody>\n",
       "</table>\n",
       "</div>"
      ],
      "text/plain": [
       "        date block_parcel       description  rooms   floor  area_sqm  \\\n",
       "0 2023-11-30   04/10/7437  דירה בבית קומות     4.0  שלישית     88.10   \n",
       "1 2023-11-23    7226-45-6  דירה בבית קומות     3.0  שלישית     69.00   \n",
       "2 2023-11-05   6918-53-38   דירה בבית קומות    2.0  שלישית     51.00   \n",
       "3 2023-11-03    7441-16-3            מגורים    0.0     NaN       NaN   \n",
       "4 2023-11-02    7438-13-2  דירה בבית קומות     1.0    קרקע     30.57   \n",
       "\n",
       "            price   block  parcel  sub_parcel  \n",
       "0  ₪4,270,000.00   7437.0    10.0         4.0  \n",
       "1  ₪4,600,000.00   7226.0    45.0         6.0  \n",
       "2  ₪3,650,000.00   6918.0    53.0        38.0  \n",
       "3    ₪700,000.00   7441.0    16.0         3.0  \n",
       "4  ₪2,050,000.00   7438.0    13.0         2.0  "
      ]
     },
     "execution_count": 25,
     "metadata": {},
     "output_type": "execute_result"
    }
   ],
   "source": [
    "df.head()"
   ]
  },
  {
   "cell_type": "markdown",
   "metadata": {
    "tags": []
   },
   "source": [
    "### Description"
   ]
  },
  {
   "cell_type": "code",
   "execution_count": 26,
   "metadata": {
    "tags": []
   },
   "outputs": [
    {
     "data": {
      "text/plain": [
       "description\n",
       "דירה בבית קומות     139\n",
       "דירה בבית קומות      48\n",
       "משרד                 17\n",
       "חנות                  7\n",
       "חנות                  5\n",
       "חניה                  4\n",
       "קרקע למגורים          4\n",
       "מחסנים                2\n",
       "מחסנים                2\n",
       "דירת גג               2\n",
       "קומבינציה             2\n",
       "מגורים                1\n",
       "משרד                  1\n",
       "בית בודד              1\n",
       "דירת גן               1\n",
       "ללא תיכנון            1\n",
       "Name: count, dtype: int64"
      ]
     },
     "execution_count": 26,
     "metadata": {},
     "output_type": "execute_result"
    }
   ],
   "source": [
    "df['description'].value_counts()"
   ]
  },
  {
   "cell_type": "code",
   "execution_count": 27,
   "metadata": {
    "tags": []
   },
   "outputs": [
    {
     "data": {
      "text/plain": [
       "description\n",
       "דירה בבית קומות    187\n",
       "משרד                18\n",
       "חנות                12\n",
       "nan                 11\n",
       "מחסנים               4\n",
       "חניה                 4\n",
       "קרקע למגורים         4\n",
       "דירת גג              2\n",
       "קומבינציה            2\n",
       "מגורים               1\n",
       "בית בודד             1\n",
       "דירת גן              1\n",
       "ללא תיכנון           1\n",
       "Name: count, dtype: int64"
      ]
     },
     "execution_count": 27,
     "metadata": {},
     "output_type": "execute_result"
    }
   ],
   "source": [
    "df['description'].apply(lambda p: str(p).strip()).value_counts()"
   ]
  },
  {
   "cell_type": "code",
   "execution_count": 28,
   "metadata": {
    "tags": []
   },
   "outputs": [],
   "source": [
    "df['description_'] = df['description'].apply(lambda p: str(p).strip())"
   ]
  },
  {
   "cell_type": "code",
   "execution_count": 29,
   "metadata": {
    "tags": []
   },
   "outputs": [
    {
     "data": {
      "text/plain": [
       "array(['דירה בבית קומות', 'מגורים', 'חנות', 'משרד', 'מחסנים', 'nan',\n",
       "       'בית בודד', 'חניה', 'קרקע למגורים', 'דירת גן', 'דירת גג',\n",
       "       'קומבינציה', 'ללא תיכנון'], dtype=object)"
      ]
     },
     "execution_count": 29,
     "metadata": {},
     "output_type": "execute_result"
    }
   ],
   "source": [
    "df['description_'].unique()"
   ]
  },
  {
   "cell_type": "code",
   "execution_count": 30,
   "metadata": {},
   "outputs": [],
   "source": [
    "# replace nan with Unkown"
   ]
  },
  {
   "cell_type": "code",
   "execution_count": 31,
   "metadata": {
    "tags": []
   },
   "outputs": [
    {
     "data": {
      "text/html": [
       "<div>\n",
       "<style scoped>\n",
       "    .dataframe tbody tr th:only-of-type {\n",
       "        vertical-align: middle;\n",
       "    }\n",
       "\n",
       "    .dataframe tbody tr th {\n",
       "        vertical-align: top;\n",
       "    }\n",
       "\n",
       "    .dataframe thead th {\n",
       "        text-align: right;\n",
       "    }\n",
       "</style>\n",
       "<table border=\"1\" class=\"dataframe\">\n",
       "  <thead>\n",
       "    <tr style=\"text-align: right;\">\n",
       "      <th></th>\n",
       "      <th>date</th>\n",
       "      <th>block_parcel</th>\n",
       "      <th>description</th>\n",
       "      <th>rooms</th>\n",
       "      <th>floor</th>\n",
       "      <th>area_sqm</th>\n",
       "      <th>price</th>\n",
       "      <th>block</th>\n",
       "      <th>parcel</th>\n",
       "      <th>sub_parcel</th>\n",
       "      <th>description_</th>\n",
       "    </tr>\n",
       "  </thead>\n",
       "  <tbody>\n",
       "    <tr>\n",
       "      <th>68</th>\n",
       "      <td>2023-06-12</td>\n",
       "      <td>6920-38-67</td>\n",
       "      <td>NaN</td>\n",
       "      <td>5.0</td>\n",
       "      <td>שלישית</td>\n",
       "      <td>104.0</td>\n",
       "      <td>₪9,000,000.00</td>\n",
       "      <td>6920.0</td>\n",
       "      <td>38.0</td>\n",
       "      <td>67.0</td>\n",
       "      <td>nan</td>\n",
       "    </tr>\n",
       "    <tr>\n",
       "      <th>87</th>\n",
       "      <td>2023-05-14</td>\n",
       "      <td>6911-127-2</td>\n",
       "      <td>NaN</td>\n",
       "      <td>3.0</td>\n",
       "      <td>ראשונה</td>\n",
       "      <td>62.0</td>\n",
       "      <td>₪2,296,962.00</td>\n",
       "      <td>6911.0</td>\n",
       "      <td>127.0</td>\n",
       "      <td>2.0</td>\n",
       "      <td>nan</td>\n",
       "    </tr>\n",
       "    <tr>\n",
       "      <th>149</th>\n",
       "      <td>2023-02-22</td>\n",
       "      <td>6904-125-3</td>\n",
       "      <td>NaN</td>\n",
       "      <td>6.0</td>\n",
       "      <td>שניה</td>\n",
       "      <td>193.0</td>\n",
       "      <td>₪26,000,000.00</td>\n",
       "      <td>6904.0</td>\n",
       "      <td>125.0</td>\n",
       "      <td>3.0</td>\n",
       "      <td>nan</td>\n",
       "    </tr>\n",
       "    <tr>\n",
       "      <th>156</th>\n",
       "      <td>2023-02-15</td>\n",
       "      <td>07/02/7450</td>\n",
       "      <td>NaN</td>\n",
       "      <td>3.0</td>\n",
       "      <td>NaN</td>\n",
       "      <td>69.0</td>\n",
       "      <td>₪4,670,000.00</td>\n",
       "      <td>7450.0</td>\n",
       "      <td>2.0</td>\n",
       "      <td>7.0</td>\n",
       "      <td>nan</td>\n",
       "    </tr>\n",
       "    <tr>\n",
       "      <th>191</th>\n",
       "      <td>2023-01-15</td>\n",
       "      <td>7430-37-5</td>\n",
       "      <td>NaN</td>\n",
       "      <td>4.0</td>\n",
       "      <td>שניה</td>\n",
       "      <td>NaN</td>\n",
       "      <td>₪50,000.00</td>\n",
       "      <td>7430.0</td>\n",
       "      <td>37.0</td>\n",
       "      <td>5.0</td>\n",
       "      <td>nan</td>\n",
       "    </tr>\n",
       "    <tr>\n",
       "      <th>204</th>\n",
       "      <td>2023-01-02</td>\n",
       "      <td>7226-93-11</td>\n",
       "      <td>NaN</td>\n",
       "      <td>2.0</td>\n",
       "      <td>שניה</td>\n",
       "      <td>46.0</td>\n",
       "      <td>₪3,344,335.00</td>\n",
       "      <td>7226.0</td>\n",
       "      <td>93.0</td>\n",
       "      <td>11.0</td>\n",
       "      <td>nan</td>\n",
       "    </tr>\n",
       "    <tr>\n",
       "      <th>205</th>\n",
       "      <td>2023-01-02</td>\n",
       "      <td>7226-93-12</td>\n",
       "      <td>NaN</td>\n",
       "      <td>2.0</td>\n",
       "      <td>שניה</td>\n",
       "      <td>48.0</td>\n",
       "      <td>₪3,348,116.00</td>\n",
       "      <td>7226.0</td>\n",
       "      <td>93.0</td>\n",
       "      <td>12.0</td>\n",
       "      <td>nan</td>\n",
       "    </tr>\n",
       "    <tr>\n",
       "      <th>206</th>\n",
       "      <td>2023-01-02</td>\n",
       "      <td>7226-93-14</td>\n",
       "      <td>NaN</td>\n",
       "      <td>2.0</td>\n",
       "      <td>רביעית</td>\n",
       "      <td>48.0</td>\n",
       "      <td>₪3,486,967.00</td>\n",
       "      <td>7226.0</td>\n",
       "      <td>93.0</td>\n",
       "      <td>14.0</td>\n",
       "      <td>nan</td>\n",
       "    </tr>\n",
       "    <tr>\n",
       "      <th>207</th>\n",
       "      <td>2023-01-02</td>\n",
       "      <td>7226-93-15</td>\n",
       "      <td>NaN</td>\n",
       "      <td>2.0</td>\n",
       "      <td>רביעית</td>\n",
       "      <td>49.0</td>\n",
       "      <td>₪3,545,316.00</td>\n",
       "      <td>7226.0</td>\n",
       "      <td>93.0</td>\n",
       "      <td>15.0</td>\n",
       "      <td>nan</td>\n",
       "    </tr>\n",
       "    <tr>\n",
       "      <th>208</th>\n",
       "      <td>2023-01-02</td>\n",
       "      <td>7226-93-16</td>\n",
       "      <td>NaN</td>\n",
       "      <td>3.0</td>\n",
       "      <td>שניה</td>\n",
       "      <td>61.0</td>\n",
       "      <td>₪4,216,885.00</td>\n",
       "      <td>7226.0</td>\n",
       "      <td>93.0</td>\n",
       "      <td>16.0</td>\n",
       "      <td>nan</td>\n",
       "    </tr>\n",
       "    <tr>\n",
       "      <th>225</th>\n",
       "      <td>2022-12-19</td>\n",
       "      <td>7245-14-2</td>\n",
       "      <td>NaN</td>\n",
       "      <td>5.0</td>\n",
       "      <td>עשרים ושמונה</td>\n",
       "      <td>184.0</td>\n",
       "      <td>₪26,663,688.00</td>\n",
       "      <td>7245.0</td>\n",
       "      <td>14.0</td>\n",
       "      <td>2.0</td>\n",
       "      <td>nan</td>\n",
       "    </tr>\n",
       "  </tbody>\n",
       "</table>\n",
       "</div>"
      ],
      "text/plain": [
       "          date block_parcel description  rooms         floor  area_sqm  \\\n",
       "68  2023-06-12   6920-38-67         NaN    5.0        שלישית     104.0   \n",
       "87  2023-05-14   6911-127-2         NaN    3.0        ראשונה      62.0   \n",
       "149 2023-02-22   6904-125-3         NaN    6.0          שניה     193.0   \n",
       "156 2023-02-15   07/02/7450         NaN    3.0           NaN      69.0   \n",
       "191 2023-01-15    7430-37-5         NaN    4.0          שניה       NaN   \n",
       "204 2023-01-02   7226-93-11         NaN    2.0          שניה      46.0   \n",
       "205 2023-01-02   7226-93-12         NaN    2.0          שניה      48.0   \n",
       "206 2023-01-02   7226-93-14         NaN    2.0        רביעית      48.0   \n",
       "207 2023-01-02   7226-93-15         NaN    2.0        רביעית      49.0   \n",
       "208 2023-01-02   7226-93-16         NaN    3.0          שניה      61.0   \n",
       "225 2022-12-19    7245-14-2         NaN    5.0  עשרים ושמונה     184.0   \n",
       "\n",
       "               price   block  parcel  sub_parcel description_  \n",
       "68    ₪9,000,000.00   6920.0    38.0        67.0          nan  \n",
       "87    ₪2,296,962.00   6911.0   127.0         2.0          nan  \n",
       "149  ₪26,000,000.00   6904.0   125.0         3.0          nan  \n",
       "156   ₪4,670,000.00   7450.0     2.0         7.0          nan  \n",
       "191      ₪50,000.00   7430.0    37.0         5.0          nan  \n",
       "204   ₪3,344,335.00   7226.0    93.0        11.0          nan  \n",
       "205   ₪3,348,116.00   7226.0    93.0        12.0          nan  \n",
       "206   ₪3,486,967.00   7226.0    93.0        14.0          nan  \n",
       "207   ₪3,545,316.00   7226.0    93.0        15.0          nan  \n",
       "208   ₪4,216,885.00   7226.0    93.0        16.0          nan  \n",
       "225  ₪26,663,688.00   7245.0    14.0         2.0          nan  "
      ]
     },
     "execution_count": 31,
     "metadata": {},
     "output_type": "execute_result"
    }
   ],
   "source": [
    "df[df['description_'] == 'nan']"
   ]
  },
  {
   "cell_type": "code",
   "execution_count": 32,
   "metadata": {
    "tags": []
   },
   "outputs": [],
   "source": [
    "df.loc[df['description_'] == 'nan', 'description_'] = 'Unknown'"
   ]
  },
  {
   "cell_type": "code",
   "execution_count": 33,
   "metadata": {
    "tags": []
   },
   "outputs": [
    {
     "data": {
      "text/html": [
       "<div>\n",
       "<style scoped>\n",
       "    .dataframe tbody tr th:only-of-type {\n",
       "        vertical-align: middle;\n",
       "    }\n",
       "\n",
       "    .dataframe tbody tr th {\n",
       "        vertical-align: top;\n",
       "    }\n",
       "\n",
       "    .dataframe thead th {\n",
       "        text-align: right;\n",
       "    }\n",
       "</style>\n",
       "<table border=\"1\" class=\"dataframe\">\n",
       "  <thead>\n",
       "    <tr style=\"text-align: right;\">\n",
       "      <th></th>\n",
       "      <th>date</th>\n",
       "      <th>block_parcel</th>\n",
       "      <th>description</th>\n",
       "      <th>rooms</th>\n",
       "      <th>floor</th>\n",
       "      <th>area_sqm</th>\n",
       "      <th>price</th>\n",
       "      <th>block</th>\n",
       "      <th>parcel</th>\n",
       "      <th>sub_parcel</th>\n",
       "      <th>description_</th>\n",
       "    </tr>\n",
       "  </thead>\n",
       "  <tbody>\n",
       "    <tr>\n",
       "      <th>68</th>\n",
       "      <td>2023-06-12</td>\n",
       "      <td>6920-38-67</td>\n",
       "      <td>NaN</td>\n",
       "      <td>5.0</td>\n",
       "      <td>שלישית</td>\n",
       "      <td>104.0</td>\n",
       "      <td>₪9,000,000.00</td>\n",
       "      <td>6920.0</td>\n",
       "      <td>38.0</td>\n",
       "      <td>67.0</td>\n",
       "      <td>Unknown</td>\n",
       "    </tr>\n",
       "    <tr>\n",
       "      <th>87</th>\n",
       "      <td>2023-05-14</td>\n",
       "      <td>6911-127-2</td>\n",
       "      <td>NaN</td>\n",
       "      <td>3.0</td>\n",
       "      <td>ראשונה</td>\n",
       "      <td>62.0</td>\n",
       "      <td>₪2,296,962.00</td>\n",
       "      <td>6911.0</td>\n",
       "      <td>127.0</td>\n",
       "      <td>2.0</td>\n",
       "      <td>Unknown</td>\n",
       "    </tr>\n",
       "    <tr>\n",
       "      <th>149</th>\n",
       "      <td>2023-02-22</td>\n",
       "      <td>6904-125-3</td>\n",
       "      <td>NaN</td>\n",
       "      <td>6.0</td>\n",
       "      <td>שניה</td>\n",
       "      <td>193.0</td>\n",
       "      <td>₪26,000,000.00</td>\n",
       "      <td>6904.0</td>\n",
       "      <td>125.0</td>\n",
       "      <td>3.0</td>\n",
       "      <td>Unknown</td>\n",
       "    </tr>\n",
       "    <tr>\n",
       "      <th>156</th>\n",
       "      <td>2023-02-15</td>\n",
       "      <td>07/02/7450</td>\n",
       "      <td>NaN</td>\n",
       "      <td>3.0</td>\n",
       "      <td>NaN</td>\n",
       "      <td>69.0</td>\n",
       "      <td>₪4,670,000.00</td>\n",
       "      <td>7450.0</td>\n",
       "      <td>2.0</td>\n",
       "      <td>7.0</td>\n",
       "      <td>Unknown</td>\n",
       "    </tr>\n",
       "    <tr>\n",
       "      <th>191</th>\n",
       "      <td>2023-01-15</td>\n",
       "      <td>7430-37-5</td>\n",
       "      <td>NaN</td>\n",
       "      <td>4.0</td>\n",
       "      <td>שניה</td>\n",
       "      <td>NaN</td>\n",
       "      <td>₪50,000.00</td>\n",
       "      <td>7430.0</td>\n",
       "      <td>37.0</td>\n",
       "      <td>5.0</td>\n",
       "      <td>Unknown</td>\n",
       "    </tr>\n",
       "    <tr>\n",
       "      <th>204</th>\n",
       "      <td>2023-01-02</td>\n",
       "      <td>7226-93-11</td>\n",
       "      <td>NaN</td>\n",
       "      <td>2.0</td>\n",
       "      <td>שניה</td>\n",
       "      <td>46.0</td>\n",
       "      <td>₪3,344,335.00</td>\n",
       "      <td>7226.0</td>\n",
       "      <td>93.0</td>\n",
       "      <td>11.0</td>\n",
       "      <td>Unknown</td>\n",
       "    </tr>\n",
       "    <tr>\n",
       "      <th>205</th>\n",
       "      <td>2023-01-02</td>\n",
       "      <td>7226-93-12</td>\n",
       "      <td>NaN</td>\n",
       "      <td>2.0</td>\n",
       "      <td>שניה</td>\n",
       "      <td>48.0</td>\n",
       "      <td>₪3,348,116.00</td>\n",
       "      <td>7226.0</td>\n",
       "      <td>93.0</td>\n",
       "      <td>12.0</td>\n",
       "      <td>Unknown</td>\n",
       "    </tr>\n",
       "    <tr>\n",
       "      <th>206</th>\n",
       "      <td>2023-01-02</td>\n",
       "      <td>7226-93-14</td>\n",
       "      <td>NaN</td>\n",
       "      <td>2.0</td>\n",
       "      <td>רביעית</td>\n",
       "      <td>48.0</td>\n",
       "      <td>₪3,486,967.00</td>\n",
       "      <td>7226.0</td>\n",
       "      <td>93.0</td>\n",
       "      <td>14.0</td>\n",
       "      <td>Unknown</td>\n",
       "    </tr>\n",
       "    <tr>\n",
       "      <th>207</th>\n",
       "      <td>2023-01-02</td>\n",
       "      <td>7226-93-15</td>\n",
       "      <td>NaN</td>\n",
       "      <td>2.0</td>\n",
       "      <td>רביעית</td>\n",
       "      <td>49.0</td>\n",
       "      <td>₪3,545,316.00</td>\n",
       "      <td>7226.0</td>\n",
       "      <td>93.0</td>\n",
       "      <td>15.0</td>\n",
       "      <td>Unknown</td>\n",
       "    </tr>\n",
       "    <tr>\n",
       "      <th>208</th>\n",
       "      <td>2023-01-02</td>\n",
       "      <td>7226-93-16</td>\n",
       "      <td>NaN</td>\n",
       "      <td>3.0</td>\n",
       "      <td>שניה</td>\n",
       "      <td>61.0</td>\n",
       "      <td>₪4,216,885.00</td>\n",
       "      <td>7226.0</td>\n",
       "      <td>93.0</td>\n",
       "      <td>16.0</td>\n",
       "      <td>Unknown</td>\n",
       "    </tr>\n",
       "    <tr>\n",
       "      <th>225</th>\n",
       "      <td>2022-12-19</td>\n",
       "      <td>7245-14-2</td>\n",
       "      <td>NaN</td>\n",
       "      <td>5.0</td>\n",
       "      <td>עשרים ושמונה</td>\n",
       "      <td>184.0</td>\n",
       "      <td>₪26,663,688.00</td>\n",
       "      <td>7245.0</td>\n",
       "      <td>14.0</td>\n",
       "      <td>2.0</td>\n",
       "      <td>Unknown</td>\n",
       "    </tr>\n",
       "  </tbody>\n",
       "</table>\n",
       "</div>"
      ],
      "text/plain": [
       "          date block_parcel description  rooms         floor  area_sqm  \\\n",
       "68  2023-06-12   6920-38-67         NaN    5.0        שלישית     104.0   \n",
       "87  2023-05-14   6911-127-2         NaN    3.0        ראשונה      62.0   \n",
       "149 2023-02-22   6904-125-3         NaN    6.0          שניה     193.0   \n",
       "156 2023-02-15   07/02/7450         NaN    3.0           NaN      69.0   \n",
       "191 2023-01-15    7430-37-5         NaN    4.0          שניה       NaN   \n",
       "204 2023-01-02   7226-93-11         NaN    2.0          שניה      46.0   \n",
       "205 2023-01-02   7226-93-12         NaN    2.0          שניה      48.0   \n",
       "206 2023-01-02   7226-93-14         NaN    2.0        רביעית      48.0   \n",
       "207 2023-01-02   7226-93-15         NaN    2.0        רביעית      49.0   \n",
       "208 2023-01-02   7226-93-16         NaN    3.0          שניה      61.0   \n",
       "225 2022-12-19    7245-14-2         NaN    5.0  עשרים ושמונה     184.0   \n",
       "\n",
       "               price   block  parcel  sub_parcel description_  \n",
       "68    ₪9,000,000.00   6920.0    38.0        67.0      Unknown  \n",
       "87    ₪2,296,962.00   6911.0   127.0         2.0      Unknown  \n",
       "149  ₪26,000,000.00   6904.0   125.0         3.0      Unknown  \n",
       "156   ₪4,670,000.00   7450.0     2.0         7.0      Unknown  \n",
       "191      ₪50,000.00   7430.0    37.0         5.0      Unknown  \n",
       "204   ₪3,344,335.00   7226.0    93.0        11.0      Unknown  \n",
       "205   ₪3,348,116.00   7226.0    93.0        12.0      Unknown  \n",
       "206   ₪3,486,967.00   7226.0    93.0        14.0      Unknown  \n",
       "207   ₪3,545,316.00   7226.0    93.0        15.0      Unknown  \n",
       "208   ₪4,216,885.00   7226.0    93.0        16.0      Unknown  \n",
       "225  ₪26,663,688.00   7245.0    14.0         2.0      Unknown  "
      ]
     },
     "execution_count": 33,
     "metadata": {},
     "output_type": "execute_result"
    }
   ],
   "source": [
    "df[df['description_'] == 'Unknown']"
   ]
  },
  {
   "cell_type": "code",
   "execution_count": 34,
   "metadata": {
    "tags": []
   },
   "outputs": [
    {
     "data": {
      "text/plain": [
       "floor\n",
       "ראשונה                64\n",
       "שלישית                42\n",
       "שניה                  37\n",
       "רביעית                22\n",
       "קרקע                  17\n",
       "חמישית                11\n",
       "קומה 1                 4\n",
       "קומה 4                 3\n",
       "קומה 3                 3\n",
       "מרתף                   3\n",
       "קומה 5                 2\n",
       "קרקע ובניים            1\n",
       "קומה 0                 1\n",
       "רביעית וגג             1\n",
       "עשרים ושמונה           1\n",
       "מרתף,קרקע              1\n",
       "----                   1\n",
       "-                      1\n",
       "שמינית                 1\n",
       "עשרים ושלוש            1\n",
       "אחת עשרה               1\n",
       "שישית                  1\n",
       "קומה 6                 1\n",
       "חמש עשרה               1\n",
       "עשרים                  1\n",
       "אח עשרה                1\n",
       "ארבעים                 1\n",
       "שלישית, רביעית         1\n",
       "עמודים                 1\n",
       "ביניים                 1\n",
       "שלישית+רביעית          1\n",
       "שתים עשרה,שלש עשרה     1\n",
       "חמישית, שישית          1\n",
       "שמונה עשרה             1\n",
       "מרתף חמישי, קרקע       1\n",
       "-------------          1\n",
       "רביעית וחמישית         1\n",
       "Name: count, dtype: int64"
      ]
     },
     "execution_count": 34,
     "metadata": {},
     "output_type": "execute_result"
    }
   ],
   "source": [
    "df['floor'].value_counts()"
   ]
  },
  {
   "cell_type": "code",
   "execution_count": 35,
   "metadata": {},
   "outputs": [],
   "source": [
    "# view as dataframe is easier"
   ]
  },
  {
   "cell_type": "code",
   "execution_count": 36,
   "metadata": {
    "tags": []
   },
   "outputs": [
    {
     "data": {
      "text/html": [
       "<div>\n",
       "<style scoped>\n",
       "    .dataframe tbody tr th:only-of-type {\n",
       "        vertical-align: middle;\n",
       "    }\n",
       "\n",
       "    .dataframe tbody tr th {\n",
       "        vertical-align: top;\n",
       "    }\n",
       "\n",
       "    .dataframe thead th {\n",
       "        text-align: right;\n",
       "    }\n",
       "</style>\n",
       "<table border=\"1\" class=\"dataframe\">\n",
       "  <thead>\n",
       "    <tr style=\"text-align: right;\">\n",
       "      <th></th>\n",
       "      <th>floor</th>\n",
       "      <th>count</th>\n",
       "    </tr>\n",
       "  </thead>\n",
       "  <tbody>\n",
       "    <tr>\n",
       "      <th>0</th>\n",
       "      <td>ראשונה</td>\n",
       "      <td>64</td>\n",
       "    </tr>\n",
       "    <tr>\n",
       "      <th>1</th>\n",
       "      <td>שלישית</td>\n",
       "      <td>42</td>\n",
       "    </tr>\n",
       "    <tr>\n",
       "      <th>2</th>\n",
       "      <td>שניה</td>\n",
       "      <td>37</td>\n",
       "    </tr>\n",
       "    <tr>\n",
       "      <th>3</th>\n",
       "      <td>רביעית</td>\n",
       "      <td>22</td>\n",
       "    </tr>\n",
       "    <tr>\n",
       "      <th>4</th>\n",
       "      <td>קרקע</td>\n",
       "      <td>17</td>\n",
       "    </tr>\n",
       "    <tr>\n",
       "      <th>5</th>\n",
       "      <td>חמישית</td>\n",
       "      <td>11</td>\n",
       "    </tr>\n",
       "    <tr>\n",
       "      <th>6</th>\n",
       "      <td>קומה 1</td>\n",
       "      <td>4</td>\n",
       "    </tr>\n",
       "    <tr>\n",
       "      <th>7</th>\n",
       "      <td>קומה 4</td>\n",
       "      <td>3</td>\n",
       "    </tr>\n",
       "    <tr>\n",
       "      <th>8</th>\n",
       "      <td>קומה 3</td>\n",
       "      <td>3</td>\n",
       "    </tr>\n",
       "    <tr>\n",
       "      <th>9</th>\n",
       "      <td>מרתף</td>\n",
       "      <td>3</td>\n",
       "    </tr>\n",
       "    <tr>\n",
       "      <th>10</th>\n",
       "      <td>קומה 5</td>\n",
       "      <td>2</td>\n",
       "    </tr>\n",
       "    <tr>\n",
       "      <th>11</th>\n",
       "      <td>קרקע ובניים</td>\n",
       "      <td>1</td>\n",
       "    </tr>\n",
       "    <tr>\n",
       "      <th>12</th>\n",
       "      <td>קומה 0</td>\n",
       "      <td>1</td>\n",
       "    </tr>\n",
       "    <tr>\n",
       "      <th>13</th>\n",
       "      <td>רביעית וגג</td>\n",
       "      <td>1</td>\n",
       "    </tr>\n",
       "    <tr>\n",
       "      <th>14</th>\n",
       "      <td>עשרים ושמונה</td>\n",
       "      <td>1</td>\n",
       "    </tr>\n",
       "    <tr>\n",
       "      <th>15</th>\n",
       "      <td>מרתף,קרקע</td>\n",
       "      <td>1</td>\n",
       "    </tr>\n",
       "    <tr>\n",
       "      <th>16</th>\n",
       "      <td>----</td>\n",
       "      <td>1</td>\n",
       "    </tr>\n",
       "    <tr>\n",
       "      <th>17</th>\n",
       "      <td>-</td>\n",
       "      <td>1</td>\n",
       "    </tr>\n",
       "    <tr>\n",
       "      <th>18</th>\n",
       "      <td>שמינית</td>\n",
       "      <td>1</td>\n",
       "    </tr>\n",
       "    <tr>\n",
       "      <th>19</th>\n",
       "      <td>עשרים ושלוש</td>\n",
       "      <td>1</td>\n",
       "    </tr>\n",
       "    <tr>\n",
       "      <th>20</th>\n",
       "      <td>אחת עשרה</td>\n",
       "      <td>1</td>\n",
       "    </tr>\n",
       "    <tr>\n",
       "      <th>21</th>\n",
       "      <td>שישית</td>\n",
       "      <td>1</td>\n",
       "    </tr>\n",
       "    <tr>\n",
       "      <th>22</th>\n",
       "      <td>קומה 6</td>\n",
       "      <td>1</td>\n",
       "    </tr>\n",
       "    <tr>\n",
       "      <th>23</th>\n",
       "      <td>חמש עשרה</td>\n",
       "      <td>1</td>\n",
       "    </tr>\n",
       "    <tr>\n",
       "      <th>24</th>\n",
       "      <td>עשרים</td>\n",
       "      <td>1</td>\n",
       "    </tr>\n",
       "    <tr>\n",
       "      <th>25</th>\n",
       "      <td>אח עשרה</td>\n",
       "      <td>1</td>\n",
       "    </tr>\n",
       "    <tr>\n",
       "      <th>26</th>\n",
       "      <td>ארבעים</td>\n",
       "      <td>1</td>\n",
       "    </tr>\n",
       "    <tr>\n",
       "      <th>27</th>\n",
       "      <td>שלישית, רביעית</td>\n",
       "      <td>1</td>\n",
       "    </tr>\n",
       "    <tr>\n",
       "      <th>28</th>\n",
       "      <td>עמודים</td>\n",
       "      <td>1</td>\n",
       "    </tr>\n",
       "    <tr>\n",
       "      <th>29</th>\n",
       "      <td>ביניים</td>\n",
       "      <td>1</td>\n",
       "    </tr>\n",
       "    <tr>\n",
       "      <th>30</th>\n",
       "      <td>שלישית+רביעית</td>\n",
       "      <td>1</td>\n",
       "    </tr>\n",
       "    <tr>\n",
       "      <th>31</th>\n",
       "      <td>שתים עשרה,שלש עשרה</td>\n",
       "      <td>1</td>\n",
       "    </tr>\n",
       "    <tr>\n",
       "      <th>32</th>\n",
       "      <td>חמישית, שישית</td>\n",
       "      <td>1</td>\n",
       "    </tr>\n",
       "    <tr>\n",
       "      <th>33</th>\n",
       "      <td>שמונה עשרה</td>\n",
       "      <td>1</td>\n",
       "    </tr>\n",
       "    <tr>\n",
       "      <th>34</th>\n",
       "      <td>מרתף חמישי, קרקע</td>\n",
       "      <td>1</td>\n",
       "    </tr>\n",
       "    <tr>\n",
       "      <th>35</th>\n",
       "      <td>-------------</td>\n",
       "      <td>1</td>\n",
       "    </tr>\n",
       "    <tr>\n",
       "      <th>36</th>\n",
       "      <td>רביעית וחמישית</td>\n",
       "      <td>1</td>\n",
       "    </tr>\n",
       "  </tbody>\n",
       "</table>\n",
       "</div>"
      ],
      "text/plain": [
       "                 floor  count\n",
       "0               ראשונה     64\n",
       "1               שלישית     42\n",
       "2                 שניה     37\n",
       "3               רביעית     22\n",
       "4                 קרקע     17\n",
       "5               חמישית     11\n",
       "6               קומה 1      4\n",
       "7               קומה 4      3\n",
       "8               קומה 3      3\n",
       "9                 מרתף      3\n",
       "10              קומה 5      2\n",
       "11         קרקע ובניים      1\n",
       "12              קומה 0      1\n",
       "13          רביעית וגג      1\n",
       "14        עשרים ושמונה      1\n",
       "15           מרתף,קרקע      1\n",
       "16                ----      1\n",
       "17                   -      1\n",
       "18              שמינית      1\n",
       "19         עשרים ושלוש      1\n",
       "20            אחת עשרה      1\n",
       "21               שישית      1\n",
       "22              קומה 6      1\n",
       "23            חמש עשרה      1\n",
       "24               עשרים      1\n",
       "25             אח עשרה      1\n",
       "26              ארבעים      1\n",
       "27      שלישית, רביעית      1\n",
       "28              עמודים      1\n",
       "29              ביניים      1\n",
       "30       שלישית+רביעית      1\n",
       "31  שתים עשרה,שלש עשרה      1\n",
       "32       חמישית, שישית      1\n",
       "33          שמונה עשרה      1\n",
       "34    מרתף חמישי, קרקע      1\n",
       "35       -------------      1\n",
       "36      רביעית וחמישית      1"
      ]
     },
     "execution_count": 36,
     "metadata": {},
     "output_type": "execute_result"
    }
   ],
   "source": [
    "df['floor'].value_counts().to_frame().reset_index()"
   ]
  },
  {
   "cell_type": "code",
   "execution_count": 37,
   "metadata": {
    "tags": []
   },
   "outputs": [],
   "source": [
    "translate_floor = df['floor'].value_counts().to_frame().reset_index()"
   ]
  },
  {
   "cell_type": "code",
   "execution_count": 38,
   "metadata": {
    "tags": []
   },
   "outputs": [],
   "source": [
    "translate_floor['floor_cat'] = translate_floor['floor'].apply(lambda p: 'Unknown' if '-' in p else np.nan)"
   ]
  },
  {
   "cell_type": "code",
   "execution_count": 39,
   "metadata": {
    "scrolled": true,
    "tags": []
   },
   "outputs": [
    {
     "data": {
      "text/html": [
       "<div>\n",
       "<style scoped>\n",
       "    .dataframe tbody tr th:only-of-type {\n",
       "        vertical-align: middle;\n",
       "    }\n",
       "\n",
       "    .dataframe tbody tr th {\n",
       "        vertical-align: top;\n",
       "    }\n",
       "\n",
       "    .dataframe thead th {\n",
       "        text-align: right;\n",
       "    }\n",
       "</style>\n",
       "<table border=\"1\" class=\"dataframe\">\n",
       "  <thead>\n",
       "    <tr style=\"text-align: right;\">\n",
       "      <th></th>\n",
       "      <th>floor</th>\n",
       "      <th>count</th>\n",
       "      <th>floor_cat</th>\n",
       "    </tr>\n",
       "  </thead>\n",
       "  <tbody>\n",
       "    <tr>\n",
       "      <th>0</th>\n",
       "      <td>ראשונה</td>\n",
       "      <td>64</td>\n",
       "      <td>NaN</td>\n",
       "    </tr>\n",
       "    <tr>\n",
       "      <th>1</th>\n",
       "      <td>שלישית</td>\n",
       "      <td>42</td>\n",
       "      <td>NaN</td>\n",
       "    </tr>\n",
       "    <tr>\n",
       "      <th>2</th>\n",
       "      <td>שניה</td>\n",
       "      <td>37</td>\n",
       "      <td>NaN</td>\n",
       "    </tr>\n",
       "    <tr>\n",
       "      <th>3</th>\n",
       "      <td>רביעית</td>\n",
       "      <td>22</td>\n",
       "      <td>NaN</td>\n",
       "    </tr>\n",
       "    <tr>\n",
       "      <th>4</th>\n",
       "      <td>קרקע</td>\n",
       "      <td>17</td>\n",
       "      <td>NaN</td>\n",
       "    </tr>\n",
       "    <tr>\n",
       "      <th>5</th>\n",
       "      <td>חמישית</td>\n",
       "      <td>11</td>\n",
       "      <td>NaN</td>\n",
       "    </tr>\n",
       "    <tr>\n",
       "      <th>6</th>\n",
       "      <td>קומה 1</td>\n",
       "      <td>4</td>\n",
       "      <td>NaN</td>\n",
       "    </tr>\n",
       "    <tr>\n",
       "      <th>7</th>\n",
       "      <td>קומה 4</td>\n",
       "      <td>3</td>\n",
       "      <td>NaN</td>\n",
       "    </tr>\n",
       "    <tr>\n",
       "      <th>8</th>\n",
       "      <td>קומה 3</td>\n",
       "      <td>3</td>\n",
       "      <td>NaN</td>\n",
       "    </tr>\n",
       "    <tr>\n",
       "      <th>9</th>\n",
       "      <td>מרתף</td>\n",
       "      <td>3</td>\n",
       "      <td>NaN</td>\n",
       "    </tr>\n",
       "    <tr>\n",
       "      <th>10</th>\n",
       "      <td>קומה 5</td>\n",
       "      <td>2</td>\n",
       "      <td>NaN</td>\n",
       "    </tr>\n",
       "    <tr>\n",
       "      <th>11</th>\n",
       "      <td>קרקע ובניים</td>\n",
       "      <td>1</td>\n",
       "      <td>NaN</td>\n",
       "    </tr>\n",
       "    <tr>\n",
       "      <th>12</th>\n",
       "      <td>קומה 0</td>\n",
       "      <td>1</td>\n",
       "      <td>NaN</td>\n",
       "    </tr>\n",
       "    <tr>\n",
       "      <th>13</th>\n",
       "      <td>רביעית וגג</td>\n",
       "      <td>1</td>\n",
       "      <td>NaN</td>\n",
       "    </tr>\n",
       "    <tr>\n",
       "      <th>14</th>\n",
       "      <td>עשרים ושמונה</td>\n",
       "      <td>1</td>\n",
       "      <td>NaN</td>\n",
       "    </tr>\n",
       "    <tr>\n",
       "      <th>15</th>\n",
       "      <td>מרתף,קרקע</td>\n",
       "      <td>1</td>\n",
       "      <td>NaN</td>\n",
       "    </tr>\n",
       "    <tr>\n",
       "      <th>16</th>\n",
       "      <td>----</td>\n",
       "      <td>1</td>\n",
       "      <td>Unknown</td>\n",
       "    </tr>\n",
       "    <tr>\n",
       "      <th>17</th>\n",
       "      <td>-</td>\n",
       "      <td>1</td>\n",
       "      <td>Unknown</td>\n",
       "    </tr>\n",
       "    <tr>\n",
       "      <th>18</th>\n",
       "      <td>שמינית</td>\n",
       "      <td>1</td>\n",
       "      <td>NaN</td>\n",
       "    </tr>\n",
       "    <tr>\n",
       "      <th>19</th>\n",
       "      <td>עשרים ושלוש</td>\n",
       "      <td>1</td>\n",
       "      <td>NaN</td>\n",
       "    </tr>\n",
       "    <tr>\n",
       "      <th>20</th>\n",
       "      <td>אחת עשרה</td>\n",
       "      <td>1</td>\n",
       "      <td>NaN</td>\n",
       "    </tr>\n",
       "    <tr>\n",
       "      <th>21</th>\n",
       "      <td>שישית</td>\n",
       "      <td>1</td>\n",
       "      <td>NaN</td>\n",
       "    </tr>\n",
       "    <tr>\n",
       "      <th>22</th>\n",
       "      <td>קומה 6</td>\n",
       "      <td>1</td>\n",
       "      <td>NaN</td>\n",
       "    </tr>\n",
       "    <tr>\n",
       "      <th>23</th>\n",
       "      <td>חמש עשרה</td>\n",
       "      <td>1</td>\n",
       "      <td>NaN</td>\n",
       "    </tr>\n",
       "    <tr>\n",
       "      <th>24</th>\n",
       "      <td>עשרים</td>\n",
       "      <td>1</td>\n",
       "      <td>NaN</td>\n",
       "    </tr>\n",
       "    <tr>\n",
       "      <th>25</th>\n",
       "      <td>אח עשרה</td>\n",
       "      <td>1</td>\n",
       "      <td>NaN</td>\n",
       "    </tr>\n",
       "    <tr>\n",
       "      <th>26</th>\n",
       "      <td>ארבעים</td>\n",
       "      <td>1</td>\n",
       "      <td>NaN</td>\n",
       "    </tr>\n",
       "    <tr>\n",
       "      <th>27</th>\n",
       "      <td>שלישית, רביעית</td>\n",
       "      <td>1</td>\n",
       "      <td>NaN</td>\n",
       "    </tr>\n",
       "    <tr>\n",
       "      <th>28</th>\n",
       "      <td>עמודים</td>\n",
       "      <td>1</td>\n",
       "      <td>NaN</td>\n",
       "    </tr>\n",
       "    <tr>\n",
       "      <th>29</th>\n",
       "      <td>ביניים</td>\n",
       "      <td>1</td>\n",
       "      <td>NaN</td>\n",
       "    </tr>\n",
       "    <tr>\n",
       "      <th>30</th>\n",
       "      <td>שלישית+רביעית</td>\n",
       "      <td>1</td>\n",
       "      <td>NaN</td>\n",
       "    </tr>\n",
       "    <tr>\n",
       "      <th>31</th>\n",
       "      <td>שתים עשרה,שלש עשרה</td>\n",
       "      <td>1</td>\n",
       "      <td>NaN</td>\n",
       "    </tr>\n",
       "    <tr>\n",
       "      <th>32</th>\n",
       "      <td>חמישית, שישית</td>\n",
       "      <td>1</td>\n",
       "      <td>NaN</td>\n",
       "    </tr>\n",
       "    <tr>\n",
       "      <th>33</th>\n",
       "      <td>שמונה עשרה</td>\n",
       "      <td>1</td>\n",
       "      <td>NaN</td>\n",
       "    </tr>\n",
       "    <tr>\n",
       "      <th>34</th>\n",
       "      <td>מרתף חמישי, קרקע</td>\n",
       "      <td>1</td>\n",
       "      <td>NaN</td>\n",
       "    </tr>\n",
       "    <tr>\n",
       "      <th>35</th>\n",
       "      <td>-------------</td>\n",
       "      <td>1</td>\n",
       "      <td>Unknown</td>\n",
       "    </tr>\n",
       "    <tr>\n",
       "      <th>36</th>\n",
       "      <td>רביעית וחמישית</td>\n",
       "      <td>1</td>\n",
       "      <td>NaN</td>\n",
       "    </tr>\n",
       "  </tbody>\n",
       "</table>\n",
       "</div>"
      ],
      "text/plain": [
       "                 floor  count floor_cat\n",
       "0               ראשונה     64       NaN\n",
       "1               שלישית     42       NaN\n",
       "2                 שניה     37       NaN\n",
       "3               רביעית     22       NaN\n",
       "4                 קרקע     17       NaN\n",
       "5               חמישית     11       NaN\n",
       "6               קומה 1      4       NaN\n",
       "7               קומה 4      3       NaN\n",
       "8               קומה 3      3       NaN\n",
       "9                 מרתף      3       NaN\n",
       "10              קומה 5      2       NaN\n",
       "11         קרקע ובניים      1       NaN\n",
       "12              קומה 0      1       NaN\n",
       "13          רביעית וגג      1       NaN\n",
       "14        עשרים ושמונה      1       NaN\n",
       "15           מרתף,קרקע      1       NaN\n",
       "16                ----      1   Unknown\n",
       "17                   -      1   Unknown\n",
       "18              שמינית      1       NaN\n",
       "19         עשרים ושלוש      1       NaN\n",
       "20            אחת עשרה      1       NaN\n",
       "21               שישית      1       NaN\n",
       "22              קומה 6      1       NaN\n",
       "23            חמש עשרה      1       NaN\n",
       "24               עשרים      1       NaN\n",
       "25             אח עשרה      1       NaN\n",
       "26              ארבעים      1       NaN\n",
       "27      שלישית, רביעית      1       NaN\n",
       "28              עמודים      1       NaN\n",
       "29              ביניים      1       NaN\n",
       "30       שלישית+רביעית      1       NaN\n",
       "31  שתים עשרה,שלש עשרה      1       NaN\n",
       "32       חמישית, שישית      1       NaN\n",
       "33          שמונה עשרה      1       NaN\n",
       "34    מרתף חמישי, קרקע      1       NaN\n",
       "35       -------------      1   Unknown\n",
       "36      רביעית וחמישית      1       NaN"
      ]
     },
     "execution_count": 39,
     "metadata": {},
     "output_type": "execute_result"
    }
   ],
   "source": [
    "translate_floor"
   ]
  },
  {
   "cell_type": "code",
   "execution_count": 40,
   "metadata": {},
   "outputs": [
    {
     "data": {
      "text/plain": [
       "0                 ראשונה\n",
       "1                 שלישית\n",
       "2                   שניה\n",
       "3                 רביעית\n",
       "4                   קרקע\n",
       "5                 חמישית\n",
       "6                 קומה 1\n",
       "7                 קומה 4\n",
       "8                 קומה 3\n",
       "9                   מרתף\n",
       "10                קומה 5\n",
       "11           קרקע ובניים\n",
       "12                קומה 0\n",
       "13            רביעית וגג\n",
       "14          עשרים ושמונה\n",
       "15             מרתף,קרקע\n",
       "18                שמינית\n",
       "19           עשרים ושלוש\n",
       "20              אחת עשרה\n",
       "21                 שישית\n",
       "22                קומה 6\n",
       "23              חמש עשרה\n",
       "24                 עשרים\n",
       "25               אח עשרה\n",
       "26                ארבעים\n",
       "27        שלישית, רביעית\n",
       "28                עמודים\n",
       "29                ביניים\n",
       "30         שלישית+רביעית\n",
       "31    שתים עשרה,שלש עשרה\n",
       "32         חמישית, שישית\n",
       "33            שמונה עשרה\n",
       "34      מרתף חמישי, קרקע\n",
       "36        רביעית וחמישית\n",
       "Name: floor, dtype: object"
      ]
     },
     "execution_count": 40,
     "metadata": {},
     "output_type": "execute_result"
    }
   ],
   "source": [
    "translate_floor.loc[translate_floor['floor_cat'].isna(),'floor']"
   ]
  },
  {
   "cell_type": "code",
   "execution_count": 41,
   "metadata": {},
   "outputs": [],
   "source": [
    "floors_egn = ['floor_1',\n",
    " 'floor_3',\n",
    " 'floor_2',\n",
    " 'floor_4',\n",
    " 'ground',\n",
    " 'floor_5',\n",
    " 'floor_5',\n",
    " 'floor_1',\n",
    " 'floor_4',\n",
    " 'floor_3',\n",
    " 'basement',\n",
    " 'ground',\n",
    " 'ground_floor_1',\n",
    " 'floor_4_roof',\n",
    " 'floor_28',\n",
    " 'ground_basement',\n",
    " 'floor_8',\n",
    " 'floor_6',\n",
    " 'floor_6',\n",
    " 'floor_15',\n",
    " 'floor_23',\n",
    " 'floor_20',\n",
    " 'floor_11',\n",
    " 'floor_11',\n",
    " 'floor_40',\n",
    " 'floor_3_floor_4',\n",
    " 'floor_1',\n",
    " 'floor_1',\n",
    " 'floor_3_floor_4',\n",
    " 'floor_12_floor_13',\n",
    " 'floor_5_floor_6',\n",
    " 'floor_18',\n",
    " 'basement_floor_5_ground',\n",
    " 'floor_4_floor_5']\n",
    "translate_floor_dict = dict(zip(translate_floor.loc[translate_floor['floor_cat'].isna(),'floor'], floors_egn))"
   ]
  },
  {
   "cell_type": "code",
   "execution_count": 42,
   "metadata": {},
   "outputs": [
    {
     "data": {
      "text/plain": [
       "{'ראשונה': 'floor_1',\n",
       " 'שלישית': 'floor_3',\n",
       " 'שניה': 'floor_2',\n",
       " 'רביעית': 'floor_4',\n",
       " 'קרקע': 'ground',\n",
       " 'חמישית': 'floor_5',\n",
       " 'קומה 1': 'floor_5',\n",
       " 'קומה 4': 'floor_1',\n",
       " 'קומה 3': 'floor_4',\n",
       " 'מרתף': 'floor_3',\n",
       " 'קומה 5': 'basement',\n",
       " 'קרקע ובניים': 'ground',\n",
       " 'קומה 0': 'ground_floor_1',\n",
       " 'רביעית וגג': 'floor_4_roof',\n",
       " 'עשרים ושמונה': 'floor_28',\n",
       " 'מרתף,קרקע': 'ground_basement',\n",
       " 'שמינית': 'floor_8',\n",
       " 'עשרים ושלוש': 'floor_6',\n",
       " 'אחת עשרה': 'floor_6',\n",
       " 'שישית': 'floor_15',\n",
       " 'קומה 6': 'floor_23',\n",
       " 'חמש עשרה': 'floor_20',\n",
       " 'עשרים': 'floor_11',\n",
       " 'אח עשרה': 'floor_11',\n",
       " 'ארבעים': 'floor_40',\n",
       " 'שלישית, רביעית': 'floor_3_floor_4',\n",
       " 'עמודים': 'floor_1',\n",
       " 'ביניים': 'floor_1',\n",
       " 'שלישית+רביעית': 'floor_3_floor_4',\n",
       " 'שתים עשרה,שלש עשרה': 'floor_12_floor_13',\n",
       " 'חמישית, שישית': 'floor_5_floor_6',\n",
       " 'שמונה עשרה': 'floor_18',\n",
       " 'מרתף חמישי, קרקע': 'basement_floor_5_ground',\n",
       " 'רביעית וחמישית': 'floor_4_floor_5'}"
      ]
     },
     "execution_count": 42,
     "metadata": {},
     "output_type": "execute_result"
    }
   ],
   "source": [
    "translate_floor_dict"
   ]
  },
  {
   "cell_type": "code",
   "execution_count": 43,
   "metadata": {
    "tags": []
   },
   "outputs": [],
   "source": [
    "translate_floor.loc[translate_floor['floor_cat'].isna(),'floor_eng'] = translate_floor.loc[translate_floor['floor_cat'].isna(),'floor'].apply(lambda p: translate_floor_dict.get(p))"
   ]
  },
  {
   "cell_type": "code",
   "execution_count": 44,
   "metadata": {
    "tags": []
   },
   "outputs": [
    {
     "data": {
      "text/html": [
       "<div>\n",
       "<style scoped>\n",
       "    .dataframe tbody tr th:only-of-type {\n",
       "        vertical-align: middle;\n",
       "    }\n",
       "\n",
       "    .dataframe tbody tr th {\n",
       "        vertical-align: top;\n",
       "    }\n",
       "\n",
       "    .dataframe thead th {\n",
       "        text-align: right;\n",
       "    }\n",
       "</style>\n",
       "<table border=\"1\" class=\"dataframe\">\n",
       "  <thead>\n",
       "    <tr style=\"text-align: right;\">\n",
       "      <th></th>\n",
       "      <th>floor</th>\n",
       "      <th>count</th>\n",
       "      <th>floor_cat</th>\n",
       "      <th>floor_eng</th>\n",
       "    </tr>\n",
       "  </thead>\n",
       "  <tbody>\n",
       "    <tr>\n",
       "      <th>0</th>\n",
       "      <td>ראשונה</td>\n",
       "      <td>64</td>\n",
       "      <td>NaN</td>\n",
       "      <td>floor_1</td>\n",
       "    </tr>\n",
       "    <tr>\n",
       "      <th>1</th>\n",
       "      <td>שלישית</td>\n",
       "      <td>42</td>\n",
       "      <td>NaN</td>\n",
       "      <td>floor_3</td>\n",
       "    </tr>\n",
       "    <tr>\n",
       "      <th>2</th>\n",
       "      <td>שניה</td>\n",
       "      <td>37</td>\n",
       "      <td>NaN</td>\n",
       "      <td>floor_2</td>\n",
       "    </tr>\n",
       "    <tr>\n",
       "      <th>3</th>\n",
       "      <td>רביעית</td>\n",
       "      <td>22</td>\n",
       "      <td>NaN</td>\n",
       "      <td>floor_4</td>\n",
       "    </tr>\n",
       "    <tr>\n",
       "      <th>4</th>\n",
       "      <td>קרקע</td>\n",
       "      <td>17</td>\n",
       "      <td>NaN</td>\n",
       "      <td>ground</td>\n",
       "    </tr>\n",
       "  </tbody>\n",
       "</table>\n",
       "</div>"
      ],
      "text/plain": [
       "    floor  count floor_cat floor_eng\n",
       "0  ראשונה     64       NaN   floor_1\n",
       "1  שלישית     42       NaN   floor_3\n",
       "2    שניה     37       NaN   floor_2\n",
       "3  רביעית     22       NaN   floor_4\n",
       "4    קרקע     17       NaN    ground"
      ]
     },
     "execution_count": 44,
     "metadata": {},
     "output_type": "execute_result"
    }
   ],
   "source": [
    "translate_floor.head()"
   ]
  },
  {
   "cell_type": "code",
   "execution_count": 45,
   "metadata": {
    "scrolled": true,
    "tags": []
   },
   "outputs": [
    {
     "data": {
      "text/plain": [
       "{'floor_0': 0,\n",
       " 'floor_1': 1,\n",
       " 'floor_2': 2,\n",
       " 'floor_3': 3,\n",
       " 'floor_4': 4,\n",
       " 'floor_5': 5,\n",
       " 'floor_6': 6,\n",
       " 'floor_7': 7,\n",
       " 'floor_8': 8,\n",
       " 'floor_9': 9,\n",
       " 'floor_10': 10,\n",
       " 'floor_11': 11,\n",
       " 'floor_12': 12,\n",
       " 'floor_13': 13,\n",
       " 'floor_14': 14,\n",
       " 'floor_15': 15,\n",
       " 'floor_16': 16,\n",
       " 'floor_17': 17,\n",
       " 'floor_18': 18,\n",
       " 'floor_19': 19,\n",
       " 'floor_20': 20,\n",
       " 'floor_21': 21,\n",
       " 'floor_22': 22,\n",
       " 'floor_23': 23,\n",
       " 'floor_24': 24,\n",
       " 'floor_25': 25,\n",
       " 'floor_26': 26,\n",
       " 'floor_27': 27,\n",
       " 'floor_28': 28,\n",
       " 'floor_29': 29,\n",
       " 'floor_30': 30,\n",
       " 'floor_31': 31,\n",
       " 'floor_32': 32,\n",
       " 'floor_33': 33,\n",
       " 'floor_34': 34,\n",
       " 'floor_35': 35,\n",
       " 'floor_36': 36,\n",
       " 'floor_37': 37,\n",
       " 'floor_38': 38,\n",
       " 'floor_39': 39,\n",
       " 'floor_40': 40}"
      ]
     },
     "execution_count": 45,
     "metadata": {},
     "output_type": "execute_result"
    }
   ],
   "source": [
    "{f'floor_{i}': i for i in range(0, 41)}"
   ]
  },
  {
   "cell_type": "code",
   "execution_count": 46,
   "metadata": {
    "tags": []
   },
   "outputs": [],
   "source": [
    "floor_to_number_dict = {f'floor_{i}': i for i in range(0, 41)}\n",
    "floor_to_number_dict.update({'ground': 0, 'basement': -1, })"
   ]
  },
  {
   "cell_type": "code",
   "execution_count": 47,
   "metadata": {},
   "outputs": [
    {
     "data": {
      "text/plain": [
       "{'floor_0': 0,\n",
       " 'floor_1': 1,\n",
       " 'floor_2': 2,\n",
       " 'floor_3': 3,\n",
       " 'floor_4': 4,\n",
       " 'floor_5': 5,\n",
       " 'floor_6': 6,\n",
       " 'floor_7': 7,\n",
       " 'floor_8': 8,\n",
       " 'floor_9': 9,\n",
       " 'floor_10': 10,\n",
       " 'floor_11': 11,\n",
       " 'floor_12': 12,\n",
       " 'floor_13': 13,\n",
       " 'floor_14': 14,\n",
       " 'floor_15': 15,\n",
       " 'floor_16': 16,\n",
       " 'floor_17': 17,\n",
       " 'floor_18': 18,\n",
       " 'floor_19': 19,\n",
       " 'floor_20': 20,\n",
       " 'floor_21': 21,\n",
       " 'floor_22': 22,\n",
       " 'floor_23': 23,\n",
       " 'floor_24': 24,\n",
       " 'floor_25': 25,\n",
       " 'floor_26': 26,\n",
       " 'floor_27': 27,\n",
       " 'floor_28': 28,\n",
       " 'floor_29': 29,\n",
       " 'floor_30': 30,\n",
       " 'floor_31': 31,\n",
       " 'floor_32': 32,\n",
       " 'floor_33': 33,\n",
       " 'floor_34': 34,\n",
       " 'floor_35': 35,\n",
       " 'floor_36': 36,\n",
       " 'floor_37': 37,\n",
       " 'floor_38': 38,\n",
       " 'floor_39': 39,\n",
       " 'floor_40': 40,\n",
       " 'ground': 0,\n",
       " 'basement': -1}"
      ]
     },
     "execution_count": 47,
     "metadata": {},
     "output_type": "execute_result"
    }
   ],
   "source": [
    "floor_to_number_dict"
   ]
  },
  {
   "cell_type": "code",
   "execution_count": 48,
   "metadata": {
    "tags": []
   },
   "outputs": [],
   "source": [
    "translate_floor['floor_number'] = translate_floor['floor_eng'].apply(lambda p: floor_to_number_dict.get(p, np.nan))"
   ]
  },
  {
   "cell_type": "code",
   "execution_count": 49,
   "metadata": {
    "scrolled": true,
    "tags": []
   },
   "outputs": [
    {
     "data": {
      "text/html": [
       "<div>\n",
       "<style scoped>\n",
       "    .dataframe tbody tr th:only-of-type {\n",
       "        vertical-align: middle;\n",
       "    }\n",
       "\n",
       "    .dataframe tbody tr th {\n",
       "        vertical-align: top;\n",
       "    }\n",
       "\n",
       "    .dataframe thead th {\n",
       "        text-align: right;\n",
       "    }\n",
       "</style>\n",
       "<table border=\"1\" class=\"dataframe\">\n",
       "  <thead>\n",
       "    <tr style=\"text-align: right;\">\n",
       "      <th></th>\n",
       "      <th>floor</th>\n",
       "      <th>count</th>\n",
       "      <th>floor_cat</th>\n",
       "      <th>floor_eng</th>\n",
       "      <th>floor_number</th>\n",
       "    </tr>\n",
       "  </thead>\n",
       "  <tbody>\n",
       "    <tr>\n",
       "      <th>0</th>\n",
       "      <td>ראשונה</td>\n",
       "      <td>64</td>\n",
       "      <td>NaN</td>\n",
       "      <td>floor_1</td>\n",
       "      <td>1.0</td>\n",
       "    </tr>\n",
       "    <tr>\n",
       "      <th>1</th>\n",
       "      <td>שלישית</td>\n",
       "      <td>42</td>\n",
       "      <td>NaN</td>\n",
       "      <td>floor_3</td>\n",
       "      <td>3.0</td>\n",
       "    </tr>\n",
       "    <tr>\n",
       "      <th>2</th>\n",
       "      <td>שניה</td>\n",
       "      <td>37</td>\n",
       "      <td>NaN</td>\n",
       "      <td>floor_2</td>\n",
       "      <td>2.0</td>\n",
       "    </tr>\n",
       "    <tr>\n",
       "      <th>3</th>\n",
       "      <td>רביעית</td>\n",
       "      <td>22</td>\n",
       "      <td>NaN</td>\n",
       "      <td>floor_4</td>\n",
       "      <td>4.0</td>\n",
       "    </tr>\n",
       "    <tr>\n",
       "      <th>4</th>\n",
       "      <td>קרקע</td>\n",
       "      <td>17</td>\n",
       "      <td>NaN</td>\n",
       "      <td>ground</td>\n",
       "      <td>0.0</td>\n",
       "    </tr>\n",
       "  </tbody>\n",
       "</table>\n",
       "</div>"
      ],
      "text/plain": [
       "    floor  count floor_cat floor_eng  floor_number\n",
       "0  ראשונה     64       NaN   floor_1           1.0\n",
       "1  שלישית     42       NaN   floor_3           3.0\n",
       "2    שניה     37       NaN   floor_2           2.0\n",
       "3  רביעית     22       NaN   floor_4           4.0\n",
       "4    קרקע     17       NaN    ground           0.0"
      ]
     },
     "execution_count": 49,
     "metadata": {},
     "output_type": "execute_result"
    }
   ],
   "source": [
    "translate_floor.head()"
   ]
  },
  {
   "cell_type": "code",
   "execution_count": 50,
   "metadata": {},
   "outputs": [
    {
     "data": {
      "text/html": [
       "<div>\n",
       "<style scoped>\n",
       "    .dataframe tbody tr th:only-of-type {\n",
       "        vertical-align: middle;\n",
       "    }\n",
       "\n",
       "    .dataframe tbody tr th {\n",
       "        vertical-align: top;\n",
       "    }\n",
       "\n",
       "    .dataframe thead th {\n",
       "        text-align: right;\n",
       "    }\n",
       "</style>\n",
       "<table border=\"1\" class=\"dataframe\">\n",
       "  <thead>\n",
       "    <tr style=\"text-align: right;\">\n",
       "      <th></th>\n",
       "      <th>floor</th>\n",
       "      <th>count</th>\n",
       "      <th>floor_cat</th>\n",
       "      <th>floor_eng</th>\n",
       "      <th>floor_number</th>\n",
       "    </tr>\n",
       "  </thead>\n",
       "  <tbody>\n",
       "    <tr>\n",
       "      <th>0</th>\n",
       "      <td>ראשונה</td>\n",
       "      <td>64</td>\n",
       "      <td>NaN</td>\n",
       "      <td>floor_1</td>\n",
       "      <td>1.0</td>\n",
       "    </tr>\n",
       "    <tr>\n",
       "      <th>1</th>\n",
       "      <td>שלישית</td>\n",
       "      <td>42</td>\n",
       "      <td>NaN</td>\n",
       "      <td>floor_3</td>\n",
       "      <td>3.0</td>\n",
       "    </tr>\n",
       "    <tr>\n",
       "      <th>2</th>\n",
       "      <td>שניה</td>\n",
       "      <td>37</td>\n",
       "      <td>NaN</td>\n",
       "      <td>floor_2</td>\n",
       "      <td>2.0</td>\n",
       "    </tr>\n",
       "    <tr>\n",
       "      <th>3</th>\n",
       "      <td>רביעית</td>\n",
       "      <td>22</td>\n",
       "      <td>NaN</td>\n",
       "      <td>floor_4</td>\n",
       "      <td>4.0</td>\n",
       "    </tr>\n",
       "    <tr>\n",
       "      <th>4</th>\n",
       "      <td>קרקע</td>\n",
       "      <td>17</td>\n",
       "      <td>NaN</td>\n",
       "      <td>ground</td>\n",
       "      <td>0.0</td>\n",
       "    </tr>\n",
       "    <tr>\n",
       "      <th>5</th>\n",
       "      <td>חמישית</td>\n",
       "      <td>11</td>\n",
       "      <td>NaN</td>\n",
       "      <td>floor_5</td>\n",
       "      <td>5.0</td>\n",
       "    </tr>\n",
       "    <tr>\n",
       "      <th>6</th>\n",
       "      <td>קומה 1</td>\n",
       "      <td>4</td>\n",
       "      <td>NaN</td>\n",
       "      <td>floor_5</td>\n",
       "      <td>5.0</td>\n",
       "    </tr>\n",
       "    <tr>\n",
       "      <th>7</th>\n",
       "      <td>קומה 4</td>\n",
       "      <td>3</td>\n",
       "      <td>NaN</td>\n",
       "      <td>floor_1</td>\n",
       "      <td>1.0</td>\n",
       "    </tr>\n",
       "    <tr>\n",
       "      <th>8</th>\n",
       "      <td>קומה 3</td>\n",
       "      <td>3</td>\n",
       "      <td>NaN</td>\n",
       "      <td>floor_4</td>\n",
       "      <td>4.0</td>\n",
       "    </tr>\n",
       "    <tr>\n",
       "      <th>9</th>\n",
       "      <td>מרתף</td>\n",
       "      <td>3</td>\n",
       "      <td>NaN</td>\n",
       "      <td>floor_3</td>\n",
       "      <td>3.0</td>\n",
       "    </tr>\n",
       "    <tr>\n",
       "      <th>10</th>\n",
       "      <td>קומה 5</td>\n",
       "      <td>2</td>\n",
       "      <td>NaN</td>\n",
       "      <td>basement</td>\n",
       "      <td>-1.0</td>\n",
       "    </tr>\n",
       "    <tr>\n",
       "      <th>11</th>\n",
       "      <td>קרקע ובניים</td>\n",
       "      <td>1</td>\n",
       "      <td>NaN</td>\n",
       "      <td>ground</td>\n",
       "      <td>0.0</td>\n",
       "    </tr>\n",
       "    <tr>\n",
       "      <th>12</th>\n",
       "      <td>קומה 0</td>\n",
       "      <td>1</td>\n",
       "      <td>NaN</td>\n",
       "      <td>ground_floor_1</td>\n",
       "      <td>NaN</td>\n",
       "    </tr>\n",
       "    <tr>\n",
       "      <th>13</th>\n",
       "      <td>רביעית וגג</td>\n",
       "      <td>1</td>\n",
       "      <td>NaN</td>\n",
       "      <td>floor_4_roof</td>\n",
       "      <td>NaN</td>\n",
       "    </tr>\n",
       "    <tr>\n",
       "      <th>14</th>\n",
       "      <td>עשרים ושמונה</td>\n",
       "      <td>1</td>\n",
       "      <td>NaN</td>\n",
       "      <td>floor_28</td>\n",
       "      <td>28.0</td>\n",
       "    </tr>\n",
       "    <tr>\n",
       "      <th>15</th>\n",
       "      <td>מרתף,קרקע</td>\n",
       "      <td>1</td>\n",
       "      <td>NaN</td>\n",
       "      <td>ground_basement</td>\n",
       "      <td>NaN</td>\n",
       "    </tr>\n",
       "    <tr>\n",
       "      <th>16</th>\n",
       "      <td>----</td>\n",
       "      <td>1</td>\n",
       "      <td>Unknown</td>\n",
       "      <td>NaN</td>\n",
       "      <td>NaN</td>\n",
       "    </tr>\n",
       "    <tr>\n",
       "      <th>17</th>\n",
       "      <td>-</td>\n",
       "      <td>1</td>\n",
       "      <td>Unknown</td>\n",
       "      <td>NaN</td>\n",
       "      <td>NaN</td>\n",
       "    </tr>\n",
       "    <tr>\n",
       "      <th>18</th>\n",
       "      <td>שמינית</td>\n",
       "      <td>1</td>\n",
       "      <td>NaN</td>\n",
       "      <td>floor_8</td>\n",
       "      <td>8.0</td>\n",
       "    </tr>\n",
       "    <tr>\n",
       "      <th>19</th>\n",
       "      <td>עשרים ושלוש</td>\n",
       "      <td>1</td>\n",
       "      <td>NaN</td>\n",
       "      <td>floor_6</td>\n",
       "      <td>6.0</td>\n",
       "    </tr>\n",
       "    <tr>\n",
       "      <th>20</th>\n",
       "      <td>אחת עשרה</td>\n",
       "      <td>1</td>\n",
       "      <td>NaN</td>\n",
       "      <td>floor_6</td>\n",
       "      <td>6.0</td>\n",
       "    </tr>\n",
       "    <tr>\n",
       "      <th>21</th>\n",
       "      <td>שישית</td>\n",
       "      <td>1</td>\n",
       "      <td>NaN</td>\n",
       "      <td>floor_15</td>\n",
       "      <td>15.0</td>\n",
       "    </tr>\n",
       "    <tr>\n",
       "      <th>22</th>\n",
       "      <td>קומה 6</td>\n",
       "      <td>1</td>\n",
       "      <td>NaN</td>\n",
       "      <td>floor_23</td>\n",
       "      <td>23.0</td>\n",
       "    </tr>\n",
       "    <tr>\n",
       "      <th>23</th>\n",
       "      <td>חמש עשרה</td>\n",
       "      <td>1</td>\n",
       "      <td>NaN</td>\n",
       "      <td>floor_20</td>\n",
       "      <td>20.0</td>\n",
       "    </tr>\n",
       "    <tr>\n",
       "      <th>24</th>\n",
       "      <td>עשרים</td>\n",
       "      <td>1</td>\n",
       "      <td>NaN</td>\n",
       "      <td>floor_11</td>\n",
       "      <td>11.0</td>\n",
       "    </tr>\n",
       "    <tr>\n",
       "      <th>25</th>\n",
       "      <td>אח עשרה</td>\n",
       "      <td>1</td>\n",
       "      <td>NaN</td>\n",
       "      <td>floor_11</td>\n",
       "      <td>11.0</td>\n",
       "    </tr>\n",
       "    <tr>\n",
       "      <th>26</th>\n",
       "      <td>ארבעים</td>\n",
       "      <td>1</td>\n",
       "      <td>NaN</td>\n",
       "      <td>floor_40</td>\n",
       "      <td>40.0</td>\n",
       "    </tr>\n",
       "    <tr>\n",
       "      <th>27</th>\n",
       "      <td>שלישית, רביעית</td>\n",
       "      <td>1</td>\n",
       "      <td>NaN</td>\n",
       "      <td>floor_3_floor_4</td>\n",
       "      <td>NaN</td>\n",
       "    </tr>\n",
       "    <tr>\n",
       "      <th>28</th>\n",
       "      <td>עמודים</td>\n",
       "      <td>1</td>\n",
       "      <td>NaN</td>\n",
       "      <td>floor_1</td>\n",
       "      <td>1.0</td>\n",
       "    </tr>\n",
       "    <tr>\n",
       "      <th>29</th>\n",
       "      <td>ביניים</td>\n",
       "      <td>1</td>\n",
       "      <td>NaN</td>\n",
       "      <td>floor_1</td>\n",
       "      <td>1.0</td>\n",
       "    </tr>\n",
       "    <tr>\n",
       "      <th>30</th>\n",
       "      <td>שלישית+רביעית</td>\n",
       "      <td>1</td>\n",
       "      <td>NaN</td>\n",
       "      <td>floor_3_floor_4</td>\n",
       "      <td>NaN</td>\n",
       "    </tr>\n",
       "    <tr>\n",
       "      <th>31</th>\n",
       "      <td>שתים עשרה,שלש עשרה</td>\n",
       "      <td>1</td>\n",
       "      <td>NaN</td>\n",
       "      <td>floor_12_floor_13</td>\n",
       "      <td>NaN</td>\n",
       "    </tr>\n",
       "    <tr>\n",
       "      <th>32</th>\n",
       "      <td>חמישית, שישית</td>\n",
       "      <td>1</td>\n",
       "      <td>NaN</td>\n",
       "      <td>floor_5_floor_6</td>\n",
       "      <td>NaN</td>\n",
       "    </tr>\n",
       "    <tr>\n",
       "      <th>33</th>\n",
       "      <td>שמונה עשרה</td>\n",
       "      <td>1</td>\n",
       "      <td>NaN</td>\n",
       "      <td>floor_18</td>\n",
       "      <td>18.0</td>\n",
       "    </tr>\n",
       "    <tr>\n",
       "      <th>34</th>\n",
       "      <td>מרתף חמישי, קרקע</td>\n",
       "      <td>1</td>\n",
       "      <td>NaN</td>\n",
       "      <td>basement_floor_5_ground</td>\n",
       "      <td>NaN</td>\n",
       "    </tr>\n",
       "    <tr>\n",
       "      <th>35</th>\n",
       "      <td>-------------</td>\n",
       "      <td>1</td>\n",
       "      <td>Unknown</td>\n",
       "      <td>NaN</td>\n",
       "      <td>NaN</td>\n",
       "    </tr>\n",
       "    <tr>\n",
       "      <th>36</th>\n",
       "      <td>רביעית וחמישית</td>\n",
       "      <td>1</td>\n",
       "      <td>NaN</td>\n",
       "      <td>floor_4_floor_5</td>\n",
       "      <td>NaN</td>\n",
       "    </tr>\n",
       "  </tbody>\n",
       "</table>\n",
       "</div>"
      ],
      "text/plain": [
       "                 floor  count floor_cat                floor_eng  floor_number\n",
       "0               ראשונה     64       NaN                  floor_1           1.0\n",
       "1               שלישית     42       NaN                  floor_3           3.0\n",
       "2                 שניה     37       NaN                  floor_2           2.0\n",
       "3               רביעית     22       NaN                  floor_4           4.0\n",
       "4                 קרקע     17       NaN                   ground           0.0\n",
       "5               חמישית     11       NaN                  floor_5           5.0\n",
       "6               קומה 1      4       NaN                  floor_5           5.0\n",
       "7               קומה 4      3       NaN                  floor_1           1.0\n",
       "8               קומה 3      3       NaN                  floor_4           4.0\n",
       "9                 מרתף      3       NaN                  floor_3           3.0\n",
       "10              קומה 5      2       NaN                 basement          -1.0\n",
       "11         קרקע ובניים      1       NaN                   ground           0.0\n",
       "12              קומה 0      1       NaN           ground_floor_1           NaN\n",
       "13          רביעית וגג      1       NaN             floor_4_roof           NaN\n",
       "14        עשרים ושמונה      1       NaN                 floor_28          28.0\n",
       "15           מרתף,קרקע      1       NaN          ground_basement           NaN\n",
       "16                ----      1   Unknown                      NaN           NaN\n",
       "17                   -      1   Unknown                      NaN           NaN\n",
       "18              שמינית      1       NaN                  floor_8           8.0\n",
       "19         עשרים ושלוש      1       NaN                  floor_6           6.0\n",
       "20            אחת עשרה      1       NaN                  floor_6           6.0\n",
       "21               שישית      1       NaN                 floor_15          15.0\n",
       "22              קומה 6      1       NaN                 floor_23          23.0\n",
       "23            חמש עשרה      1       NaN                 floor_20          20.0\n",
       "24               עשרים      1       NaN                 floor_11          11.0\n",
       "25             אח עשרה      1       NaN                 floor_11          11.0\n",
       "26              ארבעים      1       NaN                 floor_40          40.0\n",
       "27      שלישית, רביעית      1       NaN          floor_3_floor_4           NaN\n",
       "28              עמודים      1       NaN                  floor_1           1.0\n",
       "29              ביניים      1       NaN                  floor_1           1.0\n",
       "30       שלישית+רביעית      1       NaN          floor_3_floor_4           NaN\n",
       "31  שתים עשרה,שלש עשרה      1       NaN        floor_12_floor_13           NaN\n",
       "32       חמישית, שישית      1       NaN          floor_5_floor_6           NaN\n",
       "33          שמונה עשרה      1       NaN                 floor_18          18.0\n",
       "34    מרתף חמישי, קרקע      1       NaN  basement_floor_5_ground           NaN\n",
       "35       -------------      1   Unknown                      NaN           NaN\n",
       "36      רביעית וחמישית      1       NaN          floor_4_floor_5           NaN"
      ]
     },
     "execution_count": 50,
     "metadata": {},
     "output_type": "execute_result"
    }
   ],
   "source": [
    "translate_floor"
   ]
  },
  {
   "cell_type": "code",
   "execution_count": 51,
   "metadata": {
    "tags": []
   },
   "outputs": [
    {
     "data": {
      "text/plain": [
       "{'ראשונה': 1.0,\n",
       " 'שלישית': 3.0,\n",
       " 'שניה': 2.0,\n",
       " 'רביעית': 4.0,\n",
       " 'קרקע': 0.0,\n",
       " 'חמישית': 5.0,\n",
       " 'קומה 1': 5.0,\n",
       " 'קומה 4': 1.0,\n",
       " 'קומה 3': 4.0,\n",
       " 'מרתף': 3.0,\n",
       " 'קומה 5': -1.0,\n",
       " 'קרקע ובניים': 0.0,\n",
       " 'עשרים ושמונה': 28.0,\n",
       " 'שמינית': 8.0,\n",
       " 'עשרים ושלוש': 6.0,\n",
       " 'אחת עשרה': 6.0,\n",
       " 'שישית': 15.0,\n",
       " 'קומה 6': 23.0,\n",
       " 'חמש עשרה': 20.0,\n",
       " 'עשרים': 11.0,\n",
       " 'אח עשרה': 11.0,\n",
       " 'ארבעים': 40.0,\n",
       " 'עמודים': 1.0,\n",
       " 'ביניים': 1.0,\n",
       " 'שמונה עשרה': 18.0}"
      ]
     },
     "execution_count": 51,
     "metadata": {},
     "output_type": "execute_result"
    }
   ],
   "source": [
    "translate_floor[translate_floor['floor_number'].notna()][['floor','floor_number']].set_index('floor').to_dict()['floor_number']"
   ]
  },
  {
   "cell_type": "code",
   "execution_count": 52,
   "metadata": {
    "tags": []
   },
   "outputs": [],
   "source": [
    "floor_heb_to_number_dict = translate_floor[translate_floor['floor_number'].notna()][['floor','floor_number']].set_index('floor').to_dict()['floor_number']"
   ]
  },
  {
   "cell_type": "code",
   "execution_count": 53,
   "metadata": {
    "tags": []
   },
   "outputs": [
    {
     "data": {
      "text/plain": [
       "18.0"
      ]
     },
     "execution_count": 53,
     "metadata": {},
     "output_type": "execute_result"
    }
   ],
   "source": [
    "floor_heb_to_number_dict['שמונה עשרה']"
   ]
  },
  {
   "cell_type": "code",
   "execution_count": 54,
   "metadata": {
    "tags": []
   },
   "outputs": [],
   "source": [
    "df.loc[df['floor'].notna(), 'floor_number'] = df.loc[df['floor'].notna(), 'floor'].apply(lambda p: floor_heb_to_number_dict.get(p.strip()))"
   ]
  },
  {
   "cell_type": "code",
   "execution_count": 55,
   "metadata": {
    "scrolled": true,
    "tags": []
   },
   "outputs": [
    {
     "data": {
      "text/html": [
       "<div>\n",
       "<style scoped>\n",
       "    .dataframe tbody tr th:only-of-type {\n",
       "        vertical-align: middle;\n",
       "    }\n",
       "\n",
       "    .dataframe tbody tr th {\n",
       "        vertical-align: top;\n",
       "    }\n",
       "\n",
       "    .dataframe thead th {\n",
       "        text-align: right;\n",
       "    }\n",
       "</style>\n",
       "<table border=\"1\" class=\"dataframe\">\n",
       "  <thead>\n",
       "    <tr style=\"text-align: right;\">\n",
       "      <th></th>\n",
       "      <th>date</th>\n",
       "      <th>block_parcel</th>\n",
       "      <th>description</th>\n",
       "      <th>rooms</th>\n",
       "      <th>floor</th>\n",
       "      <th>area_sqm</th>\n",
       "      <th>price</th>\n",
       "      <th>block</th>\n",
       "      <th>parcel</th>\n",
       "      <th>sub_parcel</th>\n",
       "      <th>description_</th>\n",
       "      <th>floor_number</th>\n",
       "    </tr>\n",
       "  </thead>\n",
       "  <tbody>\n",
       "    <tr>\n",
       "      <th>0</th>\n",
       "      <td>2023-11-30</td>\n",
       "      <td>04/10/7437</td>\n",
       "      <td>דירה בבית קומות</td>\n",
       "      <td>4.0</td>\n",
       "      <td>שלישית</td>\n",
       "      <td>88.10</td>\n",
       "      <td>₪4,270,000.00</td>\n",
       "      <td>7437.0</td>\n",
       "      <td>10.0</td>\n",
       "      <td>4.0</td>\n",
       "      <td>דירה בבית קומות</td>\n",
       "      <td>3.0</td>\n",
       "    </tr>\n",
       "    <tr>\n",
       "      <th>1</th>\n",
       "      <td>2023-11-23</td>\n",
       "      <td>7226-45-6</td>\n",
       "      <td>דירה בבית קומות</td>\n",
       "      <td>3.0</td>\n",
       "      <td>שלישית</td>\n",
       "      <td>69.00</td>\n",
       "      <td>₪4,600,000.00</td>\n",
       "      <td>7226.0</td>\n",
       "      <td>45.0</td>\n",
       "      <td>6.0</td>\n",
       "      <td>דירה בבית קומות</td>\n",
       "      <td>3.0</td>\n",
       "    </tr>\n",
       "    <tr>\n",
       "      <th>2</th>\n",
       "      <td>2023-11-05</td>\n",
       "      <td>6918-53-38</td>\n",
       "      <td>דירה בבית קומות</td>\n",
       "      <td>2.0</td>\n",
       "      <td>שלישית</td>\n",
       "      <td>51.00</td>\n",
       "      <td>₪3,650,000.00</td>\n",
       "      <td>6918.0</td>\n",
       "      <td>53.0</td>\n",
       "      <td>38.0</td>\n",
       "      <td>דירה בבית קומות</td>\n",
       "      <td>3.0</td>\n",
       "    </tr>\n",
       "    <tr>\n",
       "      <th>3</th>\n",
       "      <td>2023-11-03</td>\n",
       "      <td>7441-16-3</td>\n",
       "      <td>מגורים</td>\n",
       "      <td>0.0</td>\n",
       "      <td>NaN</td>\n",
       "      <td>NaN</td>\n",
       "      <td>₪700,000.00</td>\n",
       "      <td>7441.0</td>\n",
       "      <td>16.0</td>\n",
       "      <td>3.0</td>\n",
       "      <td>מגורים</td>\n",
       "      <td>NaN</td>\n",
       "    </tr>\n",
       "    <tr>\n",
       "      <th>4</th>\n",
       "      <td>2023-11-02</td>\n",
       "      <td>7438-13-2</td>\n",
       "      <td>דירה בבית קומות</td>\n",
       "      <td>1.0</td>\n",
       "      <td>קרקע</td>\n",
       "      <td>30.57</td>\n",
       "      <td>₪2,050,000.00</td>\n",
       "      <td>7438.0</td>\n",
       "      <td>13.0</td>\n",
       "      <td>2.0</td>\n",
       "      <td>דירה בבית קומות</td>\n",
       "      <td>0.0</td>\n",
       "    </tr>\n",
       "  </tbody>\n",
       "</table>\n",
       "</div>"
      ],
      "text/plain": [
       "        date block_parcel       description  rooms   floor  area_sqm  \\\n",
       "0 2023-11-30   04/10/7437  דירה בבית קומות     4.0  שלישית     88.10   \n",
       "1 2023-11-23    7226-45-6  דירה בבית קומות     3.0  שלישית     69.00   \n",
       "2 2023-11-05   6918-53-38   דירה בבית קומות    2.0  שלישית     51.00   \n",
       "3 2023-11-03    7441-16-3            מגורים    0.0     NaN       NaN   \n",
       "4 2023-11-02    7438-13-2  דירה בבית קומות     1.0    קרקע     30.57   \n",
       "\n",
       "            price   block  parcel  sub_parcel     description_  floor_number  \n",
       "0  ₪4,270,000.00   7437.0    10.0         4.0  דירה בבית קומות           3.0  \n",
       "1  ₪4,600,000.00   7226.0    45.0         6.0  דירה בבית קומות           3.0  \n",
       "2  ₪3,650,000.00   6918.0    53.0        38.0  דירה בבית קומות           3.0  \n",
       "3    ₪700,000.00   7441.0    16.0         3.0           מגורים           NaN  \n",
       "4  ₪2,050,000.00   7438.0    13.0         2.0  דירה בבית קומות           0.0  "
      ]
     },
     "execution_count": 55,
     "metadata": {},
     "output_type": "execute_result"
    }
   ],
   "source": [
    "df.head()"
   ]
  },
  {
   "cell_type": "markdown",
   "metadata": {},
   "source": [
    "### Price"
   ]
  },
  {
   "cell_type": "code",
   "execution_count": 56,
   "metadata": {},
   "outputs": [
    {
     "data": {
      "text/plain": [
       "0    ₪4,270,000.00 \n",
       "1    ₪4,600,000.00 \n",
       "2    ₪3,650,000.00 \n",
       "3      ₪700,000.00 \n",
       "4    ₪2,050,000.00 \n",
       "Name: price, dtype: object"
      ]
     },
     "execution_count": 56,
     "metadata": {},
     "output_type": "execute_result"
    }
   ],
   "source": [
    "df['price'].head()"
   ]
  },
  {
   "cell_type": "code",
   "execution_count": 57,
   "metadata": {
    "tags": []
   },
   "outputs": [],
   "source": [
    "df['price'] = df['price'].apply(lambda p: p.replace('₪','').replace(',','')).astype(float)"
   ]
  },
  {
   "cell_type": "code",
   "execution_count": 58,
   "metadata": {
    "scrolled": true,
    "tags": []
   },
   "outputs": [
    {
     "data": {
      "text/html": [
       "<div>\n",
       "<style scoped>\n",
       "    .dataframe tbody tr th:only-of-type {\n",
       "        vertical-align: middle;\n",
       "    }\n",
       "\n",
       "    .dataframe tbody tr th {\n",
       "        vertical-align: top;\n",
       "    }\n",
       "\n",
       "    .dataframe thead th {\n",
       "        text-align: right;\n",
       "    }\n",
       "</style>\n",
       "<table border=\"1\" class=\"dataframe\">\n",
       "  <thead>\n",
       "    <tr style=\"text-align: right;\">\n",
       "      <th></th>\n",
       "      <th>date</th>\n",
       "      <th>block_parcel</th>\n",
       "      <th>description</th>\n",
       "      <th>rooms</th>\n",
       "      <th>floor</th>\n",
       "      <th>area_sqm</th>\n",
       "      <th>price</th>\n",
       "      <th>block</th>\n",
       "      <th>parcel</th>\n",
       "      <th>sub_parcel</th>\n",
       "      <th>description_</th>\n",
       "      <th>floor_number</th>\n",
       "    </tr>\n",
       "  </thead>\n",
       "  <tbody>\n",
       "    <tr>\n",
       "      <th>0</th>\n",
       "      <td>2023-11-30</td>\n",
       "      <td>04/10/7437</td>\n",
       "      <td>דירה בבית קומות</td>\n",
       "      <td>4.0</td>\n",
       "      <td>שלישית</td>\n",
       "      <td>88.10</td>\n",
       "      <td>4270000.0</td>\n",
       "      <td>7437.0</td>\n",
       "      <td>10.0</td>\n",
       "      <td>4.0</td>\n",
       "      <td>דירה בבית קומות</td>\n",
       "      <td>3.0</td>\n",
       "    </tr>\n",
       "    <tr>\n",
       "      <th>1</th>\n",
       "      <td>2023-11-23</td>\n",
       "      <td>7226-45-6</td>\n",
       "      <td>דירה בבית קומות</td>\n",
       "      <td>3.0</td>\n",
       "      <td>שלישית</td>\n",
       "      <td>69.00</td>\n",
       "      <td>4600000.0</td>\n",
       "      <td>7226.0</td>\n",
       "      <td>45.0</td>\n",
       "      <td>6.0</td>\n",
       "      <td>דירה בבית קומות</td>\n",
       "      <td>3.0</td>\n",
       "    </tr>\n",
       "    <tr>\n",
       "      <th>2</th>\n",
       "      <td>2023-11-05</td>\n",
       "      <td>6918-53-38</td>\n",
       "      <td>דירה בבית קומות</td>\n",
       "      <td>2.0</td>\n",
       "      <td>שלישית</td>\n",
       "      <td>51.00</td>\n",
       "      <td>3650000.0</td>\n",
       "      <td>6918.0</td>\n",
       "      <td>53.0</td>\n",
       "      <td>38.0</td>\n",
       "      <td>דירה בבית קומות</td>\n",
       "      <td>3.0</td>\n",
       "    </tr>\n",
       "    <tr>\n",
       "      <th>3</th>\n",
       "      <td>2023-11-03</td>\n",
       "      <td>7441-16-3</td>\n",
       "      <td>מגורים</td>\n",
       "      <td>0.0</td>\n",
       "      <td>NaN</td>\n",
       "      <td>NaN</td>\n",
       "      <td>700000.0</td>\n",
       "      <td>7441.0</td>\n",
       "      <td>16.0</td>\n",
       "      <td>3.0</td>\n",
       "      <td>מגורים</td>\n",
       "      <td>NaN</td>\n",
       "    </tr>\n",
       "    <tr>\n",
       "      <th>4</th>\n",
       "      <td>2023-11-02</td>\n",
       "      <td>7438-13-2</td>\n",
       "      <td>דירה בבית קומות</td>\n",
       "      <td>1.0</td>\n",
       "      <td>קרקע</td>\n",
       "      <td>30.57</td>\n",
       "      <td>2050000.0</td>\n",
       "      <td>7438.0</td>\n",
       "      <td>13.0</td>\n",
       "      <td>2.0</td>\n",
       "      <td>דירה בבית קומות</td>\n",
       "      <td>0.0</td>\n",
       "    </tr>\n",
       "  </tbody>\n",
       "</table>\n",
       "</div>"
      ],
      "text/plain": [
       "        date block_parcel       description  rooms   floor  area_sqm  \\\n",
       "0 2023-11-30   04/10/7437  דירה בבית קומות     4.0  שלישית     88.10   \n",
       "1 2023-11-23    7226-45-6  דירה בבית קומות     3.0  שלישית     69.00   \n",
       "2 2023-11-05   6918-53-38   דירה בבית קומות    2.0  שלישית     51.00   \n",
       "3 2023-11-03    7441-16-3            מגורים    0.0     NaN       NaN   \n",
       "4 2023-11-02    7438-13-2  דירה בבית קומות     1.0    קרקע     30.57   \n",
       "\n",
       "       price   block  parcel  sub_parcel     description_  floor_number  \n",
       "0  4270000.0  7437.0    10.0         4.0  דירה בבית קומות           3.0  \n",
       "1  4600000.0  7226.0    45.0         6.0  דירה בבית קומות           3.0  \n",
       "2  3650000.0  6918.0    53.0        38.0  דירה בבית קומות           3.0  \n",
       "3   700000.0  7441.0    16.0         3.0           מגורים           NaN  \n",
       "4  2050000.0  7438.0    13.0         2.0  דירה בבית קומות           0.0  "
      ]
     },
     "execution_count": 58,
     "metadata": {},
     "output_type": "execute_result"
    }
   ],
   "source": [
    "df.head()"
   ]
  },
  {
   "cell_type": "code",
   "execution_count": 59,
   "metadata": {
    "scrolled": true,
    "tags": []
   },
   "outputs": [],
   "source": [
    "df = df.drop(columns = ['block_parcel', 'description', 'floor'])"
   ]
  },
  {
   "cell_type": "code",
   "execution_count": 60,
   "metadata": {
    "tags": []
   },
   "outputs": [
    {
     "name": "stdout",
     "output_type": "stream",
     "text": [
      "<class 'pandas.core.frame.DataFrame'>\n",
      "RangeIndex: 248 entries, 0 to 247\n",
      "Data columns (total 9 columns):\n",
      " #   Column        Non-Null Count  Dtype         \n",
      "---  ------        --------------  -----         \n",
      " 0   date          248 non-null    datetime64[ns]\n",
      " 1   rooms         248 non-null    float64       \n",
      " 2   area_sqm      224 non-null    float64       \n",
      " 3   price         248 non-null    float64       \n",
      " 4   block         248 non-null    float64       \n",
      " 5   parcel        248 non-null    float64       \n",
      " 6   sub_parcel    248 non-null    float64       \n",
      " 7   description_  248 non-null    object        \n",
      " 8   floor_number  222 non-null    float64       \n",
      "dtypes: datetime64[ns](1), float64(7), object(1)\n",
      "memory usage: 17.6+ KB\n"
     ]
    }
   ],
   "source": [
    "df.info()"
   ]
  },
  {
   "cell_type": "code",
   "execution_count": 61,
   "metadata": {},
   "outputs": [],
   "source": [
    "df = df.dropna().reset_index(drop=True)"
   ]
  },
  {
   "cell_type": "code",
   "execution_count": 62,
   "metadata": {
    "tags": []
   },
   "outputs": [
    {
     "name": "stdout",
     "output_type": "stream",
     "text": [
      "<class 'pandas.core.frame.DataFrame'>\n",
      "RangeIndex: 204 entries, 0 to 203\n",
      "Data columns (total 9 columns):\n",
      " #   Column        Non-Null Count  Dtype         \n",
      "---  ------        --------------  -----         \n",
      " 0   date          204 non-null    datetime64[ns]\n",
      " 1   rooms         204 non-null    float64       \n",
      " 2   area_sqm      204 non-null    float64       \n",
      " 3   price         204 non-null    float64       \n",
      " 4   block         204 non-null    float64       \n",
      " 5   parcel        204 non-null    float64       \n",
      " 6   sub_parcel    204 non-null    float64       \n",
      " 7   description_  204 non-null    object        \n",
      " 8   floor_number  204 non-null    float64       \n",
      "dtypes: datetime64[ns](1), float64(7), object(1)\n",
      "memory usage: 14.5+ KB\n"
     ]
    }
   ],
   "source": [
    "df.info()"
   ]
  },
  {
   "cell_type": "code",
   "execution_count": 63,
   "metadata": {
    "tags": []
   },
   "outputs": [
    {
     "data": {
      "text/html": [
       "<div>\n",
       "<style scoped>\n",
       "    .dataframe tbody tr th:only-of-type {\n",
       "        vertical-align: middle;\n",
       "    }\n",
       "\n",
       "    .dataframe tbody tr th {\n",
       "        vertical-align: top;\n",
       "    }\n",
       "\n",
       "    .dataframe thead th {\n",
       "        text-align: right;\n",
       "    }\n",
       "</style>\n",
       "<table border=\"1\" class=\"dataframe\">\n",
       "  <thead>\n",
       "    <tr style=\"text-align: right;\">\n",
       "      <th></th>\n",
       "      <th>date</th>\n",
       "      <th>rooms</th>\n",
       "      <th>area_sqm</th>\n",
       "      <th>price</th>\n",
       "      <th>block</th>\n",
       "      <th>parcel</th>\n",
       "      <th>sub_parcel</th>\n",
       "      <th>description_</th>\n",
       "      <th>floor_number</th>\n",
       "    </tr>\n",
       "  </thead>\n",
       "  <tbody>\n",
       "    <tr>\n",
       "      <th>0</th>\n",
       "      <td>2023-11-30</td>\n",
       "      <td>4.0</td>\n",
       "      <td>88.10</td>\n",
       "      <td>4270000.0</td>\n",
       "      <td>7437.0</td>\n",
       "      <td>10.0</td>\n",
       "      <td>4.0</td>\n",
       "      <td>דירה בבית קומות</td>\n",
       "      <td>3.0</td>\n",
       "    </tr>\n",
       "    <tr>\n",
       "      <th>1</th>\n",
       "      <td>2023-11-23</td>\n",
       "      <td>3.0</td>\n",
       "      <td>69.00</td>\n",
       "      <td>4600000.0</td>\n",
       "      <td>7226.0</td>\n",
       "      <td>45.0</td>\n",
       "      <td>6.0</td>\n",
       "      <td>דירה בבית קומות</td>\n",
       "      <td>3.0</td>\n",
       "    </tr>\n",
       "    <tr>\n",
       "      <th>2</th>\n",
       "      <td>2023-11-05</td>\n",
       "      <td>2.0</td>\n",
       "      <td>51.00</td>\n",
       "      <td>3650000.0</td>\n",
       "      <td>6918.0</td>\n",
       "      <td>53.0</td>\n",
       "      <td>38.0</td>\n",
       "      <td>דירה בבית קומות</td>\n",
       "      <td>3.0</td>\n",
       "    </tr>\n",
       "    <tr>\n",
       "      <th>3</th>\n",
       "      <td>2023-11-02</td>\n",
       "      <td>1.0</td>\n",
       "      <td>30.57</td>\n",
       "      <td>2050000.0</td>\n",
       "      <td>7438.0</td>\n",
       "      <td>13.0</td>\n",
       "      <td>2.0</td>\n",
       "      <td>דירה בבית קומות</td>\n",
       "      <td>0.0</td>\n",
       "    </tr>\n",
       "    <tr>\n",
       "      <th>4</th>\n",
       "      <td>2023-10-26</td>\n",
       "      <td>3.0</td>\n",
       "      <td>66.70</td>\n",
       "      <td>5100000.0</td>\n",
       "      <td>7451.0</td>\n",
       "      <td>22.0</td>\n",
       "      <td>6.0</td>\n",
       "      <td>דירה בבית קומות</td>\n",
       "      <td>2.0</td>\n",
       "    </tr>\n",
       "  </tbody>\n",
       "</table>\n",
       "</div>"
      ],
      "text/plain": [
       "        date  rooms  area_sqm      price   block  parcel  sub_parcel  \\\n",
       "0 2023-11-30    4.0     88.10  4270000.0  7437.0    10.0         4.0   \n",
       "1 2023-11-23    3.0     69.00  4600000.0  7226.0    45.0         6.0   \n",
       "2 2023-11-05    2.0     51.00  3650000.0  6918.0    53.0        38.0   \n",
       "3 2023-11-02    1.0     30.57  2050000.0  7438.0    13.0         2.0   \n",
       "4 2023-10-26    3.0     66.70  5100000.0  7451.0    22.0         6.0   \n",
       "\n",
       "      description_  floor_number  \n",
       "0  דירה בבית קומות           3.0  \n",
       "1  דירה בבית קומות           3.0  \n",
       "2  דירה בבית קומות           3.0  \n",
       "3  דירה בבית קומות           0.0  \n",
       "4  דירה בבית קומות           2.0  "
      ]
     },
     "execution_count": 63,
     "metadata": {},
     "output_type": "execute_result"
    }
   ],
   "source": [
    "df.head()"
   ]
  },
  {
   "cell_type": "markdown",
   "metadata": {},
   "source": [
    "# 3. Data Exploration and Analysis (EDA)\n",
    "\n",
    "1. Is the data distributed normally?\n",
    "2. Do I have outliers?\n",
    "3. Is the area_sqm correleated to the price?\n",
    "4. Is there a geographic correlation?\n",
    "5. Do I have other correlations?\n",
    "\n"
   ]
  },
  {
   "cell_type": "code",
   "execution_count": 64,
   "metadata": {
    "tags": []
   },
   "outputs": [
    {
     "data": {
      "text/html": [
       "<div>\n",
       "<style scoped>\n",
       "    .dataframe tbody tr th:only-of-type {\n",
       "        vertical-align: middle;\n",
       "    }\n",
       "\n",
       "    .dataframe tbody tr th {\n",
       "        vertical-align: top;\n",
       "    }\n",
       "\n",
       "    .dataframe thead th {\n",
       "        text-align: right;\n",
       "    }\n",
       "</style>\n",
       "<table border=\"1\" class=\"dataframe\">\n",
       "  <thead>\n",
       "    <tr style=\"text-align: right;\">\n",
       "      <th></th>\n",
       "      <th>rooms</th>\n",
       "      <th>area_sqm</th>\n",
       "      <th>price</th>\n",
       "      <th>block</th>\n",
       "      <th>parcel</th>\n",
       "      <th>sub_parcel</th>\n",
       "      <th>floor_number</th>\n",
       "    </tr>\n",
       "  </thead>\n",
       "  <tbody>\n",
       "    <tr>\n",
       "      <th>count</th>\n",
       "      <td>204.000000</td>\n",
       "      <td>204.000000</td>\n",
       "      <td>2.040000e+02</td>\n",
       "      <td>204.000000</td>\n",
       "      <td>204.000000</td>\n",
       "      <td>204.000000</td>\n",
       "      <td>204.000000</td>\n",
       "    </tr>\n",
       "    <tr>\n",
       "      <th>mean</th>\n",
       "      <td>2.588235</td>\n",
       "      <td>119.869608</td>\n",
       "      <td>7.813418e+06</td>\n",
       "      <td>7122.705882</td>\n",
       "      <td>53.779412</td>\n",
       "      <td>12.000000</td>\n",
       "      <td>2.759804</td>\n",
       "    </tr>\n",
       "    <tr>\n",
       "      <th>std</th>\n",
       "      <td>1.224567</td>\n",
       "      <td>661.628055</td>\n",
       "      <td>4.528278e+07</td>\n",
       "      <td>236.677852</td>\n",
       "      <td>44.098919</td>\n",
       "      <td>17.574893</td>\n",
       "      <td>3.309362</td>\n",
       "    </tr>\n",
       "    <tr>\n",
       "      <th>min</th>\n",
       "      <td>0.000000</td>\n",
       "      <td>0.000000</td>\n",
       "      <td>2.040000e+05</td>\n",
       "      <td>6904.000000</td>\n",
       "      <td>1.000000</td>\n",
       "      <td>0.000000</td>\n",
       "      <td>-1.000000</td>\n",
       "    </tr>\n",
       "    <tr>\n",
       "      <th>25%</th>\n",
       "      <td>2.000000</td>\n",
       "      <td>50.690000</td>\n",
       "      <td>3.275000e+06</td>\n",
       "      <td>6911.750000</td>\n",
       "      <td>20.750000</td>\n",
       "      <td>4.000000</td>\n",
       "      <td>1.000000</td>\n",
       "    </tr>\n",
       "    <tr>\n",
       "      <th>50%</th>\n",
       "      <td>3.000000</td>\n",
       "      <td>64.240000</td>\n",
       "      <td>4.200000e+06</td>\n",
       "      <td>6937.000000</td>\n",
       "      <td>35.000000</td>\n",
       "      <td>7.000000</td>\n",
       "      <td>2.000000</td>\n",
       "    </tr>\n",
       "    <tr>\n",
       "      <th>75%</th>\n",
       "      <td>3.000000</td>\n",
       "      <td>82.952500</td>\n",
       "      <td>5.357500e+06</td>\n",
       "      <td>7430.000000</td>\n",
       "      <td>80.000000</td>\n",
       "      <td>12.000000</td>\n",
       "      <td>3.000000</td>\n",
       "    </tr>\n",
       "    <tr>\n",
       "      <th>max</th>\n",
       "      <td>6.000000</td>\n",
       "      <td>9500.000000</td>\n",
       "      <td>6.500000e+08</td>\n",
       "      <td>7462.000000</td>\n",
       "      <td>191.000000</td>\n",
       "      <td>126.000000</td>\n",
       "      <td>28.000000</td>\n",
       "    </tr>\n",
       "  </tbody>\n",
       "</table>\n",
       "</div>"
      ],
      "text/plain": [
       "            rooms     area_sqm         price        block      parcel  \\\n",
       "count  204.000000   204.000000  2.040000e+02   204.000000  204.000000   \n",
       "mean     2.588235   119.869608  7.813418e+06  7122.705882   53.779412   \n",
       "std      1.224567   661.628055  4.528278e+07   236.677852   44.098919   \n",
       "min      0.000000     0.000000  2.040000e+05  6904.000000    1.000000   \n",
       "25%      2.000000    50.690000  3.275000e+06  6911.750000   20.750000   \n",
       "50%      3.000000    64.240000  4.200000e+06  6937.000000   35.000000   \n",
       "75%      3.000000    82.952500  5.357500e+06  7430.000000   80.000000   \n",
       "max      6.000000  9500.000000  6.500000e+08  7462.000000  191.000000   \n",
       "\n",
       "       sub_parcel  floor_number  \n",
       "count  204.000000    204.000000  \n",
       "mean    12.000000      2.759804  \n",
       "std     17.574893      3.309362  \n",
       "min      0.000000     -1.000000  \n",
       "25%      4.000000      1.000000  \n",
       "50%      7.000000      2.000000  \n",
       "75%     12.000000      3.000000  \n",
       "max    126.000000     28.000000  "
      ]
     },
     "execution_count": 64,
     "metadata": {},
     "output_type": "execute_result"
    }
   ],
   "source": [
    "df.describe(include = np.number)"
   ]
  },
  {
   "cell_type": "code",
   "execution_count": 65,
   "metadata": {
    "tags": []
   },
   "outputs": [
    {
     "data": {
      "text/html": [
       "<div>\n",
       "<style scoped>\n",
       "    .dataframe tbody tr th:only-of-type {\n",
       "        vertical-align: middle;\n",
       "    }\n",
       "\n",
       "    .dataframe tbody tr th {\n",
       "        vertical-align: top;\n",
       "    }\n",
       "\n",
       "    .dataframe thead th {\n",
       "        text-align: right;\n",
       "    }\n",
       "</style>\n",
       "<table border=\"1\" class=\"dataframe\">\n",
       "  <thead>\n",
       "    <tr style=\"text-align: right;\">\n",
       "      <th></th>\n",
       "      <th>description_</th>\n",
       "    </tr>\n",
       "  </thead>\n",
       "  <tbody>\n",
       "    <tr>\n",
       "      <th>count</th>\n",
       "      <td>204</td>\n",
       "    </tr>\n",
       "    <tr>\n",
       "      <th>unique</th>\n",
       "      <td>6</td>\n",
       "    </tr>\n",
       "    <tr>\n",
       "      <th>top</th>\n",
       "      <td>דירה בבית קומות</td>\n",
       "    </tr>\n",
       "    <tr>\n",
       "      <th>freq</th>\n",
       "      <td>173</td>\n",
       "    </tr>\n",
       "  </tbody>\n",
       "</table>\n",
       "</div>"
      ],
      "text/plain": [
       "           description_\n",
       "count               204\n",
       "unique                6\n",
       "top     דירה בבית קומות\n",
       "freq                173"
      ]
     },
     "execution_count": 65,
     "metadata": {},
     "output_type": "execute_result"
    }
   ],
   "source": [
    "df.describe(include = ['O'])"
   ]
  },
  {
   "cell_type": "code",
   "execution_count": 66,
   "metadata": {
    "tags": []
   },
   "outputs": [
    {
     "data": {
      "text/plain": [
       "<Axes: >"
      ]
     },
     "execution_count": 66,
     "metadata": {},
     "output_type": "execute_result"
    },
    {
     "data": {
      "image/png": "[encoded data removed]",
      "text/plain": [
       "<Figure size 640x480 with 1 Axes>"
      ]
     },
     "metadata": {},
     "output_type": "display_data"
    }
   ],
   "source": [
    "df.price.hist()"
   ]
  },
  {
   "cell_type": "code",
   "execution_count": 67,
   "metadata": {
    "tags": []
   },
   "outputs": [
    {
     "data": {
      "text/plain": [
       "<Axes: >"
      ]
     },
     "execution_count": 67,
     "metadata": {},
     "output_type": "execute_result"
    },
    {
     "data": {
      "image/png": "[encoded data removed]",
      "text/plain": [
       "<Figure size 640x480 with 1 Axes>"
      ]
     },
     "metadata": {},
     "output_type": "display_data"
    }
   ],
   "source": [
    "df.price.apply(lambda p: np.log(p)+1).hist(bins=20)"
   ]
  },
  {
   "cell_type": "code",
   "execution_count": 68,
   "metadata": {
    "tags": []
   },
   "outputs": [
    {
     "data": {
      "text/html": [
       "<html>\n",
       "<head><meta charset=\"utf-8\" /></head>\n",
       "<body>\n",
       "    <div>            <script src=\"https://cdnjs.cloudflare.com/ajax/libs/mathjax/2.7.5/MathJax.js?config=TeX-AMS-MML_SVG\"></script><script type=\"text/javascript\">if (window.MathJax && window.MathJax.Hub && window.MathJax.Hub.Config) {window.MathJax.Hub.Config({SVG: {font: \"STIX-Web\"}});}</script>                <script type=\"text/javascript\">window.PlotlyConfig = {MathJaxConfig: 'local'};</script>\n",
       "        <script charset=\"utf-8\" src=\"https://cdn.plot.ly/plotly-2.27.0.min.js\"></script>                <div id=\"e8d02164-119c-49ed-b892-6bf6d8573e0a\" class=\"plotly-graph-div\" style=\"height:400px; width:1200px;\"></div>            <script type=\"text/javascript\">                                    window.PLOTLYENV=window.PLOTLYENV || {};                                    if (document.getElementById(\"e8d02164-119c-49ed-b892-6bf6d8573e0a\")) {                    Plotly.newPlot(                        \"e8d02164-119c-49ed-b892-6bf6d8573e0a\",                        [{\"histnorm\":\"probability density\",\"name\":\"Histogram\",\"nbinsx\":50,\"opacity\":0.75,\"x\":[16.26712438520481,16.341566861459324,16.110237725558676,15.53335035111459,16.444751097694557,16.130577409795798,16.2203813046571,16.06827352645964,16.363073066680286,16.06827352645964,16.345905263057922,15.73180128983843,16.163583706263967,16.47564158471389,15.48333993053993,16.394489262913666,15.946912669455374,15.085537695177335,15.744914928983812,15.508657738524219,15.862829552244833,15.880221294956703,16.260545414106765,15.946912669455374,16.657646234517394,14.793264949016955,15.914122846632385,16.201804919084164,16.274125580663792,16.292559282352627,16.6718085483299,16.62051525394235,17.12308319246936,16.465322364536647,16.464169183551654,15.403297222866392,16.702580206996654,16.039874051937943,16.42993601190941,16.262429540900598,16.153926838839702,16.424948470398377,16.250595083253597,16.694975607611433,16.285686403064865,16.607270027192328,16.30953761888705,16.534699334357494,15.316285845876763,15.821641993838218,15.978661367769956,16.822381406809274,15.73180128983843,16.434898801251542,15.914122846632385,16.226497531674536,17.012735135300492,16.81021087118902,17.012735135300492,16.137266397946593,16.648092021712586,16.955576721460545,16.41893039807281,16.84365880525656,16.176487111099874,16.501909511534503,17.012735135300492,17.012735135300492,17.08763644347361,14.815510557964274,13.225875272826354,16.182876909198647,16.264779718245553,15.647097938217023,16.201804919084164,15.942062215321625,16.48321737852235,16.262429540900598,16.78122333431577,16.06827352645964,16.18795951226211,16.424948470398377,16.607270027192328,15.682611045647658,15.15910026235435,15.876767060088614,16.59046290887595,16.917935936034485,16.21546124553165,15.978661367769956,16.607270027192328,16.424948470398377,15.457364444136669,16.201804919084164,16.317363259718437,16.089475734110245,16.07397154757428,16.21422743908272,16.262429540900598,21.292482920853956,16.317363259718437,16.50965719832533,16.6718085483299,16.80338490611862,16.53827715570538,15.346138809026444,15.862829552244833,16.607270027192328,15.904072510778882,15.978661367769956,16.31958795474055,16.75382046967502,14.329377546788654,16.176487111099874,16.424948470398377,16.285686403064865,16.201804919084164,16.150511624696613,16.07112659544205,15.77102200299171,16.082458161451598,15.508657738524219,14.729952669602628,16.37365517601082,16.186437441953043,18.073607095985757,16.679590688771956,16.906015672000088,16.35666962964508,15.603967918328545,14.790192749979985,13.971540487669746,16.404745763080854,16.02447090380125,16.564710412773533,16.163583706263967,14.815510557964274,16.48547897013841,16.12113701601671,15.687222246440461,16.107494239612926,15.452616347640594,16.274125580663792,16.424948470398377,16.37365517601082,16.982275927815785,17.1573163641116,16.308414654142425,16.137266397946593,16.239582283418194,15.115615150414612,15.808762330974558,16.894952099644108,15.648419680899378,16.59046290887595,15.648419680899378,16.199301788866045,16.894952099644108,16.768538174788453,16.955576721460545,15.288011067408597,16.03928598958639,16.03928598958639,16.150511624696613,16.5202586502027,16.434898801251542,16.02267825318673,16.05388478900754,16.022778427594943,16.02390835754207,16.064542861890608,16.08113785360895,16.254607261785353,16.274125580663792,16.308414654142425,15.930652148583594,16.241025632237445,16.13859884318037,17.34123920227253,16.19679237726062,16.06827352645964,16.414898134544874,16.363073066680286,16.281770700722046,16.309313126799452,16.483594665831106,16.518074448387857,18.098813197731136,17.07205171245691,16.498198932137967,16.793749594134948,16.199301788866045,15.690979295318174,16.250595083253597,14.500799813124575,16.341566861459324,16.00943302643671,16.747031969567487,15.869822587735804,17.14278826354869,16.294384100377258,16.099218330309064,15.77102200299171,16.49260711887219],\"type\":\"histogram\"},{\"line\":{\"color\":\"green\"},\"mode\":\"lines\",\"name\":\"Normal dist. (\\u03bc=16.22, \\u03c3=0.69)\",\"x\":[13.225875272826354,13.307356158159966,13.388837043493577,13.47031792882719,13.551798814160803,13.633279699494414,13.714760584828026,13.79624147016164,13.877722355495251,13.959203240828863,14.040684126162475,14.122165011496087,14.2036458968297,14.285126782163312,14.366607667496924,14.448088552830535,14.529569438164149,14.61105032349776,14.692531208831372,14.774012094164984,14.855492979498596,14.93697386483221,15.018454750165821,15.099935635499433,15.181416520833045,15.262897406166658,15.34437829150027,15.425859176833882,15.507340062167493,15.588820947501105,15.670301832834717,15.75178271816833,15.833263603501942,15.914744488835554,15.996225374169168,16.07770625950278,16.15918714483639,16.240668030170003,16.322148915503615,16.403629800837226,16.485110686170838,16.566591571504453,16.648072456838065,16.729553342171677,16.81103422750529,16.8925151128389,16.973995998172512,17.055476883506124,17.136957768839736,17.218438654173347,17.29991953950696,17.38140042484057,17.462881310174186,17.544362195507798,17.62584308084141,17.70732396617502,17.788804851508633,17.870285736842245,17.951766622175857,18.033247507509472,18.114728392843084,18.196209278176696,18.277690163510307,18.35917104884392,18.44065193417753,18.522132819511143,18.603613704844754,18.685094590178366,18.766575475511978,18.84805636084559,18.929537246179205,19.011018131512817,19.09249901684643,19.17397990218004,19.255460787513652,19.336941672847264,19.418422558180875,19.49990344351449,19.581384328848102,19.662865214181714,19.744346099515326,19.825826984848938,19.90730787018255,19.98878875551616,20.070269640849773,20.151750526183385,20.233231411516996,20.314712296850608,20.39619318218422,20.477674067517835,20.559154952851447,20.64063583818506,20.72211672351867,20.803597608852282,20.885078494185894,20.96655937951951,21.04804026485312,21.129521150186733,21.211002035520345,21.292482920853956],\"y\":[5.09828474948023e-05,8.41634437705613e-05,0.0001370293720178697,0.00022003643395030072,0.0003484707169063454,0.0005442879759536706,0.0008384592344372461,0.00127387238966718,0.0019088010165622543,0.002820889998670048,0.004111519979452551,0.005910298553625689,0.008379289481936109,0.011716441537393476,0.01615753203910562,0.02197581964613765,0.029478535178533997,0.038999359685344466,0.05088617586250704,0.06548365517952663,0.08311066779512852,0.10403306441329324,0.12843304261982325,0.15637701241909888,0.1877845304784509,0.2224013781196042,0.25978010976748445,0.29927130567279087,0.3400282664582017,0.38102697665632096,0.42110188810107807,0.4589965414200416,0.49342641818961874,0.5231498961545985,0.5470419724421268,0.564164709212433,0.5738282732903038,0.5756370384200784,0.5695164568488217,0.5557181566509847,0.5348027790698557,0.5076021872510669,0.47516459637610076,0.43868766704040446,0.3994455028601858,0.3587157185686952,0.31771230791003885,0.27752903895064424,0.2390967014483627,0.20315592740065946,0.17024570804106565,0.1407063205342233,0.11469429105855754,0.09220633427821681,0.07310893755258023,0.05717036290337442,0.044092242360277145,0.03353854234377747,0.025160365238460287,0.018615746641785606,0.013584221002443995,0.009776418359028254,0.006939298633627349,0.004857828049572477,0.0033539722042146996,0.0022838498097730677,0.001533791696830089,0.00101591175326085,0.0006636457960950223,0.000427570241476656,0.0002716873107099761,0.0001702636735489226,0.00010523625975006553,6.415042967828526e-05,3.85677670647255e-05,2.2868631787776404e-05,1.337354762958741e-05,7.713364170399816e-06,4.387648253629692e-06,2.4615606027597287e-06,1.3620091378156794e-06,7.432591608217312e-07,4.0002881948342893e-07,2.1234060525532768e-07,1.1116436251371178e-07,5.739695766887492e-08,2.9228257517037227e-08,1.4679380824144015e-08,7.271153454103164e-09,3.5521364785025265e-09,1.7114599378606034e-09,8.13269699699849e-10,3.8114761521365765e-10,1.7617431119234354e-10,8.031242104044253e-11,3.610884644376293e-11,1.601161987904716e-11,7.002412466346186e-12,3.0203054512573948e-12,1.284827444789303e-12],\"type\":\"scatter\"}],                        {\"template\":{\"data\":{\"histogram2dcontour\":[{\"type\":\"histogram2dcontour\",\"colorbar\":{\"outlinewidth\":0,\"ticks\":\"\"},\"colorscale\":[[0.0,\"#0d0887\"],[0.1111111111111111,\"#46039f\"],[0.2222222222222222,\"#7201a8\"],[0.3333333333333333,\"#9c179e\"],[0.4444444444444444,\"#bd3786\"],[0.5555555555555556,\"#d8576b\"],[0.6666666666666666,\"#ed7953\"],[0.7777777777777778,\"#fb9f3a\"],[0.8888888888888888,\"#fdca26\"],[1.0,\"#f0f921\"]]}],\"choropleth\":[{\"type\":\"choropleth\",\"colorbar\":{\"outlinewidth\":0,\"ticks\":\"\"}}],\"histogram2d\":[{\"type\":\"histogram2d\",\"colorbar\":{\"outlinewidth\":0,\"ticks\":\"\"},\"colorscale\":[[0.0,\"#0d0887\"],[0.1111111111111111,\"#46039f\"],[0.2222222222222222,\"#7201a8\"],[0.3333333333333333,\"#9c179e\"],[0.4444444444444444,\"#bd3786\"],[0.5555555555555556,\"#d8576b\"],[0.6666666666666666,\"#ed7953\"],[0.7777777777777778,\"#fb9f3a\"],[0.8888888888888888,\"#fdca26\"],[1.0,\"#f0f921\"]]}],\"heatmap\":[{\"type\":\"heatmap\",\"colorbar\":{\"outlinewidth\":0,\"ticks\":\"\"},\"colorscale\":[[0.0,\"#0d0887\"],[0.1111111111111111,\"#46039f\"],[0.2222222222222222,\"#7201a8\"],[0.3333333333333333,\"#9c179e\"],[0.4444444444444444,\"#bd3786\"],[0.5555555555555556,\"#d8576b\"],[0.6666666666666666,\"#ed7953\"],[0.7777777777777778,\"#fb9f3a\"],[0.8888888888888888,\"#fdca26\"],[1.0,\"#f0f921\"]]}],\"heatmapgl\":[{\"type\":\"heatmapgl\",\"colorbar\":{\"outlinewidth\":0,\"ticks\":\"\"},\"colorscale\":[[0.0,\"#0d0887\"],[0.1111111111111111,\"#46039f\"],[0.2222222222222222,\"#7201a8\"],[0.3333333333333333,\"#9c179e\"],[0.4444444444444444,\"#bd3786\"],[0.5555555555555556,\"#d8576b\"],[0.6666666666666666,\"#ed7953\"],[0.7777777777777778,\"#fb9f3a\"],[0.8888888888888888,\"#fdca26\"],[1.0,\"#f0f921\"]]}],\"contourcarpet\":[{\"type\":\"contourcarpet\",\"colorbar\":{\"outlinewidth\":0,\"ticks\":\"\"}}],\"contour\":[{\"type\":\"contour\",\"colorbar\":{\"outlinewidth\":0,\"ticks\":\"\"},\"colorscale\":[[0.0,\"#0d0887\"],[0.1111111111111111,\"#46039f\"],[0.2222222222222222,\"#7201a8\"],[0.3333333333333333,\"#9c179e\"],[0.4444444444444444,\"#bd3786\"],[0.5555555555555556,\"#d8576b\"],[0.6666666666666666,\"#ed7953\"],[0.7777777777777778,\"#fb9f3a\"],[0.8888888888888888,\"#fdca26\"],[1.0,\"#f0f921\"]]}],\"surface\":[{\"type\":\"surface\",\"colorbar\":{\"outlinewidth\":0,\"ticks\":\"\"},\"colorscale\":[[0.0,\"#0d0887\"],[0.1111111111111111,\"#46039f\"],[0.2222222222222222,\"#7201a8\"],[0.3333333333333333,\"#9c179e\"],[0.4444444444444444,\"#bd3786\"],[0.5555555555555556,\"#d8576b\"],[0.6666666666666666,\"#ed7953\"],[0.7777777777777778,\"#fb9f3a\"],[0.8888888888888888,\"#fdca26\"],[1.0,\"#f0f921\"]]}],\"mesh3d\":[{\"type\":\"mesh3d\",\"colorbar\":{\"outlinewidth\":0,\"ticks\":\"\"}}],\"scatter\":[{\"fillpattern\":{\"fillmode\":\"overlay\",\"size\":10,\"solidity\":0.2},\"type\":\"scatter\"}],\"parcoords\":[{\"type\":\"parcoords\",\"line\":{\"colorbar\":{\"outlinewidth\":0,\"ticks\":\"\"}}}],\"scatterpolargl\":[{\"type\":\"scatterpolargl\",\"marker\":{\"colorbar\":{\"outlinewidth\":0,\"ticks\":\"\"}}}],\"bar\":[{\"error_x\":{\"color\":\"#2a3f5f\"},\"error_y\":{\"color\":\"#2a3f5f\"},\"marker\":{\"line\":{\"color\":\"#E5ECF6\",\"width\":0.5},\"pattern\":{\"fillmode\":\"overlay\",\"size\":10,\"solidity\":0.2}},\"type\":\"bar\"}],\"scattergeo\":[{\"type\":\"scattergeo\",\"marker\":{\"colorbar\":{\"outlinewidth\":0,\"ticks\":\"\"}}}],\"scatterpolar\":[{\"type\":\"scatterpolar\",\"marker\":{\"colorbar\":{\"outlinewidth\":0,\"ticks\":\"\"}}}],\"histogram\":[{\"marker\":{\"pattern\":{\"fillmode\":\"overlay\",\"size\":10,\"solidity\":0.2}},\"type\":\"histogram\"}],\"scattergl\":[{\"type\":\"scattergl\",\"marker\":{\"colorbar\":{\"outlinewidth\":0,\"ticks\":\"\"}}}],\"scatter3d\":[{\"type\":\"scatter3d\",\"line\":{\"colorbar\":{\"outlinewidth\":0,\"ticks\":\"\"}},\"marker\":{\"colorbar\":{\"outlinewidth\":0,\"ticks\":\"\"}}}],\"scattermapbox\":[{\"type\":\"scattermapbox\",\"marker\":{\"colorbar\":{\"outlinewidth\":0,\"ticks\":\"\"}}}],\"scatterternary\":[{\"type\":\"scatterternary\",\"marker\":{\"colorbar\":{\"outlinewidth\":0,\"ticks\":\"\"}}}],\"scattercarpet\":[{\"type\":\"scattercarpet\",\"marker\":{\"colorbar\":{\"outlinewidth\":0,\"ticks\":\"\"}}}],\"carpet\":[{\"aaxis\":{\"endlinecolor\":\"#2a3f5f\",\"gridcolor\":\"white\",\"linecolor\":\"white\",\"minorgridcolor\":\"white\",\"startlinecolor\":\"#2a3f5f\"},\"baxis\":{\"endlinecolor\":\"#2a3f5f\",\"gridcolor\":\"white\",\"linecolor\":\"white\",\"minorgridcolor\":\"white\",\"startlinecolor\":\"#2a3f5f\"},\"type\":\"carpet\"}],\"table\":[{\"cells\":{\"fill\":{\"color\":\"#EBF0F8\"},\"line\":{\"color\":\"white\"}},\"header\":{\"fill\":{\"color\":\"#C8D4E3\"},\"line\":{\"color\":\"white\"}},\"type\":\"table\"}],\"barpolar\":[{\"marker\":{\"line\":{\"color\":\"#E5ECF6\",\"width\":0.5},\"pattern\":{\"fillmode\":\"overlay\",\"size\":10,\"solidity\":0.2}},\"type\":\"barpolar\"}],\"pie\":[{\"automargin\":true,\"type\":\"pie\"}]},\"layout\":{\"autotypenumbers\":\"strict\",\"colorway\":[\"#636efa\",\"#EF553B\",\"#00cc96\",\"#ab63fa\",\"#FFA15A\",\"#19d3f3\",\"#FF6692\",\"#B6E880\",\"#FF97FF\",\"#FECB52\"],\"font\":{\"color\":\"#2a3f5f\"},\"hovermode\":\"closest\",\"hoverlabel\":{\"align\":\"left\"},\"paper_bgcolor\":\"white\",\"plot_bgcolor\":\"#E5ECF6\",\"polar\":{\"bgcolor\":\"#E5ECF6\",\"angularaxis\":{\"gridcolor\":\"white\",\"linecolor\":\"white\",\"ticks\":\"\"},\"radialaxis\":{\"gridcolor\":\"white\",\"linecolor\":\"white\",\"ticks\":\"\"}},\"ternary\":{\"bgcolor\":\"#E5ECF6\",\"aaxis\":{\"gridcolor\":\"white\",\"linecolor\":\"white\",\"ticks\":\"\"},\"baxis\":{\"gridcolor\":\"white\",\"linecolor\":\"white\",\"ticks\":\"\"},\"caxis\":{\"gridcolor\":\"white\",\"linecolor\":\"white\",\"ticks\":\"\"}},\"coloraxis\":{\"colorbar\":{\"outlinewidth\":0,\"ticks\":\"\"}},\"colorscale\":{\"sequential\":[[0.0,\"#0d0887\"],[0.1111111111111111,\"#46039f\"],[0.2222222222222222,\"#7201a8\"],[0.3333333333333333,\"#9c179e\"],[0.4444444444444444,\"#bd3786\"],[0.5555555555555556,\"#d8576b\"],[0.6666666666666666,\"#ed7953\"],[0.7777777777777778,\"#fb9f3a\"],[0.8888888888888888,\"#fdca26\"],[1.0,\"#f0f921\"]],\"sequentialminus\":[[0.0,\"#0d0887\"],[0.1111111111111111,\"#46039f\"],[0.2222222222222222,\"#7201a8\"],[0.3333333333333333,\"#9c179e\"],[0.4444444444444444,\"#bd3786\"],[0.5555555555555556,\"#d8576b\"],[0.6666666666666666,\"#ed7953\"],[0.7777777777777778,\"#fb9f3a\"],[0.8888888888888888,\"#fdca26\"],[1.0,\"#f0f921\"]],\"diverging\":[[0,\"#8e0152\"],[0.1,\"#c51b7d\"],[0.2,\"#de77ae\"],[0.3,\"#f1b6da\"],[0.4,\"#fde0ef\"],[0.5,\"#f7f7f7\"],[0.6,\"#e6f5d0\"],[0.7,\"#b8e186\"],[0.8,\"#7fbc41\"],[0.9,\"#4d9221\"],[1,\"#276419\"]]},\"xaxis\":{\"gridcolor\":\"white\",\"linecolor\":\"white\",\"ticks\":\"\",\"title\":{\"standoff\":15},\"zerolinecolor\":\"white\",\"automargin\":true,\"zerolinewidth\":2},\"yaxis\":{\"gridcolor\":\"white\",\"linecolor\":\"white\",\"ticks\":\"\",\"title\":{\"standoff\":15},\"zerolinecolor\":\"white\",\"automargin\":true,\"zerolinewidth\":2},\"scene\":{\"xaxis\":{\"backgroundcolor\":\"#E5ECF6\",\"gridcolor\":\"white\",\"linecolor\":\"white\",\"showbackground\":true,\"ticks\":\"\",\"zerolinecolor\":\"white\",\"gridwidth\":2},\"yaxis\":{\"backgroundcolor\":\"#E5ECF6\",\"gridcolor\":\"white\",\"linecolor\":\"white\",\"showbackground\":true,\"ticks\":\"\",\"zerolinecolor\":\"white\",\"gridwidth\":2},\"zaxis\":{\"backgroundcolor\":\"#E5ECF6\",\"gridcolor\":\"white\",\"linecolor\":\"white\",\"showbackground\":true,\"ticks\":\"\",\"zerolinecolor\":\"white\",\"gridwidth\":2}},\"shapedefaults\":{\"line\":{\"color\":\"#2a3f5f\"}},\"annotationdefaults\":{\"arrowcolor\":\"#2a3f5f\",\"arrowhead\":0,\"arrowwidth\":1},\"geo\":{\"bgcolor\":\"white\",\"landcolor\":\"#E5ECF6\",\"subunitcolor\":\"white\",\"showland\":true,\"showlakes\":true,\"lakecolor\":\"white\"},\"title\":{\"x\":0.05},\"mapbox\":{\"style\":\"light\"}}},\"legend\":{\"title\":{\"text\":\"Fitted Normal Distribution\"}},\"title\":{\"text\":\"Price Distribution\"},\"xaxis\":{\"title\":{\"text\":\"SalePrice\"}},\"yaxis\":{\"title\":{\"text\":\"Density\"}},\"height\":400,\"width\":1200},                        {\"responsive\": true}                    ).then(function(){\n",
       "                            \n",
       "var gd = document.getElementById('e8d02164-119c-49ed-b892-6bf6d8573e0a');\n",
       "var x = new MutationObserver(function (mutations, observer) {{\n",
       "        var display = window.getComputedStyle(gd).display;\n",
       "        if (!display || display === 'none') {{\n",
       "            console.log([gd, 'removed!']);\n",
       "            Plotly.purge(gd);\n",
       "            observer.disconnect();\n",
       "        }}\n",
       "}});\n",
       "\n",
       "// Listen for the removal of the full notebook cells\n",
       "var notebookContainer = gd.closest('#notebook-container');\n",
       "if (notebookContainer) {{\n",
       "    x.observe(notebookContainer, {childList: true});\n",
       "}}\n",
       "\n",
       "// Listen for the clearing of the current output cell\n",
       "var outputEl = gd.closest('.output');\n",
       "if (outputEl) {{\n",
       "    x.observe(outputEl, {childList: true});\n",
       "}}\n",
       "\n",
       "                        })                };                            </script>        </div>\n",
       "</body>\n",
       "</html>"
      ]
     },
     "metadata": {},
     "output_type": "display_data"
    }
   ],
   "source": [
    "import scipy.stats as stats\n",
    "\n",
    "# Fit a normal distribution to the SalePrice data\n",
    "mu, sigma = stats.norm.fit(df['price'].apply(lambda p: np.log(p)+1))\n",
    "\n",
    "# Create a histogram of the SalePrice column\n",
    "hist_data = go.Histogram(x=df['price'].apply(lambda p: np.log(p)+1), nbinsx=50, name=\"Histogram\", opacity=0.75, histnorm='probability density')\n",
    "\n",
    "# Calculate the normal distribution based on the fitted parameters\n",
    "x_norm = np.linspace(df['price'].apply(lambda p: np.log(p)+1).min(), df['price'].apply(lambda p: np.log(p)+1).max(), 100)\n",
    "y_norm = stats.norm.pdf(x_norm, mu, sigma)\n",
    "\n",
    "# Create the normal distribution overlay\n",
    "norm_data = go.Scatter(x=x_norm, y=y_norm, mode=\"lines\", name=f\"Normal dist. (μ={mu:.2f}, σ={sigma:.2f})\", line=dict(color=\"green\"))\n",
    "\n",
    "# Combine the histogram and the overlay\n",
    "fig = go.Figure(data=[hist_data, norm_data])\n",
    "\n",
    "# Set the layout for the plot\n",
    "fig.update_layout(\n",
    "    title=\"Price Distribution\",\n",
    "    xaxis_title=\"SalePrice\",\n",
    "    yaxis_title=\"Density\",\n",
    "    legend_title_text=\"Fitted Normal Distribution\",\n",
    "    height=400,\n",
    "    width=1200\n",
    ")\n",
    "fig.show(renderer='colab')"
   ]
  },
  {
   "cell_type": "markdown",
   "metadata": {},
   "source": [
    "## Outliers"
   ]
  },
  {
   "cell_type": "code",
   "execution_count": 69,
   "metadata": {
    "tags": []
   },
   "outputs": [
    {
     "data": {
      "text/plain": [
       "<matplotlib.collections.PathCollection at 0x13cf8b9d0>"
      ]
     },
     "execution_count": 69,
     "metadata": {},
     "output_type": "execute_result"
    },
    {
     "data": {
      "image/png": "[encoded data removed]",
      "text/plain": [
       "<Figure size 640x480 with 1 Axes>"
      ]
     },
     "metadata": {},
     "output_type": "display_data"
    }
   ],
   "source": [
    "plt.scatter(x=df['area_sqm'], y=df['price'])"
   ]
  },
  {
   "cell_type": "code",
   "execution_count": 70,
   "metadata": {
    "tags": []
   },
   "outputs": [
    {
     "data": {
      "text/plain": [
       "<matplotlib.collections.PathCollection at 0x14ca42790>"
      ]
     },
     "execution_count": 70,
     "metadata": {},
     "output_type": "execute_result"
    },
    {
     "data": {
      "image/png": "[encoded data removed]",
      "text/plain": [
       "<Figure size 640x480 with 1 Axes>"
      ]
     },
     "metadata": {},
     "output_type": "display_data"
    }
   ],
   "source": [
    "plt.scatter(x=df['floor_number'], y=df['price'])"
   ]
  },
  {
   "cell_type": "code",
   "execution_count": 71,
   "metadata": {
    "tags": []
   },
   "outputs": [
    {
     "data": {
      "text/plain": [
       "<matplotlib.collections.PathCollection at 0x14cada850>"
      ]
     },
     "execution_count": 71,
     "metadata": {},
     "output_type": "execute_result"
    },
    {
     "data": {
      "image/png": "[encoded data removed]",
      "text/plain": [
       "<Figure size 640x480 with 1 Axes>"
      ]
     },
     "metadata": {},
     "output_type": "display_data"
    }
   ],
   "source": [
    "plt.scatter(x=df['rooms'], y=df['price'])"
   ]
  },
  {
   "cell_type": "code",
   "execution_count": 72,
   "metadata": {
    "tags": []
   },
   "outputs": [],
   "source": [
    "df = df[df['price'] < df['price'].max()].reset_index(drop = True)"
   ]
  },
  {
   "cell_type": "markdown",
   "metadata": {},
   "source": [
    "## correlations"
   ]
  },
  {
   "cell_type": "code",
   "execution_count": 73,
   "metadata": {
    "tags": []
   },
   "outputs": [
    {
     "data": {
      "text/plain": [
       "<matplotlib.collections.PathCollection at 0x14caeb550>"
      ]
     },
     "execution_count": 73,
     "metadata": {},
     "output_type": "execute_result"
    },
    {
     "data": {
      "image/png": "[encoded data removed]",
      "text/plain": [
       "<Figure size 640x480 with 1 Axes>"
      ]
     },
     "metadata": {},
     "output_type": "display_data"
    }
   ],
   "source": [
    "plt.scatter(x=df['area_sqm'], y=df['price'])"
   ]
  },
  {
   "cell_type": "code",
   "execution_count": 74,
   "metadata": {
    "tags": []
   },
   "outputs": [
    {
     "data": {
      "text/plain": [
       "<matplotlib.collections.PathCollection at 0x14cba7190>"
      ]
     },
     "execution_count": 74,
     "metadata": {},
     "output_type": "execute_result"
    },
    {
     "data": {
      "image/png": "[encoded data removed]",
      "text/plain": [
       "<Figure size 640x480 with 1 Axes>"
      ]
     },
     "metadata": {},
     "output_type": "display_data"
    }
   ],
   "source": [
    "plt.scatter(x=df['floor_number'], y=df['price'])"
   ]
  },
  {
   "cell_type": "code",
   "execution_count": 76,
   "metadata": {
    "tags": []
   },
   "outputs": [
    {
     "data": {
      "text/plain": [
       "<matplotlib.collections.PathCollection at 0x14cc85790>"
      ]
     },
     "execution_count": 76,
     "metadata": {},
     "output_type": "execute_result"
    },
    {
     "data": {
      "image/png": "[encoded data removed]",
      "text/plain": [
       "<Figure size 640x480 with 1 Axes>"
      ]
     },
     "metadata": {},
     "output_type": "display_data"
    }
   ],
   "source": [
    "plt.scatter(x=df['rooms'], y=df['price'])"
   ]
  },
  {
   "cell_type": "code",
   "execution_count": 77,
   "metadata": {
    "tags": []
   },
   "outputs": [
    {
     "data": {
      "text/plain": [
       "<Axes: >"
      ]
     },
     "execution_count": 77,
     "metadata": {},
     "output_type": "execute_result"
    },
    {
     "data": {
      "image/png": "[encoded data removed]",
      "text/plain": [
       "<Figure size 640x480 with 1 Axes>"
      ]
     },
     "metadata": {},
     "output_type": "display_data"
    }
   ],
   "source": [
    "df.price.hist()"
   ]
  },
  {
   "cell_type": "code",
   "execution_count": 78,
   "metadata": {
    "tags": []
   },
   "outputs": [
    {
     "data": {
      "text/plain": [
       "<Axes: >"
      ]
     },
     "execution_count": 78,
     "metadata": {},
     "output_type": "execute_result"
    },
    {
     "data": {
      "image/png": "[encoded data removed]",
      "text/plain": [
       "<Figure size 640x480 with 1 Axes>"
      ]
     },
     "metadata": {},
     "output_type": "display_data"
    }
   ],
   "source": [
    "df.price.apply(lambda p: np.log(p)+1).hist(bins=20)"
   ]
  },
  {
   "cell_type": "code",
   "execution_count": 79,
   "metadata": {
    "tags": []
   },
   "outputs": [
    {
     "data": {
      "text/html": [
       "<html>\n",
       "<head><meta charset=\"utf-8\" /></head>\n",
       "<body>\n",
       "    <div>            <script src=\"https://cdnjs.cloudflare.com/ajax/libs/mathjax/2.7.5/MathJax.js?config=TeX-AMS-MML_SVG\"></script><script type=\"text/javascript\">if (window.MathJax && window.MathJax.Hub && window.MathJax.Hub.Config) {window.MathJax.Hub.Config({SVG: {font: \"STIX-Web\"}});}</script>                <script type=\"text/javascript\">window.PlotlyConfig = {MathJaxConfig: 'local'};</script>\n",
       "        <script charset=\"utf-8\" src=\"https://cdn.plot.ly/plotly-2.27.0.min.js\"></script>                <div id=\"4c4c00bf-e10b-462a-b185-21a154c9eec5\" class=\"plotly-graph-div\" style=\"height:400px; width:1200px;\"></div>            <script type=\"text/javascript\">                                    window.PLOTLYENV=window.PLOTLYENV || {};                                    if (document.getElementById(\"4c4c00bf-e10b-462a-b185-21a154c9eec5\")) {                    Plotly.newPlot(                        \"4c4c00bf-e10b-462a-b185-21a154c9eec5\",                        [{\"histnorm\":\"probability density\",\"name\":\"Histogram\",\"nbinsx\":50,\"opacity\":0.75,\"x\":[16.26712438520481,16.341566861459324,16.110237725558676,15.53335035111459,16.444751097694557,16.130577409795798,16.2203813046571,16.06827352645964,16.363073066680286,16.06827352645964,16.345905263057922,15.73180128983843,16.163583706263967,16.47564158471389,15.48333993053993,16.394489262913666,15.946912669455374,15.085537695177335,15.744914928983812,15.508657738524219,15.862829552244833,15.880221294956703,16.260545414106765,15.946912669455374,16.657646234517394,14.793264949016955,15.914122846632385,16.201804919084164,16.274125580663792,16.292559282352627,16.6718085483299,16.62051525394235,17.12308319246936,16.465322364536647,16.464169183551654,15.403297222866392,16.702580206996654,16.039874051937943,16.42993601190941,16.262429540900598,16.153926838839702,16.424948470398377,16.250595083253597,16.694975607611433,16.285686403064865,16.607270027192328,16.30953761888705,16.534699334357494,15.316285845876763,15.821641993838218,15.978661367769956,16.822381406809274,15.73180128983843,16.434898801251542,15.914122846632385,16.226497531674536,17.012735135300492,16.81021087118902,17.012735135300492,16.137266397946593,16.648092021712586,16.955576721460545,16.41893039807281,16.84365880525656,16.176487111099874,16.501909511534503,17.012735135300492,17.012735135300492,17.08763644347361,14.815510557964274,13.225875272826354,16.182876909198647,16.264779718245553,15.647097938217023,16.201804919084164,15.942062215321625,16.48321737852235,16.262429540900598,16.78122333431577,16.06827352645964,16.18795951226211,16.424948470398377,16.607270027192328,15.682611045647658,15.15910026235435,15.876767060088614,16.59046290887595,16.917935936034485,16.21546124553165,15.978661367769956,16.607270027192328,16.424948470398377,15.457364444136669,16.201804919084164,16.317363259718437,16.089475734110245,16.07397154757428,16.21422743908272,16.262429540900598,16.317363259718437,16.50965719832533,16.6718085483299,16.80338490611862,16.53827715570538,15.346138809026444,15.862829552244833,16.607270027192328,15.904072510778882,15.978661367769956,16.31958795474055,16.75382046967502,14.329377546788654,16.176487111099874,16.424948470398377,16.285686403064865,16.201804919084164,16.150511624696613,16.07112659544205,15.77102200299171,16.082458161451598,15.508657738524219,14.729952669602628,16.37365517601082,16.186437441953043,18.073607095985757,16.679590688771956,16.906015672000088,16.35666962964508,15.603967918328545,14.790192749979985,13.971540487669746,16.404745763080854,16.02447090380125,16.564710412773533,16.163583706263967,14.815510557964274,16.48547897013841,16.12113701601671,15.687222246440461,16.107494239612926,15.452616347640594,16.274125580663792,16.424948470398377,16.37365517601082,16.982275927815785,17.1573163641116,16.308414654142425,16.137266397946593,16.239582283418194,15.115615150414612,15.808762330974558,16.894952099644108,15.648419680899378,16.59046290887595,15.648419680899378,16.199301788866045,16.894952099644108,16.768538174788453,16.955576721460545,15.288011067408597,16.03928598958639,16.03928598958639,16.150511624696613,16.5202586502027,16.434898801251542,16.02267825318673,16.05388478900754,16.022778427594943,16.02390835754207,16.064542861890608,16.08113785360895,16.254607261785353,16.274125580663792,16.308414654142425,15.930652148583594,16.241025632237445,16.13859884318037,17.34123920227253,16.19679237726062,16.06827352645964,16.414898134544874,16.363073066680286,16.281770700722046,16.309313126799452,16.483594665831106,16.518074448387857,18.098813197731136,17.07205171245691,16.498198932137967,16.793749594134948,16.199301788866045,15.690979295318174,16.250595083253597,14.500799813124575,16.341566861459324,16.00943302643671,16.747031969567487,15.869822587735804,17.14278826354869,16.294384100377258,16.099218330309064,15.77102200299171,16.49260711887219],\"type\":\"histogram\"},{\"line\":{\"color\":\"green\"},\"mode\":\"lines\",\"name\":\"Normal dist. (\\u03bc=16.19, \\u03c3=0.60)\",\"x\":[13.225875272826354,13.275096868027413,13.32431846322847,13.37354005842953,13.422761653630587,13.471983248831647,13.521204844032704,13.570426439233763,13.619648034434821,13.66886962963588,13.718091224836938,13.767312820037997,13.816534415239055,13.865756010440114,13.914977605641171,13.96419920084223,14.013420796043288,14.062642391244347,14.111863986445405,14.161085581646464,14.210307176847522,14.259528772048581,14.308750367249639,14.357971962450698,14.407193557651755,14.456415152852815,14.505636748053872,14.554858343254931,14.604079938455989,14.653301533657048,14.702523128858106,14.751744724059165,14.800966319260223,14.850187914461282,14.89940950966234,14.948631104863399,14.997852700064456,15.047074295265515,15.096295890466573,15.145517485667632,15.19473908086869,15.243960676069749,15.293182271270807,15.342403866471866,15.391625461672923,15.440847056873983,15.49006865207504,15.5392902472761,15.588511842477157,15.637733437678216,15.686955032879274,15.736176628080333,15.78539822328139,15.83461981848245,15.883841413683507,15.933063008884567,15.982284604085624,16.03150619928668,16.080727794487743,16.1299493896888,16.179170984889858,16.228392580090915,16.277614175291976,16.326835770493034,16.37605736569409,16.42527896089515,16.47450055609621,16.523722151297267,16.572943746498325,16.622165341699382,16.671386936900443,16.7206085321015,16.76983012730256,16.819051722503616,16.868273317704677,16.917494912905735,16.966716508106792,17.01593810330785,17.06515969850891,17.114381293709968,17.163602888911026,17.212824484112083,17.262046079313144,17.311267674514202,17.36048926971526,17.40971086491632,17.458932460117378,17.508154055318435,17.557375650519493,17.60659724572055,17.65581884092161,17.70504043612267,17.754262031323726,17.803483626524788,17.852705221725845,17.901926816926903,17.95114841212796,18.000370007329018,18.04959160253008,18.098813197731136],\"y\":[2.7229035902029435e-06,4.0962008287350915e-06,6.120177805830797e-06,9.08198248741702e-06,1.3385392255694688e-05,1.959365094975696e-05,2.848613010381247e-05,4.11325242016748e-05,5.898900792750543e-05,8.40215414257614e-05,0.00011886226971906028,0.0001670056697056971,0.00023305167767266507,0.00032300338519545256,0.00044462690218658086,0.0006078805117569278,0.0008254191237628948,0.0011131781028870182,0.0014910376331317076,0.001983564728602747,0.002620824688844666,0.003439247160330569,0.004482524020050125,0.0058025071664692856,0.007460064244600339,0.009525839756915518,0.012080858499397917,0.015216898560890538,0.01903655313943548,0.023652895192235464,0.029188657550618217,0.03577484470349283,0.04354870199683126,0.05265098432894975,0.06322249004331597,0.0753998567033255,0.08931065331322126,0.10506784724824382,0.12276377194104264,0.14246377085801398,0.16419974152435574,0.18796384690553736,0.21370269665432032,0.2413123239102935,0.27063429110487336,0.30145324779438815,0.33349623304618614,0.36643396365702163,0.3998842782090772,0.4334178179059614,0.4665659220381551,0.4988306039578092,0.5296963588830423,0.5586434447421443,0.5851621789221962,0.608767714251294,0.6290147030367297,0.6455112333635076,0.6579314301808297,0.6660261558903233,0.6696313198261246,0.6686734095367521,0.6631719834283092,0.6532390067088755,0.6390750621274018,0.6209626146379034,0.5992566458942431,0.5743730922487431,0.5467756119399894,0.5169612685274679,0.48544574565492615,0.45274870249831595,0.4193798416222014,0.3858261952887269,0.3525410480252063,0.31993480909321825,0.2883680356404243,0.258146693018864,0.22951962979745713,0.2026781472333931,0.17775746098959275,0.1548397898236933,0.13395876342256674,0.11510481962799353,0.09823125878372911,0.08326063754182264,0.07009121312016223,0.05860318815743298,0.04866455225814013,0.04013636546775419,0.03287737802052659,0.026747927027559293,0.021613092205124005,0.017345127826195437,0.013825215998770577,0.01094460690469187,0.008605225037484425,0.006719827404966948,0.00521180102535414,0.0040146839092439525],\"type\":\"scatter\"}],                        {\"template\":{\"data\":{\"histogram2dcontour\":[{\"type\":\"histogram2dcontour\",\"colorbar\":{\"outlinewidth\":0,\"ticks\":\"\"},\"colorscale\":[[0.0,\"#0d0887\"],[0.1111111111111111,\"#46039f\"],[0.2222222222222222,\"#7201a8\"],[0.3333333333333333,\"#9c179e\"],[0.4444444444444444,\"#bd3786\"],[0.5555555555555556,\"#d8576b\"],[0.6666666666666666,\"#ed7953\"],[0.7777777777777778,\"#fb9f3a\"],[0.8888888888888888,\"#fdca26\"],[1.0,\"#f0f921\"]]}],\"choropleth\":[{\"type\":\"choropleth\",\"colorbar\":{\"outlinewidth\":0,\"ticks\":\"\"}}],\"histogram2d\":[{\"type\":\"histogram2d\",\"colorbar\":{\"outlinewidth\":0,\"ticks\":\"\"},\"colorscale\":[[0.0,\"#0d0887\"],[0.1111111111111111,\"#46039f\"],[0.2222222222222222,\"#7201a8\"],[0.3333333333333333,\"#9c179e\"],[0.4444444444444444,\"#bd3786\"],[0.5555555555555556,\"#d8576b\"],[0.6666666666666666,\"#ed7953\"],[0.7777777777777778,\"#fb9f3a\"],[0.8888888888888888,\"#fdca26\"],[1.0,\"#f0f921\"]]}],\"heatmap\":[{\"type\":\"heatmap\",\"colorbar\":{\"outlinewidth\":0,\"ticks\":\"\"},\"colorscale\":[[0.0,\"#0d0887\"],[0.1111111111111111,\"#46039f\"],[0.2222222222222222,\"#7201a8\"],[0.3333333333333333,\"#9c179e\"],[0.4444444444444444,\"#bd3786\"],[0.5555555555555556,\"#d8576b\"],[0.6666666666666666,\"#ed7953\"],[0.7777777777777778,\"#fb9f3a\"],[0.8888888888888888,\"#fdca26\"],[1.0,\"#f0f921\"]]}],\"heatmapgl\":[{\"type\":\"heatmapgl\",\"colorbar\":{\"outlinewidth\":0,\"ticks\":\"\"},\"colorscale\":[[0.0,\"#0d0887\"],[0.1111111111111111,\"#46039f\"],[0.2222222222222222,\"#7201a8\"],[0.3333333333333333,\"#9c179e\"],[0.4444444444444444,\"#bd3786\"],[0.5555555555555556,\"#d8576b\"],[0.6666666666666666,\"#ed7953\"],[0.7777777777777778,\"#fb9f3a\"],[0.8888888888888888,\"#fdca26\"],[1.0,\"#f0f921\"]]}],\"contourcarpet\":[{\"type\":\"contourcarpet\",\"colorbar\":{\"outlinewidth\":0,\"ticks\":\"\"}}],\"contour\":[{\"type\":\"contour\",\"colorbar\":{\"outlinewidth\":0,\"ticks\":\"\"},\"colorscale\":[[0.0,\"#0d0887\"],[0.1111111111111111,\"#46039f\"],[0.2222222222222222,\"#7201a8\"],[0.3333333333333333,\"#9c179e\"],[0.4444444444444444,\"#bd3786\"],[0.5555555555555556,\"#d8576b\"],[0.6666666666666666,\"#ed7953\"],[0.7777777777777778,\"#fb9f3a\"],[0.8888888888888888,\"#fdca26\"],[1.0,\"#f0f921\"]]}],\"surface\":[{\"type\":\"surface\",\"colorbar\":{\"outlinewidth\":0,\"ticks\":\"\"},\"colorscale\":[[0.0,\"#0d0887\"],[0.1111111111111111,\"#46039f\"],[0.2222222222222222,\"#7201a8\"],[0.3333333333333333,\"#9c179e\"],[0.4444444444444444,\"#bd3786\"],[0.5555555555555556,\"#d8576b\"],[0.6666666666666666,\"#ed7953\"],[0.7777777777777778,\"#fb9f3a\"],[0.8888888888888888,\"#fdca26\"],[1.0,\"#f0f921\"]]}],\"mesh3d\":[{\"type\":\"mesh3d\",\"colorbar\":{\"outlinewidth\":0,\"ticks\":\"\"}}],\"scatter\":[{\"fillpattern\":{\"fillmode\":\"overlay\",\"size\":10,\"solidity\":0.2},\"type\":\"scatter\"}],\"parcoords\":[{\"type\":\"parcoords\",\"line\":{\"colorbar\":{\"outlinewidth\":0,\"ticks\":\"\"}}}],\"scatterpolargl\":[{\"type\":\"scatterpolargl\",\"marker\":{\"colorbar\":{\"outlinewidth\":0,\"ticks\":\"\"}}}],\"bar\":[{\"error_x\":{\"color\":\"#2a3f5f\"},\"error_y\":{\"color\":\"#2a3f5f\"},\"marker\":{\"line\":{\"color\":\"#E5ECF6\",\"width\":0.5},\"pattern\":{\"fillmode\":\"overlay\",\"size\":10,\"solidity\":0.2}},\"type\":\"bar\"}],\"scattergeo\":[{\"type\":\"scattergeo\",\"marker\":{\"colorbar\":{\"outlinewidth\":0,\"ticks\":\"\"}}}],\"scatterpolar\":[{\"type\":\"scatterpolar\",\"marker\":{\"colorbar\":{\"outlinewidth\":0,\"ticks\":\"\"}}}],\"histogram\":[{\"marker\":{\"pattern\":{\"fillmode\":\"overlay\",\"size\":10,\"solidity\":0.2}},\"type\":\"histogram\"}],\"scattergl\":[{\"type\":\"scattergl\",\"marker\":{\"colorbar\":{\"outlinewidth\":0,\"ticks\":\"\"}}}],\"scatter3d\":[{\"type\":\"scatter3d\",\"line\":{\"colorbar\":{\"outlinewidth\":0,\"ticks\":\"\"}},\"marker\":{\"colorbar\":{\"outlinewidth\":0,\"ticks\":\"\"}}}],\"scattermapbox\":[{\"type\":\"scattermapbox\",\"marker\":{\"colorbar\":{\"outlinewidth\":0,\"ticks\":\"\"}}}],\"scatterternary\":[{\"type\":\"scatterternary\",\"marker\":{\"colorbar\":{\"outlinewidth\":0,\"ticks\":\"\"}}}],\"scattercarpet\":[{\"type\":\"scattercarpet\",\"marker\":{\"colorbar\":{\"outlinewidth\":0,\"ticks\":\"\"}}}],\"carpet\":[{\"aaxis\":{\"endlinecolor\":\"#2a3f5f\",\"gridcolor\":\"white\",\"linecolor\":\"white\",\"minorgridcolor\":\"white\",\"startlinecolor\":\"#2a3f5f\"},\"baxis\":{\"endlinecolor\":\"#2a3f5f\",\"gridcolor\":\"white\",\"linecolor\":\"white\",\"minorgridcolor\":\"white\",\"startlinecolor\":\"#2a3f5f\"},\"type\":\"carpet\"}],\"table\":[{\"cells\":{\"fill\":{\"color\":\"#EBF0F8\"},\"line\":{\"color\":\"white\"}},\"header\":{\"fill\":{\"color\":\"#C8D4E3\"},\"line\":{\"color\":\"white\"}},\"type\":\"table\"}],\"barpolar\":[{\"marker\":{\"line\":{\"color\":\"#E5ECF6\",\"width\":0.5},\"pattern\":{\"fillmode\":\"overlay\",\"size\":10,\"solidity\":0.2}},\"type\":\"barpolar\"}],\"pie\":[{\"automargin\":true,\"type\":\"pie\"}]},\"layout\":{\"autotypenumbers\":\"strict\",\"colorway\":[\"#636efa\",\"#EF553B\",\"#00cc96\",\"#ab63fa\",\"#FFA15A\",\"#19d3f3\",\"#FF6692\",\"#B6E880\",\"#FF97FF\",\"#FECB52\"],\"font\":{\"color\":\"#2a3f5f\"},\"hovermode\":\"closest\",\"hoverlabel\":{\"align\":\"left\"},\"paper_bgcolor\":\"white\",\"plot_bgcolor\":\"#E5ECF6\",\"polar\":{\"bgcolor\":\"#E5ECF6\",\"angularaxis\":{\"gridcolor\":\"white\",\"linecolor\":\"white\",\"ticks\":\"\"},\"radialaxis\":{\"gridcolor\":\"white\",\"linecolor\":\"white\",\"ticks\":\"\"}},\"ternary\":{\"bgcolor\":\"#E5ECF6\",\"aaxis\":{\"gridcolor\":\"white\",\"linecolor\":\"white\",\"ticks\":\"\"},\"baxis\":{\"gridcolor\":\"white\",\"linecolor\":\"white\",\"ticks\":\"\"},\"caxis\":{\"gridcolor\":\"white\",\"linecolor\":\"white\",\"ticks\":\"\"}},\"coloraxis\":{\"colorbar\":{\"outlinewidth\":0,\"ticks\":\"\"}},\"colorscale\":{\"sequential\":[[0.0,\"#0d0887\"],[0.1111111111111111,\"#46039f\"],[0.2222222222222222,\"#7201a8\"],[0.3333333333333333,\"#9c179e\"],[0.4444444444444444,\"#bd3786\"],[0.5555555555555556,\"#d8576b\"],[0.6666666666666666,\"#ed7953\"],[0.7777777777777778,\"#fb9f3a\"],[0.8888888888888888,\"#fdca26\"],[1.0,\"#f0f921\"]],\"sequentialminus\":[[0.0,\"#0d0887\"],[0.1111111111111111,\"#46039f\"],[0.2222222222222222,\"#7201a8\"],[0.3333333333333333,\"#9c179e\"],[0.4444444444444444,\"#bd3786\"],[0.5555555555555556,\"#d8576b\"],[0.6666666666666666,\"#ed7953\"],[0.7777777777777778,\"#fb9f3a\"],[0.8888888888888888,\"#fdca26\"],[1.0,\"#f0f921\"]],\"diverging\":[[0,\"#8e0152\"],[0.1,\"#c51b7d\"],[0.2,\"#de77ae\"],[0.3,\"#f1b6da\"],[0.4,\"#fde0ef\"],[0.5,\"#f7f7f7\"],[0.6,\"#e6f5d0\"],[0.7,\"#b8e186\"],[0.8,\"#7fbc41\"],[0.9,\"#4d9221\"],[1,\"#276419\"]]},\"xaxis\":{\"gridcolor\":\"white\",\"linecolor\":\"white\",\"ticks\":\"\",\"title\":{\"standoff\":15},\"zerolinecolor\":\"white\",\"automargin\":true,\"zerolinewidth\":2},\"yaxis\":{\"gridcolor\":\"white\",\"linecolor\":\"white\",\"ticks\":\"\",\"title\":{\"standoff\":15},\"zerolinecolor\":\"white\",\"automargin\":true,\"zerolinewidth\":2},\"scene\":{\"xaxis\":{\"backgroundcolor\":\"#E5ECF6\",\"gridcolor\":\"white\",\"linecolor\":\"white\",\"showbackground\":true,\"ticks\":\"\",\"zerolinecolor\":\"white\",\"gridwidth\":2},\"yaxis\":{\"backgroundcolor\":\"#E5ECF6\",\"gridcolor\":\"white\",\"linecolor\":\"white\",\"showbackground\":true,\"ticks\":\"\",\"zerolinecolor\":\"white\",\"gridwidth\":2},\"zaxis\":{\"backgroundcolor\":\"#E5ECF6\",\"gridcolor\":\"white\",\"linecolor\":\"white\",\"showbackground\":true,\"ticks\":\"\",\"zerolinecolor\":\"white\",\"gridwidth\":2}},\"shapedefaults\":{\"line\":{\"color\":\"#2a3f5f\"}},\"annotationdefaults\":{\"arrowcolor\":\"#2a3f5f\",\"arrowhead\":0,\"arrowwidth\":1},\"geo\":{\"bgcolor\":\"white\",\"landcolor\":\"#E5ECF6\",\"subunitcolor\":\"white\",\"showland\":true,\"showlakes\":true,\"lakecolor\":\"white\"},\"title\":{\"x\":0.05},\"mapbox\":{\"style\":\"light\"}}},\"legend\":{\"title\":{\"text\":\"Fitted Normal Distribution\"}},\"title\":{\"text\":\"Price Distribution\"},\"xaxis\":{\"title\":{\"text\":\"SalePrice\"}},\"yaxis\":{\"title\":{\"text\":\"Density\"}},\"height\":400,\"width\":1200},                        {\"responsive\": true}                    ).then(function(){\n",
       "                            \n",
       "var gd = document.getElementById('4c4c00bf-e10b-462a-b185-21a154c9eec5');\n",
       "var x = new MutationObserver(function (mutations, observer) {{\n",
       "        var display = window.getComputedStyle(gd).display;\n",
       "        if (!display || display === 'none') {{\n",
       "            console.log([gd, 'removed!']);\n",
       "            Plotly.purge(gd);\n",
       "            observer.disconnect();\n",
       "        }}\n",
       "}});\n",
       "\n",
       "// Listen for the removal of the full notebook cells\n",
       "var notebookContainer = gd.closest('#notebook-container');\n",
       "if (notebookContainer) {{\n",
       "    x.observe(notebookContainer, {childList: true});\n",
       "}}\n",
       "\n",
       "// Listen for the clearing of the current output cell\n",
       "var outputEl = gd.closest('.output');\n",
       "if (outputEl) {{\n",
       "    x.observe(outputEl, {childList: true});\n",
       "}}\n",
       "\n",
       "                        })                };                            </script>        </div>\n",
       "</body>\n",
       "</html>"
      ]
     },
     "metadata": {},
     "output_type": "display_data"
    }
   ],
   "source": [
    "import scipy.stats as stats\n",
    "\n",
    "# Fit a normal distribution to the SalePrice data\n",
    "mu, sigma = stats.norm.fit(df['price'].apply(lambda p: np.log(p)+1))\n",
    "\n",
    "# Create a histogram of the SalePrice column\n",
    "hist_data = go.Histogram(x=df['price'].apply(lambda p: np.log(p)+1), nbinsx=50, name=\"Histogram\", opacity=0.75, histnorm='probability density')\n",
    "\n",
    "# Calculate the normal distribution based on the fitted parameters\n",
    "x_norm = np.linspace(df['price'].apply(lambda p: np.log(p)+1).min(), df['price'].apply(lambda p: np.log(p)+1).max(), 100)\n",
    "y_norm = stats.norm.pdf(x_norm, mu, sigma)\n",
    "\n",
    "# Create the normal distribution overlay\n",
    "norm_data = go.Scatter(x=x_norm, y=y_norm, mode=\"lines\", name=f\"Normal dist. (μ={mu:.2f}, σ={sigma:.2f})\", line=dict(color=\"green\"))\n",
    "\n",
    "# Combine the histogram and the overlay\n",
    "fig = go.Figure(data=[hist_data, norm_data])\n",
    "\n",
    "# Set the layout for the plot\n",
    "fig.update_layout(\n",
    "    title=\"Price Distribution\",\n",
    "    xaxis_title=\"SalePrice\",\n",
    "    yaxis_title=\"Density\",\n",
    "    legend_title_text=\"Fitted Normal Distribution\",\n",
    "    height=400,\n",
    "    width=1200\n",
    ")\n",
    "fig.show(renderer='colab')\n"
   ]
  },
  {
   "cell_type": "code",
   "execution_count": 80,
   "metadata": {
    "tags": []
   },
   "outputs": [],
   "source": [
    "df['ppm'] = (df['price']/ df['area_sqm'])"
   ]
  },
  {
   "cell_type": "code",
   "execution_count": 81,
   "metadata": {
    "tags": []
   },
   "outputs": [
    {
     "data": {
      "text/plain": [
       "<matplotlib.collections.PathCollection at 0x14f8328d0>"
      ]
     },
     "execution_count": 81,
     "metadata": {},
     "output_type": "execute_result"
    },
    {
     "data": {
      "image/png": "[encoded data removed]",
      "text/plain": [
       "<Figure size 640x480 with 1 Axes>"
      ]
     },
     "metadata": {},
     "output_type": "display_data"
    }
   ],
   "source": [
    "plt.scatter(x=df['date'], y=df['ppm'])"
   ]
  },
  {
   "cell_type": "code",
   "execution_count": 82,
   "metadata": {
    "tags": []
   },
   "outputs": [
    {
     "data": {
      "text/html": [
       "<div>\n",
       "<style scoped>\n",
       "    .dataframe tbody tr th:only-of-type {\n",
       "        vertical-align: middle;\n",
       "    }\n",
       "\n",
       "    .dataframe tbody tr th {\n",
       "        vertical-align: top;\n",
       "    }\n",
       "\n",
       "    .dataframe thead th {\n",
       "        text-align: right;\n",
       "    }\n",
       "</style>\n",
       "<table border=\"1\" class=\"dataframe\">\n",
       "  <thead>\n",
       "    <tr style=\"text-align: right;\">\n",
       "      <th></th>\n",
       "      <th>rooms</th>\n",
       "      <th>area_sqm</th>\n",
       "      <th>price</th>\n",
       "      <th>block</th>\n",
       "      <th>parcel</th>\n",
       "      <th>sub_parcel</th>\n",
       "      <th>floor_number</th>\n",
       "      <th>ppm</th>\n",
       "    </tr>\n",
       "  </thead>\n",
       "  <tbody>\n",
       "    <tr>\n",
       "      <th>rooms</th>\n",
       "      <td>1.000000</td>\n",
       "      <td>0.104152</td>\n",
       "      <td>0.517727</td>\n",
       "      <td>-0.065824</td>\n",
       "      <td>0.083752</td>\n",
       "      <td>0.125803</td>\n",
       "      <td>0.268417</td>\n",
       "      <td>0.278577</td>\n",
       "    </tr>\n",
       "    <tr>\n",
       "      <th>area_sqm</th>\n",
       "      <td>0.104152</td>\n",
       "      <td>1.000000</td>\n",
       "      <td>0.430948</td>\n",
       "      <td>-0.073236</td>\n",
       "      <td>0.086275</td>\n",
       "      <td>-0.031618</td>\n",
       "      <td>0.104813</td>\n",
       "      <td>-0.188906</td>\n",
       "    </tr>\n",
       "    <tr>\n",
       "      <th>price</th>\n",
       "      <td>0.517727</td>\n",
       "      <td>0.430948</td>\n",
       "      <td>1.000000</td>\n",
       "      <td>0.006034</td>\n",
       "      <td>-0.009269</td>\n",
       "      <td>0.070106</td>\n",
       "      <td>0.439551</td>\n",
       "      <td>0.538992</td>\n",
       "    </tr>\n",
       "    <tr>\n",
       "      <th>block</th>\n",
       "      <td>-0.065824</td>\n",
       "      <td>-0.073236</td>\n",
       "      <td>0.006034</td>\n",
       "      <td>1.000000</td>\n",
       "      <td>-0.417748</td>\n",
       "      <td>-0.167393</td>\n",
       "      <td>-0.078495</td>\n",
       "      <td>0.138570</td>\n",
       "    </tr>\n",
       "    <tr>\n",
       "      <th>parcel</th>\n",
       "      <td>0.083752</td>\n",
       "      <td>0.086275</td>\n",
       "      <td>-0.009269</td>\n",
       "      <td>-0.417748</td>\n",
       "      <td>1.000000</td>\n",
       "      <td>0.037137</td>\n",
       "      <td>0.064575</td>\n",
       "      <td>-0.116986</td>\n",
       "    </tr>\n",
       "    <tr>\n",
       "      <th>sub_parcel</th>\n",
       "      <td>0.125803</td>\n",
       "      <td>-0.031618</td>\n",
       "      <td>0.070106</td>\n",
       "      <td>-0.167393</td>\n",
       "      <td>0.037137</td>\n",
       "      <td>1.000000</td>\n",
       "      <td>0.289166</td>\n",
       "      <td>0.127569</td>\n",
       "    </tr>\n",
       "    <tr>\n",
       "      <th>floor_number</th>\n",
       "      <td>0.268417</td>\n",
       "      <td>0.104813</td>\n",
       "      <td>0.439551</td>\n",
       "      <td>-0.078495</td>\n",
       "      <td>0.064575</td>\n",
       "      <td>0.289166</td>\n",
       "      <td>1.000000</td>\n",
       "      <td>0.277620</td>\n",
       "    </tr>\n",
       "    <tr>\n",
       "      <th>ppm</th>\n",
       "      <td>0.278577</td>\n",
       "      <td>-0.188906</td>\n",
       "      <td>0.538992</td>\n",
       "      <td>0.138570</td>\n",
       "      <td>-0.116986</td>\n",
       "      <td>0.127569</td>\n",
       "      <td>0.277620</td>\n",
       "      <td>1.000000</td>\n",
       "    </tr>\n",
       "  </tbody>\n",
       "</table>\n",
       "</div>"
      ],
      "text/plain": [
       "                 rooms  area_sqm     price     block    parcel  sub_parcel  \\\n",
       "rooms         1.000000  0.104152  0.517727 -0.065824  0.083752    0.125803   \n",
       "area_sqm      0.104152  1.000000  0.430948 -0.073236  0.086275   -0.031618   \n",
       "price         0.517727  0.430948  1.000000  0.006034 -0.009269    0.070106   \n",
       "block        -0.065824 -0.073236  0.006034  1.000000 -0.417748   -0.167393   \n",
       "parcel        0.083752  0.086275 -0.009269 -0.417748  1.000000    0.037137   \n",
       "sub_parcel    0.125803 -0.031618  0.070106 -0.167393  0.037137    1.000000   \n",
       "floor_number  0.268417  0.104813  0.439551 -0.078495  0.064575    0.289166   \n",
       "ppm           0.278577 -0.188906  0.538992  0.138570 -0.116986    0.127569   \n",
       "\n",
       "              floor_number       ppm  \n",
       "rooms             0.268417  0.278577  \n",
       "area_sqm          0.104813 -0.188906  \n",
       "price             0.439551  0.538992  \n",
       "block            -0.078495  0.138570  \n",
       "parcel            0.064575 -0.116986  \n",
       "sub_parcel        0.289166  0.127569  \n",
       "floor_number      1.000000  0.277620  \n",
       "ppm               0.277620  1.000000  "
      ]
     },
     "execution_count": 82,
     "metadata": {},
     "output_type": "execute_result"
    }
   ],
   "source": [
    "df.corr(numeric_only = True)"
   ]
  },
  {
   "cell_type": "code",
   "execution_count": 84,
   "metadata": {
    "tags": []
   },
   "outputs": [
    {
     "data": {
      "image/png": "[encoded data removed]",
      "text/plain": [
       "<Figure size 640x480 with 2 Axes>"
      ]
     },
     "metadata": {},
     "output_type": "display_data"
    }
   ],
   "source": [
    "corr = df.corr(numeric_only = True)\n",
    "sns.heatmap(corr, cmap='coolwarm')\n",
    "plt.show()"
   ]
  },
  {
   "cell_type": "code",
   "execution_count": null,
   "metadata": {},
   "outputs": [],
   "source": []
  },
  {
   "cell_type": "code",
   "execution_count": 105,
   "metadata": {},
   "outputs": [
    {
     "name": "stdout",
     "output_type": "stream",
     "text": [
      "Intercept    2.614593e+06\n",
      "area_sqm     2.763083e+04\n",
      "dtype: float64\n"
     ]
    }
   ],
   "source": [
    "result = sm.ols(formula=\"price ~ area_sqm\", data=df).fit()\n",
    "print(result.params)\n"
   ]
  },
  {
   "cell_type": "code",
   "execution_count": 107,
   "metadata": {},
   "outputs": [
    {
     "data": {
      "text/html": [
       "<table class=\"simpletable\">\n",
       "<caption>OLS Regression Results</caption>\n",
       "<tr>\n",
       "  <th>Dep. Variable:</th>          <td>price</td>      <th>  R-squared:         </th> <td>   0.186</td>\n",
       "</tr>\n",
       "<tr>\n",
       "  <th>Model:</th>                   <td>OLS</td>       <th>  Adj. R-squared:    </th> <td>   0.182</td>\n",
       "</tr>\n",
       "<tr>\n",
       "  <th>Method:</th>             <td>Least Squares</td>  <th>  F-statistic:       </th> <td>   45.84</td>\n",
       "</tr>\n",
       "<tr>\n",
       "  <th>Date:</th>             <td>Sat, 15 Jun 2024</td> <th>  Prob (F-statistic):</th> <td>1.38e-10</td>\n",
       "</tr>\n",
       "<tr>\n",
       "  <th>Time:</th>                 <td>15:23:19</td>     <th>  Log-Likelihood:    </th> <td> -3294.5</td>\n",
       "</tr>\n",
       "<tr>\n",
       "  <th>No. Observations:</th>      <td>   203</td>      <th>  AIC:               </th> <td>   6593.</td>\n",
       "</tr>\n",
       "<tr>\n",
       "  <th>Df Residuals:</th>          <td>   201</td>      <th>  BIC:               </th> <td>   6600.</td>\n",
       "</tr>\n",
       "<tr>\n",
       "  <th>Df Model:</th>              <td>     1</td>      <th>                     </th>     <td> </td>   \n",
       "</tr>\n",
       "<tr>\n",
       "  <th>Covariance Type:</th>      <td>nonrobust</td>    <th>                     </th>     <td> </td>   \n",
       "</tr>\n",
       "</table>\n",
       "<table class=\"simpletable\">\n",
       "<tr>\n",
       "      <td></td>         <th>coef</th>     <th>std err</th>      <th>t</th>      <th>P>|t|</th>  <th>[0.025</th>    <th>0.975]</th>  \n",
       "</tr>\n",
       "<tr>\n",
       "  <th>Intercept</th> <td> 2.615e+06</td> <td> 3.56e+05</td> <td>    7.344</td> <td> 0.000</td> <td> 1.91e+06</td> <td> 3.32e+06</td>\n",
       "</tr>\n",
       "<tr>\n",
       "  <th>area_sqm</th>  <td> 2.763e+04</td> <td> 4080.926</td> <td>    6.771</td> <td> 0.000</td> <td> 1.96e+04</td> <td> 3.57e+04</td>\n",
       "</tr>\n",
       "</table>\n",
       "<table class=\"simpletable\">\n",
       "<tr>\n",
       "  <th>Omnibus:</th>       <td>162.653</td> <th>  Durbin-Watson:     </th> <td>   1.651</td>\n",
       "</tr>\n",
       "<tr>\n",
       "  <th>Prob(Omnibus):</th> <td> 0.000</td>  <th>  Jarque-Bera (JB):  </th> <td>4341.723</td>\n",
       "</tr>\n",
       "<tr>\n",
       "  <th>Skew:</th>          <td> 2.690</td>  <th>  Prob(JB):          </th> <td>    0.00</td>\n",
       "</tr>\n",
       "<tr>\n",
       "  <th>Kurtosis:</th>      <td>25.008</td>  <th>  Cond. No.          </th> <td>    163.</td>\n",
       "</tr>\n",
       "</table><br/><br/>Notes:<br/>[1] Standard Errors assume that the covariance matrix of the errors is correctly specified."
      ],
      "text/latex": [
       "\\begin{center}\n",
       "\\begin{tabular}{lclc}\n",
       "\\toprule\n",
       "\\textbf{Dep. Variable:}    &      price       & \\textbf{  R-squared:         } &     0.186   \\\\\n",
       "\\textbf{Model:}            &       OLS        & \\textbf{  Adj. R-squared:    } &     0.182   \\\\\n",
       "\\textbf{Method:}           &  Least Squares   & \\textbf{  F-statistic:       } &     45.84   \\\\\n",
       "\\textbf{Date:}             & Sat, 15 Jun 2024 & \\textbf{  Prob (F-statistic):} &  1.38e-10   \\\\\n",
       "\\textbf{Time:}             &     15:23:19     & \\textbf{  Log-Likelihood:    } &   -3294.5   \\\\\n",
       "\\textbf{No. Observations:} &         203      & \\textbf{  AIC:               } &     6593.   \\\\\n",
       "\\textbf{Df Residuals:}     &         201      & \\textbf{  BIC:               } &     6600.   \\\\\n",
       "\\textbf{Df Model:}         &           1      & \\textbf{                     } &             \\\\\n",
       "\\textbf{Covariance Type:}  &    nonrobust     & \\textbf{                     } &             \\\\\n",
       "\\bottomrule\n",
       "\\end{tabular}\n",
       "\\begin{tabular}{lcccccc}\n",
       "                   & \\textbf{coef} & \\textbf{std err} & \\textbf{t} & \\textbf{P$> |$t$|$} & \\textbf{[0.025} & \\textbf{0.975]}  \\\\\n",
       "\\midrule\n",
       "\\textbf{Intercept} &    2.615e+06  &     3.56e+05     &     7.344  &         0.000        &     1.91e+06    &     3.32e+06     \\\\\n",
       "\\textbf{area\\_sqm} &    2.763e+04  &     4080.926     &     6.771  &         0.000        &     1.96e+04    &     3.57e+04     \\\\\n",
       "\\bottomrule\n",
       "\\end{tabular}\n",
       "\\begin{tabular}{lclc}\n",
       "\\textbf{Omnibus:}       & 162.653 & \\textbf{  Durbin-Watson:     } &    1.651  \\\\\n",
       "\\textbf{Prob(Omnibus):} &   0.000 & \\textbf{  Jarque-Bera (JB):  } & 4341.723  \\\\\n",
       "\\textbf{Skew:}          &   2.690 & \\textbf{  Prob(JB):          } &     0.00  \\\\\n",
       "\\textbf{Kurtosis:}      &  25.008 & \\textbf{  Cond. No.          } &     163.  \\\\\n",
       "\\bottomrule\n",
       "\\end{tabular}\n",
       "%\\caption{OLS Regression Results}\n",
       "\\end{center}\n",
       "\n",
       "Notes: \\newline\n",
       " [1] Standard Errors assume that the covariance matrix of the errors is correctly specified."
      ],
      "text/plain": [
       "<class 'statsmodels.iolib.summary.Summary'>\n",
       "\"\"\"\n",
       "                            OLS Regression Results                            \n",
       "==============================================================================\n",
       "Dep. Variable:                  price   R-squared:                       0.186\n",
       "Model:                            OLS   Adj. R-squared:                  0.182\n",
       "Method:                 Least Squares   F-statistic:                     45.84\n",
       "Date:                Sat, 15 Jun 2024   Prob (F-statistic):           1.38e-10\n",
       "Time:                        15:23:19   Log-Likelihood:                -3294.5\n",
       "No. Observations:                 203   AIC:                             6593.\n",
       "Df Residuals:                     201   BIC:                             6600.\n",
       "Df Model:                           1                                         \n",
       "Covariance Type:            nonrobust                                         \n",
       "==============================================================================\n",
       "                 coef    std err          t      P>|t|      [0.025      0.975]\n",
       "------------------------------------------------------------------------------\n",
       "Intercept   2.615e+06   3.56e+05      7.344      0.000    1.91e+06    3.32e+06\n",
       "area_sqm    2.763e+04   4080.926      6.771      0.000    1.96e+04    3.57e+04\n",
       "==============================================================================\n",
       "Omnibus:                      162.653   Durbin-Watson:                   1.651\n",
       "Prob(Omnibus):                  0.000   Jarque-Bera (JB):             4341.723\n",
       "Skew:                           2.690   Prob(JB):                         0.00\n",
       "Kurtosis:                      25.008   Cond. No.                         163.\n",
       "==============================================================================\n",
       "\n",
       "Notes:\n",
       "[1] Standard Errors assume that the covariance matrix of the errors is correctly specified.\n",
       "\"\"\""
      ]
     },
     "execution_count": 107,
     "metadata": {},
     "output_type": "execute_result"
    }
   ],
   "source": [
    "result.summary()"
   ]
  },
  {
   "cell_type": "code",
   "execution_count": 103,
   "metadata": {},
   "outputs": [
    {
     "name": "stdout",
     "output_type": "stream",
     "text": [
      "Intercept       3.505813e+06\n",
      "floor_number    4.277299e+05\n",
      "dtype: float64\n"
     ]
    }
   ],
   "source": [
    "result = sm.ols(formula=\"price ~ floor_number\", data=df).fit()\n",
    "print(result.params)\n"
   ]
  },
  {
   "cell_type": "code",
   "execution_count": 104,
   "metadata": {},
   "outputs": [
    {
     "data": {
      "text/html": [
       "<table class=\"simpletable\">\n",
       "<caption>OLS Regression Results</caption>\n",
       "<tr>\n",
       "  <th>Dep. Variable:</th>          <td>price</td>      <th>  R-squared:         </th> <td>   0.193</td>\n",
       "</tr>\n",
       "<tr>\n",
       "  <th>Model:</th>                   <td>OLS</td>       <th>  Adj. R-squared:    </th> <td>   0.189</td>\n",
       "</tr>\n",
       "<tr>\n",
       "  <th>Method:</th>             <td>Least Squares</td>  <th>  F-statistic:       </th> <td>   48.13</td>\n",
       "</tr>\n",
       "<tr>\n",
       "  <th>Date:</th>             <td>Sat, 15 Jun 2024</td> <th>  Prob (F-statistic):</th> <td>5.35e-11</td>\n",
       "</tr>\n",
       "<tr>\n",
       "  <th>Time:</th>                 <td>15:09:37</td>     <th>  Log-Likelihood:    </th> <td> -3293.6</td>\n",
       "</tr>\n",
       "<tr>\n",
       "  <th>No. Observations:</th>      <td>   203</td>      <th>  AIC:               </th> <td>   6591.</td>\n",
       "</tr>\n",
       "<tr>\n",
       "  <th>Df Residuals:</th>          <td>   201</td>      <th>  BIC:               </th> <td>   6598.</td>\n",
       "</tr>\n",
       "<tr>\n",
       "  <th>Df Model:</th>              <td>     1</td>      <th>                     </th>     <td> </td>   \n",
       "</tr>\n",
       "<tr>\n",
       "  <th>Covariance Type:</th>      <td>nonrobust</td>    <th>                     </th>     <td> </td>   \n",
       "</tr>\n",
       "</table>\n",
       "<table class=\"simpletable\">\n",
       "<tr>\n",
       "        <td></td>          <th>coef</th>     <th>std err</th>      <th>t</th>      <th>P>|t|</th>  <th>[0.025</th>    <th>0.975]</th>  \n",
       "</tr>\n",
       "<tr>\n",
       "  <th>Intercept</th>    <td> 3.506e+06</td> <td> 2.51e+05</td> <td>   13.942</td> <td> 0.000</td> <td> 3.01e+06</td> <td>    4e+06</td>\n",
       "</tr>\n",
       "<tr>\n",
       "  <th>floor_number</th> <td> 4.277e+05</td> <td> 6.17e+04</td> <td>    6.938</td> <td> 0.000</td> <td> 3.06e+05</td> <td> 5.49e+05</td>\n",
       "</tr>\n",
       "</table>\n",
       "<table class=\"simpletable\">\n",
       "<tr>\n",
       "  <th>Omnibus:</th>       <td>174.570</td> <th>  Durbin-Watson:     </th> <td>   1.696</td>\n",
       "</tr>\n",
       "<tr>\n",
       "  <th>Prob(Omnibus):</th> <td> 0.000</td>  <th>  Jarque-Bera (JB):  </th> <td>4088.578</td>\n",
       "</tr>\n",
       "<tr>\n",
       "  <th>Skew:</th>          <td> 3.072</td>  <th>  Prob(JB):          </th> <td>    0.00</td>\n",
       "</tr>\n",
       "<tr>\n",
       "  <th>Kurtosis:</th>      <td>24.110</td>  <th>  Cond. No.          </th> <td>    5.55</td>\n",
       "</tr>\n",
       "</table><br/><br/>Notes:<br/>[1] Standard Errors assume that the covariance matrix of the errors is correctly specified."
      ],
      "text/latex": [
       "\\begin{center}\n",
       "\\begin{tabular}{lclc}\n",
       "\\toprule\n",
       "\\textbf{Dep. Variable:}    &      price       & \\textbf{  R-squared:         } &     0.193   \\\\\n",
       "\\textbf{Model:}            &       OLS        & \\textbf{  Adj. R-squared:    } &     0.189   \\\\\n",
       "\\textbf{Method:}           &  Least Squares   & \\textbf{  F-statistic:       } &     48.13   \\\\\n",
       "\\textbf{Date:}             & Sat, 15 Jun 2024 & \\textbf{  Prob (F-statistic):} &  5.35e-11   \\\\\n",
       "\\textbf{Time:}             &     15:09:37     & \\textbf{  Log-Likelihood:    } &   -3293.6   \\\\\n",
       "\\textbf{No. Observations:} &         203      & \\textbf{  AIC:               } &     6591.   \\\\\n",
       "\\textbf{Df Residuals:}     &         201      & \\textbf{  BIC:               } &     6598.   \\\\\n",
       "\\textbf{Df Model:}         &           1      & \\textbf{                     } &             \\\\\n",
       "\\textbf{Covariance Type:}  &    nonrobust     & \\textbf{                     } &             \\\\\n",
       "\\bottomrule\n",
       "\\end{tabular}\n",
       "\\begin{tabular}{lcccccc}\n",
       "                       & \\textbf{coef} & \\textbf{std err} & \\textbf{t} & \\textbf{P$> |$t$|$} & \\textbf{[0.025} & \\textbf{0.975]}  \\\\\n",
       "\\midrule\n",
       "\\textbf{Intercept}     &    3.506e+06  &     2.51e+05     &    13.942  &         0.000        &     3.01e+06    &        4e+06     \\\\\n",
       "\\textbf{floor\\_number} &    4.277e+05  &     6.17e+04     &     6.938  &         0.000        &     3.06e+05    &     5.49e+05     \\\\\n",
       "\\bottomrule\n",
       "\\end{tabular}\n",
       "\\begin{tabular}{lclc}\n",
       "\\textbf{Omnibus:}       & 174.570 & \\textbf{  Durbin-Watson:     } &    1.696  \\\\\n",
       "\\textbf{Prob(Omnibus):} &   0.000 & \\textbf{  Jarque-Bera (JB):  } & 4088.578  \\\\\n",
       "\\textbf{Skew:}          &   3.072 & \\textbf{  Prob(JB):          } &     0.00  \\\\\n",
       "\\textbf{Kurtosis:}      &  24.110 & \\textbf{  Cond. No.          } &     5.55  \\\\\n",
       "\\bottomrule\n",
       "\\end{tabular}\n",
       "%\\caption{OLS Regression Results}\n",
       "\\end{center}\n",
       "\n",
       "Notes: \\newline\n",
       " [1] Standard Errors assume that the covariance matrix of the errors is correctly specified."
      ],
      "text/plain": [
       "<class 'statsmodels.iolib.summary.Summary'>\n",
       "\"\"\"\n",
       "                            OLS Regression Results                            \n",
       "==============================================================================\n",
       "Dep. Variable:                  price   R-squared:                       0.193\n",
       "Model:                            OLS   Adj. R-squared:                  0.189\n",
       "Method:                 Least Squares   F-statistic:                     48.13\n",
       "Date:                Sat, 15 Jun 2024   Prob (F-statistic):           5.35e-11\n",
       "Time:                        15:09:37   Log-Likelihood:                -3293.6\n",
       "No. Observations:                 203   AIC:                             6591.\n",
       "Df Residuals:                     201   BIC:                             6598.\n",
       "Df Model:                           1                                         \n",
       "Covariance Type:            nonrobust                                         \n",
       "================================================================================\n",
       "                   coef    std err          t      P>|t|      [0.025      0.975]\n",
       "--------------------------------------------------------------------------------\n",
       "Intercept     3.506e+06   2.51e+05     13.942      0.000    3.01e+06       4e+06\n",
       "floor_number  4.277e+05   6.17e+04      6.938      0.000    3.06e+05    5.49e+05\n",
       "==============================================================================\n",
       "Omnibus:                      174.570   Durbin-Watson:                   1.696\n",
       "Prob(Omnibus):                  0.000   Jarque-Bera (JB):             4088.578\n",
       "Skew:                           3.072   Prob(JB):                         0.00\n",
       "Kurtosis:                      24.110   Cond. No.                         5.55\n",
       "==============================================================================\n",
       "\n",
       "Notes:\n",
       "[1] Standard Errors assume that the covariance matrix of the errors is correctly specified.\n",
       "\"\"\""
      ]
     },
     "execution_count": 104,
     "metadata": {},
     "output_type": "execute_result"
    }
   ],
   "source": [
    "result.summary()"
   ]
  },
  {
   "cell_type": "code",
   "execution_count": 101,
   "metadata": {},
   "outputs": [
    {
     "name": "stdout",
     "output_type": "stream",
     "text": [
      "Intercept    1.318069e+06\n",
      "rooms        1.281002e+06\n",
      "dtype: float64\n"
     ]
    }
   ],
   "source": [
    "result = sm.ols(formula=\"price ~ rooms\", data=df).fit()\n",
    "print(result.params)"
   ]
  },
  {
   "cell_type": "code",
   "execution_count": 102,
   "metadata": {},
   "outputs": [
    {
     "data": {
      "text/html": [
       "<table class=\"simpletable\">\n",
       "<caption>OLS Regression Results</caption>\n",
       "<tr>\n",
       "  <th>Dep. Variable:</th>          <td>price</td>      <th>  R-squared:         </th> <td>   0.268</td>\n",
       "</tr>\n",
       "<tr>\n",
       "  <th>Model:</th>                   <td>OLS</td>       <th>  Adj. R-squared:    </th> <td>   0.264</td>\n",
       "</tr>\n",
       "<tr>\n",
       "  <th>Method:</th>             <td>Least Squares</td>  <th>  F-statistic:       </th> <td>   73.61</td>\n",
       "</tr>\n",
       "<tr>\n",
       "  <th>Date:</th>             <td>Sat, 15 Jun 2024</td> <th>  Prob (F-statistic):</th> <td>2.58e-15</td>\n",
       "</tr>\n",
       "<tr>\n",
       "  <th>Time:</th>                 <td>15:09:30</td>     <th>  Log-Likelihood:    </th> <td> -3283.7</td>\n",
       "</tr>\n",
       "<tr>\n",
       "  <th>No. Observations:</th>      <td>   203</td>      <th>  AIC:               </th> <td>   6571.</td>\n",
       "</tr>\n",
       "<tr>\n",
       "  <th>Df Residuals:</th>          <td>   201</td>      <th>  BIC:               </th> <td>   6578.</td>\n",
       "</tr>\n",
       "<tr>\n",
       "  <th>Df Model:</th>              <td>     1</td>      <th>                     </th>     <td> </td>   \n",
       "</tr>\n",
       "<tr>\n",
       "  <th>Covariance Type:</th>      <td>nonrobust</td>    <th>                     </th>     <td> </td>   \n",
       "</tr>\n",
       "</table>\n",
       "<table class=\"simpletable\">\n",
       "<tr>\n",
       "      <td></td>         <th>coef</th>     <th>std err</th>      <th>t</th>      <th>P>|t|</th>  <th>[0.025</th>    <th>0.975]</th>  \n",
       "</tr>\n",
       "<tr>\n",
       "  <th>Intercept</th> <td> 1.318e+06</td> <td> 4.28e+05</td> <td>    3.077</td> <td> 0.002</td> <td> 4.73e+05</td> <td> 2.16e+06</td>\n",
       "</tr>\n",
       "<tr>\n",
       "  <th>rooms</th>     <td> 1.281e+06</td> <td> 1.49e+05</td> <td>    8.579</td> <td> 0.000</td> <td> 9.87e+05</td> <td> 1.58e+06</td>\n",
       "</tr>\n",
       "</table>\n",
       "<table class=\"simpletable\">\n",
       "<tr>\n",
       "  <th>Omnibus:</th>       <td>202.285</td> <th>  Durbin-Watson:     </th> <td>   1.758</td>\n",
       "</tr>\n",
       "<tr>\n",
       "  <th>Prob(Omnibus):</th> <td> 0.000</td>  <th>  Jarque-Bera (JB):  </th> <td>5324.302</td>\n",
       "</tr>\n",
       "<tr>\n",
       "  <th>Skew:</th>          <td> 3.838</td>  <th>  Prob(JB):          </th> <td>    0.00</td>\n",
       "</tr>\n",
       "<tr>\n",
       "  <th>Kurtosis:</th>      <td>26.886</td>  <th>  Cond. No.          </th> <td>    7.49</td>\n",
       "</tr>\n",
       "</table><br/><br/>Notes:<br/>[1] Standard Errors assume that the covariance matrix of the errors is correctly specified."
      ],
      "text/latex": [
       "\\begin{center}\n",
       "\\begin{tabular}{lclc}\n",
       "\\toprule\n",
       "\\textbf{Dep. Variable:}    &      price       & \\textbf{  R-squared:         } &     0.268   \\\\\n",
       "\\textbf{Model:}            &       OLS        & \\textbf{  Adj. R-squared:    } &     0.264   \\\\\n",
       "\\textbf{Method:}           &  Least Squares   & \\textbf{  F-statistic:       } &     73.61   \\\\\n",
       "\\textbf{Date:}             & Sat, 15 Jun 2024 & \\textbf{  Prob (F-statistic):} &  2.58e-15   \\\\\n",
       "\\textbf{Time:}             &     15:09:30     & \\textbf{  Log-Likelihood:    } &   -3283.7   \\\\\n",
       "\\textbf{No. Observations:} &         203      & \\textbf{  AIC:               } &     6571.   \\\\\n",
       "\\textbf{Df Residuals:}     &         201      & \\textbf{  BIC:               } &     6578.   \\\\\n",
       "\\textbf{Df Model:}         &           1      & \\textbf{                     } &             \\\\\n",
       "\\textbf{Covariance Type:}  &    nonrobust     & \\textbf{                     } &             \\\\\n",
       "\\bottomrule\n",
       "\\end{tabular}\n",
       "\\begin{tabular}{lcccccc}\n",
       "                   & \\textbf{coef} & \\textbf{std err} & \\textbf{t} & \\textbf{P$> |$t$|$} & \\textbf{[0.025} & \\textbf{0.975]}  \\\\\n",
       "\\midrule\n",
       "\\textbf{Intercept} &    1.318e+06  &     4.28e+05     &     3.077  &         0.002        &     4.73e+05    &     2.16e+06     \\\\\n",
       "\\textbf{rooms}     &    1.281e+06  &     1.49e+05     &     8.579  &         0.000        &     9.87e+05    &     1.58e+06     \\\\\n",
       "\\bottomrule\n",
       "\\end{tabular}\n",
       "\\begin{tabular}{lclc}\n",
       "\\textbf{Omnibus:}       & 202.285 & \\textbf{  Durbin-Watson:     } &    1.758  \\\\\n",
       "\\textbf{Prob(Omnibus):} &   0.000 & \\textbf{  Jarque-Bera (JB):  } & 5324.302  \\\\\n",
       "\\textbf{Skew:}          &   3.838 & \\textbf{  Prob(JB):          } &     0.00  \\\\\n",
       "\\textbf{Kurtosis:}      &  26.886 & \\textbf{  Cond. No.          } &     7.49  \\\\\n",
       "\\bottomrule\n",
       "\\end{tabular}\n",
       "%\\caption{OLS Regression Results}\n",
       "\\end{center}\n",
       "\n",
       "Notes: \\newline\n",
       " [1] Standard Errors assume that the covariance matrix of the errors is correctly specified."
      ],
      "text/plain": [
       "<class 'statsmodels.iolib.summary.Summary'>\n",
       "\"\"\"\n",
       "                            OLS Regression Results                            \n",
       "==============================================================================\n",
       "Dep. Variable:                  price   R-squared:                       0.268\n",
       "Model:                            OLS   Adj. R-squared:                  0.264\n",
       "Method:                 Least Squares   F-statistic:                     73.61\n",
       "Date:                Sat, 15 Jun 2024   Prob (F-statistic):           2.58e-15\n",
       "Time:                        15:09:30   Log-Likelihood:                -3283.7\n",
       "No. Observations:                 203   AIC:                             6571.\n",
       "Df Residuals:                     201   BIC:                             6578.\n",
       "Df Model:                           1                                         \n",
       "Covariance Type:            nonrobust                                         \n",
       "==============================================================================\n",
       "                 coef    std err          t      P>|t|      [0.025      0.975]\n",
       "------------------------------------------------------------------------------\n",
       "Intercept   1.318e+06   4.28e+05      3.077      0.002    4.73e+05    2.16e+06\n",
       "rooms       1.281e+06   1.49e+05      8.579      0.000    9.87e+05    1.58e+06\n",
       "==============================================================================\n",
       "Omnibus:                      202.285   Durbin-Watson:                   1.758\n",
       "Prob(Omnibus):                  0.000   Jarque-Bera (JB):             5324.302\n",
       "Skew:                           3.838   Prob(JB):                         0.00\n",
       "Kurtosis:                      26.886   Cond. No.                         7.49\n",
       "==============================================================================\n",
       "\n",
       "Notes:\n",
       "[1] Standard Errors assume that the covariance matrix of the errors is correctly specified.\n",
       "\"\"\""
      ]
     },
     "execution_count": 102,
     "metadata": {},
     "output_type": "execute_result"
    }
   ],
   "source": [
    "result.summary()"
   ]
  },
  {
   "cell_type": "code",
   "execution_count": 99,
   "metadata": {},
   "outputs": [
    {
     "name": "stdout",
     "output_type": "stream",
     "text": [
      "Intercept      -391609.862644\n",
      "area_sqm         22972.741755\n",
      "floor_number    286333.205589\n",
      "rooms           993247.242265\n",
      "dtype: float64\n"
     ]
    }
   ],
   "source": [
    "import statsmodels.formula.api as sm\n",
    "\n",
    "result = sm.ols(formula=\"price ~ area_sqm + floor_number + rooms\", data=df).fit()\n",
    "print(result.params)\n"
   ]
  },
  {
   "cell_type": "code",
   "execution_count": 108,
   "metadata": {},
   "outputs": [
    {
     "data": {
      "text/html": [
       "<table class=\"simpletable\">\n",
       "<caption>OLS Regression Results</caption>\n",
       "<tr>\n",
       "  <th>Dep. Variable:</th>          <td>price</td>      <th>  R-squared:         </th> <td>   0.186</td>\n",
       "</tr>\n",
       "<tr>\n",
       "  <th>Model:</th>                   <td>OLS</td>       <th>  Adj. R-squared:    </th> <td>   0.182</td>\n",
       "</tr>\n",
       "<tr>\n",
       "  <th>Method:</th>             <td>Least Squares</td>  <th>  F-statistic:       </th> <td>   45.84</td>\n",
       "</tr>\n",
       "<tr>\n",
       "  <th>Date:</th>             <td>Sat, 15 Jun 2024</td> <th>  Prob (F-statistic):</th> <td>1.38e-10</td>\n",
       "</tr>\n",
       "<tr>\n",
       "  <th>Time:</th>                 <td>15:23:30</td>     <th>  Log-Likelihood:    </th> <td> -3294.5</td>\n",
       "</tr>\n",
       "<tr>\n",
       "  <th>No. Observations:</th>      <td>   203</td>      <th>  AIC:               </th> <td>   6593.</td>\n",
       "</tr>\n",
       "<tr>\n",
       "  <th>Df Residuals:</th>          <td>   201</td>      <th>  BIC:               </th> <td>   6600.</td>\n",
       "</tr>\n",
       "<tr>\n",
       "  <th>Df Model:</th>              <td>     1</td>      <th>                     </th>     <td> </td>   \n",
       "</tr>\n",
       "<tr>\n",
       "  <th>Covariance Type:</th>      <td>nonrobust</td>    <th>                     </th>     <td> </td>   \n",
       "</tr>\n",
       "</table>\n",
       "<table class=\"simpletable\">\n",
       "<tr>\n",
       "      <td></td>         <th>coef</th>     <th>std err</th>      <th>t</th>      <th>P>|t|</th>  <th>[0.025</th>    <th>0.975]</th>  \n",
       "</tr>\n",
       "<tr>\n",
       "  <th>Intercept</th> <td> 2.615e+06</td> <td> 3.56e+05</td> <td>    7.344</td> <td> 0.000</td> <td> 1.91e+06</td> <td> 3.32e+06</td>\n",
       "</tr>\n",
       "<tr>\n",
       "  <th>area_sqm</th>  <td> 2.763e+04</td> <td> 4080.926</td> <td>    6.771</td> <td> 0.000</td> <td> 1.96e+04</td> <td> 3.57e+04</td>\n",
       "</tr>\n",
       "</table>\n",
       "<table class=\"simpletable\">\n",
       "<tr>\n",
       "  <th>Omnibus:</th>       <td>162.653</td> <th>  Durbin-Watson:     </th> <td>   1.651</td>\n",
       "</tr>\n",
       "<tr>\n",
       "  <th>Prob(Omnibus):</th> <td> 0.000</td>  <th>  Jarque-Bera (JB):  </th> <td>4341.723</td>\n",
       "</tr>\n",
       "<tr>\n",
       "  <th>Skew:</th>          <td> 2.690</td>  <th>  Prob(JB):          </th> <td>    0.00</td>\n",
       "</tr>\n",
       "<tr>\n",
       "  <th>Kurtosis:</th>      <td>25.008</td>  <th>  Cond. No.          </th> <td>    163.</td>\n",
       "</tr>\n",
       "</table><br/><br/>Notes:<br/>[1] Standard Errors assume that the covariance matrix of the errors is correctly specified."
      ],
      "text/latex": [
       "\\begin{center}\n",
       "\\begin{tabular}{lclc}\n",
       "\\toprule\n",
       "\\textbf{Dep. Variable:}    &      price       & \\textbf{  R-squared:         } &     0.186   \\\\\n",
       "\\textbf{Model:}            &       OLS        & \\textbf{  Adj. R-squared:    } &     0.182   \\\\\n",
       "\\textbf{Method:}           &  Least Squares   & \\textbf{  F-statistic:       } &     45.84   \\\\\n",
       "\\textbf{Date:}             & Sat, 15 Jun 2024 & \\textbf{  Prob (F-statistic):} &  1.38e-10   \\\\\n",
       "\\textbf{Time:}             &     15:23:30     & \\textbf{  Log-Likelihood:    } &   -3294.5   \\\\\n",
       "\\textbf{No. Observations:} &         203      & \\textbf{  AIC:               } &     6593.   \\\\\n",
       "\\textbf{Df Residuals:}     &         201      & \\textbf{  BIC:               } &     6600.   \\\\\n",
       "\\textbf{Df Model:}         &           1      & \\textbf{                     } &             \\\\\n",
       "\\textbf{Covariance Type:}  &    nonrobust     & \\textbf{                     } &             \\\\\n",
       "\\bottomrule\n",
       "\\end{tabular}\n",
       "\\begin{tabular}{lcccccc}\n",
       "                   & \\textbf{coef} & \\textbf{std err} & \\textbf{t} & \\textbf{P$> |$t$|$} & \\textbf{[0.025} & \\textbf{0.975]}  \\\\\n",
       "\\midrule\n",
       "\\textbf{Intercept} &    2.615e+06  &     3.56e+05     &     7.344  &         0.000        &     1.91e+06    &     3.32e+06     \\\\\n",
       "\\textbf{area\\_sqm} &    2.763e+04  &     4080.926     &     6.771  &         0.000        &     1.96e+04    &     3.57e+04     \\\\\n",
       "\\bottomrule\n",
       "\\end{tabular}\n",
       "\\begin{tabular}{lclc}\n",
       "\\textbf{Omnibus:}       & 162.653 & \\textbf{  Durbin-Watson:     } &    1.651  \\\\\n",
       "\\textbf{Prob(Omnibus):} &   0.000 & \\textbf{  Jarque-Bera (JB):  } & 4341.723  \\\\\n",
       "\\textbf{Skew:}          &   2.690 & \\textbf{  Prob(JB):          } &     0.00  \\\\\n",
       "\\textbf{Kurtosis:}      &  25.008 & \\textbf{  Cond. No.          } &     163.  \\\\\n",
       "\\bottomrule\n",
       "\\end{tabular}\n",
       "%\\caption{OLS Regression Results}\n",
       "\\end{center}\n",
       "\n",
       "Notes: \\newline\n",
       " [1] Standard Errors assume that the covariance matrix of the errors is correctly specified."
      ],
      "text/plain": [
       "<class 'statsmodels.iolib.summary.Summary'>\n",
       "\"\"\"\n",
       "                            OLS Regression Results                            \n",
       "==============================================================================\n",
       "Dep. Variable:                  price   R-squared:                       0.186\n",
       "Model:                            OLS   Adj. R-squared:                  0.182\n",
       "Method:                 Least Squares   F-statistic:                     45.84\n",
       "Date:                Sat, 15 Jun 2024   Prob (F-statistic):           1.38e-10\n",
       "Time:                        15:23:30   Log-Likelihood:                -3294.5\n",
       "No. Observations:                 203   AIC:                             6593.\n",
       "Df Residuals:                     201   BIC:                             6600.\n",
       "Df Model:                           1                                         \n",
       "Covariance Type:            nonrobust                                         \n",
       "==============================================================================\n",
       "                 coef    std err          t      P>|t|      [0.025      0.975]\n",
       "------------------------------------------------------------------------------\n",
       "Intercept   2.615e+06   3.56e+05      7.344      0.000    1.91e+06    3.32e+06\n",
       "area_sqm    2.763e+04   4080.926      6.771      0.000    1.96e+04    3.57e+04\n",
       "==============================================================================\n",
       "Omnibus:                      162.653   Durbin-Watson:                   1.651\n",
       "Prob(Omnibus):                  0.000   Jarque-Bera (JB):             4341.723\n",
       "Skew:                           2.690   Prob(JB):                         0.00\n",
       "Kurtosis:                      25.008   Cond. No.                         163.\n",
       "==============================================================================\n",
       "\n",
       "Notes:\n",
       "[1] Standard Errors assume that the covariance matrix of the errors is correctly specified.\n",
       "\"\"\""
      ]
     },
     "execution_count": 108,
     "metadata": {},
     "output_type": "execute_result"
    }
   ],
   "source": [
    "result.summary()"
   ]
  },
  {
   "cell_type": "code",
   "execution_count": 110,
   "metadata": {},
   "outputs": [],
   "source": [
    "# (*) we could also try to normalize the data\n",
    "# (*) we could also apply logaritmic transfromation o the prices\n",
    "# (*) possibly this is not a linear model?"
   ]
  },
  {
   "cell_type": "markdown",
   "metadata": {},
   "source": [
    "## Geographic correlcation?"
   ]
  },
  {
   "cell_type": "code",
   "execution_count": 84,
   "metadata": {
    "tags": []
   },
   "outputs": [],
   "source": [
    "df['block_parcel'] = df.apply(lambda p: f\"{p['block']:.0f}_{p['parcel']:.0f}\", axis=1)"
   ]
  },
  {
   "cell_type": "code",
   "execution_count": 85,
   "metadata": {
    "tags": []
   },
   "outputs": [
    {
     "data": {
      "text/html": [
       "<div>\n",
       "<style scoped>\n",
       "    .dataframe tbody tr th:only-of-type {\n",
       "        vertical-align: middle;\n",
       "    }\n",
       "\n",
       "    .dataframe tbody tr th {\n",
       "        vertical-align: top;\n",
       "    }\n",
       "\n",
       "    .dataframe thead th {\n",
       "        text-align: right;\n",
       "    }\n",
       "</style>\n",
       "<table border=\"1\" class=\"dataframe\">\n",
       "  <thead>\n",
       "    <tr style=\"text-align: right;\">\n",
       "      <th></th>\n",
       "      <th>date</th>\n",
       "      <th>rooms</th>\n",
       "      <th>area_sqm</th>\n",
       "      <th>price</th>\n",
       "      <th>block</th>\n",
       "      <th>parcel</th>\n",
       "      <th>sub_parcel</th>\n",
       "      <th>description_</th>\n",
       "      <th>floor_number</th>\n",
       "      <th>ppm</th>\n",
       "      <th>block_parcel</th>\n",
       "    </tr>\n",
       "  </thead>\n",
       "  <tbody>\n",
       "    <tr>\n",
       "      <th>0</th>\n",
       "      <td>2023-11-30</td>\n",
       "      <td>4.0</td>\n",
       "      <td>88.10</td>\n",
       "      <td>4270000.0</td>\n",
       "      <td>7437.0</td>\n",
       "      <td>10.0</td>\n",
       "      <td>4.0</td>\n",
       "      <td>דירה בבית קומות</td>\n",
       "      <td>3.0</td>\n",
       "      <td>48467.650397</td>\n",
       "      <td>7437_10</td>\n",
       "    </tr>\n",
       "    <tr>\n",
       "      <th>1</th>\n",
       "      <td>2023-11-23</td>\n",
       "      <td>3.0</td>\n",
       "      <td>69.00</td>\n",
       "      <td>4600000.0</td>\n",
       "      <td>7226.0</td>\n",
       "      <td>45.0</td>\n",
       "      <td>6.0</td>\n",
       "      <td>דירה בבית קומות</td>\n",
       "      <td>3.0</td>\n",
       "      <td>66666.666667</td>\n",
       "      <td>7226_45</td>\n",
       "    </tr>\n",
       "    <tr>\n",
       "      <th>2</th>\n",
       "      <td>2023-11-05</td>\n",
       "      <td>2.0</td>\n",
       "      <td>51.00</td>\n",
       "      <td>3650000.0</td>\n",
       "      <td>6918.0</td>\n",
       "      <td>53.0</td>\n",
       "      <td>38.0</td>\n",
       "      <td>דירה בבית קומות</td>\n",
       "      <td>3.0</td>\n",
       "      <td>71568.627451</td>\n",
       "      <td>6918_53</td>\n",
       "    </tr>\n",
       "    <tr>\n",
       "      <th>3</th>\n",
       "      <td>2023-11-02</td>\n",
       "      <td>1.0</td>\n",
       "      <td>30.57</td>\n",
       "      <td>2050000.0</td>\n",
       "      <td>7438.0</td>\n",
       "      <td>13.0</td>\n",
       "      <td>2.0</td>\n",
       "      <td>דירה בבית קומות</td>\n",
       "      <td>0.0</td>\n",
       "      <td>67059.208374</td>\n",
       "      <td>7438_13</td>\n",
       "    </tr>\n",
       "    <tr>\n",
       "      <th>4</th>\n",
       "      <td>2023-10-26</td>\n",
       "      <td>3.0</td>\n",
       "      <td>66.70</td>\n",
       "      <td>5100000.0</td>\n",
       "      <td>7451.0</td>\n",
       "      <td>22.0</td>\n",
       "      <td>6.0</td>\n",
       "      <td>דירה בבית קומות</td>\n",
       "      <td>2.0</td>\n",
       "      <td>76461.769115</td>\n",
       "      <td>7451_22</td>\n",
       "    </tr>\n",
       "  </tbody>\n",
       "</table>\n",
       "</div>"
      ],
      "text/plain": [
       "        date  rooms  area_sqm      price   block  parcel  sub_parcel  \\\n",
       "0 2023-11-30    4.0     88.10  4270000.0  7437.0    10.0         4.0   \n",
       "1 2023-11-23    3.0     69.00  4600000.0  7226.0    45.0         6.0   \n",
       "2 2023-11-05    2.0     51.00  3650000.0  6918.0    53.0        38.0   \n",
       "3 2023-11-02    1.0     30.57  2050000.0  7438.0    13.0         2.0   \n",
       "4 2023-10-26    3.0     66.70  5100000.0  7451.0    22.0         6.0   \n",
       "\n",
       "      description_  floor_number           ppm block_parcel  \n",
       "0  דירה בבית קומות           3.0  48467.650397      7437_10  \n",
       "1  דירה בבית קומות           3.0  66666.666667      7226_45  \n",
       "2  דירה בבית קומות           3.0  71568.627451      6918_53  \n",
       "3  דירה בבית קומות           0.0  67059.208374      7438_13  \n",
       "4  דירה בבית קומות           2.0  76461.769115      7451_22  "
      ]
     },
     "execution_count": 85,
     "metadata": {},
     "output_type": "execute_result"
    }
   ],
   "source": [
    "df.head()"
   ]
  },
  {
   "cell_type": "code",
   "execution_count": 86,
   "metadata": {
    "tags": []
   },
   "outputs": [
    {
     "data": {
      "text/plain": [
       "161"
      ]
     },
     "execution_count": 86,
     "metadata": {},
     "output_type": "execute_result"
    }
   ],
   "source": [
    "df['block_parcel'].nunique()"
   ]
  },
  {
   "cell_type": "code",
   "execution_count": 87,
   "metadata": {
    "tags": []
   },
   "outputs": [
    {
     "data": {
      "text/plain": [
       "block_parcel\n",
       "7226_93     6\n",
       "6933_136    5\n",
       "6909_35     4\n",
       "7460_27     4\n",
       "6911_127    3\n",
       "           ..\n",
       "6941_64     1\n",
       "7453_5      1\n",
       "6919_47     1\n",
       "6911_47     1\n",
       "6911_154    1\n",
       "Name: count, Length: 161, dtype: int64"
      ]
     },
     "execution_count": 87,
     "metadata": {},
     "output_type": "execute_result"
    }
   ],
   "source": [
    "df['block_parcel'].value_counts()"
   ]
  },
  {
   "cell_type": "code",
   "execution_count": 88,
   "metadata": {
    "tags": []
   },
   "outputs": [
    {
     "data": {
      "text/plain": [
       "43"
      ]
     },
     "execution_count": 88,
     "metadata": {},
     "output_type": "execute_result"
    }
   ],
   "source": [
    "df['block'].nunique()"
   ]
  },
  {
   "cell_type": "code",
   "execution_count": 89,
   "metadata": {
    "tags": []
   },
   "outputs": [
    {
     "data": {
      "text/plain": [
       "block\n",
       "6933.0    16\n",
       "7226.0    15\n",
       "6911.0    15\n",
       "6907.0    12\n",
       "6909.0    11\n",
       "6936.0    10\n",
       "7451.0     8\n",
       "6904.0     7\n",
       "7460.0     7\n",
       "7429.0     7\n",
       "6941.0     7\n",
       "6918.0     6\n",
       "7430.0     6\n",
       "6910.0     6\n",
       "7085.0     6\n",
       "6937.0     5\n",
       "7462.0     5\n",
       "6920.0     4\n",
       "7103.0     3\n",
       "7453.0     3\n",
       "6913.0     3\n",
       "7437.0     3\n",
       "7446.0     3\n",
       "7450.0     3\n",
       "6919.0     3\n",
       "7441.0     2\n",
       "7227.0     2\n",
       "7422.0     2\n",
       "7438.0     2\n",
       "7431.0     2\n",
       "7440.0     2\n",
       "6912.0     2\n",
       "7228.0     2\n",
       "7434.0     2\n",
       "7435.0     2\n",
       "6925.0     2\n",
       "7444.0     1\n",
       "7439.0     1\n",
       "7442.0     1\n",
       "7104.0     1\n",
       "7445.0     1\n",
       "7455.0     1\n",
       "7245.0     1\n",
       "Name: count, dtype: int64"
      ]
     },
     "execution_count": 89,
     "metadata": {},
     "output_type": "execute_result"
    }
   ],
   "source": [
    "df['block'].value_counts()"
   ]
  },
  {
   "cell_type": "code",
   "execution_count": 90,
   "metadata": {
    "tags": []
   },
   "outputs": [
    {
     "data": {
      "text/plain": [
       "block\n",
       "6933.0    16\n",
       "7226.0    15\n",
       "6911.0    15\n",
       "6907.0    12\n",
       "6909.0    11\n",
       "6936.0    10\n",
       "7451.0     8\n",
       "6904.0     7\n",
       "7460.0     7\n",
       "7429.0     7\n",
       "6941.0     7\n",
       "6918.0     6\n",
       "7430.0     6\n",
       "6910.0     6\n",
       "7085.0     6\n",
       "Name: count, dtype: int64"
      ]
     },
     "execution_count": 90,
     "metadata": {},
     "output_type": "execute_result"
    }
   ],
   "source": [
    "df['block'].value_counts().head(15)"
   ]
  },
  {
   "cell_type": "code",
   "execution_count": 91,
   "metadata": {
    "tags": []
   },
   "outputs": [
    {
     "data": {
      "text/plain": [
       "Index([6933.0, 7226.0, 6911.0, 6907.0, 6909.0, 6936.0, 7451.0, 6904.0, 7460.0,\n",
       "       7429.0, 6941.0, 6918.0, 7430.0, 6910.0, 7085.0],\n",
       "      dtype='float64', name='block')"
      ]
     },
     "execution_count": 91,
     "metadata": {},
     "output_type": "execute_result"
    }
   ],
   "source": [
    "df['block'].value_counts().head(15).index"
   ]
  },
  {
   "cell_type": "code",
   "execution_count": 92,
   "metadata": {
    "tags": []
   },
   "outputs": [],
   "source": [
    "selected_blocks = df[df['block'].isin([7226.0, 6933.0, 6911.0, 6907.0, 6909.0, 6936.0, 7451.0, 6904.0, 7460.0,\n",
    "       7429.0, 6941.0, 7430.0, 6910.0, 7085.0, 6937.0])].copy()"
   ]
  },
  {
   "cell_type": "code",
   "execution_count": 93,
   "metadata": {
    "tags": []
   },
   "outputs": [
    {
     "data": {
      "text/html": [
       "<div>\n",
       "<style scoped>\n",
       "    .dataframe tbody tr th:only-of-type {\n",
       "        vertical-align: middle;\n",
       "    }\n",
       "\n",
       "    .dataframe tbody tr th {\n",
       "        vertical-align: top;\n",
       "    }\n",
       "\n",
       "    .dataframe thead th {\n",
       "        text-align: right;\n",
       "    }\n",
       "</style>\n",
       "<table border=\"1\" class=\"dataframe\">\n",
       "  <thead>\n",
       "    <tr style=\"text-align: right;\">\n",
       "      <th></th>\n",
       "      <th>date</th>\n",
       "      <th>rooms</th>\n",
       "      <th>area_sqm</th>\n",
       "      <th>price</th>\n",
       "      <th>block</th>\n",
       "      <th>parcel</th>\n",
       "      <th>sub_parcel</th>\n",
       "      <th>description_</th>\n",
       "      <th>floor_number</th>\n",
       "      <th>ppm</th>\n",
       "      <th>block_parcel</th>\n",
       "    </tr>\n",
       "  </thead>\n",
       "  <tbody>\n",
       "    <tr>\n",
       "      <th>1</th>\n",
       "      <td>2023-11-23</td>\n",
       "      <td>3.0</td>\n",
       "      <td>69.00</td>\n",
       "      <td>4600000.0</td>\n",
       "      <td>7226.0</td>\n",
       "      <td>45.0</td>\n",
       "      <td>6.0</td>\n",
       "      <td>דירה בבית קומות</td>\n",
       "      <td>3.0</td>\n",
       "      <td>66666.666667</td>\n",
       "      <td>7226_45</td>\n",
       "    </tr>\n",
       "    <tr>\n",
       "      <th>4</th>\n",
       "      <td>2023-10-26</td>\n",
       "      <td>3.0</td>\n",
       "      <td>66.70</td>\n",
       "      <td>5100000.0</td>\n",
       "      <td>7451.0</td>\n",
       "      <td>22.0</td>\n",
       "      <td>6.0</td>\n",
       "      <td>דירה בבית קומות</td>\n",
       "      <td>2.0</td>\n",
       "      <td>76461.769115</td>\n",
       "      <td>7451_22</td>\n",
       "    </tr>\n",
       "    <tr>\n",
       "      <th>5</th>\n",
       "      <td>2023-10-23</td>\n",
       "      <td>0.0</td>\n",
       "      <td>109.00</td>\n",
       "      <td>3725000.0</td>\n",
       "      <td>6907.0</td>\n",
       "      <td>32.0</td>\n",
       "      <td>23.0</td>\n",
       "      <td>חנות</td>\n",
       "      <td>1.0</td>\n",
       "      <td>34174.311927</td>\n",
       "      <td>6907_32</td>\n",
       "    </tr>\n",
       "    <tr>\n",
       "      <th>6</th>\n",
       "      <td>2023-09-27</td>\n",
       "      <td>3.0</td>\n",
       "      <td>64.50</td>\n",
       "      <td>4075000.0</td>\n",
       "      <td>6907.0</td>\n",
       "      <td>82.0</td>\n",
       "      <td>5.0</td>\n",
       "      <td>דירה בבית קומות</td>\n",
       "      <td>1.0</td>\n",
       "      <td>63178.294574</td>\n",
       "      <td>6907_82</td>\n",
       "    </tr>\n",
       "    <tr>\n",
       "      <th>7</th>\n",
       "      <td>2023-09-27</td>\n",
       "      <td>2.0</td>\n",
       "      <td>44.85</td>\n",
       "      <td>3500000.0</td>\n",
       "      <td>6941.0</td>\n",
       "      <td>123.0</td>\n",
       "      <td>6.0</td>\n",
       "      <td>דירה בבית קומות</td>\n",
       "      <td>2.0</td>\n",
       "      <td>78037.904125</td>\n",
       "      <td>6941_123</td>\n",
       "    </tr>\n",
       "    <tr>\n",
       "      <th>...</th>\n",
       "      <td>...</td>\n",
       "      <td>...</td>\n",
       "      <td>...</td>\n",
       "      <td>...</td>\n",
       "      <td>...</td>\n",
       "      <td>...</td>\n",
       "      <td>...</td>\n",
       "      <td>...</td>\n",
       "      <td>...</td>\n",
       "      <td>...</td>\n",
       "      <td>...</td>\n",
       "    </tr>\n",
       "    <tr>\n",
       "      <th>196</th>\n",
       "      <td>2022-11-27</td>\n",
       "      <td>4.0</td>\n",
       "      <td>91.00</td>\n",
       "      <td>6900000.0</td>\n",
       "      <td>6936.0</td>\n",
       "      <td>63.0</td>\n",
       "      <td>1.0</td>\n",
       "      <td>דירה בבית קומות</td>\n",
       "      <td>1.0</td>\n",
       "      <td>75824.175824</td>\n",
       "      <td>6936_63</td>\n",
       "    </tr>\n",
       "    <tr>\n",
       "      <th>197</th>\n",
       "      <td>2022-11-24</td>\n",
       "      <td>2.0</td>\n",
       "      <td>41.64</td>\n",
       "      <td>2870000.0</td>\n",
       "      <td>6911.0</td>\n",
       "      <td>71.0</td>\n",
       "      <td>7.0</td>\n",
       "      <td>דירה בבית קומות</td>\n",
       "      <td>1.0</td>\n",
       "      <td>68924.111431</td>\n",
       "      <td>6911_71</td>\n",
       "    </tr>\n",
       "    <tr>\n",
       "      <th>200</th>\n",
       "      <td>2022-11-17</td>\n",
       "      <td>3.0</td>\n",
       "      <td>63.00</td>\n",
       "      <td>3610000.0</td>\n",
       "      <td>6910.0</td>\n",
       "      <td>29.0</td>\n",
       "      <td>8.0</td>\n",
       "      <td>דירה בבית קומות</td>\n",
       "      <td>1.0</td>\n",
       "      <td>57301.587302</td>\n",
       "      <td>6910_29</td>\n",
       "    </tr>\n",
       "    <tr>\n",
       "      <th>201</th>\n",
       "      <td>2022-11-17</td>\n",
       "      <td>3.0</td>\n",
       "      <td>56.90</td>\n",
       "      <td>2600000.0</td>\n",
       "      <td>6933.0</td>\n",
       "      <td>21.0</td>\n",
       "      <td>22.0</td>\n",
       "      <td>דירה בבית קומות</td>\n",
       "      <td>1.0</td>\n",
       "      <td>45694.200351</td>\n",
       "      <td>6933_21</td>\n",
       "    </tr>\n",
       "    <tr>\n",
       "      <th>202</th>\n",
       "      <td>2022-11-17</td>\n",
       "      <td>3.5</td>\n",
       "      <td>71.00</td>\n",
       "      <td>5350000.0</td>\n",
       "      <td>6911.0</td>\n",
       "      <td>154.0</td>\n",
       "      <td>5.0</td>\n",
       "      <td>דירה בבית קומות</td>\n",
       "      <td>2.0</td>\n",
       "      <td>75352.112676</td>\n",
       "      <td>6911_154</td>\n",
       "    </tr>\n",
       "  </tbody>\n",
       "</table>\n",
       "<p>138 rows × 11 columns</p>\n",
       "</div>"
      ],
      "text/plain": [
       "          date  rooms  area_sqm      price   block  parcel  sub_parcel  \\\n",
       "1   2023-11-23    3.0     69.00  4600000.0  7226.0    45.0         6.0   \n",
       "4   2023-10-26    3.0     66.70  5100000.0  7451.0    22.0         6.0   \n",
       "5   2023-10-23    0.0    109.00  3725000.0  6907.0    32.0        23.0   \n",
       "6   2023-09-27    3.0     64.50  4075000.0  6907.0    82.0         5.0   \n",
       "7   2023-09-27    2.0     44.85  3500000.0  6941.0   123.0         6.0   \n",
       "..         ...    ...       ...        ...     ...     ...         ...   \n",
       "196 2022-11-27    4.0     91.00  6900000.0  6936.0    63.0         1.0   \n",
       "197 2022-11-24    2.0     41.64  2870000.0  6911.0    71.0         7.0   \n",
       "200 2022-11-17    3.0     63.00  3610000.0  6910.0    29.0         8.0   \n",
       "201 2022-11-17    3.0     56.90  2600000.0  6933.0    21.0        22.0   \n",
       "202 2022-11-17    3.5     71.00  5350000.0  6911.0   154.0         5.0   \n",
       "\n",
       "        description_  floor_number           ppm block_parcel  \n",
       "1    דירה בבית קומות           3.0  66666.666667      7226_45  \n",
       "4    דירה בבית קומות           2.0  76461.769115      7451_22  \n",
       "5               חנות           1.0  34174.311927      6907_32  \n",
       "6    דירה בבית קומות           1.0  63178.294574      6907_82  \n",
       "7    דירה בבית קומות           2.0  78037.904125     6941_123  \n",
       "..               ...           ...           ...          ...  \n",
       "196  דירה בבית קומות           1.0  75824.175824      6936_63  \n",
       "197  דירה בבית קומות           1.0  68924.111431      6911_71  \n",
       "200  דירה בבית קומות           1.0  57301.587302      6910_29  \n",
       "201  דירה בבית קומות           1.0  45694.200351      6933_21  \n",
       "202  דירה בבית קומות           2.0  75352.112676     6911_154  \n",
       "\n",
       "[138 rows x 11 columns]"
      ]
     },
     "execution_count": 93,
     "metadata": {},
     "output_type": "execute_result"
    }
   ],
   "source": [
    "selected_blocks"
   ]
  },
  {
   "cell_type": "markdown",
   "metadata": {},
   "source": [
    "## Exploring the Categorical Fields"
   ]
  },
  {
   "cell_type": "code",
   "execution_count": 94,
   "metadata": {
    "tags": []
   },
   "outputs": [],
   "source": [
    "selected_blocks['block'] = selected_blocks['block'].astype(int).astype(str).astype('category')"
   ]
  },
  {
   "cell_type": "code",
   "execution_count": 95,
   "metadata": {
    "tags": []
   },
   "outputs": [
    {
     "data": {
      "image/png": "[encoded data removed]",
      "text/plain": [
       "<Figure size 1200x600 with 1 Axes>"
      ]
     },
     "metadata": {},
     "output_type": "display_data"
    }
   ],
   "source": [
    "plt.figure(figsize=(12,6))\n",
    "fig = plt.scatter(x=selected_blocks['block'], y=selected_blocks['ppm'])"
   ]
  },
  {
   "cell_type": "code",
   "execution_count": 96,
   "metadata": {
    "tags": []
   },
   "outputs": [
    {
     "data": {
      "text/html": [
       "<html>\n",
       "<head><meta charset=\"utf-8\" /></head>\n",
       "<body>\n",
       "    <div>            <script src=\"https://cdnjs.cloudflare.com/ajax/libs/mathjax/2.7.5/MathJax.js?config=TeX-AMS-MML_SVG\"></script><script type=\"text/javascript\">if (window.MathJax && window.MathJax.Hub && window.MathJax.Hub.Config) {window.MathJax.Hub.Config({SVG: {font: \"STIX-Web\"}});}</script>                <script type=\"text/javascript\">window.PlotlyConfig = {MathJaxConfig: 'local'};</script>\n",
       "        <script src=\"https://cdn.plot.ly/plotly-2.12.1.min.js\"></script>                <div id=\"e16d1b0c-9974-4aeb-991f-09973806e852\" class=\"plotly-graph-div\" style=\"height:600px; width:100%;\"></div>            <script type=\"text/javascript\">                                    window.PLOTLYENV=window.PLOTLYENV || {};                                    if (document.getElementById(\"e16d1b0c-9974-4aeb-991f-09973806e852\")) {                    Plotly.newPlot(                        \"e16d1b0c-9974-4aeb-991f-09973806e852\",                        [{\"alignmentgroup\":\"True\",\"hovertemplate\":\"block=%{x}<br>ppm=%{y}<extra></extra>\",\"legendgroup\":\"\",\"marker\":{\"color\":\"#636efa\"},\"name\":\"\",\"notched\":false,\"offsetgroup\":\"\",\"orientation\":\"v\",\"showlegend\":false,\"x\":[\"7226\",\"7451\",\"6907\",\"6907\",\"6941\",\"7429\",\"6937\",\"7429\",\"6936\",\"6933\",\"7226\",\"6911\",\"6936\",\"6911\",\"6907\",\"6933\",\"6910\",\"7085\",\"6910\",\"7226\",\"6904\",\"6933\",\"6936\",\"7085\",\"7429\",\"7451\",\"6941\",\"7460\",\"7430\",\"7430\",\"6941\",\"6904\",\"7460\",\"6904\",\"6933\",\"6907\",\"7430\",\"6911\",\"6907\",\"6911\",\"7460\",\"7226\",\"7460\",\"6933\",\"7460\",\"6937\",\"7451\",\"6941\",\"6937\",\"6911\",\"6911\",\"7430\",\"6911\",\"6911\",\"6911\",\"6933\",\"6904\",\"7430\",\"6941\",\"6910\",\"6907\",\"6909\",\"6937\",\"6936\",\"6937\",\"7226\",\"7429\",\"6907\",\"6933\",\"7226\",\"7226\",\"6904\",\"6910\",\"7460\",\"6909\",\"6936\",\"7451\",\"7429\",\"6909\",\"6907\",\"7451\",\"6904\",\"7429\",\"7451\",\"7451\",\"6911\",\"7226\",\"6909\",\"6911\",\"7460\",\"6911\",\"7085\",\"6907\",\"7451\",\"6936\",\"6907\",\"6933\",\"6933\",\"7085\",\"7085\",\"7226\",\"6909\",\"6936\",\"6909\",\"6933\",\"6936\",\"6933\",\"6910\",\"7226\",\"6933\",\"7226\",\"7226\",\"7226\",\"7226\",\"7226\",\"6933\",\"6933\",\"6933\",\"7429\",\"6907\",\"6936\",\"6904\",\"6909\",\"6909\",\"6909\",\"6909\",\"6911\",\"6909\",\"7085\",\"7430\",\"6907\",\"6941\",\"6941\",\"6936\",\"6911\",\"6910\",\"6933\",\"6911\"],\"x0\":\" \",\"xaxis\":\"x\",\"y\":[66666.66666666667,76461.76911544228,34174.31192660551,63178.29457364341,78037.90412486064,62288.66346324969,79655.1724137931,52083.333333333336,65750.0,47560.9756097561,39696.969696969696,51282.05128205128,32186.459489456163,64272.72727272727,65400.84388185654,60673.07692307692,42571.30693912303,62500.0,75438.59649122808,69565.21739130435,100495.86776859504,67291.59691998661,70709.81778623878,62068.96551724138,121771.21771217711,77494.30523917996,54619.565217391304,85000.0,75746.09907589758,54758.800521512385,62980.769230769234,62500.0,94787.23404255319,55800.0,50000.0,58394.16058394161,93000.0,68870.52341597796,62345.67901234568,75000.0,87234.0425531915,57852.514655970386,67162.16216216216,64570.94307561597,82978.72340425532,80597.01492537314,75917.33445803459,90000.0,85840.70796460177,26315.78947368421,2684.2105263157896,73778.1954887218,68709.67741935483,37047.77419354839,70833.33333333333,58476.65847665848,58333.333333333336,63629.032258064515,83333.33333333333,40000.0,61304.34782608696,177956.52173913043,67135.76158940398,45714.28571428572,92960.66252587992,158536.58536585365,56774.1935483871,89800.0,86390.5325443787,71794.8717948718,69512.19512195123,83333.33333333333,34941.17647058824,53333.333333333336,52325.58139534884,13090.676883780334,27808.676307007783,67077.87201233617,52054.79452054795,32201.83486238532,61610.55189170427,134715.02590673574,75412.13609259909,27383.20920785376,16349.809885931558,70911.72214182345,52010.5573668685,91269.84126984127,65254.23728813559,23255.81395348837,63620.68965517241,26899.00426742532,69840.0,313158.68714242696,78125.0,30544.117647058825,56250.0,68649.88558352402,37096.77419354839,70658.68263473053,82585.27827648114,81325.60740063027,64090.90909090909,72033.89830508475,18543.352601156068,44186.04651162791,12672.811059907834,78783.15132605305,54819.67213114754,63888.88888888889,72702.93478260869,69752.41666666667,72645.14583333333,72353.38775510204,69129.26229508196,64179.10447761194,66417.9104477612,38077.40324594257,74285.71428571429,77920.73044200042,62187.5,71739.13043478261,70800.65359477124,72777.77777777778,92433.75174337518,92765.38201487492,79117.64705882352,85058.82352941176,60000.0,65625.0,29317.269076305223,71875.0,47142.857142857145,75824.17582417582,68924.11143131604,57301.5873015873,45694.20035149385,75352.11267605633],\"y0\":\" \",\"yaxis\":\"y\",\"type\":\"box\"}],                        {\"template\":{\"data\":{\"barpolar\":[{\"marker\":{\"line\":{\"color\":\"white\",\"width\":0.5},\"pattern\":{\"fillmode\":\"overlay\",\"size\":10,\"solidity\":0.2}},\"type\":\"barpolar\"}],\"bar\":[{\"error_x\":{\"color\":\"#2a3f5f\"},\"error_y\":{\"color\":\"#2a3f5f\"},\"marker\":{\"line\":{\"color\":\"white\",\"width\":0.5},\"pattern\":{\"fillmode\":\"overlay\",\"size\":10,\"solidity\":0.2}},\"type\":\"bar\"}],\"carpet\":[{\"aaxis\":{\"endlinecolor\":\"#2a3f5f\",\"gridcolor\":\"#C8D4E3\",\"linecolor\":\"#C8D4E3\",\"minorgridcolor\":\"#C8D4E3\",\"startlinecolor\":\"#2a3f5f\"},\"baxis\":{\"endlinecolor\":\"#2a3f5f\",\"gridcolor\":\"#C8D4E3\",\"linecolor\":\"#C8D4E3\",\"minorgridcolor\":\"#C8D4E3\",\"startlinecolor\":\"#2a3f5f\"},\"type\":\"carpet\"}],\"choropleth\":[{\"colorbar\":{\"outlinewidth\":0,\"ticks\":\"\"},\"type\":\"choropleth\"}],\"contourcarpet\":[{\"colorbar\":{\"outlinewidth\":0,\"ticks\":\"\"},\"type\":\"contourcarpet\"}],\"contour\":[{\"colorbar\":{\"outlinewidth\":0,\"ticks\":\"\"},\"colorscale\":[[0.0,\"#0d0887\"],[0.1111111111111111,\"#46039f\"],[0.2222222222222222,\"#7201a8\"],[0.3333333333333333,\"#9c179e\"],[0.4444444444444444,\"#bd3786\"],[0.5555555555555556,\"#d8576b\"],[0.6666666666666666,\"#ed7953\"],[0.7777777777777778,\"#fb9f3a\"],[0.8888888888888888,\"#fdca26\"],[1.0,\"#f0f921\"]],\"type\":\"contour\"}],\"heatmapgl\":[{\"colorbar\":{\"outlinewidth\":0,\"ticks\":\"\"},\"colorscale\":[[0.0,\"#0d0887\"],[0.1111111111111111,\"#46039f\"],[0.2222222222222222,\"#7201a8\"],[0.3333333333333333,\"#9c179e\"],[0.4444444444444444,\"#bd3786\"],[0.5555555555555556,\"#d8576b\"],[0.6666666666666666,\"#ed7953\"],[0.7777777777777778,\"#fb9f3a\"],[0.8888888888888888,\"#fdca26\"],[1.0,\"#f0f921\"]],\"type\":\"heatmapgl\"}],\"heatmap\":[{\"colorbar\":{\"outlinewidth\":0,\"ticks\":\"\"},\"colorscale\":[[0.0,\"#0d0887\"],[0.1111111111111111,\"#46039f\"],[0.2222222222222222,\"#7201a8\"],[0.3333333333333333,\"#9c179e\"],[0.4444444444444444,\"#bd3786\"],[0.5555555555555556,\"#d8576b\"],[0.6666666666666666,\"#ed7953\"],[0.7777777777777778,\"#fb9f3a\"],[0.8888888888888888,\"#fdca26\"],[1.0,\"#f0f921\"]],\"type\":\"heatmap\"}],\"histogram2dcontour\":[{\"colorbar\":{\"outlinewidth\":0,\"ticks\":\"\"},\"colorscale\":[[0.0,\"#0d0887\"],[0.1111111111111111,\"#46039f\"],[0.2222222222222222,\"#7201a8\"],[0.3333333333333333,\"#9c179e\"],[0.4444444444444444,\"#bd3786\"],[0.5555555555555556,\"#d8576b\"],[0.6666666666666666,\"#ed7953\"],[0.7777777777777778,\"#fb9f3a\"],[0.8888888888888888,\"#fdca26\"],[1.0,\"#f0f921\"]],\"type\":\"histogram2dcontour\"}],\"histogram2d\":[{\"colorbar\":{\"outlinewidth\":0,\"ticks\":\"\"},\"colorscale\":[[0.0,\"#0d0887\"],[0.1111111111111111,\"#46039f\"],[0.2222222222222222,\"#7201a8\"],[0.3333333333333333,\"#9c179e\"],[0.4444444444444444,\"#bd3786\"],[0.5555555555555556,\"#d8576b\"],[0.6666666666666666,\"#ed7953\"],[0.7777777777777778,\"#fb9f3a\"],[0.8888888888888888,\"#fdca26\"],[1.0,\"#f0f921\"]],\"type\":\"histogram2d\"}],\"histogram\":[{\"marker\":{\"pattern\":{\"fillmode\":\"overlay\",\"size\":10,\"solidity\":0.2}},\"type\":\"histogram\"}],\"mesh3d\":[{\"colorbar\":{\"outlinewidth\":0,\"ticks\":\"\"},\"type\":\"mesh3d\"}],\"parcoords\":[{\"line\":{\"colorbar\":{\"outlinewidth\":0,\"ticks\":\"\"}},\"type\":\"parcoords\"}],\"pie\":[{\"automargin\":true,\"type\":\"pie\"}],\"scatter3d\":[{\"line\":{\"colorbar\":{\"outlinewidth\":0,\"ticks\":\"\"}},\"marker\":{\"colorbar\":{\"outlinewidth\":0,\"ticks\":\"\"}},\"type\":\"scatter3d\"}],\"scattercarpet\":[{\"marker\":{\"colorbar\":{\"outlinewidth\":0,\"ticks\":\"\"}},\"type\":\"scattercarpet\"}],\"scattergeo\":[{\"marker\":{\"colorbar\":{\"outlinewidth\":0,\"ticks\":\"\"}},\"type\":\"scattergeo\"}],\"scattergl\":[{\"marker\":{\"colorbar\":{\"outlinewidth\":0,\"ticks\":\"\"}},\"type\":\"scattergl\"}],\"scattermapbox\":[{\"marker\":{\"colorbar\":{\"outlinewidth\":0,\"ticks\":\"\"}},\"type\":\"scattermapbox\"}],\"scatterpolargl\":[{\"marker\":{\"colorbar\":{\"outlinewidth\":0,\"ticks\":\"\"}},\"type\":\"scatterpolargl\"}],\"scatterpolar\":[{\"marker\":{\"colorbar\":{\"outlinewidth\":0,\"ticks\":\"\"}},\"type\":\"scatterpolar\"}],\"scatter\":[{\"fillpattern\":{\"fillmode\":\"overlay\",\"size\":10,\"solidity\":0.2},\"type\":\"scatter\"}],\"scatterternary\":[{\"marker\":{\"colorbar\":{\"outlinewidth\":0,\"ticks\":\"\"}},\"type\":\"scatterternary\"}],\"surface\":[{\"colorbar\":{\"outlinewidth\":0,\"ticks\":\"\"},\"colorscale\":[[0.0,\"#0d0887\"],[0.1111111111111111,\"#46039f\"],[0.2222222222222222,\"#7201a8\"],[0.3333333333333333,\"#9c179e\"],[0.4444444444444444,\"#bd3786\"],[0.5555555555555556,\"#d8576b\"],[0.6666666666666666,\"#ed7953\"],[0.7777777777777778,\"#fb9f3a\"],[0.8888888888888888,\"#fdca26\"],[1.0,\"#f0f921\"]],\"type\":\"surface\"}],\"table\":[{\"cells\":{\"fill\":{\"color\":\"#EBF0F8\"},\"line\":{\"color\":\"white\"}},\"header\":{\"fill\":{\"color\":\"#C8D4E3\"},\"line\":{\"color\":\"white\"}},\"type\":\"table\"}]},\"layout\":{\"annotationdefaults\":{\"arrowcolor\":\"#2a3f5f\",\"arrowhead\":0,\"arrowwidth\":1},\"autotypenumbers\":\"strict\",\"coloraxis\":{\"colorbar\":{\"outlinewidth\":0,\"ticks\":\"\"}},\"colorscale\":{\"diverging\":[[0,\"#8e0152\"],[0.1,\"#c51b7d\"],[0.2,\"#de77ae\"],[0.3,\"#f1b6da\"],[0.4,\"#fde0ef\"],[0.5,\"#f7f7f7\"],[0.6,\"#e6f5d0\"],[0.7,\"#b8e186\"],[0.8,\"#7fbc41\"],[0.9,\"#4d9221\"],[1,\"#276419\"]],\"sequential\":[[0.0,\"#0d0887\"],[0.1111111111111111,\"#46039f\"],[0.2222222222222222,\"#7201a8\"],[0.3333333333333333,\"#9c179e\"],[0.4444444444444444,\"#bd3786\"],[0.5555555555555556,\"#d8576b\"],[0.6666666666666666,\"#ed7953\"],[0.7777777777777778,\"#fb9f3a\"],[0.8888888888888888,\"#fdca26\"],[1.0,\"#f0f921\"]],\"sequentialminus\":[[0.0,\"#0d0887\"],[0.1111111111111111,\"#46039f\"],[0.2222222222222222,\"#7201a8\"],[0.3333333333333333,\"#9c179e\"],[0.4444444444444444,\"#bd3786\"],[0.5555555555555556,\"#d8576b\"],[0.6666666666666666,\"#ed7953\"],[0.7777777777777778,\"#fb9f3a\"],[0.8888888888888888,\"#fdca26\"],[1.0,\"#f0f921\"]]},\"colorway\":[\"#636efa\",\"#EF553B\",\"#00cc96\",\"#ab63fa\",\"#FFA15A\",\"#19d3f3\",\"#FF6692\",\"#B6E880\",\"#FF97FF\",\"#FECB52\"],\"font\":{\"color\":\"#2a3f5f\"},\"geo\":{\"bgcolor\":\"white\",\"lakecolor\":\"white\",\"landcolor\":\"white\",\"showlakes\":true,\"showland\":true,\"subunitcolor\":\"#C8D4E3\"},\"hoverlabel\":{\"align\":\"left\"},\"hovermode\":\"closest\",\"mapbox\":{\"style\":\"light\"},\"paper_bgcolor\":\"white\",\"plot_bgcolor\":\"white\",\"polar\":{\"angularaxis\":{\"gridcolor\":\"#EBF0F8\",\"linecolor\":\"#EBF0F8\",\"ticks\":\"\"},\"bgcolor\":\"white\",\"radialaxis\":{\"gridcolor\":\"#EBF0F8\",\"linecolor\":\"#EBF0F8\",\"ticks\":\"\"}},\"scene\":{\"xaxis\":{\"backgroundcolor\":\"white\",\"gridcolor\":\"#DFE8F3\",\"gridwidth\":2,\"linecolor\":\"#EBF0F8\",\"showbackground\":true,\"ticks\":\"\",\"zerolinecolor\":\"#EBF0F8\"},\"yaxis\":{\"backgroundcolor\":\"white\",\"gridcolor\":\"#DFE8F3\",\"gridwidth\":2,\"linecolor\":\"#EBF0F8\",\"showbackground\":true,\"ticks\":\"\",\"zerolinecolor\":\"#EBF0F8\"},\"zaxis\":{\"backgroundcolor\":\"white\",\"gridcolor\":\"#DFE8F3\",\"gridwidth\":2,\"linecolor\":\"#EBF0F8\",\"showbackground\":true,\"ticks\":\"\",\"zerolinecolor\":\"#EBF0F8\"}},\"shapedefaults\":{\"line\":{\"color\":\"#2a3f5f\"}},\"ternary\":{\"aaxis\":{\"gridcolor\":\"#DFE8F3\",\"linecolor\":\"#A2B1C6\",\"ticks\":\"\"},\"baxis\":{\"gridcolor\":\"#DFE8F3\",\"linecolor\":\"#A2B1C6\",\"ticks\":\"\"},\"bgcolor\":\"white\",\"caxis\":{\"gridcolor\":\"#DFE8F3\",\"linecolor\":\"#A2B1C6\",\"ticks\":\"\"}},\"title\":{\"x\":0.05},\"xaxis\":{\"automargin\":true,\"gridcolor\":\"#EBF0F8\",\"linecolor\":\"#EBF0F8\",\"ticks\":\"\",\"title\":{\"standoff\":15},\"zerolinecolor\":\"#EBF0F8\",\"zerolinewidth\":2},\"yaxis\":{\"automargin\":true,\"gridcolor\":\"#EBF0F8\",\"linecolor\":\"#EBF0F8\",\"ticks\":\"\",\"title\":{\"standoff\":15},\"zerolinecolor\":\"#EBF0F8\",\"zerolinewidth\":2}}},\"xaxis\":{\"anchor\":\"y\",\"domain\":[0.0,1.0],\"title\":{\"text\":\"block\"}},\"yaxis\":{\"anchor\":\"x\",\"domain\":[0.0,1.0],\"title\":{\"text\":\"ppm\"}},\"legend\":{\"tracegroupgap\":0},\"margin\":{\"t\":60},\"boxmode\":\"group\",\"height\":600},                        {\"responsive\": true}                    ).then(function(){\n",
       "                            \n",
       "var gd = document.getElementById('e16d1b0c-9974-4aeb-991f-09973806e852');\n",
       "var x = new MutationObserver(function (mutations, observer) {{\n",
       "        var display = window.getComputedStyle(gd).display;\n",
       "        if (!display || display === 'none') {{\n",
       "            console.log([gd, 'removed!']);\n",
       "            Plotly.purge(gd);\n",
       "            observer.disconnect();\n",
       "        }}\n",
       "}});\n",
       "\n",
       "// Listen for the removal of the full notebook cells\n",
       "var notebookContainer = gd.closest('#notebook-container');\n",
       "if (notebookContainer) {{\n",
       "    x.observe(notebookContainer, {childList: true});\n",
       "}}\n",
       "\n",
       "// Listen for the clearing of the current output cell\n",
       "var outputEl = gd.closest('.output');\n",
       "if (outputEl) {{\n",
       "    x.observe(outputEl, {childList: true});\n",
       "}}\n",
       "\n",
       "                        })                };                            </script>        </div>\n",
       "</body>\n",
       "</html>"
      ]
     },
     "metadata": {},
     "output_type": "display_data"
    }
   ],
   "source": [
    "fig = px.box(selected_blocks, x='block', y='ppm', template='plotly_white', height=600)\n",
    "fig.show(renderer='colab')\n"
   ]
  },
  {
   "cell_type": "code",
   "execution_count": 99,
   "metadata": {
    "tags": []
   },
   "outputs": [
    {
     "data": {
      "text/html": [
       "<div>\n",
       "<style scoped>\n",
       "    .dataframe tbody tr th:only-of-type {\n",
       "        vertical-align: middle;\n",
       "    }\n",
       "\n",
       "    .dataframe tbody tr th {\n",
       "        vertical-align: top;\n",
       "    }\n",
       "\n",
       "    .dataframe thead th {\n",
       "        text-align: right;\n",
       "    }\n",
       "</style>\n",
       "<table border=\"1\" class=\"dataframe\">\n",
       "  <thead>\n",
       "    <tr style=\"text-align: right;\">\n",
       "      <th></th>\n",
       "      <th>date</th>\n",
       "      <th>rooms</th>\n",
       "      <th>area_sqm</th>\n",
       "      <th>price</th>\n",
       "      <th>block</th>\n",
       "      <th>parcel</th>\n",
       "      <th>sub_parcel</th>\n",
       "      <th>description_</th>\n",
       "      <th>floor_number</th>\n",
       "      <th>ppm</th>\n",
       "      <th>block_parcel</th>\n",
       "    </tr>\n",
       "  </thead>\n",
       "  <tbody>\n",
       "    <tr>\n",
       "      <th>0</th>\n",
       "      <td>2023-11-30</td>\n",
       "      <td>4.0</td>\n",
       "      <td>88.10</td>\n",
       "      <td>4270000.0</td>\n",
       "      <td>7437.0</td>\n",
       "      <td>10.0</td>\n",
       "      <td>4.0</td>\n",
       "      <td>דירה בבית קומות</td>\n",
       "      <td>3.0</td>\n",
       "      <td>48467.650397</td>\n",
       "      <td>7437_10</td>\n",
       "    </tr>\n",
       "    <tr>\n",
       "      <th>1</th>\n",
       "      <td>2023-11-23</td>\n",
       "      <td>3.0</td>\n",
       "      <td>69.00</td>\n",
       "      <td>4600000.0</td>\n",
       "      <td>7226.0</td>\n",
       "      <td>45.0</td>\n",
       "      <td>6.0</td>\n",
       "      <td>דירה בבית קומות</td>\n",
       "      <td>3.0</td>\n",
       "      <td>66666.666667</td>\n",
       "      <td>7226_45</td>\n",
       "    </tr>\n",
       "    <tr>\n",
       "      <th>2</th>\n",
       "      <td>2023-11-05</td>\n",
       "      <td>2.0</td>\n",
       "      <td>51.00</td>\n",
       "      <td>3650000.0</td>\n",
       "      <td>6918.0</td>\n",
       "      <td>53.0</td>\n",
       "      <td>38.0</td>\n",
       "      <td>דירה בבית קומות</td>\n",
       "      <td>3.0</td>\n",
       "      <td>71568.627451</td>\n",
       "      <td>6918_53</td>\n",
       "    </tr>\n",
       "    <tr>\n",
       "      <th>3</th>\n",
       "      <td>2023-11-02</td>\n",
       "      <td>1.0</td>\n",
       "      <td>30.57</td>\n",
       "      <td>2050000.0</td>\n",
       "      <td>7438.0</td>\n",
       "      <td>13.0</td>\n",
       "      <td>2.0</td>\n",
       "      <td>דירה בבית קומות</td>\n",
       "      <td>0.0</td>\n",
       "      <td>67059.208374</td>\n",
       "      <td>7438_13</td>\n",
       "    </tr>\n",
       "    <tr>\n",
       "      <th>4</th>\n",
       "      <td>2023-10-26</td>\n",
       "      <td>3.0</td>\n",
       "      <td>66.70</td>\n",
       "      <td>5100000.0</td>\n",
       "      <td>7451.0</td>\n",
       "      <td>22.0</td>\n",
       "      <td>6.0</td>\n",
       "      <td>דירה בבית קומות</td>\n",
       "      <td>2.0</td>\n",
       "      <td>76461.769115</td>\n",
       "      <td>7451_22</td>\n",
       "    </tr>\n",
       "    <tr>\n",
       "      <th>...</th>\n",
       "      <td>...</td>\n",
       "      <td>...</td>\n",
       "      <td>...</td>\n",
       "      <td>...</td>\n",
       "      <td>...</td>\n",
       "      <td>...</td>\n",
       "      <td>...</td>\n",
       "      <td>...</td>\n",
       "      <td>...</td>\n",
       "      <td>...</td>\n",
       "      <td>...</td>\n",
       "    </tr>\n",
       "    <tr>\n",
       "      <th>198</th>\n",
       "      <td>2022-11-21</td>\n",
       "      <td>4.0</td>\n",
       "      <td>119.00</td>\n",
       "      <td>10250000.0</td>\n",
       "      <td>7438.0</td>\n",
       "      <td>1.0</td>\n",
       "      <td>9.0</td>\n",
       "      <td>דירה בבית קומות</td>\n",
       "      <td>3.0</td>\n",
       "      <td>86134.453782</td>\n",
       "      <td>7438_1</td>\n",
       "    </tr>\n",
       "    <tr>\n",
       "      <th>199</th>\n",
       "      <td>2022-11-20</td>\n",
       "      <td>3.0</td>\n",
       "      <td>64.00</td>\n",
       "      <td>4388000.0</td>\n",
       "      <td>7462.0</td>\n",
       "      <td>9.0</td>\n",
       "      <td>10.0</td>\n",
       "      <td>דירה בבית קומות</td>\n",
       "      <td>1.0</td>\n",
       "      <td>68562.500000</td>\n",
       "      <td>7462_9</td>\n",
       "    </tr>\n",
       "    <tr>\n",
       "      <th>200</th>\n",
       "      <td>2022-11-17</td>\n",
       "      <td>3.0</td>\n",
       "      <td>63.00</td>\n",
       "      <td>3610000.0</td>\n",
       "      <td>6910.0</td>\n",
       "      <td>29.0</td>\n",
       "      <td>8.0</td>\n",
       "      <td>דירה בבית קומות</td>\n",
       "      <td>1.0</td>\n",
       "      <td>57301.587302</td>\n",
       "      <td>6910_29</td>\n",
       "    </tr>\n",
       "    <tr>\n",
       "      <th>201</th>\n",
       "      <td>2022-11-17</td>\n",
       "      <td>3.0</td>\n",
       "      <td>56.90</td>\n",
       "      <td>2600000.0</td>\n",
       "      <td>6933.0</td>\n",
       "      <td>21.0</td>\n",
       "      <td>22.0</td>\n",
       "      <td>דירה בבית קומות</td>\n",
       "      <td>1.0</td>\n",
       "      <td>45694.200351</td>\n",
       "      <td>6933_21</td>\n",
       "    </tr>\n",
       "    <tr>\n",
       "      <th>202</th>\n",
       "      <td>2022-11-17</td>\n",
       "      <td>3.5</td>\n",
       "      <td>71.00</td>\n",
       "      <td>5350000.0</td>\n",
       "      <td>6911.0</td>\n",
       "      <td>154.0</td>\n",
       "      <td>5.0</td>\n",
       "      <td>דירה בבית קומות</td>\n",
       "      <td>2.0</td>\n",
       "      <td>75352.112676</td>\n",
       "      <td>6911_154</td>\n",
       "    </tr>\n",
       "  </tbody>\n",
       "</table>\n",
       "<p>203 rows × 11 columns</p>\n",
       "</div>"
      ],
      "text/plain": [
       "          date  rooms  area_sqm       price   block  parcel  sub_parcel  \\\n",
       "0   2023-11-30    4.0     88.10   4270000.0  7437.0    10.0         4.0   \n",
       "1   2023-11-23    3.0     69.00   4600000.0  7226.0    45.0         6.0   \n",
       "2   2023-11-05    2.0     51.00   3650000.0  6918.0    53.0        38.0   \n",
       "3   2023-11-02    1.0     30.57   2050000.0  7438.0    13.0         2.0   \n",
       "4   2023-10-26    3.0     66.70   5100000.0  7451.0    22.0         6.0   \n",
       "..         ...    ...       ...         ...     ...     ...         ...   \n",
       "198 2022-11-21    4.0    119.00  10250000.0  7438.0     1.0         9.0   \n",
       "199 2022-11-20    3.0     64.00   4388000.0  7462.0     9.0        10.0   \n",
       "200 2022-11-17    3.0     63.00   3610000.0  6910.0    29.0         8.0   \n",
       "201 2022-11-17    3.0     56.90   2600000.0  6933.0    21.0        22.0   \n",
       "202 2022-11-17    3.5     71.00   5350000.0  6911.0   154.0         5.0   \n",
       "\n",
       "        description_  floor_number           ppm block_parcel  \n",
       "0    דירה בבית קומות           3.0  48467.650397      7437_10  \n",
       "1    דירה בבית קומות           3.0  66666.666667      7226_45  \n",
       "2    דירה בבית קומות           3.0  71568.627451      6918_53  \n",
       "3    דירה בבית קומות           0.0  67059.208374      7438_13  \n",
       "4    דירה בבית קומות           2.0  76461.769115      7451_22  \n",
       "..               ...           ...           ...          ...  \n",
       "198  דירה בבית קומות           3.0  86134.453782       7438_1  \n",
       "199  דירה בבית קומות           1.0  68562.500000       7462_9  \n",
       "200  דירה בבית קומות           1.0  57301.587302      6910_29  \n",
       "201  דירה בבית קומות           1.0  45694.200351      6933_21  \n",
       "202  דירה בבית קומות           2.0  75352.112676     6911_154  \n",
       "\n",
       "[203 rows x 11 columns]"
      ]
     },
     "execution_count": 99,
     "metadata": {},
     "output_type": "execute_result"
    }
   ],
   "source": [
    "df"
   ]
  },
  {
   "cell_type": "code",
   "execution_count": 100,
   "metadata": {
    "tags": []
   },
   "outputs": [
    {
     "data": {
      "text/html": [
       "<div>\n",
       "<style scoped>\n",
       "    .dataframe tbody tr th:only-of-type {\n",
       "        vertical-align: middle;\n",
       "    }\n",
       "\n",
       "    .dataframe tbody tr th {\n",
       "        vertical-align: top;\n",
       "    }\n",
       "\n",
       "    .dataframe thead th {\n",
       "        text-align: right;\n",
       "    }\n",
       "</style>\n",
       "<table border=\"1\" class=\"dataframe\">\n",
       "  <thead>\n",
       "    <tr style=\"text-align: right;\">\n",
       "      <th></th>\n",
       "      <th>count</th>\n",
       "    </tr>\n",
       "    <tr>\n",
       "      <th>description_</th>\n",
       "      <th></th>\n",
       "    </tr>\n",
       "  </thead>\n",
       "  <tbody>\n",
       "    <tr>\n",
       "      <th>דירה בבית קומות</th>\n",
       "      <td>173</td>\n",
       "    </tr>\n",
       "    <tr>\n",
       "      <th>משרד</th>\n",
       "      <td>10</td>\n",
       "    </tr>\n",
       "    <tr>\n",
       "      <th>Unknown</th>\n",
       "      <td>9</td>\n",
       "    </tr>\n",
       "    <tr>\n",
       "      <th>חנות</th>\n",
       "      <td>8</td>\n",
       "    </tr>\n",
       "    <tr>\n",
       "      <th>דירת גג</th>\n",
       "      <td>2</td>\n",
       "    </tr>\n",
       "    <tr>\n",
       "      <th>דירת גן</th>\n",
       "      <td>1</td>\n",
       "    </tr>\n",
       "  </tbody>\n",
       "</table>\n",
       "</div>"
      ],
      "text/plain": [
       "                 count\n",
       "description_          \n",
       "דירה בבית קומות    173\n",
       "משרד                10\n",
       "Unknown              9\n",
       "חנות                 8\n",
       "דירת גג              2\n",
       "דירת גן              1"
      ]
     },
     "execution_count": 100,
     "metadata": {},
     "output_type": "execute_result"
    }
   ],
   "source": [
    "df['description_'].value_counts().to_frame()"
   ]
  },
  {
   "cell_type": "code",
   "execution_count": null,
   "metadata": {},
   "outputs": [],
   "source": []
  },
  {
   "cell_type": "code",
   "execution_count": 101,
   "metadata": {
    "tags": []
   },
   "outputs": [
    {
     "data": {
      "text/html": [
       "<div>\n",
       "<style scoped>\n",
       "    .dataframe tbody tr th:only-of-type {\n",
       "        vertical-align: middle;\n",
       "    }\n",
       "\n",
       "    .dataframe tbody tr th {\n",
       "        vertical-align: top;\n",
       "    }\n",
       "\n",
       "    .dataframe thead th {\n",
       "        text-align: right;\n",
       "    }\n",
       "</style>\n",
       "<table border=\"1\" class=\"dataframe\">\n",
       "  <thead>\n",
       "    <tr style=\"text-align: right;\">\n",
       "      <th></th>\n",
       "      <th></th>\n",
       "      <th>date</th>\n",
       "      <th>price</th>\n",
       "      <th>ppm</th>\n",
       "    </tr>\n",
       "    <tr>\n",
       "      <th>description_</th>\n",
       "      <th>rooms</th>\n",
       "      <th></th>\n",
       "      <th></th>\n",
       "      <th></th>\n",
       "    </tr>\n",
       "  </thead>\n",
       "  <tbody>\n",
       "    <tr>\n",
       "      <th rowspan=\"4\" valign=\"top\">Unknown</th>\n",
       "      <th>2.0</th>\n",
       "      <td>4</td>\n",
       "      <td>3.431184e+06</td>\n",
       "      <td>71863.471259</td>\n",
       "    </tr>\n",
       "    <tr>\n",
       "      <th>3.0</th>\n",
       "      <td>2</td>\n",
       "      <td>3.256924e+06</td>\n",
       "      <td>53088.518244</td>\n",
       "    </tr>\n",
       "    <tr>\n",
       "      <th>5.0</th>\n",
       "      <td>2</td>\n",
       "      <td>1.783184e+07</td>\n",
       "      <td>115724.904682</td>\n",
       "    </tr>\n",
       "    <tr>\n",
       "      <th>6.0</th>\n",
       "      <td>1</td>\n",
       "      <td>2.600000e+07</td>\n",
       "      <td>134715.025907</td>\n",
       "    </tr>\n",
       "    <tr>\n",
       "      <th rowspan=\"8\" valign=\"top\">דירה בבית קומות</th>\n",
       "      <th>1.0</th>\n",
       "      <td>10</td>\n",
       "      <td>3.128700e+06</td>\n",
       "      <td>71706.877575</td>\n",
       "    </tr>\n",
       "    <tr>\n",
       "      <th>1.5</th>\n",
       "      <td>3</td>\n",
       "      <td>1.536667e+06</td>\n",
       "      <td>49532.679149</td>\n",
       "    </tr>\n",
       "    <tr>\n",
       "      <th>2.0</th>\n",
       "      <td>49</td>\n",
       "      <td>3.445714e+06</td>\n",
       "      <td>70114.755201</td>\n",
       "    </tr>\n",
       "    <tr>\n",
       "      <th>2.5</th>\n",
       "      <td>3</td>\n",
       "      <td>4.003333e+06</td>\n",
       "      <td>71204.675216</td>\n",
       "    </tr>\n",
       "    <tr>\n",
       "      <th>3.0</th>\n",
       "      <td>69</td>\n",
       "      <td>4.543232e+06</td>\n",
       "      <td>NaN</td>\n",
       "    </tr>\n",
       "    <tr>\n",
       "      <th>3.5</th>\n",
       "      <td>2</td>\n",
       "      <td>5.975000e+06</td>\n",
       "      <td>98561.665194</td>\n",
       "    </tr>\n",
       "    <tr>\n",
       "      <th>4.0</th>\n",
       "      <td>31</td>\n",
       "      <td>6.245839e+06</td>\n",
       "      <td>68285.900767</td>\n",
       "    </tr>\n",
       "    <tr>\n",
       "      <th>5.0</th>\n",
       "      <td>6</td>\n",
       "      <td>7.634000e+06</td>\n",
       "      <td>63670.618506</td>\n",
       "    </tr>\n",
       "    <tr>\n",
       "      <th>דירת גג</th>\n",
       "      <th>3.0</th>\n",
       "      <td>2</td>\n",
       "      <td>7.700000e+06</td>\n",
       "      <td>182352.539448</td>\n",
       "    </tr>\n",
       "    <tr>\n",
       "      <th>דירת גן</th>\n",
       "      <th>3.0</th>\n",
       "      <td>1</td>\n",
       "      <td>5.442000e+06</td>\n",
       "      <td>68886.075949</td>\n",
       "    </tr>\n",
       "    <tr>\n",
       "      <th rowspan=\"2\" valign=\"top\">חנות</th>\n",
       "      <th>0.0</th>\n",
       "      <td>7</td>\n",
       "      <td>2.349429e+06</td>\n",
       "      <td>35485.655650</td>\n",
       "    </tr>\n",
       "    <tr>\n",
       "      <th>1.0</th>\n",
       "      <td>1</td>\n",
       "      <td>9.750000e+05</td>\n",
       "      <td>18750.000000</td>\n",
       "    </tr>\n",
       "    <tr>\n",
       "      <th>משרד</th>\n",
       "      <th>0.0</th>\n",
       "      <td>10</td>\n",
       "      <td>4.216700e+06</td>\n",
       "      <td>31955.890596</td>\n",
       "    </tr>\n",
       "  </tbody>\n",
       "</table>\n",
       "</div>"
      ],
      "text/plain": [
       "                       date         price            ppm\n",
       "description_    rooms                                   \n",
       "Unknown         2.0       4  3.431184e+06   71863.471259\n",
       "                3.0       2  3.256924e+06   53088.518244\n",
       "                5.0       2  1.783184e+07  115724.904682\n",
       "                6.0       1  2.600000e+07  134715.025907\n",
       "דירה בבית קומות 1.0      10  3.128700e+06   71706.877575\n",
       "                1.5       3  1.536667e+06   49532.679149\n",
       "                2.0      49  3.445714e+06   70114.755201\n",
       "                2.5       3  4.003333e+06   71204.675216\n",
       "                3.0      69  4.543232e+06            NaN\n",
       "                3.5       2  5.975000e+06   98561.665194\n",
       "                4.0      31  6.245839e+06   68285.900767\n",
       "                5.0       6  7.634000e+06   63670.618506\n",
       "דירת גג         3.0       2  7.700000e+06  182352.539448\n",
       "דירת גן         3.0       1  5.442000e+06   68886.075949\n",
       "חנות            0.0       7  2.349429e+06   35485.655650\n",
       "                1.0       1  9.750000e+05   18750.000000\n",
       "משרד            0.0      10  4.216700e+06   31955.890596"
      ]
     },
     "execution_count": 101,
     "metadata": {},
     "output_type": "execute_result"
    }
   ],
   "source": [
    "df.groupby(['description_','rooms']).agg({'date':'count', 'price':'mean', 'ppm':'mean'})"
   ]
  },
  {
   "cell_type": "code",
   "execution_count": 102,
   "metadata": {
    "tags": []
   },
   "outputs": [],
   "source": [
    "pd.set_option('display.float_format', '{:.0f}'.format)"
   ]
  },
  {
   "cell_type": "code",
   "execution_count": 103,
   "metadata": {
    "tags": []
   },
   "outputs": [],
   "source": [
    "group_by_description = df.groupby(['description_','rooms']).agg({'date':'count', 'price':'mean', 'ppm':'mean'})"
   ]
  },
  {
   "cell_type": "code",
   "execution_count": 104,
   "metadata": {
    "tags": []
   },
   "outputs": [],
   "source": [
    "group_by_description.reset_index(inplace=True)"
   ]
  },
  {
   "cell_type": "code",
   "execution_count": 105,
   "metadata": {
    "tags": []
   },
   "outputs": [
    {
     "data": {
      "text/html": [
       "<div>\n",
       "<style scoped>\n",
       "    .dataframe tbody tr th:only-of-type {\n",
       "        vertical-align: middle;\n",
       "    }\n",
       "\n",
       "    .dataframe tbody tr th {\n",
       "        vertical-align: top;\n",
       "    }\n",
       "\n",
       "    .dataframe thead th {\n",
       "        text-align: right;\n",
       "    }\n",
       "</style>\n",
       "<table border=\"1\" class=\"dataframe\">\n",
       "  <thead>\n",
       "    <tr style=\"text-align: right;\">\n",
       "      <th></th>\n",
       "      <th>description_</th>\n",
       "      <th>rooms</th>\n",
       "      <th>date</th>\n",
       "      <th>price</th>\n",
       "      <th>ppm</th>\n",
       "    </tr>\n",
       "  </thead>\n",
       "  <tbody>\n",
       "    <tr>\n",
       "      <th>0</th>\n",
       "      <td>Unknown</td>\n",
       "      <td>2</td>\n",
       "      <td>4</td>\n",
       "      <td>3431184</td>\n",
       "      <td>71863</td>\n",
       "    </tr>\n",
       "    <tr>\n",
       "      <th>1</th>\n",
       "      <td>Unknown</td>\n",
       "      <td>3</td>\n",
       "      <td>2</td>\n",
       "      <td>3256924</td>\n",
       "      <td>53089</td>\n",
       "    </tr>\n",
       "    <tr>\n",
       "      <th>2</th>\n",
       "      <td>Unknown</td>\n",
       "      <td>5</td>\n",
       "      <td>2</td>\n",
       "      <td>17831844</td>\n",
       "      <td>115725</td>\n",
       "    </tr>\n",
       "    <tr>\n",
       "      <th>3</th>\n",
       "      <td>Unknown</td>\n",
       "      <td>6</td>\n",
       "      <td>1</td>\n",
       "      <td>26000000</td>\n",
       "      <td>134715</td>\n",
       "    </tr>\n",
       "    <tr>\n",
       "      <th>4</th>\n",
       "      <td>דירה בבית קומות</td>\n",
       "      <td>1</td>\n",
       "      <td>10</td>\n",
       "      <td>3128700</td>\n",
       "      <td>71707</td>\n",
       "    </tr>\n",
       "    <tr>\n",
       "      <th>5</th>\n",
       "      <td>דירה בבית קומות</td>\n",
       "      <td>2</td>\n",
       "      <td>3</td>\n",
       "      <td>1536667</td>\n",
       "      <td>49533</td>\n",
       "    </tr>\n",
       "    <tr>\n",
       "      <th>6</th>\n",
       "      <td>דירה בבית קומות</td>\n",
       "      <td>2</td>\n",
       "      <td>49</td>\n",
       "      <td>3445714</td>\n",
       "      <td>70115</td>\n",
       "    </tr>\n",
       "    <tr>\n",
       "      <th>7</th>\n",
       "      <td>דירה בבית קומות</td>\n",
       "      <td>2</td>\n",
       "      <td>3</td>\n",
       "      <td>4003333</td>\n",
       "      <td>71205</td>\n",
       "    </tr>\n",
       "    <tr>\n",
       "      <th>8</th>\n",
       "      <td>דירה בבית קומות</td>\n",
       "      <td>3</td>\n",
       "      <td>69</td>\n",
       "      <td>4543232</td>\n",
       "      <td>NaN</td>\n",
       "    </tr>\n",
       "    <tr>\n",
       "      <th>9</th>\n",
       "      <td>דירה בבית קומות</td>\n",
       "      <td>4</td>\n",
       "      <td>2</td>\n",
       "      <td>5975000</td>\n",
       "      <td>98562</td>\n",
       "    </tr>\n",
       "    <tr>\n",
       "      <th>10</th>\n",
       "      <td>דירה בבית קומות</td>\n",
       "      <td>4</td>\n",
       "      <td>31</td>\n",
       "      <td>6245839</td>\n",
       "      <td>68286</td>\n",
       "    </tr>\n",
       "    <tr>\n",
       "      <th>11</th>\n",
       "      <td>דירה בבית קומות</td>\n",
       "      <td>5</td>\n",
       "      <td>6</td>\n",
       "      <td>7634000</td>\n",
       "      <td>63671</td>\n",
       "    </tr>\n",
       "    <tr>\n",
       "      <th>12</th>\n",
       "      <td>דירת גג</td>\n",
       "      <td>3</td>\n",
       "      <td>2</td>\n",
       "      <td>7700000</td>\n",
       "      <td>182353</td>\n",
       "    </tr>\n",
       "    <tr>\n",
       "      <th>13</th>\n",
       "      <td>דירת גן</td>\n",
       "      <td>3</td>\n",
       "      <td>1</td>\n",
       "      <td>5442000</td>\n",
       "      <td>68886</td>\n",
       "    </tr>\n",
       "    <tr>\n",
       "      <th>14</th>\n",
       "      <td>חנות</td>\n",
       "      <td>0</td>\n",
       "      <td>7</td>\n",
       "      <td>2349429</td>\n",
       "      <td>35486</td>\n",
       "    </tr>\n",
       "    <tr>\n",
       "      <th>15</th>\n",
       "      <td>חנות</td>\n",
       "      <td>1</td>\n",
       "      <td>1</td>\n",
       "      <td>975000</td>\n",
       "      <td>18750</td>\n",
       "    </tr>\n",
       "    <tr>\n",
       "      <th>16</th>\n",
       "      <td>משרד</td>\n",
       "      <td>0</td>\n",
       "      <td>10</td>\n",
       "      <td>4216700</td>\n",
       "      <td>31956</td>\n",
       "    </tr>\n",
       "  </tbody>\n",
       "</table>\n",
       "</div>"
      ],
      "text/plain": [
       "       description_  rooms  date    price    ppm\n",
       "0           Unknown      2     4  3431184  71863\n",
       "1           Unknown      3     2  3256924  53089\n",
       "2           Unknown      5     2 17831844 115725\n",
       "3           Unknown      6     1 26000000 134715\n",
       "4   דירה בבית קומות      1    10  3128700  71707\n",
       "5   דירה בבית קומות      2     3  1536667  49533\n",
       "6   דירה בבית קומות      2    49  3445714  70115\n",
       "7   דירה בבית קומות      2     3  4003333  71205\n",
       "8   דירה בבית קומות      3    69  4543232    NaN\n",
       "9   דירה בבית קומות      4     2  5975000  98562\n",
       "10  דירה בבית קומות      4    31  6245839  68286\n",
       "11  דירה בבית קומות      5     6  7634000  63671\n",
       "12          דירת גג      3     2  7700000 182353\n",
       "13          דירת גן      3     1  5442000  68886\n",
       "14             חנות      0     7  2349429  35486\n",
       "15             חנות      1     1   975000  18750\n",
       "16             משרד      0    10  4216700  31956"
      ]
     },
     "execution_count": 105,
     "metadata": {},
     "output_type": "execute_result"
    }
   ],
   "source": [
    "group_by_description"
   ]
  },
  {
   "cell_type": "code",
   "execution_count": 106,
   "metadata": {
    "tags": []
   },
   "outputs": [],
   "source": [
    "group_by_description.rename(columns={'date':'count'}, inplace=True)"
   ]
  },
  {
   "cell_type": "code",
   "execution_count": 107,
   "metadata": {
    "tags": []
   },
   "outputs": [
    {
     "data": {
      "text/html": [
       "<html>\n",
       "<head><meta charset=\"utf-8\" /></head>\n",
       "<body>\n",
       "    <div>            <script src=\"https://cdnjs.cloudflare.com/ajax/libs/mathjax/2.7.5/MathJax.js?config=TeX-AMS-MML_SVG\"></script><script type=\"text/javascript\">if (window.MathJax && window.MathJax.Hub && window.MathJax.Hub.Config) {window.MathJax.Hub.Config({SVG: {font: \"STIX-Web\"}});}</script>                <script type=\"text/javascript\">window.PlotlyConfig = {MathJaxConfig: 'local'};</script>\n",
       "        <script src=\"https://cdn.plot.ly/plotly-2.12.1.min.js\"></script>                <div id=\"208f8f48-6802-4719-999f-d98be8938a05\" class=\"plotly-graph-div\" style=\"height:525px; width:1200px;\"></div>            <script type=\"text/javascript\">                                    window.PLOTLYENV=window.PLOTLYENV || {};                                    if (document.getElementById(\"208f8f48-6802-4719-999f-d98be8938a05\")) {                    Plotly.newPlot(                        \"208f8f48-6802-4719-999f-d98be8938a05\",                        [{\"alignmentgroup\":\"True\",\"hovertemplate\":\"description_=Unknown<br>rooms=%{x}<br>price=%{y}<extra></extra>\",\"legendgroup\":\"Unknown\",\"marker\":{\"color\":\"#636efa\",\"pattern\":{\"shape\":\"\"}},\"name\":\"Unknown\",\"offsetgroup\":\"Unknown\",\"orientation\":\"v\",\"showlegend\":true,\"textposition\":\"auto\",\"x\":[2.0,3.0,5.0,6.0],\"xaxis\":\"x\",\"y\":[3431183.5,3256923.5,17831844.0,26000000.0],\"yaxis\":\"y\",\"type\":\"bar\"},{\"alignmentgroup\":\"True\",\"hovertemplate\":\"description_=\\u05d3\\u05d9\\u05e8\\u05d4 \\u05d1\\u05d1\\u05d9\\u05ea \\u05e7\\u05d5\\u05de\\u05d5\\u05ea<br>rooms=%{x}<br>price=%{y}<extra></extra>\",\"legendgroup\":\"\\u05d3\\u05d9\\u05e8\\u05d4 \\u05d1\\u05d1\\u05d9\\u05ea \\u05e7\\u05d5\\u05de\\u05d5\\u05ea\",\"marker\":{\"color\":\"#EF553B\",\"pattern\":{\"shape\":\"\"}},\"name\":\"\\u05d3\\u05d9\\u05e8\\u05d4 \\u05d1\\u05d1\\u05d9\\u05ea \\u05e7\\u05d5\\u05de\\u05d5\\u05ea\",\"offsetgroup\":\"\\u05d3\\u05d9\\u05e8\\u05d4 \\u05d1\\u05d1\\u05d9\\u05ea \\u05e7\\u05d5\\u05de\\u05d5\\u05ea\",\"orientation\":\"v\",\"showlegend\":true,\"textposition\":\"auto\",\"x\":[1.0,1.5,2.0,2.5,3.0,3.5,4.0,5.0],\"xaxis\":\"x\",\"y\":[3128700.0,1536666.6666666667,3445714.285714286,4003333.3333333335,4543231.884057971,5975000.0,6245838.70967742,7634000.0],\"yaxis\":\"y\",\"type\":\"bar\"},{\"alignmentgroup\":\"True\",\"hovertemplate\":\"description_=\\u05d3\\u05d9\\u05e8\\u05ea \\u05d2\\u05d2<br>rooms=%{x}<br>price=%{y}<extra></extra>\",\"legendgroup\":\"\\u05d3\\u05d9\\u05e8\\u05ea \\u05d2\\u05d2\",\"marker\":{\"color\":\"#00cc96\",\"pattern\":{\"shape\":\"\"}},\"name\":\"\\u05d3\\u05d9\\u05e8\\u05ea \\u05d2\\u05d2\",\"offsetgroup\":\"\\u05d3\\u05d9\\u05e8\\u05ea \\u05d2\\u05d2\",\"orientation\":\"v\",\"showlegend\":true,\"textposition\":\"auto\",\"x\":[3.0],\"xaxis\":\"x\",\"y\":[7700000.0],\"yaxis\":\"y\",\"type\":\"bar\"},{\"alignmentgroup\":\"True\",\"hovertemplate\":\"description_=\\u05d3\\u05d9\\u05e8\\u05ea \\u05d2\\u05df<br>rooms=%{x}<br>price=%{y}<extra></extra>\",\"legendgroup\":\"\\u05d3\\u05d9\\u05e8\\u05ea \\u05d2\\u05df\",\"marker\":{\"color\":\"#ab63fa\",\"pattern\":{\"shape\":\"\"}},\"name\":\"\\u05d3\\u05d9\\u05e8\\u05ea \\u05d2\\u05df\",\"offsetgroup\":\"\\u05d3\\u05d9\\u05e8\\u05ea \\u05d2\\u05df\",\"orientation\":\"v\",\"showlegend\":true,\"textposition\":\"auto\",\"x\":[3.0],\"xaxis\":\"x\",\"y\":[5442000.0],\"yaxis\":\"y\",\"type\":\"bar\"},{\"alignmentgroup\":\"True\",\"hovertemplate\":\"description_=\\u05d7\\u05e0\\u05d5\\u05ea<br>rooms=%{x}<br>price=%{y}<extra></extra>\",\"legendgroup\":\"\\u05d7\\u05e0\\u05d5\\u05ea\",\"marker\":{\"color\":\"#FFA15A\",\"pattern\":{\"shape\":\"\"}},\"name\":\"\\u05d7\\u05e0\\u05d5\\u05ea\",\"offsetgroup\":\"\\u05d7\\u05e0\\u05d5\\u05ea\",\"orientation\":\"v\",\"showlegend\":true,\"textposition\":\"auto\",\"x\":[0.0,1.0],\"xaxis\":\"x\",\"y\":[2349428.5714285714,975000.0],\"yaxis\":\"y\",\"type\":\"bar\"},{\"alignmentgroup\":\"True\",\"hovertemplate\":\"description_=\\u05de\\u05e9\\u05e8\\u05d3<br>rooms=%{x}<br>price=%{y}<extra></extra>\",\"legendgroup\":\"\\u05de\\u05e9\\u05e8\\u05d3\",\"marker\":{\"color\":\"#19d3f3\",\"pattern\":{\"shape\":\"\"}},\"name\":\"\\u05de\\u05e9\\u05e8\\u05d3\",\"offsetgroup\":\"\\u05de\\u05e9\\u05e8\\u05d3\",\"orientation\":\"v\",\"showlegend\":true,\"textposition\":\"auto\",\"x\":[0.0],\"xaxis\":\"x\",\"y\":[4216700.0],\"yaxis\":\"y\",\"type\":\"bar\"}],                        {\"template\":{\"data\":{\"barpolar\":[{\"marker\":{\"line\":{\"color\":\"white\",\"width\":0.5},\"pattern\":{\"fillmode\":\"overlay\",\"size\":10,\"solidity\":0.2}},\"type\":\"barpolar\"}],\"bar\":[{\"error_x\":{\"color\":\"#2a3f5f\"},\"error_y\":{\"color\":\"#2a3f5f\"},\"marker\":{\"line\":{\"color\":\"white\",\"width\":0.5},\"pattern\":{\"fillmode\":\"overlay\",\"size\":10,\"solidity\":0.2}},\"type\":\"bar\"}],\"carpet\":[{\"aaxis\":{\"endlinecolor\":\"#2a3f5f\",\"gridcolor\":\"#C8D4E3\",\"linecolor\":\"#C8D4E3\",\"minorgridcolor\":\"#C8D4E3\",\"startlinecolor\":\"#2a3f5f\"},\"baxis\":{\"endlinecolor\":\"#2a3f5f\",\"gridcolor\":\"#C8D4E3\",\"linecolor\":\"#C8D4E3\",\"minorgridcolor\":\"#C8D4E3\",\"startlinecolor\":\"#2a3f5f\"},\"type\":\"carpet\"}],\"choropleth\":[{\"colorbar\":{\"outlinewidth\":0,\"ticks\":\"\"},\"type\":\"choropleth\"}],\"contourcarpet\":[{\"colorbar\":{\"outlinewidth\":0,\"ticks\":\"\"},\"type\":\"contourcarpet\"}],\"contour\":[{\"colorbar\":{\"outlinewidth\":0,\"ticks\":\"\"},\"colorscale\":[[0.0,\"#0d0887\"],[0.1111111111111111,\"#46039f\"],[0.2222222222222222,\"#7201a8\"],[0.3333333333333333,\"#9c179e\"],[0.4444444444444444,\"#bd3786\"],[0.5555555555555556,\"#d8576b\"],[0.6666666666666666,\"#ed7953\"],[0.7777777777777778,\"#fb9f3a\"],[0.8888888888888888,\"#fdca26\"],[1.0,\"#f0f921\"]],\"type\":\"contour\"}],\"heatmapgl\":[{\"colorbar\":{\"outlinewidth\":0,\"ticks\":\"\"},\"colorscale\":[[0.0,\"#0d0887\"],[0.1111111111111111,\"#46039f\"],[0.2222222222222222,\"#7201a8\"],[0.3333333333333333,\"#9c179e\"],[0.4444444444444444,\"#bd3786\"],[0.5555555555555556,\"#d8576b\"],[0.6666666666666666,\"#ed7953\"],[0.7777777777777778,\"#fb9f3a\"],[0.8888888888888888,\"#fdca26\"],[1.0,\"#f0f921\"]],\"type\":\"heatmapgl\"}],\"heatmap\":[{\"colorbar\":{\"outlinewidth\":0,\"ticks\":\"\"},\"colorscale\":[[0.0,\"#0d0887\"],[0.1111111111111111,\"#46039f\"],[0.2222222222222222,\"#7201a8\"],[0.3333333333333333,\"#9c179e\"],[0.4444444444444444,\"#bd3786\"],[0.5555555555555556,\"#d8576b\"],[0.6666666666666666,\"#ed7953\"],[0.7777777777777778,\"#fb9f3a\"],[0.8888888888888888,\"#fdca26\"],[1.0,\"#f0f921\"]],\"type\":\"heatmap\"}],\"histogram2dcontour\":[{\"colorbar\":{\"outlinewidth\":0,\"ticks\":\"\"},\"colorscale\":[[0.0,\"#0d0887\"],[0.1111111111111111,\"#46039f\"],[0.2222222222222222,\"#7201a8\"],[0.3333333333333333,\"#9c179e\"],[0.4444444444444444,\"#bd3786\"],[0.5555555555555556,\"#d8576b\"],[0.6666666666666666,\"#ed7953\"],[0.7777777777777778,\"#fb9f3a\"],[0.8888888888888888,\"#fdca26\"],[1.0,\"#f0f921\"]],\"type\":\"histogram2dcontour\"}],\"histogram2d\":[{\"colorbar\":{\"outlinewidth\":0,\"ticks\":\"\"},\"colorscale\":[[0.0,\"#0d0887\"],[0.1111111111111111,\"#46039f\"],[0.2222222222222222,\"#7201a8\"],[0.3333333333333333,\"#9c179e\"],[0.4444444444444444,\"#bd3786\"],[0.5555555555555556,\"#d8576b\"],[0.6666666666666666,\"#ed7953\"],[0.7777777777777778,\"#fb9f3a\"],[0.8888888888888888,\"#fdca26\"],[1.0,\"#f0f921\"]],\"type\":\"histogram2d\"}],\"histogram\":[{\"marker\":{\"pattern\":{\"fillmode\":\"overlay\",\"size\":10,\"solidity\":0.2}},\"type\":\"histogram\"}],\"mesh3d\":[{\"colorbar\":{\"outlinewidth\":0,\"ticks\":\"\"},\"type\":\"mesh3d\"}],\"parcoords\":[{\"line\":{\"colorbar\":{\"outlinewidth\":0,\"ticks\":\"\"}},\"type\":\"parcoords\"}],\"pie\":[{\"automargin\":true,\"type\":\"pie\"}],\"scatter3d\":[{\"line\":{\"colorbar\":{\"outlinewidth\":0,\"ticks\":\"\"}},\"marker\":{\"colorbar\":{\"outlinewidth\":0,\"ticks\":\"\"}},\"type\":\"scatter3d\"}],\"scattercarpet\":[{\"marker\":{\"colorbar\":{\"outlinewidth\":0,\"ticks\":\"\"}},\"type\":\"scattercarpet\"}],\"scattergeo\":[{\"marker\":{\"colorbar\":{\"outlinewidth\":0,\"ticks\":\"\"}},\"type\":\"scattergeo\"}],\"scattergl\":[{\"marker\":{\"colorbar\":{\"outlinewidth\":0,\"ticks\":\"\"}},\"type\":\"scattergl\"}],\"scattermapbox\":[{\"marker\":{\"colorbar\":{\"outlinewidth\":0,\"ticks\":\"\"}},\"type\":\"scattermapbox\"}],\"scatterpolargl\":[{\"marker\":{\"colorbar\":{\"outlinewidth\":0,\"ticks\":\"\"}},\"type\":\"scatterpolargl\"}],\"scatterpolar\":[{\"marker\":{\"colorbar\":{\"outlinewidth\":0,\"ticks\":\"\"}},\"type\":\"scatterpolar\"}],\"scatter\":[{\"fillpattern\":{\"fillmode\":\"overlay\",\"size\":10,\"solidity\":0.2},\"type\":\"scatter\"}],\"scatterternary\":[{\"marker\":{\"colorbar\":{\"outlinewidth\":0,\"ticks\":\"\"}},\"type\":\"scatterternary\"}],\"surface\":[{\"colorbar\":{\"outlinewidth\":0,\"ticks\":\"\"},\"colorscale\":[[0.0,\"#0d0887\"],[0.1111111111111111,\"#46039f\"],[0.2222222222222222,\"#7201a8\"],[0.3333333333333333,\"#9c179e\"],[0.4444444444444444,\"#bd3786\"],[0.5555555555555556,\"#d8576b\"],[0.6666666666666666,\"#ed7953\"],[0.7777777777777778,\"#fb9f3a\"],[0.8888888888888888,\"#fdca26\"],[1.0,\"#f0f921\"]],\"type\":\"surface\"}],\"table\":[{\"cells\":{\"fill\":{\"color\":\"#EBF0F8\"},\"line\":{\"color\":\"white\"}},\"header\":{\"fill\":{\"color\":\"#C8D4E3\"},\"line\":{\"color\":\"white\"}},\"type\":\"table\"}]},\"layout\":{\"annotationdefaults\":{\"arrowcolor\":\"#2a3f5f\",\"arrowhead\":0,\"arrowwidth\":1},\"autotypenumbers\":\"strict\",\"coloraxis\":{\"colorbar\":{\"outlinewidth\":0,\"ticks\":\"\"}},\"colorscale\":{\"diverging\":[[0,\"#8e0152\"],[0.1,\"#c51b7d\"],[0.2,\"#de77ae\"],[0.3,\"#f1b6da\"],[0.4,\"#fde0ef\"],[0.5,\"#f7f7f7\"],[0.6,\"#e6f5d0\"],[0.7,\"#b8e186\"],[0.8,\"#7fbc41\"],[0.9,\"#4d9221\"],[1,\"#276419\"]],\"sequential\":[[0.0,\"#0d0887\"],[0.1111111111111111,\"#46039f\"],[0.2222222222222222,\"#7201a8\"],[0.3333333333333333,\"#9c179e\"],[0.4444444444444444,\"#bd3786\"],[0.5555555555555556,\"#d8576b\"],[0.6666666666666666,\"#ed7953\"],[0.7777777777777778,\"#fb9f3a\"],[0.8888888888888888,\"#fdca26\"],[1.0,\"#f0f921\"]],\"sequentialminus\":[[0.0,\"#0d0887\"],[0.1111111111111111,\"#46039f\"],[0.2222222222222222,\"#7201a8\"],[0.3333333333333333,\"#9c179e\"],[0.4444444444444444,\"#bd3786\"],[0.5555555555555556,\"#d8576b\"],[0.6666666666666666,\"#ed7953\"],[0.7777777777777778,\"#fb9f3a\"],[0.8888888888888888,\"#fdca26\"],[1.0,\"#f0f921\"]]},\"colorway\":[\"#636efa\",\"#EF553B\",\"#00cc96\",\"#ab63fa\",\"#FFA15A\",\"#19d3f3\",\"#FF6692\",\"#B6E880\",\"#FF97FF\",\"#FECB52\"],\"font\":{\"color\":\"#2a3f5f\"},\"geo\":{\"bgcolor\":\"white\",\"lakecolor\":\"white\",\"landcolor\":\"white\",\"showlakes\":true,\"showland\":true,\"subunitcolor\":\"#C8D4E3\"},\"hoverlabel\":{\"align\":\"left\"},\"hovermode\":\"closest\",\"mapbox\":{\"style\":\"light\"},\"paper_bgcolor\":\"white\",\"plot_bgcolor\":\"white\",\"polar\":{\"angularaxis\":{\"gridcolor\":\"#EBF0F8\",\"linecolor\":\"#EBF0F8\",\"ticks\":\"\"},\"bgcolor\":\"white\",\"radialaxis\":{\"gridcolor\":\"#EBF0F8\",\"linecolor\":\"#EBF0F8\",\"ticks\":\"\"}},\"scene\":{\"xaxis\":{\"backgroundcolor\":\"white\",\"gridcolor\":\"#DFE8F3\",\"gridwidth\":2,\"linecolor\":\"#EBF0F8\",\"showbackground\":true,\"ticks\":\"\",\"zerolinecolor\":\"#EBF0F8\"},\"yaxis\":{\"backgroundcolor\":\"white\",\"gridcolor\":\"#DFE8F3\",\"gridwidth\":2,\"linecolor\":\"#EBF0F8\",\"showbackground\":true,\"ticks\":\"\",\"zerolinecolor\":\"#EBF0F8\"},\"zaxis\":{\"backgroundcolor\":\"white\",\"gridcolor\":\"#DFE8F3\",\"gridwidth\":2,\"linecolor\":\"#EBF0F8\",\"showbackground\":true,\"ticks\":\"\",\"zerolinecolor\":\"#EBF0F8\"}},\"shapedefaults\":{\"line\":{\"color\":\"#2a3f5f\"}},\"ternary\":{\"aaxis\":{\"gridcolor\":\"#DFE8F3\",\"linecolor\":\"#A2B1C6\",\"ticks\":\"\"},\"baxis\":{\"gridcolor\":\"#DFE8F3\",\"linecolor\":\"#A2B1C6\",\"ticks\":\"\"},\"bgcolor\":\"white\",\"caxis\":{\"gridcolor\":\"#DFE8F3\",\"linecolor\":\"#A2B1C6\",\"ticks\":\"\"}},\"title\":{\"x\":0.05},\"xaxis\":{\"automargin\":true,\"gridcolor\":\"#EBF0F8\",\"linecolor\":\"#EBF0F8\",\"ticks\":\"\",\"title\":{\"standoff\":15},\"zerolinecolor\":\"#EBF0F8\",\"zerolinewidth\":2},\"yaxis\":{\"automargin\":true,\"gridcolor\":\"#EBF0F8\",\"linecolor\":\"#EBF0F8\",\"ticks\":\"\",\"title\":{\"standoff\":15},\"zerolinecolor\":\"#EBF0F8\",\"zerolinewidth\":2}}},\"xaxis\":{\"anchor\":\"y\",\"domain\":[0.0,1.0],\"title\":{\"text\":\"rooms\"}},\"yaxis\":{\"anchor\":\"x\",\"domain\":[0.0,1.0],\"title\":{\"text\":\"price\"}},\"legend\":{\"title\":{\"text\":\"description_\"},\"tracegroupgap\":0},\"margin\":{\"t\":60},\"barmode\":\"group\",\"width\":1200,\"bargap\":0.1},                        {\"responsive\": true}                    ).then(function(){\n",
       "                            \n",
       "var gd = document.getElementById('208f8f48-6802-4719-999f-d98be8938a05');\n",
       "var x = new MutationObserver(function (mutations, observer) {{\n",
       "        var display = window.getComputedStyle(gd).display;\n",
       "        if (!display || display === 'none') {{\n",
       "            console.log([gd, 'removed!']);\n",
       "            Plotly.purge(gd);\n",
       "            observer.disconnect();\n",
       "        }}\n",
       "}});\n",
       "\n",
       "// Listen for the removal of the full notebook cells\n",
       "var notebookContainer = gd.closest('#notebook-container');\n",
       "if (notebookContainer) {{\n",
       "    x.observe(notebookContainer, {childList: true});\n",
       "}}\n",
       "\n",
       "// Listen for the clearing of the current output cell\n",
       "var outputEl = gd.closest('.output');\n",
       "if (outputEl) {{\n",
       "    x.observe(outputEl, {childList: true});\n",
       "}}\n",
       "\n",
       "                        })                };                            </script>        </div>\n",
       "</body>\n",
       "</html>"
      ]
     },
     "metadata": {},
     "output_type": "display_data"
    }
   ],
   "source": [
    "fig = px.bar(group_by_description, x='rooms', y='price', color='description_', barmode='group', template='plotly_white', width=1200)\n",
    "fig.update_layout(bargap = 0.1 )\n",
    "fig.show(renderer='colab')\n"
   ]
  },
  {
   "cell_type": "code",
   "execution_count": 108,
   "metadata": {
    "tags": []
   },
   "outputs": [
    {
     "data": {
      "text/html": [
       "<html>\n",
       "<head><meta charset=\"utf-8\" /></head>\n",
       "<body>\n",
       "    <div>            <script src=\"https://cdnjs.cloudflare.com/ajax/libs/mathjax/2.7.5/MathJax.js?config=TeX-AMS-MML_SVG\"></script><script type=\"text/javascript\">if (window.MathJax && window.MathJax.Hub && window.MathJax.Hub.Config) {window.MathJax.Hub.Config({SVG: {font: \"STIX-Web\"}});}</script>                <script type=\"text/javascript\">window.PlotlyConfig = {MathJaxConfig: 'local'};</script>\n",
       "        <script src=\"https://cdn.plot.ly/plotly-2.12.1.min.js\"></script>                <div id=\"e21e0912-2c99-4052-a637-8666ef9380c5\" class=\"plotly-graph-div\" style=\"height:525px; width:1000px;\"></div>            <script type=\"text/javascript\">                                    window.PLOTLYENV=window.PLOTLYENV || {};                                    if (document.getElementById(\"e21e0912-2c99-4052-a637-8666ef9380c5\")) {                    Plotly.newPlot(                        \"e21e0912-2c99-4052-a637-8666ef9380c5\",                        [{\"alignmentgroup\":\"True\",\"hovertemplate\":\"description_=Unknown<br>rooms=%{x}<br>ppm=%{y}<extra></extra>\",\"legendgroup\":\"Unknown\",\"marker\":{\"color\":\"#636efa\",\"pattern\":{\"shape\":\"\"}},\"name\":\"Unknown\",\"offsetgroup\":\"Unknown\",\"orientation\":\"v\",\"showlegend\":true,\"textposition\":\"auto\",\"x\":[2.0,3.0,5.0,6.0],\"xaxis\":\"x\",\"y\":[71863.47125942768,53088.51824431517,115724.90468227424,134715.02590673574],\"yaxis\":\"y\",\"type\":\"bar\"},{\"alignmentgroup\":\"True\",\"hovertemplate\":\"description_=\\u05d3\\u05d9\\u05e8\\u05d4 \\u05d1\\u05d1\\u05d9\\u05ea \\u05e7\\u05d5\\u05de\\u05d5\\u05ea<br>rooms=%{x}<br>ppm=%{y}<extra></extra>\",\"legendgroup\":\"\\u05d3\\u05d9\\u05e8\\u05d4 \\u05d1\\u05d1\\u05d9\\u05ea \\u05e7\\u05d5\\u05de\\u05d5\\u05ea\",\"marker\":{\"color\":\"#EF553B\",\"pattern\":{\"shape\":\"\"}},\"name\":\"\\u05d3\\u05d9\\u05e8\\u05d4 \\u05d1\\u05d1\\u05d9\\u05ea \\u05e7\\u05d5\\u05de\\u05d5\\u05ea\",\"offsetgroup\":\"\\u05d3\\u05d9\\u05e8\\u05d4 \\u05d1\\u05d1\\u05d9\\u05ea \\u05e7\\u05d5\\u05de\\u05d5\\u05ea\",\"orientation\":\"v\",\"showlegend\":true,\"textposition\":\"auto\",\"x\":[1.0,1.5,2.0,2.5,3.0,3.5,4.0,5.0],\"xaxis\":\"x\",\"y\":[71706.8775745219,49532.67914904502,70114.7552012734,71204.67521597465,null,98561.66519411672,68285.90076697968,63670.618506099214],\"yaxis\":\"y\",\"type\":\"bar\"},{\"alignmentgroup\":\"True\",\"hovertemplate\":\"description_=\\u05d3\\u05d9\\u05e8\\u05ea \\u05d2\\u05d2<br>rooms=%{x}<br>ppm=%{y}<extra></extra>\",\"legendgroup\":\"\\u05d3\\u05d9\\u05e8\\u05ea \\u05d2\\u05d2\",\"marker\":{\"color\":\"#00cc96\",\"pattern\":{\"shape\":\"\"}},\"name\":\"\\u05d3\\u05d9\\u05e8\\u05ea \\u05d2\\u05d2\",\"offsetgroup\":\"\\u05d3\\u05d9\\u05e8\\u05ea \\u05d2\\u05d2\",\"orientation\":\"v\",\"showlegend\":true,\"textposition\":\"auto\",\"x\":[3.0],\"xaxis\":\"x\",\"y\":[182352.53944750215],\"yaxis\":\"y\",\"type\":\"bar\"},{\"alignmentgroup\":\"True\",\"hovertemplate\":\"description_=\\u05d3\\u05d9\\u05e8\\u05ea \\u05d2\\u05df<br>rooms=%{x}<br>ppm=%{y}<extra></extra>\",\"legendgroup\":\"\\u05d3\\u05d9\\u05e8\\u05ea \\u05d2\\u05df\",\"marker\":{\"color\":\"#ab63fa\",\"pattern\":{\"shape\":\"\"}},\"name\":\"\\u05d3\\u05d9\\u05e8\\u05ea \\u05d2\\u05df\",\"offsetgroup\":\"\\u05d3\\u05d9\\u05e8\\u05ea \\u05d2\\u05df\",\"orientation\":\"v\",\"showlegend\":true,\"textposition\":\"auto\",\"x\":[3.0],\"xaxis\":\"x\",\"y\":[68886.07594936709],\"yaxis\":\"y\",\"type\":\"bar\"},{\"alignmentgroup\":\"True\",\"hovertemplate\":\"description_=\\u05d7\\u05e0\\u05d5\\u05ea<br>rooms=%{x}<br>ppm=%{y}<extra></extra>\",\"legendgroup\":\"\\u05d7\\u05e0\\u05d5\\u05ea\",\"marker\":{\"color\":\"#FFA15A\",\"pattern\":{\"shape\":\"\"}},\"name\":\"\\u05d7\\u05e0\\u05d5\\u05ea\",\"offsetgroup\":\"\\u05d7\\u05e0\\u05d5\\u05ea\",\"orientation\":\"v\",\"showlegend\":true,\"textposition\":\"auto\",\"x\":[0.0,1.0],\"xaxis\":\"x\",\"y\":[35485.65565033308,18750.0],\"yaxis\":\"y\",\"type\":\"bar\"},{\"alignmentgroup\":\"True\",\"hovertemplate\":\"description_=\\u05de\\u05e9\\u05e8\\u05d3<br>rooms=%{x}<br>ppm=%{y}<extra></extra>\",\"legendgroup\":\"\\u05de\\u05e9\\u05e8\\u05d3\",\"marker\":{\"color\":\"#19d3f3\",\"pattern\":{\"shape\":\"\"}},\"name\":\"\\u05de\\u05e9\\u05e8\\u05d3\",\"offsetgroup\":\"\\u05de\\u05e9\\u05e8\\u05d3\",\"orientation\":\"v\",\"showlegend\":true,\"textposition\":\"auto\",\"x\":[0.0],\"xaxis\":\"x\",\"y\":[31955.89059550022],\"yaxis\":\"y\",\"type\":\"bar\"}],                        {\"template\":{\"data\":{\"barpolar\":[{\"marker\":{\"line\":{\"color\":\"white\",\"width\":0.5},\"pattern\":{\"fillmode\":\"overlay\",\"size\":10,\"solidity\":0.2}},\"type\":\"barpolar\"}],\"bar\":[{\"error_x\":{\"color\":\"#2a3f5f\"},\"error_y\":{\"color\":\"#2a3f5f\"},\"marker\":{\"line\":{\"color\":\"white\",\"width\":0.5},\"pattern\":{\"fillmode\":\"overlay\",\"size\":10,\"solidity\":0.2}},\"type\":\"bar\"}],\"carpet\":[{\"aaxis\":{\"endlinecolor\":\"#2a3f5f\",\"gridcolor\":\"#C8D4E3\",\"linecolor\":\"#C8D4E3\",\"minorgridcolor\":\"#C8D4E3\",\"startlinecolor\":\"#2a3f5f\"},\"baxis\":{\"endlinecolor\":\"#2a3f5f\",\"gridcolor\":\"#C8D4E3\",\"linecolor\":\"#C8D4E3\",\"minorgridcolor\":\"#C8D4E3\",\"startlinecolor\":\"#2a3f5f\"},\"type\":\"carpet\"}],\"choropleth\":[{\"colorbar\":{\"outlinewidth\":0,\"ticks\":\"\"},\"type\":\"choropleth\"}],\"contourcarpet\":[{\"colorbar\":{\"outlinewidth\":0,\"ticks\":\"\"},\"type\":\"contourcarpet\"}],\"contour\":[{\"colorbar\":{\"outlinewidth\":0,\"ticks\":\"\"},\"colorscale\":[[0.0,\"#0d0887\"],[0.1111111111111111,\"#46039f\"],[0.2222222222222222,\"#7201a8\"],[0.3333333333333333,\"#9c179e\"],[0.4444444444444444,\"#bd3786\"],[0.5555555555555556,\"#d8576b\"],[0.6666666666666666,\"#ed7953\"],[0.7777777777777778,\"#fb9f3a\"],[0.8888888888888888,\"#fdca26\"],[1.0,\"#f0f921\"]],\"type\":\"contour\"}],\"heatmapgl\":[{\"colorbar\":{\"outlinewidth\":0,\"ticks\":\"\"},\"colorscale\":[[0.0,\"#0d0887\"],[0.1111111111111111,\"#46039f\"],[0.2222222222222222,\"#7201a8\"],[0.3333333333333333,\"#9c179e\"],[0.4444444444444444,\"#bd3786\"],[0.5555555555555556,\"#d8576b\"],[0.6666666666666666,\"#ed7953\"],[0.7777777777777778,\"#fb9f3a\"],[0.8888888888888888,\"#fdca26\"],[1.0,\"#f0f921\"]],\"type\":\"heatmapgl\"}],\"heatmap\":[{\"colorbar\":{\"outlinewidth\":0,\"ticks\":\"\"},\"colorscale\":[[0.0,\"#0d0887\"],[0.1111111111111111,\"#46039f\"],[0.2222222222222222,\"#7201a8\"],[0.3333333333333333,\"#9c179e\"],[0.4444444444444444,\"#bd3786\"],[0.5555555555555556,\"#d8576b\"],[0.6666666666666666,\"#ed7953\"],[0.7777777777777778,\"#fb9f3a\"],[0.8888888888888888,\"#fdca26\"],[1.0,\"#f0f921\"]],\"type\":\"heatmap\"}],\"histogram2dcontour\":[{\"colorbar\":{\"outlinewidth\":0,\"ticks\":\"\"},\"colorscale\":[[0.0,\"#0d0887\"],[0.1111111111111111,\"#46039f\"],[0.2222222222222222,\"#7201a8\"],[0.3333333333333333,\"#9c179e\"],[0.4444444444444444,\"#bd3786\"],[0.5555555555555556,\"#d8576b\"],[0.6666666666666666,\"#ed7953\"],[0.7777777777777778,\"#fb9f3a\"],[0.8888888888888888,\"#fdca26\"],[1.0,\"#f0f921\"]],\"type\":\"histogram2dcontour\"}],\"histogram2d\":[{\"colorbar\":{\"outlinewidth\":0,\"ticks\":\"\"},\"colorscale\":[[0.0,\"#0d0887\"],[0.1111111111111111,\"#46039f\"],[0.2222222222222222,\"#7201a8\"],[0.3333333333333333,\"#9c179e\"],[0.4444444444444444,\"#bd3786\"],[0.5555555555555556,\"#d8576b\"],[0.6666666666666666,\"#ed7953\"],[0.7777777777777778,\"#fb9f3a\"],[0.8888888888888888,\"#fdca26\"],[1.0,\"#f0f921\"]],\"type\":\"histogram2d\"}],\"histogram\":[{\"marker\":{\"pattern\":{\"fillmode\":\"overlay\",\"size\":10,\"solidity\":0.2}},\"type\":\"histogram\"}],\"mesh3d\":[{\"colorbar\":{\"outlinewidth\":0,\"ticks\":\"\"},\"type\":\"mesh3d\"}],\"parcoords\":[{\"line\":{\"colorbar\":{\"outlinewidth\":0,\"ticks\":\"\"}},\"type\":\"parcoords\"}],\"pie\":[{\"automargin\":true,\"type\":\"pie\"}],\"scatter3d\":[{\"line\":{\"colorbar\":{\"outlinewidth\":0,\"ticks\":\"\"}},\"marker\":{\"colorbar\":{\"outlinewidth\":0,\"ticks\":\"\"}},\"type\":\"scatter3d\"}],\"scattercarpet\":[{\"marker\":{\"colorbar\":{\"outlinewidth\":0,\"ticks\":\"\"}},\"type\":\"scattercarpet\"}],\"scattergeo\":[{\"marker\":{\"colorbar\":{\"outlinewidth\":0,\"ticks\":\"\"}},\"type\":\"scattergeo\"}],\"scattergl\":[{\"marker\":{\"colorbar\":{\"outlinewidth\":0,\"ticks\":\"\"}},\"type\":\"scattergl\"}],\"scattermapbox\":[{\"marker\":{\"colorbar\":{\"outlinewidth\":0,\"ticks\":\"\"}},\"type\":\"scattermapbox\"}],\"scatterpolargl\":[{\"marker\":{\"colorbar\":{\"outlinewidth\":0,\"ticks\":\"\"}},\"type\":\"scatterpolargl\"}],\"scatterpolar\":[{\"marker\":{\"colorbar\":{\"outlinewidth\":0,\"ticks\":\"\"}},\"type\":\"scatterpolar\"}],\"scatter\":[{\"fillpattern\":{\"fillmode\":\"overlay\",\"size\":10,\"solidity\":0.2},\"type\":\"scatter\"}],\"scatterternary\":[{\"marker\":{\"colorbar\":{\"outlinewidth\":0,\"ticks\":\"\"}},\"type\":\"scatterternary\"}],\"surface\":[{\"colorbar\":{\"outlinewidth\":0,\"ticks\":\"\"},\"colorscale\":[[0.0,\"#0d0887\"],[0.1111111111111111,\"#46039f\"],[0.2222222222222222,\"#7201a8\"],[0.3333333333333333,\"#9c179e\"],[0.4444444444444444,\"#bd3786\"],[0.5555555555555556,\"#d8576b\"],[0.6666666666666666,\"#ed7953\"],[0.7777777777777778,\"#fb9f3a\"],[0.8888888888888888,\"#fdca26\"],[1.0,\"#f0f921\"]],\"type\":\"surface\"}],\"table\":[{\"cells\":{\"fill\":{\"color\":\"#EBF0F8\"},\"line\":{\"color\":\"white\"}},\"header\":{\"fill\":{\"color\":\"#C8D4E3\"},\"line\":{\"color\":\"white\"}},\"type\":\"table\"}]},\"layout\":{\"annotationdefaults\":{\"arrowcolor\":\"#2a3f5f\",\"arrowhead\":0,\"arrowwidth\":1},\"autotypenumbers\":\"strict\",\"coloraxis\":{\"colorbar\":{\"outlinewidth\":0,\"ticks\":\"\"}},\"colorscale\":{\"diverging\":[[0,\"#8e0152\"],[0.1,\"#c51b7d\"],[0.2,\"#de77ae\"],[0.3,\"#f1b6da\"],[0.4,\"#fde0ef\"],[0.5,\"#f7f7f7\"],[0.6,\"#e6f5d0\"],[0.7,\"#b8e186\"],[0.8,\"#7fbc41\"],[0.9,\"#4d9221\"],[1,\"#276419\"]],\"sequential\":[[0.0,\"#0d0887\"],[0.1111111111111111,\"#46039f\"],[0.2222222222222222,\"#7201a8\"],[0.3333333333333333,\"#9c179e\"],[0.4444444444444444,\"#bd3786\"],[0.5555555555555556,\"#d8576b\"],[0.6666666666666666,\"#ed7953\"],[0.7777777777777778,\"#fb9f3a\"],[0.8888888888888888,\"#fdca26\"],[1.0,\"#f0f921\"]],\"sequentialminus\":[[0.0,\"#0d0887\"],[0.1111111111111111,\"#46039f\"],[0.2222222222222222,\"#7201a8\"],[0.3333333333333333,\"#9c179e\"],[0.4444444444444444,\"#bd3786\"],[0.5555555555555556,\"#d8576b\"],[0.6666666666666666,\"#ed7953\"],[0.7777777777777778,\"#fb9f3a\"],[0.8888888888888888,\"#fdca26\"],[1.0,\"#f0f921\"]]},\"colorway\":[\"#636efa\",\"#EF553B\",\"#00cc96\",\"#ab63fa\",\"#FFA15A\",\"#19d3f3\",\"#FF6692\",\"#B6E880\",\"#FF97FF\",\"#FECB52\"],\"font\":{\"color\":\"#2a3f5f\"},\"geo\":{\"bgcolor\":\"white\",\"lakecolor\":\"white\",\"landcolor\":\"white\",\"showlakes\":true,\"showland\":true,\"subunitcolor\":\"#C8D4E3\"},\"hoverlabel\":{\"align\":\"left\"},\"hovermode\":\"closest\",\"mapbox\":{\"style\":\"light\"},\"paper_bgcolor\":\"white\",\"plot_bgcolor\":\"white\",\"polar\":{\"angularaxis\":{\"gridcolor\":\"#EBF0F8\",\"linecolor\":\"#EBF0F8\",\"ticks\":\"\"},\"bgcolor\":\"white\",\"radialaxis\":{\"gridcolor\":\"#EBF0F8\",\"linecolor\":\"#EBF0F8\",\"ticks\":\"\"}},\"scene\":{\"xaxis\":{\"backgroundcolor\":\"white\",\"gridcolor\":\"#DFE8F3\",\"gridwidth\":2,\"linecolor\":\"#EBF0F8\",\"showbackground\":true,\"ticks\":\"\",\"zerolinecolor\":\"#EBF0F8\"},\"yaxis\":{\"backgroundcolor\":\"white\",\"gridcolor\":\"#DFE8F3\",\"gridwidth\":2,\"linecolor\":\"#EBF0F8\",\"showbackground\":true,\"ticks\":\"\",\"zerolinecolor\":\"#EBF0F8\"},\"zaxis\":{\"backgroundcolor\":\"white\",\"gridcolor\":\"#DFE8F3\",\"gridwidth\":2,\"linecolor\":\"#EBF0F8\",\"showbackground\":true,\"ticks\":\"\",\"zerolinecolor\":\"#EBF0F8\"}},\"shapedefaults\":{\"line\":{\"color\":\"#2a3f5f\"}},\"ternary\":{\"aaxis\":{\"gridcolor\":\"#DFE8F3\",\"linecolor\":\"#A2B1C6\",\"ticks\":\"\"},\"baxis\":{\"gridcolor\":\"#DFE8F3\",\"linecolor\":\"#A2B1C6\",\"ticks\":\"\"},\"bgcolor\":\"white\",\"caxis\":{\"gridcolor\":\"#DFE8F3\",\"linecolor\":\"#A2B1C6\",\"ticks\":\"\"}},\"title\":{\"x\":0.05},\"xaxis\":{\"automargin\":true,\"gridcolor\":\"#EBF0F8\",\"linecolor\":\"#EBF0F8\",\"ticks\":\"\",\"title\":{\"standoff\":15},\"zerolinecolor\":\"#EBF0F8\",\"zerolinewidth\":2},\"yaxis\":{\"automargin\":true,\"gridcolor\":\"#EBF0F8\",\"linecolor\":\"#EBF0F8\",\"ticks\":\"\",\"title\":{\"standoff\":15},\"zerolinecolor\":\"#EBF0F8\",\"zerolinewidth\":2}}},\"xaxis\":{\"anchor\":\"y\",\"domain\":[0.0,1.0],\"title\":{\"text\":\"rooms\"}},\"yaxis\":{\"anchor\":\"x\",\"domain\":[0.0,1.0],\"title\":{\"text\":\"ppm\"}},\"legend\":{\"title\":{\"text\":\"description_\"},\"tracegroupgap\":0},\"margin\":{\"t\":60},\"barmode\":\"group\",\"width\":1000,\"bargap\":0.1},                        {\"responsive\": true}                    ).then(function(){\n",
       "                            \n",
       "var gd = document.getElementById('e21e0912-2c99-4052-a637-8666ef9380c5');\n",
       "var x = new MutationObserver(function (mutations, observer) {{\n",
       "        var display = window.getComputedStyle(gd).display;\n",
       "        if (!display || display === 'none') {{\n",
       "            console.log([gd, 'removed!']);\n",
       "            Plotly.purge(gd);\n",
       "            observer.disconnect();\n",
       "        }}\n",
       "}});\n",
       "\n",
       "// Listen for the removal of the full notebook cells\n",
       "var notebookContainer = gd.closest('#notebook-container');\n",
       "if (notebookContainer) {{\n",
       "    x.observe(notebookContainer, {childList: true});\n",
       "}}\n",
       "\n",
       "// Listen for the clearing of the current output cell\n",
       "var outputEl = gd.closest('.output');\n",
       "if (outputEl) {{\n",
       "    x.observe(outputEl, {childList: true});\n",
       "}}\n",
       "\n",
       "                        })                };                            </script>        </div>\n",
       "</body>\n",
       "</html>"
      ]
     },
     "metadata": {},
     "output_type": "display_data"
    }
   ],
   "source": [
    "fig = px.bar(group_by_description, x='rooms', y='ppm', color='description_', barmode='group', template='plotly_white', width=1000)\n",
    "fig.update_layout(bargap = 0.1 )\n",
    "fig.show(renderer='colab')\n"
   ]
  },
  {
   "cell_type": "markdown",
   "metadata": {},
   "source": [
    "# 5. Widgets simple exploration tool"
   ]
  },
  {
   "cell_type": "code",
   "execution_count": 109,
   "metadata": {
    "tags": []
   },
   "outputs": [],
   "source": [
    "import ipywidgets as widgets\n",
    "from ipywidgets import Button, HBox, VBox\n",
    "\n",
    "layout = widgets.Layout(width='auto') #set width and height\n"
   ]
  },
  {
   "cell_type": "code",
   "execution_count": 110,
   "metadata": {
    "tags": []
   },
   "outputs": [],
   "source": [
    "list_of_columns = df.columns\n",
    "x_col_widget = widgets.Dropdown(\n",
    "    options=list_of_columns,\n",
    "    description='X column:',\n",
    "    value = list_of_columns[1],\n",
    "    disabled=False,\n",
    "    style = {'description_width': 'initial'}\n",
    ")\n",
    "y_col_widget = widgets.Dropdown(\n",
    "    options=list_of_columns,\n",
    "    description='Y column:',\n",
    "    value = list_of_columns[2],\n",
    "    disabled=False,\n",
    "    style = {'description_width': 'initial'}\n",
    ")\n",
    "color_group_widget = widgets.Dropdown(\n",
    "    options=list_of_columns,\n",
    "    description='Color Column Group:',\n",
    "    value = list_of_columns[3],\n",
    "    disabled=False,\n",
    "    style = {'description_width': 'initial'}\n",
    ")\n",
    "top_values_widget = widgets.Dropdown(\n",
    "    options=[str(i) for i in range(15)],\n",
    "    description='Choose Number of top values by count:',\n",
    "    value = '2',\n",
    "    disabled=False,\n",
    "    style = {'description_width': 'initial'}\n",
    ")\n",
    "type_of_graph_widget = widgets.Dropdown(\n",
    "    options=['scatter','bar'],\n",
    "    description='Choose Graph:',\n",
    "    value = 'bar',\n",
    "    disabled=False,\n",
    "    style = {'description_width': 'initial'}\n",
    ")\n",
    "color_scale_widget = widgets.Dropdown(\n",
    "    options=px.colors.named_colorscales(),\n",
    "    description='Color sclae name:',\n",
    "    value = 'bupu',\n",
    "    disabled=False,\n",
    "    style = {'description_width': 'initial'}\n",
    ")\n"
   ]
  },
  {
   "cell_type": "code",
   "execution_count": 111,
   "metadata": {
    "tags": []
   },
   "outputs": [
    {
     "data": {
      "application/vnd.jupyter.widget-view+json": {
       "model_id": "9ca501d2eae842ae89cc9af2cc20f842",
       "version_major": 2,
       "version_minor": 0
      },
      "text/plain": [
       "VBox(children=(HBox(children=(Dropdown(description='X column:', index=1, options=('date', 'rooms', 'area_sqm',…"
      ]
     },
     "execution_count": 111,
     "metadata": {},
     "output_type": "execute_result"
    }
   ],
   "source": [
    "HBox1 = HBox([x_col_widget,y_col_widget,color_group_widget])\n",
    "HBox2 = HBox([top_values_widget,type_of_graph_widget,color_scale_widget])\n",
    "VBox([HBox1,HBox2])\n",
    "\n"
   ]
  },
  {
   "cell_type": "code",
   "execution_count": 112,
   "metadata": {
    "tags": []
   },
   "outputs": [
    {
     "data": {
      "text/html": [
       "<html>\n",
       "<head><meta charset=\"utf-8\" /></head>\n",
       "<body>\n",
       "    <div>            <script src=\"https://cdnjs.cloudflare.com/ajax/libs/mathjax/2.7.5/MathJax.js?config=TeX-AMS-MML_SVG\"></script><script type=\"text/javascript\">if (window.MathJax && window.MathJax.Hub && window.MathJax.Hub.Config) {window.MathJax.Hub.Config({SVG: {font: \"STIX-Web\"}});}</script>                <script type=\"text/javascript\">window.PlotlyConfig = {MathJaxConfig: 'local'};</script>\n",
       "        <script src=\"https://cdn.plot.ly/plotly-2.12.1.min.js\"></script>                <div id=\"8e126cfe-5e12-422c-9877-d0fcac5052bc\" class=\"plotly-graph-div\" style=\"height:525px; width:100%;\"></div>            <script type=\"text/javascript\">                                    window.PLOTLYENV=window.PLOTLYENV || {};                                    if (document.getElementById(\"8e126cfe-5e12-422c-9877-d0fcac5052bc\")) {                    Plotly.newPlot(                        \"8e126cfe-5e12-422c-9877-d0fcac5052bc\",                        [{\"alignmentgroup\":\"True\",\"hovertemplate\":\"rooms=%{x}<br>area_sqm=%{y}<br>price=%{marker.color}<extra></extra>\",\"legendgroup\":\"\",\"marker\":{\"color\":[4000000.0,5000000.0,4000000.0,5000000.0,5000000.0,4000000.0,5000000.0,4000000.0,5000000.0],\"coloraxis\":\"coloraxis\",\"pattern\":{\"shape\":\"\"}},\"name\":\"\",\"offsetgroup\":\"\",\"orientation\":\"v\",\"showlegend\":false,\"textposition\":\"auto\",\"x\":[3.0,3.0,3.0,3.0,3.0,3.0,0.0,2.5,3.0],\"xaxis\":\"x\",\"y\":[64.0,66.01,64.38,60.0,63.5,58.0,179.8,54.0,97.0],\"yaxis\":\"y\",\"type\":\"bar\"}],                        {\"template\":{\"data\":{\"histogram2dcontour\":[{\"type\":\"histogram2dcontour\",\"colorbar\":{\"outlinewidth\":0,\"ticks\":\"\"},\"colorscale\":[[0.0,\"#0d0887\"],[0.1111111111111111,\"#46039f\"],[0.2222222222222222,\"#7201a8\"],[0.3333333333333333,\"#9c179e\"],[0.4444444444444444,\"#bd3786\"],[0.5555555555555556,\"#d8576b\"],[0.6666666666666666,\"#ed7953\"],[0.7777777777777778,\"#fb9f3a\"],[0.8888888888888888,\"#fdca26\"],[1.0,\"#f0f921\"]]}],\"choropleth\":[{\"type\":\"choropleth\",\"colorbar\":{\"outlinewidth\":0,\"ticks\":\"\"}}],\"histogram2d\":[{\"type\":\"histogram2d\",\"colorbar\":{\"outlinewidth\":0,\"ticks\":\"\"},\"colorscale\":[[0.0,\"#0d0887\"],[0.1111111111111111,\"#46039f\"],[0.2222222222222222,\"#7201a8\"],[0.3333333333333333,\"#9c179e\"],[0.4444444444444444,\"#bd3786\"],[0.5555555555555556,\"#d8576b\"],[0.6666666666666666,\"#ed7953\"],[0.7777777777777778,\"#fb9f3a\"],[0.8888888888888888,\"#fdca26\"],[1.0,\"#f0f921\"]]}],\"heatmap\":[{\"type\":\"heatmap\",\"colorbar\":{\"outlinewidth\":0,\"ticks\":\"\"},\"colorscale\":[[0.0,\"#0d0887\"],[0.1111111111111111,\"#46039f\"],[0.2222222222222222,\"#7201a8\"],[0.3333333333333333,\"#9c179e\"],[0.4444444444444444,\"#bd3786\"],[0.5555555555555556,\"#d8576b\"],[0.6666666666666666,\"#ed7953\"],[0.7777777777777778,\"#fb9f3a\"],[0.8888888888888888,\"#fdca26\"],[1.0,\"#f0f921\"]]}],\"heatmapgl\":[{\"type\":\"heatmapgl\",\"colorbar\":{\"outlinewidth\":0,\"ticks\":\"\"},\"colorscale\":[[0.0,\"#0d0887\"],[0.1111111111111111,\"#46039f\"],[0.2222222222222222,\"#7201a8\"],[0.3333333333333333,\"#9c179e\"],[0.4444444444444444,\"#bd3786\"],[0.5555555555555556,\"#d8576b\"],[0.6666666666666666,\"#ed7953\"],[0.7777777777777778,\"#fb9f3a\"],[0.8888888888888888,\"#fdca26\"],[1.0,\"#f0f921\"]]}],\"contourcarpet\":[{\"type\":\"contourcarpet\",\"colorbar\":{\"outlinewidth\":0,\"ticks\":\"\"}}],\"contour\":[{\"type\":\"contour\",\"colorbar\":{\"outlinewidth\":0,\"ticks\":\"\"},\"colorscale\":[[0.0,\"#0d0887\"],[0.1111111111111111,\"#46039f\"],[0.2222222222222222,\"#7201a8\"],[0.3333333333333333,\"#9c179e\"],[0.4444444444444444,\"#bd3786\"],[0.5555555555555556,\"#d8576b\"],[0.6666666666666666,\"#ed7953\"],[0.7777777777777778,\"#fb9f3a\"],[0.8888888888888888,\"#fdca26\"],[1.0,\"#f0f921\"]]}],\"surface\":[{\"type\":\"surface\",\"colorbar\":{\"outlinewidth\":0,\"ticks\":\"\"},\"colorscale\":[[0.0,\"#0d0887\"],[0.1111111111111111,\"#46039f\"],[0.2222222222222222,\"#7201a8\"],[0.3333333333333333,\"#9c179e\"],[0.4444444444444444,\"#bd3786\"],[0.5555555555555556,\"#d8576b\"],[0.6666666666666666,\"#ed7953\"],[0.7777777777777778,\"#fb9f3a\"],[0.8888888888888888,\"#fdca26\"],[1.0,\"#f0f921\"]]}],\"mesh3d\":[{\"type\":\"mesh3d\",\"colorbar\":{\"outlinewidth\":0,\"ticks\":\"\"}}],\"scatter\":[{\"fillpattern\":{\"fillmode\":\"overlay\",\"size\":10,\"solidity\":0.2},\"type\":\"scatter\"}],\"parcoords\":[{\"type\":\"parcoords\",\"line\":{\"colorbar\":{\"outlinewidth\":0,\"ticks\":\"\"}}}],\"scatterpolargl\":[{\"type\":\"scatterpolargl\",\"marker\":{\"colorbar\":{\"outlinewidth\":0,\"ticks\":\"\"}}}],\"bar\":[{\"error_x\":{\"color\":\"#2a3f5f\"},\"error_y\":{\"color\":\"#2a3f5f\"},\"marker\":{\"line\":{\"color\":\"#E5ECF6\",\"width\":0.5},\"pattern\":{\"fillmode\":\"overlay\",\"size\":10,\"solidity\":0.2}},\"type\":\"bar\"}],\"scattergeo\":[{\"type\":\"scattergeo\",\"marker\":{\"colorbar\":{\"outlinewidth\":0,\"ticks\":\"\"}}}],\"scatterpolar\":[{\"type\":\"scatterpolar\",\"marker\":{\"colorbar\":{\"outlinewidth\":0,\"ticks\":\"\"}}}],\"histogram\":[{\"marker\":{\"pattern\":{\"fillmode\":\"overlay\",\"size\":10,\"solidity\":0.2}},\"type\":\"histogram\"}],\"scattergl\":[{\"type\":\"scattergl\",\"marker\":{\"colorbar\":{\"outlinewidth\":0,\"ticks\":\"\"}}}],\"scatter3d\":[{\"type\":\"scatter3d\",\"line\":{\"colorbar\":{\"outlinewidth\":0,\"ticks\":\"\"}},\"marker\":{\"colorbar\":{\"outlinewidth\":0,\"ticks\":\"\"}}}],\"scattermapbox\":[{\"type\":\"scattermapbox\",\"marker\":{\"colorbar\":{\"outlinewidth\":0,\"ticks\":\"\"}}}],\"scatterternary\":[{\"type\":\"scatterternary\",\"marker\":{\"colorbar\":{\"outlinewidth\":0,\"ticks\":\"\"}}}],\"scattercarpet\":[{\"type\":\"scattercarpet\",\"marker\":{\"colorbar\":{\"outlinewidth\":0,\"ticks\":\"\"}}}],\"carpet\":[{\"aaxis\":{\"endlinecolor\":\"#2a3f5f\",\"gridcolor\":\"white\",\"linecolor\":\"white\",\"minorgridcolor\":\"white\",\"startlinecolor\":\"#2a3f5f\"},\"baxis\":{\"endlinecolor\":\"#2a3f5f\",\"gridcolor\":\"white\",\"linecolor\":\"white\",\"minorgridcolor\":\"white\",\"startlinecolor\":\"#2a3f5f\"},\"type\":\"carpet\"}],\"table\":[{\"cells\":{\"fill\":{\"color\":\"#EBF0F8\"},\"line\":{\"color\":\"white\"}},\"header\":{\"fill\":{\"color\":\"#C8D4E3\"},\"line\":{\"color\":\"white\"}},\"type\":\"table\"}],\"barpolar\":[{\"marker\":{\"line\":{\"color\":\"#E5ECF6\",\"width\":0.5},\"pattern\":{\"fillmode\":\"overlay\",\"size\":10,\"solidity\":0.2}},\"type\":\"barpolar\"}],\"pie\":[{\"automargin\":true,\"type\":\"pie\"}]},\"layout\":{\"autotypenumbers\":\"strict\",\"colorway\":[\"#636efa\",\"#EF553B\",\"#00cc96\",\"#ab63fa\",\"#FFA15A\",\"#19d3f3\",\"#FF6692\",\"#B6E880\",\"#FF97FF\",\"#FECB52\"],\"font\":{\"color\":\"#2a3f5f\"},\"hovermode\":\"closest\",\"hoverlabel\":{\"align\":\"left\"},\"paper_bgcolor\":\"white\",\"plot_bgcolor\":\"#E5ECF6\",\"polar\":{\"bgcolor\":\"#E5ECF6\",\"angularaxis\":{\"gridcolor\":\"white\",\"linecolor\":\"white\",\"ticks\":\"\"},\"radialaxis\":{\"gridcolor\":\"white\",\"linecolor\":\"white\",\"ticks\":\"\"}},\"ternary\":{\"bgcolor\":\"#E5ECF6\",\"aaxis\":{\"gridcolor\":\"white\",\"linecolor\":\"white\",\"ticks\":\"\"},\"baxis\":{\"gridcolor\":\"white\",\"linecolor\":\"white\",\"ticks\":\"\"},\"caxis\":{\"gridcolor\":\"white\",\"linecolor\":\"white\",\"ticks\":\"\"}},\"coloraxis\":{\"colorbar\":{\"outlinewidth\":0,\"ticks\":\"\"}},\"colorscale\":{\"sequential\":[[0.0,\"#0d0887\"],[0.1111111111111111,\"#46039f\"],[0.2222222222222222,\"#7201a8\"],[0.3333333333333333,\"#9c179e\"],[0.4444444444444444,\"#bd3786\"],[0.5555555555555556,\"#d8576b\"],[0.6666666666666666,\"#ed7953\"],[0.7777777777777778,\"#fb9f3a\"],[0.8888888888888888,\"#fdca26\"],[1.0,\"#f0f921\"]],\"sequentialminus\":[[0.0,\"#0d0887\"],[0.1111111111111111,\"#46039f\"],[0.2222222222222222,\"#7201a8\"],[0.3333333333333333,\"#9c179e\"],[0.4444444444444444,\"#bd3786\"],[0.5555555555555556,\"#d8576b\"],[0.6666666666666666,\"#ed7953\"],[0.7777777777777778,\"#fb9f3a\"],[0.8888888888888888,\"#fdca26\"],[1.0,\"#f0f921\"]],\"diverging\":[[0,\"#8e0152\"],[0.1,\"#c51b7d\"],[0.2,\"#de77ae\"],[0.3,\"#f1b6da\"],[0.4,\"#fde0ef\"],[0.5,\"#f7f7f7\"],[0.6,\"#e6f5d0\"],[0.7,\"#b8e186\"],[0.8,\"#7fbc41\"],[0.9,\"#4d9221\"],[1,\"#276419\"]]},\"xaxis\":{\"gridcolor\":\"white\",\"linecolor\":\"white\",\"ticks\":\"\",\"title\":{\"standoff\":15},\"zerolinecolor\":\"white\",\"automargin\":true,\"zerolinewidth\":2},\"yaxis\":{\"gridcolor\":\"white\",\"linecolor\":\"white\",\"ticks\":\"\",\"title\":{\"standoff\":15},\"zerolinecolor\":\"white\",\"automargin\":true,\"zerolinewidth\":2},\"scene\":{\"xaxis\":{\"backgroundcolor\":\"#E5ECF6\",\"gridcolor\":\"white\",\"linecolor\":\"white\",\"showbackground\":true,\"ticks\":\"\",\"zerolinecolor\":\"white\",\"gridwidth\":2},\"yaxis\":{\"backgroundcolor\":\"#E5ECF6\",\"gridcolor\":\"white\",\"linecolor\":\"white\",\"showbackground\":true,\"ticks\":\"\",\"zerolinecolor\":\"white\",\"gridwidth\":2},\"zaxis\":{\"backgroundcolor\":\"#E5ECF6\",\"gridcolor\":\"white\",\"linecolor\":\"white\",\"showbackground\":true,\"ticks\":\"\",\"zerolinecolor\":\"white\",\"gridwidth\":2}},\"shapedefaults\":{\"line\":{\"color\":\"#2a3f5f\"}},\"annotationdefaults\":{\"arrowcolor\":\"#2a3f5f\",\"arrowhead\":0,\"arrowwidth\":1},\"geo\":{\"bgcolor\":\"white\",\"landcolor\":\"#E5ECF6\",\"subunitcolor\":\"white\",\"showland\":true,\"showlakes\":true,\"lakecolor\":\"white\"},\"title\":{\"x\":0.05},\"mapbox\":{\"style\":\"light\"}}},\"xaxis\":{\"anchor\":\"y\",\"domain\":[0.0,1.0],\"title\":{\"text\":\"rooms\"}},\"yaxis\":{\"anchor\":\"x\",\"domain\":[0.0,1.0],\"title\":{\"text\":\"area_sqm\"}},\"coloraxis\":{\"colorbar\":{\"title\":{\"text\":\"price\"}},\"colorscale\":[[0.0,\"rgb(247,252,253)\"],[0.125,\"rgb(224,236,244)\"],[0.25,\"rgb(191,211,230)\"],[0.375,\"rgb(158,188,218)\"],[0.5,\"rgb(140,150,198)\"],[0.625,\"rgb(140,107,177)\"],[0.75,\"rgb(136,65,157)\"],[0.875,\"rgb(129,15,124)\"],[1.0,\"rgb(77,0,75)\"]]},\"legend\":{\"tracegroupgap\":0},\"margin\":{\"t\":60},\"barmode\":\"relative\"},                        {\"responsive\": true}                    ).then(function(){\n",
       "                            \n",
       "var gd = document.getElementById('8e126cfe-5e12-422c-9877-d0fcac5052bc');\n",
       "var x = new MutationObserver(function (mutations, observer) {{\n",
       "        var display = window.getComputedStyle(gd).display;\n",
       "        if (!display || display === 'none') {{\n",
       "            console.log([gd, 'removed!']);\n",
       "            Plotly.purge(gd);\n",
       "            observer.disconnect();\n",
       "        }}\n",
       "}});\n",
       "\n",
       "// Listen for the removal of the full notebook cells\n",
       "var notebookContainer = gd.closest('#notebook-container');\n",
       "if (notebookContainer) {{\n",
       "    x.observe(notebookContainer, {childList: true});\n",
       "}}\n",
       "\n",
       "// Listen for the clearing of the current output cell\n",
       "var outputEl = gd.closest('.output');\n",
       "if (outputEl) {{\n",
       "    x.observe(outputEl, {childList: true});\n",
       "}}\n",
       "\n",
       "                        })                };                            </script>        </div>\n",
       "</body>\n",
       "</html>"
      ]
     },
     "metadata": {},
     "output_type": "display_data"
    }
   ],
   "source": [
    "x_data = x_col_widget.value\n",
    "y_data = y_col_widget.value\n",
    "\n",
    "color_data = color_group_widget.value\n",
    "color_scale = color_scale_widget.value\n",
    "top_cat = int(top_values_widget.value)\n",
    "\n",
    "\n",
    "filter_values = df[color_data].value_counts().index[0:top_cat]\n",
    "subset = df[df[color_data].isin(filter_values)].copy()\n",
    "\n",
    "if (type_of_graph_widget.value=='scatter'):\n",
    "    fig = px.scatter(subset, x=x_data, y=y_data, color=color_data, color_continuous_scale = color_scale)\n",
    "    fig.update_layout(width = 1200)\n",
    "    fig.show(renderer='colab')\n",
    "\n",
    "else:\n",
    "    fig = px.bar(subset, x=x_data, y=y_data, color=color_data,color_continuous_scale=color_scale)\n",
    "    fig.show(renderer='colab')\n"
   ]
  },
  {
   "cell_type": "markdown",
   "metadata": {},
   "source": [
    "## Graphing examples\n",
    "\n",
    "https://plotly.com/python/\n",
    "\n",
    "https://seaborn.pydata.org/examples/index.html"
   ]
  },
  {
   "cell_type": "markdown",
   "metadata": {},
   "source": [
    "## Further Reading:\n",
    "\n",
    "https://www.kaggle.com/competitions/house-prices-advanced-regression-techniques/overview"
   ]
  }
 ],
 "metadata": {
  "kernelspec": {
   "display_name": "Python fastai",
   "language": "python",
   "name": "fastai"
  },
  "language_info": {
   "codemirror_mode": {
    "name": "ipython",
    "version": 3
   },
   "file_extension": ".py",
   "mimetype": "text/x-python",
   "name": "python",
   "nbconvert_exporter": "python",
   "pygments_lexer": "ipython3",
   "version": "3.11.5"
  }
 },
 "nbformat": 4,
 "nbformat_minor": 4
}
