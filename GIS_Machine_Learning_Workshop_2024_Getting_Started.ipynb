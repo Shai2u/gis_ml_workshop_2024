{
  "nbformat": 4,
  "nbformat_minor": 0,
  "metadata": {
    "colab": {
      "provenance": [],
      "authorship_tag": "ABX9TyN+TsOwFO7tOxVYY4V5d3hL",
      "include_colab_link": true
    },
    "kernelspec": {
      "name": "python3",
      "display_name": "Python 3"
    },
    "language_info": {
      "name": "python"
    }
  },
  "cells": [
    {
      "cell_type": "markdown",
      "metadata": {
        "id": "view-in-github",
        "colab_type": "text"
      },
      "source": [
        "<a href=\"https://colab.research.google.com/github/Shai2u/gis_ml_workshop_2024/blob/main/GIS_Machine_Learning_Workshop_2024_Getting_Started.ipynb\" target=\"_parent\"><img src=\"https://colab.research.google.com/assets/colab-badge.svg\" alt=\"Open In Colab\"/></a>"
      ]
    },
    {
      "cell_type": "markdown",
      "source": [
        "# GIS Machine Learning Workshop 2024\n",
        "\n",
        "## 1. Getting Started\n",
        "\n",
        "\n",
        "*   Setting up Kaggle\n",
        "*   Setting up colab (you can use any environment you wnat)\n",
        "*   Setting up github\n"
      ],
      "metadata": {
        "id": "BuUDe20VMDYd"
      }
    },
    {
      "cell_type": "markdown",
      "source": [
        "## Setting up Kaggle\n",
        "based on [DigitalSreeni lessons](https://www.youtube.com/watch?v=yEXkEUqK52Q)"
      ],
      "metadata": {
        "id": "A2FvIInpMWko"
      }
    },
    {
      "cell_type": "markdown",
      "source": [
        "1. Open a Kaggle account and download the json credintials.\n",
        "\n",
        "![Step 1](https://raw.githubusercontent.com/Shai2u/gis_ml_workshop_2024/main/images/step_1.png?token=GHSAT0AAAAAACLBVJ4KVJFID56AMTPPJCEQZLO5FRA)\n",
        "\n",
        "Go to your settings\n",
        "\n",
        "![Step 2](https://raw.githubusercontent.com/Shai2u/gis_ml_workshop_2024/main/images/step_2.png?token=GHSAT0AAAAAACLBVJ4LNZKVWHHVXLKUYYWAZLO5GVA)\n",
        "\n",
        "![Step 3](https://raw.githubusercontent.com/Shai2u/gis_ml_workshop_2024/main/images/step_3.png?token=GHSAT0AAAAAACLBVJ4LCPL7WV6WG3YYYSZ6ZLO5HMA)\n",
        "\n",
        "Create new token and download kaggle.json file\n"
      ],
      "metadata": {
        "id": "YEMuXqNdOE0M"
      }
    },
    {
      "cell_type": "markdown",
      "source": [
        "2. Add  kaggle.json to colab"
      ],
      "metadata": {
        "id": "RpPDT1_zPjdS"
      }
    },
    {
      "cell_type": "code",
      "source": [
        "from google.colab import drive\n",
        "drive.mount('/content/drive')"
      ],
      "metadata": {
        "colab": {
          "base_uri": "https://localhost:8080/"
        },
        "id": "HrUP_4QdMhI1",
        "outputId": "710458b6-11ce-44f2-e6b2-edaf2b10e2fa"
      },
      "execution_count": 3,
      "outputs": [
        {
          "output_type": "stream",
          "name": "stdout",
          "text": [
            "Mounted at /content/drive\n"
          ]
        }
      ]
    },
    {
      "cell_type": "markdown",
      "source": [
        "Make a directory for kaggle at the temporary instance location on Colab drive.\n",
        "Download your kaggle API key (.json file). You can do this by going to your kaggle account page and clicking 'Create new API token' under the API section."
      ],
      "metadata": {
        "id": "CxzlEe5vNuWC"
      }
    },
    {
      "cell_type": "code",
      "source": [
        "! mkdir ~/.kaggle"
      ],
      "metadata": {
        "id": "AD5UnkSiNT6C"
      },
      "execution_count": 4,
      "outputs": []
    },
    {
      "cell_type": "code",
      "source": [],
      "metadata": {
        "id": "93zrefQ9N6XQ"
      },
      "execution_count": null,
      "outputs": []
    }
  ]
}