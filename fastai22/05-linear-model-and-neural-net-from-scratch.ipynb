{
  "cells": [
    {
      "cell_type": "markdown",
      "metadata": {
        "id": "view-in-github",
        "colab_type": "text"
      },
      "source": [
        "<a href=\"https://colab.research.google.com/github/Shai2u/gis_ml_workshop_2024/blob/main/05-linear-model-and-neural-net-from-scratch.ipynb\" target=\"_parent\"><img src=\"https://colab.research.google.com/assets/colab-badge.svg\" alt=\"Open In Colab\"/></a>"
      ]
    },
    {
      "cell_type": "markdown",
      "metadata": {
        "id": "NV3cR2l4UT4I"
      },
      "source": [
        "## Introduction"
      ]
    },
    {
      "cell_type": "markdown",
      "metadata": {
        "id": "VTiCsxdRUT4J"
      },
      "source": [
        "In this notebook we're going to build and train a deep learning model \"from scratch\" -- by which I mean that we're not going to use any pre-built architecture, or optimizers, or data loading frameworks, etc.\n",
        "\n",
        "We'll be assuming you already know the basics of how a neural network works. If you don't, read this notebook first: [How does a neural net really work?\n",
        "](https://www.kaggle.com/code/jhoward/how-does-a-neural-net-really-work). We'll be using Kaggle's [Titanic](https://www.kaggle.com/competitions/titanic/) competition in this notebook, because it's very small and simple, but also has displays many of the tricky real-life issues that we need to handle in most practical projects. (Note, however, that this competition is a small \"learner\" competition on Kaggle, so don't expect to actually see much benefits from using a neural net just yet; that will come once we try our some real competitions!)\n",
        "\n",
        "It's great to be able to run the same notebook on your own machine or Colab, as well as Kaggle. To allow for this, we use this code to download the data as needed when not on Kaggle (see [this notebook](https://www.kaggle.com/code/jhoward/getting-started-with-nlp-for-absolute-beginners/) for details about this technique):"
      ]
    },
    {
      "cell_type": "code",
      "source": [
        "from google.colab import drive\n",
        "drive.mount('/content/drive')"
      ],
      "metadata": {
        "colab": {
          "base_uri": "https://localhost:8080/"
        },
        "id": "dBnWVN61jrN5",
        "outputId": "2374ee32-8131-40a7-fb55-49b8d4ab61c3"
      },
      "execution_count": 4,
      "outputs": [
        {
          "output_type": "stream",
          "name": "stdout",
          "text": [
            "Mounted at /content/drive\n"
          ]
        }
      ]
    },
    {
      "cell_type": "code",
      "source": [
        "! mkdir ~/.kaggle"
      ],
      "metadata": {
        "colab": {
          "base_uri": "https://localhost:8080/"
        },
        "id": "26kmw7FHjrhF",
        "outputId": "1575c355-f296-43a1-e7d2-f4294f81c5c1"
      },
      "execution_count": 5,
      "outputs": [
        {
          "output_type": "stream",
          "name": "stdout",
          "text": [
            "mkdir: cannot create directory ‘/root/.kaggle’: File exists\n"
          ]
        }
      ]
    },
    {
      "cell_type": "code",
      "source": [
        "!cp /content/drive/MyDrive/Credenitals/kaggle_API_credentials/kaggle.json ~/.kaggle/kaggle.json"
      ],
      "metadata": {
        "id": "MzJ_cY3ejwYg"
      },
      "execution_count": 6,
      "outputs": []
    },
    {
      "cell_type": "code",
      "source": [
        "! chmod 600 ~/.kaggle/kaggle.json"
      ],
      "metadata": {
        "id": "T04gSEG0j46d"
      },
      "execution_count": 7,
      "outputs": []
    },
    {
      "cell_type": "code",
      "source": [
        "import os\n",
        "from pathlib import Path"
      ],
      "metadata": {
        "id": "mv7JSO6xjm1v"
      },
      "execution_count": 9,
      "outputs": []
    },
    {
      "cell_type": "code",
      "source": [
        "path = Path('titanic')\n",
        "import zipfile,kaggle\n"
      ],
      "metadata": {
        "id": "ZSsJULyJj6XF"
      },
      "execution_count": 13,
      "outputs": []
    },
    {
      "cell_type": "code",
      "source": [
        "kaggle.api.competition_download_cli(str(path))\n",
        "zipfile.ZipFile(f'{path}.zip').extractall(path)"
      ],
      "metadata": {
        "colab": {
          "base_uri": "https://localhost:8080/"
        },
        "id": "NcWGjZJdkGJ-",
        "outputId": "c591f15c-90ab-487b-e0a3-aa9212f862d5"
      },
      "execution_count": 14,
      "outputs": [
        {
          "output_type": "stream",
          "name": "stdout",
          "text": [
            "Downloading titanic.zip to /content\n"
          ]
        },
        {
          "output_type": "stream",
          "name": "stderr",
          "text": [
            "100%|██████████| 34.1k/34.1k [00:00<00:00, 41.0MB/s]"
          ]
        },
        {
          "output_type": "stream",
          "name": "stdout",
          "text": [
            "\n"
          ]
        },
        {
          "output_type": "stream",
          "name": "stderr",
          "text": [
            "\n"
          ]
        }
      ]
    },
    {
      "cell_type": "markdown",
      "metadata": {
        "hidden": true,
        "id": "yAoszKtMUT4L"
      },
      "source": [
        "Note that the data for Kaggle comps always lives in the `../input` folder. The easiest way to get the path is to click the \"K\" button in the top-right of the Kaggle notebook, click on the folder shown there, and click the copy button.\n",
        "\n",
        "We'll be using *numpy* and *pytorch* for array calculations in this notebook, and *pandas* for working with tabular data, so we'll import them and set them to display using a bit more space than they default to."
      ]
    },
    {
      "cell_type": "code",
      "execution_count": 15,
      "metadata": {
        "execution": {
          "iopub.execute_input": "2022-05-30T22:34:17.811857Z",
          "iopub.status.busy": "2022-05-30T22:34:17.810967Z",
          "iopub.status.idle": "2022-05-30T22:34:17.817725Z",
          "shell.execute_reply": "2022-05-30T22:34:17.816849Z",
          "shell.execute_reply.started": "2022-05-30T22:34:17.811797Z"
        },
        "trusted": true,
        "id": "1P8IdBjoUT4L"
      },
      "outputs": [],
      "source": [
        "import torch, numpy as np, pandas as pd\n",
        "np.set_printoptions(linewidth=140)\n",
        "torch.set_printoptions(linewidth=140, sci_mode=False, edgeitems=7)\n",
        "pd.set_option('display.width', 140)"
      ]
    },
    {
      "cell_type": "markdown",
      "metadata": {
        "heading_collapsed": true,
        "id": "oS8yqmS0UT4L"
      },
      "source": [
        "## Cleaning the data"
      ]
    },
    {
      "cell_type": "markdown",
      "metadata": {
        "hidden": true,
        "id": "v2j2wppIUT4L"
      },
      "source": [
        "This is a *tabular data* competition -- the data is in the form of a table. It's provided as a Comma Separated Values (CSV) file. We can open it using the *pandas* library, which will create a `DataFrame`."
      ]
    },
    {
      "cell_type": "code",
      "execution_count": 16,
      "metadata": {
        "execution": {
          "iopub.execute_input": "2022-05-30T22:34:17.899238Z",
          "iopub.status.busy": "2022-05-30T22:34:17.898249Z",
          "iopub.status.idle": "2022-05-30T22:34:17.932714Z",
          "shell.execute_reply": "2022-05-30T22:34:17.931738Z",
          "shell.execute_reply.started": "2022-05-30T22:34:17.899131Z"
        },
        "hidden": true,
        "scrolled": true,
        "trusted": true,
        "colab": {
          "base_uri": "https://localhost:8080/",
          "height": 932
        },
        "id": "F8Jo4DqMUT4L",
        "outputId": "b924b83e-7917-445c-b34c-ba2eadfcaf7c"
      },
      "outputs": [
        {
          "output_type": "execute_result",
          "data": {
            "text/plain": [
              "     PassengerId  Survived  Pclass                                               Name     Sex   Age  SibSp  Parch            Ticket  \\\n",
              "0              1         0       3                            Braund, Mr. Owen Harris    male  22.0      1      0         A/5 21171   \n",
              "1              2         1       1  Cumings, Mrs. John Bradley (Florence Briggs Th...  female  38.0      1      0          PC 17599   \n",
              "2              3         1       3                             Heikkinen, Miss. Laina  female  26.0      0      0  STON/O2. 3101282   \n",
              "3              4         1       1       Futrelle, Mrs. Jacques Heath (Lily May Peel)  female  35.0      1      0            113803   \n",
              "4              5         0       3                           Allen, Mr. William Henry    male  35.0      0      0            373450   \n",
              "..           ...       ...     ...                                                ...     ...   ...    ...    ...               ...   \n",
              "886          887         0       2                              Montvila, Rev. Juozas    male  27.0      0      0            211536   \n",
              "887          888         1       1                       Graham, Miss. Margaret Edith  female  19.0      0      0            112053   \n",
              "888          889         0       3           Johnston, Miss. Catherine Helen \"Carrie\"  female   NaN      1      2        W./C. 6607   \n",
              "889          890         1       1                              Behr, Mr. Karl Howell    male  26.0      0      0            111369   \n",
              "890          891         0       3                                Dooley, Mr. Patrick    male  32.0      0      0            370376   \n",
              "\n",
              "        Fare Cabin Embarked  \n",
              "0     7.2500   NaN        S  \n",
              "1    71.2833   C85        C  \n",
              "2     7.9250   NaN        S  \n",
              "3    53.1000  C123        S  \n",
              "4     8.0500   NaN        S  \n",
              "..       ...   ...      ...  \n",
              "886  13.0000   NaN        S  \n",
              "887  30.0000   B42        S  \n",
              "888  23.4500   NaN        S  \n",
              "889  30.0000  C148        C  \n",
              "890   7.7500   NaN        Q  \n",
              "\n",
              "[891 rows x 12 columns]"
            ],
            "text/html": [
              "\n",
              "  <div id=\"df-645db60a-35b7-4ad1-bbe2-c3c42b863b19\" class=\"colab-df-container\">\n",
              "    <div>\n",
              "<style scoped>\n",
              "    .dataframe tbody tr th:only-of-type {\n",
              "        vertical-align: middle;\n",
              "    }\n",
              "\n",
              "    .dataframe tbody tr th {\n",
              "        vertical-align: top;\n",
              "    }\n",
              "\n",
              "    .dataframe thead th {\n",
              "        text-align: right;\n",
              "    }\n",
              "</style>\n",
              "<table border=\"1\" class=\"dataframe\">\n",
              "  <thead>\n",
              "    <tr style=\"text-align: right;\">\n",
              "      <th></th>\n",
              "      <th>PassengerId</th>\n",
              "      <th>Survived</th>\n",
              "      <th>Pclass</th>\n",
              "      <th>Name</th>\n",
              "      <th>Sex</th>\n",
              "      <th>Age</th>\n",
              "      <th>SibSp</th>\n",
              "      <th>Parch</th>\n",
              "      <th>Ticket</th>\n",
              "      <th>Fare</th>\n",
              "      <th>Cabin</th>\n",
              "      <th>Embarked</th>\n",
              "    </tr>\n",
              "  </thead>\n",
              "  <tbody>\n",
              "    <tr>\n",
              "      <th>0</th>\n",
              "      <td>1</td>\n",
              "      <td>0</td>\n",
              "      <td>3</td>\n",
              "      <td>Braund, Mr. Owen Harris</td>\n",
              "      <td>male</td>\n",
              "      <td>22.0</td>\n",
              "      <td>1</td>\n",
              "      <td>0</td>\n",
              "      <td>A/5 21171</td>\n",
              "      <td>7.2500</td>\n",
              "      <td>NaN</td>\n",
              "      <td>S</td>\n",
              "    </tr>\n",
              "    <tr>\n",
              "      <th>1</th>\n",
              "      <td>2</td>\n",
              "      <td>1</td>\n",
              "      <td>1</td>\n",
              "      <td>Cumings, Mrs. John Bradley (Florence Briggs Th...</td>\n",
              "      <td>female</td>\n",
              "      <td>38.0</td>\n",
              "      <td>1</td>\n",
              "      <td>0</td>\n",
              "      <td>PC 17599</td>\n",
              "      <td>71.2833</td>\n",
              "      <td>C85</td>\n",
              "      <td>C</td>\n",
              "    </tr>\n",
              "    <tr>\n",
              "      <th>2</th>\n",
              "      <td>3</td>\n",
              "      <td>1</td>\n",
              "      <td>3</td>\n",
              "      <td>Heikkinen, Miss. Laina</td>\n",
              "      <td>female</td>\n",
              "      <td>26.0</td>\n",
              "      <td>0</td>\n",
              "      <td>0</td>\n",
              "      <td>STON/O2. 3101282</td>\n",
              "      <td>7.9250</td>\n",
              "      <td>NaN</td>\n",
              "      <td>S</td>\n",
              "    </tr>\n",
              "    <tr>\n",
              "      <th>3</th>\n",
              "      <td>4</td>\n",
              "      <td>1</td>\n",
              "      <td>1</td>\n",
              "      <td>Futrelle, Mrs. Jacques Heath (Lily May Peel)</td>\n",
              "      <td>female</td>\n",
              "      <td>35.0</td>\n",
              "      <td>1</td>\n",
              "      <td>0</td>\n",
              "      <td>113803</td>\n",
              "      <td>53.1000</td>\n",
              "      <td>C123</td>\n",
              "      <td>S</td>\n",
              "    </tr>\n",
              "    <tr>\n",
              "      <th>4</th>\n",
              "      <td>5</td>\n",
              "      <td>0</td>\n",
              "      <td>3</td>\n",
              "      <td>Allen, Mr. William Henry</td>\n",
              "      <td>male</td>\n",
              "      <td>35.0</td>\n",
              "      <td>0</td>\n",
              "      <td>0</td>\n",
              "      <td>373450</td>\n",
              "      <td>8.0500</td>\n",
              "      <td>NaN</td>\n",
              "      <td>S</td>\n",
              "    </tr>\n",
              "    <tr>\n",
              "      <th>...</th>\n",
              "      <td>...</td>\n",
              "      <td>...</td>\n",
              "      <td>...</td>\n",
              "      <td>...</td>\n",
              "      <td>...</td>\n",
              "      <td>...</td>\n",
              "      <td>...</td>\n",
              "      <td>...</td>\n",
              "      <td>...</td>\n",
              "      <td>...</td>\n",
              "      <td>...</td>\n",
              "      <td>...</td>\n",
              "    </tr>\n",
              "    <tr>\n",
              "      <th>886</th>\n",
              "      <td>887</td>\n",
              "      <td>0</td>\n",
              "      <td>2</td>\n",
              "      <td>Montvila, Rev. Juozas</td>\n",
              "      <td>male</td>\n",
              "      <td>27.0</td>\n",
              "      <td>0</td>\n",
              "      <td>0</td>\n",
              "      <td>211536</td>\n",
              "      <td>13.0000</td>\n",
              "      <td>NaN</td>\n",
              "      <td>S</td>\n",
              "    </tr>\n",
              "    <tr>\n",
              "      <th>887</th>\n",
              "      <td>888</td>\n",
              "      <td>1</td>\n",
              "      <td>1</td>\n",
              "      <td>Graham, Miss. Margaret Edith</td>\n",
              "      <td>female</td>\n",
              "      <td>19.0</td>\n",
              "      <td>0</td>\n",
              "      <td>0</td>\n",
              "      <td>112053</td>\n",
              "      <td>30.0000</td>\n",
              "      <td>B42</td>\n",
              "      <td>S</td>\n",
              "    </tr>\n",
              "    <tr>\n",
              "      <th>888</th>\n",
              "      <td>889</td>\n",
              "      <td>0</td>\n",
              "      <td>3</td>\n",
              "      <td>Johnston, Miss. Catherine Helen \"Carrie\"</td>\n",
              "      <td>female</td>\n",
              "      <td>NaN</td>\n",
              "      <td>1</td>\n",
              "      <td>2</td>\n",
              "      <td>W./C. 6607</td>\n",
              "      <td>23.4500</td>\n",
              "      <td>NaN</td>\n",
              "      <td>S</td>\n",
              "    </tr>\n",
              "    <tr>\n",
              "      <th>889</th>\n",
              "      <td>890</td>\n",
              "      <td>1</td>\n",
              "      <td>1</td>\n",
              "      <td>Behr, Mr. Karl Howell</td>\n",
              "      <td>male</td>\n",
              "      <td>26.0</td>\n",
              "      <td>0</td>\n",
              "      <td>0</td>\n",
              "      <td>111369</td>\n",
              "      <td>30.0000</td>\n",
              "      <td>C148</td>\n",
              "      <td>C</td>\n",
              "    </tr>\n",
              "    <tr>\n",
              "      <th>890</th>\n",
              "      <td>891</td>\n",
              "      <td>0</td>\n",
              "      <td>3</td>\n",
              "      <td>Dooley, Mr. Patrick</td>\n",
              "      <td>male</td>\n",
              "      <td>32.0</td>\n",
              "      <td>0</td>\n",
              "      <td>0</td>\n",
              "      <td>370376</td>\n",
              "      <td>7.7500</td>\n",
              "      <td>NaN</td>\n",
              "      <td>Q</td>\n",
              "    </tr>\n",
              "  </tbody>\n",
              "</table>\n",
              "<p>891 rows × 12 columns</p>\n",
              "</div>\n",
              "    <div class=\"colab-df-buttons\">\n",
              "\n",
              "  <div class=\"colab-df-container\">\n",
              "    <button class=\"colab-df-convert\" onclick=\"convertToInteractive('df-645db60a-35b7-4ad1-bbe2-c3c42b863b19')\"\n",
              "            title=\"Convert this dataframe to an interactive table.\"\n",
              "            style=\"display:none;\">\n",
              "\n",
              "  <svg xmlns=\"http://www.w3.org/2000/svg\" height=\"24px\" viewBox=\"0 -960 960 960\">\n",
              "    <path d=\"M120-120v-720h720v720H120Zm60-500h600v-160H180v160Zm220 220h160v-160H400v160Zm0 220h160v-160H400v160ZM180-400h160v-160H180v160Zm440 0h160v-160H620v160ZM180-180h160v-160H180v160Zm440 0h160v-160H620v160Z\"/>\n",
              "  </svg>\n",
              "    </button>\n",
              "\n",
              "  <style>\n",
              "    .colab-df-container {\n",
              "      display:flex;\n",
              "      gap: 12px;\n",
              "    }\n",
              "\n",
              "    .colab-df-convert {\n",
              "      background-color: #E8F0FE;\n",
              "      border: none;\n",
              "      border-radius: 50%;\n",
              "      cursor: pointer;\n",
              "      display: none;\n",
              "      fill: #1967D2;\n",
              "      height: 32px;\n",
              "      padding: 0 0 0 0;\n",
              "      width: 32px;\n",
              "    }\n",
              "\n",
              "    .colab-df-convert:hover {\n",
              "      background-color: #E2EBFA;\n",
              "      box-shadow: 0px 1px 2px rgba(60, 64, 67, 0.3), 0px 1px 3px 1px rgba(60, 64, 67, 0.15);\n",
              "      fill: #174EA6;\n",
              "    }\n",
              "\n",
              "    .colab-df-buttons div {\n",
              "      margin-bottom: 4px;\n",
              "    }\n",
              "\n",
              "    [theme=dark] .colab-df-convert {\n",
              "      background-color: #3B4455;\n",
              "      fill: #D2E3FC;\n",
              "    }\n",
              "\n",
              "    [theme=dark] .colab-df-convert:hover {\n",
              "      background-color: #434B5C;\n",
              "      box-shadow: 0px 1px 3px 1px rgba(0, 0, 0, 0.15);\n",
              "      filter: drop-shadow(0px 1px 2px rgba(0, 0, 0, 0.3));\n",
              "      fill: #FFFFFF;\n",
              "    }\n",
              "  </style>\n",
              "\n",
              "    <script>\n",
              "      const buttonEl =\n",
              "        document.querySelector('#df-645db60a-35b7-4ad1-bbe2-c3c42b863b19 button.colab-df-convert');\n",
              "      buttonEl.style.display =\n",
              "        google.colab.kernel.accessAllowed ? 'block' : 'none';\n",
              "\n",
              "      async function convertToInteractive(key) {\n",
              "        const element = document.querySelector('#df-645db60a-35b7-4ad1-bbe2-c3c42b863b19');\n",
              "        const dataTable =\n",
              "          await google.colab.kernel.invokeFunction('convertToInteractive',\n",
              "                                                    [key], {});\n",
              "        if (!dataTable) return;\n",
              "\n",
              "        const docLinkHtml = 'Like what you see? Visit the ' +\n",
              "          '<a target=\"_blank\" href=https://colab.research.google.com/notebooks/data_table.ipynb>data table notebook</a>'\n",
              "          + ' to learn more about interactive tables.';\n",
              "        element.innerHTML = '';\n",
              "        dataTable['output_type'] = 'display_data';\n",
              "        await google.colab.output.renderOutput(dataTable, element);\n",
              "        const docLink = document.createElement('div');\n",
              "        docLink.innerHTML = docLinkHtml;\n",
              "        element.appendChild(docLink);\n",
              "      }\n",
              "    </script>\n",
              "  </div>\n",
              "\n",
              "\n",
              "<div id=\"df-f098b748-4b52-43e5-a9b7-ec4fe26ca143\">\n",
              "  <button class=\"colab-df-quickchart\" onclick=\"quickchart('df-f098b748-4b52-43e5-a9b7-ec4fe26ca143')\"\n",
              "            title=\"Suggest charts\"\n",
              "            style=\"display:none;\">\n",
              "\n",
              "<svg xmlns=\"http://www.w3.org/2000/svg\" height=\"24px\"viewBox=\"0 0 24 24\"\n",
              "     width=\"24px\">\n",
              "    <g>\n",
              "        <path d=\"M19 3H5c-1.1 0-2 .9-2 2v14c0 1.1.9 2 2 2h14c1.1 0 2-.9 2-2V5c0-1.1-.9-2-2-2zM9 17H7v-7h2v7zm4 0h-2V7h2v10zm4 0h-2v-4h2v4z\"/>\n",
              "    </g>\n",
              "</svg>\n",
              "  </button>\n",
              "\n",
              "<style>\n",
              "  .colab-df-quickchart {\n",
              "      --bg-color: #E8F0FE;\n",
              "      --fill-color: #1967D2;\n",
              "      --hover-bg-color: #E2EBFA;\n",
              "      --hover-fill-color: #174EA6;\n",
              "      --disabled-fill-color: #AAA;\n",
              "      --disabled-bg-color: #DDD;\n",
              "  }\n",
              "\n",
              "  [theme=dark] .colab-df-quickchart {\n",
              "      --bg-color: #3B4455;\n",
              "      --fill-color: #D2E3FC;\n",
              "      --hover-bg-color: #434B5C;\n",
              "      --hover-fill-color: #FFFFFF;\n",
              "      --disabled-bg-color: #3B4455;\n",
              "      --disabled-fill-color: #666;\n",
              "  }\n",
              "\n",
              "  .colab-df-quickchart {\n",
              "    background-color: var(--bg-color);\n",
              "    border: none;\n",
              "    border-radius: 50%;\n",
              "    cursor: pointer;\n",
              "    display: none;\n",
              "    fill: var(--fill-color);\n",
              "    height: 32px;\n",
              "    padding: 0;\n",
              "    width: 32px;\n",
              "  }\n",
              "\n",
              "  .colab-df-quickchart:hover {\n",
              "    background-color: var(--hover-bg-color);\n",
              "    box-shadow: 0 1px 2px rgba(60, 64, 67, 0.3), 0 1px 3px 1px rgba(60, 64, 67, 0.15);\n",
              "    fill: var(--button-hover-fill-color);\n",
              "  }\n",
              "\n",
              "  .colab-df-quickchart-complete:disabled,\n",
              "  .colab-df-quickchart-complete:disabled:hover {\n",
              "    background-color: var(--disabled-bg-color);\n",
              "    fill: var(--disabled-fill-color);\n",
              "    box-shadow: none;\n",
              "  }\n",
              "\n",
              "  .colab-df-spinner {\n",
              "    border: 2px solid var(--fill-color);\n",
              "    border-color: transparent;\n",
              "    border-bottom-color: var(--fill-color);\n",
              "    animation:\n",
              "      spin 1s steps(1) infinite;\n",
              "  }\n",
              "\n",
              "  @keyframes spin {\n",
              "    0% {\n",
              "      border-color: transparent;\n",
              "      border-bottom-color: var(--fill-color);\n",
              "      border-left-color: var(--fill-color);\n",
              "    }\n",
              "    20% {\n",
              "      border-color: transparent;\n",
              "      border-left-color: var(--fill-color);\n",
              "      border-top-color: var(--fill-color);\n",
              "    }\n",
              "    30% {\n",
              "      border-color: transparent;\n",
              "      border-left-color: var(--fill-color);\n",
              "      border-top-color: var(--fill-color);\n",
              "      border-right-color: var(--fill-color);\n",
              "    }\n",
              "    40% {\n",
              "      border-color: transparent;\n",
              "      border-right-color: var(--fill-color);\n",
              "      border-top-color: var(--fill-color);\n",
              "    }\n",
              "    60% {\n",
              "      border-color: transparent;\n",
              "      border-right-color: var(--fill-color);\n",
              "    }\n",
              "    80% {\n",
              "      border-color: transparent;\n",
              "      border-right-color: var(--fill-color);\n",
              "      border-bottom-color: var(--fill-color);\n",
              "    }\n",
              "    90% {\n",
              "      border-color: transparent;\n",
              "      border-bottom-color: var(--fill-color);\n",
              "    }\n",
              "  }\n",
              "</style>\n",
              "\n",
              "  <script>\n",
              "    async function quickchart(key) {\n",
              "      const quickchartButtonEl =\n",
              "        document.querySelector('#' + key + ' button');\n",
              "      quickchartButtonEl.disabled = true;  // To prevent multiple clicks.\n",
              "      quickchartButtonEl.classList.add('colab-df-spinner');\n",
              "      try {\n",
              "        const charts = await google.colab.kernel.invokeFunction(\n",
              "            'suggestCharts', [key], {});\n",
              "      } catch (error) {\n",
              "        console.error('Error during call to suggestCharts:', error);\n",
              "      }\n",
              "      quickchartButtonEl.classList.remove('colab-df-spinner');\n",
              "      quickchartButtonEl.classList.add('colab-df-quickchart-complete');\n",
              "    }\n",
              "    (() => {\n",
              "      let quickchartButtonEl =\n",
              "        document.querySelector('#df-f098b748-4b52-43e5-a9b7-ec4fe26ca143 button');\n",
              "      quickchartButtonEl.style.display =\n",
              "        google.colab.kernel.accessAllowed ? 'block' : 'none';\n",
              "    })();\n",
              "  </script>\n",
              "</div>\n",
              "    </div>\n",
              "  </div>\n"
            ]
          },
          "metadata": {},
          "execution_count": 16
        }
      ],
      "source": [
        "df = pd.read_csv(path/'train.csv')\n",
        "df"
      ]
    },
    {
      "cell_type": "markdown",
      "metadata": {
        "hidden": true,
        "id": "3fgBO-Q_UT4M"
      },
      "source": [
        "As we learned in the *How does a neural net really work* notebook, we going to want to multiply each column by some coefficients. But we can see in the `Cabin` column that there are `NaN` values, which is how Pandas refers to missing values. We can't multiply something by a missing value!\n",
        "\n",
        "Let's check which columns contain `NaN` values. Pandas' `isna()` function returns `True` (which is treated as `1` when used as a number) for `NaN` values, so we can just add them up for each column:"
      ]
    },
    {
      "cell_type": "code",
      "execution_count": 17,
      "metadata": {
        "execution": {
          "iopub.execute_input": "2022-05-30T22:34:17.955557Z",
          "iopub.status.busy": "2022-05-30T22:34:17.95524Z",
          "iopub.status.idle": "2022-05-30T22:34:17.966199Z",
          "shell.execute_reply": "2022-05-30T22:34:17.96534Z",
          "shell.execute_reply.started": "2022-05-30T22:34:17.955525Z"
        },
        "hidden": true,
        "trusted": true,
        "colab": {
          "base_uri": "https://localhost:8080/"
        },
        "id": "N0HiK3v4UT4M",
        "outputId": "4411f339-ff30-4f63-bab9-a57c50a1d8ea"
      },
      "outputs": [
        {
          "output_type": "execute_result",
          "data": {
            "text/plain": [
              "PassengerId      0\n",
              "Survived         0\n",
              "Pclass           0\n",
              "Name             0\n",
              "Sex              0\n",
              "Age            177\n",
              "SibSp            0\n",
              "Parch            0\n",
              "Ticket           0\n",
              "Fare             0\n",
              "Cabin          687\n",
              "Embarked         2\n",
              "dtype: int64"
            ]
          },
          "metadata": {},
          "execution_count": 17
        }
      ],
      "source": [
        "df.isna().sum()"
      ]
    },
    {
      "cell_type": "markdown",
      "metadata": {
        "hidden": true,
        "id": "IqCiQqLhUT4M"
      },
      "source": [
        "Notice that by default Pandas sums over columns.\n",
        "\n",
        "We'll need to replace the missing values with something. It doesn't generally matter too much what we choose. We'll use the most common value (the \"*mode*\"). We can use the `mode` function for that. One wrinkle is that it returns more than one row in the case of ties, so we just grab the first row with `iloc[0]`:"
      ]
    },
    {
      "cell_type": "code",
      "execution_count": 18,
      "metadata": {
        "execution": {
          "iopub.execute_input": "2022-05-30T22:34:18.012387Z",
          "iopub.status.busy": "2022-05-30T22:34:18.011876Z",
          "iopub.status.idle": "2022-05-30T22:34:18.030165Z",
          "shell.execute_reply": "2022-05-30T22:34:18.029316Z",
          "shell.execute_reply.started": "2022-05-30T22:34:18.012338Z"
        },
        "hidden": true,
        "trusted": true,
        "colab": {
          "base_uri": "https://localhost:8080/"
        },
        "id": "9D7oSSQEUT4M",
        "outputId": "f12241ef-fce9-4019-cbd6-0b7ad3aa8547"
      },
      "outputs": [
        {
          "output_type": "execute_result",
          "data": {
            "text/plain": [
              "PassengerId                      1\n",
              "Survived                       0.0\n",
              "Pclass                         3.0\n",
              "Name           Abbing, Mr. Anthony\n",
              "Sex                           male\n",
              "Age                           24.0\n",
              "SibSp                          0.0\n",
              "Parch                          0.0\n",
              "Ticket                        1601\n",
              "Fare                          8.05\n",
              "Cabin                      B96 B98\n",
              "Embarked                         S\n",
              "Name: 0, dtype: object"
            ]
          },
          "metadata": {},
          "execution_count": 18
        }
      ],
      "source": [
        "modes = df.mode().iloc[0]\n",
        "modes"
      ]
    },
    {
      "cell_type": "markdown",
      "metadata": {
        "hidden": true,
        "id": "wihVeliJUT4M"
      },
      "source": [
        "BTW, it's never a good idea to use functions without understanding them. So be sure to google for anything you're not familiar with. E.g if you want to learn about `iloc` (which is a very important function indeed!) then Google will give you a link to a [great tutorial](https://www.shanelynn.ie/pandas-iloc-loc-select-rows-and-columns-dataframe/).\n",
        "\n",
        "Now that we've got the mode of each column, we can use `fillna` to replace the missing values with the mode of each column. We'll do it \"in place\" -- meaning that we'll change the dataframe itself, rather than returning a new one."
      ]
    },
    {
      "cell_type": "code",
      "execution_count": 19,
      "metadata": {
        "execution": {
          "iopub.execute_input": "2022-05-30T22:34:18.069624Z",
          "iopub.status.busy": "2022-05-30T22:34:18.069123Z",
          "iopub.status.idle": "2022-05-30T22:34:18.078805Z",
          "shell.execute_reply": "2022-05-30T22:34:18.077978Z",
          "shell.execute_reply.started": "2022-05-30T22:34:18.069573Z"
        },
        "hidden": true,
        "trusted": true,
        "id": "uVKF4G7JUT4M"
      },
      "outputs": [],
      "source": [
        "df.fillna(modes, inplace=True)"
      ]
    },
    {
      "cell_type": "markdown",
      "metadata": {
        "hidden": true,
        "id": "7L8UqarpUT4M"
      },
      "source": [
        "We can now check there's no missing values left:"
      ]
    },
    {
      "cell_type": "code",
      "execution_count": 20,
      "metadata": {
        "execution": {
          "iopub.execute_input": "2022-05-30T22:34:18.139844Z",
          "iopub.status.busy": "2022-05-30T22:34:18.13936Z",
          "iopub.status.idle": "2022-05-30T22:34:18.149896Z",
          "shell.execute_reply": "2022-05-30T22:34:18.148884Z",
          "shell.execute_reply.started": "2022-05-30T22:34:18.139793Z"
        },
        "hidden": true,
        "trusted": true,
        "colab": {
          "base_uri": "https://localhost:8080/"
        },
        "id": "AYIGJQGCUT4M",
        "outputId": "9b262f3a-c014-4c3a-e186-01e5f5df8301"
      },
      "outputs": [
        {
          "output_type": "execute_result",
          "data": {
            "text/plain": [
              "PassengerId    0\n",
              "Survived       0\n",
              "Pclass         0\n",
              "Name           0\n",
              "Sex            0\n",
              "Age            0\n",
              "SibSp          0\n",
              "Parch          0\n",
              "Ticket         0\n",
              "Fare           0\n",
              "Cabin          0\n",
              "Embarked       0\n",
              "dtype: int64"
            ]
          },
          "metadata": {},
          "execution_count": 20
        }
      ],
      "source": [
        "df.isna().sum()"
      ]
    },
    {
      "cell_type": "markdown",
      "metadata": {
        "hidden": true,
        "id": "ObO52MatUT4N"
      },
      "source": [
        "Here's how we get a quick summary of all the numeric columns in the dataset:"
      ]
    },
    {
      "cell_type": "code",
      "execution_count": 21,
      "metadata": {
        "execution": {
          "iopub.execute_input": "2022-05-30T22:34:18.205953Z",
          "iopub.status.busy": "2022-05-30T22:34:18.205483Z",
          "iopub.status.idle": "2022-05-30T22:34:18.240196Z",
          "shell.execute_reply": "2022-05-30T22:34:18.239106Z",
          "shell.execute_reply.started": "2022-05-30T22:34:18.205897Z"
        },
        "hidden": true,
        "trusted": true,
        "colab": {
          "base_uri": "https://localhost:8080/",
          "height": 297
        },
        "id": "swQ7pAIuUT4N",
        "outputId": "439282c6-00b1-46e8-ac6d-170d2ee7b6e6"
      },
      "outputs": [
        {
          "output_type": "execute_result",
          "data": {
            "text/plain": [
              "       PassengerId    Survived      Pclass         Age       SibSp       Parch        Fare\n",
              "count   891.000000  891.000000  891.000000  891.000000  891.000000  891.000000  891.000000\n",
              "mean    446.000000    0.383838    2.308642   28.566970    0.523008    0.381594   32.204208\n",
              "std     257.353842    0.486592    0.836071   13.199572    1.102743    0.806057   49.693429\n",
              "min       1.000000    0.000000    1.000000    0.420000    0.000000    0.000000    0.000000\n",
              "25%     223.500000    0.000000    2.000000   22.000000    0.000000    0.000000    7.910400\n",
              "50%     446.000000    0.000000    3.000000   24.000000    0.000000    0.000000   14.454200\n",
              "75%     668.500000    1.000000    3.000000   35.000000    1.000000    0.000000   31.000000\n",
              "max     891.000000    1.000000    3.000000   80.000000    8.000000    6.000000  512.329200"
            ],
            "text/html": [
              "\n",
              "  <div id=\"df-22daf7bb-9bdd-405f-bc3f-6ac4ac8b5358\" class=\"colab-df-container\">\n",
              "    <div>\n",
              "<style scoped>\n",
              "    .dataframe tbody tr th:only-of-type {\n",
              "        vertical-align: middle;\n",
              "    }\n",
              "\n",
              "    .dataframe tbody tr th {\n",
              "        vertical-align: top;\n",
              "    }\n",
              "\n",
              "    .dataframe thead th {\n",
              "        text-align: right;\n",
              "    }\n",
              "</style>\n",
              "<table border=\"1\" class=\"dataframe\">\n",
              "  <thead>\n",
              "    <tr style=\"text-align: right;\">\n",
              "      <th></th>\n",
              "      <th>PassengerId</th>\n",
              "      <th>Survived</th>\n",
              "      <th>Pclass</th>\n",
              "      <th>Age</th>\n",
              "      <th>SibSp</th>\n",
              "      <th>Parch</th>\n",
              "      <th>Fare</th>\n",
              "    </tr>\n",
              "  </thead>\n",
              "  <tbody>\n",
              "    <tr>\n",
              "      <th>count</th>\n",
              "      <td>891.000000</td>\n",
              "      <td>891.000000</td>\n",
              "      <td>891.000000</td>\n",
              "      <td>891.000000</td>\n",
              "      <td>891.000000</td>\n",
              "      <td>891.000000</td>\n",
              "      <td>891.000000</td>\n",
              "    </tr>\n",
              "    <tr>\n",
              "      <th>mean</th>\n",
              "      <td>446.000000</td>\n",
              "      <td>0.383838</td>\n",
              "      <td>2.308642</td>\n",
              "      <td>28.566970</td>\n",
              "      <td>0.523008</td>\n",
              "      <td>0.381594</td>\n",
              "      <td>32.204208</td>\n",
              "    </tr>\n",
              "    <tr>\n",
              "      <th>std</th>\n",
              "      <td>257.353842</td>\n",
              "      <td>0.486592</td>\n",
              "      <td>0.836071</td>\n",
              "      <td>13.199572</td>\n",
              "      <td>1.102743</td>\n",
              "      <td>0.806057</td>\n",
              "      <td>49.693429</td>\n",
              "    </tr>\n",
              "    <tr>\n",
              "      <th>min</th>\n",
              "      <td>1.000000</td>\n",
              "      <td>0.000000</td>\n",
              "      <td>1.000000</td>\n",
              "      <td>0.420000</td>\n",
              "      <td>0.000000</td>\n",
              "      <td>0.000000</td>\n",
              "      <td>0.000000</td>\n",
              "    </tr>\n",
              "    <tr>\n",
              "      <th>25%</th>\n",
              "      <td>223.500000</td>\n",
              "      <td>0.000000</td>\n",
              "      <td>2.000000</td>\n",
              "      <td>22.000000</td>\n",
              "      <td>0.000000</td>\n",
              "      <td>0.000000</td>\n",
              "      <td>7.910400</td>\n",
              "    </tr>\n",
              "    <tr>\n",
              "      <th>50%</th>\n",
              "      <td>446.000000</td>\n",
              "      <td>0.000000</td>\n",
              "      <td>3.000000</td>\n",
              "      <td>24.000000</td>\n",
              "      <td>0.000000</td>\n",
              "      <td>0.000000</td>\n",
              "      <td>14.454200</td>\n",
              "    </tr>\n",
              "    <tr>\n",
              "      <th>75%</th>\n",
              "      <td>668.500000</td>\n",
              "      <td>1.000000</td>\n",
              "      <td>3.000000</td>\n",
              "      <td>35.000000</td>\n",
              "      <td>1.000000</td>\n",
              "      <td>0.000000</td>\n",
              "      <td>31.000000</td>\n",
              "    </tr>\n",
              "    <tr>\n",
              "      <th>max</th>\n",
              "      <td>891.000000</td>\n",
              "      <td>1.000000</td>\n",
              "      <td>3.000000</td>\n",
              "      <td>80.000000</td>\n",
              "      <td>8.000000</td>\n",
              "      <td>6.000000</td>\n",
              "      <td>512.329200</td>\n",
              "    </tr>\n",
              "  </tbody>\n",
              "</table>\n",
              "</div>\n",
              "    <div class=\"colab-df-buttons\">\n",
              "\n",
              "  <div class=\"colab-df-container\">\n",
              "    <button class=\"colab-df-convert\" onclick=\"convertToInteractive('df-22daf7bb-9bdd-405f-bc3f-6ac4ac8b5358')\"\n",
              "            title=\"Convert this dataframe to an interactive table.\"\n",
              "            style=\"display:none;\">\n",
              "\n",
              "  <svg xmlns=\"http://www.w3.org/2000/svg\" height=\"24px\" viewBox=\"0 -960 960 960\">\n",
              "    <path d=\"M120-120v-720h720v720H120Zm60-500h600v-160H180v160Zm220 220h160v-160H400v160Zm0 220h160v-160H400v160ZM180-400h160v-160H180v160Zm440 0h160v-160H620v160ZM180-180h160v-160H180v160Zm440 0h160v-160H620v160Z\"/>\n",
              "  </svg>\n",
              "    </button>\n",
              "\n",
              "  <style>\n",
              "    .colab-df-container {\n",
              "      display:flex;\n",
              "      gap: 12px;\n",
              "    }\n",
              "\n",
              "    .colab-df-convert {\n",
              "      background-color: #E8F0FE;\n",
              "      border: none;\n",
              "      border-radius: 50%;\n",
              "      cursor: pointer;\n",
              "      display: none;\n",
              "      fill: #1967D2;\n",
              "      height: 32px;\n",
              "      padding: 0 0 0 0;\n",
              "      width: 32px;\n",
              "    }\n",
              "\n",
              "    .colab-df-convert:hover {\n",
              "      background-color: #E2EBFA;\n",
              "      box-shadow: 0px 1px 2px rgba(60, 64, 67, 0.3), 0px 1px 3px 1px rgba(60, 64, 67, 0.15);\n",
              "      fill: #174EA6;\n",
              "    }\n",
              "\n",
              "    .colab-df-buttons div {\n",
              "      margin-bottom: 4px;\n",
              "    }\n",
              "\n",
              "    [theme=dark] .colab-df-convert {\n",
              "      background-color: #3B4455;\n",
              "      fill: #D2E3FC;\n",
              "    }\n",
              "\n",
              "    [theme=dark] .colab-df-convert:hover {\n",
              "      background-color: #434B5C;\n",
              "      box-shadow: 0px 1px 3px 1px rgba(0, 0, 0, 0.15);\n",
              "      filter: drop-shadow(0px 1px 2px rgba(0, 0, 0, 0.3));\n",
              "      fill: #FFFFFF;\n",
              "    }\n",
              "  </style>\n",
              "\n",
              "    <script>\n",
              "      const buttonEl =\n",
              "        document.querySelector('#df-22daf7bb-9bdd-405f-bc3f-6ac4ac8b5358 button.colab-df-convert');\n",
              "      buttonEl.style.display =\n",
              "        google.colab.kernel.accessAllowed ? 'block' : 'none';\n",
              "\n",
              "      async function convertToInteractive(key) {\n",
              "        const element = document.querySelector('#df-22daf7bb-9bdd-405f-bc3f-6ac4ac8b5358');\n",
              "        const dataTable =\n",
              "          await google.colab.kernel.invokeFunction('convertToInteractive',\n",
              "                                                    [key], {});\n",
              "        if (!dataTable) return;\n",
              "\n",
              "        const docLinkHtml = 'Like what you see? Visit the ' +\n",
              "          '<a target=\"_blank\" href=https://colab.research.google.com/notebooks/data_table.ipynb>data table notebook</a>'\n",
              "          + ' to learn more about interactive tables.';\n",
              "        element.innerHTML = '';\n",
              "        dataTable['output_type'] = 'display_data';\n",
              "        await google.colab.output.renderOutput(dataTable, element);\n",
              "        const docLink = document.createElement('div');\n",
              "        docLink.innerHTML = docLinkHtml;\n",
              "        element.appendChild(docLink);\n",
              "      }\n",
              "    </script>\n",
              "  </div>\n",
              "\n",
              "\n",
              "<div id=\"df-e2a69b61-96a0-42ec-ab1c-c6ef6117149c\">\n",
              "  <button class=\"colab-df-quickchart\" onclick=\"quickchart('df-e2a69b61-96a0-42ec-ab1c-c6ef6117149c')\"\n",
              "            title=\"Suggest charts\"\n",
              "            style=\"display:none;\">\n",
              "\n",
              "<svg xmlns=\"http://www.w3.org/2000/svg\" height=\"24px\"viewBox=\"0 0 24 24\"\n",
              "     width=\"24px\">\n",
              "    <g>\n",
              "        <path d=\"M19 3H5c-1.1 0-2 .9-2 2v14c0 1.1.9 2 2 2h14c1.1 0 2-.9 2-2V5c0-1.1-.9-2-2-2zM9 17H7v-7h2v7zm4 0h-2V7h2v10zm4 0h-2v-4h2v4z\"/>\n",
              "    </g>\n",
              "</svg>\n",
              "  </button>\n",
              "\n",
              "<style>\n",
              "  .colab-df-quickchart {\n",
              "      --bg-color: #E8F0FE;\n",
              "      --fill-color: #1967D2;\n",
              "      --hover-bg-color: #E2EBFA;\n",
              "      --hover-fill-color: #174EA6;\n",
              "      --disabled-fill-color: #AAA;\n",
              "      --disabled-bg-color: #DDD;\n",
              "  }\n",
              "\n",
              "  [theme=dark] .colab-df-quickchart {\n",
              "      --bg-color: #3B4455;\n",
              "      --fill-color: #D2E3FC;\n",
              "      --hover-bg-color: #434B5C;\n",
              "      --hover-fill-color: #FFFFFF;\n",
              "      --disabled-bg-color: #3B4455;\n",
              "      --disabled-fill-color: #666;\n",
              "  }\n",
              "\n",
              "  .colab-df-quickchart {\n",
              "    background-color: var(--bg-color);\n",
              "    border: none;\n",
              "    border-radius: 50%;\n",
              "    cursor: pointer;\n",
              "    display: none;\n",
              "    fill: var(--fill-color);\n",
              "    height: 32px;\n",
              "    padding: 0;\n",
              "    width: 32px;\n",
              "  }\n",
              "\n",
              "  .colab-df-quickchart:hover {\n",
              "    background-color: var(--hover-bg-color);\n",
              "    box-shadow: 0 1px 2px rgba(60, 64, 67, 0.3), 0 1px 3px 1px rgba(60, 64, 67, 0.15);\n",
              "    fill: var(--button-hover-fill-color);\n",
              "  }\n",
              "\n",
              "  .colab-df-quickchart-complete:disabled,\n",
              "  .colab-df-quickchart-complete:disabled:hover {\n",
              "    background-color: var(--disabled-bg-color);\n",
              "    fill: var(--disabled-fill-color);\n",
              "    box-shadow: none;\n",
              "  }\n",
              "\n",
              "  .colab-df-spinner {\n",
              "    border: 2px solid var(--fill-color);\n",
              "    border-color: transparent;\n",
              "    border-bottom-color: var(--fill-color);\n",
              "    animation:\n",
              "      spin 1s steps(1) infinite;\n",
              "  }\n",
              "\n",
              "  @keyframes spin {\n",
              "    0% {\n",
              "      border-color: transparent;\n",
              "      border-bottom-color: var(--fill-color);\n",
              "      border-left-color: var(--fill-color);\n",
              "    }\n",
              "    20% {\n",
              "      border-color: transparent;\n",
              "      border-left-color: var(--fill-color);\n",
              "      border-top-color: var(--fill-color);\n",
              "    }\n",
              "    30% {\n",
              "      border-color: transparent;\n",
              "      border-left-color: var(--fill-color);\n",
              "      border-top-color: var(--fill-color);\n",
              "      border-right-color: var(--fill-color);\n",
              "    }\n",
              "    40% {\n",
              "      border-color: transparent;\n",
              "      border-right-color: var(--fill-color);\n",
              "      border-top-color: var(--fill-color);\n",
              "    }\n",
              "    60% {\n",
              "      border-color: transparent;\n",
              "      border-right-color: var(--fill-color);\n",
              "    }\n",
              "    80% {\n",
              "      border-color: transparent;\n",
              "      border-right-color: var(--fill-color);\n",
              "      border-bottom-color: var(--fill-color);\n",
              "    }\n",
              "    90% {\n",
              "      border-color: transparent;\n",
              "      border-bottom-color: var(--fill-color);\n",
              "    }\n",
              "  }\n",
              "</style>\n",
              "\n",
              "  <script>\n",
              "    async function quickchart(key) {\n",
              "      const quickchartButtonEl =\n",
              "        document.querySelector('#' + key + ' button');\n",
              "      quickchartButtonEl.disabled = true;  // To prevent multiple clicks.\n",
              "      quickchartButtonEl.classList.add('colab-df-spinner');\n",
              "      try {\n",
              "        const charts = await google.colab.kernel.invokeFunction(\n",
              "            'suggestCharts', [key], {});\n",
              "      } catch (error) {\n",
              "        console.error('Error during call to suggestCharts:', error);\n",
              "      }\n",
              "      quickchartButtonEl.classList.remove('colab-df-spinner');\n",
              "      quickchartButtonEl.classList.add('colab-df-quickchart-complete');\n",
              "    }\n",
              "    (() => {\n",
              "      let quickchartButtonEl =\n",
              "        document.querySelector('#df-e2a69b61-96a0-42ec-ab1c-c6ef6117149c button');\n",
              "      quickchartButtonEl.style.display =\n",
              "        google.colab.kernel.accessAllowed ? 'block' : 'none';\n",
              "    })();\n",
              "  </script>\n",
              "</div>\n",
              "    </div>\n",
              "  </div>\n"
            ]
          },
          "metadata": {},
          "execution_count": 21
        }
      ],
      "source": [
        "import numpy as np\n",
        "\n",
        "df.describe(include=(np.number))"
      ]
    },
    {
      "cell_type": "markdown",
      "metadata": {
        "execution": {
          "iopub.execute_input": "2022-05-13T11:02:34.328433Z",
          "iopub.status.busy": "2022-05-13T11:02:34.327999Z",
          "iopub.status.idle": "2022-05-13T11:02:34.336993Z",
          "shell.execute_reply": "2022-05-13T11:02:34.335466Z",
          "shell.execute_reply.started": "2022-05-13T11:02:34.32838Z"
        },
        "hidden": true,
        "id": "kJirBIPQUT4N"
      },
      "source": [
        "We can see that `Fare` contains mainly values of around `0` to `30`, but there's a few really big ones. This is very common with fields contain monetary values, and it can cause problems for our model, because once that column is multiplied by a coefficient later, the few rows with really big values will dominate the result.\n",
        "\n",
        "You can see the issue most clearly visually by looking at a histogram, which shows a long tail to the right (and don't forget: if you're not entirely sure what a histogram is, Google \"[histogram tutorial](https://www.google.com/search?q=histogram+tutorial&oq=histogram+tutorial)\" and do a bit of reading before continuing on):"
      ]
    },
    {
      "cell_type": "code",
      "execution_count": 22,
      "metadata": {
        "execution": {
          "iopub.execute_input": "2022-05-30T22:34:18.242123Z",
          "iopub.status.busy": "2022-05-30T22:34:18.241874Z",
          "iopub.status.idle": "2022-05-30T22:34:18.471439Z",
          "shell.execute_reply": "2022-05-30T22:34:18.470441Z",
          "shell.execute_reply.started": "2022-05-30T22:34:18.242094Z"
        },
        "hidden": true,
        "trusted": true,
        "colab": {
          "base_uri": "https://localhost:8080/",
          "height": 430
        },
        "id": "hKGL2wYxUT4N",
        "outputId": "faaa48f9-d393-4c13-e6ec-51767a32e984"
      },
      "outputs": [
        {
          "output_type": "display_data",
          "data": {
            "text/plain": [
              "<Figure size 640x480 with 1 Axes>"
            ],
            "image/png": "[encoded data removed]"
          },
          "metadata": {}
        }
      ],
      "source": [
        "df['Fare'].hist();"
      ]
    },
    {
      "cell_type": "markdown",
      "metadata": {
        "execution": {
          "iopub.execute_input": "2022-05-13T11:02:34.328433Z",
          "iopub.status.busy": "2022-05-13T11:02:34.327999Z",
          "iopub.status.idle": "2022-05-13T11:02:34.336993Z",
          "shell.execute_reply": "2022-05-13T11:02:34.335466Z",
          "shell.execute_reply.started": "2022-05-13T11:02:34.32838Z"
        },
        "hidden": true,
        "id": "809mGaIxUT4N"
      },
      "source": [
        "To fix this, the most common approach is to take the logarithm, which squishes the big numbers and makes the distribution more reasonable. Note, however, that there are zeros in the `Fare` column, and `log(0)` is infinite -- to fix this, we'll simply add `1` to all values first:"
      ]
    },
    {
      "cell_type": "code",
      "execution_count": 23,
      "metadata": {
        "execution": {
          "iopub.execute_input": "2022-05-30T22:34:18.47382Z",
          "iopub.status.busy": "2022-05-30T22:34:18.473109Z",
          "iopub.status.idle": "2022-05-30T22:34:18.478776Z",
          "shell.execute_reply": "2022-05-30T22:34:18.478149Z",
          "shell.execute_reply.started": "2022-05-30T22:34:18.473778Z"
        },
        "hidden": true,
        "trusted": true,
        "id": "LE6OsQgtUT4N"
      },
      "outputs": [],
      "source": [
        "df['LogFare'] = np.log(df['Fare']+1)"
      ]
    },
    {
      "cell_type": "markdown",
      "metadata": {
        "hidden": true,
        "id": "tALJG21IUT4O"
      },
      "source": [
        "The histogram now shows a more even distribution of values without the long tail:"
      ]
    },
    {
      "cell_type": "code",
      "execution_count": 24,
      "metadata": {
        "execution": {
          "iopub.execute_input": "2022-05-30T22:34:18.480926Z",
          "iopub.status.busy": "2022-05-30T22:34:18.480088Z",
          "iopub.status.idle": "2022-05-30T22:34:18.855605Z",
          "shell.execute_reply": "2022-05-30T22:34:18.854915Z",
          "shell.execute_reply.started": "2022-05-30T22:34:18.480885Z"
        },
        "hidden": true,
        "trusted": true,
        "colab": {
          "base_uri": "https://localhost:8080/",
          "height": 430
        },
        "id": "seO752MvUT4O",
        "outputId": "d52e617d-5866-4992-87e8-f30e23b229fa"
      },
      "outputs": [
        {
          "output_type": "display_data",
          "data": {
            "text/plain": [
              "<Figure size 640x480 with 1 Axes>"
            ],
            "image/png": "[encoded data removed]"
          },
          "metadata": {}
        }
      ],
      "source": [
        "df['LogFare'].hist();"
      ]
    },
    {
      "cell_type": "markdown",
      "metadata": {
        "hidden": true,
        "id": "nGXG3Q6qUT4O"
      },
      "source": [
        "It looks from the `describe()` output like `Pclass` contains just 3 values, which we can confirm by looking at the [Data Dictionary](https://www.kaggle.com/competitions/titanic/data) (which you should always study carefully for any project!) --"
      ]
    },
    {
      "cell_type": "code",
      "execution_count": 25,
      "metadata": {
        "execution": {
          "iopub.execute_input": "2022-05-30T22:34:18.857676Z",
          "iopub.status.busy": "2022-05-30T22:34:18.857312Z",
          "iopub.status.idle": "2022-05-30T22:34:18.863672Z",
          "shell.execute_reply": "2022-05-30T22:34:18.862791Z",
          "shell.execute_reply.started": "2022-05-30T22:34:18.857643Z"
        },
        "hidden": true,
        "trusted": true,
        "colab": {
          "base_uri": "https://localhost:8080/"
        },
        "id": "DcvQOEa4UT4O",
        "outputId": "64002af6-694e-4a82-82b7-f31f2ac2cff2"
      },
      "outputs": [
        {
          "output_type": "execute_result",
          "data": {
            "text/plain": [
              "[1, 2, 3]"
            ]
          },
          "metadata": {},
          "execution_count": 25
        }
      ],
      "source": [
        "pclasses = sorted(df.Pclass.unique())\n",
        "pclasses"
      ]
    },
    {
      "cell_type": "markdown",
      "metadata": {
        "hidden": true,
        "id": "b5IXhjRHUT4O"
      },
      "source": [
        "Here's how we get a quick summary of all the non-numeric columns in the dataset:"
      ]
    },
    {
      "cell_type": "code",
      "execution_count": 27,
      "metadata": {
        "execution": {
          "iopub.execute_input": "2022-05-30T22:34:18.865154Z",
          "iopub.status.busy": "2022-05-30T22:34:18.864893Z",
          "iopub.status.idle": "2022-05-30T22:34:18.89758Z",
          "shell.execute_reply": "2022-05-30T22:34:18.896706Z",
          "shell.execute_reply.started": "2022-05-30T22:34:18.865115Z"
        },
        "hidden": true,
        "trusted": true,
        "colab": {
          "base_uri": "https://localhost:8080/",
          "height": 173
        },
        "id": "o_7MLy-2UT4O",
        "outputId": "28a8ce0b-89ad-4c31-e96d-ee6ecd669c40"
      },
      "outputs": [
        {
          "output_type": "execute_result",
          "data": {
            "text/plain": [
              "                           Name   Sex  Ticket    Cabin Embarked\n",
              "count                       891   891     891      891      891\n",
              "unique                      891     2     681      147        3\n",
              "top     Braund, Mr. Owen Harris  male  347082  B96 B98        S\n",
              "freq                          1   577       7      691      646"
            ],
            "text/html": [
              "\n",
              "  <div id=\"df-ca5ace9c-e5c8-4a49-81ff-83b99700850f\" class=\"colab-df-container\">\n",
              "    <div>\n",
              "<style scoped>\n",
              "    .dataframe tbody tr th:only-of-type {\n",
              "        vertical-align: middle;\n",
              "    }\n",
              "\n",
              "    .dataframe tbody tr th {\n",
              "        vertical-align: top;\n",
              "    }\n",
              "\n",
              "    .dataframe thead th {\n",
              "        text-align: right;\n",
              "    }\n",
              "</style>\n",
              "<table border=\"1\" class=\"dataframe\">\n",
              "  <thead>\n",
              "    <tr style=\"text-align: right;\">\n",
              "      <th></th>\n",
              "      <th>Name</th>\n",
              "      <th>Sex</th>\n",
              "      <th>Ticket</th>\n",
              "      <th>Cabin</th>\n",
              "      <th>Embarked</th>\n",
              "    </tr>\n",
              "  </thead>\n",
              "  <tbody>\n",
              "    <tr>\n",
              "      <th>count</th>\n",
              "      <td>891</td>\n",
              "      <td>891</td>\n",
              "      <td>891</td>\n",
              "      <td>891</td>\n",
              "      <td>891</td>\n",
              "    </tr>\n",
              "    <tr>\n",
              "      <th>unique</th>\n",
              "      <td>891</td>\n",
              "      <td>2</td>\n",
              "      <td>681</td>\n",
              "      <td>147</td>\n",
              "      <td>3</td>\n",
              "    </tr>\n",
              "    <tr>\n",
              "      <th>top</th>\n",
              "      <td>Braund, Mr. Owen Harris</td>\n",
              "      <td>male</td>\n",
              "      <td>347082</td>\n",
              "      <td>B96 B98</td>\n",
              "      <td>S</td>\n",
              "    </tr>\n",
              "    <tr>\n",
              "      <th>freq</th>\n",
              "      <td>1</td>\n",
              "      <td>577</td>\n",
              "      <td>7</td>\n",
              "      <td>691</td>\n",
              "      <td>646</td>\n",
              "    </tr>\n",
              "  </tbody>\n",
              "</table>\n",
              "</div>\n",
              "    <div class=\"colab-df-buttons\">\n",
              "\n",
              "  <div class=\"colab-df-container\">\n",
              "    <button class=\"colab-df-convert\" onclick=\"convertToInteractive('df-ca5ace9c-e5c8-4a49-81ff-83b99700850f')\"\n",
              "            title=\"Convert this dataframe to an interactive table.\"\n",
              "            style=\"display:none;\">\n",
              "\n",
              "  <svg xmlns=\"http://www.w3.org/2000/svg\" height=\"24px\" viewBox=\"0 -960 960 960\">\n",
              "    <path d=\"M120-120v-720h720v720H120Zm60-500h600v-160H180v160Zm220 220h160v-160H400v160Zm0 220h160v-160H400v160ZM180-400h160v-160H180v160Zm440 0h160v-160H620v160ZM180-180h160v-160H180v160Zm440 0h160v-160H620v160Z\"/>\n",
              "  </svg>\n",
              "    </button>\n",
              "\n",
              "  <style>\n",
              "    .colab-df-container {\n",
              "      display:flex;\n",
              "      gap: 12px;\n",
              "    }\n",
              "\n",
              "    .colab-df-convert {\n",
              "      background-color: #E8F0FE;\n",
              "      border: none;\n",
              "      border-radius: 50%;\n",
              "      cursor: pointer;\n",
              "      display: none;\n",
              "      fill: #1967D2;\n",
              "      height: 32px;\n",
              "      padding: 0 0 0 0;\n",
              "      width: 32px;\n",
              "    }\n",
              "\n",
              "    .colab-df-convert:hover {\n",
              "      background-color: #E2EBFA;\n",
              "      box-shadow: 0px 1px 2px rgba(60, 64, 67, 0.3), 0px 1px 3px 1px rgba(60, 64, 67, 0.15);\n",
              "      fill: #174EA6;\n",
              "    }\n",
              "\n",
              "    .colab-df-buttons div {\n",
              "      margin-bottom: 4px;\n",
              "    }\n",
              "\n",
              "    [theme=dark] .colab-df-convert {\n",
              "      background-color: #3B4455;\n",
              "      fill: #D2E3FC;\n",
              "    }\n",
              "\n",
              "    [theme=dark] .colab-df-convert:hover {\n",
              "      background-color: #434B5C;\n",
              "      box-shadow: 0px 1px 3px 1px rgba(0, 0, 0, 0.15);\n",
              "      filter: drop-shadow(0px 1px 2px rgba(0, 0, 0, 0.3));\n",
              "      fill: #FFFFFF;\n",
              "    }\n",
              "  </style>\n",
              "\n",
              "    <script>\n",
              "      const buttonEl =\n",
              "        document.querySelector('#df-ca5ace9c-e5c8-4a49-81ff-83b99700850f button.colab-df-convert');\n",
              "      buttonEl.style.display =\n",
              "        google.colab.kernel.accessAllowed ? 'block' : 'none';\n",
              "\n",
              "      async function convertToInteractive(key) {\n",
              "        const element = document.querySelector('#df-ca5ace9c-e5c8-4a49-81ff-83b99700850f');\n",
              "        const dataTable =\n",
              "          await google.colab.kernel.invokeFunction('convertToInteractive',\n",
              "                                                    [key], {});\n",
              "        if (!dataTable) return;\n",
              "\n",
              "        const docLinkHtml = 'Like what you see? Visit the ' +\n",
              "          '<a target=\"_blank\" href=https://colab.research.google.com/notebooks/data_table.ipynb>data table notebook</a>'\n",
              "          + ' to learn more about interactive tables.';\n",
              "        element.innerHTML = '';\n",
              "        dataTable['output_type'] = 'display_data';\n",
              "        await google.colab.output.renderOutput(dataTable, element);\n",
              "        const docLink = document.createElement('div');\n",
              "        docLink.innerHTML = docLinkHtml;\n",
              "        element.appendChild(docLink);\n",
              "      }\n",
              "    </script>\n",
              "  </div>\n",
              "\n",
              "\n",
              "<div id=\"df-f1dc412d-d5f5-4bf9-9734-a7be1af0cb64\">\n",
              "  <button class=\"colab-df-quickchart\" onclick=\"quickchart('df-f1dc412d-d5f5-4bf9-9734-a7be1af0cb64')\"\n",
              "            title=\"Suggest charts\"\n",
              "            style=\"display:none;\">\n",
              "\n",
              "<svg xmlns=\"http://www.w3.org/2000/svg\" height=\"24px\"viewBox=\"0 0 24 24\"\n",
              "     width=\"24px\">\n",
              "    <g>\n",
              "        <path d=\"M19 3H5c-1.1 0-2 .9-2 2v14c0 1.1.9 2 2 2h14c1.1 0 2-.9 2-2V5c0-1.1-.9-2-2-2zM9 17H7v-7h2v7zm4 0h-2V7h2v10zm4 0h-2v-4h2v4z\"/>\n",
              "    </g>\n",
              "</svg>\n",
              "  </button>\n",
              "\n",
              "<style>\n",
              "  .colab-df-quickchart {\n",
              "      --bg-color: #E8F0FE;\n",
              "      --fill-color: #1967D2;\n",
              "      --hover-bg-color: #E2EBFA;\n",
              "      --hover-fill-color: #174EA6;\n",
              "      --disabled-fill-color: #AAA;\n",
              "      --disabled-bg-color: #DDD;\n",
              "  }\n",
              "\n",
              "  [theme=dark] .colab-df-quickchart {\n",
              "      --bg-color: #3B4455;\n",
              "      --fill-color: #D2E3FC;\n",
              "      --hover-bg-color: #434B5C;\n",
              "      --hover-fill-color: #FFFFFF;\n",
              "      --disabled-bg-color: #3B4455;\n",
              "      --disabled-fill-color: #666;\n",
              "  }\n",
              "\n",
              "  .colab-df-quickchart {\n",
              "    background-color: var(--bg-color);\n",
              "    border: none;\n",
              "    border-radius: 50%;\n",
              "    cursor: pointer;\n",
              "    display: none;\n",
              "    fill: var(--fill-color);\n",
              "    height: 32px;\n",
              "    padding: 0;\n",
              "    width: 32px;\n",
              "  }\n",
              "\n",
              "  .colab-df-quickchart:hover {\n",
              "    background-color: var(--hover-bg-color);\n",
              "    box-shadow: 0 1px 2px rgba(60, 64, 67, 0.3), 0 1px 3px 1px rgba(60, 64, 67, 0.15);\n",
              "    fill: var(--button-hover-fill-color);\n",
              "  }\n",
              "\n",
              "  .colab-df-quickchart-complete:disabled,\n",
              "  .colab-df-quickchart-complete:disabled:hover {\n",
              "    background-color: var(--disabled-bg-color);\n",
              "    fill: var(--disabled-fill-color);\n",
              "    box-shadow: none;\n",
              "  }\n",
              "\n",
              "  .colab-df-spinner {\n",
              "    border: 2px solid var(--fill-color);\n",
              "    border-color: transparent;\n",
              "    border-bottom-color: var(--fill-color);\n",
              "    animation:\n",
              "      spin 1s steps(1) infinite;\n",
              "  }\n",
              "\n",
              "  @keyframes spin {\n",
              "    0% {\n",
              "      border-color: transparent;\n",
              "      border-bottom-color: var(--fill-color);\n",
              "      border-left-color: var(--fill-color);\n",
              "    }\n",
              "    20% {\n",
              "      border-color: transparent;\n",
              "      border-left-color: var(--fill-color);\n",
              "      border-top-color: var(--fill-color);\n",
              "    }\n",
              "    30% {\n",
              "      border-color: transparent;\n",
              "      border-left-color: var(--fill-color);\n",
              "      border-top-color: var(--fill-color);\n",
              "      border-right-color: var(--fill-color);\n",
              "    }\n",
              "    40% {\n",
              "      border-color: transparent;\n",
              "      border-right-color: var(--fill-color);\n",
              "      border-top-color: var(--fill-color);\n",
              "    }\n",
              "    60% {\n",
              "      border-color: transparent;\n",
              "      border-right-color: var(--fill-color);\n",
              "    }\n",
              "    80% {\n",
              "      border-color: transparent;\n",
              "      border-right-color: var(--fill-color);\n",
              "      border-bottom-color: var(--fill-color);\n",
              "    }\n",
              "    90% {\n",
              "      border-color: transparent;\n",
              "      border-bottom-color: var(--fill-color);\n",
              "    }\n",
              "  }\n",
              "</style>\n",
              "\n",
              "  <script>\n",
              "    async function quickchart(key) {\n",
              "      const quickchartButtonEl =\n",
              "        document.querySelector('#' + key + ' button');\n",
              "      quickchartButtonEl.disabled = true;  // To prevent multiple clicks.\n",
              "      quickchartButtonEl.classList.add('colab-df-spinner');\n",
              "      try {\n",
              "        const charts = await google.colab.kernel.invokeFunction(\n",
              "            'suggestCharts', [key], {});\n",
              "      } catch (error) {\n",
              "        console.error('Error during call to suggestCharts:', error);\n",
              "      }\n",
              "      quickchartButtonEl.classList.remove('colab-df-spinner');\n",
              "      quickchartButtonEl.classList.add('colab-df-quickchart-complete');\n",
              "    }\n",
              "    (() => {\n",
              "      let quickchartButtonEl =\n",
              "        document.querySelector('#df-f1dc412d-d5f5-4bf9-9734-a7be1af0cb64 button');\n",
              "      quickchartButtonEl.style.display =\n",
              "        google.colab.kernel.accessAllowed ? 'block' : 'none';\n",
              "    })();\n",
              "  </script>\n",
              "</div>\n",
              "    </div>\n",
              "  </div>\n"
            ]
          },
          "metadata": {},
          "execution_count": 27
        }
      ],
      "source": [
        "df.describe(include=[object])"
      ]
    },
    {
      "cell_type": "markdown",
      "metadata": {
        "hidden": true,
        "id": "3gkP4lhcUT4O"
      },
      "source": [
        "Clearly we can't multiply strings like `male` or `S` by coefficients, so we need to replace those with numbers.\n",
        "\n",
        "We do that by creating new columns containing *dummy variables*. A dummy variable is a column that contains a `1` where a particular column contains a particular value, or a `0` otherwise. For instance, we could create a dummy variable for `Sex='male'`, which would be a new column containing `1` for rows where `Sex` is `'male'`, and 0 for rows where it isn't.\n",
        "\n",
        "Pandas can create these automatically using `get_dummies`, which also remove the original columns. We'll create dummy variables for `Pclass`, even although it's numeric, since the numbers `1`, `2`, and `3` correspond to first, second, and third class cabins - not to counts or measures that make sense to multiply by. We'll also create dummies for `Sex` and `Embarked` since we'll want to use those as predictors in our model. On the other hand, `Cabin`, `Name`, and `Ticket` have too many unique values for it to make sense creating dummy variables for them."
      ]
    },
    {
      "cell_type": "code",
      "execution_count": 28,
      "metadata": {
        "execution": {
          "iopub.execute_input": "2022-05-30T22:34:18.899369Z",
          "iopub.status.busy": "2022-05-30T22:34:18.899127Z",
          "iopub.status.idle": "2022-05-30T22:34:18.914993Z",
          "shell.execute_reply": "2022-05-30T22:34:18.914167Z",
          "shell.execute_reply.started": "2022-05-30T22:34:18.899338Z"
        },
        "hidden": true,
        "trusted": true,
        "colab": {
          "base_uri": "https://localhost:8080/"
        },
        "id": "aWQ8K0miUT4O",
        "outputId": "132bad38-7429-4ea4-d7bc-758b774957d8"
      },
      "outputs": [
        {
          "output_type": "execute_result",
          "data": {
            "text/plain": [
              "Index(['PassengerId', 'Survived', 'Name', 'Age', 'SibSp', 'Parch', 'Ticket', 'Fare', 'Cabin', 'LogFare', 'Sex_female', 'Sex_male',\n",
              "       'Pclass_1', 'Pclass_2', 'Pclass_3', 'Embarked_C', 'Embarked_Q', 'Embarked_S'],\n",
              "      dtype='object')"
            ]
          },
          "metadata": {},
          "execution_count": 28
        }
      ],
      "source": [
        "df = pd.get_dummies(df, columns=[\"Sex\",\"Pclass\",\"Embarked\"])\n",
        "df.columns"
      ]
    },
    {
      "cell_type": "markdown",
      "metadata": {
        "hidden": true,
        "id": "GKUCa659UT4O"
      },
      "source": [
        "We can see that 5 columns have been added to the end -- one for each of the possible values of each of the three columns we requested, and that those three requested columns have been removed.\n",
        "\n",
        "Here's what the first few rows of those newly added columns look like:"
      ]
    },
    {
      "cell_type": "code",
      "execution_count": 29,
      "metadata": {
        "execution": {
          "iopub.execute_input": "2022-05-30T22:34:18.916456Z",
          "iopub.status.busy": "2022-05-30T22:34:18.916186Z",
          "iopub.status.idle": "2022-05-30T22:34:18.933746Z",
          "shell.execute_reply": "2022-05-30T22:34:18.933135Z",
          "shell.execute_reply.started": "2022-05-30T22:34:18.916426Z"
        },
        "hidden": true,
        "trusted": true,
        "colab": {
          "base_uri": "https://localhost:8080/",
          "height": 224
        },
        "id": "0MsKYj8fUT4P",
        "outputId": "00909229-deac-43cb-8dff-d6ffa8ecf947"
      },
      "outputs": [
        {
          "output_type": "execute_result",
          "data": {
            "text/plain": [
              "   Sex_male  Sex_female  Pclass_1  Pclass_2  Pclass_3  Embarked_C  Embarked_Q  Embarked_S\n",
              "0         1           0         0         0         1           0           0           1\n",
              "1         0           1         1         0         0           1           0           0\n",
              "2         0           1         0         0         1           0           0           1\n",
              "3         0           1         1         0         0           0           0           1\n",
              "4         1           0         0         0         1           0           0           1"
            ],
            "text/html": [
              "\n",
              "  <div id=\"df-14aaab06-0972-4b29-949a-3460c3546b66\" class=\"colab-df-container\">\n",
              "    <div>\n",
              "<style scoped>\n",
              "    .dataframe tbody tr th:only-of-type {\n",
              "        vertical-align: middle;\n",
              "    }\n",
              "\n",
              "    .dataframe tbody tr th {\n",
              "        vertical-align: top;\n",
              "    }\n",
              "\n",
              "    .dataframe thead th {\n",
              "        text-align: right;\n",
              "    }\n",
              "</style>\n",
              "<table border=\"1\" class=\"dataframe\">\n",
              "  <thead>\n",
              "    <tr style=\"text-align: right;\">\n",
              "      <th></th>\n",
              "      <th>Sex_male</th>\n",
              "      <th>Sex_female</th>\n",
              "      <th>Pclass_1</th>\n",
              "      <th>Pclass_2</th>\n",
              "      <th>Pclass_3</th>\n",
              "      <th>Embarked_C</th>\n",
              "      <th>Embarked_Q</th>\n",
              "      <th>Embarked_S</th>\n",
              "    </tr>\n",
              "  </thead>\n",
              "  <tbody>\n",
              "    <tr>\n",
              "      <th>0</th>\n",
              "      <td>1</td>\n",
              "      <td>0</td>\n",
              "      <td>0</td>\n",
              "      <td>0</td>\n",
              "      <td>1</td>\n",
              "      <td>0</td>\n",
              "      <td>0</td>\n",
              "      <td>1</td>\n",
              "    </tr>\n",
              "    <tr>\n",
              "      <th>1</th>\n",
              "      <td>0</td>\n",
              "      <td>1</td>\n",
              "      <td>1</td>\n",
              "      <td>0</td>\n",
              "      <td>0</td>\n",
              "      <td>1</td>\n",
              "      <td>0</td>\n",
              "      <td>0</td>\n",
              "    </tr>\n",
              "    <tr>\n",
              "      <th>2</th>\n",
              "      <td>0</td>\n",
              "      <td>1</td>\n",
              "      <td>0</td>\n",
              "      <td>0</td>\n",
              "      <td>1</td>\n",
              "      <td>0</td>\n",
              "      <td>0</td>\n",
              "      <td>1</td>\n",
              "    </tr>\n",
              "    <tr>\n",
              "      <th>3</th>\n",
              "      <td>0</td>\n",
              "      <td>1</td>\n",
              "      <td>1</td>\n",
              "      <td>0</td>\n",
              "      <td>0</td>\n",
              "      <td>0</td>\n",
              "      <td>0</td>\n",
              "      <td>1</td>\n",
              "    </tr>\n",
              "    <tr>\n",
              "      <th>4</th>\n",
              "      <td>1</td>\n",
              "      <td>0</td>\n",
              "      <td>0</td>\n",
              "      <td>0</td>\n",
              "      <td>1</td>\n",
              "      <td>0</td>\n",
              "      <td>0</td>\n",
              "      <td>1</td>\n",
              "    </tr>\n",
              "  </tbody>\n",
              "</table>\n",
              "</div>\n",
              "    <div class=\"colab-df-buttons\">\n",
              "\n",
              "  <div class=\"colab-df-container\">\n",
              "    <button class=\"colab-df-convert\" onclick=\"convertToInteractive('df-14aaab06-0972-4b29-949a-3460c3546b66')\"\n",
              "            title=\"Convert this dataframe to an interactive table.\"\n",
              "            style=\"display:none;\">\n",
              "\n",
              "  <svg xmlns=\"http://www.w3.org/2000/svg\" height=\"24px\" viewBox=\"0 -960 960 960\">\n",
              "    <path d=\"M120-120v-720h720v720H120Zm60-500h600v-160H180v160Zm220 220h160v-160H400v160Zm0 220h160v-160H400v160ZM180-400h160v-160H180v160Zm440 0h160v-160H620v160ZM180-180h160v-160H180v160Zm440 0h160v-160H620v160Z\"/>\n",
              "  </svg>\n",
              "    </button>\n",
              "\n",
              "  <style>\n",
              "    .colab-df-container {\n",
              "      display:flex;\n",
              "      gap: 12px;\n",
              "    }\n",
              "\n",
              "    .colab-df-convert {\n",
              "      background-color: #E8F0FE;\n",
              "      border: none;\n",
              "      border-radius: 50%;\n",
              "      cursor: pointer;\n",
              "      display: none;\n",
              "      fill: #1967D2;\n",
              "      height: 32px;\n",
              "      padding: 0 0 0 0;\n",
              "      width: 32px;\n",
              "    }\n",
              "\n",
              "    .colab-df-convert:hover {\n",
              "      background-color: #E2EBFA;\n",
              "      box-shadow: 0px 1px 2px rgba(60, 64, 67, 0.3), 0px 1px 3px 1px rgba(60, 64, 67, 0.15);\n",
              "      fill: #174EA6;\n",
              "    }\n",
              "\n",
              "    .colab-df-buttons div {\n",
              "      margin-bottom: 4px;\n",
              "    }\n",
              "\n",
              "    [theme=dark] .colab-df-convert {\n",
              "      background-color: #3B4455;\n",
              "      fill: #D2E3FC;\n",
              "    }\n",
              "\n",
              "    [theme=dark] .colab-df-convert:hover {\n",
              "      background-color: #434B5C;\n",
              "      box-shadow: 0px 1px 3px 1px rgba(0, 0, 0, 0.15);\n",
              "      filter: drop-shadow(0px 1px 2px rgba(0, 0, 0, 0.3));\n",
              "      fill: #FFFFFF;\n",
              "    }\n",
              "  </style>\n",
              "\n",
              "    <script>\n",
              "      const buttonEl =\n",
              "        document.querySelector('#df-14aaab06-0972-4b29-949a-3460c3546b66 button.colab-df-convert');\n",
              "      buttonEl.style.display =\n",
              "        google.colab.kernel.accessAllowed ? 'block' : 'none';\n",
              "\n",
              "      async function convertToInteractive(key) {\n",
              "        const element = document.querySelector('#df-14aaab06-0972-4b29-949a-3460c3546b66');\n",
              "        const dataTable =\n",
              "          await google.colab.kernel.invokeFunction('convertToInteractive',\n",
              "                                                    [key], {});\n",
              "        if (!dataTable) return;\n",
              "\n",
              "        const docLinkHtml = 'Like what you see? Visit the ' +\n",
              "          '<a target=\"_blank\" href=https://colab.research.google.com/notebooks/data_table.ipynb>data table notebook</a>'\n",
              "          + ' to learn more about interactive tables.';\n",
              "        element.innerHTML = '';\n",
              "        dataTable['output_type'] = 'display_data';\n",
              "        await google.colab.output.renderOutput(dataTable, element);\n",
              "        const docLink = document.createElement('div');\n",
              "        docLink.innerHTML = docLinkHtml;\n",
              "        element.appendChild(docLink);\n",
              "      }\n",
              "    </script>\n",
              "  </div>\n",
              "\n",
              "\n",
              "<div id=\"df-70c6d20e-d9d6-427f-aefa-2c48b1aa9029\">\n",
              "  <button class=\"colab-df-quickchart\" onclick=\"quickchart('df-70c6d20e-d9d6-427f-aefa-2c48b1aa9029')\"\n",
              "            title=\"Suggest charts\"\n",
              "            style=\"display:none;\">\n",
              "\n",
              "<svg xmlns=\"http://www.w3.org/2000/svg\" height=\"24px\"viewBox=\"0 0 24 24\"\n",
              "     width=\"24px\">\n",
              "    <g>\n",
              "        <path d=\"M19 3H5c-1.1 0-2 .9-2 2v14c0 1.1.9 2 2 2h14c1.1 0 2-.9 2-2V5c0-1.1-.9-2-2-2zM9 17H7v-7h2v7zm4 0h-2V7h2v10zm4 0h-2v-4h2v4z\"/>\n",
              "    </g>\n",
              "</svg>\n",
              "  </button>\n",
              "\n",
              "<style>\n",
              "  .colab-df-quickchart {\n",
              "      --bg-color: #E8F0FE;\n",
              "      --fill-color: #1967D2;\n",
              "      --hover-bg-color: #E2EBFA;\n",
              "      --hover-fill-color: #174EA6;\n",
              "      --disabled-fill-color: #AAA;\n",
              "      --disabled-bg-color: #DDD;\n",
              "  }\n",
              "\n",
              "  [theme=dark] .colab-df-quickchart {\n",
              "      --bg-color: #3B4455;\n",
              "      --fill-color: #D2E3FC;\n",
              "      --hover-bg-color: #434B5C;\n",
              "      --hover-fill-color: #FFFFFF;\n",
              "      --disabled-bg-color: #3B4455;\n",
              "      --disabled-fill-color: #666;\n",
              "  }\n",
              "\n",
              "  .colab-df-quickchart {\n",
              "    background-color: var(--bg-color);\n",
              "    border: none;\n",
              "    border-radius: 50%;\n",
              "    cursor: pointer;\n",
              "    display: none;\n",
              "    fill: var(--fill-color);\n",
              "    height: 32px;\n",
              "    padding: 0;\n",
              "    width: 32px;\n",
              "  }\n",
              "\n",
              "  .colab-df-quickchart:hover {\n",
              "    background-color: var(--hover-bg-color);\n",
              "    box-shadow: 0 1px 2px rgba(60, 64, 67, 0.3), 0 1px 3px 1px rgba(60, 64, 67, 0.15);\n",
              "    fill: var(--button-hover-fill-color);\n",
              "  }\n",
              "\n",
              "  .colab-df-quickchart-complete:disabled,\n",
              "  .colab-df-quickchart-complete:disabled:hover {\n",
              "    background-color: var(--disabled-bg-color);\n",
              "    fill: var(--disabled-fill-color);\n",
              "    box-shadow: none;\n",
              "  }\n",
              "\n",
              "  .colab-df-spinner {\n",
              "    border: 2px solid var(--fill-color);\n",
              "    border-color: transparent;\n",
              "    border-bottom-color: var(--fill-color);\n",
              "    animation:\n",
              "      spin 1s steps(1) infinite;\n",
              "  }\n",
              "\n",
              "  @keyframes spin {\n",
              "    0% {\n",
              "      border-color: transparent;\n",
              "      border-bottom-color: var(--fill-color);\n",
              "      border-left-color: var(--fill-color);\n",
              "    }\n",
              "    20% {\n",
              "      border-color: transparent;\n",
              "      border-left-color: var(--fill-color);\n",
              "      border-top-color: var(--fill-color);\n",
              "    }\n",
              "    30% {\n",
              "      border-color: transparent;\n",
              "      border-left-color: var(--fill-color);\n",
              "      border-top-color: var(--fill-color);\n",
              "      border-right-color: var(--fill-color);\n",
              "    }\n",
              "    40% {\n",
              "      border-color: transparent;\n",
              "      border-right-color: var(--fill-color);\n",
              "      border-top-color: var(--fill-color);\n",
              "    }\n",
              "    60% {\n",
              "      border-color: transparent;\n",
              "      border-right-color: var(--fill-color);\n",
              "    }\n",
              "    80% {\n",
              "      border-color: transparent;\n",
              "      border-right-color: var(--fill-color);\n",
              "      border-bottom-color: var(--fill-color);\n",
              "    }\n",
              "    90% {\n",
              "      border-color: transparent;\n",
              "      border-bottom-color: var(--fill-color);\n",
              "    }\n",
              "  }\n",
              "</style>\n",
              "\n",
              "  <script>\n",
              "    async function quickchart(key) {\n",
              "      const quickchartButtonEl =\n",
              "        document.querySelector('#' + key + ' button');\n",
              "      quickchartButtonEl.disabled = true;  // To prevent multiple clicks.\n",
              "      quickchartButtonEl.classList.add('colab-df-spinner');\n",
              "      try {\n",
              "        const charts = await google.colab.kernel.invokeFunction(\n",
              "            'suggestCharts', [key], {});\n",
              "      } catch (error) {\n",
              "        console.error('Error during call to suggestCharts:', error);\n",
              "      }\n",
              "      quickchartButtonEl.classList.remove('colab-df-spinner');\n",
              "      quickchartButtonEl.classList.add('colab-df-quickchart-complete');\n",
              "    }\n",
              "    (() => {\n",
              "      let quickchartButtonEl =\n",
              "        document.querySelector('#df-70c6d20e-d9d6-427f-aefa-2c48b1aa9029 button');\n",
              "      quickchartButtonEl.style.display =\n",
              "        google.colab.kernel.accessAllowed ? 'block' : 'none';\n",
              "    })();\n",
              "  </script>\n",
              "</div>\n",
              "    </div>\n",
              "  </div>\n"
            ]
          },
          "metadata": {},
          "execution_count": 29
        }
      ],
      "source": [
        "added_cols = ['Sex_male', 'Sex_female', 'Pclass_1', 'Pclass_2', 'Pclass_3', 'Embarked_C', 'Embarked_Q', 'Embarked_S']\n",
        "df[added_cols].head()"
      ]
    },
    {
      "cell_type": "markdown",
      "metadata": {
        "hidden": true,
        "id": "-hN8qa2ZUT4P"
      },
      "source": [
        "Now we can create our independent (predictors) and dependent (target) variables. They both need to be PyTorch tensors. Our dependent variable is `Survived`:"
      ]
    },
    {
      "cell_type": "code",
      "execution_count": 30,
      "metadata": {
        "execution": {
          "iopub.execute_input": "2022-05-30T22:34:18.935422Z",
          "iopub.status.busy": "2022-05-30T22:34:18.934648Z",
          "iopub.status.idle": "2022-05-30T22:34:18.944596Z",
          "shell.execute_reply": "2022-05-30T22:34:18.943444Z",
          "shell.execute_reply.started": "2022-05-30T22:34:18.935384Z"
        },
        "hidden": true,
        "trusted": true,
        "id": "dJSw-YJxUT4P"
      },
      "outputs": [],
      "source": [
        "from torch import tensor\n",
        "\n",
        "t_dep = tensor(df.Survived)"
      ]
    },
    {
      "cell_type": "code",
      "source": [
        "t_dep"
      ],
      "metadata": {
        "colab": {
          "base_uri": "https://localhost:8080/"
        },
        "id": "Pw0lCrlNmFYO",
        "outputId": "70d3d464-1f14-4856-b80d-a10fa41c2489"
      },
      "execution_count": 32,
      "outputs": [
        {
          "output_type": "execute_result",
          "data": {
            "text/plain": [
              "tensor([0, 1, 1, 1, 0, 0, 0, 0, 1, 1, 1, 1, 0, 0, 0, 1, 0, 1, 0, 1, 0, 1, 1, 1, 0, 1, 0, 0, 1, 0, 0, 1, 1, 0, 0, 0, 1, 0, 0, 1, 0, 0, 0, 1,\n",
              "        1, 0, 0, 1, 0, 0, 0, 0, 1, 1, 0, 1, 1, 0, 1, 0, 0, 1, 0, 0, 0, 1, 1, 0, 1, 0, 0, 0, 0, 0, 1, 0, 0, 0, 1, 1, 0, 1, 1, 0, 1, 1, 0, 0,\n",
              "        1, 0, 0, 0, 0, 0, 0, 0, 0, 1, 1, 0, 0, 0, 0, 0, 0, 0, 1, 1, 0, 1, 0, 0, 0, 0, 0, 0, 0, 0, 0, 0, 0, 0, 0, 1, 0, 1, 0, 1, 1, 0, 0, 0,\n",
              "        0, 1, 0, 0, 1, 0, 0, 0, 0, 1, 1, 0, 0, 0, 1, 0, 0, 0, 0, 1, 0, 0, 0, 0, 1, 0, 0, 0, 0, 1, 0, 0, 0, 1, 1, 0, 0, 0, 0, 0, 1, 0, 0, 0,\n",
              "        0, 0, 0, 0, 0, 0, 0, 1, 1, 0, 1, 1, 0, 0, 1, 0, 1, 1, 1, 1, 0, 0, 1, 0, 0, 0, 0, 0, 1, 0, 0, 1, 1, 1, 0, 1, 0, 0, 0, 1, 1, 0, 1, 0,\n",
              "        1, 0, 0, 0, 1, 0, 1, 0, 0, 0, 1, 0, 0, 1, 0, 0, 0, 1, 0, 0, 0, 1, 0, 0, 0, 0, 0, 1, 1, 0, 0, 0, 0, 0, 0, 1, 1, 1, 1, 1, 0, 1, 0, 0,\n",
              "        0, 0, 0, 1, 1, 1, 0, 1, 1, 0, 1, 1, 0, 0, 0, 1, 0, 0, 0, 1, 0, 0, 1, 0, 1, 1, 1, 1, 0, 0, 0, 0, 0, 0, 1, 1, 1, 1, 0, 1, 0, 1, 1, 1,\n",
              "        0, 1, 1, 1, 0, 0, 0, 1, 1, 0, 1, 1, 0, 0, 1, 1, 0, 1, 0, 1, 1, 1, 1, 0, 0, 0, 1, 0, 0, 1, 1, 0, 1, 1, 0, 0, 0, 1, 1, 1, 1, 0, 0, 0,\n",
              "        0, 0, 0, 0, 1, 0, 1, 1, 0, 0, 0, 0, 0, 0, 1, 1, 1, 1, 1, 0, 0, 0, 0, 1, 1, 0, 0, 0, 1, 1, 0, 1, 0, 0, 0, 1, 0, 1, 1, 1, 0, 1, 1, 0,\n",
              "        0, 0, 0, 1, 1, 0, 0, 0, 0, 0, 0, 1, 0, 0, 0, 0, 1, 0, 1, 0, 1, 1, 0, 0, 0, 0, 0, 0, 0, 0, 1, 1, 0, 1, 1, 1, 1, 0, 0, 1, 0, 1, 0, 0,\n",
              "        1, 0, 0, 1, 1, 1, 1, 1, 1, 1, 0, 0, 0, 1, 0, 1, 0, 1, 1, 0, 1, 0, 0, 0, 0, 0, 0, 0, 0, 1, 0, 0, 1, 1, 0, 0, 0, 0, 0, 1, 0, 0, 0, 1,\n",
              "        1, 0, 1, 0, 0, 1, 0, 0, 0, 0, 0, 0, 1, 0, 0, 0, 0, 0, 0, 0, 1, 0, 1, 1, 0, 1, 1, 0, 1, 1, 0, 0, 1, 0, 1, 0, 1, 0, 0, 1, 0, 0, 1, 0,\n",
              "        0, 0, 1, 0, 0, 1, 0, 1, 0, 1, 0, 1, 1, 0, 0, 1, 0, 0, 1, 1, 0, 1, 1, 0, 0, 1, 1, 0, 1, 0, 1, 1, 0, 0, 0, 0, 0, 0, 0, 0, 0, 1, 1, 1,\n",
              "        1, 1, 0, 0, 1, 1, 0, 1, 1, 1, 0, 0, 0, 1, 0, 1, 0, 0, 0, 1, 0, 0, 0, 0, 1, 0, 0, 1, 1, 0, 0, 0, 1, 0, 0, 1, 1, 1, 0, 0, 1, 0, 0, 1,\n",
              "        0, 0, 1, 0, 0, 1, 1, 0, 0, 0, 0, 1, 0, 0, 1, 0, 1, 0, 0, 1, 0, 0, 0, 0, 0, 1, 0, 1, 1, 1, 0, 1, 0, 1, 0, 1, 0, 1, 0, 0, 0, 0, 0, 0,\n",
              "        1, 0, 0, 0, 1, 0, 0, 0, 0, 1, 1, 0, 0, 1, 0, 0, 0, 1, 0, 1, 0, 1, 0, 0, 0, 0, 0, 0, 0, 1, 1, 1, 1, 0, 0, 0, 0, 1, 0, 0, 1, 1, 0, 0,\n",
              "        0, 0, 1, 1, 1, 1, 1, 0, 1, 0, 0, 0, 1, 1, 0, 0, 1, 0, 0, 0, 1, 0, 1, 1, 0, 0, 1, 0, 0, 0, 0, 0, 0, 1, 0, 0, 1, 0, 1, 0, 1, 0, 0, 1,\n",
              "        0, 0, 1, 1, 0, 0, 1, 1, 0, 0, 0, 1, 0, 0, 1, 1, 0, 1, 0, 0, 0, 0, 0, 0, 0, 0, 1, 0, 0, 1, 0, 1, 1, 1, 0, 0, 0, 0, 1, 0, 1, 0, 0, 0,\n",
              "        0, 0, 0, 0, 1, 1, 0, 0, 0, 1, 1, 1, 1, 0, 0, 0, 0, 1, 0, 0, 0, 0, 0, 0, 0, 0, 0, 0, 1, 1, 0, 1, 0, 0, 0, 1, 1, 1, 1, 1, 0, 0, 0, 1,\n",
              "        0, 0, 1, 1, 0, 0, 1, 0, 0, 0, 0, 0, 0, 1, 0, 0, 0, 1, 0, 1, 1, 1, 1, 0, 0, 0, 1, 0, 0, 1, 1, 0, 0, 1, 0, 1, 0, 0, 1, 1, 0, 0, 0, 1,\n",
              "        1, 0, 0, 0, 0, 0, 0, 1, 0, 1, 0])"
            ]
          },
          "metadata": {},
          "execution_count": 32
        }
      ]
    },
    {
      "cell_type": "markdown",
      "metadata": {
        "hidden": true,
        "id": "fz71K91yUT4P"
      },
      "source": [
        "Our independent variables are all the continuous variables of interest plus all the dummy variables we just created:"
      ]
    },
    {
      "cell_type": "code",
      "execution_count": 33,
      "metadata": {
        "execution": {
          "iopub.execute_input": "2022-05-30T22:34:18.946772Z",
          "iopub.status.busy": "2022-05-30T22:34:18.94652Z",
          "iopub.status.idle": "2022-05-30T22:34:18.96487Z",
          "shell.execute_reply": "2022-05-30T22:34:18.963667Z",
          "shell.execute_reply.started": "2022-05-30T22:34:18.946741Z"
        },
        "hidden": true,
        "trusted": true,
        "colab": {
          "base_uri": "https://localhost:8080/"
        },
        "id": "-RKsI-dcUT4Q",
        "outputId": "960d9818-f343-4561-c759-7d370193f088"
      },
      "outputs": [
        {
          "output_type": "execute_result",
          "data": {
            "text/plain": [
              "tensor([[22.0000,  1.0000,  0.0000,  2.1102,  1.0000,  0.0000,  0.0000,  0.0000,  1.0000,  0.0000,  0.0000,  1.0000],\n",
              "        [38.0000,  1.0000,  0.0000,  4.2806,  0.0000,  1.0000,  1.0000,  0.0000,  0.0000,  1.0000,  0.0000,  0.0000],\n",
              "        [26.0000,  0.0000,  0.0000,  2.1889,  0.0000,  1.0000,  0.0000,  0.0000,  1.0000,  0.0000,  0.0000,  1.0000],\n",
              "        [35.0000,  1.0000,  0.0000,  3.9908,  0.0000,  1.0000,  1.0000,  0.0000,  0.0000,  0.0000,  0.0000,  1.0000],\n",
              "        [35.0000,  0.0000,  0.0000,  2.2028,  1.0000,  0.0000,  0.0000,  0.0000,  1.0000,  0.0000,  0.0000,  1.0000],\n",
              "        [24.0000,  0.0000,  0.0000,  2.2469,  1.0000,  0.0000,  0.0000,  0.0000,  1.0000,  0.0000,  1.0000,  0.0000],\n",
              "        [54.0000,  0.0000,  0.0000,  3.9677,  1.0000,  0.0000,  1.0000,  0.0000,  0.0000,  0.0000,  0.0000,  1.0000],\n",
              "        ...,\n",
              "        [25.0000,  0.0000,  0.0000,  2.0857,  1.0000,  0.0000,  0.0000,  0.0000,  1.0000,  0.0000,  0.0000,  1.0000],\n",
              "        [39.0000,  0.0000,  5.0000,  3.4054,  0.0000,  1.0000,  0.0000,  0.0000,  1.0000,  0.0000,  1.0000,  0.0000],\n",
              "        [27.0000,  0.0000,  0.0000,  2.6391,  1.0000,  0.0000,  0.0000,  1.0000,  0.0000,  0.0000,  0.0000,  1.0000],\n",
              "        [19.0000,  0.0000,  0.0000,  3.4340,  0.0000,  1.0000,  1.0000,  0.0000,  0.0000,  0.0000,  0.0000,  1.0000],\n",
              "        [24.0000,  1.0000,  2.0000,  3.1966,  0.0000,  1.0000,  0.0000,  0.0000,  1.0000,  0.0000,  0.0000,  1.0000],\n",
              "        [26.0000,  0.0000,  0.0000,  3.4340,  1.0000,  0.0000,  1.0000,  0.0000,  0.0000,  1.0000,  0.0000,  0.0000],\n",
              "        [32.0000,  0.0000,  0.0000,  2.1691,  1.0000,  0.0000,  0.0000,  0.0000,  1.0000,  0.0000,  1.0000,  0.0000]])"
            ]
          },
          "metadata": {},
          "execution_count": 33
        }
      ],
      "source": [
        "indep_cols = ['Age', 'SibSp', 'Parch', 'LogFare'] + added_cols\n",
        "\n",
        "t_indep = tensor(df[indep_cols].values, dtype=torch.float)\n",
        "t_indep"
      ]
    },
    {
      "cell_type": "markdown",
      "metadata": {
        "hidden": true,
        "id": "KuRBoalDUT4Q"
      },
      "source": [
        "Here's the number of rows and columns we have for our independent variables:"
      ]
    },
    {
      "cell_type": "code",
      "execution_count": 34,
      "metadata": {
        "execution": {
          "iopub.execute_input": "2022-05-30T22:34:18.969136Z",
          "iopub.status.busy": "2022-05-30T22:34:18.968005Z",
          "iopub.status.idle": "2022-05-30T22:34:18.98114Z",
          "shell.execute_reply": "2022-05-30T22:34:18.980184Z",
          "shell.execute_reply.started": "2022-05-30T22:34:18.969092Z"
        },
        "hidden": true,
        "trusted": true,
        "colab": {
          "base_uri": "https://localhost:8080/"
        },
        "id": "1QzHrrpWUT4Q",
        "outputId": "18e63122-6dde-4745-e71b-747bd5e5c49f"
      },
      "outputs": [
        {
          "output_type": "execute_result",
          "data": {
            "text/plain": [
              "torch.Size([891, 12])"
            ]
          },
          "metadata": {},
          "execution_count": 34
        }
      ],
      "source": [
        "t_indep.shape"
      ]
    },
    {
      "cell_type": "markdown",
      "metadata": {
        "id": "rlpXrxkuUT4Q"
      },
      "source": [
        "## Setting up a linear model"
      ]
    },
    {
      "cell_type": "markdown",
      "metadata": {
        "id": "ZOaW1guSUT4R"
      },
      "source": [
        "Now that we've got a matrix of independent variables and a dependent variable vector, we can work on calculating our predictions and our loss. In this section, we're going to manually do a single step of calculating predictions and loss for every row of our data.\n",
        "\n",
        "Our first model will be a simple linear model. We'll need a coefficient for each column in `t_indep`. We'll pick random numbers in the range `(-0.5,0.5)`, and set our manual seed so that my explanations in the prose in this notebook will be consistent with what you see when you run it."
      ]
    },
    {
      "cell_type": "code",
      "execution_count": 35,
      "metadata": {
        "execution": {
          "iopub.execute_input": "2022-05-30T22:34:18.983237Z",
          "iopub.status.busy": "2022-05-30T22:34:18.982492Z",
          "iopub.status.idle": "2022-05-30T22:34:18.995038Z",
          "shell.execute_reply": "2022-05-30T22:34:18.994437Z",
          "shell.execute_reply.started": "2022-05-30T22:34:18.983187Z"
        },
        "trusted": true,
        "colab": {
          "base_uri": "https://localhost:8080/"
        },
        "id": "vYvAVZI9UT4R",
        "outputId": "03c33cae-3571-4475-9e68-5335f38cd8c0"
      },
      "outputs": [
        {
          "output_type": "execute_result",
          "data": {
            "text/plain": [
              "tensor([-0.4629,  0.1386,  0.2409, -0.2262, -0.2632, -0.3147,  0.4876,  0.3136,  0.2799, -0.4392,  0.2103,  0.3625])"
            ]
          },
          "metadata": {},
          "execution_count": 35
        }
      ],
      "source": [
        "torch.manual_seed(442)\n",
        "\n",
        "n_coeff = t_indep.shape[1]\n",
        "coeffs = torch.rand(n_coeff)-0.5\n",
        "coeffs"
      ]
    },
    {
      "cell_type": "code",
      "source": [],
      "metadata": {
        "id": "2_oRUAPboM8O"
      },
      "execution_count": 35,
      "outputs": []
    },
    {
      "cell_type": "markdown",
      "metadata": {
        "id": "ogb1TOWvUT4R"
      },
      "source": [
        "Our predictions will be calculated by multiplying each row by the coefficients, and adding them up. One interesting point here is that we don't need a separate constant term (also known as a \"bias\" or \"intercept\" term), or a column of all `1`s to give the same effect has having a constant term. That's because our dummy variables already cover the entire dataset -- e.g. there's a column for \"male\" and a column for \"female\", and everyone in the dataset is in exactly one of these; therefore, we don't need a separate intercept term to cover rows that aren't otherwise part of a column.\n",
        "\n",
        "Here's what the multiplication looks like:"
      ]
    },
    {
      "cell_type": "code",
      "execution_count": 36,
      "metadata": {
        "execution": {
          "iopub.execute_input": "2022-05-30T22:34:19.000637Z",
          "iopub.status.busy": "2022-05-30T22:34:18.999409Z",
          "iopub.status.idle": "2022-05-30T22:34:19.009362Z",
          "shell.execute_reply": "2022-05-30T22:34:19.00847Z",
          "shell.execute_reply.started": "2022-05-30T22:34:19.000588Z"
        },
        "trusted": true,
        "colab": {
          "base_uri": "https://localhost:8080/"
        },
        "id": "8_OTalZFUT4R",
        "outputId": "592b88d3-a51b-4708-811f-fda62cd7d1c6"
      },
      "outputs": [
        {
          "output_type": "execute_result",
          "data": {
            "text/plain": [
              "tensor([[-10.1838,   0.1386,   0.0000,  -0.4772,  -0.2632,  -0.0000,   0.0000,   0.0000,   0.2799,  -0.0000,   0.0000,   0.3625],\n",
              "        [-17.5902,   0.1386,   0.0000,  -0.9681,  -0.0000,  -0.3147,   0.4876,   0.0000,   0.0000,  -0.4392,   0.0000,   0.0000],\n",
              "        [-12.0354,   0.0000,   0.0000,  -0.4950,  -0.0000,  -0.3147,   0.0000,   0.0000,   0.2799,  -0.0000,   0.0000,   0.3625],\n",
              "        [-16.2015,   0.1386,   0.0000,  -0.9025,  -0.0000,  -0.3147,   0.4876,   0.0000,   0.0000,  -0.0000,   0.0000,   0.3625],\n",
              "        [-16.2015,   0.0000,   0.0000,  -0.4982,  -0.2632,  -0.0000,   0.0000,   0.0000,   0.2799,  -0.0000,   0.0000,   0.3625],\n",
              "        [-11.1096,   0.0000,   0.0000,  -0.5081,  -0.2632,  -0.0000,   0.0000,   0.0000,   0.2799,  -0.0000,   0.2103,   0.0000],\n",
              "        [-24.9966,   0.0000,   0.0000,  -0.8973,  -0.2632,  -0.0000,   0.4876,   0.0000,   0.0000,  -0.0000,   0.0000,   0.3625],\n",
              "        ...,\n",
              "        [-11.5725,   0.0000,   0.0000,  -0.4717,  -0.2632,  -0.0000,   0.0000,   0.0000,   0.2799,  -0.0000,   0.0000,   0.3625],\n",
              "        [-18.0531,   0.0000,   1.2045,  -0.7701,  -0.0000,  -0.3147,   0.0000,   0.0000,   0.2799,  -0.0000,   0.2103,   0.0000],\n",
              "        [-12.4983,   0.0000,   0.0000,  -0.5968,  -0.2632,  -0.0000,   0.0000,   0.3136,   0.0000,  -0.0000,   0.0000,   0.3625],\n",
              "        [ -8.7951,   0.0000,   0.0000,  -0.7766,  -0.0000,  -0.3147,   0.4876,   0.0000,   0.0000,  -0.0000,   0.0000,   0.3625],\n",
              "        [-11.1096,   0.1386,   0.4818,  -0.7229,  -0.0000,  -0.3147,   0.0000,   0.0000,   0.2799,  -0.0000,   0.0000,   0.3625],\n",
              "        [-12.0354,   0.0000,   0.0000,  -0.7766,  -0.2632,  -0.0000,   0.4876,   0.0000,   0.0000,  -0.4392,   0.0000,   0.0000],\n",
              "        [-14.8128,   0.0000,   0.0000,  -0.4905,  -0.2632,  -0.0000,   0.0000,   0.0000,   0.2799,  -0.0000,   0.2103,   0.0000]])"
            ]
          },
          "metadata": {},
          "execution_count": 36
        }
      ],
      "source": [
        "t_indep*coeffs"
      ]
    },
    {
      "cell_type": "markdown",
      "metadata": {
        "id": "6W5JKOzZUT4S"
      },
      "source": [
        "We can see we've got a problem here. The sums of each row will be dominated by the first column, which is `Age`, since that's bigger on average than all the others.\n",
        "\n",
        "Let's make all the columns contain numbers from `0` to `1`, by dividing each column by its `max()`:"
      ]
    },
    {
      "cell_type": "code",
      "execution_count": 44,
      "metadata": {
        "execution": {
          "iopub.execute_input": "2022-05-30T22:34:19.011202Z",
          "iopub.status.busy": "2022-05-30T22:34:19.010954Z",
          "iopub.status.idle": "2022-05-30T22:34:19.02202Z",
          "shell.execute_reply": "2022-05-30T22:34:19.02133Z",
          "shell.execute_reply.started": "2022-05-30T22:34:19.011171Z"
        },
        "trusted": true,
        "id": "JrUPR1S5UT4S"
      },
      "outputs": [],
      "source": [
        "vals,indices = t_indep.max(dim=0)\n",
        "t_indep = t_indep / vals"
      ]
    },
    {
      "cell_type": "code",
      "source": [
        "indices"
      ],
      "metadata": {
        "colab": {
          "base_uri": "https://localhost:8080/"
        },
        "id": "QlWSs-MBqTgN",
        "outputId": "520b3e2e-fe79-467b-9e93-35931fca3658"
      },
      "execution_count": 45,
      "outputs": [
        {
          "output_type": "execute_result",
          "data": {
            "text/plain": [
              "tensor([630, 159, 678, 258,   0,   1,   1,   9,   0,   1,   5,   0])"
            ]
          },
          "metadata": {},
          "execution_count": 45
        }
      ]
    },
    {
      "cell_type": "code",
      "source": [
        "len(vals)"
      ],
      "metadata": {
        "colab": {
          "base_uri": "https://localhost:8080/"
        },
        "id": "TrvV0--dqXcq",
        "outputId": "03d85ac8-b2ef-4602-b1e7-38047b58bf7b"
      },
      "execution_count": 46,
      "outputs": [
        {
          "output_type": "execute_result",
          "data": {
            "text/plain": [
              "12"
            ]
          },
          "metadata": {},
          "execution_count": 46
        }
      ]
    },
    {
      "cell_type": "markdown",
      "metadata": {
        "id": "GwikHRTSUT4S"
      },
      "source": [
        "As we see, that removes the problem of one column dominating all the others:"
      ]
    },
    {
      "cell_type": "code",
      "execution_count": 48,
      "metadata": {
        "execution": {
          "iopub.execute_input": "2022-05-30T22:34:19.04269Z",
          "iopub.status.busy": "2022-05-30T22:34:19.042223Z",
          "iopub.status.idle": "2022-05-30T22:34:19.050475Z",
          "shell.execute_reply": "2022-05-30T22:34:19.049515Z",
          "shell.execute_reply.started": "2022-05-30T22:34:19.042652Z"
        },
        "trusted": true,
        "colab": {
          "base_uri": "https://localhost:8080/"
        },
        "id": "O2IBnD24UT4S",
        "outputId": "800ae663-df6b-4be9-d7f7-a3b470efe816"
      },
      "outputs": [
        {
          "output_type": "execute_result",
          "data": {
            "text/plain": [
              "tensor([[-0.1273,  0.0173,  0.0000, -0.0765, -0.2632, -0.0000,  0.0000,  0.0000,  0.2799, -0.0000,  0.0000,  0.3625],\n",
              "        [-0.2199,  0.0173,  0.0000, -0.1551, -0.0000, -0.3147,  0.4876,  0.0000,  0.0000, -0.4392,  0.0000,  0.0000],\n",
              "        [-0.1504,  0.0000,  0.0000, -0.0793, -0.0000, -0.3147,  0.0000,  0.0000,  0.2799, -0.0000,  0.0000,  0.3625],\n",
              "        [-0.2025,  0.0173,  0.0000, -0.1446, -0.0000, -0.3147,  0.4876,  0.0000,  0.0000, -0.0000,  0.0000,  0.3625],\n",
              "        [-0.2025,  0.0000,  0.0000, -0.0798, -0.2632, -0.0000,  0.0000,  0.0000,  0.2799, -0.0000,  0.0000,  0.3625],\n",
              "        [-0.1389,  0.0000,  0.0000, -0.0814, -0.2632, -0.0000,  0.0000,  0.0000,  0.2799, -0.0000,  0.2103,  0.0000],\n",
              "        [-0.3125,  0.0000,  0.0000, -0.1438, -0.2632, -0.0000,  0.4876,  0.0000,  0.0000, -0.0000,  0.0000,  0.3625],\n",
              "        ...,\n",
              "        [-0.1447,  0.0000,  0.0000, -0.0756, -0.2632, -0.0000,  0.0000,  0.0000,  0.2799, -0.0000,  0.0000,  0.3625],\n",
              "        [-0.2257,  0.0000,  0.2008, -0.1234, -0.0000, -0.3147,  0.0000,  0.0000,  0.2799, -0.0000,  0.2103,  0.0000],\n",
              "        [-0.1562,  0.0000,  0.0000, -0.0956, -0.2632, -0.0000,  0.0000,  0.3136,  0.0000, -0.0000,  0.0000,  0.3625],\n",
              "        [-0.1099,  0.0000,  0.0000, -0.1244, -0.0000, -0.3147,  0.4876,  0.0000,  0.0000, -0.0000,  0.0000,  0.3625],\n",
              "        [-0.1389,  0.0173,  0.0803, -0.1158, -0.0000, -0.3147,  0.0000,  0.0000,  0.2799, -0.0000,  0.0000,  0.3625],\n",
              "        [-0.1504,  0.0000,  0.0000, -0.1244, -0.2632, -0.0000,  0.4876,  0.0000,  0.0000, -0.4392,  0.0000,  0.0000],\n",
              "        [-0.1852,  0.0000,  0.0000, -0.0786, -0.2632, -0.0000,  0.0000,  0.0000,  0.2799, -0.0000,  0.2103,  0.0000]])"
            ]
          },
          "metadata": {},
          "execution_count": 48
        }
      ],
      "source": [
        "t_indep*coeffs"
      ]
    },
    {
      "cell_type": "markdown",
      "metadata": {
        "id": "SGuL3pz4UT4S"
      },
      "source": [
        "One thing you hopefully noticed is how amazingly cool this line of code is:\n",
        "\n",
        "    t_indep = t_indep / vals\n",
        "\n",
        "That is dividing a matrix by a vector -- what on earth does that mean?!? The trick here is that we're taking advantage of a technique in numpy and PyTorch (and many other languages, going all the way back to APL) called [broadcasting](https://numpy.org/doc/stable/user/basics.broadcasting.html). In short, this acts as if there's a separate copy of the vector for every row of the matrix, so it divides each row of the matrix by the vector. In practice, it doesn't actually make any copies, and does the whole thing in a highly optimized way, taking full advantage of modern CPUs (or, indeed, GPUs, if we're using them). Broadcasting is one of the most important techniques for making your code concise, maintainable, and fast, so it's well worth studying and practicing.\n",
        "\n",
        "We can now create predictions from our linear model, by adding up the rows of the product:"
      ]
    },
    {
      "cell_type": "code",
      "execution_count": 49,
      "metadata": {
        "execution": {
          "iopub.execute_input": "2022-05-30T22:34:19.097604Z",
          "iopub.status.busy": "2022-05-30T22:34:19.096685Z",
          "iopub.status.idle": "2022-05-30T22:34:19.1028Z",
          "shell.execute_reply": "2022-05-30T22:34:19.10218Z",
          "shell.execute_reply.started": "2022-05-30T22:34:19.097545Z"
        },
        "trusted": true,
        "id": "xG4q1CQ4UT4S"
      },
      "outputs": [],
      "source": [
        "preds = (t_indep*coeffs).sum(axis=1)"
      ]
    },
    {
      "cell_type": "markdown",
      "metadata": {
        "id": "g3P9PJeJUT4T"
      },
      "source": [
        "Let's take a look at the first few:"
      ]
    },
    {
      "cell_type": "code",
      "execution_count": 50,
      "metadata": {
        "execution": {
          "iopub.execute_input": "2022-05-30T22:34:19.160794Z",
          "iopub.status.busy": "2022-05-30T22:34:19.160318Z",
          "iopub.status.idle": "2022-05-30T22:34:19.168117Z",
          "shell.execute_reply": "2022-05-30T22:34:19.167355Z",
          "shell.execute_reply.started": "2022-05-30T22:34:19.160761Z"
        },
        "trusted": true,
        "colab": {
          "base_uri": "https://localhost:8080/"
        },
        "id": "9qKNzizYUT4T",
        "outputId": "d40747c2-2ae7-40f1-b01c-9ae914153bfb"
      },
      "outputs": [
        {
          "output_type": "execute_result",
          "data": {
            "text/plain": [
              "tensor([ 0.1927, -0.6239,  0.0979,  0.2056,  0.0968,  0.0066,  0.1306,  0.3476,  0.1613, -0.6285])"
            ]
          },
          "metadata": {},
          "execution_count": 50
        }
      ],
      "source": [
        "preds[:10]"
      ]
    },
    {
      "cell_type": "markdown",
      "metadata": {
        "id": "s6LyacYkUT4T"
      },
      "source": [
        "Of course, these predictions aren't going to be any use, since our coefficients are random -- they're just a starting point for our gradient descent process.\n",
        "\n",
        "To do gradient descent, we need a loss function. Taking the average error of the rows (i.e. the absolute value of the difference between the prediction and the dependent) is generally a reasonable approach:"
      ]
    },
    {
      "cell_type": "code",
      "execution_count": 51,
      "metadata": {
        "execution": {
          "iopub.execute_input": "2022-05-30T22:34:19.235623Z",
          "iopub.status.busy": "2022-05-30T22:34:19.235318Z",
          "iopub.status.idle": "2022-05-30T22:34:19.24312Z",
          "shell.execute_reply": "2022-05-30T22:34:19.242356Z",
          "shell.execute_reply.started": "2022-05-30T22:34:19.235589Z"
        },
        "trusted": true,
        "colab": {
          "base_uri": "https://localhost:8080/"
        },
        "id": "kEkdBlLVUT4T",
        "outputId": "9ae96b8c-b18a-4e1e-a13f-3bc3f3fa6e4e"
      },
      "outputs": [
        {
          "output_type": "execute_result",
          "data": {
            "text/plain": [
              "tensor(0.5382)"
            ]
          },
          "metadata": {},
          "execution_count": 51
        }
      ],
      "source": [
        "loss = torch.abs(preds-t_dep).mean()\n",
        "loss"
      ]
    },
    {
      "cell_type": "markdown",
      "metadata": {
        "id": "YCQWp0LYUT4T"
      },
      "source": [
        "Now that we've tested out a way of calculating predictions, and loss, let's pop them into functions to make life easier:"
      ]
    },
    {
      "cell_type": "code",
      "execution_count": 52,
      "metadata": {
        "execution": {
          "iopub.execute_input": "2022-05-30T22:34:19.296558Z",
          "iopub.status.busy": "2022-05-30T22:34:19.295577Z",
          "iopub.status.idle": "2022-05-30T22:34:19.301478Z",
          "shell.execute_reply": "2022-05-30T22:34:19.300683Z",
          "shell.execute_reply.started": "2022-05-30T22:34:19.296517Z"
        },
        "trusted": true,
        "id": "ySfHgpziUT4T"
      },
      "outputs": [],
      "source": [
        "def calc_preds(coeffs, indeps): return (indeps*coeffs).sum(axis=1)\n",
        "def calc_loss(coeffs, indeps, deps): return torch.abs(calc_preds(coeffs, indeps)-deps).mean()"
      ]
    },
    {
      "cell_type": "markdown",
      "metadata": {
        "id": "ruvtyNghUT4T"
      },
      "source": [
        "## Doing a gradient descent step"
      ]
    },
    {
      "cell_type": "markdown",
      "metadata": {
        "id": "0O6BgUbhUT4T"
      },
      "source": [
        "In this section, we're going to do a single \"epoch\" of gradient descent manually. The only thing we're going to automate is calculating gradients, because let's face it that's pretty tedious and entirely pointless to do by hand! To get PyTorch to calculate gradients, we'll need to call `requires_grad_()` on our `coeffs` (if you're not sure why, review the previous notebook, [How does a neural net really work?](https://www.kaggle.com/code/jhoward/how-does-a-neural-net-really-work), before continuing):"
      ]
    },
    {
      "cell_type": "code",
      "execution_count": 58,
      "metadata": {
        "execution": {
          "iopub.execute_input": "2022-05-30T22:34:19.376212Z",
          "iopub.status.busy": "2022-05-30T22:34:19.375387Z",
          "iopub.status.idle": "2022-05-30T22:34:19.382205Z",
          "shell.execute_reply": "2022-05-30T22:34:19.381536Z",
          "shell.execute_reply.started": "2022-05-30T22:34:19.376163Z"
        },
        "trusted": true,
        "colab": {
          "base_uri": "https://localhost:8080/"
        },
        "id": "KBo4QzuWUT4T",
        "outputId": "2d1b7ea4-6710-4aa3-cc02-8878b431fa4d"
      },
      "outputs": [
        {
          "output_type": "execute_result",
          "data": {
            "text/plain": [
              "tensor([-0.4629,  0.1386,  0.2409, -0.2262, -0.2632, -0.3147,  0.4876,  0.3136,  0.2799, -0.4392,  0.2103,  0.3625], requires_grad=True)"
            ]
          },
          "metadata": {},
          "execution_count": 58
        }
      ],
      "source": [
        "coeffs.requires_grad_()"
      ]
    },
    {
      "cell_type": "markdown",
      "metadata": {
        "id": "tZCuVgXgUT4T"
      },
      "source": [
        "Now when we calculate our loss, PyTorch will keep track of all the steps, so we'll be able to get the gradients afterwards:"
      ]
    },
    {
      "cell_type": "code",
      "execution_count": 57,
      "metadata": {
        "execution": {
          "iopub.execute_input": "2022-05-30T22:34:19.438026Z",
          "iopub.status.busy": "2022-05-30T22:34:19.437208Z",
          "iopub.status.idle": "2022-05-30T22:34:19.444641Z",
          "shell.execute_reply": "2022-05-30T22:34:19.443791Z",
          "shell.execute_reply.started": "2022-05-30T22:34:19.437985Z"
        },
        "trusted": true,
        "colab": {
          "base_uri": "https://localhost:8080/"
        },
        "id": "HYDtRo9bUT4T",
        "outputId": "a966c0fd-d7a6-4407-9a7a-297c2b31a434"
      },
      "outputs": [
        {
          "output_type": "execute_result",
          "data": {
            "text/plain": [
              "tensor(0.5382, grad_fn=<MeanBackward0>)"
            ]
          },
          "metadata": {},
          "execution_count": 57
        }
      ],
      "source": [
        "loss = calc_loss(coeffs, t_indep, t_dep)\n",
        "loss"
      ]
    },
    {
      "cell_type": "markdown",
      "metadata": {
        "id": "bHKwAZRcUT4T"
      },
      "source": [
        "Use `backward()` to ask PyTorch to calculate gradients now:"
      ]
    },
    {
      "cell_type": "code",
      "execution_count": 55,
      "metadata": {
        "execution": {
          "iopub.execute_input": "2022-05-30T22:34:19.49239Z",
          "iopub.status.busy": "2022-05-30T22:34:19.491601Z",
          "iopub.status.idle": "2022-05-30T22:34:19.496556Z",
          "shell.execute_reply": "2022-05-30T22:34:19.495831Z",
          "shell.execute_reply.started": "2022-05-30T22:34:19.492353Z"
        },
        "trusted": true,
        "id": "7tgbtsPHUT4T"
      },
      "outputs": [],
      "source": [
        "loss.backward()"
      ]
    },
    {
      "cell_type": "markdown",
      "metadata": {
        "id": "XRXst7S9UT4T"
      },
      "source": [
        "Let's see what they look like:"
      ]
    },
    {
      "cell_type": "code",
      "execution_count": 56,
      "metadata": {
        "execution": {
          "iopub.execute_input": "2022-05-30T22:34:19.550501Z",
          "iopub.status.busy": "2022-05-30T22:34:19.549651Z",
          "iopub.status.idle": "2022-05-30T22:34:19.555905Z",
          "shell.execute_reply": "2022-05-30T22:34:19.555257Z",
          "shell.execute_reply.started": "2022-05-30T22:34:19.550456Z"
        },
        "trusted": true,
        "colab": {
          "base_uri": "https://localhost:8080/"
        },
        "id": "a7aDk-TCUT4T",
        "outputId": "5b339727-3bab-494f-bbe5-2dcaff69d305"
      },
      "outputs": [
        {
          "output_type": "execute_result",
          "data": {
            "text/plain": [
              "tensor([-0.0106,  0.0129, -0.0041, -0.0484,  0.2099, -0.2132, -0.1212, -0.0247,  0.1425, -0.1886, -0.0191,  0.2043])"
            ]
          },
          "metadata": {},
          "execution_count": 56
        }
      ],
      "source": [
        "coeffs.grad"
      ]
    },
    {
      "cell_type": "markdown",
      "metadata": {
        "id": "560AZ5pGUT4U"
      },
      "source": [
        "Note that each time we call `backward`, the gradients are actually *added* to whatever is in the `.grad` attribute. Let's try running the above steps again:"
      ]
    },
    {
      "cell_type": "code",
      "execution_count": null,
      "metadata": {
        "execution": {
          "iopub.execute_input": "2022-05-30T22:34:19.603236Z",
          "iopub.status.busy": "2022-05-30T22:34:19.60283Z",
          "iopub.status.idle": "2022-05-30T22:34:19.610594Z",
          "shell.execute_reply": "2022-05-30T22:34:19.609647Z",
          "shell.execute_reply.started": "2022-05-30T22:34:19.603206Z"
        },
        "trusted": true,
        "id": "z9-bgR-xUT4U"
      },
      "outputs": [],
      "source": [
        "loss = calc_loss(coeffs, t_indep, t_dep)\n",
        "loss.backward()\n",
        "coeffs.grad"
      ]
    },
    {
      "cell_type": "markdown",
      "metadata": {
        "id": "Zr4-L-ojUT4U"
      },
      "source": [
        "As you see, our `.grad` values are have doubled. That's because it added the gradients a second time. For this reason, after we use the gradients to do a gradient descent step, we need to set them back to zero.\n",
        "\n",
        "We can now do one gradient descent step, and check that our loss decreases:"
      ]
    },
    {
      "cell_type": "code",
      "execution_count": 59,
      "metadata": {
        "execution": {
          "iopub.execute_input": "2022-05-30T22:34:19.665739Z",
          "iopub.status.busy": "2022-05-30T22:34:19.665238Z",
          "iopub.status.idle": "2022-05-30T22:34:19.674839Z",
          "shell.execute_reply": "2022-05-30T22:34:19.673727Z",
          "shell.execute_reply.started": "2022-05-30T22:34:19.665705Z"
        },
        "trusted": true,
        "colab": {
          "base_uri": "https://localhost:8080/"
        },
        "id": "ZGcxZw2gUT4U",
        "outputId": "6ca0ae2a-c06d-4eab-b550-fcba1169397d"
      },
      "outputs": [
        {
          "output_type": "stream",
          "name": "stdout",
          "text": [
            "tensor(0.5043)\n"
          ]
        }
      ],
      "source": [
        "loss = calc_loss(coeffs, t_indep, t_dep)\n",
        "loss.backward()\n",
        "with torch.no_grad():\n",
        "    coeffs.sub_(coeffs.grad * 0.1)\n",
        "    coeffs.grad.zero_()\n",
        "    print(calc_loss(coeffs, t_indep, t_dep))"
      ]
    },
    {
      "cell_type": "markdown",
      "metadata": {
        "id": "j_OG9vA2UT4U"
      },
      "source": [
        "Note that `a.sub_(b)` subtracts `b` from `a` in-place. In PyTorch, any method that ends in `_` changes its object in-place. Similarly, `a.zero_()` sets all elements of a tensor to zero."
      ]
    },
    {
      "cell_type": "markdown",
      "metadata": {
        "id": "SF8RWBU3UT4U"
      },
      "source": [
        "## Training the linear model"
      ]
    },
    {
      "cell_type": "markdown",
      "metadata": {
        "id": "k9MCpM5OUT4U"
      },
      "source": [
        "Before we begin training our model, we'll need to ensure that we hold out a validation set for calculating our metrics (for details on this, see \"[Getting started with NLP for absolute beginners](https://www.kaggle.com/code/jhoward/getting-started-with-nlp-for-absolute-beginners#Test-and-validation-sets)\".\n",
        "\n",
        "There's lots of different ways we can do this. In the next notebook we'll be comparing our approach here to what the fastai library does, so we'll want to ensure we split the data in the same way. So let's use `RandomSplitter` to get indices that will split our data into training and validation sets:"
      ]
    },
    {
      "cell_type": "code",
      "execution_count": 60,
      "metadata": {
        "execution": {
          "iopub.execute_input": "2022-05-30T22:35:26.57635Z",
          "iopub.status.busy": "2022-05-30T22:35:26.57605Z",
          "iopub.status.idle": "2022-05-30T22:35:27.821258Z",
          "shell.execute_reply": "2022-05-30T22:35:27.820329Z",
          "shell.execute_reply.started": "2022-05-30T22:35:26.57632Z"
        },
        "trusted": true,
        "id": "wGe5SVksUT4U"
      },
      "outputs": [],
      "source": [
        "from fastai.data.transforms import RandomSplitter\n",
        "trn_split,val_split=RandomSplitter(seed=42)(df)"
      ]
    },
    {
      "cell_type": "code",
      "source": [],
      "metadata": {
        "id": "o9wODzHx3r3S"
      },
      "execution_count": 63,
      "outputs": []
    },
    {
      "cell_type": "markdown",
      "metadata": {
        "id": "gUfWfBoAUT4U"
      },
      "source": [
        "Now we can apply those indicies to our independent and dependent variables:"
      ]
    },
    {
      "cell_type": "code",
      "execution_count": 64,
      "metadata": {
        "execution": {
          "iopub.execute_input": "2022-05-30T22:35:27.822887Z",
          "iopub.status.busy": "2022-05-30T22:35:27.822671Z",
          "iopub.status.idle": "2022-05-30T22:35:27.836937Z",
          "shell.execute_reply": "2022-05-30T22:35:27.836081Z",
          "shell.execute_reply.started": "2022-05-30T22:35:27.822859Z"
        },
        "trusted": true,
        "colab": {
          "base_uri": "https://localhost:8080/"
        },
        "id": "RE1eIEBnUT4U",
        "outputId": "ae7607b4-fe2a-486f-db94-55beb6c2f6cd"
      },
      "outputs": [
        {
          "output_type": "execute_result",
          "data": {
            "text/plain": [
              "(713, 178)"
            ]
          },
          "metadata": {},
          "execution_count": 64
        }
      ],
      "source": [
        "trn_indep,val_indep = t_indep[trn_split],t_indep[val_split]\n",
        "trn_dep,val_dep = t_dep[trn_split],t_dep[val_split]\n",
        "len(trn_indep),len(val_indep)"
      ]
    },
    {
      "cell_type": "markdown",
      "metadata": {
        "id": "_zu-klMOUT4V"
      },
      "source": [
        "We'll create functions for the three things we did manually above: updating `coeffs`, doing one full gradient descent step, and initilising `coeffs` to random numbers:"
      ]
    },
    {
      "cell_type": "code",
      "execution_count": 69,
      "metadata": {
        "execution": {
          "iopub.execute_input": "2022-05-30T22:35:35.029177Z",
          "iopub.status.busy": "2022-05-30T22:35:35.028649Z",
          "iopub.status.idle": "2022-05-30T22:35:35.034346Z",
          "shell.execute_reply": "2022-05-30T22:35:35.033261Z",
          "shell.execute_reply.started": "2022-05-30T22:35:35.029143Z"
        },
        "trusted": true,
        "id": "xAaVA0z5UT4V"
      },
      "outputs": [],
      "source": [
        "def update_coeffs(coeffs, lr):\n",
        "    coeffs.sub_(coeffs.grad * lr)\n",
        "    coeffs.grad.zero_()"
      ]
    },
    {
      "cell_type": "code",
      "execution_count": 70,
      "metadata": {
        "execution": {
          "iopub.execute_input": "2022-05-30T22:35:35.633995Z",
          "iopub.status.busy": "2022-05-30T22:35:35.633703Z",
          "iopub.status.idle": "2022-05-30T22:35:35.639103Z",
          "shell.execute_reply": "2022-05-30T22:35:35.63814Z",
          "shell.execute_reply.started": "2022-05-30T22:35:35.633964Z"
        },
        "trusted": true,
        "id": "Q-GrYLXPUT4V"
      },
      "outputs": [],
      "source": [
        "def one_epoch(coeffs, lr):\n",
        "    loss = calc_loss(coeffs, trn_indep, trn_dep)\n",
        "    loss.backward()\n",
        "    with torch.no_grad(): update_coeffs(coeffs, lr)\n",
        "    print(f\"{loss:.3f}\", end=\"; \")"
      ]
    },
    {
      "cell_type": "code",
      "execution_count": 71,
      "metadata": {
        "execution": {
          "iopub.execute_input": "2022-05-30T22:35:36.293837Z",
          "iopub.status.busy": "2022-05-30T22:35:36.293565Z",
          "iopub.status.idle": "2022-05-30T22:35:36.297457Z",
          "shell.execute_reply": "2022-05-30T22:35:36.296816Z",
          "shell.execute_reply.started": "2022-05-30T22:35:36.293808Z"
        },
        "trusted": true,
        "id": "CL-nJ7CeUT4V"
      },
      "outputs": [],
      "source": [
        "def init_coeffs(): return (torch.rand(n_coeff)-0.5).requires_grad_()"
      ]
    },
    {
      "cell_type": "markdown",
      "metadata": {
        "id": "-y1o9BwJUT4V"
      },
      "source": [
        "We can now use these functions to train our model:"
      ]
    },
    {
      "cell_type": "code",
      "execution_count": 72,
      "metadata": {
        "execution": {
          "iopub.execute_input": "2022-05-30T22:35:38.772314Z",
          "iopub.status.busy": "2022-05-30T22:35:38.771827Z",
          "iopub.status.idle": "2022-05-30T22:35:38.777313Z",
          "shell.execute_reply": "2022-05-30T22:35:38.776439Z",
          "shell.execute_reply.started": "2022-05-30T22:35:38.772247Z"
        },
        "trusted": true,
        "id": "SeD628GpUT4V"
      },
      "outputs": [],
      "source": [
        "def train_model(epochs=30, lr=0.01):\n",
        "    torch.manual_seed(442)\n",
        "    coeffs = init_coeffs()\n",
        "    for i in range(epochs): one_epoch(coeffs, lr=lr)\n",
        "    return coeffs"
      ]
    },
    {
      "cell_type": "markdown",
      "metadata": {
        "id": "MSF2Rlc9UT4V"
      },
      "source": [
        "Let's try it. Our loss will print at the end of every step, so we hope we'll see it going down:"
      ]
    },
    {
      "cell_type": "code",
      "execution_count": 73,
      "metadata": {
        "execution": {
          "iopub.execute_input": "2022-05-30T22:36:14.16788Z",
          "iopub.status.busy": "2022-05-30T22:36:14.16706Z",
          "iopub.status.idle": "2022-05-30T22:36:14.181652Z",
          "shell.execute_reply": "2022-05-30T22:36:14.180496Z",
          "shell.execute_reply.started": "2022-05-30T22:36:14.167812Z"
        },
        "trusted": true,
        "colab": {
          "base_uri": "https://localhost:8080/"
        },
        "id": "Jy5jJ5oKUT4V",
        "outputId": "386b04ef-1095-445e-be4e-fc0e5fd348e0"
      },
      "outputs": [
        {
          "output_type": "stream",
          "name": "stdout",
          "text": [
            "0.536; 0.502; 0.477; 0.454; 0.431; 0.409; 0.388; 0.367; 0.349; 0.336; 0.330; 0.326; 0.329; 0.304; 0.314; 0.296; 0.300; 0.289; "
          ]
        }
      ],
      "source": [
        "coeffs = train_model(18, lr=0.2)"
      ]
    },
    {
      "cell_type": "markdown",
      "metadata": {
        "id": "lEc072oYUT4V"
      },
      "source": [
        "It does!\n",
        "\n",
        "Let's take a look at the coefficients for each column:"
      ]
    },
    {
      "cell_type": "code",
      "execution_count": 74,
      "metadata": {
        "execution": {
          "iopub.execute_input": "2022-05-30T22:36:21.980389Z",
          "iopub.status.busy": "2022-05-30T22:36:21.97957Z",
          "iopub.status.idle": "2022-05-30T22:36:21.990088Z",
          "shell.execute_reply": "2022-05-30T22:36:21.989021Z",
          "shell.execute_reply.started": "2022-05-30T22:36:21.98035Z"
        },
        "trusted": true,
        "colab": {
          "base_uri": "https://localhost:8080/"
        },
        "id": "X6wzzg_nUT4V",
        "outputId": "e4eb79b3-cd6c-49fa-f31e-7da0a064d0d9"
      },
      "outputs": [
        {
          "output_type": "execute_result",
          "data": {
            "text/plain": [
              "{'Age': tensor(-0.2694),\n",
              " 'SibSp': tensor(0.0901),\n",
              " 'Parch': tensor(0.2359),\n",
              " 'LogFare': tensor(0.0280),\n",
              " 'Sex_male': tensor(-0.3990),\n",
              " 'Sex_female': tensor(0.2345),\n",
              " 'Pclass_1': tensor(0.7232),\n",
              " 'Pclass_2': tensor(0.4112),\n",
              " 'Pclass_3': tensor(0.3601),\n",
              " 'Embarked_C': tensor(0.0955),\n",
              " 'Embarked_Q': tensor(0.2395),\n",
              " 'Embarked_S': tensor(0.2122)}"
            ]
          },
          "metadata": {},
          "execution_count": 74
        }
      ],
      "source": [
        "def show_coeffs(): return dict(zip(indep_cols, coeffs.requires_grad_(False)))\n",
        "show_coeffs()"
      ]
    },
    {
      "cell_type": "markdown",
      "metadata": {
        "id": "7VRXSH6oUT4V"
      },
      "source": [
        "## Measuring accuracy"
      ]
    },
    {
      "cell_type": "markdown",
      "metadata": {
        "id": "NTT8Yt8_UT4V"
      },
      "source": [
        "The Kaggle competition is not, however, scored by absolute error (which is our loss function). It's scored by *accuracy* -- the proportion of rows where we correctly predict survival. Let's see how accurate we were on the validation set. First, calculate the predictions:"
      ]
    },
    {
      "cell_type": "code",
      "execution_count": 75,
      "metadata": {
        "execution": {
          "iopub.execute_input": "2022-05-30T22:36:30.826372Z",
          "iopub.status.busy": "2022-05-30T22:36:30.825856Z",
          "iopub.status.idle": "2022-05-30T22:36:30.831613Z",
          "shell.execute_reply": "2022-05-30T22:36:30.830756Z",
          "shell.execute_reply.started": "2022-05-30T22:36:30.826322Z"
        },
        "trusted": true,
        "id": "RgpWMur4UT4V"
      },
      "outputs": [],
      "source": [
        "preds = calc_preds(coeffs, val_indep)"
      ]
    },
    {
      "cell_type": "markdown",
      "metadata": {
        "id": "8IITC7-LUT4W"
      },
      "source": [
        "We'll assume that any passenger with a score of over `0.5` is predicted to survive. So that means we're correct for each row where `preds>0.5` is the same as the dependent variable:"
      ]
    },
    {
      "cell_type": "code",
      "execution_count": 76,
      "metadata": {
        "execution": {
          "iopub.execute_input": "2022-05-30T22:36:33.618899Z",
          "iopub.status.busy": "2022-05-30T22:36:33.618455Z",
          "iopub.status.idle": "2022-05-30T22:36:33.62703Z",
          "shell.execute_reply": "2022-05-30T22:36:33.625949Z",
          "shell.execute_reply.started": "2022-05-30T22:36:33.618867Z"
        },
        "trusted": true,
        "colab": {
          "base_uri": "https://localhost:8080/"
        },
        "id": "77g0Ff0CUT4W",
        "outputId": "9ea3a6be-30c6-46e5-ba74-e7a508672386"
      },
      "outputs": [
        {
          "output_type": "execute_result",
          "data": {
            "text/plain": [
              "tensor([ True,  True,  True,  True,  True,  True,  True,  True,  True,  True, False, False, False,  True,  True, False])"
            ]
          },
          "metadata": {},
          "execution_count": 76
        }
      ],
      "source": [
        "results = val_dep.bool()==(preds>0.5)\n",
        "results[:16]"
      ]
    },
    {
      "cell_type": "markdown",
      "metadata": {
        "id": "EX_wOJNOUT4W"
      },
      "source": [
        "Let's see what our average accuracy is:"
      ]
    },
    {
      "cell_type": "code",
      "execution_count": 77,
      "metadata": {
        "execution": {
          "iopub.execute_input": "2022-05-30T22:36:35.725637Z",
          "iopub.status.busy": "2022-05-30T22:36:35.725112Z",
          "iopub.status.idle": "2022-05-30T22:36:35.732969Z",
          "shell.execute_reply": "2022-05-30T22:36:35.732241Z",
          "shell.execute_reply.started": "2022-05-30T22:36:35.725599Z"
        },
        "trusted": true,
        "colab": {
          "base_uri": "https://localhost:8080/"
        },
        "id": "l_mg0ADtUT4W",
        "outputId": "e4d071b6-d21b-4465-c06e-1f399d73283a"
      },
      "outputs": [
        {
          "output_type": "execute_result",
          "data": {
            "text/plain": [
              "tensor(0.7865)"
            ]
          },
          "metadata": {},
          "execution_count": 77
        }
      ],
      "source": [
        "results.float().mean()"
      ]
    },
    {
      "cell_type": "markdown",
      "metadata": {
        "id": "B5YiVznnUT4W"
      },
      "source": [
        "That's not a bad start at all! We'll create a function so we can calcuate the accuracy easy for other models we train:"
      ]
    },
    {
      "cell_type": "code",
      "execution_count": 79,
      "metadata": {
        "execution": {
          "iopub.execute_input": "2022-05-30T22:36:40.356505Z",
          "iopub.status.busy": "2022-05-30T22:36:40.356043Z",
          "iopub.status.idle": "2022-05-30T22:36:40.365187Z",
          "shell.execute_reply": "2022-05-30T22:36:40.364153Z",
          "shell.execute_reply.started": "2022-05-30T22:36:40.356471Z"
        },
        "trusted": true,
        "colab": {
          "base_uri": "https://localhost:8080/"
        },
        "id": "O0Y4CAttUT4W",
        "outputId": "eab10564-b80d-449e-89d5-d60ebb8441b4"
      },
      "outputs": [
        {
          "output_type": "execute_result",
          "data": {
            "text/plain": [
              "tensor(0.7865)"
            ]
          },
          "metadata": {},
          "execution_count": 79
        }
      ],
      "source": [
        "def acc(coeffs): return (val_dep.bool()==(calc_preds(coeffs, val_indep)>0.5)).float().mean()\n",
        "acc(coeffs)"
      ]
    },
    {
      "cell_type": "code",
      "source": [
        "calc_preds(coeffs, val_indep)"
      ],
      "metadata": {
        "colab": {
          "base_uri": "https://localhost:8080/"
        },
        "id": "DU7hltLW5kUo",
        "outputId": "2ba4d72d-d6b0-4393-e330-d0b2eb103c03"
      },
      "execution_count": 80,
      "outputs": [
        {
          "output_type": "execute_result",
          "data": {
            "text/plain": [
              "tensor([ 0.8160,  0.1295, -0.0148,  0.1831,  0.1520,  0.1350,  0.7279,  0.7754,  0.3222,  0.6740,  0.0753,  0.0389,  0.2216,  0.7631,\n",
              "         0.0678,  0.3997,  0.3324,  0.8278,  0.1078,  0.7126,  0.1023,  0.3627,  0.9937,  0.8050,  0.1153,  0.1455,  0.8652,  0.3425,\n",
              "         0.1262,  0.7630,  0.8877,  0.9052,  0.1191,  0.0804,  0.7958,  0.9393,  0.3941,  0.9915,  0.1023,  0.7437,  0.1713,  0.1023,\n",
              "         0.1949,  0.9650,  0.1158,  0.8820,  0.1039,  0.1551,  0.1290,  0.7422,  0.4583,  0.2953,  0.2823,  0.0984,  0.1477,  0.1275,\n",
              "         0.1295,  0.0759,  0.1124,  0.0900,  0.3338,  0.1366,  0.2824,  0.1124,  0.7358,  0.5246,  0.1554,  0.0564,  0.1290,  0.7183,\n",
              "         0.0955,  0.7004,  0.1309,  0.1030,  0.4703,  0.1291,  0.1023,  0.4399,  0.1722,  0.0785,  0.2994,  1.1087,  0.1056,  0.1019,\n",
              "         0.7005,  0.1302,  0.3914,  1.2342,  0.6726,  0.1587,  0.0755,  0.1023,  0.9732, -0.0350,  0.7629, -0.0018,  0.0842,  0.7901,\n",
              "         0.7697,  0.1458,  0.1730,  0.7630,  0.0753,  0.0821,  0.4615,  0.0948,  0.0828,  0.7903,  0.3671,  0.0962,  0.8402,  0.7269,\n",
              "         0.4710,  1.1176,  0.1023,  0.8819,  0.7904,  0.1295,  0.0415,  0.9489,  0.2204,  0.2879,  0.1295,  0.9293, -0.0148,  0.4541,\n",
              "         0.7324,  0.7290,  0.1299,  0.1022,  1.1361,  0.1165,  0.7627,  0.7603,  1.0061,  0.1192,  0.0377,  0.0862,  0.0249,  0.7539,\n",
              "         0.1352,  0.9090,  0.0311,  0.1025,  0.8138,  0.9887,  0.0555,  0.7021,  1.1720,  0.5902,  0.7819,  0.8417,  0.7981,  0.2733,\n",
              "         0.1566,  0.2803,  0.1023,  0.7614,  0.1217,  0.1047,  0.9900,  0.0363,  0.1174,  0.5266,  0.9558,  1.0885,  0.8397,  0.7283,\n",
              "         0.5145,  0.3667,  0.9276,  0.1216,  1.1260,  0.1030,  0.0349,  1.1465,  0.4711,  0.2062])"
            ]
          },
          "metadata": {},
          "execution_count": 80
        }
      ]
    },
    {
      "cell_type": "code",
      "source": [],
      "metadata": {
        "id": "eG3ql3o35kw0"
      },
      "execution_count": 80,
      "outputs": []
    },
    {
      "cell_type": "markdown",
      "metadata": {
        "id": "ppjQhN-4UT4W"
      },
      "source": [
        "## Using sigmoid"
      ]
    },
    {
      "cell_type": "markdown",
      "metadata": {
        "id": "51GS8proUT4W"
      },
      "source": [
        "Looking at our predictions, there's one obvious problem -- some of our predictions of the probability of survival are `>1`, and some are `<0`:"
      ]
    },
    {
      "cell_type": "code",
      "execution_count": 83,
      "metadata": {
        "execution": {
          "iopub.execute_input": "2022-05-30T22:36:42.344823Z",
          "iopub.status.busy": "2022-05-30T22:36:42.344533Z",
          "iopub.status.idle": "2022-05-30T22:36:42.352948Z",
          "shell.execute_reply": "2022-05-30T22:36:42.351968Z",
          "shell.execute_reply.started": "2022-05-30T22:36:42.344794Z"
        },
        "trusted": true,
        "colab": {
          "base_uri": "https://localhost:8080/"
        },
        "id": "pV73l9EeUT4W",
        "outputId": "46da54f0-7248-4fc8-ac75-bc96079be0ae"
      },
      "outputs": [
        {
          "output_type": "execute_result",
          "data": {
            "text/plain": [
              "tensor([ 0.8160,  0.1295, -0.0148,  0.1831,  0.1520,  0.1350,  0.7279,  0.7754,  0.3222,  0.6740,  0.0753,  0.0389,  0.2216,  0.7631,\n",
              "         0.0678,  0.3997,  0.3324,  0.8278,  0.1078,  0.7126,  0.1023,  0.3627,  0.9937,  0.8050,  0.1153,  0.1455,  0.8652,  0.3425])"
            ]
          },
          "metadata": {},
          "execution_count": 83
        }
      ],
      "source": [
        "preds[:28]"
      ]
    },
    {
      "cell_type": "code",
      "source": [
        "torch.sigmoid(preds[:28])"
      ],
      "metadata": {
        "colab": {
          "base_uri": "https://localhost:8080/"
        },
        "id": "2ZbDxEaf54eB",
        "outputId": "927b8327-248a-4d35-8f79-6495f8270b33"
      },
      "execution_count": 84,
      "outputs": [
        {
          "output_type": "execute_result",
          "data": {
            "text/plain": [
              "tensor([0.6934, 0.5323, 0.4963, 0.5456, 0.5379, 0.5337, 0.6744, 0.6847, 0.5799, 0.6624, 0.5188, 0.5097, 0.5552, 0.6820, 0.5169, 0.5986,\n",
              "        0.5823, 0.6959, 0.5269, 0.6710, 0.5255, 0.5897, 0.7298, 0.6910, 0.5288, 0.5363, 0.7037, 0.5848])"
            ]
          },
          "metadata": {},
          "execution_count": 84
        }
      ]
    },
    {
      "cell_type": "markdown",
      "metadata": {
        "id": "WSzGKcrUUT4W"
      },
      "source": [
        "To fix this, we should pass every prediction through the *sigmoid function*, which has a minimum at zero and maximum at one, and is defined as follows:"
      ]
    },
    {
      "cell_type": "code",
      "execution_count": 82,
      "metadata": {
        "execution": {
          "iopub.execute_input": "2022-05-30T22:36:44.914015Z",
          "iopub.status.busy": "2022-05-30T22:36:44.913101Z",
          "iopub.status.idle": "2022-05-30T22:36:46.311818Z",
          "shell.execute_reply": "2022-05-30T22:36:46.311008Z",
          "shell.execute_reply.started": "2022-05-30T22:36:44.913968Z"
        },
        "trusted": true,
        "colab": {
          "base_uri": "https://localhost:8080/",
          "height": 484
        },
        "id": "O-MCbMPVUT4W",
        "outputId": "ca43ed70-d4f5-4f0d-f612-abadb4813c80"
      },
      "outputs": [
        {
          "output_type": "display_data",
          "data": {
            "text/plain": [
              "<Figure size 640x480 with 1 Axes>"
            ],
            "image/png": "[encoded data removed]"
          },
          "metadata": {}
        }
      ],
      "source": [
        "import sympy\n",
        "sympy.plot(\"1/(1+exp(-x))\", xlim=(-5,5));"
      ]
    },
    {
      "cell_type": "markdown",
      "metadata": {
        "id": "L4mypnYwUT4W"
      },
      "source": [
        "PyTorch already defines that function for us, so we can modify `calc_preds` to use it:"
      ]
    },
    {
      "cell_type": "code",
      "execution_count": 85,
      "metadata": {
        "execution": {
          "iopub.execute_input": "2022-05-30T22:36:46.313644Z",
          "iopub.status.busy": "2022-05-30T22:36:46.313435Z",
          "iopub.status.idle": "2022-05-30T22:36:46.317749Z",
          "shell.execute_reply": "2022-05-30T22:36:46.3169Z",
          "shell.execute_reply.started": "2022-05-30T22:36:46.313618Z"
        },
        "trusted": true,
        "id": "1R74ffy6UT4W"
      },
      "outputs": [],
      "source": [
        "def calc_preds(coeffs, indeps): return torch.sigmoid((indeps*coeffs).sum(axis=1))"
      ]
    },
    {
      "cell_type": "markdown",
      "metadata": {
        "id": "XtRaJj5LUT4X"
      },
      "source": [
        "Let's train a new model now, using this updated function to calculate predictions:"
      ]
    },
    {
      "cell_type": "code",
      "execution_count": 86,
      "metadata": {
        "execution": {
          "iopub.execute_input": "2022-05-30T22:38:23.22576Z",
          "iopub.status.busy": "2022-05-30T22:38:23.225051Z",
          "iopub.status.idle": "2022-05-30T22:38:23.250206Z",
          "shell.execute_reply": "2022-05-30T22:38:23.249321Z",
          "shell.execute_reply.started": "2022-05-30T22:38:23.225722Z"
        },
        "trusted": true,
        "colab": {
          "base_uri": "https://localhost:8080/"
        },
        "id": "uzOWJyvfUT4X",
        "outputId": "751294a0-83cb-4789-9a9b-30f80e617f9c"
      },
      "outputs": [
        {
          "output_type": "stream",
          "name": "stdout",
          "text": [
            "0.510; 0.327; 0.294; 0.207; 0.201; 0.199; 0.198; 0.197; 0.196; 0.196; 0.196; 0.195; 0.195; 0.195; 0.195; 0.195; 0.195; 0.195; 0.194; 0.194; 0.194; 0.194; 0.194; 0.194; 0.194; 0.194; 0.194; 0.194; 0.194; 0.194; "
          ]
        }
      ],
      "source": [
        "coeffs = train_model(lr=100)"
      ]
    },
    {
      "cell_type": "markdown",
      "metadata": {
        "id": "6rEpvJAvUT4X"
      },
      "source": [
        "The loss has improved by a lot. Let's check the accuracy:"
      ]
    },
    {
      "cell_type": "code",
      "execution_count": 87,
      "metadata": {
        "execution": {
          "iopub.execute_input": "2022-05-30T22:38:28.519132Z",
          "iopub.status.busy": "2022-05-30T22:38:28.518642Z",
          "iopub.status.idle": "2022-05-30T22:38:28.527145Z",
          "shell.execute_reply": "2022-05-30T22:38:28.526248Z",
          "shell.execute_reply.started": "2022-05-30T22:38:28.519078Z"
        },
        "trusted": true,
        "colab": {
          "base_uri": "https://localhost:8080/"
        },
        "id": "gg3X4wRQUT4X",
        "outputId": "e7182fb9-29b5-4b65-ecdb-5a3312772f7d"
      },
      "outputs": [
        {
          "output_type": "execute_result",
          "data": {
            "text/plain": [
              "tensor(0.8258)"
            ]
          },
          "metadata": {},
          "execution_count": 87
        }
      ],
      "source": [
        "acc(coeffs)"
      ]
    },
    {
      "cell_type": "markdown",
      "metadata": {
        "id": "r9Z3bYMsUT4X"
      },
      "source": [
        "That's improved too! Here's the coefficients of our trained model:"
      ]
    },
    {
      "cell_type": "code",
      "execution_count": 88,
      "metadata": {
        "execution": {
          "iopub.execute_input": "2022-05-30T22:38:32.01697Z",
          "iopub.status.busy": "2022-05-30T22:38:32.015953Z",
          "iopub.status.idle": "2022-05-30T22:38:32.02724Z",
          "shell.execute_reply": "2022-05-30T22:38:32.026125Z",
          "shell.execute_reply.started": "2022-05-30T22:38:32.016924Z"
        },
        "trusted": true,
        "colab": {
          "base_uri": "https://localhost:8080/"
        },
        "id": "AlOzHe5OUT4X",
        "outputId": "7f97a53b-a4cf-47ce-f036-c6d75b24a7db"
      },
      "outputs": [
        {
          "output_type": "execute_result",
          "data": {
            "text/plain": [
              "{'Age': tensor(-1.5061),\n",
              " 'SibSp': tensor(-1.1575),\n",
              " 'Parch': tensor(-0.4267),\n",
              " 'LogFare': tensor(0.2543),\n",
              " 'Sex_male': tensor(-10.3320),\n",
              " 'Sex_female': tensor(8.4185),\n",
              " 'Pclass_1': tensor(3.8389),\n",
              " 'Pclass_2': tensor(2.1398),\n",
              " 'Pclass_3': tensor(-6.2331),\n",
              " 'Embarked_C': tensor(1.4771),\n",
              " 'Embarked_Q': tensor(2.1168),\n",
              " 'Embarked_S': tensor(-4.7958)}"
            ]
          },
          "metadata": {},
          "execution_count": 88
        }
      ],
      "source": [
        "show_coeffs()"
      ]
    },
    {
      "cell_type": "markdown",
      "metadata": {
        "id": "VElqDMUEUT4X"
      },
      "source": [
        "These coefficients seem reasonable -- in general, older people and males were less likely to survive, and first class passengers were more likely to survive."
      ]
    },
    {
      "cell_type": "markdown",
      "metadata": {
        "id": "lsCWR3ThUT4X"
      },
      "source": [
        "## Submitting to Kaggle"
      ]
    },
    {
      "cell_type": "markdown",
      "metadata": {
        "id": "qRirnjj4UT4X"
      },
      "source": [
        "Now that we've got a trained model, we can prepare a submission to Kaggle. To do that, first we need to read the test set:"
      ]
    },
    {
      "cell_type": "code",
      "execution_count": null,
      "metadata": {
        "execution": {
          "iopub.execute_input": "2022-05-30T22:38:35.172909Z",
          "iopub.status.busy": "2022-05-30T22:38:35.172343Z",
          "iopub.status.idle": "2022-05-30T22:38:35.188597Z",
          "shell.execute_reply": "2022-05-30T22:38:35.187826Z",
          "shell.execute_reply.started": "2022-05-30T22:38:35.172873Z"
        },
        "trusted": true,
        "id": "dpf-HoCWUT4X"
      },
      "outputs": [],
      "source": [
        "tst_df = pd.read_csv(path/'test.csv')"
      ]
    },
    {
      "cell_type": "markdown",
      "metadata": {
        "id": "YS_UG0cxUT4X"
      },
      "source": [
        "In this case, it turns out that the test set is missing `Fare` for one passenger. We'll just fill it with `0` to avoid problems:"
      ]
    },
    {
      "cell_type": "code",
      "execution_count": null,
      "metadata": {
        "execution": {
          "iopub.execute_input": "2022-05-30T22:38:36.353392Z",
          "iopub.status.busy": "2022-05-30T22:38:36.352687Z",
          "iopub.status.idle": "2022-05-30T22:38:36.358237Z",
          "shell.execute_reply": "2022-05-30T22:38:36.35739Z",
          "shell.execute_reply.started": "2022-05-30T22:38:36.353355Z"
        },
        "trusted": true,
        "id": "E-ovkJF7UT4X"
      },
      "outputs": [],
      "source": [
        "tst_df['Fare'] = tst_df.Fare.fillna(0)"
      ]
    },
    {
      "cell_type": "markdown",
      "metadata": {
        "id": "N-XlBL2BUT4X"
      },
      "source": [
        "Now we can just copy the same steps we did to our training set and do the same exact things on our test set to preprocess the data:"
      ]
    },
    {
      "cell_type": "code",
      "execution_count": null,
      "metadata": {
        "execution": {
          "iopub.execute_input": "2022-05-30T22:38:38.198549Z",
          "iopub.status.busy": "2022-05-30T22:38:38.198257Z",
          "iopub.status.idle": "2022-05-30T22:38:38.220592Z",
          "shell.execute_reply": "2022-05-30T22:38:38.219629Z",
          "shell.execute_reply.started": "2022-05-30T22:38:38.198519Z"
        },
        "trusted": true,
        "id": "xcIth3eVUT4X"
      },
      "outputs": [],
      "source": [
        "tst_df.fillna(modes, inplace=True)\n",
        "tst_df['LogFare'] = np.log(tst_df['Fare']+1)\n",
        "tst_df = pd.get_dummies(tst_df, columns=[\"Sex\",\"Pclass\",\"Embarked\"])\n",
        "\n",
        "tst_indep = tensor(tst_df[indep_cols].values, dtype=torch.float)\n",
        "tst_indep = tst_indep / vals"
      ]
    },
    {
      "cell_type": "markdown",
      "metadata": {
        "id": "BNAd2uy3UT4X"
      },
      "source": [
        "Let's calculate our predictions of which passengers survived in the test set:"
      ]
    },
    {
      "cell_type": "code",
      "execution_count": null,
      "metadata": {
        "execution": {
          "iopub.execute_input": "2022-05-30T22:38:39.206547Z",
          "iopub.status.busy": "2022-05-30T22:38:39.206216Z",
          "iopub.status.idle": "2022-05-30T22:38:39.212386Z",
          "shell.execute_reply": "2022-05-30T22:38:39.211631Z",
          "shell.execute_reply.started": "2022-05-30T22:38:39.206512Z"
        },
        "trusted": true,
        "id": "CKx0NZhvUT4X"
      },
      "outputs": [],
      "source": [
        "tst_df['Survived'] = (calc_preds(tst_indep, coeffs)>0.5).int()"
      ]
    },
    {
      "cell_type": "markdown",
      "metadata": {
        "id": "-fKtVwHtUT4Y"
      },
      "source": [
        "The sample submission on the Kaggle competition site shows that we're expected to upload a CSV with just `PassengerId` and `Survived`, so let's create that and save it:"
      ]
    },
    {
      "cell_type": "code",
      "execution_count": null,
      "metadata": {
        "execution": {
          "iopub.execute_input": "2022-05-30T22:38:40.161382Z",
          "iopub.status.busy": "2022-05-30T22:38:40.161034Z",
          "iopub.status.idle": "2022-05-30T22:38:40.173242Z",
          "shell.execute_reply": "2022-05-30T22:38:40.17258Z",
          "shell.execute_reply.started": "2022-05-30T22:38:40.161336Z"
        },
        "trusted": true,
        "id": "w0l2mQecUT4Y"
      },
      "outputs": [],
      "source": [
        "sub_df = tst_df[['PassengerId','Survived']]\n",
        "sub_df.to_csv('sub.csv', index=False)"
      ]
    },
    {
      "cell_type": "markdown",
      "metadata": {
        "id": "rtWICjf-UT4Y"
      },
      "source": [
        "We can check the first few rows of the file to make sure it looks reasonable:"
      ]
    },
    {
      "cell_type": "code",
      "execution_count": null,
      "metadata": {
        "execution": {
          "iopub.execute_input": "2022-05-30T22:38:42.869402Z",
          "iopub.status.busy": "2022-05-30T22:38:42.86855Z",
          "iopub.status.idle": "2022-05-30T22:38:43.638832Z",
          "shell.execute_reply": "2022-05-30T22:38:43.637559Z",
          "shell.execute_reply.started": "2022-05-30T22:38:42.869362Z"
        },
        "trusted": true,
        "id": "HvwZBRSIUT4Y"
      },
      "outputs": [],
      "source": [
        "!head sub.csv"
      ]
    },
    {
      "cell_type": "markdown",
      "metadata": {
        "id": "fWz1mKLMUT4Y"
      },
      "source": [
        "When you click \"save version\" in Kaggle, and wait for the notebook to run, you'll see that `sub.csv` appears in the \"Data\" tab. Clicking on that file will show a *Submit* button, which allows you to submit to the competition."
      ]
    },
    {
      "cell_type": "markdown",
      "metadata": {
        "id": "-JO_RolCUT4Y"
      },
      "source": [
        "## Using matrix product"
      ]
    },
    {
      "cell_type": "markdown",
      "metadata": {
        "id": "TmtwMFdWUT4Y"
      },
      "source": [
        "We can make things quite a bit neater...\n",
        "\n",
        "Take a look at the inner-most calculation we're doing to get the predictions:"
      ]
    },
    {
      "cell_type": "code",
      "execution_count": 89,
      "metadata": {
        "execution": {
          "iopub.execute_input": "2022-05-30T22:38:48.248084Z",
          "iopub.status.busy": "2022-05-30T22:38:48.247768Z",
          "iopub.status.idle": "2022-05-30T22:38:48.258935Z",
          "shell.execute_reply": "2022-05-30T22:38:48.258184Z",
          "shell.execute_reply.started": "2022-05-30T22:38:48.248052Z"
        },
        "trusted": true,
        "colab": {
          "base_uri": "https://localhost:8080/"
        },
        "id": "0YvbHiT1UT4Y",
        "outputId": "15f61d56-52bb-4e2a-bc41-f2f102407d0d"
      },
      "outputs": [
        {
          "output_type": "execute_result",
          "data": {
            "text/plain": [
              "tensor([ 12.3288, -14.8119, -15.4540, -13.1513, -13.3512, -13.6469,   3.6248,   5.3429, -22.0878,   3.1233, -21.8742, -15.6421, -21.5504,\n",
              "          3.9393, -21.9190, -12.0010, -12.3775,   5.3550, -13.5880,  -3.1015, -21.7237, -12.2081,  12.9767,   4.7427, -21.6525, -14.9135,\n",
              "         -2.7433, -12.3210, -21.5886,   3.9387,   5.3890,  -3.6196, -21.6296, -21.8454,  12.2159,  -3.2275, -12.0289,  13.4560, -21.7230,\n",
              "         -3.1366, -13.2462, -21.7230, -13.6831,  13.3092, -21.6477,  -3.5868, -21.6854, -21.8316, -14.8158,  -2.9386,  -5.3103, -22.2384,\n",
              "        -22.1097, -21.7466, -13.3780, -13.4909, -14.8119, -22.0690, -21.6666, -21.7818,  -5.4439, -21.7407, -12.6551, -21.6671,   4.9238,\n",
              "        -11.5777, -13.3323, -21.9638, -15.3030,   5.0243, -21.7614,   3.1820, -13.4721, -21.7170, -11.6066, -21.5737, -21.7230, -11.9652,\n",
              "        -13.2382, -13.7599, -13.2170,  13.1347, -21.7049, -21.7268,   4.9207,  -7.3198,  -5.3081,   7.1065,  11.4948, -13.3135, -21.8723,\n",
              "        -21.7230,  13.3603, -15.5670,   3.4105,  -7.2857, -13.7197,   3.6909,   3.9763, -14.7227, -21.8268,   3.9387, -21.8743, -21.8367,\n",
              "        -11.8518, -13.6712, -21.8299,   4.9440,  -5.4471, -21.9666,   5.1333,  -3.2187, -11.6008,  13.7920, -21.7230,  12.6369,  -3.7268,\n",
              "        -14.8119, -22.0637,  12.9468, -22.1610,  -6.1827, -14.8119,  -3.2838, -15.4540, -11.6950,  -2.9926,  -3.0110, -21.5664, -13.8268,\n",
              "          7.3426, -21.8418,   5.0744,   5.2582,  13.3415, -21.6289, -13.9898, -21.8112,  -7.3316,   5.2296, -13.4453,  12.7891, -22.1235,\n",
              "        -14.9625,  -3.4339,   6.3089, -21.9839,   3.1968,   7.2400,   2.8558,  -3.1187,   3.7965,   5.4667, -15.1101, -15.0597, -22.9391,\n",
              "        -21.7230,  -3.0346, -13.5206, -21.7011,  13.4425,  -7.2690, -21.8335, -12.0582,  13.0489,   6.7993,   5.2160,   5.0794, -12.6957,\n",
              "        -12.1838,  -3.0873, -21.6070,   7.0744, -21.7170, -22.1001,   6.8159, -11.6002, -21.6310])"
            ]
          },
          "metadata": {},
          "execution_count": 89
        }
      ],
      "source": [
        "(val_indep*coeffs).sum(axis=1)"
      ]
    },
    {
      "cell_type": "markdown",
      "metadata": {
        "id": "w0W8y3fdUT4Y"
      },
      "source": [
        "Multiplying elements together and then adding across rows is identical to doing a matrix-vector product! Python uses the `@` operator to indicate matrix products, and is supported by PyTorch tensors. Therefore, we can replicate the above calculate more simply like so:"
      ]
    },
    {
      "cell_type": "code",
      "execution_count": 90,
      "metadata": {
        "execution": {
          "iopub.execute_input": "2022-05-30T22:38:51.959798Z",
          "iopub.status.busy": "2022-05-30T22:38:51.959362Z",
          "iopub.status.idle": "2022-05-30T22:38:51.97614Z",
          "shell.execute_reply": "2022-05-30T22:38:51.975461Z",
          "shell.execute_reply.started": "2022-05-30T22:38:51.959765Z"
        },
        "trusted": true,
        "colab": {
          "base_uri": "https://localhost:8080/"
        },
        "id": "wcTZGSfGUT4Y",
        "outputId": "57e057d9-e259-4cfa-fa94-4458152e46ff"
      },
      "outputs": [
        {
          "output_type": "execute_result",
          "data": {
            "text/plain": [
              "tensor([ 12.3288, -14.8119, -15.4540, -13.1513, -13.3511, -13.6468,   3.6248,   5.3429, -22.0878,   3.1233, -21.8742, -15.6421, -21.5504,\n",
              "          3.9393, -21.9190, -12.0010, -12.3775,   5.3550, -13.5880,  -3.1015, -21.7237, -12.2081,  12.9767,   4.7427, -21.6525, -14.9135,\n",
              "         -2.7433, -12.3210, -21.5886,   3.9387,   5.3890,  -3.6196, -21.6296, -21.8454,  12.2159,  -3.2275, -12.0289,  13.4560, -21.7230,\n",
              "         -3.1366, -13.2462, -21.7230, -13.6831,  13.3092, -21.6477,  -3.5868, -21.6854, -21.8316, -14.8158,  -2.9386,  -5.3103, -22.2384,\n",
              "        -22.1097, -21.7466, -13.3780, -13.4909, -14.8119, -22.0690, -21.6666, -21.7818,  -5.4439, -21.7407, -12.6551, -21.6671,   4.9238,\n",
              "        -11.5777, -13.3323, -21.9638, -15.3030,   5.0243, -21.7614,   3.1820, -13.4721, -21.7170, -11.6066, -21.5737, -21.7230, -11.9652,\n",
              "        -13.2382, -13.7599, -13.2170,  13.1347, -21.7049, -21.7268,   4.9207,  -7.3198,  -5.3081,   7.1065,  11.4948, -13.3135, -21.8723,\n",
              "        -21.7230,  13.3603, -15.5670,   3.4105,  -7.2857, -13.7197,   3.6909,   3.9763, -14.7227, -21.8268,   3.9387, -21.8743, -21.8367,\n",
              "        -11.8518, -13.6712, -21.8299,   4.9440,  -5.4471, -21.9666,   5.1333,  -3.2187, -11.6008,  13.7920, -21.7230,  12.6369,  -3.7268,\n",
              "        -14.8119, -22.0637,  12.9468, -22.1610,  -6.1827, -14.8119,  -3.2838, -15.4540, -11.6950,  -2.9926,  -3.0110, -21.5664, -13.8268,\n",
              "          7.3426, -21.8418,   5.0744,   5.2582,  13.3415, -21.6289, -13.9898, -21.8112,  -7.3316,   5.2296, -13.4453,  12.7891, -22.1235,\n",
              "        -14.9625,  -3.4339,   6.3089, -21.9839,   3.1968,   7.2400,   2.8558,  -3.1187,   3.7965,   5.4667, -15.1101, -15.0597, -22.9391,\n",
              "        -21.7230,  -3.0346, -13.5206, -21.7011,  13.4425,  -7.2690, -21.8335, -12.0582,  13.0489,   6.7993,   5.2160,   5.0794, -12.6957,\n",
              "        -12.1838,  -3.0873, -21.6070,   7.0744, -21.7170, -22.1001,   6.8159, -11.6002, -21.6310])"
            ]
          },
          "metadata": {},
          "execution_count": 90
        }
      ],
      "source": [
        "val_indep@coeffs"
      ]
    },
    {
      "cell_type": "markdown",
      "metadata": {
        "id": "WKvlhya6UT4Y"
      },
      "source": [
        "It also turns out that this is much faster, because matrix products in PyTorch are very highly optimised.\n",
        "\n",
        "Let's use this to replace how `calc_preds` works:"
      ]
    },
    {
      "cell_type": "code",
      "execution_count": 91,
      "metadata": {
        "execution": {
          "iopub.execute_input": "2022-05-30T22:38:56.322255Z",
          "iopub.status.busy": "2022-05-30T22:38:56.321807Z",
          "iopub.status.idle": "2022-05-30T22:38:56.326812Z",
          "shell.execute_reply": "2022-05-30T22:38:56.32606Z",
          "shell.execute_reply.started": "2022-05-30T22:38:56.322213Z"
        },
        "trusted": true,
        "id": "Yx-Jo9uiUT4Y"
      },
      "outputs": [],
      "source": [
        "def calc_preds(coeffs, indeps): return torch.sigmoid(indeps@coeffs)"
      ]
    },
    {
      "cell_type": "markdown",
      "metadata": {
        "id": "jFJfhXKvUT4Y"
      },
      "source": [
        "In order to do matrix-matrix products (which we'll need in the next section), we need to turn `coeffs` into a column vector (i.e. a matrix with a single column), which we can do by passing a second argument `1` to `torch.rand()`, indicating that we want our coefficients to have one column:"
      ]
    },
    {
      "cell_type": "code",
      "execution_count": 92,
      "metadata": {
        "execution": {
          "iopub.execute_input": "2022-05-30T22:38:58.895779Z",
          "iopub.status.busy": "2022-05-30T22:38:58.895467Z",
          "iopub.status.idle": "2022-05-30T22:38:58.900851Z",
          "shell.execute_reply": "2022-05-30T22:38:58.899931Z",
          "shell.execute_reply.started": "2022-05-30T22:38:58.895744Z"
        },
        "trusted": true,
        "id": "rew_daqlUT4Y"
      },
      "outputs": [],
      "source": [
        "def init_coeffs(): return (torch.rand(n_coeff, 1)*0.1).requires_grad_()"
      ]
    },
    {
      "cell_type": "markdown",
      "metadata": {
        "id": "IhcNswHqUT4Y"
      },
      "source": [
        "We'll also need to turn our dependent variable into a column vector, which we can do by indexing the column dimension with the special value `None`, which tells PyTorch to add a new dimension in this position:"
      ]
    },
    {
      "cell_type": "code",
      "execution_count": 94,
      "metadata": {
        "execution": {
          "iopub.execute_input": "2022-05-30T22:38:59.789678Z",
          "iopub.status.busy": "2022-05-30T22:38:59.788799Z",
          "iopub.status.idle": "2022-05-30T22:38:59.794227Z",
          "shell.execute_reply": "2022-05-30T22:38:59.793326Z",
          "shell.execute_reply.started": "2022-05-30T22:38:59.789625Z"
        },
        "trusted": true,
        "id": "tnwpuqGRUT4Y"
      },
      "outputs": [],
      "source": [
        "trn_dep = trn_dep[:,None]\n",
        "val_dep = val_dep[:,None]"
      ]
    },
    {
      "cell_type": "markdown",
      "metadata": {
        "id": "u9jk_lt-UT4Y"
      },
      "source": [
        "We can now train our model as before and confirm we get identical outputs...:"
      ]
    },
    {
      "cell_type": "code",
      "execution_count": 95,
      "metadata": {
        "execution": {
          "iopub.execute_input": "2022-05-30T22:39:38.071003Z",
          "iopub.status.busy": "2022-05-30T22:39:38.070545Z",
          "iopub.status.idle": "2022-05-30T22:39:38.094666Z",
          "shell.execute_reply": "2022-05-30T22:39:38.093641Z",
          "shell.execute_reply.started": "2022-05-30T22:39:38.070972Z"
        },
        "trusted": true,
        "colab": {
          "base_uri": "https://localhost:8080/"
        },
        "id": "7G_9QoOsUT4Y",
        "outputId": "c83ed50d-0474-4b2f-d0a2-69ebc2e3427d"
      },
      "outputs": [
        {
          "output_type": "stream",
          "name": "stdout",
          "text": [
            "0.512; 0.323; 0.290; 0.205; 0.200; 0.198; 0.197; 0.197; 0.196; 0.196; 0.196; 0.195; 0.195; 0.195; 0.195; 0.195; 0.195; 0.194; 0.194; 0.194; 0.194; 0.194; 0.194; 0.194; 0.194; 0.194; 0.194; 0.194; 0.194; 0.194; "
          ]
        }
      ],
      "source": [
        "coeffs = train_model(lr=100)"
      ]
    },
    {
      "cell_type": "markdown",
      "metadata": {
        "id": "KSBs_CQ4UT4Y"
      },
      "source": [
        "...and identical accuracy:"
      ]
    },
    {
      "cell_type": "code",
      "execution_count": 96,
      "metadata": {
        "execution": {
          "iopub.execute_input": "2022-05-30T22:39:40.463735Z",
          "iopub.status.busy": "2022-05-30T22:39:40.463301Z",
          "iopub.status.idle": "2022-05-30T22:39:40.469684Z",
          "shell.execute_reply": "2022-05-30T22:39:40.468652Z",
          "shell.execute_reply.started": "2022-05-30T22:39:40.463702Z"
        },
        "trusted": true,
        "colab": {
          "base_uri": "https://localhost:8080/"
        },
        "id": "n1qLteK8UT4Y",
        "outputId": "306df51b-ff5c-480a-b7ba-919c863315c4"
      },
      "outputs": [
        {
          "output_type": "execute_result",
          "data": {
            "text/plain": [
              "tensor(0.8258)"
            ]
          },
          "metadata": {},
          "execution_count": 96
        }
      ],
      "source": [
        "acc(coeffs)"
      ]
    },
    {
      "cell_type": "markdown",
      "metadata": {
        "id": "r1oPYAVXUT4Y"
      },
      "source": [
        "## A neural network"
      ]
    },
    {
      "cell_type": "markdown",
      "metadata": {
        "id": "gLxlzcraUT4Y"
      },
      "source": [
        "We've now got what we need to implement our neural network.\n",
        "\n",
        "First, we'll need to create coefficients for each of our layers. Our first set of coefficients will take our `n_coeff` inputs, and create `n_hidden` outputs. We can choose whatever `n_hidden` we like -- a higher number gives our network more flexibility, but makes it slower and harder to train. So we need a matrix of size `n_coeff` by `n_hidden`. We'll divide these coefficients by `n_hidden` so that when we sum them up in the next layer we'll end up with similar magnitude numbers to what we started with.\n",
        "\n",
        "Then our second layer will need to take the `n_hidden` inputs and create a single output, so that means we need a `n_hidden` by `1` matrix there. The second layer will also need a constant term added."
      ]
    },
    {
      "cell_type": "code",
      "execution_count": 107,
      "metadata": {
        "execution": {
          "iopub.execute_input": "2022-05-30T22:39:44.428599Z",
          "iopub.status.busy": "2022-05-30T22:39:44.428254Z",
          "iopub.status.idle": "2022-05-30T22:39:44.434009Z",
          "shell.execute_reply": "2022-05-30T22:39:44.433164Z",
          "shell.execute_reply.started": "2022-05-30T22:39:44.428563Z"
        },
        "trusted": true,
        "id": "oUJYgBHnUT4Z"
      },
      "outputs": [],
      "source": [
        "def init_coeffs(n_hidden=20):\n",
        "    layer1 = (torch.rand(n_coeff, n_hidden)-0.5)/n_hidden\n",
        "    layer2 = torch.rand(n_hidden, 1)-0.3\n",
        "    const = torch.rand(1)[0]\n",
        "    return layer1.requires_grad_(),layer2.requires_grad_(),const.requires_grad_()"
      ]
    },
    {
      "cell_type": "markdown",
      "metadata": {
        "id": "CYUYYoC7UT4Z"
      },
      "source": [
        "Now we have our coefficients, we can create our neural net. The key steps are the two matrix products, `indeps@l1` and `res@l2` (where `res` is the output of the first layer). The first layer output is passed to `F.relu` (that's our non-linearity), and the second is passed to `torch.sigmoid` as before."
      ]
    },
    {
      "cell_type": "code",
      "execution_count": 117,
      "metadata": {
        "execution": {
          "iopub.execute_input": "2022-05-30T22:39:45.302903Z",
          "iopub.status.busy": "2022-05-30T22:39:45.302573Z",
          "iopub.status.idle": "2022-05-30T22:39:45.309472Z",
          "shell.execute_reply": "2022-05-30T22:39:45.308498Z",
          "shell.execute_reply.started": "2022-05-30T22:39:45.302864Z"
        },
        "trusted": true,
        "id": "z1qzx1uOUT4Z"
      },
      "outputs": [],
      "source": [
        "import torch.nn.functional as F\n",
        "\n",
        "def calc_preds(coeffs, indeps):\n",
        "    l1,l2,const = coeffs\n",
        "    res = F.relu(indeps@l1) #713 x 20\n",
        "    res = res@l2 + const #713 x1\n",
        "    return torch.sigmoid(res)"
      ]
    },
    {
      "cell_type": "markdown",
      "metadata": {
        "id": "5Bol2ZY1UT4Z"
      },
      "source": [
        "Finally, now that we have more than one set of coefficients, we need to add a loop to update each one:"
      ]
    },
    {
      "cell_type": "code",
      "execution_count": 119,
      "metadata": {
        "execution": {
          "iopub.execute_input": "2022-05-30T22:39:55.366945Z",
          "iopub.status.busy": "2022-05-30T22:39:55.3665Z",
          "iopub.status.idle": "2022-05-30T22:39:55.371578Z",
          "shell.execute_reply": "2022-05-30T22:39:55.370699Z",
          "shell.execute_reply.started": "2022-05-30T22:39:55.366914Z"
        },
        "trusted": true,
        "id": "WfzBWsVAUT4Z"
      },
      "outputs": [],
      "source": [
        "def update_coeffs(coeffs, lr):\n",
        "    for layer in coeffs:\n",
        "        layer.sub_(layer.grad * lr)\n",
        "        layer.grad.zero_()"
      ]
    },
    {
      "cell_type": "code",
      "source": [
        "torch.manual_seed(442)"
      ],
      "metadata": {
        "colab": {
          "base_uri": "https://localhost:8080/"
        },
        "id": "7a21qYp9-n2f",
        "outputId": "fa929096-eb55-4339-e01a-ef8e4c78b458"
      },
      "execution_count": 120,
      "outputs": [
        {
          "output_type": "execute_result",
          "data": {
            "text/plain": [
              "<torch._C.Generator at 0x7db1de096b10>"
            ]
          },
          "metadata": {},
          "execution_count": 120
        }
      ]
    },
    {
      "cell_type": "code",
      "source": [
        "coeffs = init_coeffs()"
      ],
      "metadata": {
        "id": "stu-xzds-vj2"
      },
      "execution_count": 123,
      "outputs": []
    },
    {
      "cell_type": "code",
      "source": [
        "trn_indep.shape"
      ],
      "metadata": {
        "colab": {
          "base_uri": "https://localhost:8080/"
        },
        "id": "NBABAYFbADjy",
        "outputId": "037b7236-366f-47a4-8cef-1e4f4630d4cf"
      },
      "execution_count": 147,
      "outputs": [
        {
          "output_type": "execute_result",
          "data": {
            "text/plain": [
              "torch.Size([713, 12])"
            ]
          },
          "metadata": {},
          "execution_count": 147
        }
      ]
    },
    {
      "cell_type": "code",
      "source": [
        "coeffs[0].shape"
      ],
      "metadata": {
        "colab": {
          "base_uri": "https://localhost:8080/"
        },
        "id": "qk5oREIlCsXE",
        "outputId": "aad97597-1438-4800-cf75-66f330fa7bed"
      },
      "execution_count": 149,
      "outputs": [
        {
          "output_type": "execute_result",
          "data": {
            "text/plain": [
              "torch.Size([12, 20])"
            ]
          },
          "metadata": {},
          "execution_count": 149
        }
      ]
    },
    {
      "cell_type": "code",
      "source": [
        "(trn_indep@coeffs[0]).shape"
      ],
      "metadata": {
        "colab": {
          "base_uri": "https://localhost:8080/"
        },
        "id": "0kRjBMO1_0hq",
        "outputId": "cc04dca5-5f91-4495-96df-a2ea586e5f21"
      },
      "execution_count": 150,
      "outputs": [
        {
          "output_type": "execute_result",
          "data": {
            "text/plain": [
              "torch.Size([713, 20])"
            ]
          },
          "metadata": {},
          "execution_count": 150
        }
      ]
    },
    {
      "cell_type": "markdown",
      "source": [
        "Reminder"
      ],
      "metadata": {
        "id": "EdeugiN_GmaK"
      }
    },
    {
      "cell_type": "code",
      "source": [
        "a1 = torch.Tensor([[1, 2],\n",
        "                          [3, 4],\n",
        "                          [5, 6],\n",
        "                          [7, 8],\n",
        "                          [9, 10],\n",
        "                          [11, 12]])"
      ],
      "metadata": {
        "id": "4GS1DjMyEUHy"
      },
      "execution_count": 151,
      "outputs": []
    },
    {
      "cell_type": "code",
      "source": [
        "a2 = torch.Tensor([[2, 3, 3],\n",
        "                   [1, 2, 3]])"
      ],
      "metadata": {
        "id": "hVANrt2ZE0w7"
      },
      "execution_count": 152,
      "outputs": []
    },
    {
      "cell_type": "code",
      "source": [
        "a1@a2"
      ],
      "metadata": {
        "colab": {
          "base_uri": "https://localhost:8080/"
        },
        "id": "248tACTrFAEK",
        "outputId": "2d822511-6992-4ccd-e83b-93b23481f9f3"
      },
      "execution_count": 153,
      "outputs": [
        {
          "output_type": "execute_result",
          "data": {
            "text/plain": [
              "tensor([[ 4.,  7.,  9.],\n",
              "        [10., 17., 21.],\n",
              "        [16., 27., 33.],\n",
              "        [22., 37., 45.],\n",
              "        [28., 47., 57.],\n",
              "        [34., 57., 69.]])"
            ]
          },
          "metadata": {},
          "execution_count": 153
        }
      ]
    },
    {
      "cell_type": "code",
      "source": [
        "(trn_indep@coeffs[0])[10]"
      ],
      "metadata": {
        "colab": {
          "base_uri": "https://localhost:8080/"
        },
        "id": "kLI83JINAkq7",
        "outputId": "007fdcd4-b2be-42ed-c9aa-dffc205b2771"
      },
      "execution_count": 137,
      "outputs": [
        {
          "output_type": "execute_result",
          "data": {
            "text/plain": [
              "tensor([-0.0318, -0.0405,  0.0216,  0.0023, -0.0143, -0.0108, -0.0055,  0.0301, -0.0176, -0.0399, -0.0111,  0.0440,  0.0333, -0.0169,\n",
              "         0.0369,  0.0212, -0.0125, -0.0392,  0.0670, -0.0261], grad_fn=<SelectBackward0>)"
            ]
          },
          "metadata": {},
          "execution_count": 137
        }
      ]
    },
    {
      "cell_type": "code",
      "source": [
        "torch.sigmoid(F.relu((trn_indep@coeffs[0]))@coeffs[1] +coeffs[2])"
      ],
      "metadata": {
        "colab": {
          "base_uri": "https://localhost:8080/"
        },
        "id": "xldDpnByApZ7",
        "outputId": "7d66358c-c00b-4d88-eabb-212afd2a47ff"
      },
      "execution_count": 144,
      "outputs": [
        {
          "output_type": "execute_result",
          "data": {
            "text/plain": [
              "tensor([[0.7299],\n",
              "        [0.7224],\n",
              "        [0.7299],\n",
              "        [0.7307],\n",
              "        [0.7265],\n",
              "        [0.7249],\n",
              "        [0.7184],\n",
              "        [0.7299],\n",
              "        [0.7299],\n",
              "        [0.7272],\n",
              "        [0.7261],\n",
              "        [0.7296],\n",
              "        [0.7297],\n",
              "        [0.7318],\n",
              "        [0.7243],\n",
              "        [0.7179],\n",
              "        [0.7242],\n",
              "        [0.7247],\n",
              "        [0.7275],\n",
              "        [0.7303],\n",
              "        [0.7300],\n",
              "        [0.7182],\n",
              "        [0.7297],\n",
              "        [0.7297],\n",
              "        [0.7300],\n",
              "        [0.7303],\n",
              "        [0.7246],\n",
              "        [0.7300],\n",
              "        [0.7310],\n",
              "        [0.7246],\n",
              "        [0.7295],\n",
              "        [0.7255],\n",
              "        [0.7262],\n",
              "        [0.7219],\n",
              "        [0.7297],\n",
              "        [0.7229],\n",
              "        [0.7295],\n",
              "        [0.7295],\n",
              "        [0.7285],\n",
              "        [0.7241],\n",
              "        [0.7254],\n",
              "        [0.7218],\n",
              "        [0.7246],\n",
              "        [0.7266],\n",
              "        [0.7258],\n",
              "        [0.7222],\n",
              "        [0.7299],\n",
              "        [0.7311],\n",
              "        [0.7233],\n",
              "        [0.7303],\n",
              "        [0.7311],\n",
              "        [0.7237],\n",
              "        [0.7247],\n",
              "        [0.7296],\n",
              "        [0.7300],\n",
              "        [0.7301],\n",
              "        [0.7261],\n",
              "        [0.7294],\n",
              "        [0.7297],\n",
              "        [0.7254],\n",
              "        [0.7292],\n",
              "        [0.7297],\n",
              "        [0.7188],\n",
              "        [0.7238],\n",
              "        [0.7298],\n",
              "        [0.7244],\n",
              "        [0.7224],\n",
              "        [0.7178],\n",
              "        [0.7260],\n",
              "        [0.7247],\n",
              "        [0.7179],\n",
              "        [0.7190],\n",
              "        [0.7299],\n",
              "        [0.7297],\n",
              "        [0.7236],\n",
              "        [0.7306],\n",
              "        [0.7169],\n",
              "        [0.7227],\n",
              "        [0.7265],\n",
              "        [0.7265],\n",
              "        [0.7308],\n",
              "        [0.7304],\n",
              "        [0.7255],\n",
              "        [0.7241],\n",
              "        [0.7208],\n",
              "        [0.7180],\n",
              "        [0.7310],\n",
              "        [0.7251],\n",
              "        [0.7297],\n",
              "        [0.7310],\n",
              "        [0.7292],\n",
              "        [0.7244],\n",
              "        [0.7296],\n",
              "        [0.7245],\n",
              "        [0.7246],\n",
              "        [0.7230],\n",
              "        [0.7179],\n",
              "        [0.7223],\n",
              "        [0.7247],\n",
              "        [0.7294],\n",
              "        [0.7256],\n",
              "        [0.7254],\n",
              "        [0.7297],\n",
              "        [0.7231],\n",
              "        [0.7297],\n",
              "        [0.7207],\n",
              "        [0.7242],\n",
              "        [0.7304],\n",
              "        [0.7294],\n",
              "        [0.7244],\n",
              "        [0.7297],\n",
              "        [0.7274],\n",
              "        [0.7300],\n",
              "        [0.7224],\n",
              "        [0.7228],\n",
              "        [0.7297],\n",
              "        [0.7174],\n",
              "        [0.7308],\n",
              "        [0.7295],\n",
              "        [0.7221],\n",
              "        [0.7220],\n",
              "        [0.7259],\n",
              "        [0.7261],\n",
              "        [0.7305],\n",
              "        [0.7232],\n",
              "        [0.7242],\n",
              "        [0.7270],\n",
              "        [0.7241],\n",
              "        [0.7296],\n",
              "        [0.7285],\n",
              "        [0.7300],\n",
              "        [0.7301],\n",
              "        [0.7261],\n",
              "        [0.7301],\n",
              "        [0.7297],\n",
              "        [0.7300],\n",
              "        [0.7199],\n",
              "        [0.7295],\n",
              "        [0.7224],\n",
              "        [0.7291],\n",
              "        [0.7300],\n",
              "        [0.7185],\n",
              "        [0.7300],\n",
              "        [0.7241],\n",
              "        [0.7178],\n",
              "        [0.7219],\n",
              "        [0.7229],\n",
              "        [0.7272],\n",
              "        [0.7216],\n",
              "        [0.7233],\n",
              "        [0.7295],\n",
              "        [0.7236],\n",
              "        [0.7304],\n",
              "        [0.7308],\n",
              "        [0.7261],\n",
              "        [0.7266],\n",
              "        [0.7306],\n",
              "        [0.7305],\n",
              "        [0.7302],\n",
              "        [0.7242],\n",
              "        [0.7244],\n",
              "        [0.7248],\n",
              "        [0.7179],\n",
              "        [0.7298],\n",
              "        [0.7305],\n",
              "        [0.7174],\n",
              "        [0.7298],\n",
              "        [0.7243],\n",
              "        [0.7270],\n",
              "        [0.7344],\n",
              "        [0.7250],\n",
              "        [0.7171],\n",
              "        [0.7229],\n",
              "        [0.7257],\n",
              "        [0.7237],\n",
              "        [0.7308],\n",
              "        [0.7274],\n",
              "        [0.7221],\n",
              "        [0.7306],\n",
              "        [0.7302],\n",
              "        [0.7220],\n",
              "        [0.7236],\n",
              "        [0.7300],\n",
              "        [0.7190],\n",
              "        [0.7250],\n",
              "        [0.7199],\n",
              "        [0.7242],\n",
              "        [0.7191],\n",
              "        [0.7237],\n",
              "        [0.7300],\n",
              "        [0.7295],\n",
              "        [0.7232],\n",
              "        [0.7180],\n",
              "        [0.7302],\n",
              "        [0.7302],\n",
              "        [0.7298],\n",
              "        [0.7309],\n",
              "        [0.7247],\n",
              "        [0.7261],\n",
              "        [0.7178],\n",
              "        [0.7246],\n",
              "        [0.7234],\n",
              "        [0.7295],\n",
              "        [0.7295],\n",
              "        [0.7297],\n",
              "        [0.7248],\n",
              "        [0.7179],\n",
              "        [0.7302],\n",
              "        [0.7297],\n",
              "        [0.7223],\n",
              "        [0.7276],\n",
              "        [0.7197],\n",
              "        [0.7245],\n",
              "        [0.7298],\n",
              "        [0.7296],\n",
              "        [0.7297],\n",
              "        [0.7233],\n",
              "        [0.7246],\n",
              "        [0.7257],\n",
              "        [0.7220],\n",
              "        [0.7305],\n",
              "        [0.7297],\n",
              "        [0.7308],\n",
              "        [0.7320],\n",
              "        [0.7264],\n",
              "        [0.7179],\n",
              "        [0.7285],\n",
              "        [0.7265],\n",
              "        [0.7275],\n",
              "        [0.7301],\n",
              "        [0.7255],\n",
              "        [0.7248],\n",
              "        [0.7305],\n",
              "        [0.7298],\n",
              "        [0.7310],\n",
              "        [0.7259],\n",
              "        [0.7219],\n",
              "        [0.7270],\n",
              "        [0.7260],\n",
              "        [0.7242],\n",
              "        [0.7272],\n",
              "        [0.7295],\n",
              "        [0.7268],\n",
              "        [0.7317],\n",
              "        [0.7264],\n",
              "        [0.7285],\n",
              "        [0.7295],\n",
              "        [0.7178],\n",
              "        [0.7297],\n",
              "        [0.7204],\n",
              "        [0.7276],\n",
              "        [0.7295],\n",
              "        [0.7225],\n",
              "        [0.7212],\n",
              "        [0.7191],\n",
              "        [0.7303],\n",
              "        [0.7302],\n",
              "        [0.7245],\n",
              "        [0.7243],\n",
              "        [0.7266],\n",
              "        [0.7304],\n",
              "        [0.7187],\n",
              "        [0.7299],\n",
              "        [0.7300],\n",
              "        [0.7211],\n",
              "        [0.7304],\n",
              "        [0.7246],\n",
              "        [0.7303],\n",
              "        [0.7220],\n",
              "        [0.7242],\n",
              "        [0.7219],\n",
              "        [0.7283],\n",
              "        [0.7264],\n",
              "        [0.7300],\n",
              "        [0.7206],\n",
              "        [0.7301],\n",
              "        [0.7258],\n",
              "        [0.7242],\n",
              "        [0.7184],\n",
              "        [0.7229],\n",
              "        [0.7273],\n",
              "        [0.7319],\n",
              "        [0.7295],\n",
              "        [0.7199],\n",
              "        [0.7178],\n",
              "        [0.7253],\n",
              "        [0.7258],\n",
              "        [0.7255],\n",
              "        [0.7247],\n",
              "        [0.7247],\n",
              "        [0.7300],\n",
              "        [0.7303],\n",
              "        [0.7260],\n",
              "        [0.7316],\n",
              "        [0.7204],\n",
              "        [0.7293],\n",
              "        [0.7250],\n",
              "        [0.7344],\n",
              "        [0.7297],\n",
              "        [0.7254],\n",
              "        [0.7245],\n",
              "        [0.7241],\n",
              "        [0.7222],\n",
              "        [0.7220],\n",
              "        [0.7304],\n",
              "        [0.7260],\n",
              "        [0.7246],\n",
              "        [0.7245],\n",
              "        [0.7243],\n",
              "        [0.7299],\n",
              "        [0.7220],\n",
              "        [0.7245],\n",
              "        [0.7199],\n",
              "        [0.7233],\n",
              "        [0.7217],\n",
              "        [0.7258],\n",
              "        [0.7299],\n",
              "        [0.7297],\n",
              "        [0.7308],\n",
              "        [0.7178],\n",
              "        [0.7299],\n",
              "        [0.7295],\n",
              "        [0.7285],\n",
              "        [0.7247],\n",
              "        [0.7257],\n",
              "        [0.7298],\n",
              "        [0.7293],\n",
              "        [0.7218],\n",
              "        [0.7300],\n",
              "        [0.7269],\n",
              "        [0.7306],\n",
              "        [0.7249],\n",
              "        [0.7185],\n",
              "        [0.7204],\n",
              "        [0.7295],\n",
              "        [0.7254],\n",
              "        [0.7207],\n",
              "        [0.7292],\n",
              "        [0.7241],\n",
              "        [0.7221],\n",
              "        [0.7269],\n",
              "        [0.7262],\n",
              "        [0.7303],\n",
              "        [0.7245],\n",
              "        [0.7302],\n",
              "        [0.7279],\n",
              "        [0.7246],\n",
              "        [0.7314],\n",
              "        [0.7224],\n",
              "        [0.7178],\n",
              "        [0.7251],\n",
              "        [0.7296],\n",
              "        [0.7297],\n",
              "        [0.7305],\n",
              "        [0.7270],\n",
              "        [0.7245],\n",
              "        [0.7247],\n",
              "        [0.7295],\n",
              "        [0.7223],\n",
              "        [0.7226],\n",
              "        [0.7273],\n",
              "        [0.7296],\n",
              "        [0.7246],\n",
              "        [0.7180],\n",
              "        [0.7298],\n",
              "        [0.7310],\n",
              "        [0.7247],\n",
              "        [0.7245],\n",
              "        [0.7296],\n",
              "        [0.7250],\n",
              "        [0.7247],\n",
              "        [0.7251],\n",
              "        [0.7296],\n",
              "        [0.7298],\n",
              "        [0.7224],\n",
              "        [0.7255],\n",
              "        [0.7221],\n",
              "        [0.7224],\n",
              "        [0.7297],\n",
              "        [0.7297],\n",
              "        [0.7248],\n",
              "        [0.7299],\n",
              "        [0.7299],\n",
              "        [0.7183],\n",
              "        [0.7242],\n",
              "        [0.7179],\n",
              "        [0.7311],\n",
              "        [0.7284],\n",
              "        [0.7181],\n",
              "        [0.7297],\n",
              "        [0.7176],\n",
              "        [0.7298],\n",
              "        [0.7249],\n",
              "        [0.7222],\n",
              "        [0.7302],\n",
              "        [0.7224],\n",
              "        [0.7234],\n",
              "        [0.7259],\n",
              "        [0.7257],\n",
              "        [0.7244],\n",
              "        [0.7298],\n",
              "        [0.7252],\n",
              "        [0.7297],\n",
              "        [0.7251],\n",
              "        [0.7262],\n",
              "        [0.7220],\n",
              "        [0.7242],\n",
              "        [0.7297],\n",
              "        [0.7202],\n",
              "        [0.7247],\n",
              "        [0.7245],\n",
              "        [0.7185],\n",
              "        [0.7260],\n",
              "        [0.7297],\n",
              "        [0.7242],\n",
              "        [0.7233],\n",
              "        [0.7248],\n",
              "        [0.7308],\n",
              "        [0.7242],\n",
              "        [0.7245],\n",
              "        [0.7259],\n",
              "        [0.7219],\n",
              "        [0.7300],\n",
              "        [0.7294],\n",
              "        [0.7182],\n",
              "        [0.7225],\n",
              "        [0.7304],\n",
              "        [0.7220],\n",
              "        [0.7294],\n",
              "        [0.7251],\n",
              "        [0.7302],\n",
              "        [0.7285],\n",
              "        [0.7303],\n",
              "        [0.7295],\n",
              "        [0.7249],\n",
              "        [0.7179],\n",
              "        [0.7245],\n",
              "        [0.7179],\n",
              "        [0.7252],\n",
              "        [0.7281],\n",
              "        [0.7250],\n",
              "        [0.7219],\n",
              "        [0.7296],\n",
              "        [0.7181],\n",
              "        [0.7297],\n",
              "        [0.7300],\n",
              "        [0.7222],\n",
              "        [0.7255],\n",
              "        [0.7227],\n",
              "        [0.7244],\n",
              "        [0.7294],\n",
              "        [0.7241],\n",
              "        [0.7270],\n",
              "        [0.7294],\n",
              "        [0.7220],\n",
              "        [0.7232],\n",
              "        [0.7232],\n",
              "        [0.7276],\n",
              "        [0.7250],\n",
              "        [0.7179],\n",
              "        [0.7252],\n",
              "        [0.7259],\n",
              "        [0.7250],\n",
              "        [0.7317],\n",
              "        [0.7250],\n",
              "        [0.7304],\n",
              "        [0.7181],\n",
              "        [0.7271],\n",
              "        [0.7244],\n",
              "        [0.7219],\n",
              "        [0.7184],\n",
              "        [0.7230],\n",
              "        [0.7297],\n",
              "        [0.7300],\n",
              "        [0.7304],\n",
              "        [0.7286],\n",
              "        [0.7297],\n",
              "        [0.7223],\n",
              "        [0.7242],\n",
              "        [0.7302],\n",
              "        [0.7296],\n",
              "        [0.7316],\n",
              "        [0.7214],\n",
              "        [0.7229],\n",
              "        [0.7295],\n",
              "        [0.7294],\n",
              "        [0.7296],\n",
              "        [0.7299],\n",
              "        [0.7177],\n",
              "        [0.7188],\n",
              "        [0.7216],\n",
              "        [0.7296],\n",
              "        [0.7297],\n",
              "        [0.7239],\n",
              "        [0.7225],\n",
              "        [0.7218],\n",
              "        [0.7259],\n",
              "        [0.7303],\n",
              "        [0.7245],\n",
              "        [0.7254],\n",
              "        [0.7179],\n",
              "        [0.7184],\n",
              "        [0.7297],\n",
              "        [0.7293],\n",
              "        [0.7305],\n",
              "        [0.7244],\n",
              "        [0.7322],\n",
              "        [0.7301],\n",
              "        [0.7248],\n",
              "        [0.7314],\n",
              "        [0.7248],\n",
              "        [0.7267],\n",
              "        [0.7178],\n",
              "        [0.7267],\n",
              "        [0.7296],\n",
              "        [0.7317],\n",
              "        [0.7314],\n",
              "        [0.7297],\n",
              "        [0.7223],\n",
              "        [0.7254],\n",
              "        [0.7264],\n",
              "        [0.7307],\n",
              "        [0.7242],\n",
              "        [0.7276],\n",
              "        [0.7297],\n",
              "        [0.7297],\n",
              "        [0.7243],\n",
              "        [0.7309],\n",
              "        [0.7188],\n",
              "        [0.7297],\n",
              "        [0.7264],\n",
              "        [0.7244],\n",
              "        [0.7275],\n",
              "        [0.7219],\n",
              "        [0.7261],\n",
              "        [0.7300],\n",
              "        [0.7311],\n",
              "        [0.7242],\n",
              "        [0.7297],\n",
              "        [0.7247],\n",
              "        [0.7301],\n",
              "        [0.7295],\n",
              "        [0.7287],\n",
              "        [0.7274],\n",
              "        [0.7241],\n",
              "        [0.7296],\n",
              "        [0.7304],\n",
              "        [0.7237],\n",
              "        [0.7303],\n",
              "        [0.7229],\n",
              "        [0.7308],\n",
              "        [0.7181],\n",
              "        [0.7257],\n",
              "        [0.7295],\n",
              "        [0.7180],\n",
              "        [0.7296],\n",
              "        [0.7207],\n",
              "        [0.7193],\n",
              "        [0.7299],\n",
              "        [0.7270],\n",
              "        [0.7309],\n",
              "        [0.7266],\n",
              "        [0.7297],\n",
              "        [0.7295],\n",
              "        [0.7297],\n",
              "        [0.7297],\n",
              "        [0.7291],\n",
              "        [0.7210],\n",
              "        [0.7217],\n",
              "        [0.7297],\n",
              "        [0.7252],\n",
              "        [0.7243],\n",
              "        [0.7292],\n",
              "        [0.7297],\n",
              "        [0.7259],\n",
              "        [0.7228],\n",
              "        [0.7179],\n",
              "        [0.7301],\n",
              "        [0.7186],\n",
              "        [0.7170],\n",
              "        [0.7296],\n",
              "        [0.7305],\n",
              "        [0.7271],\n",
              "        [0.7306],\n",
              "        [0.7306],\n",
              "        [0.7250],\n",
              "        [0.7247],\n",
              "        [0.7302],\n",
              "        [0.7299],\n",
              "        [0.7176],\n",
              "        [0.7269],\n",
              "        [0.7242],\n",
              "        [0.7252],\n",
              "        [0.7295],\n",
              "        [0.7297],\n",
              "        [0.7344],\n",
              "        [0.7271],\n",
              "        [0.7294],\n",
              "        [0.7296],\n",
              "        [0.7285],\n",
              "        [0.7302],\n",
              "        [0.7246],\n",
              "        [0.7296],\n",
              "        [0.7299],\n",
              "        [0.7211],\n",
              "        [0.7297],\n",
              "        [0.7207],\n",
              "        [0.7296],\n",
              "        [0.7253],\n",
              "        [0.7296],\n",
              "        [0.7300],\n",
              "        [0.7224],\n",
              "        [0.7269],\n",
              "        [0.7215],\n",
              "        [0.7219],\n",
              "        [0.7297],\n",
              "        [0.7297],\n",
              "        [0.7247],\n",
              "        [0.7240],\n",
              "        [0.7244],\n",
              "        [0.7220],\n",
              "        [0.7220],\n",
              "        [0.7294],\n",
              "        [0.7226],\n",
              "        [0.7296],\n",
              "        [0.7308],\n",
              "        [0.7298],\n",
              "        [0.7296],\n",
              "        [0.7293],\n",
              "        [0.7302],\n",
              "        [0.7302],\n",
              "        [0.7239],\n",
              "        [0.7292],\n",
              "        [0.7271],\n",
              "        [0.7296],\n",
              "        [0.7309],\n",
              "        [0.7229],\n",
              "        [0.7219],\n",
              "        [0.7185],\n",
              "        [0.7295],\n",
              "        [0.7243],\n",
              "        [0.7242],\n",
              "        [0.7295],\n",
              "        [0.7285],\n",
              "        [0.7199],\n",
              "        [0.7220],\n",
              "        [0.7297],\n",
              "        [0.7304],\n",
              "        [0.7268],\n",
              "        [0.7258],\n",
              "        [0.7246],\n",
              "        [0.7269],\n",
              "        [0.7301],\n",
              "        [0.7225],\n",
              "        [0.7266],\n",
              "        [0.7305],\n",
              "        [0.7299],\n",
              "        [0.7327],\n",
              "        [0.7262],\n",
              "        [0.7263],\n",
              "        [0.7259],\n",
              "        [0.7296],\n",
              "        [0.7248],\n",
              "        [0.7242],\n",
              "        [0.7193],\n",
              "        [0.7295],\n",
              "        [0.7268],\n",
              "        [0.7305],\n",
              "        [0.7220],\n",
              "        [0.7326],\n",
              "        [0.7229],\n",
              "        [0.7302],\n",
              "        [0.7296],\n",
              "        [0.7312],\n",
              "        [0.7179],\n",
              "        [0.7242],\n",
              "        [0.7246],\n",
              "        [0.7258],\n",
              "        [0.7243],\n",
              "        [0.7246],\n",
              "        [0.7242],\n",
              "        [0.7293],\n",
              "        [0.7262],\n",
              "        [0.7316],\n",
              "        [0.7243],\n",
              "        [0.7301],\n",
              "        [0.7175],\n",
              "        [0.7296],\n",
              "        [0.7244],\n",
              "        [0.7300],\n",
              "        [0.7250],\n",
              "        [0.7242],\n",
              "        [0.7216],\n",
              "        [0.7240],\n",
              "        [0.7263],\n",
              "        [0.7224],\n",
              "        [0.7295],\n",
              "        [0.7313],\n",
              "        [0.7301],\n",
              "        [0.7301],\n",
              "        [0.7257],\n",
              "        [0.7270],\n",
              "        [0.7292],\n",
              "        [0.7230],\n",
              "        [0.7298],\n",
              "        [0.7296],\n",
              "        [0.7245],\n",
              "        [0.7289],\n",
              "        [0.7296],\n",
              "        [0.7267],\n",
              "        [0.7179],\n",
              "        [0.7247],\n",
              "        [0.7297]], grad_fn=<SigmoidBackward0>)"
            ]
          },
          "metadata": {},
          "execution_count": 144
        }
      ]
    },
    {
      "cell_type": "markdown",
      "metadata": {
        "id": "GCT0fCbTUT4Z"
      },
      "source": [
        "That's it -- we're now ready to train our model!"
      ]
    },
    {
      "cell_type": "code",
      "source": [
        "one_epoch(coeffs, 1)"
      ],
      "metadata": {
        "colab": {
          "base_uri": "https://localhost:8080/"
        },
        "id": "lntewtLhG-kW",
        "outputId": "de2ccf09-fb64-441b-863f-f44a28030997"
      },
      "execution_count": 155,
      "outputs": [
        {
          "output_type": "stream",
          "name": "stdout",
          "text": [
            "0.557; "
          ]
        }
      ]
    },
    {
      "cell_type": "code",
      "source": [
        "one_epoch(coeffs, 1)"
      ],
      "metadata": {
        "colab": {
          "base_uri": "https://localhost:8080/"
        },
        "id": "v-dOUWODHQ5L",
        "outputId": "0c2515c9-a161-4ac5-e9e6-1cf37669f171"
      },
      "execution_count": 156,
      "outputs": [
        {
          "output_type": "stream",
          "name": "stdout",
          "text": [
            "0.548; "
          ]
        }
      ]
    },
    {
      "cell_type": "code",
      "source": [
        "one_epoch(coeffs, 1)"
      ],
      "metadata": {
        "colab": {
          "base_uri": "https://localhost:8080/"
        },
        "id": "umV7aP3IHUJq",
        "outputId": "d5c75cb7-f34b-45c7-d20c-d6366c74830d"
      },
      "execution_count": 157,
      "outputs": [
        {
          "output_type": "stream",
          "name": "stdout",
          "text": [
            "0.543; "
          ]
        }
      ]
    },
    {
      "cell_type": "code",
      "source": [
        "one_epoch(coeffs, 1)"
      ],
      "metadata": {
        "colab": {
          "base_uri": "https://localhost:8080/"
        },
        "id": "jxaRgKMHHU83",
        "outputId": "2e291d40-7836-4e91-e729-2a4cd5e0316b"
      },
      "execution_count": 158,
      "outputs": [
        {
          "output_type": "stream",
          "name": "stdout",
          "text": [
            "0.537; "
          ]
        }
      ]
    },
    {
      "cell_type": "code",
      "source": [
        "one_epoch(coeffs, 1)"
      ],
      "metadata": {
        "colab": {
          "base_uri": "https://localhost:8080/"
        },
        "id": "A9ez2Rd0HVgm",
        "outputId": "f343b043-97e1-4e28-8a8b-2a552a68b9f8"
      },
      "execution_count": 160,
      "outputs": [
        {
          "output_type": "stream",
          "name": "stdout",
          "text": [
            "0.522; "
          ]
        }
      ]
    },
    {
      "cell_type": "code",
      "source": [
        "one_epoch(coeffs, 10)"
      ],
      "metadata": {
        "colab": {
          "base_uri": "https://localhost:8080/"
        },
        "id": "HB74rLocHYzS",
        "outputId": "0cd780df-4b33-481b-e45d-059df954dfb3"
      },
      "execution_count": 161,
      "outputs": [
        {
          "output_type": "stream",
          "name": "stdout",
          "text": [
            "0.513; "
          ]
        }
      ]
    },
    {
      "cell_type": "code",
      "source": [
        "one_epoch(coeffs, 10)"
      ],
      "metadata": {
        "colab": {
          "base_uri": "https://localhost:8080/"
        },
        "id": "uSmXAAPjHapq",
        "outputId": "3c176666-80e2-41ab-ce98-09ea39ad90cd"
      },
      "execution_count": 162,
      "outputs": [
        {
          "output_type": "stream",
          "name": "stdout",
          "text": [
            "0.387; "
          ]
        }
      ]
    },
    {
      "cell_type": "code",
      "source": [
        "one_epoch(coeffs, 10)"
      ],
      "metadata": {
        "colab": {
          "base_uri": "https://localhost:8080/"
        },
        "id": "MYP28coNHbu4",
        "outputId": "6598c99a-1d11-454c-c527-cf1b2a15cf68"
      },
      "execution_count": 163,
      "outputs": [
        {
          "output_type": "stream",
          "name": "stdout",
          "text": [
            "0.275; "
          ]
        }
      ]
    },
    {
      "cell_type": "code",
      "execution_count": null,
      "metadata": {
        "execution": {
          "iopub.execute_input": "2022-05-30T22:39:58.189982Z",
          "iopub.status.busy": "2022-05-30T22:39:58.189651Z",
          "iopub.status.idle": "2022-05-30T22:39:58.227202Z",
          "shell.execute_reply": "2022-05-30T22:39:58.226226Z",
          "shell.execute_reply.started": "2022-05-30T22:39:58.189951Z"
        },
        "trusted": true,
        "id": "L2eGOP_aUT4Z"
      },
      "outputs": [],
      "source": [
        "coeffs = train_model(lr=1.4)"
      ]
    },
    {
      "cell_type": "code",
      "execution_count": null,
      "metadata": {
        "execution": {
          "iopub.execute_input": "2022-05-30T22:40:16.338016Z",
          "iopub.status.busy": "2022-05-30T22:40:16.337512Z",
          "iopub.status.idle": "2022-05-30T22:40:16.368327Z",
          "shell.execute_reply": "2022-05-30T22:40:16.367439Z",
          "shell.execute_reply.started": "2022-05-30T22:40:16.337959Z"
        },
        "trusted": true,
        "id": "qRo0Fq0vUT4Z"
      },
      "outputs": [],
      "source": [
        "coeffs = train_model(lr=20)"
      ]
    },
    {
      "cell_type": "markdown",
      "metadata": {
        "id": "y6glEizRUT4Z"
      },
      "source": [
        "It's looking good -- our loss is lower than before. Let's see if that translates to a better result on the validation set:"
      ]
    },
    {
      "cell_type": "markdown",
      "metadata": {
        "id": "Ni5pVsJzUT4Z"
      },
      "source": [
        "In this case our neural net isn't showing better results than the linear model. That's not surprising; this dataset is very small and very simple, and isn't the kind of thing we'd expect to see neural networks excel at. Furthermore, our validation set is too small to reliably see much accuracy difference. But the key thing is that we now know exactly what a real neural net looks like!"
      ]
    },
    {
      "cell_type": "markdown",
      "metadata": {
        "id": "pgoNyY-kUT4Z"
      },
      "source": [
        "## Deep learning"
      ]
    },
    {
      "cell_type": "markdown",
      "metadata": {
        "id": "COJTPxXOUT4Z"
      },
      "source": [
        "The neural net in the previous section only uses one hidden layer, so it doesn't count as \"deep\" learning. But we can use the exact same technique to make our neural net deep, by adding more matrix multiplications.\n",
        "\n",
        "First, we'll need to create additional coefficients for each layer:"
      ]
    },
    {
      "cell_type": "code",
      "execution_count": 165,
      "metadata": {
        "execution": {
          "iopub.execute_input": "2022-05-30T22:40:55.255291Z",
          "iopub.status.busy": "2022-05-30T22:40:55.25457Z",
          "iopub.status.idle": "2022-05-30T22:40:55.261806Z",
          "shell.execute_reply": "2022-05-30T22:40:55.261271Z",
          "shell.execute_reply.started": "2022-05-30T22:40:55.255242Z"
        },
        "trusted": true,
        "id": "Ie6o5HRMUT4Z"
      },
      "outputs": [],
      "source": [
        "def init_coeffs():\n",
        "    hiddens = [10, 10]  # <-- set this to the size of each hidden layer you want\n",
        "    sizes = [n_coeff] + hiddens + [1]\n",
        "    n = len(sizes)\n",
        "    layers = [(torch.rand(sizes[i], sizes[i+1])-0.3)/sizes[i+1]*4 for i in range(n-1)]\n",
        "    consts = [(torch.rand(1)[0]-0.5)*0.1 for i in range(n-1)]\n",
        "    for l in layers+consts: l.requires_grad_()\n",
        "    return layers,consts"
      ]
    },
    {
      "cell_type": "code",
      "source": [
        "l, c = init_coeffs()"
      ],
      "metadata": {
        "id": "I1PZZ6xvHvMt"
      },
      "execution_count": 168,
      "outputs": []
    },
    {
      "cell_type": "code",
      "source": [
        "len(l)"
      ],
      "metadata": {
        "colab": {
          "base_uri": "https://localhost:8080/"
        },
        "id": "oP_AnkU3HyJs",
        "outputId": "b133c094-905d-4973-d0be-d67e7c3f5553"
      },
      "execution_count": 172,
      "outputs": [
        {
          "output_type": "execute_result",
          "data": {
            "text/plain": [
              "3"
            ]
          },
          "metadata": {},
          "execution_count": 172
        }
      ]
    },
    {
      "cell_type": "code",
      "source": [
        "l[0].shape"
      ],
      "metadata": {
        "colab": {
          "base_uri": "https://localhost:8080/"
        },
        "id": "pc5oCEkyHxGI",
        "outputId": "68f0a439-ce35-4168-f02e-ca747dc077e6"
      },
      "execution_count": 174,
      "outputs": [
        {
          "output_type": "execute_result",
          "data": {
            "text/plain": [
              "torch.Size([12, 10])"
            ]
          },
          "metadata": {},
          "execution_count": 174
        }
      ]
    },
    {
      "cell_type": "code",
      "source": [
        "l[1].shape"
      ],
      "metadata": {
        "colab": {
          "base_uri": "https://localhost:8080/"
        },
        "id": "NKvVsv2THwLD",
        "outputId": "5f7c08af-0021-422b-a90a-ae306b73d5c9"
      },
      "execution_count": 176,
      "outputs": [
        {
          "output_type": "execute_result",
          "data": {
            "text/plain": [
              "torch.Size([10, 10])"
            ]
          },
          "metadata": {},
          "execution_count": 176
        }
      ]
    },
    {
      "cell_type": "code",
      "source": [
        "l[2].shape"
      ],
      "metadata": {
        "colab": {
          "base_uri": "https://localhost:8080/"
        },
        "id": "gQoNpQY7IDA9",
        "outputId": "21db25c1-e0f3-4a58-bcfe-c9075b37ce35"
      },
      "execution_count": 178,
      "outputs": [
        {
          "output_type": "execute_result",
          "data": {
            "text/plain": [
              "torch.Size([10, 1])"
            ]
          },
          "metadata": {},
          "execution_count": 178
        }
      ]
    },
    {
      "cell_type": "code",
      "source": [
        "sizes = [n_coeff] + [10, 10] + [1]"
      ],
      "metadata": {
        "id": "897bTtixIK8a"
      },
      "execution_count": 179,
      "outputs": []
    },
    {
      "cell_type": "code",
      "source": [
        "sizes"
      ],
      "metadata": {
        "colab": {
          "base_uri": "https://localhost:8080/"
        },
        "id": "VvRy4wM7IMeU",
        "outputId": "0035f217-9a06-4a00-df76-e81ed285d9e1"
      },
      "execution_count": 180,
      "outputs": [
        {
          "output_type": "execute_result",
          "data": {
            "text/plain": [
              "[12, 10, 10, 1]"
            ]
          },
          "metadata": {},
          "execution_count": 180
        }
      ]
    },
    {
      "cell_type": "code",
      "source": [],
      "metadata": {
        "id": "bhkWFgBJINsn"
      },
      "execution_count": null,
      "outputs": []
    },
    {
      "cell_type": "markdown",
      "metadata": {
        "id": "sOoTEPAPUT4Z"
      },
      "source": [
        "You'll notice here that there's a lot of messy constants to get the random numbers in just the right ranges. When you train the model in a moment, you'll see that the tiniest changes to these initialisations can cause our model to fail to train at all! This is a key reason that deep learning failed to make much progress in the early days -- it's very finicky to get a good starting point for our coefficients. Nowadays, we have ways to deal with that, which we'll learn about in other notebooks.\n",
        "\n",
        "Our deep learning `calc_preds` looks much the same as before, but now we loop through each layer, instead of listing them separately:"
      ]
    },
    {
      "cell_type": "code",
      "execution_count": null,
      "metadata": {
        "execution": {
          "iopub.execute_input": "2022-05-30T22:40:57.610974Z",
          "iopub.status.busy": "2022-05-30T22:40:57.610142Z",
          "iopub.status.idle": "2022-05-30T22:40:57.618154Z",
          "shell.execute_reply": "2022-05-30T22:40:57.617329Z",
          "shell.execute_reply.started": "2022-05-30T22:40:57.610916Z"
        },
        "trusted": true,
        "id": "sQJL46EsUT4Z"
      },
      "outputs": [],
      "source": [
        "import torch.nn.functional as F\n",
        "\n",
        "def calc_preds(coeffs, indeps):\n",
        "    layers,consts = coeffs\n",
        "    n = len(layers)\n",
        "    res = indeps\n",
        "    for i,l in enumerate(layers):\n",
        "        res = res@l + consts[i]\n",
        "        if i!=n-1: res = F.relu(res)\n",
        "    return torch.sigmoid(res)"
      ]
    },
    {
      "cell_type": "markdown",
      "metadata": {
        "id": "yt7fhQATUT4Z"
      },
      "source": [
        "We also need a minor update to `update_coeffs` since we've got `layers` and `consts` separated now:"
      ]
    },
    {
      "cell_type": "code",
      "execution_count": null,
      "metadata": {
        "execution": {
          "iopub.execute_input": "2022-05-30T22:41:08.513049Z",
          "iopub.status.busy": "2022-05-30T22:41:08.512494Z",
          "iopub.status.idle": "2022-05-30T22:41:08.519219Z",
          "shell.execute_reply": "2022-05-30T22:41:08.518093Z",
          "shell.execute_reply.started": "2022-05-30T22:41:08.512999Z"
        },
        "trusted": true,
        "id": "b6Tlh2MpUT4Z"
      },
      "outputs": [],
      "source": [
        "def update_coeffs(coeffs, lr):\n",
        "    layers,consts = coeffs\n",
        "    for layer in layers+consts:\n",
        "        layer.sub_(layer.grad * lr)\n",
        "        layer.grad.zero_()"
      ]
    },
    {
      "cell_type": "markdown",
      "metadata": {
        "id": "lA0EtyQyUT4Z"
      },
      "source": [
        "Let's train our model..."
      ]
    },
    {
      "cell_type": "code",
      "execution_count": null,
      "metadata": {
        "execution": {
          "iopub.execute_input": "2022-05-30T22:41:23.633004Z",
          "iopub.status.busy": "2022-05-30T22:41:23.632516Z",
          "iopub.status.idle": "2022-05-30T22:41:23.666981Z",
          "shell.execute_reply": "2022-05-30T22:41:23.666048Z",
          "shell.execute_reply.started": "2022-05-30T22:41:23.632953Z"
        },
        "trusted": true,
        "id": "UlFgDfEnUT4a"
      },
      "outputs": [],
      "source": [
        "coeffs = train_model(lr=4)"
      ]
    },
    {
      "cell_type": "markdown",
      "metadata": {
        "id": "xrQWoSn4UT4a"
      },
      "source": [
        "...and check its accuracy:"
      ]
    },
    {
      "cell_type": "code",
      "execution_count": null,
      "metadata": {
        "execution": {
          "iopub.execute_input": "2022-05-30T22:41:25.491182Z",
          "iopub.status.busy": "2022-05-30T22:41:25.490656Z",
          "iopub.status.idle": "2022-05-30T22:41:25.497888Z",
          "shell.execute_reply": "2022-05-30T22:41:25.49695Z",
          "shell.execute_reply.started": "2022-05-30T22:41:25.491146Z"
        },
        "trusted": true,
        "id": "ud5M0VBfUT4a"
      },
      "outputs": [],
      "source": [
        "acc(coeffs)"
      ]
    },
    {
      "cell_type": "markdown",
      "metadata": {
        "id": "xoLfUtu2UT4a"
      },
      "source": [
        "## Final thoughts"
      ]
    },
    {
      "cell_type": "markdown",
      "metadata": {
        "id": "cF-Rwm0PUT4a"
      },
      "source": [
        "It's actually pretty cool that we've managed to create a real deep learning model from scratch and trained it to get over 80% accuracy on this task, all in the course of a single notebook!\n",
        "\n",
        "The \"real\" deep learning models that are used in research and industry look very similar to this, and in fact if you look inside the source code of any deep learning model you'll recognise the basic steps are the same.\n",
        "\n",
        "The biggest differences in practical models to what we have above are:\n",
        "\n",
        "- How initialisation and normalisation is done to ensure the model trains correctly every time\n",
        "- Regularization (to avoid over-fitting)\n",
        "- Modifying the neural net itself to take advantage of knowledge of the problem domain\n",
        "- Doing gradient descent steps on smaller batches, rather than the whole dataset.\n",
        "\n",
        "I'll be adding notebooks about all these later, and will add links here once they're ready.\n",
        "\n",
        "If you found this notebook useful, please remember to click the little up-arrow at the top to upvote it, since I like to know when people have found my work useful, and it helps others find it too. (BTW, be sure you're looking at my [original notebook here](https://www.kaggle.com/code/jhoward/linear-model-and-neural-net-from-scratch) when you do that, and are not on your own copy of it, otherwise your upvote won't get counted!) And if you have any questions or comments, please pop them below -- I read every comment I receive!"
      ]
    },
    {
      "cell_type": "code",
      "execution_count": null,
      "metadata": {
        "id": "buUz8qHqUT4a"
      },
      "outputs": [],
      "source": []
    },
    {
      "cell_type": "markdown",
      "source": [
        "Notes by Shai\n",
        "\n",
        "\n",
        "*   Show the multiple layers as something more advance not to get into it too deep\n",
        "*   show how to use this code using pure Torch libraries\n",
        "*   Show vocabulary including segmoid and RELU function and activation function\n",
        "\n"
      ],
      "metadata": {
        "id": "r313kulPJRZH"
      }
    },
    {
      "cell_type": "code",
      "source": [],
      "metadata": {
        "id": "LCWiQHUwJjOM"
      },
      "execution_count": null,
      "outputs": []
    }
  ],
  "metadata": {
    "kernelspec": {
      "display_name": "Python 3",
      "language": "python",
      "name": "python3"
    },
    "language_info": {
      "codemirror_mode": {
        "name": "ipython",
        "version": 3
      },
      "file_extension": ".py",
      "mimetype": "text/x-python",
      "name": "python",
      "nbconvert_exporter": "python",
      "pygments_lexer": "ipython3",
      "version": "3.6.4"
    },
    "colab": {
      "provenance": [],
      "toc_visible": true,
      "include_colab_link": true
    }
  },
  "nbformat": 4,
  "nbformat_minor": 0
}