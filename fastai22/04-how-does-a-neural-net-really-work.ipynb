{
  "metadata": {
    "kernelspec": {
      "language": "python",
      "display_name": "Python 3",
      "name": "python3"
    },
    "language_info": {
      "pygments_lexer": "ipython3",
      "nbconvert_exporter": "python",
      "version": "3.6.4",
      "file_extension": ".py",
      "codemirror_mode": {
        "name": "ipython",
        "version": 3
      },
      "name": "python",
      "mimetype": "text/x-python"
    },
    "colab": {
      "provenance": []
    },
    "widgets": {
      "application/vnd.jupyter.widget-state+json": {
        "b525c6fd72cd4c79b180a2ce89c686cb": {
          "model_module": "@jupyter-widgets/controls",
          "model_name": "VBoxModel",
          "model_module_version": "1.5.0",
          "state": {
            "_dom_classes": [
              "widget-interact"
            ],
            "_model_module": "@jupyter-widgets/controls",
            "_model_module_version": "1.5.0",
            "_model_name": "VBoxModel",
            "_view_count": null,
            "_view_module": "@jupyter-widgets/controls",
            "_view_module_version": "1.5.0",
            "_view_name": "VBoxView",
            "box_style": "",
            "children": [
              "IPY_MODEL_17be97810b0648a7b679450689483a51",
              "IPY_MODEL_ef8fbce4997747aab1727e008dd1936e",
              "IPY_MODEL_df66de1308b9451da3087492f62fbd73",
              "IPY_MODEL_87d466f849224aebb9009d77d7a9729a"
            ],
            "layout": "IPY_MODEL_3cb275369b1446f9a28d0f012b0ea5cc"
          }
        },
        "17be97810b0648a7b679450689483a51": {
          "model_module": "@jupyter-widgets/controls",
          "model_name": "FloatSliderModel",
          "model_module_version": "1.5.0",
          "state": {
            "_dom_classes": [],
            "_model_module": "@jupyter-widgets/controls",
            "_model_module_version": "1.5.0",
            "_model_name": "FloatSliderModel",
            "_view_count": null,
            "_view_module": "@jupyter-widgets/controls",
            "_view_module_version": "1.5.0",
            "_view_name": "FloatSliderView",
            "continuous_update": true,
            "description": "a",
            "description_tooltip": null,
            "disabled": false,
            "layout": "IPY_MODEL_5ade6b2d62fb4af099d499945928e0ff",
            "max": 3.3000000000000003,
            "min": -1.1,
            "orientation": "horizontal",
            "readout": true,
            "readout_format": ".2f",
            "step": 0.1,
            "style": "IPY_MODEL_fa8030053ab6458ca5c3c8b3ede3af5b",
            "value": 1.1
          }
        },
        "ef8fbce4997747aab1727e008dd1936e": {
          "model_module": "@jupyter-widgets/controls",
          "model_name": "FloatSliderModel",
          "model_module_version": "1.5.0",
          "state": {
            "_dom_classes": [],
            "_model_module": "@jupyter-widgets/controls",
            "_model_module_version": "1.5.0",
            "_model_name": "FloatSliderModel",
            "_view_count": null,
            "_view_module": "@jupyter-widgets/controls",
            "_view_module_version": "1.5.0",
            "_view_name": "FloatSliderView",
            "continuous_update": true,
            "description": "b",
            "description_tooltip": null,
            "disabled": false,
            "layout": "IPY_MODEL_c0919f4254eb420192b787b94bf61f7d",
            "max": 3.3000000000000003,
            "min": -1.1,
            "orientation": "horizontal",
            "readout": true,
            "readout_format": ".2f",
            "step": 0.1,
            "style": "IPY_MODEL_4f6a50d11a4242c9831d432c8741850e",
            "value": 1.1
          }
        },
        "df66de1308b9451da3087492f62fbd73": {
          "model_module": "@jupyter-widgets/controls",
          "model_name": "FloatSliderModel",
          "model_module_version": "1.5.0",
          "state": {
            "_dom_classes": [],
            "_model_module": "@jupyter-widgets/controls",
            "_model_module_version": "1.5.0",
            "_model_name": "FloatSliderModel",
            "_view_count": null,
            "_view_module": "@jupyter-widgets/controls",
            "_view_module_version": "1.5.0",
            "_view_name": "FloatSliderView",
            "continuous_update": true,
            "description": "c",
            "description_tooltip": null,
            "disabled": false,
            "layout": "IPY_MODEL_20a878152243425396d31e5d53a1742d",
            "max": 3.3000000000000003,
            "min": -1.1,
            "orientation": "horizontal",
            "readout": true,
            "readout_format": ".2f",
            "step": 0.1,
            "style": "IPY_MODEL_d08ed0baa167494d83b47f9f3428ca1d",
            "value": 1.1
          }
        },
        "87d466f849224aebb9009d77d7a9729a": {
          "model_module": "@jupyter-widgets/output",
          "model_name": "OutputModel",
          "model_module_version": "1.0.0",
          "state": {
            "_dom_classes": [],
            "_model_module": "@jupyter-widgets/output",
            "_model_module_version": "1.0.0",
            "_model_name": "OutputModel",
            "_view_count": null,
            "_view_module": "@jupyter-widgets/output",
            "_view_module_version": "1.0.0",
            "_view_name": "OutputView",
            "layout": "IPY_MODEL_a598dd1a9b9b4495a2bee606c3f651c5",
            "msg_id": "",
            "outputs": [
              {
                "output_type": "display_data",
                "data": {
                  "text/plain": "<Figure size 576x432 with 1 Axes>",
                  "image/png": "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\n"
                },
                "metadata": {}
              }
            ]
          }
        },
        "3cb275369b1446f9a28d0f012b0ea5cc": {
          "model_module": "@jupyter-widgets/base",
          "model_name": "LayoutModel",
          "model_module_version": "1.2.0",
          "state": {
            "_model_module": "@jupyter-widgets/base",
            "_model_module_version": "1.2.0",
            "_model_name": "LayoutModel",
            "_view_count": null,
            "_view_module": "@jupyter-widgets/base",
            "_view_module_version": "1.2.0",
            "_view_name": "LayoutView",
            "align_content": null,
            "align_items": null,
            "align_self": null,
            "border": null,
            "bottom": null,
            "display": null,
            "flex": null,
            "flex_flow": null,
            "grid_area": null,
            "grid_auto_columns": null,
            "grid_auto_flow": null,
            "grid_auto_rows": null,
            "grid_column": null,
            "grid_gap": null,
            "grid_row": null,
            "grid_template_areas": null,
            "grid_template_columns": null,
            "grid_template_rows": null,
            "height": null,
            "justify_content": null,
            "justify_items": null,
            "left": null,
            "margin": null,
            "max_height": null,
            "max_width": null,
            "min_height": null,
            "min_width": null,
            "object_fit": null,
            "object_position": null,
            "order": null,
            "overflow": null,
            "overflow_x": null,
            "overflow_y": null,
            "padding": null,
            "right": null,
            "top": null,
            "visibility": null,
            "width": null
          }
        },
        "5ade6b2d62fb4af099d499945928e0ff": {
          "model_module": "@jupyter-widgets/base",
          "model_name": "LayoutModel",
          "model_module_version": "1.2.0",
          "state": {
            "_model_module": "@jupyter-widgets/base",
            "_model_module_version": "1.2.0",
            "_model_name": "LayoutModel",
            "_view_count": null,
            "_view_module": "@jupyter-widgets/base",
            "_view_module_version": "1.2.0",
            "_view_name": "LayoutView",
            "align_content": null,
            "align_items": null,
            "align_self": null,
            "border": null,
            "bottom": null,
            "display": null,
            "flex": null,
            "flex_flow": null,
            "grid_area": null,
            "grid_auto_columns": null,
            "grid_auto_flow": null,
            "grid_auto_rows": null,
            "grid_column": null,
            "grid_gap": null,
            "grid_row": null,
            "grid_template_areas": null,
            "grid_template_columns": null,
            "grid_template_rows": null,
            "height": null,
            "justify_content": null,
            "justify_items": null,
            "left": null,
            "margin": null,
            "max_height": null,
            "max_width": null,
            "min_height": null,
            "min_width": null,
            "object_fit": null,
            "object_position": null,
            "order": null,
            "overflow": null,
            "overflow_x": null,
            "overflow_y": null,
            "padding": null,
            "right": null,
            "top": null,
            "visibility": null,
            "width": null
          }
        },
        "fa8030053ab6458ca5c3c8b3ede3af5b": {
          "model_module": "@jupyter-widgets/controls",
          "model_name": "SliderStyleModel",
          "model_module_version": "1.5.0",
          "state": {
            "_model_module": "@jupyter-widgets/controls",
            "_model_module_version": "1.5.0",
            "_model_name": "SliderStyleModel",
            "_view_count": null,
            "_view_module": "@jupyter-widgets/base",
            "_view_module_version": "1.2.0",
            "_view_name": "StyleView",
            "description_width": "",
            "handle_color": null
          }
        },
        "c0919f4254eb420192b787b94bf61f7d": {
          "model_module": "@jupyter-widgets/base",
          "model_name": "LayoutModel",
          "model_module_version": "1.2.0",
          "state": {
            "_model_module": "@jupyter-widgets/base",
            "_model_module_version": "1.2.0",
            "_model_name": "LayoutModel",
            "_view_count": null,
            "_view_module": "@jupyter-widgets/base",
            "_view_module_version": "1.2.0",
            "_view_name": "LayoutView",
            "align_content": null,
            "align_items": null,
            "align_self": null,
            "border": null,
            "bottom": null,
            "display": null,
            "flex": null,
            "flex_flow": null,
            "grid_area": null,
            "grid_auto_columns": null,
            "grid_auto_flow": null,
            "grid_auto_rows": null,
            "grid_column": null,
            "grid_gap": null,
            "grid_row": null,
            "grid_template_areas": null,
            "grid_template_columns": null,
            "grid_template_rows": null,
            "height": null,
            "justify_content": null,
            "justify_items": null,
            "left": null,
            "margin": null,
            "max_height": null,
            "max_width": null,
            "min_height": null,
            "min_width": null,
            "object_fit": null,
            "object_position": null,
            "order": null,
            "overflow": null,
            "overflow_x": null,
            "overflow_y": null,
            "padding": null,
            "right": null,
            "top": null,
            "visibility": null,
            "width": null
          }
        },
        "4f6a50d11a4242c9831d432c8741850e": {
          "model_module": "@jupyter-widgets/controls",
          "model_name": "SliderStyleModel",
          "model_module_version": "1.5.0",
          "state": {
            "_model_module": "@jupyter-widgets/controls",
            "_model_module_version": "1.5.0",
            "_model_name": "SliderStyleModel",
            "_view_count": null,
            "_view_module": "@jupyter-widgets/base",
            "_view_module_version": "1.2.0",
            "_view_name": "StyleView",
            "description_width": "",
            "handle_color": null
          }
        },
        "20a878152243425396d31e5d53a1742d": {
          "model_module": "@jupyter-widgets/base",
          "model_name": "LayoutModel",
          "model_module_version": "1.2.0",
          "state": {
            "_model_module": "@jupyter-widgets/base",
            "_model_module_version": "1.2.0",
            "_model_name": "LayoutModel",
            "_view_count": null,
            "_view_module": "@jupyter-widgets/base",
            "_view_module_version": "1.2.0",
            "_view_name": "LayoutView",
            "align_content": null,
            "align_items": null,
            "align_self": null,
            "border": null,
            "bottom": null,
            "display": null,
            "flex": null,
            "flex_flow": null,
            "grid_area": null,
            "grid_auto_columns": null,
            "grid_auto_flow": null,
            "grid_auto_rows": null,
            "grid_column": null,
            "grid_gap": null,
            "grid_row": null,
            "grid_template_areas": null,
            "grid_template_columns": null,
            "grid_template_rows": null,
            "height": null,
            "justify_content": null,
            "justify_items": null,
            "left": null,
            "margin": null,
            "max_height": null,
            "max_width": null,
            "min_height": null,
            "min_width": null,
            "object_fit": null,
            "object_position": null,
            "order": null,
            "overflow": null,
            "overflow_x": null,
            "overflow_y": null,
            "padding": null,
            "right": null,
            "top": null,
            "visibility": null,
            "width": null
          }
        },
        "d08ed0baa167494d83b47f9f3428ca1d": {
          "model_module": "@jupyter-widgets/controls",
          "model_name": "SliderStyleModel",
          "model_module_version": "1.5.0",
          "state": {
            "_model_module": "@jupyter-widgets/controls",
            "_model_module_version": "1.5.0",
            "_model_name": "SliderStyleModel",
            "_view_count": null,
            "_view_module": "@jupyter-widgets/base",
            "_view_module_version": "1.2.0",
            "_view_name": "StyleView",
            "description_width": "",
            "handle_color": null
          }
        },
        "a598dd1a9b9b4495a2bee606c3f651c5": {
          "model_module": "@jupyter-widgets/base",
          "model_name": "LayoutModel",
          "model_module_version": "1.2.0",
          "state": {
            "_model_module": "@jupyter-widgets/base",
            "_model_module_version": "1.2.0",
            "_model_name": "LayoutModel",
            "_view_count": null,
            "_view_module": "@jupyter-widgets/base",
            "_view_module_version": "1.2.0",
            "_view_name": "LayoutView",
            "align_content": null,
            "align_items": null,
            "align_self": null,
            "border": null,
            "bottom": null,
            "display": null,
            "flex": null,
            "flex_flow": null,
            "grid_area": null,
            "grid_auto_columns": null,
            "grid_auto_flow": null,
            "grid_auto_rows": null,
            "grid_column": null,
            "grid_gap": null,
            "grid_row": null,
            "grid_template_areas": null,
            "grid_template_columns": null,
            "grid_template_rows": null,
            "height": null,
            "justify_content": null,
            "justify_items": null,
            "left": null,
            "margin": null,
            "max_height": null,
            "max_width": null,
            "min_height": null,
            "min_width": null,
            "object_fit": null,
            "object_position": null,
            "order": null,
            "overflow": null,
            "overflow_x": null,
            "overflow_y": null,
            "padding": null,
            "right": null,
            "top": null,
            "visibility": null,
            "width": null
          }
        },
        "bcdd4bbc62174211a81adddd0280c4b7": {
          "model_module": "@jupyter-widgets/controls",
          "model_name": "VBoxModel",
          "model_module_version": "1.5.0",
          "state": {
            "_dom_classes": [
              "widget-interact"
            ],
            "_model_module": "@jupyter-widgets/controls",
            "_model_module_version": "1.5.0",
            "_model_name": "VBoxModel",
            "_view_count": null,
            "_view_module": "@jupyter-widgets/controls",
            "_view_module_version": "1.5.0",
            "_view_name": "VBoxView",
            "box_style": "",
            "children": [
              "IPY_MODEL_674c87f4b9bf4884af073e521c5a2b66",
              "IPY_MODEL_fdcd8ce6e59c4212b997b44ea9452f08",
              "IPY_MODEL_0eefb089198c43f0b5aca90d4b03d2c4",
              "IPY_MODEL_062f9bb958b14659a51f3b94d5f6f61a"
            ],
            "layout": "IPY_MODEL_fb04f76088ab46578a2f2f2c10a53138"
          }
        },
        "674c87f4b9bf4884af073e521c5a2b66": {
          "model_module": "@jupyter-widgets/controls",
          "model_name": "FloatSliderModel",
          "model_module_version": "1.5.0",
          "state": {
            "_dom_classes": [],
            "_model_module": "@jupyter-widgets/controls",
            "_model_module_version": "1.5.0",
            "_model_name": "FloatSliderModel",
            "_view_count": null,
            "_view_module": "@jupyter-widgets/controls",
            "_view_module_version": "1.5.0",
            "_view_name": "FloatSliderView",
            "continuous_update": true,
            "description": "a",
            "description_tooltip": null,
            "disabled": false,
            "layout": "IPY_MODEL_bbb338c44387493ab20be7a06eae1ed4",
            "max": 3.3000000000000003,
            "min": -1.1,
            "orientation": "horizontal",
            "readout": true,
            "readout_format": ".2f",
            "step": 0.1,
            "style": "IPY_MODEL_9125c2b466004b71b30be78c92e965b8",
            "value": 1.1
          }
        },
        "fdcd8ce6e59c4212b997b44ea9452f08": {
          "model_module": "@jupyter-widgets/controls",
          "model_name": "FloatSliderModel",
          "model_module_version": "1.5.0",
          "state": {
            "_dom_classes": [],
            "_model_module": "@jupyter-widgets/controls",
            "_model_module_version": "1.5.0",
            "_model_name": "FloatSliderModel",
            "_view_count": null,
            "_view_module": "@jupyter-widgets/controls",
            "_view_module_version": "1.5.0",
            "_view_name": "FloatSliderView",
            "continuous_update": true,
            "description": "b",
            "description_tooltip": null,
            "disabled": false,
            "layout": "IPY_MODEL_09e0334bd9b7494a9fddf303f70966a8",
            "max": 3.3000000000000003,
            "min": -1.1,
            "orientation": "horizontal",
            "readout": true,
            "readout_format": ".2f",
            "step": 0.1,
            "style": "IPY_MODEL_7c2be37c7732488a846cb123c60e94cd",
            "value": 1.1
          }
        },
        "0eefb089198c43f0b5aca90d4b03d2c4": {
          "model_module": "@jupyter-widgets/controls",
          "model_name": "FloatSliderModel",
          "model_module_version": "1.5.0",
          "state": {
            "_dom_classes": [],
            "_model_module": "@jupyter-widgets/controls",
            "_model_module_version": "1.5.0",
            "_model_name": "FloatSliderModel",
            "_view_count": null,
            "_view_module": "@jupyter-widgets/controls",
            "_view_module_version": "1.5.0",
            "_view_name": "FloatSliderView",
            "continuous_update": true,
            "description": "c",
            "description_tooltip": null,
            "disabled": false,
            "layout": "IPY_MODEL_57871a3be2ee46b58d971e6292c9c548",
            "max": 3.3000000000000003,
            "min": -1.1,
            "orientation": "horizontal",
            "readout": true,
            "readout_format": ".2f",
            "step": 0.1,
            "style": "IPY_MODEL_d78cd938f52a4c3f9f8fd22f8c323779",
            "value": 1.1
          }
        },
        "062f9bb958b14659a51f3b94d5f6f61a": {
          "model_module": "@jupyter-widgets/output",
          "model_name": "OutputModel",
          "model_module_version": "1.0.0",
          "state": {
            "_dom_classes": [],
            "_model_module": "@jupyter-widgets/output",
            "_model_module_version": "1.0.0",
            "_model_name": "OutputModel",
            "_view_count": null,
            "_view_module": "@jupyter-widgets/output",
            "_view_module_version": "1.0.0",
            "_view_name": "OutputView",
            "layout": "IPY_MODEL_1508b9ab8efb471f926dbd5e0be59758",
            "msg_id": "",
            "outputs": [
              {
                "output_type": "display_data",
                "data": {
                  "text/plain": "<Figure size 576x432 with 1 Axes>",
                  "image/png": "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\n"
                },
                "metadata": {}
              }
            ]
          }
        },
        "fb04f76088ab46578a2f2f2c10a53138": {
          "model_module": "@jupyter-widgets/base",
          "model_name": "LayoutModel",
          "model_module_version": "1.2.0",
          "state": {
            "_model_module": "@jupyter-widgets/base",
            "_model_module_version": "1.2.0",
            "_model_name": "LayoutModel",
            "_view_count": null,
            "_view_module": "@jupyter-widgets/base",
            "_view_module_version": "1.2.0",
            "_view_name": "LayoutView",
            "align_content": null,
            "align_items": null,
            "align_self": null,
            "border": null,
            "bottom": null,
            "display": null,
            "flex": null,
            "flex_flow": null,
            "grid_area": null,
            "grid_auto_columns": null,
            "grid_auto_flow": null,
            "grid_auto_rows": null,
            "grid_column": null,
            "grid_gap": null,
            "grid_row": null,
            "grid_template_areas": null,
            "grid_template_columns": null,
            "grid_template_rows": null,
            "height": null,
            "justify_content": null,
            "justify_items": null,
            "left": null,
            "margin": null,
            "max_height": null,
            "max_width": null,
            "min_height": null,
            "min_width": null,
            "object_fit": null,
            "object_position": null,
            "order": null,
            "overflow": null,
            "overflow_x": null,
            "overflow_y": null,
            "padding": null,
            "right": null,
            "top": null,
            "visibility": null,
            "width": null
          }
        },
        "bbb338c44387493ab20be7a06eae1ed4": {
          "model_module": "@jupyter-widgets/base",
          "model_name": "LayoutModel",
          "model_module_version": "1.2.0",
          "state": {
            "_model_module": "@jupyter-widgets/base",
            "_model_module_version": "1.2.0",
            "_model_name": "LayoutModel",
            "_view_count": null,
            "_view_module": "@jupyter-widgets/base",
            "_view_module_version": "1.2.0",
            "_view_name": "LayoutView",
            "align_content": null,
            "align_items": null,
            "align_self": null,
            "border": null,
            "bottom": null,
            "display": null,
            "flex": null,
            "flex_flow": null,
            "grid_area": null,
            "grid_auto_columns": null,
            "grid_auto_flow": null,
            "grid_auto_rows": null,
            "grid_column": null,
            "grid_gap": null,
            "grid_row": null,
            "grid_template_areas": null,
            "grid_template_columns": null,
            "grid_template_rows": null,
            "height": null,
            "justify_content": null,
            "justify_items": null,
            "left": null,
            "margin": null,
            "max_height": null,
            "max_width": null,
            "min_height": null,
            "min_width": null,
            "object_fit": null,
            "object_position": null,
            "order": null,
            "overflow": null,
            "overflow_x": null,
            "overflow_y": null,
            "padding": null,
            "right": null,
            "top": null,
            "visibility": null,
            "width": null
          }
        },
        "9125c2b466004b71b30be78c92e965b8": {
          "model_module": "@jupyter-widgets/controls",
          "model_name": "SliderStyleModel",
          "model_module_version": "1.5.0",
          "state": {
            "_model_module": "@jupyter-widgets/controls",
            "_model_module_version": "1.5.0",
            "_model_name": "SliderStyleModel",
            "_view_count": null,
            "_view_module": "@jupyter-widgets/base",
            "_view_module_version": "1.2.0",
            "_view_name": "StyleView",
            "description_width": "",
            "handle_color": null
          }
        },
        "09e0334bd9b7494a9fddf303f70966a8": {
          "model_module": "@jupyter-widgets/base",
          "model_name": "LayoutModel",
          "model_module_version": "1.2.0",
          "state": {
            "_model_module": "@jupyter-widgets/base",
            "_model_module_version": "1.2.0",
            "_model_name": "LayoutModel",
            "_view_count": null,
            "_view_module": "@jupyter-widgets/base",
            "_view_module_version": "1.2.0",
            "_view_name": "LayoutView",
            "align_content": null,
            "align_items": null,
            "align_self": null,
            "border": null,
            "bottom": null,
            "display": null,
            "flex": null,
            "flex_flow": null,
            "grid_area": null,
            "grid_auto_columns": null,
            "grid_auto_flow": null,
            "grid_auto_rows": null,
            "grid_column": null,
            "grid_gap": null,
            "grid_row": null,
            "grid_template_areas": null,
            "grid_template_columns": null,
            "grid_template_rows": null,
            "height": null,
            "justify_content": null,
            "justify_items": null,
            "left": null,
            "margin": null,
            "max_height": null,
            "max_width": null,
            "min_height": null,
            "min_width": null,
            "object_fit": null,
            "object_position": null,
            "order": null,
            "overflow": null,
            "overflow_x": null,
            "overflow_y": null,
            "padding": null,
            "right": null,
            "top": null,
            "visibility": null,
            "width": null
          }
        },
        "7c2be37c7732488a846cb123c60e94cd": {
          "model_module": "@jupyter-widgets/controls",
          "model_name": "SliderStyleModel",
          "model_module_version": "1.5.0",
          "state": {
            "_model_module": "@jupyter-widgets/controls",
            "_model_module_version": "1.5.0",
            "_model_name": "SliderStyleModel",
            "_view_count": null,
            "_view_module": "@jupyter-widgets/base",
            "_view_module_version": "1.2.0",
            "_view_name": "StyleView",
            "description_width": "",
            "handle_color": null
          }
        },
        "57871a3be2ee46b58d971e6292c9c548": {
          "model_module": "@jupyter-widgets/base",
          "model_name": "LayoutModel",
          "model_module_version": "1.2.0",
          "state": {
            "_model_module": "@jupyter-widgets/base",
            "_model_module_version": "1.2.0",
            "_model_name": "LayoutModel",
            "_view_count": null,
            "_view_module": "@jupyter-widgets/base",
            "_view_module_version": "1.2.0",
            "_view_name": "LayoutView",
            "align_content": null,
            "align_items": null,
            "align_self": null,
            "border": null,
            "bottom": null,
            "display": null,
            "flex": null,
            "flex_flow": null,
            "grid_area": null,
            "grid_auto_columns": null,
            "grid_auto_flow": null,
            "grid_auto_rows": null,
            "grid_column": null,
            "grid_gap": null,
            "grid_row": null,
            "grid_template_areas": null,
            "grid_template_columns": null,
            "grid_template_rows": null,
            "height": null,
            "justify_content": null,
            "justify_items": null,
            "left": null,
            "margin": null,
            "max_height": null,
            "max_width": null,
            "min_height": null,
            "min_width": null,
            "object_fit": null,
            "object_position": null,
            "order": null,
            "overflow": null,
            "overflow_x": null,
            "overflow_y": null,
            "padding": null,
            "right": null,
            "top": null,
            "visibility": null,
            "width": null
          }
        },
        "d78cd938f52a4c3f9f8fd22f8c323779": {
          "model_module": "@jupyter-widgets/controls",
          "model_name": "SliderStyleModel",
          "model_module_version": "1.5.0",
          "state": {
            "_model_module": "@jupyter-widgets/controls",
            "_model_module_version": "1.5.0",
            "_model_name": "SliderStyleModel",
            "_view_count": null,
            "_view_module": "@jupyter-widgets/base",
            "_view_module_version": "1.2.0",
            "_view_name": "StyleView",
            "description_width": "",
            "handle_color": null
          }
        },
        "1508b9ab8efb471f926dbd5e0be59758": {
          "model_module": "@jupyter-widgets/base",
          "model_name": "LayoutModel",
          "model_module_version": "1.2.0",
          "state": {
            "_model_module": "@jupyter-widgets/base",
            "_model_module_version": "1.2.0",
            "_model_name": "LayoutModel",
            "_view_count": null,
            "_view_module": "@jupyter-widgets/base",
            "_view_module_version": "1.2.0",
            "_view_name": "LayoutView",
            "align_content": null,
            "align_items": null,
            "align_self": null,
            "border": null,
            "bottom": null,
            "display": null,
            "flex": null,
            "flex_flow": null,
            "grid_area": null,
            "grid_auto_columns": null,
            "grid_auto_flow": null,
            "grid_auto_rows": null,
            "grid_column": null,
            "grid_gap": null,
            "grid_row": null,
            "grid_template_areas": null,
            "grid_template_columns": null,
            "grid_template_rows": null,
            "height": null,
            "justify_content": null,
            "justify_items": null,
            "left": null,
            "margin": null,
            "max_height": null,
            "max_width": null,
            "min_height": null,
            "min_width": null,
            "object_fit": null,
            "object_position": null,
            "order": null,
            "overflow": null,
            "overflow_x": null,
            "overflow_y": null,
            "padding": null,
            "right": null,
            "top": null,
            "visibility": null,
            "width": null
          }
        },
        "3dbdf3b0170a4bdeb6bd7fbbd6de9ec1": {
          "model_module": "@jupyter-widgets/controls",
          "model_name": "VBoxModel",
          "model_module_version": "1.5.0",
          "state": {
            "_dom_classes": [
              "widget-interact"
            ],
            "_model_module": "@jupyter-widgets/controls",
            "_model_module_version": "1.5.0",
            "_model_name": "VBoxModel",
            "_view_count": null,
            "_view_module": "@jupyter-widgets/controls",
            "_view_module_version": "1.5.0",
            "_view_name": "VBoxView",
            "box_style": "",
            "children": [
              "IPY_MODEL_821aa290fc4f417d95b9ca8fe9c8ddc3",
              "IPY_MODEL_b9023fb0dc574ece8dee5e5014a6fd97",
              "IPY_MODEL_3aabc9a62ba44afa8b761db9d54125f3"
            ],
            "layout": "IPY_MODEL_1dd204b4480140868ff164da9646462a"
          }
        },
        "821aa290fc4f417d95b9ca8fe9c8ddc3": {
          "model_module": "@jupyter-widgets/controls",
          "model_name": "FloatSliderModel",
          "model_module_version": "1.5.0",
          "state": {
            "_dom_classes": [],
            "_model_module": "@jupyter-widgets/controls",
            "_model_module_version": "1.5.0",
            "_model_name": "FloatSliderModel",
            "_view_count": null,
            "_view_module": "@jupyter-widgets/controls",
            "_view_module_version": "1.5.0",
            "_view_name": "FloatSliderView",
            "continuous_update": true,
            "description": "m",
            "description_tooltip": null,
            "disabled": false,
            "layout": "IPY_MODEL_5965c3ed43c84da8b4b140fa24296dec",
            "max": 4.5,
            "min": -1.5,
            "orientation": "horizontal",
            "readout": true,
            "readout_format": ".2f",
            "step": 0.1,
            "style": "IPY_MODEL_17460aabe9874bcaa79eae173b99e55a",
            "value": 1.2
          }
        },
        "b9023fb0dc574ece8dee5e5014a6fd97": {
          "model_module": "@jupyter-widgets/controls",
          "model_name": "FloatSliderModel",
          "model_module_version": "1.5.0",
          "state": {
            "_dom_classes": [],
            "_model_module": "@jupyter-widgets/controls",
            "_model_module_version": "1.5.0",
            "_model_name": "FloatSliderModel",
            "_view_count": null,
            "_view_module": "@jupyter-widgets/controls",
            "_view_module_version": "1.5.0",
            "_view_name": "FloatSliderView",
            "continuous_update": true,
            "description": "b",
            "description_tooltip": null,
            "disabled": false,
            "layout": "IPY_MODEL_d8044716d95b4c66bcba8901caef037b",
            "max": 4.5,
            "min": -1.5,
            "orientation": "horizontal",
            "readout": true,
            "readout_format": ".2f",
            "step": 0.1,
            "style": "IPY_MODEL_b6929b61847c4adabe7deb8bdc91ffb7",
            "value": 0.3
          }
        },
        "3aabc9a62ba44afa8b761db9d54125f3": {
          "model_module": "@jupyter-widgets/output",
          "model_name": "OutputModel",
          "model_module_version": "1.0.0",
          "state": {
            "_dom_classes": [],
            "_model_module": "@jupyter-widgets/output",
            "_model_module_version": "1.0.0",
            "_model_name": "OutputModel",
            "_view_count": null,
            "_view_module": "@jupyter-widgets/output",
            "_view_module_version": "1.0.0",
            "_view_name": "OutputView",
            "layout": "IPY_MODEL_d41211ce788646ab981cb8571801aeee",
            "msg_id": "",
            "outputs": [
              {
                "output_type": "display_data",
                "data": {
                  "text/plain": "<Figure size 576x432 with 1 Axes>",
                  "image/png": "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\n"
                },
                "metadata": {}
              }
            ]
          }
        },
        "1dd204b4480140868ff164da9646462a": {
          "model_module": "@jupyter-widgets/base",
          "model_name": "LayoutModel",
          "model_module_version": "1.2.0",
          "state": {
            "_model_module": "@jupyter-widgets/base",
            "_model_module_version": "1.2.0",
            "_model_name": "LayoutModel",
            "_view_count": null,
            "_view_module": "@jupyter-widgets/base",
            "_view_module_version": "1.2.0",
            "_view_name": "LayoutView",
            "align_content": null,
            "align_items": null,
            "align_self": null,
            "border": null,
            "bottom": null,
            "display": null,
            "flex": null,
            "flex_flow": null,
            "grid_area": null,
            "grid_auto_columns": null,
            "grid_auto_flow": null,
            "grid_auto_rows": null,
            "grid_column": null,
            "grid_gap": null,
            "grid_row": null,
            "grid_template_areas": null,
            "grid_template_columns": null,
            "grid_template_rows": null,
            "height": null,
            "justify_content": null,
            "justify_items": null,
            "left": null,
            "margin": null,
            "max_height": null,
            "max_width": null,
            "min_height": null,
            "min_width": null,
            "object_fit": null,
            "object_position": null,
            "order": null,
            "overflow": null,
            "overflow_x": null,
            "overflow_y": null,
            "padding": null,
            "right": null,
            "top": null,
            "visibility": null,
            "width": null
          }
        },
        "5965c3ed43c84da8b4b140fa24296dec": {
          "model_module": "@jupyter-widgets/base",
          "model_name": "LayoutModel",
          "model_module_version": "1.2.0",
          "state": {
            "_model_module": "@jupyter-widgets/base",
            "_model_module_version": "1.2.0",
            "_model_name": "LayoutModel",
            "_view_count": null,
            "_view_module": "@jupyter-widgets/base",
            "_view_module_version": "1.2.0",
            "_view_name": "LayoutView",
            "align_content": null,
            "align_items": null,
            "align_self": null,
            "border": null,
            "bottom": null,
            "display": null,
            "flex": null,
            "flex_flow": null,
            "grid_area": null,
            "grid_auto_columns": null,
            "grid_auto_flow": null,
            "grid_auto_rows": null,
            "grid_column": null,
            "grid_gap": null,
            "grid_row": null,
            "grid_template_areas": null,
            "grid_template_columns": null,
            "grid_template_rows": null,
            "height": null,
            "justify_content": null,
            "justify_items": null,
            "left": null,
            "margin": null,
            "max_height": null,
            "max_width": null,
            "min_height": null,
            "min_width": null,
            "object_fit": null,
            "object_position": null,
            "order": null,
            "overflow": null,
            "overflow_x": null,
            "overflow_y": null,
            "padding": null,
            "right": null,
            "top": null,
            "visibility": null,
            "width": null
          }
        },
        "17460aabe9874bcaa79eae173b99e55a": {
          "model_module": "@jupyter-widgets/controls",
          "model_name": "SliderStyleModel",
          "model_module_version": "1.5.0",
          "state": {
            "_model_module": "@jupyter-widgets/controls",
            "_model_module_version": "1.5.0",
            "_model_name": "SliderStyleModel",
            "_view_count": null,
            "_view_module": "@jupyter-widgets/base",
            "_view_module_version": "1.2.0",
            "_view_name": "StyleView",
            "description_width": "",
            "handle_color": null
          }
        },
        "d8044716d95b4c66bcba8901caef037b": {
          "model_module": "@jupyter-widgets/base",
          "model_name": "LayoutModel",
          "model_module_version": "1.2.0",
          "state": {
            "_model_module": "@jupyter-widgets/base",
            "_model_module_version": "1.2.0",
            "_model_name": "LayoutModel",
            "_view_count": null,
            "_view_module": "@jupyter-widgets/base",
            "_view_module_version": "1.2.0",
            "_view_name": "LayoutView",
            "align_content": null,
            "align_items": null,
            "align_self": null,
            "border": null,
            "bottom": null,
            "display": null,
            "flex": null,
            "flex_flow": null,
            "grid_area": null,
            "grid_auto_columns": null,
            "grid_auto_flow": null,
            "grid_auto_rows": null,
            "grid_column": null,
            "grid_gap": null,
            "grid_row": null,
            "grid_template_areas": null,
            "grid_template_columns": null,
            "grid_template_rows": null,
            "height": null,
            "justify_content": null,
            "justify_items": null,
            "left": null,
            "margin": null,
            "max_height": null,
            "max_width": null,
            "min_height": null,
            "min_width": null,
            "object_fit": null,
            "object_position": null,
            "order": null,
            "overflow": null,
            "overflow_x": null,
            "overflow_y": null,
            "padding": null,
            "right": null,
            "top": null,
            "visibility": null,
            "width": null
          }
        },
        "b6929b61847c4adabe7deb8bdc91ffb7": {
          "model_module": "@jupyter-widgets/controls",
          "model_name": "SliderStyleModel",
          "model_module_version": "1.5.0",
          "state": {
            "_model_module": "@jupyter-widgets/controls",
            "_model_module_version": "1.5.0",
            "_model_name": "SliderStyleModel",
            "_view_count": null,
            "_view_module": "@jupyter-widgets/base",
            "_view_module_version": "1.2.0",
            "_view_name": "StyleView",
            "description_width": "",
            "handle_color": null
          }
        },
        "d41211ce788646ab981cb8571801aeee": {
          "model_module": "@jupyter-widgets/base",
          "model_name": "LayoutModel",
          "model_module_version": "1.2.0",
          "state": {
            "_model_module": "@jupyter-widgets/base",
            "_model_module_version": "1.2.0",
            "_model_name": "LayoutModel",
            "_view_count": null,
            "_view_module": "@jupyter-widgets/base",
            "_view_module_version": "1.2.0",
            "_view_name": "LayoutView",
            "align_content": null,
            "align_items": null,
            "align_self": null,
            "border": null,
            "bottom": null,
            "display": null,
            "flex": null,
            "flex_flow": null,
            "grid_area": null,
            "grid_auto_columns": null,
            "grid_auto_flow": null,
            "grid_auto_rows": null,
            "grid_column": null,
            "grid_gap": null,
            "grid_row": null,
            "grid_template_areas": null,
            "grid_template_columns": null,
            "grid_template_rows": null,
            "height": null,
            "justify_content": null,
            "justify_items": null,
            "left": null,
            "margin": null,
            "max_height": null,
            "max_width": null,
            "min_height": null,
            "min_width": null,
            "object_fit": null,
            "object_position": null,
            "order": null,
            "overflow": null,
            "overflow_x": null,
            "overflow_y": null,
            "padding": null,
            "right": null,
            "top": null,
            "visibility": null,
            "width": null
          }
        },
        "03ac3097130d4366b7d0636295b98eed": {
          "model_module": "@jupyter-widgets/controls",
          "model_name": "VBoxModel",
          "model_module_version": "1.5.0",
          "state": {
            "_dom_classes": [
              "widget-interact"
            ],
            "_model_module": "@jupyter-widgets/controls",
            "_model_module_version": "1.5.0",
            "_model_name": "VBoxModel",
            "_view_count": null,
            "_view_module": "@jupyter-widgets/controls",
            "_view_module_version": "1.5.0",
            "_view_name": "VBoxView",
            "box_style": "",
            "children": [
              "IPY_MODEL_fa4552cdacc9410b8ba32f2b471b640e",
              "IPY_MODEL_c3ddb90209c54f20a63f53272bc2026f",
              "IPY_MODEL_626c8090f57e4faeb48094743038ba1c",
              "IPY_MODEL_6bfde82ab08e41ff9f3b1a3f151c855e",
              "IPY_MODEL_bdb3046bb0c24defb527827fa6c55f8d"
            ],
            "layout": "IPY_MODEL_952305c62c09453aaa87a919af1f520d"
          }
        },
        "fa4552cdacc9410b8ba32f2b471b640e": {
          "model_module": "@jupyter-widgets/controls",
          "model_name": "FloatSliderModel",
          "model_module_version": "1.5.0",
          "state": {
            "_dom_classes": [],
            "_model_module": "@jupyter-widgets/controls",
            "_model_module_version": "1.5.0",
            "_model_name": "FloatSliderModel",
            "_view_count": null,
            "_view_module": "@jupyter-widgets/controls",
            "_view_module_version": "1.5.0",
            "_view_name": "FloatSliderView",
            "continuous_update": true,
            "description": "m1",
            "description_tooltip": null,
            "disabled": false,
            "layout": "IPY_MODEL_a979b9700d12454986f6f66d5aa4166e",
            "max": 1.5,
            "min": -4.5,
            "orientation": "horizontal",
            "readout": true,
            "readout_format": ".2f",
            "step": 0.1,
            "style": "IPY_MODEL_d8cbc3a36db94c2bb031d54527cf55fe",
            "value": -1.3
          }
        },
        "c3ddb90209c54f20a63f53272bc2026f": {
          "model_module": "@jupyter-widgets/controls",
          "model_name": "FloatSliderModel",
          "model_module_version": "1.5.0",
          "state": {
            "_dom_classes": [],
            "_model_module": "@jupyter-widgets/controls",
            "_model_module_version": "1.5.0",
            "_model_name": "FloatSliderModel",
            "_view_count": null,
            "_view_module": "@jupyter-widgets/controls",
            "_view_module_version": "1.5.0",
            "_view_name": "FloatSliderView",
            "continuous_update": true,
            "description": "b1",
            "description_tooltip": null,
            "disabled": false,
            "layout": "IPY_MODEL_3d4d180ba66843029beb878104fc2667",
            "max": 1.5,
            "min": -4.5,
            "orientation": "horizontal",
            "readout": true,
            "readout_format": ".2f",
            "step": 0.1,
            "style": "IPY_MODEL_aed5503f3d2d4b44a7406410ae958333",
            "value": -0.1
          }
        },
        "626c8090f57e4faeb48094743038ba1c": {
          "model_module": "@jupyter-widgets/controls",
          "model_name": "FloatSliderModel",
          "model_module_version": "1.5.0",
          "state": {
            "_dom_classes": [],
            "_model_module": "@jupyter-widgets/controls",
            "_model_module_version": "1.5.0",
            "_model_name": "FloatSliderModel",
            "_view_count": null,
            "_view_module": "@jupyter-widgets/controls",
            "_view_module_version": "1.5.0",
            "_view_name": "FloatSliderView",
            "continuous_update": true,
            "description": "m2",
            "description_tooltip": null,
            "disabled": false,
            "layout": "IPY_MODEL_9f69e0137a9f4baeb2de8788f6408af5",
            "max": 4.5,
            "min": -1.5,
            "orientation": "horizontal",
            "readout": true,
            "readout_format": ".2f",
            "step": 0.1,
            "style": "IPY_MODEL_7be92a5c91ca4b83a017f7c189336d86",
            "value": -0.5
          }
        },
        "6bfde82ab08e41ff9f3b1a3f151c855e": {
          "model_module": "@jupyter-widgets/controls",
          "model_name": "FloatSliderModel",
          "model_module_version": "1.5.0",
          "state": {
            "_dom_classes": [],
            "_model_module": "@jupyter-widgets/controls",
            "_model_module_version": "1.5.0",
            "_model_name": "FloatSliderModel",
            "_view_count": null,
            "_view_module": "@jupyter-widgets/controls",
            "_view_module_version": "1.5.0",
            "_view_name": "FloatSliderView",
            "continuous_update": true,
            "description": "b2",
            "description_tooltip": null,
            "disabled": false,
            "layout": "IPY_MODEL_431f48f04c6e4721a59b550049b19e26",
            "max": 4.5,
            "min": -1.5,
            "orientation": "horizontal",
            "readout": true,
            "readout_format": ".2f",
            "step": 0.1,
            "style": "IPY_MODEL_9588f1cfabc440ab96c5cac381ca0db4",
            "value": 2.5
          }
        },
        "bdb3046bb0c24defb527827fa6c55f8d": {
          "model_module": "@jupyter-widgets/output",
          "model_name": "OutputModel",
          "model_module_version": "1.0.0",
          "state": {
            "_dom_classes": [],
            "_model_module": "@jupyter-widgets/output",
            "_model_module_version": "1.0.0",
            "_model_name": "OutputModel",
            "_view_count": null,
            "_view_module": "@jupyter-widgets/output",
            "_view_module_version": "1.0.0",
            "_view_name": "OutputView",
            "layout": "IPY_MODEL_6bdaa2ff38c04b4aaf5d04f1cd152e16",
            "msg_id": "",
            "outputs": [
              {
                "output_type": "display_data",
                "data": {
                  "text/plain": "<Figure size 576x432 with 1 Axes>",
                  "image/png": "iVBORw0KGgoAAAANSUhEUgAAAesAAAF5CAYAAAC/XQLpAAAAOXRFWHRTb2Z0d2FyZQBNYXRwbG90bGliIHZlcnNpb24zLjcuMSwgaHR0cHM6Ly9tYXRwbG90bGliLm9yZy/bCgiHAAAACXBIWXMAAA3XAAAN1wFCKJt4AAAii0lEQVR4nO3de3SU1bnH8d8kkEgIhESa0kAQqdriBfB6uCYUpICgRC56FKoil7ZcrAqrcCrWoEjxVA7YggePCiiKolWpSLUImEAAQZDIVQ4gJARFDxgCQRKImfPHbm5ySQIzs/fMfD9rzTLJO8n7LKPrl/d997Mfj9fr9QoAADgrwnYBAADg3AhrAAAcR1gDAOA4whoAAMcR1gAAOI6wBgDAcYQ1AACOI6wBAHAcYQ0AgOP8Ftbvvvuu2rZtq/r16yspKUmzZ8/216kAAAhpdfzxQz/44AONHDlSr7zyijp37qyjR4/q66+/9sepAAAIeR5/7A1+4403avjw4RoxYoSvfzQAAGHH57fBjx8/ro0bN+rAgQO64oor1KRJEw0cOFBfffWVr08FAEB48PrY/v37vZK8rVu39u7bt8977Ngx76BBg7xdu3Y94/sfe+wxryRevHjx4sUrrF/n4vPb4EeOHFF8fLxeeOEFDR06VJK0Z88eXX755Tp27Jjq169/zu/3eDzyw5356i1fLvXrJx09Kt1/vzR7tlS3buDrAACEneqyz+e3wRs1aqTmzZuf8ZiVEK6pbt2kVaukpCRpzhzpttukwkLbVQEA4J/WrREjRuivf/2rDhw4oBMnTujxxx9Xt27dFBsb64/T+U7r1tLatdKVV0offCB16SKxih0AYJlfwnrChAnq1q2b2rRpo+TkZH333XeaP3++P07le82bS1lZUmqqtHGj1L69tHOn7aoAAGHML61bF8LaM+sfKi6W7rlHeuMN6eKLpcWLTXADAOBjAX9mHTKio6XXXpPGjpUOH5a6dpUWLbJdFQAgDBHW5xIRIT39tDRjhrnS7t9fevZZ21UBAMIMYV0Tv/uduR1et640apQ0YYJUWmq7KgBAmOCZdW2sWiX17Svl50uDBpkWr6go21UBAIJcddlHWNfWjh1Sz55Sbq55jv3221JcnO2qAABBjAVmvtaqlenFbtNGWrFC6txZysuzXRUAIIQR1ucjKUlauVLq3l3assW0dG3darsqAECIIqzPV8OG0nvvmV7svDypUycpI8N2VQCAEERYX4ioKGnePOmRR6SCAqlHD+n1121XBQAIMYT1hfJ4pMmTzZSukhLprrukadMklxfJAQCCCqvBfWnxYunOO6UTJ0xv9rRpUmSk7aoAAI6jdSvQ1q2T+vSRDh0yO57Nny/Vq2e7KgCAwwhrG3btknr1kvbskTp2lN59V0pIsF0VAMBR9FnbcPnl0po10o03SqtXm8Det892VQCAIEVY+0tiovTRR+aW+Oefm17sTZtsVwUACEKEtT/Vry+98440YoR08KCUkiItXWq7KgBAkCGs/a1OHdPW9cQTUmGh1Lu36c0GAKCGCOtA8HikiROluXPN50OGmN7sYF9IBwAICFaDB9rSpaalq7DQ3B6fNctcfQMAwhatWy7atEm65RbzHLtPH7NFaf36tqsCAFhCWLtq3z7Ti/3559JNN5ndzxITbVcFALCAPmtXtWhR0YO9fr3UoYO0e7ftqgAADiKsbUpIkD780DzD3rPH9GKvW2e7KgCAYwhr2+rVkxYulB54wOwn/otfmFviAAD8C2HtgshIacYM6emnzcSutDTTmw0AgAhrd3g80tix0muvmVau3/5WeuQRerEBAKwGd1JGhrm6LiiQ7rlHev55KSrKdlUAAD+hdStYbd1qWrvy8qTu3aW//U1q2NB2VQAAP6B1K1hdfbW0dq10zTVmxXhqqvTll7arAgBYQFi7rFkzadUqqWtXKTvbtHbt2GG7KgBAgBHWrouLk95/X7r7bik312yismqV7aoAAAFEWAeDqChp/nxp/HgpP988w37rLdtVAQAChLAOFhER0tSp0syZ0smT0sCB0jPP2K4KABAArAYPRosWSXfdJRUVSQ8/LP35zybMAQBBidatULVmjXTrrdK330p33im99JIUHW27KgDAeSCsQ9nOnaYXe+9eKSXFXHHHx9uuCgBQS/RZh7Kf/cxcYV93nbRypdS5s7R/v+2qAAA+RlgHuyZNpMxMqWdPads2qV07afNm21UBAHzI52F93333KSoqSrGxseWvtWvX+vo0qCw2Vnr3XWnIELPLWadO0vLltqsCAPiIX66sR44cqcLCwvJX+/bt/XEaVFa3rvTii9Jjj0nHjpln2a++arsqAIAPcBs8lHg8Unq6mdJVWioNHmx6s1mwBwBBzS9h/fLLLyshIUFXXXWVpk2bptLS0rO+Nz09XR6Pp/wFHxg2zNwWj4mR/uM/pNGjpe+/t10VAOA8+bx169NPP1VycrISEhL0ySef6I477tBDDz2khx56qGYF0brlOxs2SL17S998I/XtKy1YYAIcAOAU633Wzz77rF5++WV9/PHHNXo/Ye1jX3xhVorv2mVWii9eLDVubLsqAEAl1vusI9gG066WLU0vdrt20scfSx06mAAHAAQNnyfpG2+8oaNHj8rr9WrDhg2aOnWq+vfv7+vToDYaNzatXGlp5gq7fXtzixwAEBR8fhs8JSVFmzdvVklJiZo2baqhQ4dq3LhxNb7C5ja4H33/vfTAA9Kzz0r160tvvmlavAAAVll/Zl1bhLWfeb3SU0+ZVeKRkdJzz0lDh9quCgDCmvVn1nCMxyNNmCDNn2/Gag4bZnqz+QMJAJzFlXU4W75cuv12s+PZ/fdLs2ebndAAAAHFbXCc22efSbfcYvYU79nTPMeOjbVdFQCEFcIa1cvNNQvNtm+Xrr9eWrJE+vGPbVcFAGGDZ9aoXvPmUlaWlJIibdxoWrt27rRdFQDgXwhrGPHx0tKl0h13SHv3ms1T1qyxXRUAQIQ1KouOll57TXr4Yenbb6Vu3aR33rFdFQCEPcIaVUVESNOmSdOnS8XFUv/+0qxZtqsCgLBGWOPMHnxQWrhQiooyIzYnTDAzsgEAAcdqcJzbqlXSbbdJR45IgwZJc+aYAAcA+AytW7hw27eb1q7cXKlrV+ntt6W4ONtVAUDIoHULF+7KK6W1a6U2baQVK6TOnaW8PNtVAUDYIKxRM0lJ0sqVUvfu0pYtphd761bbVQFAWCCsUXMNG0rvvSfdc4+5su7UScrIsF0VAIQ8whq1ExUlzZsnPfKIVFAg9eghvf667aoAIKQR1qg9j0eaPNlM6Sopke66y/RmszAQAPyC1eC4MIsXS3feKZ04IT3wgPRf/yVFRtquCgCCCq1b8L9166Q+faRDh8yOZ6+8Il10ke2qACBoENYIjF27TC/2nj1m4dnf/y4lJNiuCgCCAn3WCIzLLzdTum680Yzb7NhR2rfPdlUAEBIIa/hOYqL00UdS797S55+bXuxNm2xXBQBBj7CGb9WvLy1aJA0fLh08KKWkmDnZAIDzRljD9+rUkZ57TnriCamw0Fxpv/SS7aoAIGgR1vAPj0eaOFGaO9d8ft99pjebxYMAUGusBof/LV1qWroKC6URI6RZs8zVNwBAEq1bcEV2tmntOnjQ9GS//rp5vg0AIKzhkJwcqWdPs1L8ppvM7meJibarAgDr6LOGOy65RFq92myasn691KGDtHu37aoAwHmENQIrIUH68EPzDHvPHtOLvW6d7aoAwGmENQLvooukhQvN4I9Dh6Rf/MLcEgcAnBFhDTsiI6UZM6SnnzYTu9LSTG82AOA0hDXs8XiksWOl114zrVy/+Y3pzWaBIQBUwWpwuCEjw1xdFxRI994rPf+8VLeu7aoAICBo3ULw2LrV9GLn5Undu0t/+5vUsKHtqgDA7whrBJcDB0xgb9kitW0rLVkiJSXZrgoA/Io+awSXpk2lVaukrl3Nrmft20s7dtiuCgCsIqzhnrg46f33pbvvlnJzpY4dpaws21UBgDV+DesTJ07osssuU6NGjfx5GoSiqChp/nxp/HgpP1+6+WbzDBsAwpBfw/qPf/yjLrnkEn+eAqEsIkKaOlWaOVM6eVK64w7pmWdsVwUAAee3sN64caM++OADjR8/3l+nQLgYNUp66y0pOlp68EFp3DiptNR2VQAQMH4J65KSEg0fPlyzZs1SVFSUP06BcHP77dLy5WZv8WnTzPPs4mLbVQFAQPglrP/85z/r2muvVUpKSrXvTU9Pl8fjKX8BZ9Whg7RmjXTppWZv8R49zPNsAAhxPu+z3r17t7p166ZNmzYpISFBGRkZSktL05EjR2pWEH3WqM7Bg1KfPtLGjdJVV5mV48nJtqsCgPMW8D7rrKwsff3117riiivUuHFj9e3bV0ePHlXjxo21jlGI8IUmTcz2pL16Sdu2Se3aSZs3264KAPzG51fW3333nb799tvyz9euXathw4Zp27ZtSkxMrPYZNlfWqLFTp8zwjzlzzLak77xjNlMBgCBTXfbV8fUJY2JiFBMTU/75j370I3k8HjVr1szXp0K4q1tXeuEFqXlzKT1d6tlTmjtXGjTIdmUA4FPsDY7Q8OKL0q9/LX3/vfSnP5nNVFiwCCBIMMgD4eMf/5AGDpS++04aOVL6y1+kyEjbVQFAtQhrhJcNG6TevaVvvpH69pUWLJAqPZYBABcR1gg/X3xhnl/v2mVWii9eLDVubLsqADgrRmQi/LRsaTZPaddO+vhjs5nKF1/YrgoAzhthjdDUuLHZnjQtzVxht29vbpEDQBAirBG6YmLMWM2RI80z7C5dzG5nABBkCGuEtshIM2LzT3+Sjh+Xbr3VtHkBQBAhrBH6PB5pwgTplVfMjOxhw8wmKixkBBAkWA2O8LJ8udSvn3T0qDR0qPTf/212QgMAi2jdAn5o82YzBOTLL80/33hDio21XRWAMEZYA2eyf7/pxd6+Xbr+emnJEunHP7ZdFYAwRZ81cCbJyVJWlpSaauZit28v7dxpuyoAOCPCGuErPl765z+lO++U9u6VOnY0m6kAgGMIa4S36Gizf/jYsdLhw1K3btKiRbarAoAqCGsgIkJ6+mlpxgypuFjq31969lnbVQFAOcIaKPO735mV4XXrSqNGmd7s0lLbVQEAq8GB06xaZcZr5udLgwZJc+ZIUVG2qwIQwmjdAs7Hjh2mtSs3V+raVXr7bSkuznZVAEIUrVvA+WjVSlq7VmrTRlqxQkpJkQ4csF0VgDBFWANnk5QkrVwpde9udj1r107autV2VQDCEGENnEvDhtJ770n33CPl5UmdOkkZGbarAhBmCGugOlFR0rx50iOPSAUFUo8e0uuv264KQBghrIGa8HikyZOl2bOlkhLprrukadMYswkgIFgNDtTW4sVmi9ITJ0xv9rRpUmSk7aoABDFatwB/WLdO6tNHOnTI7Hj2yivSRRfZrgpAkCKsAX/Zvdv0Yu/ZYxae/f3vUkKC7aoABCH6rAF/uewyM6XrxhvNuM1OnaScHNtVAQhBhDVwIRITpY8+MrfEd+wwvdibNtmuCkCIIayBC1W/vvTOO9KIEdLBg2a3s6VLbVcFIIQQ1oAv1Klj2rqeeEIqLJR695Zeesl2VQBCBGEN+IrHI02cKM2daz6/7z7pySfpxQZwwVgNDvjD0qWmpauw0NwenzXLXH0DwBnQugXYsmmTdMst5jl2nz5mi9L69W1XBcBBhDVg0759Uq9e0uefSzfdZHY/S0y0XRUAx9BnDdjUooW0erXUsaO0fr3UoYPZTAUAaoGwBvwtIUH68EPzDHvPHhPY69fbrgpAECGsgUCoV09auFB64AHp//5P6tLFzMkGgBogrIFAiYyUZsyQnn7aTOzq21f6n/+xXRWAIOCXsB4zZoySk5PVsGFDNW3aVA8++KBOnjzpj1MBwcXjkcaOlV57zbRy/frX0qOP0osN4Jz8shp8x44dat68uerXr69Dhw5p4MCB6tatmyZOnFh9QawGR7jIyJDS0qSCAunee6Xnn5fq1rVdFQALrKwGb9Wqler/q5/U6/UqIiJCu3bt8sepgODVpYuZ1tWsmdmatHdv6dgx21UBcJDfnllPnTpVsbGxSkxM1GeffaYxY8ac8X3p6enyeDzlLyCsXH21tHatdM01ZsV4Sor01Ve2qwLgGL9virJjxw69+uqr+s1vfqNmzZpVXxC3wRGOCgqkfv2kFSukSy6R3n9fatXKdlUAAsT6piitWrVSmzZtdN999/n7VEDwioszAT1okJSTYzZRycqyXRUARwSkdevUqVM8swaqExUlvfyyNH68lJ8v3Xyz9NZbtqsC4ACfh3VhYaHmzp2rI0eOyOv1asuWLZo8ebJ69Ojh61MBoSciQpo6VZo5Uzp5Uho4UPrLX2xXBcAynz+zPn78uNLS0vTpp5+quLhYiYmJ6t+/vyZNmqSYmJjqC+KZNWC88450991SUZHpzf7P/zRhDiDkMHULCGZr1ki33ip9+6307/8uzZsnRUfbrgqAjxHWQLDbuVPq2dOM20xNlRYtkho1slwUAF+yvhocwAX62c9ML/Z110mZmVKnTtL+/barAhBAhDUQDJo0MUHds6e0bZvUrp20ebPtqgAECGENBIvYWOndd6UhQ6Qvv5Q6dzabqAAIeYQ1EEzq1pVefFF67DHp6FFzpf3qq7arAuBnhDUQbDweKT1deuEFqbRUGjxYeuopxmwCIYzV4EAw+8c/zMYp330njRolPfOMFBlpuyoAtUTrFhDqNmww4zW/+cbMx16wQKpXz3ZVAGqBsAbCwRdfmOfXu3ZJ7dubhWiNG9uuCkAN0WcNhIOWLc1uZ+3amZ7sjh1NgAMICYQ1ECoaN5aWL5f69pX+93/NFfaGDbarAuADhDUQSmJizFjN3/7WPMPu0sUsQgMQ1AhrINRERkqzZplRm8ePS336SA8/LJ04YbsyAOeJBWZAKHvzTWnECOnIEalVK+nll6UbbrBdFYAfYDU4EO4OHJCGDpX++U9z1f3QQ9Ltt5vQjoqyXR0AEdYAJLO72XPPSWPHmg1UJNOL3aGDGbuZmirddJN00UV26wTCFGENoMK+fdIbb5gJXllZZn/xMtHRpvWrLLzbtTML1gD4HWEN4MxKSqTPPjPBnZkprVol5edXHK9b11xtp6ZKKSmmdzs21l69QAgjrAHUTGmptGVLRXivXCkdOlRxPDJSuv76iivvTp2kuDh79QIhhLAGcH68Xmn79orwzsyUvv664nhEhNS2bUV4d+4sJSRYKxcIZoQ1AN/wes3OaGVX3ZmZUl5exXGPR7rmmorwTkmRfvQje/UCQYSwBuAfXq+0d2/VK+99+6q+58orK8I7NVVq0sRKqYDrCGsAgZObWzW8d++uevyKK8wVd1l4JyfbqRNwDGENwJ4DBypumWdmSp9/XvX4pZdWvfJu0cLcTgfCDGENwB1ff23CuyzAt2ypejw5uWp4X3YZ4Y2wQFgDcNfhw6a/OzNTysgwfd+V////yU+qhvfPf054IyQR1gCCR36+2Vmt7Lb5p5+a/u8yiYlVn3lfdZVpIQOCHGENIHgdPSqtXl0R3hs2mJ3Xylx8senvLgvv1q3N5i1AkCGsAYSO48elNWsqer3XrZNOnqw43qiR2VmtLLyvvVaqU8dauUBNEdYAQteJEyawy668166ViooqjjdoYPY0LwvvG24we54DjiGsAYSP4mLpk08qwnv16oqRoJKZItahQ8Vz73/7NzNtDLCMsAYQvk6dkjZurAjvrCzp2LGK4z8cC9q+vZnzDQQYYQ0AZUpKpOzsqmNBjxypOF55LGhqqrkKZywoAoCwBoCzqW4saJ06p48FbdjQXr0IWYQ1ANRUaam0Y8e5x4Jee23FVDHGgsJHCGsAOF+Vx4KWvQ4cqDjOWFD4CGENAL7i9UpffFF1pjdjQeEDAQ/r4uJijR49WsuWLdOhQ4fUtGlT/f73v9f9999fo+8nrAEElZycqpPFzjQWtHJ4N2tmp044LeBhffz4cT311FO699571bJlS61bt069evXSwoUL9ctf/vKCCwYAp1U3FrRly4pb5owFxb84cRu8X79+uvrqq/X4449X+17CGkBIKRsLWhbeW7dWPc5YUMiBsC4qKtJll12mGTNmaMCAAdW+n7AGENIOHaoYC5qZyVhQSLIc1l6vV7/61a904MABLV++XBFnGGWXnp6uSZMmnfZ9ABAWjhw5fSzo999XHGcsaFiwFtZer1cjR47Uhg0btGzZMsXFxdXo+7iyBhDWjh2rOhb0k0+qjgVNSKgI75QUqU0bxoKGACth7fV6NWrUKH388cdavny54uPja/y9hDUAVHL8uJkmVhbePxwLGhdXdSzoddcxFjQIWQnrUaNGKSsrSytWrNDFF19cq+8lrAHgHCqPBV250sz3rjwWNDb29LGgUVH26kWNBDysc3Jy1KJFC0VHR6tOpb/uBg8erNmzZ1f7/YQ1ANRCcbG0YUPVyWKVx4LWq2cGkpSF9003SRddZK9enJH11eC1RVgDwAWozVjQlBQzFjQmxl69kERYA0B4YyxoUCCsAQAVvv/+9LGghw9XHGcsqBWENQDg7GozFjQ11YwFrUWHD2qGsAYA1FxNxoK2bl01vBkLesEIawDA+as8FrTslZNT9T1XXVV1lzXGgtYaYQ0A8K2cnKrhvWdP1eOMBa01whoA4F81HQta9mrRwkqZLiOsAQCBVd1Y0ObNK26bd+ki/fSnYT9ZjLAGANhV3VjQpKSqz7zDcCwoYQ0AcEt+/uljQUtLK46H4VhQwhoA4LajR81AkrONBb34YtMiVhberVuH3FhQwhoAEFxqMha0LLxTUkJiLChhDQAIbpXHgmZmmiAPsbGghDUAILQUF5tb5WXhvWaNuRovExNjpokF0VhQwhoAENrKxoKWtYtlZZnn4GUqjwVNTTUfOzYWlLAGAISXkhLTHlZ5LGh+fsVxB8eCEtYAgPBWWnr6WNBDhyqOR0aa59xl7WKdOplFbAFEWAMAUJnXK23ffu6xoG3bVp0slpDg15IIawAAzqVsLGjlLVLz8iqOezzSNddUhHdKis/HghLWAADUhtcr7d1b9cp7376q78nMNKHtI4Q1AAAXKje3IrizskzrWIMGPvvxhDUAAI6rLvtCe2d0AABCAGENAIDjCGsAABxHWAMA4DjCGgAAxxHWAAA4jrAGAMBxhDUAAI4jrAEAcBxhDQCA4whrAAAcR1gDAOA4whoAAMcR1gAAOI6wBgDAcYQ1AACO80tYz5w5UzfccIOio6OVlpbmj1MAABA26vjjhyYlJWnixIlatmyZ8vLy/HEKAADChl/Cul+/fpKk7OxswhoAgAtk/Zl1enq6PB5P+QsAAFTlRFh7vd7yFwAAqMp6WAMAgHMjrAEAcJxfFpiVlJSUv0pLS1VUVKSIiAhFRUX543QAAIQ0v4T15MmTNWnSpPLP69Wrp9TUVGVkZPjjdAAAhDSP17FVXR6Ph4VmAICwUl328cwaAADHEdYAADiOsAYAwHGENQAAjiOsAQBwHGENAIDjCGsAABxHWAMA4DjCGgAAxxHWAAA4jrAGAMBxhDUAAI4jrAEAcBxhDQCA4whrAAAcR1gDAOA4whoAAMcR1gAAOI6wBgDAcYQ1AACOI6wBAHAcYQ0AgOMIawAAHEdYAwDgOMIaAADHEdYAADiOsAYAwHGENQAAjiOsAQBwHGENAIDjCGsAABxHWAMA4DjCGgAAxxHWAAA4jrAGAMBxhDUAAI4jrAEAcJxfwvrUqVMaPXq04uPjlZCQoDFjxqikpMQfpwIAIOT5JawnT56srKwsbd++Xdu2bdOqVas0ZcoUf5wKAICQ5/F6vV5f/9Dk5GRNnz5dAwYMkCS9+eabGjdunHJycqovyOORH0oCAMBZ1WWfz6+s8/PzlZeXp7Zt25Z/rW3btsrNzVVBQYGvTwcAQMjzeVgXFhZKkho1alT+tbKPjx07dtr709PT5fF4yl8AAKAqn4d1bGysJFW5ii77uEGDBqe9Pz09XV6vt/wFAACq8nlYx8fHq1mzZsrOzi7/WnZ2tpKTkxUXF+fr0wEAEPL8shp8yJAhevLJJ3Xw4EEdPHhQU6ZM0bBhw/xxKgAAQl4df/zQRx99VIcPH1arVq0kSYMHD9Yf/vAHf5wKAICQ55fWrQtB6xYAINwEvHULAAD4FmENAIDjCGsAABxHWAMA4DjCGgAAxxHWAAA4jrAGAMBxhDUAAI4jrAEAcBxhDQCA4whrAAAcR1gDAOA4whoAAMcR1gAAOI6wBgDAcYQ1AACOI6wBAHAcYQ0AgOMIawAAHEdYAwDgOMIaAADHEdYAADiOsAYAwHGENQAAjiOsAQBwHGENAIDjCGsAABxHWAMA4DjCGgAAxxHWAAA4jrAGAMBxhDUAAI4jrAEAcBxhDQCA4whrAAAcR1gDAOA4whoAAMcR1gAAOM6nYf3VV1/ptttuU1JSkjwej7Kzs3354wEACEs+DeuIiAj17NlTixYt8uWPBQAgrHm8Xq/XLz/Y49GmTZvUtm3bWn+fn0oCAMBJ1WVfnQDWckbp6emaNGlSla95PB5L1QAA4J4aX1n36dNHS5YsOevxvXv3qkWLFhU/+DyvrG3hit4+fgd28e/fPn4H9rn6O6jxlfWCBQt08uTJsx5PSEjwSUEAAKCqGod1w4YN/VkHAAA4C58/sy4qKir/+OTJkyoqKlJUVJQiItxu6X7sscdslxD2+B3Yxb9/+/gd2Ofq78Dnq8HPtDjso48+UpcuXXx5GgAAwobPr6xdfDAPAEAwc/veNAAAIKwBAHAdYQ0AgOMI60qWLFmilJQUxcfHKzExUQMGDFBeXp7tssIKw2AC79SpUxo9erTi4+OVkJCgMWPGqKSkxHZZYWPmzJm64YYbFB0drbS0NNvlhKXi4mINHz5cl156qRo0aKCf//znmjNnju2yqiCsKykoKND48eO1f/9+7d27Vw0bNtQdd9xhu6ywwjCYwJs8ebKysrK0fft2bdu2TatWrdKUKVNslxU2kpKSNHHiRA0fPtx2KWGrpKREP/nJT7Rs2TIdPXpU8+bN09ixY7V06VLbpZXz2yCPULB582Zde+21Ki4uVp061rdRDzvBtmVtsEpOTtb06dM1YMAASdKbb76pcePGKScnx3Jl4SU9PV3Z2dn8oeqIfv366eqrr9bjjz9uuxRJXFmfU2Zmplq1akVQI2Tl5+crLy+vyh9Ebdu2VW5urgoKCuwVBlhUVFSk9evXq3Xr1rZLKRc2Yd2nTx95PJ6zvvbt21fl/Zs2bdKjjz6q6dOn2yk4BNX2dwD/KywslCQ1atSo/GtlHx87dsxCRYBdXq9Xw4YN0+WXX65+/frZLqdc2Fwy1mYQyZYtW9SrVy/NnDlT3bt3D0R5YYFhMO6JjY2VZNZrNG7cuPxjSWrQoIG1ugAbvF6vRo4cqZ07d2rZsmVObZMdNmFd00EkW7Zs0c0336ypU6dq8ODBfq4qvDAMxj3x8fFq1qyZsrOz9dOf/lSSlJ2dreTkZMXFxVmuDggcr9erUaNGad26dVq+fLlz//2782eDA7Zt26abb75ZkydP1pAhQ2yXE7aKiorKB8KUDYMpLS21XFXoGjJkiJ588kkdPHhQBw8e1JQpUzRs2DDbZYWNkpISFRUVqaSkRKWlpSoqKjrnHSj4x+jRo7V69Wp9+OGHio+Pt13OaVgNXsmQIUP00ksvKSYmpsrXt2/frubNm1uqKvwwDCawTp06pQcffFALFiyQJA0ePFjTp09nYWWApKena9KkSVW+lpqaqoyMDDsFhaGcnBy1aNFC0dHRVf67Hzx4sGbPnm2xsgqENQAAjuM2OAAAjiOsAQBwHGENAIDjCGsAABxHWAMA4DjCGgAAxxHWAAA4jrAGAMBxhDUAAI4jrAEAcBxhDQCA4/4fV56ASvp7ljwAAAAASUVORK5CYII=\n"
                },
                "metadata": {}
              }
            ]
          }
        },
        "952305c62c09453aaa87a919af1f520d": {
          "model_module": "@jupyter-widgets/base",
          "model_name": "LayoutModel",
          "model_module_version": "1.2.0",
          "state": {
            "_model_module": "@jupyter-widgets/base",
            "_model_module_version": "1.2.0",
            "_model_name": "LayoutModel",
            "_view_count": null,
            "_view_module": "@jupyter-widgets/base",
            "_view_module_version": "1.2.0",
            "_view_name": "LayoutView",
            "align_content": null,
            "align_items": null,
            "align_self": null,
            "border": null,
            "bottom": null,
            "display": null,
            "flex": null,
            "flex_flow": null,
            "grid_area": null,
            "grid_auto_columns": null,
            "grid_auto_flow": null,
            "grid_auto_rows": null,
            "grid_column": null,
            "grid_gap": null,
            "grid_row": null,
            "grid_template_areas": null,
            "grid_template_columns": null,
            "grid_template_rows": null,
            "height": null,
            "justify_content": null,
            "justify_items": null,
            "left": null,
            "margin": null,
            "max_height": null,
            "max_width": null,
            "min_height": null,
            "min_width": null,
            "object_fit": null,
            "object_position": null,
            "order": null,
            "overflow": null,
            "overflow_x": null,
            "overflow_y": null,
            "padding": null,
            "right": null,
            "top": null,
            "visibility": null,
            "width": null
          }
        },
        "a979b9700d12454986f6f66d5aa4166e": {
          "model_module": "@jupyter-widgets/base",
          "model_name": "LayoutModel",
          "model_module_version": "1.2.0",
          "state": {
            "_model_module": "@jupyter-widgets/base",
            "_model_module_version": "1.2.0",
            "_model_name": "LayoutModel",
            "_view_count": null,
            "_view_module": "@jupyter-widgets/base",
            "_view_module_version": "1.2.0",
            "_view_name": "LayoutView",
            "align_content": null,
            "align_items": null,
            "align_self": null,
            "border": null,
            "bottom": null,
            "display": null,
            "flex": null,
            "flex_flow": null,
            "grid_area": null,
            "grid_auto_columns": null,
            "grid_auto_flow": null,
            "grid_auto_rows": null,
            "grid_column": null,
            "grid_gap": null,
            "grid_row": null,
            "grid_template_areas": null,
            "grid_template_columns": null,
            "grid_template_rows": null,
            "height": null,
            "justify_content": null,
            "justify_items": null,
            "left": null,
            "margin": null,
            "max_height": null,
            "max_width": null,
            "min_height": null,
            "min_width": null,
            "object_fit": null,
            "object_position": null,
            "order": null,
            "overflow": null,
            "overflow_x": null,
            "overflow_y": null,
            "padding": null,
            "right": null,
            "top": null,
            "visibility": null,
            "width": null
          }
        },
        "d8cbc3a36db94c2bb031d54527cf55fe": {
          "model_module": "@jupyter-widgets/controls",
          "model_name": "SliderStyleModel",
          "model_module_version": "1.5.0",
          "state": {
            "_model_module": "@jupyter-widgets/controls",
            "_model_module_version": "1.5.0",
            "_model_name": "SliderStyleModel",
            "_view_count": null,
            "_view_module": "@jupyter-widgets/base",
            "_view_module_version": "1.2.0",
            "_view_name": "StyleView",
            "description_width": "",
            "handle_color": null
          }
        },
        "3d4d180ba66843029beb878104fc2667": {
          "model_module": "@jupyter-widgets/base",
          "model_name": "LayoutModel",
          "model_module_version": "1.2.0",
          "state": {
            "_model_module": "@jupyter-widgets/base",
            "_model_module_version": "1.2.0",
            "_model_name": "LayoutModel",
            "_view_count": null,
            "_view_module": "@jupyter-widgets/base",
            "_view_module_version": "1.2.0",
            "_view_name": "LayoutView",
            "align_content": null,
            "align_items": null,
            "align_self": null,
            "border": null,
            "bottom": null,
            "display": null,
            "flex": null,
            "flex_flow": null,
            "grid_area": null,
            "grid_auto_columns": null,
            "grid_auto_flow": null,
            "grid_auto_rows": null,
            "grid_column": null,
            "grid_gap": null,
            "grid_row": null,
            "grid_template_areas": null,
            "grid_template_columns": null,
            "grid_template_rows": null,
            "height": null,
            "justify_content": null,
            "justify_items": null,
            "left": null,
            "margin": null,
            "max_height": null,
            "max_width": null,
            "min_height": null,
            "min_width": null,
            "object_fit": null,
            "object_position": null,
            "order": null,
            "overflow": null,
            "overflow_x": null,
            "overflow_y": null,
            "padding": null,
            "right": null,
            "top": null,
            "visibility": null,
            "width": null
          }
        },
        "aed5503f3d2d4b44a7406410ae958333": {
          "model_module": "@jupyter-widgets/controls",
          "model_name": "SliderStyleModel",
          "model_module_version": "1.5.0",
          "state": {
            "_model_module": "@jupyter-widgets/controls",
            "_model_module_version": "1.5.0",
            "_model_name": "SliderStyleModel",
            "_view_count": null,
            "_view_module": "@jupyter-widgets/base",
            "_view_module_version": "1.2.0",
            "_view_name": "StyleView",
            "description_width": "",
            "handle_color": null
          }
        },
        "9f69e0137a9f4baeb2de8788f6408af5": {
          "model_module": "@jupyter-widgets/base",
          "model_name": "LayoutModel",
          "model_module_version": "1.2.0",
          "state": {
            "_model_module": "@jupyter-widgets/base",
            "_model_module_version": "1.2.0",
            "_model_name": "LayoutModel",
            "_view_count": null,
            "_view_module": "@jupyter-widgets/base",
            "_view_module_version": "1.2.0",
            "_view_name": "LayoutView",
            "align_content": null,
            "align_items": null,
            "align_self": null,
            "border": null,
            "bottom": null,
            "display": null,
            "flex": null,
            "flex_flow": null,
            "grid_area": null,
            "grid_auto_columns": null,
            "grid_auto_flow": null,
            "grid_auto_rows": null,
            "grid_column": null,
            "grid_gap": null,
            "grid_row": null,
            "grid_template_areas": null,
            "grid_template_columns": null,
            "grid_template_rows": null,
            "height": null,
            "justify_content": null,
            "justify_items": null,
            "left": null,
            "margin": null,
            "max_height": null,
            "max_width": null,
            "min_height": null,
            "min_width": null,
            "object_fit": null,
            "object_position": null,
            "order": null,
            "overflow": null,
            "overflow_x": null,
            "overflow_y": null,
            "padding": null,
            "right": null,
            "top": null,
            "visibility": null,
            "width": null
          }
        },
        "7be92a5c91ca4b83a017f7c189336d86": {
          "model_module": "@jupyter-widgets/controls",
          "model_name": "SliderStyleModel",
          "model_module_version": "1.5.0",
          "state": {
            "_model_module": "@jupyter-widgets/controls",
            "_model_module_version": "1.5.0",
            "_model_name": "SliderStyleModel",
            "_view_count": null,
            "_view_module": "@jupyter-widgets/base",
            "_view_module_version": "1.2.0",
            "_view_name": "StyleView",
            "description_width": "",
            "handle_color": null
          }
        },
        "431f48f04c6e4721a59b550049b19e26": {
          "model_module": "@jupyter-widgets/base",
          "model_name": "LayoutModel",
          "model_module_version": "1.2.0",
          "state": {
            "_model_module": "@jupyter-widgets/base",
            "_model_module_version": "1.2.0",
            "_model_name": "LayoutModel",
            "_view_count": null,
            "_view_module": "@jupyter-widgets/base",
            "_view_module_version": "1.2.0",
            "_view_name": "LayoutView",
            "align_content": null,
            "align_items": null,
            "align_self": null,
            "border": null,
            "bottom": null,
            "display": null,
            "flex": null,
            "flex_flow": null,
            "grid_area": null,
            "grid_auto_columns": null,
            "grid_auto_flow": null,
            "grid_auto_rows": null,
            "grid_column": null,
            "grid_gap": null,
            "grid_row": null,
            "grid_template_areas": null,
            "grid_template_columns": null,
            "grid_template_rows": null,
            "height": null,
            "justify_content": null,
            "justify_items": null,
            "left": null,
            "margin": null,
            "max_height": null,
            "max_width": null,
            "min_height": null,
            "min_width": null,
            "object_fit": null,
            "object_position": null,
            "order": null,
            "overflow": null,
            "overflow_x": null,
            "overflow_y": null,
            "padding": null,
            "right": null,
            "top": null,
            "visibility": null,
            "width": null
          }
        },
        "9588f1cfabc440ab96c5cac381ca0db4": {
          "model_module": "@jupyter-widgets/controls",
          "model_name": "SliderStyleModel",
          "model_module_version": "1.5.0",
          "state": {
            "_model_module": "@jupyter-widgets/controls",
            "_model_module_version": "1.5.0",
            "_model_name": "SliderStyleModel",
            "_view_count": null,
            "_view_module": "@jupyter-widgets/base",
            "_view_module_version": "1.2.0",
            "_view_name": "StyleView",
            "description_width": "",
            "handle_color": null
          }
        },
        "6bdaa2ff38c04b4aaf5d04f1cd152e16": {
          "model_module": "@jupyter-widgets/base",
          "model_name": "LayoutModel",
          "model_module_version": "1.2.0",
          "state": {
            "_model_module": "@jupyter-widgets/base",
            "_model_module_version": "1.2.0",
            "_model_name": "LayoutModel",
            "_view_count": null,
            "_view_module": "@jupyter-widgets/base",
            "_view_module_version": "1.2.0",
            "_view_name": "LayoutView",
            "align_content": null,
            "align_items": null,
            "align_self": null,
            "border": null,
            "bottom": null,
            "display": null,
            "flex": null,
            "flex_flow": null,
            "grid_area": null,
            "grid_auto_columns": null,
            "grid_auto_flow": null,
            "grid_auto_rows": null,
            "grid_column": null,
            "grid_gap": null,
            "grid_row": null,
            "grid_template_areas": null,
            "grid_template_columns": null,
            "grid_template_rows": null,
            "height": null,
            "justify_content": null,
            "justify_items": null,
            "left": null,
            "margin": null,
            "max_height": null,
            "max_width": null,
            "min_height": null,
            "min_width": null,
            "object_fit": null,
            "object_position": null,
            "order": null,
            "overflow": null,
            "overflow_x": null,
            "overflow_y": null,
            "padding": null,
            "right": null,
            "top": null,
            "visibility": null,
            "width": null
          }
        }
      }
    }
  },
  "nbformat_minor": 0,
  "nbformat": 4,
  "cells": [
    {
      "cell_type": "markdown",
      "source": [
        "## Fitting a function with *gradient descent*\n",
        "\n",
        "Based on [Jeremy Howard course Lesson 04](https://github.com/fastai/course22)\n"
      ],
      "metadata": {
        "id": "_86FLs8nkhMi"
      }
    },
    {
      "cell_type": "markdown",
      "source": [
        "A neural network is just a mathematical function. In the most standard kind of neural network, the function:\n",
        "\n",
        "1. Multiplies each input by a number of values. These values are known as *parameters*\n",
        "1. Adds them up for each group of values\n",
        "1. Replaces the negative numbers with zeros\n",
        "\n",
        "This represents one \"layer\". Then these three steps are repeated, using the outputs of the previous layer as the inputs to the next layer. Initially, the parameters in this function are selected randomly. Therefore a newly created neural network doesn't do anything useful at all -- it's just random!\n",
        "\n",
        "To get the function to \"learn\" to do something useful, we have to change the parameters to make them \"better\" in some way. We do this using *gradient descent*. Let's see how this works..."
      ],
      "metadata": {
        "id": "dszasKBBkhMi"
      }
    },
    {
      "cell_type": "code",
      "source": [
        "from ipywidgets import interact\n",
        "from fastai.basics import plt # based on maptloblib\n",
        "from fastai.basics import torch # pytorch\n",
        "from fastai.basics import partial\n",
        "import numpy as np\n",
        "\n",
        "plt.rc('figure', dpi=90)\n",
        "\n",
        "def plot_function(f, title=None, min=-2.1, max=2.1, color='r', ylim=None):\n",
        "    x = torch.linspace(min,max, 100)[:,None]\n",
        "    if ylim: plt.ylim(ylim)\n",
        "    plt.plot(x, f(x), color)\n",
        "    if title is not None: plt.title(title)\n",
        "    plt.show()"
      ],
      "metadata": {
        "_kg_hide-input": true,
        "execution": {
          "iopub.status.busy": "2022-04-23T08:54:34.585263Z",
          "iopub.execute_input": "2022-04-23T08:54:34.587766Z",
          "iopub.status.idle": "2022-04-23T08:54:36.961606Z",
          "shell.execute_reply.started": "2022-04-23T08:54:34.587646Z",
          "shell.execute_reply": "2022-04-23T08:54:36.960846Z"
        },
        "trusted": true,
        "id": "vxsJiZVLkhMi"
      },
      "execution_count": 285,
      "outputs": []
    },
    {
      "cell_type": "markdown",
      "source": [
        "To learn how gradient descent works, we're going to start by fitting a quadratic, since that's a function most of us are probably more familiar with than a neural network. Here's the quadratic we're going to try to fit:"
      ],
      "metadata": {
        "id": "2gIVU3zNkhMj"
      }
    },
    {
      "cell_type": "code",
      "source": [
        "def f(x): return 3*x**2 + 2*x + 1\n",
        "\n",
        "plot_function(f, \"$3x^2 + 2x + 1$\")"
      ],
      "metadata": {
        "execution": {
          "iopub.status.busy": "2022-04-23T08:54:36.963135Z",
          "iopub.execute_input": "2022-04-23T08:54:36.96361Z",
          "iopub.status.idle": "2022-04-23T08:54:37.603953Z",
          "shell.execute_reply.started": "2022-04-23T08:54:36.963574Z",
          "shell.execute_reply": "2022-04-23T08:54:37.60309Z"
        },
        "trusted": true,
        "colab": {
          "base_uri": "https://localhost:8080/",
          "height": 412
        },
        "id": "hZBLXfi9khMj",
        "outputId": "04c7bd22-9cc8-42e3-f2a2-66517c221e12"
      },
      "execution_count": 286,
      "outputs": [
        {
          "output_type": "display_data",
          "data": {
            "text/plain": [
              "<Figure size 576x432 with 1 Axes>"
            ],
            "image/png": "[encoded data removed]"
          },
          "metadata": {}
        }
      ]
    },
    {
      "cell_type": "markdown",
      "source": [
        "This quadratic is of the form $ax^2+bx+c$, with parameters $a=3$, $b=2$, $c=1$. To make it easier to try out different quadratics for fitting a model to the data we'll create, let's create a function that calculates the value of a point on any quadratic:"
      ],
      "metadata": {
        "id": "qlwpS7s6khMj"
      }
    },
    {
      "cell_type": "code",
      "source": [
        "def quad(a, b, c, x): return a*x**2 + b*x + c"
      ],
      "metadata": {
        "execution": {
          "iopub.status.busy": "2022-04-23T08:54:37.605073Z",
          "iopub.execute_input": "2022-04-23T08:54:37.605295Z",
          "iopub.status.idle": "2022-04-23T08:54:37.610024Z",
          "shell.execute_reply.started": "2022-04-23T08:54:37.605268Z",
          "shell.execute_reply": "2022-04-23T08:54:37.609103Z"
        },
        "trusted": true,
        "id": "mkrIjsMykhMj"
      },
      "execution_count": 287,
      "outputs": []
    },
    {
      "cell_type": "markdown",
      "source": [
        "If we fix some particular values of a, b, and c, then we'll have made a quadratic. To fix values passed to a function in python, we use the `partial` function, like so:"
      ],
      "metadata": {
        "id": "W71R6DXqkhMj"
      }
    },
    {
      "cell_type": "code",
      "source": [
        "def mk_quad(a,b,c): return partial(quad, a,b,c)"
      ],
      "metadata": {
        "execution": {
          "iopub.status.busy": "2022-04-23T08:54:37.611932Z",
          "iopub.execute_input": "2022-04-23T08:54:37.612415Z",
          "iopub.status.idle": "2022-04-23T08:54:37.622926Z",
          "shell.execute_reply.started": "2022-04-23T08:54:37.612377Z",
          "shell.execute_reply": "2022-04-23T08:54:37.622077Z"
        },
        "trusted": true,
        "id": "EU0BwEwBkhMj"
      },
      "execution_count": 288,
      "outputs": []
    },
    {
      "cell_type": "markdown",
      "source": [
        "So for instance, we can recreate our previous quadratic:"
      ],
      "metadata": {
        "id": "q9-PaVv4khMj"
      }
    },
    {
      "cell_type": "code",
      "source": [
        "f2 = mk_quad(3,2,1)\n",
        "plot_function(f2)"
      ],
      "metadata": {
        "execution": {
          "iopub.status.busy": "2022-04-23T08:54:37.624649Z",
          "iopub.execute_input": "2022-04-23T08:54:37.625357Z",
          "iopub.status.idle": "2022-04-23T08:54:37.829696Z",
          "shell.execute_reply.started": "2022-04-23T08:54:37.62531Z",
          "shell.execute_reply": "2022-04-23T08:54:37.828997Z"
        },
        "trusted": true,
        "colab": {
          "base_uri": "https://localhost:8080/",
          "height": 389
        },
        "id": "Vyftt_8OkhMj",
        "outputId": "23a6d16f-f9b0-4af0-d309-a8cf2183212e"
      },
      "execution_count": 289,
      "outputs": [
        {
          "output_type": "display_data",
          "data": {
            "text/plain": [
              "<Figure size 576x432 with 1 Axes>"
            ],
            "image/png": "[encoded data removed]"
          },
          "metadata": {}
        }
      ]
    },
    {
      "cell_type": "markdown",
      "source": [
        "Now let's simulate making some noisy measurements of our quadratic `f`. We'll then use gradient descent to see if we can recreate the original function from the data.\n",
        "\n",
        "Here's a couple of functions to add some random noise to data:"
      ],
      "metadata": {
        "id": "YAG_7HfwkhMk"
      }
    },
    {
      "cell_type": "code",
      "source": [
        "def noise(x, scale): return np.random.normal(scale=scale, size=x.shape)\n",
        "def add_noise(x, mult, add): return x * (1+noise(x,mult)) + noise(x,add)"
      ],
      "metadata": {
        "execution": {
          "iopub.status.busy": "2022-04-23T08:54:37.831069Z",
          "iopub.execute_input": "2022-04-23T08:54:37.831627Z",
          "iopub.status.idle": "2022-04-23T08:54:37.838391Z",
          "shell.execute_reply.started": "2022-04-23T08:54:37.831581Z",
          "shell.execute_reply": "2022-04-23T08:54:37.837454Z"
        },
        "trusted": true,
        "id": "_BNSqmBOkhMk"
      },
      "execution_count": 290,
      "outputs": []
    },
    {
      "cell_type": "markdown",
      "source": [
        "Let's use the now to create our noisy measurements based on the quadratic above:"
      ],
      "metadata": {
        "id": "TjezLOe_khMk"
      }
    },
    {
      "cell_type": "code",
      "source": [
        "np.random.seed(42)\n",
        "\n",
        "x = torch.linspace(-2, 2, steps=20)[:,None]\n",
        "y = add_noise(f(x), 0.15, 1.5)"
      ],
      "metadata": {
        "execution": {
          "iopub.status.busy": "2022-04-23T08:54:37.839727Z",
          "iopub.execute_input": "2022-04-23T08:54:37.83997Z",
          "iopub.status.idle": "2022-04-23T08:54:37.86166Z",
          "shell.execute_reply.started": "2022-04-23T08:54:37.839939Z",
          "shell.execute_reply": "2022-04-23T08:54:37.861067Z"
        },
        "trusted": true,
        "id": "qPfou3A7khMk"
      },
      "execution_count": 291,
      "outputs": []
    },
    {
      "cell_type": "markdown",
      "source": [
        "Here's the first few values of each of `x` and `y`:"
      ],
      "metadata": {
        "id": "yXtPwxkAkhMk"
      }
    },
    {
      "cell_type": "code",
      "source": [
        "x[:5],y[:5]"
      ],
      "metadata": {
        "execution": {
          "iopub.status.busy": "2022-04-23T08:54:37.862576Z",
          "iopub.execute_input": "2022-04-23T08:54:37.863311Z",
          "iopub.status.idle": "2022-04-23T08:54:37.901746Z",
          "shell.execute_reply.started": "2022-04-23T08:54:37.863275Z",
          "shell.execute_reply": "2022-04-23T08:54:37.9009Z"
        },
        "trusted": true,
        "colab": {
          "base_uri": "https://localhost:8080/"
        },
        "id": "hYR5OtaDkhMk",
        "outputId": "7cac4cc9-afb9-4add-b7c4-d73126aab3b6"
      },
      "execution_count": 292,
      "outputs": [
        {
          "output_type": "execute_result",
          "data": {
            "text/plain": [
              "(tensor([[-2.0000],\n",
              "         [-1.7895],\n",
              "         [-1.5789],\n",
              "         [-1.3684],\n",
              "         [-1.1579]]),\n",
              " tensor([[11.8690],\n",
              "         [ 6.5433],\n",
              "         [ 5.9396],\n",
              "         [ 2.6304],\n",
              "         [ 1.7947]], dtype=torch.float64))"
            ]
          },
          "metadata": {},
          "execution_count": 292
        }
      ]
    },
    {
      "cell_type": "markdown",
      "source": [
        "As you can see, they're *tensors*. A tensor is just like an `array` in numpy (if you're not familiar with numpy, I strongly recommend reading [this great book](https://wesmckinney.com/book/), because it's a critical foundation for nearly all numeric programming in Python. Furthermore, PyTorch, which most researchers use for deep learning, is modeled closely on numpy.) A tensor can be a single number (a *scalar* or *rank-0 tensor*), a list of numbers (a *vector* or *rank-1 tensor*), a table of numbers (a *matrix* or *rank-0 tensor*), a table of tables of numbers (a *rank-3 tensor*), and so forth.\n",
        "\n",
        "We're not going to learn much about our data by just looking at the raw numbers, so let's draw a picture:"
      ],
      "metadata": {
        "id": "lwBSfZtDkhMk"
      }
    },
    {
      "cell_type": "code",
      "source": [
        "plt.scatter(x,y);"
      ],
      "metadata": {
        "execution": {
          "iopub.status.busy": "2022-04-23T08:54:37.903248Z",
          "iopub.execute_input": "2022-04-23T08:54:37.903736Z",
          "iopub.status.idle": "2022-04-23T08:54:38.141765Z",
          "shell.execute_reply.started": "2022-04-23T08:54:37.903689Z",
          "shell.execute_reply": "2022-04-23T08:54:38.140818Z"
        },
        "trusted": true,
        "colab": {
          "base_uri": "https://localhost:8080/",
          "height": 389
        },
        "id": "ZvQujlzEkhMk",
        "outputId": "dac89d73-31b3-4712-b7ed-7dcada614074"
      },
      "execution_count": 293,
      "outputs": [
        {
          "output_type": "display_data",
          "data": {
            "text/plain": [
              "<Figure size 576x432 with 1 Axes>"
            ],
            "image/png": "[encoded data removed]"
          },
          "metadata": {}
        }
      ]
    },
    {
      "cell_type": "markdown",
      "source": [
        "How do we find values of a, b, and c which fit this data? One approach is to try a few values and see what fits. Here's a function which overlays a quadratic on top of our data, along with some sliders to change a, b, and c, and see how it looks:"
      ],
      "metadata": {
        "id": "duIkJzH0khMk"
      }
    },
    {
      "cell_type": "code",
      "source": [
        "@interact(a=1.1, b=1.1, c=1.1)\n",
        "def plot_quad(a, b, c):\n",
        "    plt.scatter(x,y)\n",
        "    plot_function(mk_quad(a,b,c), ylim=(-3,13))"
      ],
      "metadata": {
        "execution": {
          "iopub.status.busy": "2022-04-23T08:54:38.143544Z",
          "iopub.execute_input": "2022-04-23T08:54:38.143753Z",
          "iopub.status.idle": "2022-04-23T08:54:38.372553Z",
          "shell.execute_reply.started": "2022-04-23T08:54:38.143725Z",
          "shell.execute_reply": "2022-04-23T08:54:38.37172Z"
        },
        "trusted": true,
        "colab": {
          "base_uri": "https://localhost:8080/",
          "height": 485,
          "referenced_widgets": [
            "b525c6fd72cd4c79b180a2ce89c686cb",
            "17be97810b0648a7b679450689483a51",
            "ef8fbce4997747aab1727e008dd1936e",
            "df66de1308b9451da3087492f62fbd73",
            "87d466f849224aebb9009d77d7a9729a",
            "3cb275369b1446f9a28d0f012b0ea5cc",
            "5ade6b2d62fb4af099d499945928e0ff",
            "fa8030053ab6458ca5c3c8b3ede3af5b",
            "c0919f4254eb420192b787b94bf61f7d",
            "4f6a50d11a4242c9831d432c8741850e",
            "20a878152243425396d31e5d53a1742d",
            "d08ed0baa167494d83b47f9f3428ca1d",
            "a598dd1a9b9b4495a2bee606c3f651c5"
          ]
        },
        "id": "AF2pZsqhkhMk",
        "outputId": "ca3e633d-c673-4acf-946e-23ffec979a5d"
      },
      "execution_count": 294,
      "outputs": [
        {
          "output_type": "display_data",
          "data": {
            "text/plain": [
              "interactive(children=(FloatSlider(value=1.1, description='a', max=3.3000000000000003, min=-1.1), FloatSlider(v…"
            ],
            "application/vnd.jupyter.widget-view+json": {
              "version_major": 2,
              "version_minor": 0,
              "model_id": "b525c6fd72cd4c79b180a2ce89c686cb"
            }
          },
          "metadata": {}
        }
      ]
    },
    {
      "cell_type": "markdown",
      "source": [
        "Try moving slider `a` a bit to the left. Does that look better or worse? How about if you move it a bit to the right? Find out which direction seems to improve the fit of the quadratic to the data, and move the slider a bit in that direction. Next, do the same for slider `b`: first figure out which direction improves the fit, then move it a bit in that direction. Then do the same for `c`.\n",
        "\n",
        "OK, now go back to slider `a` and repeat the process. Do it again for `b` and `c` as well.\n",
        "\n",
        "Did you notice that by going back and doing the sliders a second time that you were able to improve things a bit further? That's an important insight -- it's only after changing `b` and `c`, for instance, that you realise that `a` actually needs some adjustment based on those new values.\n",
        "\n",
        "One thing that's making this tricky is that we don't really have a great sense of whether our fit is really better or worse. It would be easier if we had a numeric measure of that. On easy metric we could use is *mean absolute error* -- which is the distance from each data point to the curve:"
      ],
      "metadata": {
        "id": "8g3Tq2ZPkhMk"
      }
    },
    {
      "cell_type": "code",
      "source": [
        "def mae(preds, acts): return (torch.abs(preds-acts)).mean()"
      ],
      "metadata": {
        "execution": {
          "iopub.status.busy": "2022-04-23T08:55:06.428918Z",
          "iopub.execute_input": "2022-04-23T08:55:06.429237Z",
          "iopub.status.idle": "2022-04-23T08:55:06.433738Z",
          "shell.execute_reply.started": "2022-04-23T08:55:06.429205Z",
          "shell.execute_reply": "2022-04-23T08:55:06.432713Z"
        },
        "trusted": true,
        "id": "UysVkUDLkhMl"
      },
      "execution_count": 295,
      "outputs": []
    },
    {
      "cell_type": "markdown",
      "source": [
        "We'll update our interactive function to print this at the top for us.\n",
        "\n",
        "Use this to repeat the approach we took before to try to find the best fit, but this time just use the value of the metric to decide which direction to move each slider, and how far to move it.\n",
        "\n",
        "This time around, try doing it in the opposite order: `c`, then `b`, then `a`.\n",
        "\n",
        "You'll probably find that you have to go through the set of sliders a couple of times to get the best fit."
      ],
      "metadata": {
        "id": "hZneJWydkhMl"
      }
    },
    {
      "cell_type": "code",
      "source": [
        "@interact(a=1.1, b=1.1, c=1.1)\n",
        "def plot_quad(a, b, c):\n",
        "    f = mk_quad(a,b,c)\n",
        "    plt.scatter(x,y)\n",
        "    loss = mae(f(x), y)\n",
        "    plot_function(f, ylim=(-3,12), title=f\"MAE: {loss:.2f}\")"
      ],
      "metadata": {
        "execution": {
          "iopub.status.busy": "2022-04-23T08:55:07.451295Z",
          "iopub.execute_input": "2022-04-23T08:55:07.452152Z",
          "iopub.status.idle": "2022-04-23T08:55:07.701428Z",
          "shell.execute_reply.started": "2022-04-23T08:55:07.452102Z",
          "shell.execute_reply": "2022-04-23T08:55:07.700643Z"
        },
        "trusted": true,
        "colab": {
          "base_uri": "https://localhost:8080/",
          "height": 504,
          "referenced_widgets": [
            "bcdd4bbc62174211a81adddd0280c4b7",
            "674c87f4b9bf4884af073e521c5a2b66",
            "fdcd8ce6e59c4212b997b44ea9452f08",
            "0eefb089198c43f0b5aca90d4b03d2c4",
            "062f9bb958b14659a51f3b94d5f6f61a",
            "fb04f76088ab46578a2f2f2c10a53138",
            "bbb338c44387493ab20be7a06eae1ed4",
            "9125c2b466004b71b30be78c92e965b8",
            "09e0334bd9b7494a9fddf303f70966a8",
            "7c2be37c7732488a846cb123c60e94cd",
            "57871a3be2ee46b58d971e6292c9c548",
            "d78cd938f52a4c3f9f8fd22f8c323779",
            "1508b9ab8efb471f926dbd5e0be59758"
          ]
        },
        "id": "7uxuDXbQkhMl",
        "outputId": "dd8e4a01-ca07-41fe-edf2-d7d5630691f7"
      },
      "execution_count": 296,
      "outputs": [
        {
          "output_type": "display_data",
          "data": {
            "text/plain": [
              "interactive(children=(FloatSlider(value=1.1, description='a', max=3.3000000000000003, min=-1.1), FloatSlider(v…"
            ],
            "application/vnd.jupyter.widget-view+json": {
              "version_major": 2,
              "version_minor": 0,
              "model_id": "bcdd4bbc62174211a81adddd0280c4b7"
            }
          },
          "metadata": {}
        }
      ]
    },
    {
      "cell_type": "markdown",
      "source": [
        "In a modern neural network we'll often have tens of millions of parameters to fit, or more, and thousands or millions of data points to fit them to. We're not going to be able to do that by moving sliders around! We'll need to automate this process.\n",
        "\n",
        "Thankfully, that turns out to be pretty straightforward. We can use calculus to figure out, for each parameter, whether we should increase or decrease it."
      ],
      "metadata": {
        "id": "ImSajip2khMl"
      }
    },
    {
      "cell_type": "markdown",
      "source": [
        "## Automating gradient descent"
      ],
      "metadata": {
        "id": "lcVTqe3LkhMl"
      }
    },
    {
      "cell_type": "markdown",
      "source": [
        "The basic idea is this: if we know the *gradient* of our `mae()` function *with respect to* our parameters, `a`, `b`, and `c`, then that means we know how adjusting (for instance) `a` will change the value of `mae()`. If, say, `a` has a *negative* gradient, then we know that increasing `a` will decrease `mae()`. Then we know that's what we need to do, since we trying to make `mae()` as low as possible.\n",
        "\n",
        "So, we find the gradient of `mae()` for each of our parameters, and then adjust our parameters a bit in the *opposite* direction to the sign of the gradient.\n",
        "\n",
        "To do this, first we need a function that takes all the parameters `a`, `b`, and `c` as a single vector input, and returns the value `mae()` based on those parameters:"
      ],
      "metadata": {
        "id": "TRifWjW5khMl"
      }
    },
    {
      "cell_type": "code",
      "source": [
        "def quad_mae(params):\n",
        "    f = mk_quad(*params)\n",
        "    return mae(f(x), y)"
      ],
      "metadata": {
        "execution": {
          "iopub.status.busy": "2022-04-22T22:28:41.831976Z",
          "iopub.execute_input": "2022-04-22T22:28:41.832211Z",
          "iopub.status.idle": "2022-04-22T22:28:41.837761Z",
          "shell.execute_reply.started": "2022-04-22T22:28:41.832181Z",
          "shell.execute_reply": "2022-04-22T22:28:41.836892Z"
        },
        "trusted": true,
        "id": "JErUGANGkhMl"
      },
      "execution_count": 297,
      "outputs": []
    },
    {
      "cell_type": "markdown",
      "source": [
        "Let's try it:"
      ],
      "metadata": {
        "id": "e4ZFBB5-khMl"
      }
    },
    {
      "cell_type": "code",
      "source": [
        "quad_mae([1.1, 1.1, 1.1])"
      ],
      "metadata": {
        "execution": {
          "iopub.status.busy": "2022-04-22T22:28:41.839427Z",
          "iopub.execute_input": "2022-04-22T22:28:41.839663Z",
          "iopub.status.idle": "2022-04-22T22:28:41.853343Z",
          "shell.execute_reply.started": "2022-04-22T22:28:41.839635Z",
          "shell.execute_reply": "2022-04-22T22:28:41.852644Z"
        },
        "trusted": true,
        "colab": {
          "base_uri": "https://localhost:8080/"
        },
        "id": "9prnOAw0khMl",
        "outputId": "159977b6-5094-4dd8-aeb2-549300014f40"
      },
      "execution_count": 298,
      "outputs": [
        {
          "output_type": "execute_result",
          "data": {
            "text/plain": [
              "tensor(2.4219, dtype=torch.float64)"
            ]
          },
          "metadata": {},
          "execution_count": 298
        }
      ]
    },
    {
      "cell_type": "markdown",
      "source": [
        "Yup, that's the same as the starting `mae()` we had in our plot before.\n",
        "\n",
        "We're first going to do exactly the same thing as we did manually -- pick some arbritrary starting point for our parameters. We'll put them all into a single tensor:"
      ],
      "metadata": {
        "id": "gC3wxf_4khMl"
      }
    },
    {
      "cell_type": "code",
      "source": [
        "abc = torch.tensor([1.1,1.1,1.1])"
      ],
      "metadata": {
        "execution": {
          "iopub.status.busy": "2022-04-22T22:28:41.854708Z",
          "iopub.execute_input": "2022-04-22T22:28:41.855001Z",
          "iopub.status.idle": "2022-04-22T22:28:41.863677Z",
          "shell.execute_reply.started": "2022-04-22T22:28:41.854965Z",
          "shell.execute_reply": "2022-04-22T22:28:41.862424Z"
        },
        "trusted": true,
        "id": "QxU1IyVQkhMl"
      },
      "execution_count": 299,
      "outputs": []
    },
    {
      "cell_type": "markdown",
      "source": [
        "To tell PyTorch that we want it to calculate gradients for these parameters, we need to call `requires_grad_()`:"
      ],
      "metadata": {
        "id": "OVsCJxpJkhMl"
      }
    },
    {
      "cell_type": "code",
      "source": [
        "abc.requires_grad_()"
      ],
      "metadata": {
        "execution": {
          "iopub.status.busy": "2022-04-22T22:28:41.865105Z",
          "iopub.execute_input": "2022-04-22T22:28:41.86557Z",
          "iopub.status.idle": "2022-04-22T22:28:41.881016Z",
          "shell.execute_reply.started": "2022-04-22T22:28:41.865497Z",
          "shell.execute_reply": "2022-04-22T22:28:41.879681Z"
        },
        "trusted": true,
        "colab": {
          "base_uri": "https://localhost:8080/"
        },
        "id": "UnmXmxEtkhMl",
        "outputId": "29e83862-b2ea-4f0c-f02f-3d713c12404b"
      },
      "execution_count": 300,
      "outputs": [
        {
          "output_type": "execute_result",
          "data": {
            "text/plain": [
              "tensor([1.1000, 1.1000, 1.1000], requires_grad=True)"
            ]
          },
          "metadata": {},
          "execution_count": 300
        }
      ]
    },
    {
      "cell_type": "markdown",
      "source": [
        "We can now calculate `mae()`. Generally, when doing gradient descent, the thing we're trying to minimise is called the *loss*:"
      ],
      "metadata": {
        "id": "3CjCEh0OkhMl"
      }
    },
    {
      "cell_type": "code",
      "source": [
        "f = mk_quad(*abc)\n",
        "(abs(f(x)- y)).mean()"
      ],
      "metadata": {
        "id": "brunuOQF8f83",
        "outputId": "383a5ee1-4181-4a1a-dead-db915b8a20c3",
        "colab": {
          "base_uri": "https://localhost:8080/"
        }
      },
      "execution_count": 301,
      "outputs": [
        {
          "output_type": "execute_result",
          "data": {
            "text/plain": [
              "tensor(2.4219, dtype=torch.float64, grad_fn=<MeanBackward0>)"
            ]
          },
          "metadata": {},
          "execution_count": 301
        }
      ]
    },
    {
      "cell_type": "code",
      "source": [
        "X = x.numpy()\n",
        "#X\n",
        "X = np.hstack((np.ones([len(y),1]), X, X**2))"
      ],
      "metadata": {
        "id": "4vg3ShzZE2Gw"
      },
      "execution_count": 302,
      "outputs": []
    },
    {
      "cell_type": "code",
      "source": [
        "X"
      ],
      "metadata": {
        "id": "j0MRiEJiIKmW",
        "outputId": "5ec72253-225f-49ec-f425-f34c4b9559f0",
        "colab": {
          "base_uri": "https://localhost:8080/"
        }
      },
      "execution_count": 303,
      "outputs": [
        {
          "output_type": "execute_result",
          "data": {
            "text/plain": [
              "array([[ 1.        , -2.        ,  4.        ],\n",
              "       [ 1.        , -1.78947365,  3.20221591],\n",
              "       [ 1.        , -1.57894731,  2.49307466],\n",
              "       [ 1.        , -1.36842108,  1.87257624],\n",
              "       [ 1.        , -1.15789473,  1.34072018],\n",
              "       [ 1.        , -0.94736838,  0.89750683],\n",
              "       [ 1.        , -0.7368421 ,  0.54293627],\n",
              "       [ 1.        , -0.52631581,  0.27700832],\n",
              "       [ 1.        , -0.31578946,  0.09972298],\n",
              "       [ 1.        , -0.10526314,  0.01108033],\n",
              "       [ 1.        ,  0.10526314,  0.01108033],\n",
              "       [ 1.        ,  0.31578946,  0.09972298],\n",
              "       [ 1.        ,  0.52631581,  0.27700832],\n",
              "       [ 1.        ,  0.7368421 ,  0.54293627],\n",
              "       [ 1.        ,  0.94736838,  0.89750683],\n",
              "       [ 1.        ,  1.15789473,  1.34072018],\n",
              "       [ 1.        ,  1.36842108,  1.87257624],\n",
              "       [ 1.        ,  1.57894731,  2.49307466],\n",
              "       [ 1.        ,  1.78947365,  3.20221591],\n",
              "       [ 1.        ,  2.        ,  4.        ]])"
            ]
          },
          "metadata": {},
          "execution_count": 303
        }
      ]
    },
    {
      "cell_type": "code",
      "source": [
        "theta = np.array([[1.1],[1.1], [1.1]])"
      ],
      "metadata": {
        "id": "Lu900aU7ILU4"
      },
      "execution_count": 304,
      "outputs": []
    },
    {
      "cell_type": "code",
      "source": [
        "h = X.dot(theta) ## The hypothesis\n",
        "# theta = theta - (alpha/m)*(X.T.dot(h-y)) ## Grad.desc.func.\n",
        "# theta.shape"
      ],
      "metadata": {
        "id": "nqD33nLbI7Pd"
      },
      "execution_count": 371,
      "outputs": []
    },
    {
      "cell_type": "code",
      "source": [
        "h"
      ],
      "metadata": {
        "id": "cN_lpOK3JzfE",
        "outputId": "b58b2539-e02b-45f4-a160-182614c8d60e",
        "colab": {
          "base_uri": "https://localhost:8080/"
        }
      },
      "execution_count": 372,
      "outputs": [
        {
          "output_type": "execute_result",
          "data": {
            "text/plain": [
              "array([[ 8.74374236],\n",
              "       [ 7.05830073],\n",
              "       [ 5.58649563],\n",
              "       [ 4.32832691],\n",
              "       [ 3.28379371],\n",
              "       [ 2.45289674],\n",
              "       [ 1.83563609],\n",
              "       [ 1.43201146],\n",
              "       [ 1.24202284],\n",
              "       [ 1.26567037],\n",
              "       [ 1.50295395],\n",
              "       [ 1.95387365],\n",
              "       [ 2.61842956],\n",
              "       [ 3.49662135],\n",
              "       [ 4.58844916],\n",
              "       [ 5.89391342],\n",
              "       [ 7.41301392],\n",
              "       [ 9.14574966],\n",
              "       [11.09212206],\n",
              "       [13.25213098]])"
            ]
          },
          "metadata": {},
          "execution_count": 372
        }
      ]
    },
    {
      "cell_type": "code",
      "source": [
        "print('loss (run 1)')\n",
        "abs(h-y.numpy()).mean()"
      ],
      "metadata": {
        "id": "ey92m1dUKVQO",
        "outputId": "7d6aa84a-136f-4175-eeb0-e2bf04669dad",
        "colab": {
          "base_uri": "https://localhost:8080/"
        }
      },
      "execution_count": 321,
      "outputs": [
        {
          "output_type": "stream",
          "name": "stdout",
          "text": [
            "loss\n"
          ]
        },
        {
          "output_type": "execute_result",
          "data": {
            "text/plain": [
              "2.4218545530249633"
            ]
          },
          "metadata": {},
          "execution_count": 321
        }
      ]
    },
    {
      "cell_type": "code",
      "source": [
        "print('loss (run 2)')\n",
        "abs(h-y.numpy()).mean()"
      ],
      "metadata": {
        "id": "Nlt53EyUKfo-",
        "outputId": "7efba7af-df67-49c5-c1e5-aa01a11fc138",
        "colab": {
          "base_uri": "https://localhost:8080/"
        }
      },
      "execution_count": 328,
      "outputs": [
        {
          "output_type": "stream",
          "name": "stdout",
          "text": [
            "loss\n"
          ]
        },
        {
          "output_type": "execute_result",
          "data": {
            "text/plain": [
              "1.62830132333518"
            ]
          },
          "metadata": {},
          "execution_count": 328
        }
      ]
    },
    {
      "cell_type": "code",
      "source": [
        "print('loss (run 3)')\n",
        "abs(h-y.numpy()).mean()"
      ],
      "metadata": {
        "id": "l0fX5VO5KkoA",
        "outputId": "bcacc131-436f-491c-b961-3aa0a8fb5d7a",
        "colab": {
          "base_uri": "https://localhost:8080/"
        }
      },
      "execution_count": 335,
      "outputs": [
        {
          "output_type": "stream",
          "name": "stdout",
          "text": [
            "loss\n"
          ]
        },
        {
          "output_type": "execute_result",
          "data": {
            "text/plain": [
              "1.3366741901012236"
            ]
          },
          "metadata": {},
          "execution_count": 335
        }
      ]
    },
    {
      "cell_type": "code",
      "source": [
        "print('loss (run 4)')\n",
        "abs(h-y.numpy()).mean()"
      ],
      "metadata": {
        "id": "r9NM3Vc_Krrg",
        "outputId": "85b733b7-88b3-4264-cdfb-548d91d52874",
        "colab": {
          "base_uri": "https://localhost:8080/"
        }
      },
      "execution_count": 342,
      "outputs": [
        {
          "output_type": "stream",
          "name": "stdout",
          "text": [
            "loss (run 4)\n"
          ]
        },
        {
          "output_type": "execute_result",
          "data": {
            "text/plain": [
              "1.1952722920345633"
            ]
          },
          "metadata": {},
          "execution_count": 342
        }
      ]
    },
    {
      "cell_type": "code",
      "source": [
        "print('loss (run 5)')\n",
        "abs(h-y.numpy()).mean()"
      ],
      "metadata": {
        "id": "DCJb3S5pK3Kp",
        "outputId": "abb99a59-7153-4fbc-a064-7845c973e126",
        "colab": {
          "base_uri": "https://localhost:8080/"
        }
      },
      "execution_count": 349,
      "outputs": [
        {
          "output_type": "stream",
          "name": "stdout",
          "text": [
            "loss (run 5)\n"
          ]
        },
        {
          "output_type": "execute_result",
          "data": {
            "text/plain": [
              "1.162005996798109"
            ]
          },
          "metadata": {},
          "execution_count": 349
        }
      ]
    },
    {
      "cell_type": "code",
      "source": [
        "print('loss (run 6)')\n",
        "abs(h-y.numpy()).mean()"
      ],
      "metadata": {
        "id": "Gj1ViRZdLCBr",
        "outputId": "8ebda5b1-fabd-4735-f3bd-d7c75f5fa5c5",
        "colab": {
          "base_uri": "https://localhost:8080/"
        }
      },
      "execution_count": 357,
      "outputs": [
        {
          "output_type": "stream",
          "name": "stdout",
          "text": [
            "loss (run 6)\n"
          ]
        },
        {
          "output_type": "execute_result",
          "data": {
            "text/plain": [
              "1.1494359001950873"
            ]
          },
          "metadata": {},
          "execution_count": 357
        }
      ]
    },
    {
      "cell_type": "code",
      "source": [
        "print('loss (run 7)')\n",
        "abs(h-y.numpy()).mean()"
      ],
      "metadata": {
        "id": "pSIkxMc_LJQo",
        "outputId": "61914085-e414-46b9-cfba-f53f107e842a",
        "colab": {
          "base_uri": "https://localhost:8080/"
        }
      },
      "execution_count": 365,
      "outputs": [
        {
          "output_type": "stream",
          "name": "stdout",
          "text": [
            "loss (run 7)\n"
          ]
        },
        {
          "output_type": "execute_result",
          "data": {
            "text/plain": [
              "1.1386070758413367"
            ]
          },
          "metadata": {},
          "execution_count": 365
        }
      ]
    },
    {
      "cell_type": "code",
      "source": [
        "print('loss (run 8)')\n",
        "abs(h-y.numpy()).mean()"
      ],
      "metadata": {
        "id": "UAVezh3eLTJ_",
        "outputId": "a750ed1c-b98c-484c-ac38-dce184b4a7d6",
        "colab": {
          "base_uri": "https://localhost:8080/"
        }
      },
      "execution_count": 373,
      "outputs": [
        {
          "output_type": "stream",
          "name": "stdout",
          "text": [
            "loss (run 8)\n"
          ]
        },
        {
          "output_type": "execute_result",
          "data": {
            "text/plain": [
              "1.128916631592054"
            ]
          },
          "metadata": {},
          "execution_count": 373
        }
      ]
    },
    {
      "cell_type": "code",
      "source": [
        "X.T.dot(h-y.numpy())"
      ],
      "metadata": {
        "id": "wPbjGAugIPw9",
        "outputId": "33d3ac6e-d66c-4129-fb94-82c3d6489c29",
        "colab": {
          "base_uri": "https://localhost:8080/"
        }
      },
      "execution_count": 366,
      "outputs": [
        {
          "output_type": "execute_result",
          "data": {
            "text/plain": [
              "array([[ 5.02560348],\n",
              "       [-0.45634372],\n",
              "       [-5.65036312]])"
            ]
          },
          "metadata": {},
          "execution_count": 366
        }
      ]
    },
    {
      "cell_type": "code",
      "source": [
        "X.T.dot(h-y.numpy())/len(y)"
      ],
      "metadata": {
        "id": "2d6hs7JxJTo6",
        "outputId": "5b672d01-3675-4d3f-e94e-9b76e929551a",
        "colab": {
          "base_uri": "https://localhost:8080/"
        }
      },
      "execution_count": 367,
      "outputs": [
        {
          "output_type": "execute_result",
          "data": {
            "text/plain": [
              "array([[ 0.25128017],\n",
              "       [-0.02281719],\n",
              "       [-0.28251816]])"
            ]
          },
          "metadata": {},
          "execution_count": 367
        }
      ]
    },
    {
      "cell_type": "code",
      "source": [
        "X.T.dot(h-y.numpy())/len(y)*0.1"
      ],
      "metadata": {
        "id": "KUQETdGWKH34",
        "outputId": "0643b1f9-fc11-40f5-80d9-3a55dfea6a07",
        "colab": {
          "base_uri": "https://localhost:8080/"
        }
      },
      "execution_count": 368,
      "outputs": [
        {
          "output_type": "execute_result",
          "data": {
            "text/plain": [
              "array([[ 0.02512802],\n",
              "       [-0.00228172],\n",
              "       [-0.02825182]])"
            ]
          },
          "metadata": {},
          "execution_count": 368
        }
      ]
    },
    {
      "cell_type": "code",
      "source": [
        "theta = theta -X.T.dot(h-y.numpy())/len(y)*0.1\n",
        "# theta - (alpha/m)*(X.T.dot(h-y))"
      ],
      "metadata": {
        "id": "x-cKwT5aKJqn"
      },
      "execution_count": 369,
      "outputs": []
    },
    {
      "cell_type": "code",
      "source": [
        "theta"
      ],
      "metadata": {
        "id": "lGE-ho3uK7lH",
        "outputId": "3f4abbd0-da75-4275-f692-02aa1575b78d",
        "colab": {
          "base_uri": "https://localhost:8080/"
        }
      },
      "execution_count": 370,
      "outputs": [
        {
          "output_type": "execute_result",
          "data": {
            "text/plain": [
              "array([[1.35760766],\n",
              "       [1.12709715],\n",
              "       [2.41008225]])"
            ]
          },
          "metadata": {},
          "execution_count": 370
        }
      ]
    },
    {
      "cell_type": "code",
      "source": [
        "loss = quad_mae(abc)\n",
        "loss"
      ],
      "metadata": {
        "execution": {
          "iopub.status.busy": "2022-04-22T22:28:41.882498Z",
          "iopub.execute_input": "2022-04-22T22:28:41.882908Z",
          "iopub.status.idle": "2022-04-22T22:28:41.894811Z",
          "shell.execute_reply.started": "2022-04-22T22:28:41.882865Z",
          "shell.execute_reply": "2022-04-22T22:28:41.893828Z"
        },
        "trusted": true,
        "colab": {
          "base_uri": "https://localhost:8080/"
        },
        "id": "xW8vfNYPkhMm",
        "outputId": "c337ced2-5d1f-4306-eeac-c2e5f55e22eb"
      },
      "execution_count": 309,
      "outputs": [
        {
          "output_type": "execute_result",
          "data": {
            "text/plain": [
              "tensor(2.4219, dtype=torch.float64, grad_fn=<MeanBackward0>)"
            ]
          },
          "metadata": {},
          "execution_count": 309
        }
      ]
    },
    {
      "cell_type": "markdown",
      "source": [
        "To get PyTorch to now calculate the gradients, we need to call `backward()`"
      ],
      "metadata": {
        "id": "brz-HCIukhMp"
      }
    },
    {
      "cell_type": "code",
      "source": [
        "loss.backward()"
      ],
      "metadata": {
        "execution": {
          "iopub.status.busy": "2022-04-22T22:28:41.896144Z",
          "iopub.execute_input": "2022-04-22T22:28:41.896493Z",
          "iopub.status.idle": "2022-04-22T22:28:41.914719Z",
          "shell.execute_reply.started": "2022-04-22T22:28:41.896462Z",
          "shell.execute_reply": "2022-04-22T22:28:41.913717Z"
        },
        "trusted": true,
        "id": "i9bzxVg0khMp"
      },
      "execution_count": 310,
      "outputs": []
    },
    {
      "cell_type": "markdown",
      "source": [
        "The gradients will be stored for us in an attribute called `grad`:"
      ],
      "metadata": {
        "id": "oS0ylnAskhMp"
      }
    },
    {
      "cell_type": "code",
      "source": [
        "abc.grad"
      ],
      "metadata": {
        "execution": {
          "iopub.status.busy": "2022-04-22T22:28:41.916372Z",
          "iopub.execute_input": "2022-04-22T22:28:41.91704Z",
          "iopub.status.idle": "2022-04-22T22:28:41.925299Z",
          "shell.execute_reply.started": "2022-04-22T22:28:41.916988Z",
          "shell.execute_reply": "2022-04-22T22:28:41.924407Z"
        },
        "trusted": true,
        "colab": {
          "base_uri": "https://localhost:8080/"
        },
        "id": "dYEnxXZIkhMp",
        "outputId": "7ca74cff-6e68-49ac-a6b7-38a597b925ff"
      },
      "execution_count": 311,
      "outputs": [
        {
          "output_type": "execute_result",
          "data": {
            "text/plain": [
              "tensor([-1.3529, -0.0316, -0.5000])"
            ]
          },
          "metadata": {},
          "execution_count": 311
        }
      ]
    },
    {
      "cell_type": "code",
      "source": [
        "X.T.dot(h-y.numpy())/len(y)/10"
      ],
      "metadata": {
        "id": "yPpJd721J99Z",
        "outputId": "1f1f3361-b97a-48b2-f397-f9140f78d630",
        "colab": {
          "base_uri": "https://localhost:8080/"
        }
      },
      "execution_count": 313,
      "outputs": [
        {
          "output_type": "execute_result",
          "data": {
            "text/plain": [
              "array([[-0.19204687],\n",
              "       [-0.00593873],\n",
              "       [-0.56932926]])"
            ]
          },
          "metadata": {},
          "execution_count": 313
        }
      ]
    },
    {
      "cell_type": "code",
      "source": [],
      "metadata": {
        "id": "PgFQ9W-gJ-5X"
      },
      "execution_count": null,
      "outputs": []
    },
    {
      "cell_type": "markdown",
      "source": [
        "According to these gradients, all our parameters are a little low. So let's increase them a bit. If we subtract the gradient, multiplied by a small number, that should improve them a bit:"
      ],
      "metadata": {
        "id": "u3VCJUS5khMq"
      }
    },
    {
      "cell_type": "code",
      "source": [
        "with torch.no_grad():\n",
        "    abc -= abc.grad*0.01\n",
        "    loss = quad_mae(abc)\n",
        "\n",
        "print(f'loss={loss:.2f}')"
      ],
      "metadata": {
        "execution": {
          "iopub.status.busy": "2022-04-22T22:28:41.927221Z",
          "iopub.execute_input": "2022-04-22T22:28:41.927714Z",
          "iopub.status.idle": "2022-04-22T22:28:41.941471Z",
          "shell.execute_reply.started": "2022-04-22T22:28:41.927665Z",
          "shell.execute_reply": "2022-04-22T22:28:41.940784Z"
        },
        "trusted": true,
        "colab": {
          "base_uri": "https://localhost:8080/"
        },
        "id": "Bq15-pd8khMq",
        "outputId": "84077fcd-5039-46c8-ce32-bf0944cdb082"
      },
      "execution_count": 47,
      "outputs": [
        {
          "output_type": "stream",
          "name": "stdout",
          "text": [
            "loss=2.38\n"
          ]
        }
      ]
    },
    {
      "cell_type": "markdown",
      "source": [
        "Yes, our loss has gone down!\n",
        "\n",
        "The \"small number\" we multiply is called the *learning rate*, and is the most important *hyper-parameter* to set when training a neural network.\n",
        "\n",
        "BTW, you'll see we had to wrap our calculation of the new parameters in `with torch.no_grad()`. That disables the calculation of gradients for any operations inside that context manager. We have to do that, because `abc -= abc.grad*0.01` isn't actually part of our quadratic model, so we don't want derivitives to include that calculation.\n",
        "\n",
        "We can use a loop to do a few more iterations of this:"
      ],
      "metadata": {
        "id": "QS2qrzYnkhMq"
      }
    },
    {
      "cell_type": "code",
      "source": [
        "for i in range(10):\n",
        "    loss = quad_mae(abc)\n",
        "    loss.backward()\n",
        "    with torch.no_grad(): abc -= abc.grad*0.01\n",
        "    print(f'step={i}; loss={loss:.2f}')"
      ],
      "metadata": {
        "execution": {
          "iopub.status.busy": "2022-04-22T22:28:41.942822Z",
          "iopub.execute_input": "2022-04-22T22:28:41.943242Z",
          "iopub.status.idle": "2022-04-22T22:28:41.968186Z",
          "shell.execute_reply.started": "2022-04-22T22:28:41.943202Z",
          "shell.execute_reply": "2022-04-22T22:28:41.967081Z"
        },
        "trusted": true,
        "colab": {
          "base_uri": "https://localhost:8080/"
        },
        "id": "A7Qa4_BokhMq",
        "outputId": "65aafb05-59df-4e0b-ede0-6fcc53799c43"
      },
      "execution_count": 48,
      "outputs": [
        {
          "output_type": "stream",
          "name": "stdout",
          "text": [
            "step=0; loss=2.38\n",
            "step=1; loss=2.34\n",
            "step=2; loss=2.28\n",
            "step=3; loss=2.19\n",
            "step=4; loss=2.09\n",
            "step=5; loss=1.96\n",
            "step=6; loss=1.84\n",
            "step=7; loss=1.70\n",
            "step=8; loss=1.57\n",
            "step=9; loss=1.45\n"
          ]
        }
      ]
    },
    {
      "cell_type": "markdown",
      "source": [
        "As you can see, our loss keeps going down!\n",
        "\n",
        "If you keep running this loop for long enough however, you'll see that the loss eventually starts increasing for a while. That's because once the parameters get close to the correct answer, our parameter updates will jump right over the correct answer! To avoid this, we need to decrease our learning rate as we train. This is done using a *learning rate schedule*, and can be automated in most deep learning frameworks, such as fastai and PyTorch."
      ],
      "metadata": {
        "id": "GpyQBO-KkhMq"
      }
    },
    {
      "cell_type": "markdown",
      "source": [
        "## How a neural network approximates any given function"
      ],
      "metadata": {
        "id": "mrtA-yrEkhMq"
      }
    },
    {
      "cell_type": "markdown",
      "source": [
        "But neural nets are much more convenient and powerful than this example showed, because we can learn much more than just a quadratic with them. How does *that* work?\n",
        "\n",
        "The trick is that a neural network is a very expressive function. In fact -- it's [infinitely expressive](https://en.wikipedia.org/wiki/Universal_approximation_theorem). A neural network can approximate any computable function, given enough parameters. A \"computable function\" can cover just about anything you can imagine: understand and translate human speech; paint a picture; diagnose a disease from medical imaging; write an essay; etc...\n",
        "\n",
        "The way a neural network approximates a function actually turns out to be very simple. The key trick is to combine two extremely basic steps:\n",
        "\n",
        "1. Matrix multiplication, which is just multiplying things together and then adding them up\n",
        "1. The function $max(x,0)$, which simply replaces all negative numbers with zero.\n",
        "\n",
        "In PyTorch, the function $max(x,0)$ is written as `np.clip(x,0)`. The combination of a linear function and this *max()* is called a *rectified linear function*, and it can be implemented like this:"
      ],
      "metadata": {
        "id": "j_0ljv27khMq"
      }
    },
    {
      "cell_type": "code",
      "source": [
        "def rectified_linear(m,b,x):\n",
        "    y = m*x+b\n",
        "    return torch.clip(y, 0.)"
      ],
      "metadata": {
        "execution": {
          "iopub.status.busy": "2022-04-22T22:28:41.970051Z",
          "iopub.execute_input": "2022-04-22T22:28:41.970814Z",
          "iopub.status.idle": "2022-04-22T22:28:41.976113Z",
          "shell.execute_reply.started": "2022-04-22T22:28:41.970763Z",
          "shell.execute_reply": "2022-04-22T22:28:41.975338Z"
        },
        "trusted": true,
        "id": "_y9Nda5UkhMq"
      },
      "execution_count": 49,
      "outputs": []
    },
    {
      "cell_type": "markdown",
      "source": [
        "Here's what it looks like:"
      ],
      "metadata": {
        "id": "iDxjea-skhMq"
      }
    },
    {
      "cell_type": "code",
      "source": [
        "plot_function(partial(rectified_linear, 1,1))"
      ],
      "metadata": {
        "execution": {
          "iopub.status.busy": "2022-04-22T22:28:41.977336Z",
          "iopub.execute_input": "2022-04-22T22:28:41.978052Z",
          "iopub.status.idle": "2022-04-22T22:28:42.197682Z",
          "shell.execute_reply.started": "2022-04-22T22:28:41.978012Z",
          "shell.execute_reply": "2022-04-22T22:28:42.196709Z"
        },
        "trusted": true,
        "colab": {
          "base_uri": "https://localhost:8080/",
          "height": 389
        },
        "id": "QnY7A1JFkhMq",
        "outputId": "cc3c9dcf-e0e2-4bd4-da8d-1712397c124e"
      },
      "execution_count": 50,
      "outputs": [
        {
          "output_type": "display_data",
          "data": {
            "text/plain": [
              "<Figure size 576x432 with 1 Axes>"
            ],
            "image/png": "[encoded data removed]"
          },
          "metadata": {}
        }
      ]
    },
    {
      "cell_type": "markdown",
      "source": [
        "BTW, instead of `torch.clip(y, 0.)`, we can instead use `F.relu(x)`, which does exactly the same thing. In PyTorch, `F` refers to the `torch.nn.functional` module."
      ],
      "metadata": {
        "id": "lHMUfl5nkhMq"
      }
    },
    {
      "cell_type": "code",
      "source": [
        "import torch.nn.functional as F\n",
        "def rectified_linear2(m,b,x): return F.relu(m*x+b)\n",
        "plot_function(partial(rectified_linear2, 1,1))"
      ],
      "metadata": {
        "execution": {
          "iopub.status.busy": "2022-04-22T22:28:42.199561Z",
          "iopub.execute_input": "2022-04-22T22:28:42.200133Z",
          "iopub.status.idle": "2022-04-22T22:28:42.40433Z",
          "shell.execute_reply.started": "2022-04-22T22:28:42.200083Z",
          "shell.execute_reply": "2022-04-22T22:28:42.403323Z"
        },
        "trusted": true,
        "colab": {
          "base_uri": "https://localhost:8080/",
          "height": 389
        },
        "id": "dwPrcf9tkhMq",
        "outputId": "1e0835c7-e0a0-4a49-fd15-004beded2e0b"
      },
      "execution_count": 51,
      "outputs": [
        {
          "output_type": "display_data",
          "data": {
            "text/plain": [
              "<Figure size 576x432 with 1 Axes>"
            ],
            "image/png": "[encoded data removed]"
          },
          "metadata": {}
        }
      ]
    },
    {
      "cell_type": "markdown",
      "source": [
        "To understand how this function works, try using this interactive version to play around with the parameters `m` and `b`:"
      ],
      "metadata": {
        "id": "YL48ncUYkhMq"
      }
    },
    {
      "cell_type": "code",
      "source": [
        "@interact(m=1.5, b=1.5)\n",
        "def plot_relu(m, b):\n",
        "    plot_function(partial(rectified_linear, m,b), ylim=(-1,4))"
      ],
      "metadata": {
        "execution": {
          "iopub.status.busy": "2022-04-22T22:28:42.405808Z",
          "iopub.execute_input": "2022-04-22T22:28:42.406108Z",
          "iopub.status.idle": "2022-04-22T22:28:42.61219Z",
          "shell.execute_reply.started": "2022-04-22T22:28:42.406071Z",
          "shell.execute_reply": "2022-04-22T22:28:42.61144Z"
        },
        "trusted": true,
        "colab": {
          "base_uri": "https://localhost:8080/",
          "height": 458,
          "referenced_widgets": [
            "3dbdf3b0170a4bdeb6bd7fbbd6de9ec1",
            "821aa290fc4f417d95b9ca8fe9c8ddc3",
            "b9023fb0dc574ece8dee5e5014a6fd97",
            "3aabc9a62ba44afa8b761db9d54125f3",
            "1dd204b4480140868ff164da9646462a",
            "5965c3ed43c84da8b4b140fa24296dec",
            "17460aabe9874bcaa79eae173b99e55a",
            "d8044716d95b4c66bcba8901caef037b",
            "b6929b61847c4adabe7deb8bdc91ffb7",
            "d41211ce788646ab981cb8571801aeee"
          ]
        },
        "id": "IYys7n_dkhMq",
        "outputId": "42d9c298-ef53-4733-aa64-e26601be2aaf"
      },
      "execution_count": 52,
      "outputs": [
        {
          "output_type": "display_data",
          "data": {
            "text/plain": [
              "interactive(children=(FloatSlider(value=1.5, description='m', max=4.5, min=-1.5), FloatSlider(value=1.5, descr…"
            ],
            "application/vnd.jupyter.widget-view+json": {
              "version_major": 2,
              "version_minor": 0,
              "model_id": "3dbdf3b0170a4bdeb6bd7fbbd6de9ec1"
            }
          },
          "metadata": {}
        }
      ]
    },
    {
      "cell_type": "markdown",
      "source": [
        "As you see, `m` changes the slope, and `b` changes where the \"hook\" appears. This function doesn't do much on its own, but look what happens when we add two of them together:"
      ],
      "metadata": {
        "id": "raaMsH16khMq"
      }
    },
    {
      "cell_type": "code",
      "source": [
        "def double_relu(m1,b1,m2,b2,x):\n",
        "    return rectified_linear(m1,b1,x) + rectified_linear(m2,b2,x)\n",
        "\n",
        "@interact(m1=-1.5, b1=-1.5, m2=1.5, b2=1.5)\n",
        "def plot_double_relu(m1, b1, m2, b2):\n",
        "    plot_function(partial(double_relu, m1,b1,m2,b2), ylim=(-1,6))"
      ],
      "metadata": {
        "execution": {
          "iopub.status.busy": "2022-04-22T22:28:42.613745Z",
          "iopub.execute_input": "2022-04-22T22:28:42.614042Z",
          "iopub.status.idle": "2022-04-22T22:28:42.851224Z",
          "shell.execute_reply.started": "2022-04-22T22:28:42.614007Z",
          "shell.execute_reply": "2022-04-22T22:28:42.85035Z"
        },
        "trusted": true,
        "colab": {
          "base_uri": "https://localhost:8080/",
          "height": 522,
          "referenced_widgets": [
            "03ac3097130d4366b7d0636295b98eed",
            "fa4552cdacc9410b8ba32f2b471b640e",
            "c3ddb90209c54f20a63f53272bc2026f",
            "626c8090f57e4faeb48094743038ba1c",
            "6bfde82ab08e41ff9f3b1a3f151c855e",
            "bdb3046bb0c24defb527827fa6c55f8d",
            "952305c62c09453aaa87a919af1f520d",
            "a979b9700d12454986f6f66d5aa4166e",
            "d8cbc3a36db94c2bb031d54527cf55fe",
            "3d4d180ba66843029beb878104fc2667",
            "aed5503f3d2d4b44a7406410ae958333",
            "9f69e0137a9f4baeb2de8788f6408af5",
            "7be92a5c91ca4b83a017f7c189336d86",
            "431f48f04c6e4721a59b550049b19e26",
            "9588f1cfabc440ab96c5cac381ca0db4",
            "6bdaa2ff38c04b4aaf5d04f1cd152e16"
          ]
        },
        "id": "vhh5FIhlkhMq",
        "outputId": "350e6567-b788-443e-f2ef-fad7bf8bb1ac"
      },
      "execution_count": 53,
      "outputs": [
        {
          "output_type": "display_data",
          "data": {
            "text/plain": [
              "interactive(children=(FloatSlider(value=-1.5, description='m1', max=1.5, min=-4.5), FloatSlider(value=-1.5, de…"
            ],
            "application/vnd.jupyter.widget-view+json": {
              "version_major": 2,
              "version_minor": 0,
              "model_id": "03ac3097130d4366b7d0636295b98eed"
            }
          },
          "metadata": {}
        }
      ]
    },
    {
      "cell_type": "markdown",
      "source": [
        "If you play around with that for a while, you notice something quite profound: with enough of these rectified linear functions added together, you could approximate any function with a single input, to whatever accuracy you like! Any time the function doesn't quite match, you can just add a few more additions to the mix to make it a bit closer. As an experiment, perhaps you'd like to try creating your own `plot_triple_relu` interactive function, and maybe even include the scatter plot of our data from before, to see how close you can get?\n",
        "\n",
        "This exact same approach can be expanded to functions of 2, 3, or more parameters."
      ],
      "metadata": {
        "id": "YJduAUZikhMq"
      }
    },
    {
      "cell_type": "code",
      "source": [],
      "metadata": {
        "id": "WHrEGVSNkhMr"
      },
      "execution_count": null,
      "outputs": []
    }
  ]
}