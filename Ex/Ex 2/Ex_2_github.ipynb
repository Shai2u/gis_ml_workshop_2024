{
 "cells": [
  {
   "cell_type": "markdown",
   "metadata": {},
   "source": [
    "<img src='../../images/course_logo_2024.jpg'/>"
   ]
  },
  {
   "cell_type": "markdown",
   "metadata": {},
   "source": [
    "<div dir=\"rtl\">\n",
    "    <h1 style=\"text-align: center;\"> תירגול 2 חלק 1.עבודה עם גיט וגיטהאב</h1>\n",
    "    <h1 style=\"text-align: center;\"> Ex 2 part 1. Git/GitHub</h1>\n",
    "</div>"
   ]
  },
  {
   "cell_type": "markdown",
   "metadata": {},
   "source": [
    "# Exercise outline\n",
    "1. Git - why?\n",
    "2. Git/Github - how?\n",
    "3. Git braches and merge\n",
    "4. Git and visual stuido code\n",
    "5. git push and pull"
   ]
  },
  {
   "cell_type": "markdown",
   "metadata": {},
   "source": [
    "# Git Why?\n",
    "\n",
    "[Slides](https://docs.google.com/presentation/d/1c2BsCqPqAkTMsIbUP-w7acMZ6FYTGpN-rVLNUek4yxM/edit?usp=sharing)"
   ]
  },
  {
   "cell_type": "markdown",
   "metadata": {},
   "source": [
    "1. Backup your work\n",
    "2. Avoid double management\n",
    "3. Document changes\n",
    "4. Enable experimentation without messing around a stable verison\n",
    "5. (GitHub) Centralize backup\n",
    "6. (GitHub) Collaborative work\n",
    "7. Code review\n",
    "8. Invite experts"
   ]
  },
  {
   "cell_type": "markdown",
   "metadata": {},
   "source": [
    "# Git How?"
   ]
  },
  {
   "cell_type": "markdown",
   "metadata": {},
   "source": [
    "<img src='../../images/git_how.png'/>\n",
    "\n",
    "<h3>Staging</h3>\n",
    "<img src='../../images/stage.jpeg'/>\n",
    "<br/>\n",
    "<h3>Committing</h3>\n",
    "<img src='../../images/commiting.jpg'/>\n",
    "\n",
    "\n",
    "**Create a git repository**\n",
    "\n",
    "Open git bash in a new folder\n",
    "\n",
    "`git init`\n",
    "\n",
    "This inialized an empty git repository in your folder\n",
    "\n",
    "**Add your first change to the \"stage\"**\n",
    "\n",
    "Create a new text file - for example hello.txt, in the text file write \"world\", you can use git bash to do this in one line\n",
    "\n",
    "1. `echo \"world\" > hello.txt`\n",
    "\n",
    "Check the status of git\n",
    "\n",
    "2. `git status`\n",
    "\n",
    "you should get a message like this:\n",
    "\n",
    "```\n",
    "On branch main\n",
    "\n",
    "No commits yet\n",
    "\n",
    "Untracked files:\n",
    "  (use \"git add <file>...\" to include in what will be committed)\n",
    "\thello.txt\n",
    "\n",
    "nothing added to commit but untracked files present (use \"git add\" to track)\n",
    "```\n",
    "\n",
    "Now we will add files to the stage\n",
    "\n",
    "3. `git add hello.txt`\n",
    "\n",
    "let's check the status now\n",
    "\n",
    "4. `git status`\n",
    "\n",
    "You should see a message like this:\n",
    "\n",
    "```\n",
    "On branch main\n",
    "\n",
    "No commits yet\n",
    "\n",
    "Changes to be committed:\n",
    "  (use \"git rm --cached <file>...\" to unstage)\n",
    "\tnew file:   hello.txt\n",
    "```\n",
    "\n",
    "**git commit**\n",
    "\n",
    "`git commit -m \"my first commit\"`\n",
    "\n",
    "**See log**\n",
    "\n",
    "`git log`"
   ]
  },
  {
   "cell_type": "markdown",
   "metadata": {},
   "source": [
    "## Github\n",
    "\n",
    "1. create a new repostiroy in github\n",
    "2. open git bash\n",
    "3. `git clone \"git@github.com:Shai2u/NAME_OF_REPO.git\"`\n",
    "4. `cd NAME_OF_REPO`\n",
    "\n",
    "5. type the following commands in git bash\n",
    "```\n",
    "echo \"# helloWorld\" >> README.md\n",
    "git add README.md\n",
    "git commit -m \"first commit\"\n",
    "git branch -M main\n",
    "git push -u origin main\n",
    "```\n"
   ]
  },
  {
   "cell_type": "markdown",
   "metadata": {},
   "source": [
    "## Pull and rebase\n",
    "\n",
    "pulls the latest version from git and if no conflict are found fast forward to the latest commit\n",
    "\n",
    "`git pull -r`"
   ]
  },
  {
   "cell_type": "markdown",
   "metadata": {},
   "source": [
    "## Branches oy vey\n",
    "\n",
    "1. Distinguish between development and stable version\n",
    "2. Try out different ideas, experiment\n",
    "3. Parallel development\n"
   ]
  },
  {
   "cell_type": "markdown",
   "metadata": {},
   "source": [
    "## Scnearion 1 - Side development in a side branch and than merge\n",
    "\n",
    "**create a new brach**\n",
    "\n",
    "`create branch new_feature`\n",
    "\n",
    "**switch branch**\n",
    "\n",
    "`git branch new_feature`\n",
    "\n",
    "\n",
    "**Add Change**\n",
    "`echo \"# helloWorld123\" >> README123.md`\n",
    "\n",
    "`git add README123.md`\n",
    "\n",
    "`git commit -m \"added new file\"`\n",
    "\n",
    "**Push new branch first time**\n",
    "`git push --set-upstream origin new_feature`\n",
    "\n",
    "**switch to main**\n",
    "`git switch main`\n",
    "\n",
    "**Merge new_feature to main**\n",
    "`git merge new_feature`\n",
    "\n",
    "```\n",
    "Updating 1277c64..3e461db\n",
    "Fast-forward\n",
    " README123.md | 1 +\n",
    " 1 file changed, 1 insertion(+)\n",
    " create mode 100644 README123.md\n",
    "```\n",
    "\n",
    "**push changes to github**\n",
    "`git push origin`\n",
    "\n",
    "**see changes in log**\n",
    "`git log`\n"
   ]
  },
  {
   "cell_type": "markdown",
   "metadata": {},
   "source": [
    "# Git in Visual Stuido Code vs Terminal\n",
    "\n",
    "**Create a change**\n",
    "<img src='../../images/git_1_detect_changes.png'/>\n",
    "<br/>\n",
    "**Add files to stage**\n",
    "<img src='../../images/git_2_add_to_stage.png'/>\n",
    "\n",
    "**Commit changes**\n",
    "<img src='../../images/git_3_commit_changes.png'/>\n",
    "\n",
    "**Push change**\n",
    "<img src='../../images/git_4_push_changes.png'/>\n",
    "\n",
    "**Create branch**\n",
    "<img src='../../images/git_5_create_new_branch.png'/>\n",
    "\n",
    "<img src='../../images/git_6_name_new_branch.png'/>\n",
    "\n",
    "**Switch branch**\n",
    "<img src='../../images/git_7_switch_branch.png'/>\n",
    "\n"
   ]
  },
  {
   "cell_type": "code",
   "execution_count": null,
   "metadata": {},
   "outputs": [],
   "source": []
  },
  {
   "cell_type": "code",
   "execution_count": null,
   "metadata": {},
   "outputs": [],
   "source": []
  },
  {
   "cell_type": "code",
   "execution_count": null,
   "metadata": {},
   "outputs": [],
   "source": []
  },
  {
   "cell_type": "code",
   "execution_count": null,
   "metadata": {},
   "outputs": [],
   "source": []
  },
  {
   "cell_type": "markdown",
   "metadata": {},
   "source": []
  },
  {
   "cell_type": "code",
   "execution_count": null,
   "metadata": {},
   "outputs": [],
   "source": []
  }
 ],
 "metadata": {
  "kernelspec": {
   "display_name": "Python fastai",
   "language": "python",
   "name": "fastai"
  },
  "language_info": {
   "codemirror_mode": {
    "name": "ipython",
    "version": 3
   },
   "file_extension": ".py",
   "mimetype": "text/x-python",
   "name": "python",
   "nbconvert_exporter": "python",
   "pygments_lexer": "ipython3",
   "version": "3.11.5"
  }
 },
 "nbformat": 4,
 "nbformat_minor": 4
}
